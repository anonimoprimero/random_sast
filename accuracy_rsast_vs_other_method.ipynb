{
 "cells": [
  {
   "attachments": {},
   "cell_type": "markdown",
   "metadata": {},
   "source": [
    "### Experiments: Comparing RSAST with SAST Ridge, HIVE-COTE, ROCKET, TS-CHIEF"
   ]
  },
  {
   "cell_type": "code",
   "execution_count": 1,
   "metadata": {},
   "outputs": [
    {
     "name": "stderr",
     "output_type": "stream",
     "text": [
      "/home/nirojasvar/anaconda3/envs/rsast_env/lib/python3.10/site-packages/mass_ts/_mass_ts.py:17: UserWarning: GPU support will not work. You must pip install mass-ts[gpu].\n",
      "  warnings.warn(\n"
     ]
    }
   ],
   "source": [
    "from sast.sast import *\n",
    "from sktime.datasets import load_UCR_UEA_dataset, tsc_dataset_names\n",
    "from sktime.classification.kernel_based import RocketClassifier\n",
    "import time\n",
    "import pandas as pd\n",
    "from sktime.transformations.panel.shapelet_transform import ShapeletTransform\n",
    "from cd_diagram.cd_function import *\n"
   ]
  },
  {
   "cell_type": "code",
   "execution_count": 2,
   "metadata": {},
   "outputs": [
    {
     "name": "stdout",
     "output_type": "stream",
     "text": [
      "['Chinatown']\n",
      "1\n"
     ]
    }
   ],
   "source": [
    "ds_sens = tsc_dataset_names.univariate_equal_length\n",
    "#ds_sens = ['ACSF1', 'Adiac', 'ArrowHead', 'Beef', 'BeetleFly', 'BirdChicken', 'BME', 'Car', 'CBF', 'Chinatown', 'ChlorineConcentration', 'CinCECGTorso', 'Coffee']\n",
    "ds_sens = ['Chinatown']\n",
    "max_ds=len(ds_sens) #exploring dataset in UEA & UCR Time Series Classification Repository\n",
    "#print(ds_sens)\n",
    "print(ds_sens)\n",
    "print(max_ds)\n"
   ]
  },
  {
   "cell_type": "code",
   "execution_count": 3,
   "metadata": {},
   "outputs": [
    {
     "name": "stdout",
     "output_type": "stream",
     "text": [
      "ds=Chinatown\n",
      "RSAST ACF&PACF: n_random_points=1 nb_inst_per_class=10\n",
      "RSAST Max PACF: n_random_points=1 nb_inst_per_class=10\n",
      "ROCKET: kernels=10_000\n"
     ]
    }
   ],
   "source": [
    "runs = 1\n",
    "#list\n",
    "not_found_ds =[]\n",
    "df_result = {}\n",
    "list_score = []\n",
    "list_time = []\n",
    "list_dataset = []\n",
    "list_hyperparameter = []\n",
    "list_method = []\n",
    "list_rpoint = []\n",
    "list_nb_per_class = []\n",
    "\n",
    "\n",
    "for ds in ds_sens:\n",
    "    \n",
    "    try:\n",
    "        \n",
    "        X_train, y_train = load_UCR_UEA_dataset(name=ds, extract_path='data', split=\"train\", return_type=\"numpy2d\")\n",
    "        X_test, y_test = load_UCR_UEA_dataset(name=ds, extract_path='data', split=\"test\", return_type=\"numpy2d\")\n",
    "        print(\"ds=\"+ds)\n",
    "    except:\n",
    "        print(\"not found ds=\"+ds)\n",
    "        not_found_ds.append(ds)\n",
    "        continue\n",
    "\n",
    "    for i in range(runs):\n",
    "        \n",
    "        p=1\n",
    "        k=10\n",
    "        print(\"RSAST ACF&PACF: n_random_points=\"+str(p)+\" nb_inst_per_class=\"+str(k))\n",
    "        start = time.time()\n",
    "        random_state = None\n",
    "        rsast_ridge = RSAST(n_random_points=p,nb_inst_per_class=k, len_method=\"both\", classifier=RidgeClassifierCV())\n",
    "        rsast_ridge.fit(X_train, y_train)\n",
    "        end = time.time()\n",
    "        list_score.append(rsast_ridge.score(X_test,y_test))\n",
    "        list_time.append(end-start)\n",
    "        list_dataset.append(ds)\n",
    "        list_hyperparameter.append(\"ACF&PACF: n_random_points=\"+str(p)+\" nb_inst_per_class=\"+str(k))\n",
    "        list_rpoint.append(str(p))\n",
    "        list_nb_per_class.append(str(k))\n",
    "        list_method.append(\"ACF&PACF: Rsast\")\n",
    "        \n",
    "        \n",
    "        p=1\n",
    "        k=10\n",
    "        print(\"RSAST Max PACF: n_random_points=\"+str(p)+\" nb_inst_per_class=\"+str(k))\n",
    "        start = time.time()\n",
    "        random_state = None\n",
    "        rsast_ridge = RSAST(n_random_points=p,nb_inst_per_class=k, len_method=\"Max PACF\", classifier=RidgeClassifierCV())\n",
    "        rsast_ridge.fit(X_train, y_train)\n",
    "        end = time.time()\n",
    "        list_score.append(rsast_ridge.score(X_test,y_test))\n",
    "        list_time.append(end-start)\n",
    "        list_dataset.append(ds)\n",
    "        list_hyperparameter.append(\"Max PACF: n_random_points=\"+str(p)+\" nb_inst_per_class=\"+str(k))\n",
    "        list_rpoint.append(str(p))\n",
    "        list_nb_per_class.append(str(k))\n",
    "        list_method.append(\"Max PACF: Rsast\")\n",
    "        \n",
    "        print(\"ROCKET: kernels=10_000\")\n",
    "        start = time.time()\n",
    "        rocket= RocketClassifier(num_kernels=10_000)\n",
    "        rocket.fit(X_train,y_train)\n",
    "        end = time.time()\n",
    "        list_score.append(rocket.score(X_test,y_test))\n",
    "        list_time.append(end-start)\n",
    "        list_dataset.append(ds)\n",
    "        list_hyperparameter.append(\"num_kernels=10_000\")\n",
    "        list_rpoint.append(str(0))\n",
    "        list_nb_per_class.append(str(0))\n",
    "        list_method.append(\"Rocket\")\n",
    "        '''\n",
    "        min_shp_length = 3\n",
    "        print(\"STC: min_shapelet_length=\"+str(min_shp_length)+\" max_shapelet_length=\"+str(np.inf))\n",
    "        \n",
    "        max_shp_length = X_train.shape[1]\n",
    "        start = time.time()\n",
    "        #Creating a ShapeletTransform and fitting\n",
    "        st = ShapeletTransform(min_shapelet_length=min_shp_length, max_shapelet_length=np.inf)\n",
    "        X_train_sktime = from_2d_array_to_nested(pd.DataFrame(X_train))\n",
    "        X_test_sktime = from_2d_array_to_nested(pd.DataFrame(X_test))\n",
    "        st.fit(X_train_sktime, y_train)\n",
    "        #Making the tranformation of time series and training a RandomForestClassifier model\n",
    "        X_test_transformed = st.transform(X_test_sktime)\n",
    "        X_train_transformed = st.transform(X_train_sktime)\n",
    "        clf = RandomForestClassifier()\n",
    "        clf.fit(X_train_transformed, y_train)\n",
    "        \n",
    "        end = time.time()\n",
    "        list_score.append(clf.score(X_test_transformed, y_test))\n",
    "        list_time.append(end-start)\n",
    "        list_dataset.append(ds)\n",
    "        list_hyperparameter.append(\"min_shapelet_length=\"+str(min_shp_length)+\" max_shapelet_length=\"+str(max_shp_length))\n",
    "        list_rpoint.append(str(0))\n",
    "        list_nb_per_class.append(str(0))\n",
    "        list_method.append(\"STC\")  \n",
    "        '''\n",
    "        '''\n",
    "        min_shp_length = 3\n",
    "        max_shp_length = X_train.shape[1]\n",
    "        print(\"STC: min_shapelet_length=\"+str(min_shp_length)+\" max_shapelet_length=\"+str(X_train.shape[1]))\n",
    "        start = time.time()\n",
    "        \n",
    "        candidate_lengths = np.arange(min_shp_length, max_shp_length+1)\n",
    "        random_state = None\n",
    "        sast_ridge = SAST(cand_length_list=candidate_lengths,\n",
    "                                nb_inst_per_class=1, \n",
    "                                random_state=random_state, classifier=RidgeClassifierCV())\n",
    "        sast_ridge.fit(X_train, y_train)\n",
    "        end = time.time()    \n",
    "        list_score.append(sast_ridge.score(X_test, y_test))\n",
    "        list_time.append(end-start)\n",
    "        list_dataset.append(ds)\n",
    "        list_hyperparameter.append(\"min_shapelet_length=\"+str(min_shp_length)+\" max_shapelet_length=\"+str(max_shp_length))\n",
    "        list_rpoint.append(str(0))\n",
    "        list_nb_per_class.append(str(0))\n",
    "        list_method.append(\"SAST\")  \n",
    "        '''\n",
    "        \n",
    " \n",
    "\n",
    "df_result['accuracy']=list_score\n",
    "df_result['time']=list_time\n",
    "df_result['dataset_name']=list_dataset\n",
    "df_result['hyperparameter']=list_hyperparameter\n",
    "df_result['rpoint']=list_rpoint\n",
    "df_result['nb_per_class']=list_nb_per_class\n",
    "df_result['classifier_name']=list_method\n",
    "df_result=pd.DataFrame(df_result)\n",
    "# export a overall dataset with the comparison\n",
    "df_result.to_csv(\"df_overall_comparison_results.csv\")"
   ]
  },
  {
   "cell_type": "code",
   "execution_count": 4,
   "metadata": {},
   "outputs": [
    {
     "data": {
      "text/plain": [
       "Index(['Unnamed: 0', 'accuracy', 'time', 'dataset_name', 'hyperparameter',\n",
       "       'rpoint', 'nb_per_class', 'classifier_name'],\n",
       "      dtype='object')"
      ]
     },
     "execution_count": 4,
     "metadata": {},
     "output_type": "execute_result"
    }
   ],
   "source": [
    "df_result=pd.read_csv(\"df_overall_comparison_results.csv\")\n",
    "df_result.columns"
   ]
  },
  {
   "cell_type": "code",
   "execution_count": 5,
   "metadata": {},
   "outputs": [
    {
     "data": {
      "text/html": [
       "<div>\n",
       "<style scoped>\n",
       "    .dataframe tbody tr th:only-of-type {\n",
       "        vertical-align: middle;\n",
       "    }\n",
       "\n",
       "    .dataframe tbody tr th {\n",
       "        vertical-align: top;\n",
       "    }\n",
       "\n",
       "    .dataframe thead th {\n",
       "        text-align: right;\n",
       "    }\n",
       "</style>\n",
       "<table border=\"1\" class=\"dataframe\">\n",
       "  <thead>\n",
       "    <tr style=\"text-align: right;\">\n",
       "      <th></th>\n",
       "      <th>dataset_name</th>\n",
       "      <th>Chinatown</th>\n",
       "    </tr>\n",
       "    <tr>\n",
       "      <th>classifier_name</th>\n",
       "      <th>hyperparameter</th>\n",
       "      <th></th>\n",
       "    </tr>\n",
       "  </thead>\n",
       "  <tbody>\n",
       "    <tr>\n",
       "      <th>ACF&amp;PACF: Rsast</th>\n",
       "      <th>ACF&amp;PACF: n_random_points=1 nb_inst_per_class=10</th>\n",
       "      <td>0.935860</td>\n",
       "    </tr>\n",
       "    <tr>\n",
       "      <th>Max PACF: Rsast</th>\n",
       "      <th>Max PACF: n_random_points=1 nb_inst_per_class=10</th>\n",
       "      <td>0.909621</td>\n",
       "    </tr>\n",
       "    <tr>\n",
       "      <th>Rocket</th>\n",
       "      <th>num_kernels=10_000</th>\n",
       "      <td>0.982507</td>\n",
       "    </tr>\n",
       "  </tbody>\n",
       "</table>\n",
       "</div>"
      ],
      "text/plain": [
       "dataset_name                                                      Chinatown\n",
       "classifier_name hyperparameter                                             \n",
       "ACF&PACF: Rsast ACF&PACF: n_random_points=1 nb_inst_per_class=10   0.935860\n",
       "Max PACF: Rsast Max PACF: n_random_points=1 nb_inst_per_class=10   0.909621\n",
       "Rocket          num_kernels=10_000                                 0.982507"
      ]
     },
     "execution_count": 5,
     "metadata": {},
     "output_type": "execute_result"
    }
   ],
   "source": [
    "# create a pivot table with the mean of score by hyperparameter\n",
    "pd.pivot_table(df_result, values='accuracy', index=['classifier_name','hyperparameter'],columns=['dataset_name'], aggfunc='mean')"
   ]
  },
  {
   "cell_type": "code",
   "execution_count": 6,
   "metadata": {},
   "outputs": [
    {
     "data": {
      "text/html": [
       "<div>\n",
       "<style scoped>\n",
       "    .dataframe tbody tr th:only-of-type {\n",
       "        vertical-align: middle;\n",
       "    }\n",
       "\n",
       "    .dataframe tbody tr th {\n",
       "        vertical-align: top;\n",
       "    }\n",
       "\n",
       "    .dataframe thead th {\n",
       "        text-align: right;\n",
       "    }\n",
       "</style>\n",
       "<table border=\"1\" class=\"dataframe\">\n",
       "  <thead>\n",
       "    <tr style=\"text-align: right;\">\n",
       "      <th></th>\n",
       "      <th>dataset_name</th>\n",
       "    </tr>\n",
       "    <tr>\n",
       "      <th>classifier_name</th>\n",
       "      <th>hyperparameter</th>\n",
       "    </tr>\n",
       "  </thead>\n",
       "  <tbody>\n",
       "  </tbody>\n",
       "</table>\n",
       "</div>"
      ],
      "text/plain": [
       "Empty DataFrame\n",
       "Columns: []\n",
       "Index: []"
      ]
     },
     "execution_count": 6,
     "metadata": {},
     "output_type": "execute_result"
    }
   ],
   "source": [
    "# create a pivot table with the variatioon of score by hyperparameter\n",
    "pd.pivot_table(df_result, values='accuracy', index=['classifier_name','hyperparameter'],columns=['dataset_name'], aggfunc='var')\n"
   ]
  },
  {
   "cell_type": "code",
   "execution_count": 7,
   "metadata": {},
   "outputs": [
    {
     "data": {
      "text/html": [
       "<div>\n",
       "<style scoped>\n",
       "    .dataframe tbody tr th:only-of-type {\n",
       "        vertical-align: middle;\n",
       "    }\n",
       "\n",
       "    .dataframe tbody tr th {\n",
       "        vertical-align: top;\n",
       "    }\n",
       "\n",
       "    .dataframe thead th {\n",
       "        text-align: right;\n",
       "    }\n",
       "</style>\n",
       "<table border=\"1\" class=\"dataframe\">\n",
       "  <thead>\n",
       "    <tr style=\"text-align: right;\">\n",
       "      <th></th>\n",
       "      <th>Unnamed: 0</th>\n",
       "      <th>accuracy</th>\n",
       "      <th>time</th>\n",
       "      <th>dataset_name</th>\n",
       "      <th>hyperparameter</th>\n",
       "      <th>rpoint</th>\n",
       "      <th>nb_per_class</th>\n",
       "      <th>classifier_name</th>\n",
       "    </tr>\n",
       "  </thead>\n",
       "  <tbody>\n",
       "    <tr>\n",
       "      <th>0</th>\n",
       "      <td>0</td>\n",
       "      <td>0.935860</td>\n",
       "      <td>3.461048</td>\n",
       "      <td>Chinatown</td>\n",
       "      <td>ACF&amp;PACF: n_random_points=1 nb_inst_per_class=10</td>\n",
       "      <td>1</td>\n",
       "      <td>10</td>\n",
       "      <td>ACF&amp;PACF: Rsast</td>\n",
       "    </tr>\n",
       "    <tr>\n",
       "      <th>1</th>\n",
       "      <td>1</td>\n",
       "      <td>0.909621</td>\n",
       "      <td>0.083317</td>\n",
       "      <td>Chinatown</td>\n",
       "      <td>Max PACF: n_random_points=1 nb_inst_per_class=10</td>\n",
       "      <td>1</td>\n",
       "      <td>10</td>\n",
       "      <td>Max PACF: Rsast</td>\n",
       "    </tr>\n",
       "    <tr>\n",
       "      <th>2</th>\n",
       "      <td>2</td>\n",
       "      <td>0.982507</td>\n",
       "      <td>0.364558</td>\n",
       "      <td>Chinatown</td>\n",
       "      <td>num_kernels=10_000</td>\n",
       "      <td>0</td>\n",
       "      <td>0</td>\n",
       "      <td>Rocket</td>\n",
       "    </tr>\n",
       "  </tbody>\n",
       "</table>\n",
       "</div>"
      ],
      "text/plain": [
       "   Unnamed: 0  accuracy      time dataset_name  \\\n",
       "0           0  0.935860  3.461048    Chinatown   \n",
       "1           1  0.909621  0.083317    Chinatown   \n",
       "2           2  0.982507  0.364558    Chinatown   \n",
       "\n",
       "                                     hyperparameter  rpoint  nb_per_class  \\\n",
       "0  ACF&PACF: n_random_points=1 nb_inst_per_class=10       1            10   \n",
       "1  Max PACF: n_random_points=1 nb_inst_per_class=10       1            10   \n",
       "2                                num_kernels=10_000       0             0   \n",
       "\n",
       "   classifier_name  \n",
       "0  ACF&PACF: Rsast  \n",
       "1  Max PACF: Rsast  \n",
       "2           Rocket  "
      ]
     },
     "execution_count": 7,
     "metadata": {},
     "output_type": "execute_result"
    }
   ],
   "source": [
    "df_result"
   ]
  },
  {
   "cell_type": "code",
   "execution_count": 8,
   "metadata": {},
   "outputs": [
    {
     "data": {
      "text/html": [
       "<div>\n",
       "<style scoped>\n",
       "    .dataframe tbody tr th:only-of-type {\n",
       "        vertical-align: middle;\n",
       "    }\n",
       "\n",
       "    .dataframe tbody tr th {\n",
       "        vertical-align: top;\n",
       "    }\n",
       "\n",
       "    .dataframe thead th {\n",
       "        text-align: right;\n",
       "    }\n",
       "</style>\n",
       "<table border=\"1\" class=\"dataframe\">\n",
       "  <thead>\n",
       "    <tr style=\"text-align: right;\">\n",
       "      <th></th>\n",
       "      <th>dataset_name</th>\n",
       "      <th>Chinatown</th>\n",
       "    </tr>\n",
       "    <tr>\n",
       "      <th>classifier_name</th>\n",
       "      <th>hyperparameter</th>\n",
       "      <th></th>\n",
       "    </tr>\n",
       "  </thead>\n",
       "  <tbody>\n",
       "    <tr>\n",
       "      <th>ACF&amp;PACF: Rsast</th>\n",
       "      <th>ACF&amp;PACF: n_random_points=1 nb_inst_per_class=10</th>\n",
       "      <td>3.461048</td>\n",
       "    </tr>\n",
       "    <tr>\n",
       "      <th>Max PACF: Rsast</th>\n",
       "      <th>Max PACF: n_random_points=1 nb_inst_per_class=10</th>\n",
       "      <td>0.083317</td>\n",
       "    </tr>\n",
       "    <tr>\n",
       "      <th>Rocket</th>\n",
       "      <th>num_kernels=10_000</th>\n",
       "      <td>0.364558</td>\n",
       "    </tr>\n",
       "  </tbody>\n",
       "</table>\n",
       "</div>"
      ],
      "text/plain": [
       "dataset_name                                                      Chinatown\n",
       "classifier_name hyperparameter                                             \n",
       "ACF&PACF: Rsast ACF&PACF: n_random_points=1 nb_inst_per_class=10   3.461048\n",
       "Max PACF: Rsast Max PACF: n_random_points=1 nb_inst_per_class=10   0.083317\n",
       "Rocket          num_kernels=10_000                                 0.364558"
      ]
     },
     "execution_count": 8,
     "metadata": {},
     "output_type": "execute_result"
    }
   ],
   "source": [
    "# create a pivot table with the mean of time spent in minutes\n",
    "\n",
    "pd.pivot_table(df_result, values='time', index=['classifier_name','hyperparameter'],columns=['dataset_name'], aggfunc='mean')"
   ]
  },
  {
   "cell_type": "code",
   "execution_count": null,
   "metadata": {},
   "outputs": [],
   "source": [
    "df_perf=pd.pivot_table(df_result, values='accuracy', index=['classifier_name','dataset_name'], aggfunc='mean')\n",
    "df_perf=df_perf.reset_index()\n",
    "draw_cd_diagram(df_perf, labels=True, title=\"Overall comparison\", name_file='cd-diagram_comparison_other_methods.png')\n",
    "_, average_ranks, _ = wilcoxon_holm(df_perf=df_perf)\n",
    "min_rank= min(average_ranks)\n",
    "average_ranks=pd.DataFrame(average_ranks)"
   ]
  },
  {
   "cell_type": "code",
   "execution_count": 13,
   "metadata": {},
   "outputs": [
    {
     "data": {
      "text/html": [
       "<div>\n",
       "<style scoped>\n",
       "    .dataframe tbody tr th:only-of-type {\n",
       "        vertical-align: middle;\n",
       "    }\n",
       "\n",
       "    .dataframe tbody tr th {\n",
       "        vertical-align: top;\n",
       "    }\n",
       "\n",
       "    .dataframe thead th {\n",
       "        text-align: right;\n",
       "    }\n",
       "</style>\n",
       "<table border=\"1\" class=\"dataframe\">\n",
       "  <thead>\n",
       "    <tr style=\"text-align: right;\">\n",
       "      <th></th>\n",
       "      <th>0</th>\n",
       "    </tr>\n",
       "  </thead>\n",
       "  <tbody>\n",
       "    <tr>\n",
       "      <th>Max PACF: Rsast</th>\n",
       "      <td>3.0</td>\n",
       "    </tr>\n",
       "    <tr>\n",
       "      <th>ACF&amp;PACF: Rsast</th>\n",
       "      <td>2.0</td>\n",
       "    </tr>\n",
       "    <tr>\n",
       "      <th>Rocket</th>\n",
       "      <td>1.0</td>\n",
       "    </tr>\n",
       "  </tbody>\n",
       "</table>\n",
       "</div>"
      ],
      "text/plain": [
       "                   0\n",
       "Max PACF: Rsast  3.0\n",
       "ACF&PACF: Rsast  2.0\n",
       "Rocket           1.0"
      ]
     },
     "execution_count": 13,
     "metadata": {},
     "output_type": "execute_result"
    }
   ],
   "source": [
    "average_ranks"
   ]
  }
 ],
 "metadata": {
  "kernelspec": {
   "display_name": "Python 3 (ipykernel)",
   "language": "python",
   "name": "python3"
  },
  "language_info": {
   "codemirror_mode": {
    "name": "ipython",
    "version": 3
   },
   "file_extension": ".py",
   "mimetype": "text/x-python",
   "name": "python",
   "nbconvert_exporter": "python",
   "pygments_lexer": "ipython3",
   "version": "3.10.9"
  },
  "vscode": {
   "interpreter": {
    "hash": "ad2bdc8ecc057115af97d19610ffacc2b4e99fae6737bb82f5d7fb13d2f2c186"
   }
  }
 },
 "nbformat": 4,
 "nbformat_minor": 2
}
