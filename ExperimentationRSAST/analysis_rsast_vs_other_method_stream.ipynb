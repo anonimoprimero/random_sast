{
 "cells": [
  {
   "attachments": {},
   "cell_type": "markdown",
   "metadata": {},
   "source": [
    "### Experiments: Comparing RSAST with SAST Ridge, HIVE-COTE, ROCKET, TS-CHIEF"
   ]
  },
  {
   "cell_type": "code",
   "execution_count": 1,
   "metadata": {},
   "outputs": [
    {
     "data": {
      "text/plain": [
       "['c:\\\\Users\\\\Public\\\\random_sast\\\\ExperimentationRSAST',\n",
       " 'c:\\\\ProgramData\\\\Anaconda3\\\\python39.zip',\n",
       " 'c:\\\\ProgramData\\\\Anaconda3\\\\DLLs',\n",
       " 'c:\\\\ProgramData\\\\Anaconda3\\\\lib',\n",
       " 'c:\\\\ProgramData\\\\Anaconda3',\n",
       " '',\n",
       " 'C:\\\\Users\\\\Nicolas R\\\\AppData\\\\Roaming\\\\Python\\\\Python39\\\\site-packages',\n",
       " 'c:\\\\ProgramData\\\\Anaconda3\\\\lib\\\\site-packages',\n",
       " 'c:\\\\ProgramData\\\\Anaconda3\\\\lib\\\\site-packages\\\\win32',\n",
       " 'c:\\\\ProgramData\\\\Anaconda3\\\\lib\\\\site-packages\\\\win32\\\\lib',\n",
       " 'c:\\\\ProgramData\\\\Anaconda3\\\\lib\\\\site-packages\\\\Pythonwin',\n",
       " 'c:\\\\ProgramData\\\\Anaconda3\\\\lib\\\\site-packages\\\\IPython\\\\extensions',\n",
       " 'C:\\\\Users\\\\Nicolas R\\\\.ipython',\n",
       " 'c:\\\\Users\\\\Public\\\\random_sast/sast',\n",
       " 'c:\\\\Users\\\\Public\\\\random_sast\\\\sast',\n",
       " 'c:\\\\Users\\\\Public\\\\random_sast\\\\ExperimentationRSAST/sast',\n",
       " 'c:\\\\Users\\\\Public\\\\random_sast\\\\ExperimentationRSAST\\\\sast',\n",
       " 'c:\\\\Users\\\\Public\\\\random_sast\\\\cd_diagram',\n",
       " 'c:\\\\Users\\\\Public\\\\random_sast/cd_diagram',\n",
       " 'c:\\\\Users\\\\Public\\\\random_sast\\\\ExperimentationRSAST\\\\cd_diagram',\n",
       " 'c:\\\\Users\\\\Public\\\\random_sast\\\\ExperimentationRSAST/cd_diagram']"
      ]
     },
     "execution_count": 1,
     "metadata": {},
     "output_type": "execute_result"
    }
   ],
   "source": [
    "import sys \n",
    "import os \n",
    "#add sast library path\n",
    "file_path = os.path.dirname(os.getcwd())+\"/sast\"\n",
    "\n",
    "#file_path = r\"C:\\Users\\Public\\random_sast\\sast\"\n",
    "sys.path.append(file_path)\n",
    "\n",
    "file_path = os.path.dirname(os.getcwd())+\"\\sast\"\n",
    "\n",
    "\n",
    "#file_path = r\"C:\\Users\\Public\\random_sast\\sast\"\n",
    "sys.path.append(file_path)\n",
    "\n",
    "file_path = os.getcwd()+\"/sast\"\n",
    "\n",
    "\n",
    "#file_path = r\"C:\\Users\\Public\\random_sast\\sast\"\n",
    "sys.path.append(file_path)\n",
    "\n",
    "file_path = os.getcwd()+\"\\sast\"\n",
    "\n",
    "\n",
    "#file_path = r\"C:\\Users\\Public\\random_sast\\sast\"\n",
    "sys.path.append(file_path)\n",
    "\n",
    "#add cd_diagram library path\n",
    "file_path = os.path.dirname(os.getcwd())+\"\\cd_diagram\"\n",
    "\n",
    "#file_path = r\"C:\\Users\\Public\\random_sast\\cd_diagram\"\n",
    "sys.path.append(file_path)\n",
    "\n",
    "\n",
    "file_path = os.path.dirname(os.getcwd())+\"/cd_diagram\"\n",
    "#file_path = r\"C:\\Users\\Public\\random_sast\\sast\"\n",
    "sys.path.append(file_path)\n",
    "\n",
    "file_path = os.getcwd()+\"\\cd_diagram\"\n",
    "#file_path = r\"C:\\Users\\Public\\random_sast\\sast\"\n",
    "sys.path.append(file_path)\n",
    "\n",
    "file_path = os.getcwd()+\"/cd_diagram\"\n",
    "#file_path = r\"C:\\Users\\Public\\random_sast\\sast\"\n",
    "sys.path.append(file_path)\n",
    "\n",
    "sys.path\n",
    "\n"
   ]
  },
  {
   "cell_type": "code",
   "execution_count": 5,
   "metadata": {},
   "outputs": [
    {
     "ename": "ImportError",
     "evalue": "cannot import name 'znormalize_array' from partially initialized module 'sast' (most likely due to a circular import) (c:\\Users\\Public\\random_sast/sast\\sast.py)",
     "output_type": "error",
     "traceback": [
      "\u001b[1;31m---------------------------------------------------------------------------\u001b[0m",
      "\u001b[1;31mImportError\u001b[0m                               Traceback (most recent call last)",
      "\u001b[1;32m~\\AppData\\Local\\Temp\\ipykernel_14124\\2194349795.py\u001b[0m in \u001b[0;36m<module>\u001b[1;34m\u001b[0m\n\u001b[1;32m----> 1\u001b[1;33m \u001b[1;32mfrom\u001b[0m \u001b[0msast\u001b[0m \u001b[1;32mimport\u001b[0m \u001b[1;33m*\u001b[0m\u001b[1;33m\u001b[0m\u001b[1;33m\u001b[0m\u001b[0m\n\u001b[0m\u001b[0;32m      2\u001b[0m \u001b[1;32mfrom\u001b[0m \u001b[0msktime\u001b[0m\u001b[1;33m.\u001b[0m\u001b[0mdatasets\u001b[0m \u001b[1;32mimport\u001b[0m \u001b[0mload_UCR_UEA_dataset\u001b[0m\u001b[1;33m,\u001b[0m \u001b[0mtsc_dataset_names\u001b[0m\u001b[1;33m\u001b[0m\u001b[1;33m\u001b[0m\u001b[0m\n\u001b[0;32m      3\u001b[0m \u001b[1;32mfrom\u001b[0m \u001b[0msktime\u001b[0m\u001b[1;33m.\u001b[0m\u001b[0mclassification\u001b[0m\u001b[1;33m.\u001b[0m\u001b[0mkernel_based\u001b[0m \u001b[1;32mimport\u001b[0m \u001b[0mRocketClassifier\u001b[0m\u001b[1;33m\u001b[0m\u001b[1;33m\u001b[0m\u001b[0m\n\u001b[0;32m      4\u001b[0m \u001b[1;32mimport\u001b[0m \u001b[0mtime\u001b[0m\u001b[1;33m\u001b[0m\u001b[1;33m\u001b[0m\u001b[0m\n\u001b[0;32m      5\u001b[0m \u001b[1;32mimport\u001b[0m \u001b[0mpandas\u001b[0m \u001b[1;32mas\u001b[0m \u001b[0mpd\u001b[0m\u001b[1;33m\u001b[0m\u001b[1;33m\u001b[0m\u001b[0m\n",
      "\u001b[1;32mc:\\Users\\Public\\random_sast/sast\\sast.py\u001b[0m in \u001b[0;36m<module>\u001b[1;34m\u001b[0m\n\u001b[0;32m     32\u001b[0m \u001b[1;32mimport\u001b[0m \u001b[0mwarnings\u001b[0m\u001b[1;33m\u001b[0m\u001b[1;33m\u001b[0m\u001b[0m\n\u001b[0;32m     33\u001b[0m \u001b[1;32mimport\u001b[0m \u001b[0mtime\u001b[0m\u001b[1;33m\u001b[0m\u001b[1;33m\u001b[0m\u001b[0m\n\u001b[1;32m---> 34\u001b[1;33m \u001b[1;32mfrom\u001b[0m \u001b[0mutils_sast\u001b[0m \u001b[1;32mimport\u001b[0m \u001b[0mplot_most_important_feature_on_ts\u001b[0m\u001b[1;33m\u001b[0m\u001b[1;33m\u001b[0m\u001b[0m\n\u001b[0m\u001b[0;32m     35\u001b[0m \u001b[1;32mimport\u001b[0m \u001b[0mos\u001b[0m\u001b[1;33m\u001b[0m\u001b[1;33m\u001b[0m\u001b[0m\n\u001b[0;32m     36\u001b[0m \u001b[1;33m\u001b[0m\u001b[0m\n",
      "\u001b[1;32mc:\\Users\\Public\\random_sast/sast\\utils_sast.py\u001b[0m in \u001b[0;36m<module>\u001b[1;34m\u001b[0m\n\u001b[0;32m      5\u001b[0m \u001b[1;32mimport\u001b[0m \u001b[0mmatplotlib\u001b[0m\u001b[1;33m.\u001b[0m\u001b[0mpyplot\u001b[0m \u001b[1;32mas\u001b[0m \u001b[0mplt\u001b[0m\u001b[1;33m\u001b[0m\u001b[1;33m\u001b[0m\u001b[0m\n\u001b[0;32m      6\u001b[0m \u001b[1;32mfrom\u001b[0m \u001b[0mscipy\u001b[0m\u001b[1;33m.\u001b[0m\u001b[0mio\u001b[0m\u001b[1;33m.\u001b[0m\u001b[0marff\u001b[0m \u001b[1;32mimport\u001b[0m \u001b[0mloadarff\u001b[0m\u001b[1;33m\u001b[0m\u001b[1;33m\u001b[0m\u001b[0m\n\u001b[1;32m----> 7\u001b[1;33m \u001b[1;32mfrom\u001b[0m \u001b[0msast\u001b[0m \u001b[1;32mimport\u001b[0m \u001b[0mznormalize_array\u001b[0m\u001b[1;33m\u001b[0m\u001b[1;33m\u001b[0m\u001b[0m\n\u001b[0m\u001b[0;32m      8\u001b[0m \u001b[1;33m\u001b[0m\u001b[0m\n\u001b[0;32m      9\u001b[0m \u001b[1;32mdef\u001b[0m \u001b[0mload_arff_2_dataframe\u001b[0m\u001b[1;33m(\u001b[0m\u001b[0mfname\u001b[0m\u001b[1;33m)\u001b[0m\u001b[1;33m:\u001b[0m\u001b[1;33m\u001b[0m\u001b[1;33m\u001b[0m\u001b[0m\n",
      "\u001b[1;31mImportError\u001b[0m: cannot import name 'znormalize_array' from partially initialized module 'sast' (most likely due to a circular import) (c:\\Users\\Public\\random_sast/sast\\sast.py)"
     ]
    }
   ],
   "source": [
    "\n",
    "from sast import *\n",
    "from sktime.datasets import load_UCR_UEA_dataset, tsc_dataset_names\n",
    "from sktime.classification.kernel_based import RocketClassifier\n",
    "import time\n",
    "import pandas as pd\n",
    "from sktime.transformations.panel.shapelet_transform import ShapeletTransform\n",
    "\n"
   ]
  },
  {
   "cell_type": "code",
   "execution_count": null,
   "metadata": {},
   "outputs": [
    {
     "name": "stdout",
     "output_type": "stream",
     "text": [
      "1\n",
      "['Fungi']\n"
     ]
    }
   ],
   "source": [
    "ds_sens = tsc_dataset_names.univariate_equal_length\n",
    "\n",
    "ds = pd.read_excel(\"DataSetsUCLASummary.xlsx\")\n",
    "ds = ds[ds[\"USED SAST\"]==\"Y\"]\n",
    "#ds = ds[ds[\"USED RSAST ADA\"].isna()]\n",
    "\n",
    "#ds_sens = ['ACSF1', 'Adiac', 'ArrowHead', 'Beef', 'BeetleFly', 'BirdChicken', 'BME', 'Car', 'CBF', 'Chinatown', 'ChlorineConcentration', 'CinCECGTorso', 'Coffee']\n",
    "\n",
    "ds_sens = ds.Name.unique()\n",
    "ds_sens =  ['Fungi']\n",
    "max_ds=len(ds_sens) #exploring dataset in UEA & UCR Time Series Classification Repository\n",
    "print(max_ds)\n",
    "print(ds_sens)\n"
   ]
  },
  {
   "cell_type": "code",
   "execution_count": 4,
   "metadata": {},
   "outputs": [
    {
     "name": "stdout",
     "output_type": "stream",
     "text": [
      "ds=Fungi\n",
      "ACF&PACF: n_random_points= (lenthg ts)//2 nb_inst_per_class=1\n"
     ]
    },
    {
     "name": "stderr",
     "output_type": "stream",
     "text": [
      "c:\\ProgramData\\Anaconda3\\lib\\site-packages\\scipy\\stats\\_stats_py.py:3877: DegenerateDataWarning: all input arrays have length 1.  f_oneway requires that at least one input has length greater than 1.\n",
      "  warnings.warn(stats.DegenerateDataWarning(msg))\n"
     ]
    },
    {
     "name": "stdout",
     "output_type": "stream",
     "text": [
      "RidgeClassifierCV:size training18<= kernels42300\n",
      "ROCKET: kernels=10_000\n",
      "SAST: min_shapelet_length=3 max_shapelet_length=201\n"
     ]
    }
   ],
   "source": [
    "#define numbers of runs of the experiment\n",
    "runs = 1\n",
    "\n",
    "not_found_ds =[]\n",
    "df_result = {}\n",
    "list_score = []\n",
    "list_time = []\n",
    "list_dataset = []\n",
    "list_hyperparameter = []\n",
    "list_method = []\n",
    "list_rpoint = []\n",
    "list_nb_per_class = []\n",
    "\n",
    "\n",
    "for ds in ds_sens:\n",
    "    \n",
    "    try:\n",
    "        \n",
    "        X_train, y_train = load_UCR_UEA_dataset(name=ds, extract_path='data', split=\"train\", return_type=\"numpy2d\")\n",
    "        X_test, y_test = load_UCR_UEA_dataset(name=ds, extract_path='data', split=\"test\", return_type=\"numpy2d\")\n",
    "        print(\"ds=\"+ds)\n",
    "    except:\n",
    "        print(\"not found ds=\"+ds)\n",
    "        not_found_ds.append(ds)\n",
    "        continue\n",
    "\n",
    "    for i in range(runs):\n",
    "        \n",
    "        \n",
    "        k=1\n",
    "        \n",
    "        print(\"ACF&PACF: n_random_points= (lenthg ts)//2\"+\" nb_inst_per_class=\"+str(k))\n",
    "        start = time.time()\n",
    "        random_state = None\n",
    "        rsast_ridge = RSAST(half_len=True,nb_inst_per_class=k, len_method=\"both\")\n",
    "        rsast_ridge.fit(X_train, y_train)\n",
    "        end = time.time()\n",
    "        list_score.append(rsast_ridge.score(X_test,y_test))\n",
    "\n",
    "        list_time.append(end-start)\n",
    "        list_dataset.append(ds)\n",
    "        list_hyperparameter.append(\"ACF&PACF: n_random_points= (lenthg ts)//2\"+\" nb_inst_per_class=\"+str(k))\n",
    "        list_rpoint.append(\"(lenthg ts)//2\")\n",
    "        list_nb_per_class.append(str(k))\n",
    "        list_method.append(\"Rsast\")\n",
    "\n",
    "        \n",
    "        '''\n",
    "        p=1\n",
    "        k=10\n",
    "        print(\"RSAST Max PACF: n_random_points=\"+str(p)+\" nb_inst_per_class=\"+str(k))\n",
    "        start = time.time()\n",
    "        random_state = None\n",
    "        rsast_ridge = RSAST(n_random_points=p,nb_inst_per_class=k, len_method=\"Max PACF\", classifier=RidgeClassifierCV())\n",
    "        rsast_ridge.fit(X_train, y_train)\n",
    "        end = time.time()\n",
    "        list_score.append(rsast_ridge.score(X_test,y_test))\n",
    "        list_time.append(end-start)\n",
    "        list_dataset.append(ds)\n",
    "        list_hyperparameter.append(\"Max PACF: n_random_points=\"+str(p)+\" nb_inst_per_class=\"+str(k))\n",
    "        list_rpoint.append(str(p))\n",
    "        list_nb_per_class.append(str(k))\n",
    "        list_method.append(\"Max PACF: Rsast\")\n",
    "        '''\n",
    "        print(\"ROCKET: kernels=10_000\")\n",
    "        start = time.time()\n",
    "        rocket= RocketClassifier(num_kernels=10_000)\n",
    "        rocket.fit(X_train,y_train)\n",
    "        end = time.time()\n",
    "        list_score.append(rocket.score(X_test,y_test))\n",
    "        list_time.append(end-start)\n",
    "        list_dataset.append(ds)\n",
    "        list_hyperparameter.append(\"num_kernels=10_000\")\n",
    "        list_rpoint.append(str(0))\n",
    "        list_nb_per_class.append(str(0))\n",
    "        list_method.append(\"Rocket\")\n",
    "        \n",
    "        '''\n",
    "        min_shp_length = 3\n",
    "        print(\"STC: min_shapelet_length=\"+str(min_shp_length)+\" max_shapelet_length=\"+str(np.inf))\n",
    "        \n",
    "        max_shp_length = X_train.shape[1]\n",
    "        start = time.time()\n",
    "        #Creating a ShapeletTransform and fitting\n",
    "        st = ShapeletTransform(min_shapelet_length=min_shp_length, max_shapelet_length=np.inf)\n",
    "        X_train_sktime = from_2d_array_to_nested(pd.DataFrame(X_train))\n",
    "        X_test_sktime = from_2d_array_to_nested(pd.DataFrame(X_test))\n",
    "        st.fit(X_train_sktime, y_train)\n",
    "        #Making the tranformation of time series and training a RandomForestClassifier model\n",
    "        X_test_transformed = st.transform(X_test_sktime)\n",
    "        X_train_transformed = st.transform(X_train_sktime)\n",
    "        clf = RandomForestClassifier()\n",
    "        clf.fit(X_train_transformed, y_train)\n",
    "        \n",
    "        end = time.time()\n",
    "        list_score.append(clf.score(X_test_transformed, y_test))\n",
    "        list_time.append(end-start)\n",
    "        list_dataset.append(ds)\n",
    "        list_hyperparameter.append(\"min_shapelet_length=\"+str(min_shp_length)+\" max_shapelet_length=\"+str(max_shp_length))\n",
    "        list_rpoint.append(str(0))\n",
    "        list_nb_per_class.append(str(0))\n",
    "        list_method.append(\"STC\")  \n",
    "        '''\n",
    "        '''\n",
    "        min_shp_length = 3\n",
    "        max_shp_length = X_train.shape[1]\n",
    "        print(\"SAST: min_shapelet_length=\"+str(min_shp_length)+\" max_shapelet_length=\"+str(X_train.shape[1]))\n",
    "        start = time.time()\n",
    "        \n",
    "        candidate_lengths = np.arange(min_shp_length, max_shp_length+1)\n",
    "        random_state = None\n",
    "        sast_ridge = SAST(cand_length_list=candidate_lengths,\n",
    "                                nb_inst_per_class=1, \n",
    "                                random_state=random_state, classifier=RidgeClassifierCV())\n",
    "        sast_ridge.fit(X_train, y_train)\n",
    "        end = time.time()    \n",
    "        list_score.append(sast_ridge.score(X_test, y_test))\n",
    "        list_time.append(end-start)\n",
    "        list_dataset.append(ds)\n",
    "        list_hyperparameter.append(\"min_shapelet_length=\"+str(min_shp_length)+\" max_shapelet_length=\"+str(max_shp_length))\n",
    "        list_rpoint.append(str(0))\n",
    "        list_nb_per_class.append(str(0))\n",
    "        list_method.append(\"SAST\")  \n",
    "        '''\n",
    "\n",
    "df_result['accuracy']=list_score\n",
    "df_result['time']=list_time\n",
    "df_result['dataset_name']=list_dataset\n",
    "df_result['hyperparameter']=list_hyperparameter\n",
    "df_result['rpoint']=list_rpoint\n",
    "df_result['nb_per_class']=list_nb_per_class\n",
    "df_result['classifier_name']=list_method\n",
    "df_result=pd.DataFrame(df_result)\n",
    "# export a overall dataset with the comparison\n",
    "df_result.to_csv(\"results_comparison_accuracy/df_overall_comparison_results.csv\")"
   ]
  },
  {
   "cell_type": "code",
   "execution_count": 5,
   "metadata": {},
   "outputs": [
    {
     "data": {
      "text/plain": [
       "Index(['Unnamed: 0', 'accuracy', 'time', 'dataset_name', 'hyperparameter',\n",
       "       'rpoint', 'nb_per_class', 'classifier_name'],\n",
       "      dtype='object')"
      ]
     },
     "execution_count": 5,
     "metadata": {},
     "output_type": "execute_result"
    }
   ],
   "source": [
    "df_result=pd.read_csv(\"results_comparison_accuracy/df_overall_comparison_results.csv\")\n",
    "df_result.columns"
   ]
  },
  {
   "cell_type": "code",
   "execution_count": 6,
   "metadata": {},
   "outputs": [
    {
     "data": {
      "text/html": [
       "<div>\n",
       "<style scoped>\n",
       "    .dataframe tbody tr th:only-of-type {\n",
       "        vertical-align: middle;\n",
       "    }\n",
       "\n",
       "    .dataframe tbody tr th {\n",
       "        vertical-align: top;\n",
       "    }\n",
       "\n",
       "    .dataframe thead tr th {\n",
       "        text-align: left;\n",
       "    }\n",
       "\n",
       "    .dataframe thead tr:last-of-type th {\n",
       "        text-align: right;\n",
       "    }\n",
       "</style>\n",
       "<table border=\"1\" class=\"dataframe\">\n",
       "  <thead>\n",
       "    <tr>\n",
       "      <th></th>\n",
       "      <th>time</th>\n",
       "    </tr>\n",
       "    <tr>\n",
       "      <th>dataset_name</th>\n",
       "      <th>Fungi</th>\n",
       "    </tr>\n",
       "    <tr>\n",
       "      <th>classifier_name</th>\n",
       "      <th></th>\n",
       "    </tr>\n",
       "  </thead>\n",
       "  <tbody>\n",
       "    <tr>\n",
       "      <th>Rocket</th>\n",
       "      <td>8.870232</td>\n",
       "    </tr>\n",
       "    <tr>\n",
       "      <th>Rsast</th>\n",
       "      <td>40.274075</td>\n",
       "    </tr>\n",
       "    <tr>\n",
       "      <th>SAST</th>\n",
       "      <td>252.556121</td>\n",
       "    </tr>\n",
       "  </tbody>\n",
       "</table>\n",
       "</div>"
      ],
      "text/plain": [
       "                       time\n",
       "dataset_name          Fungi\n",
       "classifier_name            \n",
       "Rocket             8.870232\n",
       "Rsast             40.274075\n",
       "SAST             252.556121"
      ]
     },
     "execution_count": 6,
     "metadata": {},
     "output_type": "execute_result"
    }
   ],
   "source": [
    "pd.pivot_table(df_result, values=['time'], index=['classifier_name'],columns=['dataset_name'], aggfunc='mean')"
   ]
  },
  {
   "cell_type": "code",
   "execution_count": 7,
   "metadata": {},
   "outputs": [
    {
     "data": {
      "text/html": [
       "<div>\n",
       "<style scoped>\n",
       "    .dataframe tbody tr th:only-of-type {\n",
       "        vertical-align: middle;\n",
       "    }\n",
       "\n",
       "    .dataframe tbody tr th {\n",
       "        vertical-align: top;\n",
       "    }\n",
       "\n",
       "    .dataframe thead tr th {\n",
       "        text-align: left;\n",
       "    }\n",
       "\n",
       "    .dataframe thead tr:last-of-type th {\n",
       "        text-align: right;\n",
       "    }\n",
       "</style>\n",
       "<table border=\"1\" class=\"dataframe\">\n",
       "  <thead>\n",
       "    <tr>\n",
       "      <th></th>\n",
       "      <th>accuracy</th>\n",
       "    </tr>\n",
       "    <tr>\n",
       "      <th>dataset_name</th>\n",
       "      <th>Fungi</th>\n",
       "    </tr>\n",
       "    <tr>\n",
       "      <th>classifier_name</th>\n",
       "      <th></th>\n",
       "    </tr>\n",
       "  </thead>\n",
       "  <tbody>\n",
       "    <tr>\n",
       "      <th>Rocket</th>\n",
       "      <td>1.000000</td>\n",
       "    </tr>\n",
       "    <tr>\n",
       "      <th>Rsast</th>\n",
       "      <td>1.000000</td>\n",
       "    </tr>\n",
       "    <tr>\n",
       "      <th>SAST</th>\n",
       "      <td>0.897849</td>\n",
       "    </tr>\n",
       "  </tbody>\n",
       "</table>\n",
       "</div>"
      ],
      "text/plain": [
       "                 accuracy\n",
       "dataset_name        Fungi\n",
       "classifier_name          \n",
       "Rocket           1.000000\n",
       "Rsast            1.000000\n",
       "SAST             0.897849"
      ]
     },
     "execution_count": 7,
     "metadata": {},
     "output_type": "execute_result"
    }
   ],
   "source": [
    "df_pivot=pd.pivot_table(df_result, values='accuracy', index=['classifier_name','dataset_name'], aggfunc='mean')\n",
    "df_pivot=df_pivot.reset_index()\n",
    "pd.pivot_table(df_pivot, values=['accuracy'], index=['classifier_name'],columns=['dataset_name'], aggfunc='mean')"
   ]
  },
  {
   "cell_type": "code",
   "execution_count": 8,
   "metadata": {},
   "outputs": [
    {
     "name": "stdout",
     "output_type": "stream",
     "text": [
      "the null hypothesis over the entire classifiers cannot be rejected\n"
     ]
    },
    {
     "name": "stderr",
     "output_type": "stream",
     "text": [
      "c:\\ProgramData\\Anaconda3\\lib\\site-packages\\scipy\\stats\\_morestats.py:3255: UserWarning: Exact p-value calculation does not work if there are zeros. Switching to normal approximation.\n",
      "  warnings.warn(\"Exact p-value calculation does not work if there are \"\n"
     ]
    },
    {
     "ename": "ValueError",
     "evalue": "zero_method 'wilcox' and 'pratt' do not work if x - y is zero for all elements.",
     "output_type": "error",
     "traceback": [
      "\u001b[1;31m---------------------------------------------------------------------------\u001b[0m",
      "\u001b[1;31mValueError\u001b[0m                                Traceback (most recent call last)",
      "\u001b[1;32m~\\AppData\\Local\\Temp\\ipykernel_13468\\2433635776.py\u001b[0m in \u001b[0;36m<module>\u001b[1;34m\u001b[0m\n\u001b[0;32m      2\u001b[0m \u001b[1;33m\u001b[0m\u001b[0m\n\u001b[0;32m      3\u001b[0m \u001b[1;31m#generate hyperparameter tuning cd diagrams\u001b[0m\u001b[1;33m\u001b[0m\u001b[1;33m\u001b[0m\u001b[0m\n\u001b[1;32m----> 4\u001b[1;33m \u001b[0mdraw_cd_diagram\u001b[0m\u001b[1;33m(\u001b[0m\u001b[0mdf_pivot\u001b[0m\u001b[1;33m,\u001b[0m \u001b[0mlabels\u001b[0m\u001b[1;33m=\u001b[0m\u001b[1;32mTrue\u001b[0m\u001b[1;33m,\u001b[0m \u001b[0mtitle\u001b[0m\u001b[1;33m=\u001b[0m\u001b[1;34m\"RSAST vs other methods\"\u001b[0m\u001b[1;33m,\u001b[0m \u001b[0mname_file\u001b[0m\u001b[1;33m=\u001b[0m\u001b[1;34m'images_cd_diagram/cd-diagram_overall_comparison_other_method2.png'\u001b[0m\u001b[1;33m)\u001b[0m\u001b[1;33m\u001b[0m\u001b[1;33m\u001b[0m\u001b[0m\n\u001b[0m",
      "\u001b[1;32mc:\\Users\\Public\\random_sast\\cd_diagram\\cd_function.py\u001b[0m in \u001b[0;36mdraw_cd_diagram\u001b[1;34m(df_perf, alpha, title, labels, name_file)\u001b[0m\n\u001b[0;32m    279\u001b[0m     \u001b[0msignificant\u001b[0m \u001b[1;32mor\u001b[0m \u001b[1;32mnot\u001b[0m\u001b[1;33m\u001b[0m\u001b[1;33m\u001b[0m\u001b[0m\n\u001b[0;32m    280\u001b[0m     \"\"\"\n\u001b[1;32m--> 281\u001b[1;33m     \u001b[0mp_values\u001b[0m\u001b[1;33m,\u001b[0m \u001b[0maverage_ranks\u001b[0m\u001b[1;33m,\u001b[0m \u001b[0m_\u001b[0m \u001b[1;33m=\u001b[0m \u001b[0mwilcoxon_holm\u001b[0m\u001b[1;33m(\u001b[0m\u001b[0mdf_perf\u001b[0m\u001b[1;33m=\u001b[0m\u001b[0mdf_perf\u001b[0m\u001b[1;33m,\u001b[0m \u001b[0malpha\u001b[0m\u001b[1;33m=\u001b[0m\u001b[0malpha\u001b[0m\u001b[1;33m)\u001b[0m\u001b[1;33m\u001b[0m\u001b[1;33m\u001b[0m\u001b[0m\n\u001b[0m\u001b[0;32m    282\u001b[0m \u001b[1;33m\u001b[0m\u001b[0m\n\u001b[0;32m    283\u001b[0m     \u001b[1;31m#print(average_ranks)\u001b[0m\u001b[1;33m\u001b[0m\u001b[1;33m\u001b[0m\u001b[0m\n",
      "\u001b[1;32mc:\\Users\\Public\\random_sast\\cd_diagram\\cd_function.py\u001b[0m in \u001b[0;36mwilcoxon_holm\u001b[1;34m(alpha, df_perf)\u001b[0m\n\u001b[0;32m    339\u001b[0m                               ['accuracy'], dtype=np.float64)\n\u001b[0;32m    340\u001b[0m             \u001b[1;31m# calculate the p_value\u001b[0m\u001b[1;33m\u001b[0m\u001b[1;33m\u001b[0m\u001b[0m\n\u001b[1;32m--> 341\u001b[1;33m             \u001b[0mp_value\u001b[0m \u001b[1;33m=\u001b[0m \u001b[0mwilcoxon\u001b[0m\u001b[1;33m(\u001b[0m\u001b[0mperf_1\u001b[0m\u001b[1;33m,\u001b[0m \u001b[0mperf_2\u001b[0m\u001b[1;33m,\u001b[0m \u001b[0mzero_method\u001b[0m\u001b[1;33m=\u001b[0m\u001b[1;34m'pratt'\u001b[0m\u001b[1;33m)\u001b[0m\u001b[1;33m[\u001b[0m\u001b[1;36m1\u001b[0m\u001b[1;33m]\u001b[0m\u001b[1;33m\u001b[0m\u001b[1;33m\u001b[0m\u001b[0m\n\u001b[0m\u001b[0;32m    342\u001b[0m             \u001b[1;31m# appen to the list\u001b[0m\u001b[1;33m\u001b[0m\u001b[1;33m\u001b[0m\u001b[0m\n\u001b[0;32m    343\u001b[0m             \u001b[0mp_values\u001b[0m\u001b[1;33m.\u001b[0m\u001b[0mappend\u001b[0m\u001b[1;33m(\u001b[0m\u001b[1;33m(\u001b[0m\u001b[0mclassifier_1\u001b[0m\u001b[1;33m,\u001b[0m \u001b[0mclassifier_2\u001b[0m\u001b[1;33m,\u001b[0m \u001b[0mp_value\u001b[0m\u001b[1;33m,\u001b[0m \u001b[1;32mFalse\u001b[0m\u001b[1;33m)\u001b[0m\u001b[1;33m)\u001b[0m\u001b[1;33m\u001b[0m\u001b[1;33m\u001b[0m\u001b[0m\n",
      "\u001b[1;32mc:\\ProgramData\\Anaconda3\\lib\\site-packages\\scipy\\_lib\\_util.py\u001b[0m in \u001b[0;36mwrapper\u001b[1;34m(*args, **kwargs)\u001b[0m\n\u001b[0;32m    700\u001b[0m                     \u001b[1;32mraise\u001b[0m \u001b[0mTypeError\u001b[0m\u001b[1;33m(\u001b[0m\u001b[0mmessage\u001b[0m\u001b[1;33m)\u001b[0m\u001b[1;33m\u001b[0m\u001b[1;33m\u001b[0m\u001b[0m\n\u001b[0;32m    701\u001b[0m                 \u001b[0mkwargs\u001b[0m\u001b[1;33m[\u001b[0m\u001b[0mnew_name\u001b[0m\u001b[1;33m]\u001b[0m \u001b[1;33m=\u001b[0m \u001b[0mkwargs\u001b[0m\u001b[1;33m.\u001b[0m\u001b[0mpop\u001b[0m\u001b[1;33m(\u001b[0m\u001b[0mold_name\u001b[0m\u001b[1;33m)\u001b[0m\u001b[1;33m\u001b[0m\u001b[1;33m\u001b[0m\u001b[0m\n\u001b[1;32m--> 702\u001b[1;33m             \u001b[1;32mreturn\u001b[0m \u001b[0mfun\u001b[0m\u001b[1;33m(\u001b[0m\u001b[1;33m*\u001b[0m\u001b[0margs\u001b[0m\u001b[1;33m,\u001b[0m \u001b[1;33m**\u001b[0m\u001b[0mkwargs\u001b[0m\u001b[1;33m)\u001b[0m\u001b[1;33m\u001b[0m\u001b[1;33m\u001b[0m\u001b[0m\n\u001b[0m\u001b[0;32m    703\u001b[0m         \u001b[1;32mreturn\u001b[0m \u001b[0mwrapper\u001b[0m\u001b[1;33m\u001b[0m\u001b[1;33m\u001b[0m\u001b[0m\n\u001b[0;32m    704\u001b[0m     \u001b[1;32mreturn\u001b[0m \u001b[0mdecorator\u001b[0m\u001b[1;33m\u001b[0m\u001b[1;33m\u001b[0m\u001b[0m\n",
      "\u001b[1;32mc:\\ProgramData\\Anaconda3\\lib\\site-packages\\scipy\\stats\\_axis_nan_policy.py\u001b[0m in \u001b[0;36maxis_nan_policy_wrapper\u001b[1;34m(***failed resolving arguments***)\u001b[0m\n\u001b[0;32m    501\u001b[0m                 \u001b[1;32mif\u001b[0m \u001b[0msentinel\u001b[0m\u001b[1;33m:\u001b[0m\u001b[1;33m\u001b[0m\u001b[1;33m\u001b[0m\u001b[0m\n\u001b[0;32m    502\u001b[0m                     \u001b[0msamples\u001b[0m \u001b[1;33m=\u001b[0m \u001b[0m_remove_sentinel\u001b[0m\u001b[1;33m(\u001b[0m\u001b[0msamples\u001b[0m\u001b[1;33m,\u001b[0m \u001b[0mpaired\u001b[0m\u001b[1;33m,\u001b[0m \u001b[0msentinel\u001b[0m\u001b[1;33m)\u001b[0m\u001b[1;33m\u001b[0m\u001b[1;33m\u001b[0m\u001b[0m\n\u001b[1;32m--> 503\u001b[1;33m                 \u001b[0mres\u001b[0m \u001b[1;33m=\u001b[0m \u001b[0mhypotest_fun_out\u001b[0m\u001b[1;33m(\u001b[0m\u001b[1;33m*\u001b[0m\u001b[0msamples\u001b[0m\u001b[1;33m,\u001b[0m \u001b[1;33m**\u001b[0m\u001b[0mkwds\u001b[0m\u001b[1;33m)\u001b[0m\u001b[1;33m\u001b[0m\u001b[1;33m\u001b[0m\u001b[0m\n\u001b[0m\u001b[0;32m    504\u001b[0m                 \u001b[0mres\u001b[0m \u001b[1;33m=\u001b[0m \u001b[0mresult_to_tuple\u001b[0m\u001b[1;33m(\u001b[0m\u001b[0mres\u001b[0m\u001b[1;33m)\u001b[0m\u001b[1;33m\u001b[0m\u001b[1;33m\u001b[0m\u001b[0m\n\u001b[0;32m    505\u001b[0m                 \u001b[0mres\u001b[0m \u001b[1;33m=\u001b[0m \u001b[0m_add_reduced_axes\u001b[0m\u001b[1;33m(\u001b[0m\u001b[0mres\u001b[0m\u001b[1;33m,\u001b[0m \u001b[0mreduced_axes\u001b[0m\u001b[1;33m,\u001b[0m \u001b[0mkeepdims\u001b[0m\u001b[1;33m)\u001b[0m\u001b[1;33m\u001b[0m\u001b[1;33m\u001b[0m\u001b[0m\n",
      "\u001b[1;32mc:\\ProgramData\\Anaconda3\\lib\\site-packages\\scipy\\stats\\_morestats.py\u001b[0m in \u001b[0;36mwilcoxon\u001b[1;34m(x, y, zero_method, correction, alternative, method)\u001b[0m\n\u001b[0;32m   3259\u001b[0m         \u001b[1;32mif\u001b[0m \u001b[0mzero_method\u001b[0m \u001b[1;32min\u001b[0m \u001b[1;33m[\u001b[0m\u001b[1;34m\"wilcox\"\u001b[0m\u001b[1;33m,\u001b[0m \u001b[1;34m\"pratt\"\u001b[0m\u001b[1;33m]\u001b[0m\u001b[1;33m:\u001b[0m\u001b[1;33m\u001b[0m\u001b[1;33m\u001b[0m\u001b[0m\n\u001b[0;32m   3260\u001b[0m             \u001b[1;32mif\u001b[0m \u001b[0mn_zero\u001b[0m \u001b[1;33m==\u001b[0m \u001b[0mlen\u001b[0m\u001b[1;33m(\u001b[0m\u001b[0md\u001b[0m\u001b[1;33m)\u001b[0m\u001b[1;33m:\u001b[0m\u001b[1;33m\u001b[0m\u001b[1;33m\u001b[0m\u001b[0m\n\u001b[1;32m-> 3261\u001b[1;33m                 raise ValueError(\"zero_method 'wilcox' and 'pratt' do not \"\n\u001b[0m\u001b[0;32m   3262\u001b[0m                                  \"work if x - y is zero for all elements.\")\n\u001b[0;32m   3263\u001b[0m         \u001b[1;32mif\u001b[0m \u001b[0mzero_method\u001b[0m \u001b[1;33m==\u001b[0m \u001b[1;34m\"wilcox\"\u001b[0m\u001b[1;33m:\u001b[0m\u001b[1;33m\u001b[0m\u001b[1;33m\u001b[0m\u001b[0m\n",
      "\u001b[1;31mValueError\u001b[0m: zero_method 'wilcox' and 'pratt' do not work if x - y is zero for all elements."
     ]
    }
   ],
   "source": [
    "from cd_function import *\n",
    "\n",
    "#generate hyperparameter tuning cd diagrams\n",
    "draw_cd_diagram(df_pivot, labels=True, title=\"RSAST vs other methods\", name_file='images_cd_diagram/cd-diagram_overall_comparison_other_method2.png')\n"
   ]
  },
  {
   "cell_type": "code",
   "execution_count": 9,
   "metadata": {},
   "outputs": [
    {
     "data": {
      "text/plain": [
       "Index(['Rocket', 'Rsast', 'SAST'], dtype='object', name='classifier_name')"
      ]
     },
     "execution_count": 9,
     "metadata": {},
     "output_type": "execute_result"
    }
   ],
   "source": [
    "# create a pivot table with the mean of score by hyperparameter\n",
    "score_by_method=pd.pivot_table(df_result, values='accuracy', index=['classifier_name'],columns=['dataset_name'], aggfunc='mean')\n",
    "\n",
    "t_score_by_method=score_by_method.transpose()\n",
    "t_score_by_method.columns\n",
    "#t_score_by_method[[hyperparameter,\"STC\",\"ROCKET\"]]\n"
   ]
  },
  {
   "cell_type": "code",
   "execution_count": 10,
   "metadata": {},
   "outputs": [],
   "source": [
    "for method in t_score_by_method.columns:\n",
    "    x=t_score_by_method[\"Rsast\"]\n",
    "    y=t_score_by_method[method]\n",
    "\n",
    "    # set the style of the plot\n",
    "    plt.style.use('seaborn')\n",
    "\n",
    "    # create the plot\n",
    "    fig, ax = plt.subplots(figsize=(8, 6))\n",
    "\n",
    "    # plot the line\n",
    "    ax.plot([0,1], [0,1])\n",
    "\n",
    "    # plot the points\n",
    "    ax.scatter(x, y, color='blue', edgecolor='blue', s=30, zorder=10)\n",
    "\n",
    "    # add labels and title\n",
    "    ax.set_xlabel('RSAST')\n",
    "    ax.set_ylabel(method)\n",
    "    ax.set_title('Accuracy')\n",
    "\n",
    "\n",
    "    # set the background color\n",
    "    ax.set_facecolor('lightgrey')\n",
    "    plt.savefig('images_one_vs_one_comparison/RSASTvs'+method+'2.png')"
   ]
  },
  {
   "attachments": {},
   "cell_type": "markdown",
   "metadata": {},
   "source": [
    "## Plotting top most important features over the generators"
   ]
  },
  {
   "cell_type": "code",
   "execution_count": 3,
   "metadata": {},
   "outputs": [
    {
     "ename": "NameError",
     "evalue": "name 'RSAST' is not defined",
     "output_type": "error",
     "traceback": [
      "\u001b[1;31m---------------------------------------------------------------------------\u001b[0m",
      "\u001b[1;31mNameError\u001b[0m                                 Traceback (most recent call last)",
      "\u001b[1;32m~\\AppData\\Local\\Temp\\ipykernel_14124\\2623494445.py\u001b[0m in \u001b[0;36m<module>\u001b[1;34m\u001b[0m\n\u001b[1;32m----> 1\u001b[1;33m \u001b[0mrsast_ridge\u001b[0m \u001b[1;33m=\u001b[0m \u001b[0mRSAST\u001b[0m\u001b[1;33m(\u001b[0m\u001b[0mhalf_len\u001b[0m\u001b[1;33m=\u001b[0m\u001b[1;32mTrue\u001b[0m\u001b[1;33m,\u001b[0m\u001b[0mnb_inst_per_class\u001b[0m\u001b[1;33m=\u001b[0m\u001b[0mk\u001b[0m\u001b[1;33m,\u001b[0m \u001b[0mlen_method\u001b[0m\u001b[1;33m=\u001b[0m\u001b[1;34m\"both\"\u001b[0m\u001b[1;33m)\u001b[0m\u001b[1;33m\u001b[0m\u001b[1;33m\u001b[0m\u001b[0m\n\u001b[0m\u001b[0;32m      2\u001b[0m \u001b[0mrsast_ridge\u001b[0m\u001b[1;33m.\u001b[0m\u001b[0mfit\u001b[0m\u001b[1;33m(\u001b[0m\u001b[0mX_train\u001b[0m\u001b[1;33m,\u001b[0m \u001b[0my_train\u001b[0m\u001b[1;33m)\u001b[0m\u001b[1;33m\u001b[0m\u001b[1;33m\u001b[0m\u001b[0m\n",
      "\u001b[1;31mNameError\u001b[0m: name 'RSAST' is not defined"
     ]
    }
   ],
   "source": [
    "rsast_ridge = RSAST(half_len=True,nb_inst_per_class=k, len_method=\"both\")\n",
    "rsast_ridge.fit(X_train, y_train)"
   ]
  },
  {
   "cell_type": "code",
   "execution_count": null,
   "metadata": {},
   "outputs": [],
   "source": [
    "top_features=20\n",
    "for c, ts in rsast_ridge.kernels_generators_.items():\n",
    "    fname = f'images_features_exp/{ds}-r_ridge-class{c}-top{top_features}-features-on-ref-ts.jpg'\n",
    "    plot_most_important_feature_on_ts(ts.squeeze(), c, rsast_ridge.kernel_orig_, rsast_ridge.classifier.coef_[0], limit=top_features, offset=0, fname=fname) # plot only the first model one-vs-all model's features\n",
    "    print(\"-------------\")\n",
    "    print(ts.squeeze().size) \n",
    "    print(c), \n",
    "    print(len(rsast_ridge.kernel_orig_))\n",
    "    print(rsast_ridge.classifier.coef_[0].size) "
   ]
  },
  {
   "cell_type": "code",
   "execution_count": null,
   "metadata": {},
   "outputs": [],
   "source": [
    "top_features=20\n",
    "for c, ts in sast_ridge.kernels_generators_.items():\n",
    "    fname = f'images_features_exp/{ds}-ridge-class{c}-top{top_features}-features-on-ref-ts.jpg'\n",
    "    plot_most_important_feature_on_ts(ts.squeeze(), c, sast_ridge.kernel_orig_, sast_ridge.classifier.coef_[0], limit=top_features, offset=0, fname=fname) # plot only the first model one-vs-all model's features\n",
    "    print(\"-------------\")\n",
    "    print(ts.squeeze().size) \n",
    "    print(c), \n",
    "    print(len(sast_ridge.kernel_orig_))\n",
    "    print(sast_ridge.classifier.coef_[0].size) "
   ]
  }
 ],
 "metadata": {
  "kernelspec": {
   "display_name": "Python 3 (ipykernel)",
   "language": "python",
   "name": "python3"
  },
  "language_info": {
   "codemirror_mode": {
    "name": "ipython",
    "version": 3
   },
   "file_extension": ".py",
   "mimetype": "text/x-python",
   "name": "python",
   "nbconvert_exporter": "python",
   "pygments_lexer": "ipython3",
   "version": "3.9.13"
  },
  "vscode": {
   "interpreter": {
    "hash": "ad2bdc8ecc057115af97d19610ffacc2b4e99fae6737bb82f5d7fb13d2f2c186"
   }
  }
 },
 "nbformat": 4,
 "nbformat_minor": 2
}
