{
 "cells": [
  {
   "attachments": {},
   "cell_type": "markdown",
   "metadata": {},
   "source": [
    "### Experiments: Comparing RSAST with SAST Ridge, HIVE-COTE, ROCKET, TS-CHIEF"
   ]
  },
  {
   "cell_type": "code",
   "execution_count": null,
   "metadata": {},
   "outputs": [],
   "source": [
    "#configure directory to import sast libraries\n",
    "import sys \n",
    "import os \n",
    "#add sast library path\n",
    "file_path = os.path.expanduser(\"~/random_sast/sast\")\n",
    "sys.path.append(file_path)\n",
    "#add cd_diagram library path\n",
    "file_path = os.path.expanduser(\"~/random_sast/cd_diagram\")\n",
    "sys.path.append(file_path)\n",
    "\n",
    "sys.path"
   ]
  },
  {
   "cell_type": "code",
   "execution_count": 39,
   "metadata": {},
   "outputs": [],
   "source": [
    "from sast import *\n",
    "from sktime.datasets import load_UCR_UEA_dataset, tsc_dataset_names\n",
    "from sktime.classification.kernel_based import RocketClassifier\n",
    "import time\n",
    "import pandas as pd\n",
    "from sktime.transformations.panel.shapelet_transform import ShapeletTransform\n",
    "from utils import plot_most_important_feature_on_ts\n"
   ]
  },
  {
   "cell_type": "code",
   "execution_count": 45,
   "metadata": {},
   "outputs": [
    {
     "name": "stdout",
     "output_type": "stream",
     "text": [
      "1\n",
      "['SyntheticControl']\n"
     ]
    }
   ],
   "source": [
    "ds_sens = tsc_dataset_names.univariate_equal_length\n",
    "\n",
    "ds = pd.read_excel(\"DataSetsUCLASummary.xlsx\")\n",
    "ds = ds[ds[\"USED SAST\"]==\"Y\"]\n",
    "#ds = ds[ds[\"USED RSAST ADA\"].isna()]\n",
    "\n",
    "#ds_sens = ['ACSF1', 'Adiac', 'ArrowHead', 'Beef', 'BeetleFly', 'BirdChicken', 'BME', 'Car', 'CBF', 'Chinatown', 'ChlorineConcentration', 'CinCECGTorso', 'Coffee']\n",
    "\n",
    "ds_sens = ds.Name.unique()\n",
    "ds_sens =  ['SyntheticControl']\n",
    "max_ds=len(ds_sens) #exploring dataset in UEA & UCR Time Series Classification Repository\n",
    "print(max_ds)\n",
    "print(ds_sens)\n"
   ]
  },
  {
   "cell_type": "code",
   "execution_count": 46,
   "metadata": {},
   "outputs": [
    {
     "name": "stdout",
     "output_type": "stream",
     "text": [
      "ds=SyntheticControl\n",
      "ACF&PACF: n_random_points= (lenthg ts)//2 nb_inst_per_class=1\n",
      "RidgeClassifierCV:size training300<= kernels1650\n",
      "ROCKET: kernels=10_000\n",
      "SAST: min_shapelet_length=3 max_shapelet_length=60\n",
      "ACF&PACF: n_random_points= (lenthg ts)//2 nb_inst_per_class=1\n",
      "RidgeClassifierCV:size training300<= kernels1260\n",
      "ROCKET: kernels=10_000\n",
      "SAST: min_shapelet_length=3 max_shapelet_length=60\n",
      "ACF&PACF: n_random_points= (lenthg ts)//2 nb_inst_per_class=1\n",
      "RidgeClassifierCV:size training300<= kernels1500\n",
      "ROCKET: kernels=10_000\n",
      "SAST: min_shapelet_length=3 max_shapelet_length=60\n"
     ]
    }
   ],
   "source": [
    "#define numbers of runs of the experiment\n",
    "runs = 3\n",
    "\n",
    "not_found_ds =[]\n",
    "df_result = {}\n",
    "list_score = []\n",
    "list_time = []\n",
    "list_dataset = []\n",
    "list_hyperparameter = []\n",
    "list_method = []\n",
    "list_rpoint = []\n",
    "list_nb_per_class = []\n",
    "\n",
    "\n",
    "for ds in ds_sens:\n",
    "    \n",
    "    try:\n",
    "        \n",
    "        X_train, y_train = load_UCR_UEA_dataset(name=ds, extract_path='data', split=\"train\", return_type=\"numpy2d\")\n",
    "        X_test, y_test = load_UCR_UEA_dataset(name=ds, extract_path='data', split=\"test\", return_type=\"numpy2d\")\n",
    "        print(\"ds=\"+ds)\n",
    "    except:\n",
    "        print(\"not found ds=\"+ds)\n",
    "        not_found_ds.append(ds)\n",
    "        continue\n",
    "\n",
    "    for i in range(runs):\n",
    "        \n",
    "        \n",
    "        k=1\n",
    "        \n",
    "        print(\"ACF&PACF: n_random_points= (lenthg ts)//2\"+\" nb_inst_per_class=\"+str(k))\n",
    "        start = time.time()\n",
    "        random_state = None\n",
    "        rsast_ridge = RSAST(half_len=True,nb_inst_per_class=k, len_method=\"both\")\n",
    "        rsast_ridge.fit(X_train, y_train)\n",
    "        end = time.time()\n",
    "        list_score.append(rsast_ridge.score(X_test,y_test))\n",
    "\n",
    "        list_time.append(end-start)\n",
    "        list_dataset.append(ds)\n",
    "        list_hyperparameter.append(\"ACF&PACF: n_random_points= (lenthg ts)//2\"+\" nb_inst_per_class=\"+str(k))\n",
    "        list_rpoint.append(\"(lenthg ts)//2\")\n",
    "        list_nb_per_class.append(str(k))\n",
    "        list_method.append(\"Rsast\")\n",
    "\n",
    "        \n",
    "        '''\n",
    "        p=1\n",
    "        k=10\n",
    "        print(\"RSAST Max PACF: n_random_points=\"+str(p)+\" nb_inst_per_class=\"+str(k))\n",
    "        start = time.time()\n",
    "        random_state = None\n",
    "        rsast_ridge = RSAST(n_random_points=p,nb_inst_per_class=k, len_method=\"Max PACF\", classifier=RidgeClassifierCV())\n",
    "        rsast_ridge.fit(X_train, y_train)\n",
    "        end = time.time()\n",
    "        list_score.append(rsast_ridge.score(X_test,y_test))\n",
    "        list_time.append(end-start)\n",
    "        list_dataset.append(ds)\n",
    "        list_hyperparameter.append(\"Max PACF: n_random_points=\"+str(p)+\" nb_inst_per_class=\"+str(k))\n",
    "        list_rpoint.append(str(p))\n",
    "        list_nb_per_class.append(str(k))\n",
    "        list_method.append(\"Max PACF: Rsast\")\n",
    "        '''\n",
    "        print(\"ROCKET: kernels=10_000\")\n",
    "        start = time.time()\n",
    "        rocket= RocketClassifier(num_kernels=10_000)\n",
    "        rocket.fit(X_train,y_train)\n",
    "        end = time.time()\n",
    "        list_score.append(rocket.score(X_test,y_test))\n",
    "        list_time.append(end-start)\n",
    "        list_dataset.append(ds)\n",
    "        list_hyperparameter.append(\"num_kernels=10_000\")\n",
    "        list_rpoint.append(str(0))\n",
    "        list_nb_per_class.append(str(0))\n",
    "        list_method.append(\"Rocket\")\n",
    "        \n",
    "        '''\n",
    "        min_shp_length = 3\n",
    "        print(\"STC: min_shapelet_length=\"+str(min_shp_length)+\" max_shapelet_length=\"+str(np.inf))\n",
    "        \n",
    "        max_shp_length = X_train.shape[1]\n",
    "        start = time.time()\n",
    "        #Creating a ShapeletTransform and fitting\n",
    "        st = ShapeletTransform(min_shapelet_length=min_shp_length, max_shapelet_length=np.inf)\n",
    "        X_train_sktime = from_2d_array_to_nested(pd.DataFrame(X_train))\n",
    "        X_test_sktime = from_2d_array_to_nested(pd.DataFrame(X_test))\n",
    "        st.fit(X_train_sktime, y_train)\n",
    "        #Making the tranformation of time series and training a RandomForestClassifier model\n",
    "        X_test_transformed = st.transform(X_test_sktime)\n",
    "        X_train_transformed = st.transform(X_train_sktime)\n",
    "        clf = RandomForestClassifier()\n",
    "        clf.fit(X_train_transformed, y_train)\n",
    "        \n",
    "        end = time.time()\n",
    "        list_score.append(clf.score(X_test_transformed, y_test))\n",
    "        list_time.append(end-start)\n",
    "        list_dataset.append(ds)\n",
    "        list_hyperparameter.append(\"min_shapelet_length=\"+str(min_shp_length)+\" max_shapelet_length=\"+str(max_shp_length))\n",
    "        list_rpoint.append(str(0))\n",
    "        list_nb_per_class.append(str(0))\n",
    "        list_method.append(\"STC\")  \n",
    "        '''\n",
    "        \n",
    "        min_shp_length = 3\n",
    "        max_shp_length = X_train.shape[1]\n",
    "        print(\"SAST: min_shapelet_length=\"+str(min_shp_length)+\" max_shapelet_length=\"+str(X_train.shape[1]))\n",
    "        start = time.time()\n",
    "        \n",
    "        candidate_lengths = np.arange(min_shp_length, max_shp_length+1)\n",
    "        random_state = None\n",
    "        sast_ridge = SAST(cand_length_list=candidate_lengths,\n",
    "                                nb_inst_per_class=1, \n",
    "                                random_state=random_state, classifier=RidgeClassifierCV())\n",
    "        sast_ridge.fit(X_train, y_train)\n",
    "        end = time.time()    \n",
    "        list_score.append(sast_ridge.score(X_test, y_test))\n",
    "        list_time.append(end-start)\n",
    "        list_dataset.append(ds)\n",
    "        list_hyperparameter.append(\"min_shapelet_length=\"+str(min_shp_length)+\" max_shapelet_length=\"+str(max_shp_length))\n",
    "        list_rpoint.append(str(0))\n",
    "        list_nb_per_class.append(str(0))\n",
    "        list_method.append(\"SAST\")  \n",
    "        \n",
    "\n",
    "df_result['accuracy']=list_score\n",
    "df_result['time']=list_time\n",
    "df_result['dataset_name']=list_dataset\n",
    "df_result['hyperparameter']=list_hyperparameter\n",
    "df_result['rpoint']=list_rpoint\n",
    "df_result['nb_per_class']=list_nb_per_class\n",
    "df_result['classifier_name']=list_method\n",
    "df_result=pd.DataFrame(df_result)\n",
    "# export a overall dataset with the comparison\n",
    "df_result.to_csv(\"results_comparison_accuracy/df_overall_comparison_results.csv\")"
   ]
  },
  {
   "cell_type": "code",
   "execution_count": 26,
   "metadata": {},
   "outputs": [
    {
     "data": {
      "text/plain": [
       "Index(['Unnamed: 0', 'accuracy', 'time', 'dataset_name', 'hyperparameter',\n",
       "       'rpoint', 'nb_per_class', 'classifier_name'],\n",
       "      dtype='object')"
      ]
     },
     "execution_count": 26,
     "metadata": {},
     "output_type": "execute_result"
    }
   ],
   "source": [
    "df_result=pd.read_csv(\"results_comparison_accuracy/df_overall_comparison_results.csv\")\n",
    "df_result.columns"
   ]
  },
  {
   "cell_type": "code",
   "execution_count": 50,
   "metadata": {},
   "outputs": [
    {
     "data": {
      "text/html": [
       "<div>\n",
       "<style scoped>\n",
       "    .dataframe tbody tr th:only-of-type {\n",
       "        vertical-align: middle;\n",
       "    }\n",
       "\n",
       "    .dataframe tbody tr th {\n",
       "        vertical-align: top;\n",
       "    }\n",
       "\n",
       "    .dataframe thead tr th {\n",
       "        text-align: left;\n",
       "    }\n",
       "\n",
       "    .dataframe thead tr:last-of-type th {\n",
       "        text-align: right;\n",
       "    }\n",
       "</style>\n",
       "<table border=\"1\" class=\"dataframe\">\n",
       "  <thead>\n",
       "    <tr>\n",
       "      <th></th>\n",
       "      <th>time</th>\n",
       "    </tr>\n",
       "    <tr>\n",
       "      <th>dataset_name</th>\n",
       "      <th>SyntheticControl</th>\n",
       "    </tr>\n",
       "    <tr>\n",
       "      <th>classifier_name</th>\n",
       "      <th></th>\n",
       "    </tr>\n",
       "  </thead>\n",
       "  <tbody>\n",
       "    <tr>\n",
       "      <th>Rocket</th>\n",
       "      <td>6.287842</td>\n",
       "    </tr>\n",
       "    <tr>\n",
       "      <th>Rsast</th>\n",
       "      <td>6.521233</td>\n",
       "    </tr>\n",
       "    <tr>\n",
       "      <th>SAST</th>\n",
       "      <td>38.480254</td>\n",
       "    </tr>\n",
       "  </tbody>\n",
       "</table>\n",
       "</div>"
      ],
      "text/plain": [
       "                            time\n",
       "dataset_name    SyntheticControl\n",
       "classifier_name                 \n",
       "Rocket                  6.287842\n",
       "Rsast                   6.521233\n",
       "SAST                   38.480254"
      ]
     },
     "execution_count": 50,
     "metadata": {},
     "output_type": "execute_result"
    }
   ],
   "source": [
    "pd.pivot_table(df_result, values=['time'], index=['classifier_name'],columns=['dataset_name'], aggfunc='mean')"
   ]
  },
  {
   "cell_type": "code",
   "execution_count": 49,
   "metadata": {},
   "outputs": [
    {
     "data": {
      "text/html": [
       "<div>\n",
       "<style scoped>\n",
       "    .dataframe tbody tr th:only-of-type {\n",
       "        vertical-align: middle;\n",
       "    }\n",
       "\n",
       "    .dataframe tbody tr th {\n",
       "        vertical-align: top;\n",
       "    }\n",
       "\n",
       "    .dataframe thead tr th {\n",
       "        text-align: left;\n",
       "    }\n",
       "\n",
       "    .dataframe thead tr:last-of-type th {\n",
       "        text-align: right;\n",
       "    }\n",
       "</style>\n",
       "<table border=\"1\" class=\"dataframe\">\n",
       "  <thead>\n",
       "    <tr>\n",
       "      <th></th>\n",
       "      <th>accuracy</th>\n",
       "    </tr>\n",
       "    <tr>\n",
       "      <th>dataset_name</th>\n",
       "      <th>SyntheticControl</th>\n",
       "    </tr>\n",
       "    <tr>\n",
       "      <th>classifier_name</th>\n",
       "      <th></th>\n",
       "    </tr>\n",
       "  </thead>\n",
       "  <tbody>\n",
       "    <tr>\n",
       "      <th>Rocket</th>\n",
       "      <td>0.997778</td>\n",
       "    </tr>\n",
       "    <tr>\n",
       "      <th>Rsast</th>\n",
       "      <td>0.870000</td>\n",
       "    </tr>\n",
       "    <tr>\n",
       "      <th>SAST</th>\n",
       "      <td>0.975556</td>\n",
       "    </tr>\n",
       "  </tbody>\n",
       "</table>\n",
       "</div>"
      ],
      "text/plain": [
       "                        accuracy\n",
       "dataset_name    SyntheticControl\n",
       "classifier_name                 \n",
       "Rocket                  0.997778\n",
       "Rsast                   0.870000\n",
       "SAST                    0.975556"
      ]
     },
     "execution_count": 49,
     "metadata": {},
     "output_type": "execute_result"
    }
   ],
   "source": [
    "df_pivot=pd.pivot_table(df_result, values='accuracy', index=['classifier_name','dataset_name'], aggfunc='mean')\n",
    "df_pivot=df_pivot.reset_index()\n",
    "pd.pivot_table(df_pivot, values=['accuracy'], index=['classifier_name'],columns=['dataset_name'], aggfunc='mean')"
   ]
  },
  {
   "cell_type": "code",
   "execution_count": 51,
   "metadata": {},
   "outputs": [
    {
     "name": "stdout",
     "output_type": "stream",
     "text": [
      "the null hypothesis over the entire classifiers cannot be rejected\n"
     ]
    }
   ],
   "source": [
    "from cd_function import *\n",
    "\n",
    "#generate hyperparameter tuning cd diagrams\n",
    "draw_cd_diagram(df_pivot, labels=True, title=\"RSAST vs other methods\", name_file='images_cd_diagram/cd-diagram_overall_comparison_other_method2.png')\n"
   ]
  },
  {
   "cell_type": "code",
   "execution_count": 30,
   "metadata": {},
   "outputs": [
    {
     "data": {
      "text/plain": [
       "Index(['Rocket', 'Rsast', 'SAST'], dtype='object', name='classifier_name')"
      ]
     },
     "execution_count": 30,
     "metadata": {},
     "output_type": "execute_result"
    }
   ],
   "source": [
    "# create a pivot table with the mean of score by hyperparameter\n",
    "score_by_method=pd.pivot_table(df_result, values='accuracy', index=['classifier_name'],columns=['dataset_name'], aggfunc='mean')\n",
    "\n",
    "t_score_by_method=score_by_method.transpose()\n",
    "t_score_by_method.columns\n",
    "#t_score_by_method[[hyperparameter,\"STC\",\"ROCKET\"]]\n"
   ]
  },
  {
   "cell_type": "code",
   "execution_count": 33,
   "metadata": {},
   "outputs": [
    {
     "name": "stderr",
     "output_type": "stream",
     "text": [
      "/tmp/ipykernel_9602/92188267.py:6: MatplotlibDeprecationWarning: The seaborn styles shipped by Matplotlib are deprecated since 3.6, as they no longer correspond to the styles shipped by seaborn. However, they will remain available as 'seaborn-v0_8-<style>'. Alternatively, directly use the seaborn API instead.\n",
      "  plt.style.use('seaborn')\n",
      "/tmp/ipykernel_9602/92188267.py:6: MatplotlibDeprecationWarning: The seaborn styles shipped by Matplotlib are deprecated since 3.6, as they no longer correspond to the styles shipped by seaborn. However, they will remain available as 'seaborn-v0_8-<style>'. Alternatively, directly use the seaborn API instead.\n",
      "  plt.style.use('seaborn')\n",
      "/tmp/ipykernel_9602/92188267.py:6: MatplotlibDeprecationWarning: The seaborn styles shipped by Matplotlib are deprecated since 3.6, as they no longer correspond to the styles shipped by seaborn. However, they will remain available as 'seaborn-v0_8-<style>'. Alternatively, directly use the seaborn API instead.\n",
      "  plt.style.use('seaborn')\n"
     ]
    }
   ],
   "source": [
    "for method in t_score_by_method.columns:\n",
    "    x=t_score_by_method[\"Rsast\"]\n",
    "    y=t_score_by_method[method]\n",
    "\n",
    "    # set the style of the plot\n",
    "    plt.style.use('seaborn')\n",
    "\n",
    "    # create the plot\n",
    "    fig, ax = plt.subplots(figsize=(8, 6))\n",
    "\n",
    "    # plot the line\n",
    "    ax.plot([0,1], [0,1])\n",
    "\n",
    "    # plot the points\n",
    "    ax.scatter(x, y, color='blue', edgecolor='blue', s=30, zorder=10)\n",
    "\n",
    "    # add labels and title\n",
    "    ax.set_xlabel('RSAST')\n",
    "    ax.set_ylabel(method)\n",
    "    ax.set_title('Accuracy')\n",
    "\n",
    "\n",
    "    # set the background color\n",
    "    ax.set_facecolor('lightgrey')\n",
    "    plt.savefig('images_one_vs_one_comparison/RSASTvs'+method+'2.png')"
   ]
  },
  {
   "attachments": {},
   "cell_type": "markdown",
   "metadata": {},
   "source": [
    "## Plotting top most important features over the generators"
   ]
  },
  {
   "cell_type": "code",
   "execution_count": 47,
   "metadata": {},
   "outputs": [
    {
     "name": "stderr",
     "output_type": "stream",
     "text": [
      "/home/nirojasvar/random_sast/sast/utils.py:76: UserWarning: Matplotlib is currently using agg, which is a non-GUI backend, so cannot show the figure.\n",
      "  plt.show();\n",
      "/home/nirojasvar/random_sast/sast/utils.py:76: UserWarning: Matplotlib is currently using agg, which is a non-GUI backend, so cannot show the figure.\n",
      "  plt.show();\n",
      "/home/nirojasvar/random_sast/sast/utils.py:61: RuntimeWarning: More than 20 figures have been opened. Figures created through the pyplot interface (`matplotlib.pyplot.figure`) are retained until explicitly closed and may consume too much memory. (To control this warning, see the rcParam `figure.max_open_warning`). Consider using `matplotlib.pyplot.close()`.\n",
      "  fig, axes = plt.subplots(1, max_, sharey=True, figsize=(3*max_, 3), tight_layout=True)\n",
      "/home/nirojasvar/random_sast/sast/utils.py:76: UserWarning: Matplotlib is currently using agg, which is a non-GUI backend, so cannot show the figure.\n",
      "  plt.show();\n",
      "/home/nirojasvar/random_sast/sast/utils.py:76: UserWarning: Matplotlib is currently using agg, which is a non-GUI backend, so cannot show the figure.\n",
      "  plt.show();\n",
      "/home/nirojasvar/random_sast/sast/utils.py:76: UserWarning: Matplotlib is currently using agg, which is a non-GUI backend, so cannot show the figure.\n",
      "  plt.show();\n",
      "/home/nirojasvar/random_sast/sast/utils.py:76: UserWarning: Matplotlib is currently using agg, which is a non-GUI backend, so cannot show the figure.\n",
      "  plt.show();\n"
     ]
    }
   ],
   "source": [
    "for c, ts in rsast_ridge.kernels_generators_.items():\n",
    "    fname = f'images_features_exp/chinatown-r_ridge-class{c}-top5-features-on-ref-ts.jpg'\n",
    "    plot_most_important_feature_on_ts(ts.squeeze(), c, rsast_ridge.kernel_orig_, rsast_ridge.classifier.coef_[0], limit=5, offset=0, fname=fname) # plot only the first model one-vs-all model's features\n"
   ]
  },
  {
   "cell_type": "code",
   "execution_count": 48,
   "metadata": {},
   "outputs": [
    {
     "name": "stderr",
     "output_type": "stream",
     "text": [
      "/home/nirojasvar/random_sast/sast/utils.py:76: UserWarning: Matplotlib is currently using agg, which is a non-GUI backend, so cannot show the figure.\n",
      "  plt.show();\n",
      "/home/nirojasvar/random_sast/sast/utils.py:76: UserWarning: Matplotlib is currently using agg, which is a non-GUI backend, so cannot show the figure.\n",
      "  plt.show();\n",
      "/home/nirojasvar/random_sast/sast/utils.py:76: UserWarning: Matplotlib is currently using agg, which is a non-GUI backend, so cannot show the figure.\n",
      "  plt.show();\n",
      "/home/nirojasvar/random_sast/sast/utils.py:76: UserWarning: Matplotlib is currently using agg, which is a non-GUI backend, so cannot show the figure.\n",
      "  plt.show();\n",
      "/home/nirojasvar/random_sast/sast/utils.py:76: UserWarning: Matplotlib is currently using agg, which is a non-GUI backend, so cannot show the figure.\n",
      "  plt.show();\n",
      "/home/nirojasvar/random_sast/sast/utils.py:76: UserWarning: Matplotlib is currently using agg, which is a non-GUI backend, so cannot show the figure.\n",
      "  plt.show();\n"
     ]
    }
   ],
   "source": [
    "for c, ts in sast_ridge.kernels_generators_.items():\n",
    "    fname = f'images_features_exp/chinatown-ridge-class{c}-top5-features-on-ref-ts.jpg'\n",
    "    plot_most_important_feature_on_ts(ts.squeeze(), c, sast_ridge.kernel_orig_, sast_ridge.classifier.coef_[0], limit=5, offset=0, fname=fname) # plot only the first model one-vs-all model's features\n"
   ]
  }
 ],
 "metadata": {
  "kernelspec": {
   "display_name": "Python 3 (ipykernel)",
   "language": "python",
   "name": "python3"
  },
  "language_info": {
   "codemirror_mode": {
    "name": "ipython",
    "version": 3
   },
   "file_extension": ".py",
   "mimetype": "text/x-python",
   "name": "python",
   "nbconvert_exporter": "python",
   "pygments_lexer": "ipython3",
   "version": "3.10.9"
  },
  "vscode": {
   "interpreter": {
    "hash": "ad2bdc8ecc057115af97d19610ffacc2b4e99fae6737bb82f5d7fb13d2f2c186"
   }
  }
 },
 "nbformat": 4,
 "nbformat_minor": 2
}
