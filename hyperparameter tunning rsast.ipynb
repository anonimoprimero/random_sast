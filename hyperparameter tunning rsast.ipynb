{
 "cells": [
  {
   "attachments": {},
   "cell_type": "markdown",
   "metadata": {},
   "source": [
    "## Sensitive analysis:\n"
   ]
  },
  {
   "cell_type": "code",
   "execution_count": 9,
   "metadata": {},
   "outputs": [],
   "source": [
    "from sast.sast import *\n",
    "from sktime.datasets import load_UCR_UEA_dataset, tsc_dataset_names\n",
    "from sktime.classification.kernel_based import RocketClassifier\n",
    "import time\n",
    "import pandas as pd\n"
   ]
  },
  {
   "attachments": {},
   "cell_type": "markdown",
   "metadata": {},
   "source": [
    "### Select Datasets for hypertunning RSAST"
   ]
  },
  {
   "attachments": {},
   "cell_type": "markdown",
   "metadata": {},
   "source": [
    "It is runned RSAST in a set of UCR datasets with a predefined number of runs (\"runs\"). Then, it is selected a range (\"range_total\") between 1, 10, 100 and 10000 for the selected dataset."
   ]
  },
  {
   "cell_type": "code",
   "execution_count": 10,
   "metadata": {},
   "outputs": [
    {
     "name": "stdout",
     "output_type": "stream",
     "text": [
      "['Chinatown']\n"
     ]
    }
   ],
   "source": [
    "ds_sens = tsc_dataset_names.univariate_equal_length\n",
    "#ds_sens = ['ACSF1', 'Adiac', 'ArrowHead', 'Beef', 'BeetleFly', 'BirdChicken', 'BME', 'Car', 'CBF', 'Chinatown', 'ChlorineConcentration', 'CinCECGTorso', 'Coffee']\n",
    "ds_sens = ['Chinatown']\n",
    "max_ds=len(ds_sens) #exploring dataset in UEA & UCR Time Series Classification Repository\n",
    "#print(ds_sens)\n",
    "print(ds_sens)\n"
   ]
  },
  {
   "cell_type": "code",
   "execution_count": 17,
   "metadata": {},
   "outputs": [
    {
     "name": "stdout",
     "output_type": "stream",
     "text": [
      "ds=Chinatown\n",
      "n_random_points=1 nb_inst_per_class=1\n",
      "n_random_points=1 nb_inst_per_class=10\n",
      "n_random_points=10 nb_inst_per_class=1\n",
      "n_random_points=10 nb_inst_per_class=10\n",
      "n_random_points=1 nb_inst_per_class=1\n",
      "n_random_points=1 nb_inst_per_class=10\n",
      "n_random_points=10 nb_inst_per_class=1\n",
      "n_random_points=10 nb_inst_per_class=10\n",
      "n_random_points=1 nb_inst_per_class=1\n",
      "n_random_points=1 nb_inst_per_class=10\n",
      "n_random_points=10 nb_inst_per_class=1\n",
      "n_random_points=10 nb_inst_per_class=10\n",
      "n_random_points=1 nb_inst_per_class=1\n",
      "n_random_points=1 nb_inst_per_class=10\n",
      "n_random_points=10 nb_inst_per_class=1\n",
      "n_random_points=10 nb_inst_per_class=10\n",
      "n_random_points=1 nb_inst_per_class=1\n",
      "n_random_points=1 nb_inst_per_class=10\n",
      "n_random_points=10 nb_inst_per_class=1\n",
      "n_random_points=10 nb_inst_per_class=10\n",
      "n_random_points=1 nb_inst_per_class=1\n",
      "n_random_points=1 nb_inst_per_class=10\n",
      "n_random_points=10 nb_inst_per_class=1\n",
      "n_random_points=10 nb_inst_per_class=10\n",
      "n_random_points=1 nb_inst_per_class=1\n",
      "n_random_points=1 nb_inst_per_class=10\n",
      "n_random_points=10 nb_inst_per_class=1\n",
      "n_random_points=10 nb_inst_per_class=10\n",
      "n_random_points=1 nb_inst_per_class=1\n",
      "n_random_points=1 nb_inst_per_class=10\n",
      "n_random_points=10 nb_inst_per_class=1\n",
      "n_random_points=10 nb_inst_per_class=10\n",
      "n_random_points=1 nb_inst_per_class=1\n",
      "n_random_points=1 nb_inst_per_class=10\n",
      "n_random_points=10 nb_inst_per_class=1\n",
      "n_random_points=10 nb_inst_per_class=10\n",
      "n_random_points=1 nb_inst_per_class=1\n",
      "n_random_points=1 nb_inst_per_class=10\n",
      "n_random_points=10 nb_inst_per_class=1\n",
      "n_random_points=10 nb_inst_per_class=10\n"
     ]
    }
   ],
   "source": [
    "runs = 10\n",
    "range_total = [1,10]\n",
    "#list\n",
    "df_result = {}\n",
    "list_score = []\n",
    "list_time = []\n",
    "list_dataset = []\n",
    "list_hyperparameter = []\n",
    "list_method = []\n",
    "list_rpoint = []\n",
    "list_nb_per_class = []\n",
    "\n",
    "for ds in ds_sens:\n",
    "    print(\"ds=\"+ds)\n",
    "    X_train, y_train = load_UCR_UEA_dataset(name=ds, extract_path='data', split=\"train\", return_type=\"numpy2d\")\n",
    "    X_test, y_test = load_UCR_UEA_dataset(name=ds, extract_path='data', split=\"test\", return_type=\"numpy2d\")\n",
    "    for i in range(runs):\n",
    "        for p in range_total:\n",
    "            for g in range_total:\n",
    "                if p ==0:\n",
    "                    p=1\n",
    "                if g ==0:\n",
    "                    g=1\n",
    "                start = time.time()\n",
    "                random_state = None\n",
    "                rsast_ridge = RSAST(n_random_points=p,nb_inst_per_class=g, classifier=RidgeClassifierCV())\n",
    "                rsast_ridge.fit(X_train, y_train)\n",
    "                end = time.time()\n",
    "                list_score.append(rsast_ridge.score(X_test,y_test))\n",
    "                list_time.append(end-start)\n",
    "                list_dataset.append(ds)\n",
    "                list_hyperparameter.append(\"n_random_points=\"+str(p)+\" nb_inst_per_class=\"+str(g))\n",
    "                list_rpoint.append(str(p))\n",
    "                list_nb_per_class.append(str(g))\n",
    "                list_method.append(\"Rsast\")\n",
    "                print(\"n_random_points=\"+str(p)+\" nb_inst_per_class=\"+str(g))\n",
    "df_result['accuracy']=list_score\n",
    "df_result['time']=list_time\n",
    "df_result['dataset_name']=list_dataset\n",
    "df_result['classifier_name']=list_hyperparameter\n",
    "df_result['rpoint']=list_rpoint\n",
    "df_result['nb_per_class']=list_nb_per_class\n",
    "df_result['method']=list_method\n",
    "df_result=pd.DataFrame(df_result)"
   ]
  },
  {
   "cell_type": "code",
   "execution_count": 25,
   "metadata": {},
   "outputs": [],
   "source": [
    "# export a overall dataset with results\n",
    "df_result.to_csv(\"df_overall_tunning.csv\") \n",
    "\n",
    "# create and export a pivot table with the mean of score\n",
    "pivot_table = pd.pivot_table(df_result, values='accuracy', index=['classifier_name','dataset_name'], aggfunc='mean')\n",
    "pivot_table.to_csv(\"df_pivot_tunning_hyper.csv\") \n"
   ]
  },
  {
   "cell_type": "code",
   "execution_count": 26,
   "metadata": {},
   "outputs": [
    {
     "data": {
      "text/html": [
       "<div>\n",
       "<style scoped>\n",
       "    .dataframe tbody tr th:only-of-type {\n",
       "        vertical-align: middle;\n",
       "    }\n",
       "\n",
       "    .dataframe tbody tr th {\n",
       "        vertical-align: top;\n",
       "    }\n",
       "\n",
       "    .dataframe thead th {\n",
       "        text-align: right;\n",
       "    }\n",
       "</style>\n",
       "<table border=\"1\" class=\"dataframe\">\n",
       "  <thead>\n",
       "    <tr style=\"text-align: right;\">\n",
       "      <th>nb_per_class</th>\n",
       "      <th>1</th>\n",
       "      <th>10</th>\n",
       "    </tr>\n",
       "    <tr>\n",
       "      <th>rpoint</th>\n",
       "      <th></th>\n",
       "      <th></th>\n",
       "    </tr>\n",
       "  </thead>\n",
       "  <tbody>\n",
       "    <tr>\n",
       "      <th>1</th>\n",
       "      <td>0.827988</td>\n",
       "      <td>0.952478</td>\n",
       "    </tr>\n",
       "    <tr>\n",
       "      <th>10</th>\n",
       "      <td>0.928571</td>\n",
       "      <td>0.979009</td>\n",
       "    </tr>\n",
       "  </tbody>\n",
       "</table>\n",
       "</div>"
      ],
      "text/plain": [
       "nb_per_class         1        10\n",
       "rpoint                          \n",
       "1             0.827988  0.952478\n",
       "10            0.928571  0.979009"
      ]
     },
     "execution_count": 26,
     "metadata": {},
     "output_type": "execute_result"
    }
   ],
   "source": [
    "# create a pivot table with the mean of score by hyperparameter\n",
    "pd.pivot_table(df_result, values='accuracy', index=['rpoint'],columns=['nb_per_class'], aggfunc='mean')"
   ]
  },
  {
   "cell_type": "code",
   "execution_count": 27,
   "metadata": {},
   "outputs": [
    {
     "data": {
      "text/html": [
       "<div>\n",
       "<style scoped>\n",
       "    .dataframe tbody tr th:only-of-type {\n",
       "        vertical-align: middle;\n",
       "    }\n",
       "\n",
       "    .dataframe tbody tr th {\n",
       "        vertical-align: top;\n",
       "    }\n",
       "\n",
       "    .dataframe thead th {\n",
       "        text-align: right;\n",
       "    }\n",
       "</style>\n",
       "<table border=\"1\" class=\"dataframe\">\n",
       "  <thead>\n",
       "    <tr style=\"text-align: right;\">\n",
       "      <th>nb_per_class</th>\n",
       "      <th>1</th>\n",
       "      <th>10</th>\n",
       "    </tr>\n",
       "    <tr>\n",
       "      <th>rpoint</th>\n",
       "      <th></th>\n",
       "      <th></th>\n",
       "    </tr>\n",
       "  </thead>\n",
       "  <tbody>\n",
       "    <tr>\n",
       "      <th>1</th>\n",
       "      <td>0.017251</td>\n",
       "      <td>0.000476</td>\n",
       "    </tr>\n",
       "    <tr>\n",
       "      <th>10</th>\n",
       "      <td>0.002260</td>\n",
       "      <td>0.000028</td>\n",
       "    </tr>\n",
       "  </tbody>\n",
       "</table>\n",
       "</div>"
      ],
      "text/plain": [
       "nb_per_class         1        10\n",
       "rpoint                          \n",
       "1             0.017251  0.000476\n",
       "10            0.002260  0.000028"
      ]
     },
     "execution_count": 27,
     "metadata": {},
     "output_type": "execute_result"
    }
   ],
   "source": [
    "# create a pivot table with the variatioon of score by hyperparameter\n",
    "pd.pivot_table(df_result, values='accuracy', index=['rpoint'],columns=['nb_per_class'], aggfunc='var')"
   ]
  },
  {
   "cell_type": "code",
   "execution_count": 28,
   "metadata": {},
   "outputs": [
    {
     "data": {
      "text/html": [
       "<div>\n",
       "<style scoped>\n",
       "    .dataframe tbody tr th:only-of-type {\n",
       "        vertical-align: middle;\n",
       "    }\n",
       "\n",
       "    .dataframe tbody tr th {\n",
       "        vertical-align: top;\n",
       "    }\n",
       "\n",
       "    .dataframe thead th {\n",
       "        text-align: right;\n",
       "    }\n",
       "</style>\n",
       "<table border=\"1\" class=\"dataframe\">\n",
       "  <thead>\n",
       "    <tr style=\"text-align: right;\">\n",
       "      <th>nb_per_class</th>\n",
       "      <th>1</th>\n",
       "      <th>10</th>\n",
       "    </tr>\n",
       "    <tr>\n",
       "      <th>rpoint</th>\n",
       "      <th></th>\n",
       "      <th></th>\n",
       "    </tr>\n",
       "  </thead>\n",
       "  <tbody>\n",
       "    <tr>\n",
       "      <th>1</th>\n",
       "      <td>0.000250</td>\n",
       "      <td>0.000832</td>\n",
       "    </tr>\n",
       "    <tr>\n",
       "      <th>10</th>\n",
       "      <td>0.000358</td>\n",
       "      <td>0.002030</td>\n",
       "    </tr>\n",
       "  </tbody>\n",
       "</table>\n",
       "</div>"
      ],
      "text/plain": [
       "nb_per_class         1        10\n",
       "rpoint                          \n",
       "1             0.000250  0.000832\n",
       "10            0.000358  0.002030"
      ]
     },
     "execution_count": 28,
     "metadata": {},
     "output_type": "execute_result"
    }
   ],
   "source": [
    "# create a pivot table with the mean of time spent in minutes\n",
    "pd.pivot_table(df_result, values='time', index=['rpoint'],columns=['nb_per_class'], aggfunc='mean')/60"
   ]
  }
 ],
 "metadata": {
  "kernelspec": {
   "display_name": "Python 3 (ipykernel)",
   "language": "python",
   "name": "python3"
  },
  "language_info": {
   "codemirror_mode": {
    "name": "ipython",
    "version": 3
   },
   "file_extension": ".py",
   "mimetype": "text/x-python",
   "name": "python",
   "nbconvert_exporter": "python",
   "pygments_lexer": "ipython3",
   "version": "3.10.9"
  },
  "vscode": {
   "interpreter": {
    "hash": "ad2bdc8ecc057115af97d19610ffacc2b4e99fae6737bb82f5d7fb13d2f2c186"
   }
  }
 },
 "nbformat": 4,
 "nbformat_minor": 2
}
