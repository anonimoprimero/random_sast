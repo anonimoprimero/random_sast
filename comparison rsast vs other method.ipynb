{
 "cells": [
  {
   "attachments": {},
   "cell_type": "markdown",
   "metadata": {},
   "source": [
    "### Select Datasets for comparing RSAST with SAST Ridge, HIVE-COTE, ROCKET, TS-CHIEF"
   ]
  },
  {
   "cell_type": "code",
   "execution_count": 1,
   "metadata": {},
   "outputs": [
    {
     "name": "stderr",
     "output_type": "stream",
     "text": [
      "/home/nirojasvar/anaconda3/envs/rsast_env/lib/python3.10/site-packages/mass_ts/_mass_ts.py:17: UserWarning: GPU support will not work. You must pip install mass-ts[gpu].\n",
      "  warnings.warn(\n"
     ]
    }
   ],
   "source": [
    "from sast.sast import *\n",
    "from sktime.datasets import load_UCR_UEA_dataset, tsc_dataset_names\n",
    "from sktime.classification.kernel_based import RocketClassifier\n",
    "import time\n",
    "import pandas as pd\n",
    "from sktime.transformations.panel.shapelet_transform import ShapeletTransform"
   ]
  },
  {
   "cell_type": "code",
   "execution_count": 12,
   "metadata": {},
   "outputs": [
    {
     "name": "stdout",
     "output_type": "stream",
     "text": [
      "['ACSF1', 'Adiac', 'ArrowHead', 'Beef', 'BeetleFly', 'BirdChicken', 'BME', 'Car', 'CBF', 'Chinatown', 'ChlorineConcentration', 'CinCECGTorso', 'Coffee', 'Computers', 'CricketX', 'CricketY', 'CricketZ', 'Crop', 'DiatomSizeReduction', 'DistalPhalanxOutlineCorrect', 'DistalPhalanxOutlineAgeGroup', 'DistalPhalanxTW', 'Earthquakes', 'ECG200', 'ECG5000', 'ECGFiveDays', 'ElectricDevices', 'EOGHorizontalSignal', 'EOGVerticalSignal', 'EthanolLevel', 'FaceAll', 'FaceFour', 'FacesUCR', 'FiftyWords', 'Fish', 'FordA', 'FordB', 'FreezerRegularTrain', 'FreezerSmallTrain', 'Fungi', 'GunPoint', 'GunPointAgeSpan', 'GunPointMaleVersusFemale', 'GunPointOldVersusYoung', 'Ham', 'HandOutlines', 'Haptics', 'Herring', 'HouseTwenty', 'InlineSkate', 'InsectEPGRegularTrain', 'InsectEPGSmallTrain', 'InsectWingbeatSound', 'ItalyPowerDemand', 'LargeKitchenAppliances', 'Lightning2', 'Lightning7', 'Mallat', 'Meat', 'MedicalImages', 'MiddlePhalanxOutlineCorrect', 'MiddlePhalanxOutlineAgeGroup', 'MiddlePhalanxTW', 'MixedShapesRegularTrain', 'MixedShapesSmallTrain', 'MoteStrain', 'NonInvasiveFetalECGThorax1', 'NonInvasiveFetalECGThorax2', 'OliveOil', 'OSULeaf', 'PhalangesOutlinesCorrect', 'Phoneme', 'PigAirwayPressure', 'PigArtPressure', 'PigCVP', 'Plane', 'PowerCons', 'ProximalPhalanxOutlineCorrect', 'ProximalPhalanxOutlineAgeGroup', 'ProximalPhalanxTW', 'RefrigerationDevices', 'Rock', 'ScreenType', 'SemgHandGenderCh2', 'SemgHandMovementCh2', 'SemgHandSubjectCh2', 'ShapeletSim', 'ShapesAll', 'SmallKitchenAppliances', 'SmoothSubspace', 'SonyAIBORobotSurface1', 'SonyAIBORobotSurface2', 'StarlightCurves', 'Strawberry', 'SwedishLeaf', 'Symbols', 'SyntheticControl', 'ToeSegmentation1', 'ToeSegmentation2', 'Trace', 'TwoLeadECG', 'TwoPatterns', 'UMD', 'UWaveGestureLibraryAll', 'UWaveGestureLibraryX', 'UWaveGestureLibraryY', 'UWaveGestureLibraryZ', 'Wafer', 'Wine', 'WordSynonyms', 'Worms', 'WormsTwoClass', 'Yoga']\n"
     ]
    }
   ],
   "source": [
    "ds_sens = tsc_dataset_names.univariate_equal_length\n",
    "#ds_sens = ['ACSF1', 'Adiac', 'ArrowHead', 'Beef', 'BeetleFly', 'BirdChicken', 'BME', 'Car', 'CBF', 'Chinatown', 'ChlorineConcentration', 'CinCECGTorso', 'Coffee']\n",
    "#ds_sens = ['SmoothSubspace','Chinatown','ItalyPowerDemand','Fungi',]\n",
    "max_ds=len(ds_sens) #exploring dataset in UEA & UCR Time Series Classification Repository\n",
    "#print(ds_sens)\n",
    "print(ds_sens)\n"
   ]
  },
  {
   "cell_type": "code",
   "execution_count": 13,
   "metadata": {},
   "outputs": [
    {
     "name": "stdout",
     "output_type": "stream",
     "text": [
      "ds=ACSF1\n",
      "RSAST ACF&PACF: n_random_points=50 nb_inst_per_class=100\n"
     ]
    },
    {
     "ename": "KeyboardInterrupt",
     "evalue": "",
     "output_type": "error",
     "traceback": [
      "\u001b[0;31m---------------------------------------------------------------------------\u001b[0m",
      "\u001b[0;31mKeyboardInterrupt\u001b[0m                         Traceback (most recent call last)",
      "Cell \u001b[0;32mIn[13], line 25\u001b[0m\n\u001b[1;32m     23\u001b[0m random_state \u001b[39m=\u001b[39m \u001b[39mNone\u001b[39;00m\n\u001b[1;32m     24\u001b[0m rsast_ridge \u001b[39m=\u001b[39m RSAST(n_random_points\u001b[39m=\u001b[39mp,nb_inst_per_class\u001b[39m=\u001b[39mk, len_method\u001b[39m=\u001b[39m\u001b[39m\"\u001b[39m\u001b[39mboth\u001b[39m\u001b[39m\"\u001b[39m, classifier\u001b[39m=\u001b[39mRidgeClassifierCV())\n\u001b[0;32m---> 25\u001b[0m rsast_ridge\u001b[39m.\u001b[39;49mfit(X_train, y_train)\n\u001b[1;32m     26\u001b[0m end \u001b[39m=\u001b[39m time\u001b[39m.\u001b[39mtime()\n\u001b[1;32m     27\u001b[0m list_score\u001b[39m.\u001b[39mappend(rsast_ridge\u001b[39m.\u001b[39mscore(X_test,y_test))\n",
      "File \u001b[0;32m~/random_sast/sast/sast.py:474\u001b[0m, in \u001b[0;36mRSAST.fit\u001b[0;34m(self, X, y)\u001b[0m\n\u001b[1;32m    471\u001b[0m X, y \u001b[39m=\u001b[39m check_X_y(X, y)  \u001b[39m# check the shape of the data\u001b[39;00m\n\u001b[1;32m    473\u001b[0m \u001b[39m# randomly choose reference time series and generate kernels\u001b[39;00m\n\u001b[0;32m--> 474\u001b[0m \u001b[39mself\u001b[39;49m\u001b[39m.\u001b[39;49minit_sast(X, y)\n\u001b[1;32m    476\u001b[0m start \u001b[39m=\u001b[39m time\u001b[39m.\u001b[39mtime()\n\u001b[1;32m    477\u001b[0m \u001b[39m# subsequence transform of X\u001b[39;00m\n",
      "File \u001b[0;32m~/random_sast/sast/sast.py:397\u001b[0m, in \u001b[0;36mRSAST.init_sast\u001b[0;34m(self, X, y)\u001b[0m\n\u001b[1;32m    394\u001b[0m non_zero_pacf\u001b[39m=\u001b[39m[]\n\u001b[1;32m    395\u001b[0m \u001b[39mif\u001b[39;00m (\u001b[39mself\u001b[39m\u001b[39m.\u001b[39mlen_method \u001b[39m==\u001b[39m \u001b[39m\"\u001b[39m\u001b[39mboth\u001b[39m\u001b[39m\"\u001b[39m \u001b[39mor\u001b[39;00m \u001b[39mself\u001b[39m\u001b[39m.\u001b[39mlen_method \u001b[39m==\u001b[39m \u001b[39m\"\u001b[39m\u001b[39mPACF\u001b[39m\u001b[39m\"\u001b[39m \u001b[39mor\u001b[39;00m \u001b[39mself\u001b[39m\u001b[39m.\u001b[39mlen_method \u001b[39m==\u001b[39m \u001b[39m\"\u001b[39m\u001b[39mMax PACF\u001b[39m\u001b[39m\"\u001b[39m):\n\u001b[1;32m    396\u001b[0m     \u001b[39m#2.2 Compute Partial Autorrelation per object\u001b[39;00m\n\u001b[0;32m--> 397\u001b[0m     pacf_val, pacf_confint \u001b[39m=\u001b[39m pacf(X_c[idx], method\u001b[39m=\u001b[39;49m\u001b[39m\"\u001b[39;49m\u001b[39mols\u001b[39;49m\u001b[39m\"\u001b[39;49m, nlags\u001b[39m=\u001b[39;49m(\u001b[39mlen\u001b[39;49m(X_c[idx])\u001b[39m/\u001b[39;49m\u001b[39m/\u001b[39;49m\u001b[39m2\u001b[39;49m) \u001b[39m-\u001b[39;49m \u001b[39m1\u001b[39;49m,  alpha\u001b[39m=\u001b[39;49m\u001b[39m.05\u001b[39;49m)                \n\u001b[1;32m    398\u001b[0m     prev_pacf\u001b[39m=\u001b[39m\u001b[39m0\u001b[39m\n\u001b[1;32m    399\u001b[0m     \u001b[39mfor\u001b[39;00m j, conf \u001b[39min\u001b[39;00m \u001b[39menumerate\u001b[39m(pacf_confint):\n",
      "File \u001b[0;32m~/anaconda3/envs/rsast_env/lib/python3.10/site-packages/statsmodels/tsa/stattools.py:1005\u001b[0m, in \u001b[0;36mpacf\u001b[0;34m(x, nlags, method, alpha)\u001b[0m\n\u001b[1;32m   1003\u001b[0m     efficient \u001b[39m=\u001b[39m \u001b[39m\"\u001b[39m\u001b[39minefficient\u001b[39m\u001b[39m\"\u001b[39m \u001b[39mnot\u001b[39;00m \u001b[39min\u001b[39;00m method\n\u001b[1;32m   1004\u001b[0m     adjusted \u001b[39m=\u001b[39m \u001b[39m\"\u001b[39m\u001b[39madjusted\u001b[39m\u001b[39m\"\u001b[39m \u001b[39min\u001b[39;00m method\n\u001b[0;32m-> 1005\u001b[0m     ret \u001b[39m=\u001b[39m pacf_ols(x, nlags\u001b[39m=\u001b[39;49mnlags, efficient\u001b[39m=\u001b[39;49mefficient, adjusted\u001b[39m=\u001b[39;49madjusted)\n\u001b[1;32m   1006\u001b[0m \u001b[39melif\u001b[39;00m method \u001b[39min\u001b[39;00m (\u001b[39m\"\u001b[39m\u001b[39myw\u001b[39m\u001b[39m\"\u001b[39m, \u001b[39m\"\u001b[39m\u001b[39mywa\u001b[39m\u001b[39m\"\u001b[39m, \u001b[39m\"\u001b[39m\u001b[39mywadjusted\u001b[39m\u001b[39m\"\u001b[39m, \u001b[39m\"\u001b[39m\u001b[39myw_adjusted\u001b[39m\u001b[39m\"\u001b[39m):\n\u001b[1;32m   1007\u001b[0m     ret \u001b[39m=\u001b[39m pacf_yw(x, nlags\u001b[39m=\u001b[39mnlags, method\u001b[39m=\u001b[39m\u001b[39m\"\u001b[39m\u001b[39madjusted\u001b[39m\u001b[39m\"\u001b[39m)\n",
      "File \u001b[0;32m~/anaconda3/envs/rsast_env/lib/python3.10/site-packages/pandas/util/_decorators.py:211\u001b[0m, in \u001b[0;36mdeprecate_kwarg.<locals>._deprecate_kwarg.<locals>.wrapper\u001b[0;34m(*args, **kwargs)\u001b[0m\n\u001b[1;32m    209\u001b[0m     \u001b[39melse\u001b[39;00m:\n\u001b[1;32m    210\u001b[0m         kwargs[new_arg_name] \u001b[39m=\u001b[39m new_arg_value\n\u001b[0;32m--> 211\u001b[0m \u001b[39mreturn\u001b[39;00m func(\u001b[39m*\u001b[39;49margs, \u001b[39m*\u001b[39;49m\u001b[39m*\u001b[39;49mkwargs)\n",
      "File \u001b[0;32m~/anaconda3/envs/rsast_env/lib/python3.10/site-packages/statsmodels/tsa/stattools.py:885\u001b[0m, in \u001b[0;36mpacf_ols\u001b[0;34m(x, nlags, efficient, adjusted)\u001b[0m\n\u001b[1;32m    883\u001b[0m     xlags \u001b[39m=\u001b[39m add_constant(xlags)\n\u001b[1;32m    884\u001b[0m     \u001b[39mfor\u001b[39;00m k \u001b[39min\u001b[39;00m \u001b[39mrange\u001b[39m(\u001b[39m1\u001b[39m, nlags \u001b[39m+\u001b[39m \u001b[39m1\u001b[39m):\n\u001b[0;32m--> 885\u001b[0m         params \u001b[39m=\u001b[39m lstsq(xlags[k:, : k \u001b[39m+\u001b[39;49m \u001b[39m1\u001b[39;49m], x0[k:], rcond\u001b[39m=\u001b[39;49m\u001b[39mNone\u001b[39;49;00m)[\u001b[39m0\u001b[39m]\n\u001b[1;32m    886\u001b[0m         pacf[k] \u001b[39m=\u001b[39m params[\u001b[39m-\u001b[39m\u001b[39m1\u001b[39m]\n\u001b[1;32m    887\u001b[0m \u001b[39melse\u001b[39;00m:\n",
      "File \u001b[0;32m~/anaconda3/envs/rsast_env/lib/python3.10/site-packages/statsmodels/compat/numpy.py:69\u001b[0m, in \u001b[0;36mlstsq\u001b[0;34m(a, b, rcond)\u001b[0m\n\u001b[1;32m     67\u001b[0m \u001b[39mif\u001b[39;00m NP_LT_114 \u001b[39mand\u001b[39;00m rcond \u001b[39mis\u001b[39;00m \u001b[39mNone\u001b[39;00m:\n\u001b[1;32m     68\u001b[0m     rcond \u001b[39m=\u001b[39m \u001b[39m-\u001b[39m\u001b[39m1\u001b[39m\n\u001b[0;32m---> 69\u001b[0m \u001b[39mreturn\u001b[39;00m np\u001b[39m.\u001b[39;49mlinalg\u001b[39m.\u001b[39;49mlstsq(a, b, rcond\u001b[39m=\u001b[39;49mrcond)\n",
      "File \u001b[0;32m<__array_function__ internals>:180\u001b[0m, in \u001b[0;36mlstsq\u001b[0;34m(*args, **kwargs)\u001b[0m\n",
      "File \u001b[0;32m~/anaconda3/envs/rsast_env/lib/python3.10/site-packages/numpy/linalg/linalg.py:2300\u001b[0m, in \u001b[0;36mlstsq\u001b[0;34m(a, b, rcond)\u001b[0m\n\u001b[1;32m   2297\u001b[0m \u001b[39mif\u001b[39;00m n_rhs \u001b[39m==\u001b[39m \u001b[39m0\u001b[39m:\n\u001b[1;32m   2298\u001b[0m     \u001b[39m# lapack can't handle n_rhs = 0 - so allocate the array one larger in that axis\u001b[39;00m\n\u001b[1;32m   2299\u001b[0m     b \u001b[39m=\u001b[39m zeros(b\u001b[39m.\u001b[39mshape[:\u001b[39m-\u001b[39m\u001b[39m2\u001b[39m] \u001b[39m+\u001b[39m (m, n_rhs \u001b[39m+\u001b[39m \u001b[39m1\u001b[39m), dtype\u001b[39m=\u001b[39mb\u001b[39m.\u001b[39mdtype)\n\u001b[0;32m-> 2300\u001b[0m x, resids, rank, s \u001b[39m=\u001b[39m gufunc(a, b, rcond, signature\u001b[39m=\u001b[39;49msignature, extobj\u001b[39m=\u001b[39;49mextobj)\n\u001b[1;32m   2301\u001b[0m \u001b[39mif\u001b[39;00m m \u001b[39m==\u001b[39m \u001b[39m0\u001b[39m:\n\u001b[1;32m   2302\u001b[0m     x[\u001b[39m.\u001b[39m\u001b[39m.\u001b[39m\u001b[39m.\u001b[39m] \u001b[39m=\u001b[39m \u001b[39m0\u001b[39m\n",
      "\u001b[0;31mKeyboardInterrupt\u001b[0m: "
     ]
    }
   ],
   "source": [
    "runs = 1\n",
    "#list\n",
    "df_result = {}\n",
    "list_score = []\n",
    "list_time = []\n",
    "list_dataset = []\n",
    "list_hyperparameter = []\n",
    "list_method = []\n",
    "list_rpoint = []\n",
    "list_nb_per_class = []\n",
    "\n",
    "\n",
    "for ds in ds_sens:\n",
    "    print(\"ds=\"+ds)\n",
    "    X_train, y_train = load_UCR_UEA_dataset(name=ds, extract_path='data', split=\"train\", return_type=\"numpy2d\")\n",
    "    X_test, y_test = load_UCR_UEA_dataset(name=ds, extract_path='data', split=\"test\", return_type=\"numpy2d\")\n",
    "    for i in range(runs):\n",
    "        \n",
    "        p=50\n",
    "        k=100\n",
    "        print(\"RSAST ACF&PACF: n_random_points=\"+str(p)+\" nb_inst_per_class=\"+str(k))\n",
    "        start = time.time()\n",
    "        random_state = None\n",
    "        rsast_ridge = RSAST(n_random_points=p,nb_inst_per_class=k, len_method=\"both\", classifier=RidgeClassifierCV())\n",
    "        rsast_ridge.fit(X_train, y_train)\n",
    "        end = time.time()\n",
    "        list_score.append(rsast_ridge.score(X_test,y_test))\n",
    "        list_time.append(end-start)\n",
    "        list_dataset.append(ds)\n",
    "        list_hyperparameter.append(\"ACF&PACF: n_random_points=\"+str(p)+\" nb_inst_per_class=\"+str(k))\n",
    "        list_rpoint.append(str(p))\n",
    "        list_nb_per_class.append(str(k))\n",
    "        list_method.append(\"ACF&PACF: Rsast\")\n",
    "        \n",
    "        \n",
    "        p=50\n",
    "        k=100\n",
    "        print(\"RSAST Max PACF: n_random_points=\"+str(p)+\" nb_inst_per_class=\"+str(k))\n",
    "        start = time.time()\n",
    "        random_state = None\n",
    "        rsast_ridge = RSAST(n_random_points=p,nb_inst_per_class=k, len_method=\"Max PACF\", classifier=RidgeClassifierCV())\n",
    "        rsast_ridge.fit(X_train, y_train)\n",
    "        end = time.time()\n",
    "        list_score.append(rsast_ridge.score(X_test,y_test))\n",
    "        list_time.append(end-start)\n",
    "        list_dataset.append(ds)\n",
    "        list_hyperparameter.append(\"Max PACF: n_random_points=\"+str(p)+\" nb_inst_per_class=\"+str(k))\n",
    "        list_rpoint.append(str(p))\n",
    "        list_nb_per_class.append(str(k))\n",
    "        list_method.append(\"Max PACF: Rsast\")\n",
    "        \n",
    "        print(\"ROCKET: kernels=10_000\")\n",
    "        start = time.time()\n",
    "        rocket= RocketClassifier(num_kernels=10_000)\n",
    "        rocket.fit(X_train,y_train)\n",
    "        end = time.time()\n",
    "        list_score.append(rocket.score(X_test,y_test))\n",
    "        list_time.append(end-start)\n",
    "        list_dataset.append(ds)\n",
    "        list_hyperparameter.append(\"num_kernels=10_000\")\n",
    "        list_rpoint.append(str(0))\n",
    "        list_nb_per_class.append(str(0))\n",
    "        list_method.append(\"Rocket\")\n",
    "        \n",
    "        '''\n",
    "        print(\"STC: min_shapelet_length=\"+str(min_shp_length)+\" max_shapelet_length=\"+str(np.inf))\n",
    "        min_shp_length = 3\n",
    "        max_shp_length = X_train.shape[1]\n",
    "        start = time.time()\n",
    "        #Creating a ShapeletTransform and fitting\n",
    "        st = ShapeletTransform(min_shapelet_length=min_shp_length, max_shapelet_length=np.inf)\n",
    "        X_train_sktime = from_2d_array_to_nested(pd.DataFrame(X_train))\n",
    "        X_test_sktime = from_2d_array_to_nested(pd.DataFrame(X_test))\n",
    "        st.fit(X_train_sktime, y_train)\n",
    "        #Making the tranformation of time series and training a RandomForestClassifier model\n",
    "        X_test_transformed = st.transform(X_test_sktime)\n",
    "        X_train_transformed = st.transform(X_train_sktime)\n",
    "        clf = RandomForestClassifier()\n",
    "        clf.fit(X_train_transformed, y_train)\n",
    "\n",
    "        end = time.time()\n",
    "        list_score.append(clf.score(X_test_transformed, y_test))\n",
    "        list_time.append(end-start)\n",
    "        list_dataset.append(ds)\n",
    "        list_hyperparameter.append(\"min_shapelet_length=\"+str(min_shp_length)+\" max_shapelet_length=\"+str(max_shp_length))\n",
    "        list_rpoint.append(str(0))\n",
    "        list_nb_per_class.append(str(0))\n",
    "        list_method.append(\"STC\")       \n",
    "        '''\n",
    "        \n",
    "        \n",
    "\n",
    "df_result['accuracy']=list_score\n",
    "df_result['time']=list_time\n",
    "df_result['dataset_name']=list_dataset\n",
    "df_result['classifier_name']=list_hyperparameter\n",
    "df_result['rpoint']=list_rpoint\n",
    "df_result['nb_per_class']=list_nb_per_class\n",
    "df_result['method']=list_method\n",
    "df_result=pd.DataFrame(df_result)\n",
    "# export a overall dataset with the comparison\n",
    "df_result.to_csv(\"df_overall_comparison_results.csv\")"
   ]
  },
  {
   "cell_type": "code",
   "execution_count": null,
   "metadata": {},
   "outputs": [],
   "source": [
    "df_result=pd.read_csv(\"df_overall_comparison_results.csv\")"
   ]
  },
  {
   "cell_type": "code",
   "execution_count": 12,
   "metadata": {},
   "outputs": [],
   "source": [
    "\n",
    "# create and export a pivot table with the mean of score of different methods\n",
    "pivot_table = pd.pivot_table(df_result, values='accuracy', index=['classifier_name','dataset_name'], aggfunc='mean')\n",
    "pivot_table.to_csv(\"df_pivot_overall_comparison.csv\") "
   ]
  },
  {
   "cell_type": "code",
   "execution_count": 13,
   "metadata": {},
   "outputs": [
    {
     "data": {
      "text/html": [
       "<div>\n",
       "<style scoped>\n",
       "    .dataframe tbody tr th:only-of-type {\n",
       "        vertical-align: middle;\n",
       "    }\n",
       "\n",
       "    .dataframe tbody tr th {\n",
       "        vertical-align: top;\n",
       "    }\n",
       "\n",
       "    .dataframe thead th {\n",
       "        text-align: right;\n",
       "    }\n",
       "</style>\n",
       "<table border=\"1\" class=\"dataframe\">\n",
       "  <thead>\n",
       "    <tr style=\"text-align: right;\">\n",
       "      <th></th>\n",
       "      <th>dataset_name</th>\n",
       "      <th>Chinatown</th>\n",
       "    </tr>\n",
       "    <tr>\n",
       "      <th>method</th>\n",
       "      <th>classifier_name</th>\n",
       "      <th></th>\n",
       "    </tr>\n",
       "  </thead>\n",
       "  <tbody>\n",
       "    <tr>\n",
       "      <th>Rocket</th>\n",
       "      <th>num_kernels=10_000</th>\n",
       "      <td>0.981535</td>\n",
       "    </tr>\n",
       "    <tr>\n",
       "      <th rowspan=\"2\" valign=\"top\">Rsast</th>\n",
       "      <th>n_random_points=10 nb_inst_per_class=100</th>\n",
       "      <td>0.978620</td>\n",
       "    </tr>\n",
       "    <tr>\n",
       "      <th>n_random_points=100 nb_inst_per_class=10</th>\n",
       "      <td>0.984451</td>\n",
       "    </tr>\n",
       "    <tr>\n",
       "      <th>STC</th>\n",
       "      <th>min_shapelet_length=3 max_shapelet_length=24</th>\n",
       "      <td>0.973761</td>\n",
       "    </tr>\n",
       "  </tbody>\n",
       "</table>\n",
       "</div>"
      ],
      "text/plain": [
       "dataset_name                                         Chinatown\n",
       "method classifier_name                                        \n",
       "Rocket num_kernels=10_000                             0.981535\n",
       "Rsast  n_random_points=10 nb_inst_per_class=100       0.978620\n",
       "       n_random_points=100 nb_inst_per_class=10       0.984451\n",
       "STC    min_shapelet_length=3 max_shapelet_length=24   0.973761"
      ]
     },
     "execution_count": 13,
     "metadata": {},
     "output_type": "execute_result"
    }
   ],
   "source": [
    "# create a pivot table with the mean of score by hyperparameter\n",
    "pd.pivot_table(df_result, values='accuracy', index=['method','classifier_name'],columns=['dataset_name'], aggfunc='mean')"
   ]
  },
  {
   "cell_type": "code",
   "execution_count": 14,
   "metadata": {},
   "outputs": [
    {
     "data": {
      "text/html": [
       "<div>\n",
       "<style scoped>\n",
       "    .dataframe tbody tr th:only-of-type {\n",
       "        vertical-align: middle;\n",
       "    }\n",
       "\n",
       "    .dataframe tbody tr th {\n",
       "        vertical-align: top;\n",
       "    }\n",
       "\n",
       "    .dataframe thead th {\n",
       "        text-align: right;\n",
       "    }\n",
       "</style>\n",
       "<table border=\"1\" class=\"dataframe\">\n",
       "  <thead>\n",
       "    <tr style=\"text-align: right;\">\n",
       "      <th></th>\n",
       "      <th>dataset_name</th>\n",
       "      <th>Chinatown</th>\n",
       "    </tr>\n",
       "    <tr>\n",
       "      <th>method</th>\n",
       "      <th>classifier_name</th>\n",
       "      <th></th>\n",
       "    </tr>\n",
       "  </thead>\n",
       "  <tbody>\n",
       "    <tr>\n",
       "      <th>Rocket</th>\n",
       "      <th>num_kernels=10_000</th>\n",
       "      <td>0.000003</td>\n",
       "    </tr>\n",
       "    <tr>\n",
       "      <th rowspan=\"2\" valign=\"top\">Rsast</th>\n",
       "      <th>n_random_points=10 nb_inst_per_class=100</th>\n",
       "      <td>0.000020</td>\n",
       "    </tr>\n",
       "    <tr>\n",
       "      <th>n_random_points=100 nb_inst_per_class=10</th>\n",
       "      <td>0.000003</td>\n",
       "    </tr>\n",
       "    <tr>\n",
       "      <th>STC</th>\n",
       "      <th>min_shapelet_length=3 max_shapelet_length=24</th>\n",
       "      <td>0.000000</td>\n",
       "    </tr>\n",
       "  </tbody>\n",
       "</table>\n",
       "</div>"
      ],
      "text/plain": [
       "dataset_name                                         Chinatown\n",
       "method classifier_name                                        \n",
       "Rocket num_kernels=10_000                             0.000003\n",
       "Rsast  n_random_points=10 nb_inst_per_class=100       0.000020\n",
       "       n_random_points=100 nb_inst_per_class=10       0.000003\n",
       "STC    min_shapelet_length=3 max_shapelet_length=24   0.000000"
      ]
     },
     "execution_count": 14,
     "metadata": {},
     "output_type": "execute_result"
    }
   ],
   "source": [
    "# create a pivot table with the variatioon of score by hyperparameter\n",
    "pd.pivot_table(df_result, values='accuracy', index=['method','classifier_name'],columns=['dataset_name'], aggfunc='var')"
   ]
  },
  {
   "cell_type": "code",
   "execution_count": 15,
   "metadata": {},
   "outputs": [
    {
     "data": {
      "text/html": [
       "<div>\n",
       "<style scoped>\n",
       "    .dataframe tbody tr th:only-of-type {\n",
       "        vertical-align: middle;\n",
       "    }\n",
       "\n",
       "    .dataframe tbody tr th {\n",
       "        vertical-align: top;\n",
       "    }\n",
       "\n",
       "    .dataframe thead th {\n",
       "        text-align: right;\n",
       "    }\n",
       "</style>\n",
       "<table border=\"1\" class=\"dataframe\">\n",
       "  <thead>\n",
       "    <tr style=\"text-align: right;\">\n",
       "      <th></th>\n",
       "      <th>dataset_name</th>\n",
       "      <th>Chinatown</th>\n",
       "    </tr>\n",
       "    <tr>\n",
       "      <th>method</th>\n",
       "      <th>classifier_name</th>\n",
       "      <th></th>\n",
       "    </tr>\n",
       "  </thead>\n",
       "  <tbody>\n",
       "    <tr>\n",
       "      <th>Rocket</th>\n",
       "      <th>num_kernels=10_000</th>\n",
       "      <td>0.138847</td>\n",
       "    </tr>\n",
       "    <tr>\n",
       "      <th rowspan=\"2\" valign=\"top\">Rsast</th>\n",
       "      <th>n_random_points=10 nb_inst_per_class=100</th>\n",
       "      <td>0.002140</td>\n",
       "    </tr>\n",
       "    <tr>\n",
       "      <th>n_random_points=100 nb_inst_per_class=10</th>\n",
       "      <td>0.014794</td>\n",
       "    </tr>\n",
       "    <tr>\n",
       "      <th>STC</th>\n",
       "      <th>min_shapelet_length=3 max_shapelet_length=24</th>\n",
       "      <td>1.427007</td>\n",
       "    </tr>\n",
       "  </tbody>\n",
       "</table>\n",
       "</div>"
      ],
      "text/plain": [
       "dataset_name                                         Chinatown\n",
       "method classifier_name                                        \n",
       "Rocket num_kernels=10_000                             0.138847\n",
       "Rsast  n_random_points=10 nb_inst_per_class=100       0.002140\n",
       "       n_random_points=100 nb_inst_per_class=10       0.014794\n",
       "STC    min_shapelet_length=3 max_shapelet_length=24   1.427007"
      ]
     },
     "execution_count": 15,
     "metadata": {},
     "output_type": "execute_result"
    }
   ],
   "source": [
    "# create a pivot table with the mean of time spent in minutes\n",
    "pd.pivot_table(df_result, values='time', index=['method','classifier_name'],columns=['dataset_name'], aggfunc='mean')/60"
   ]
  }
 ],
 "metadata": {
  "kernelspec": {
   "display_name": "Python 3 (ipykernel)",
   "language": "python",
   "name": "python3"
  },
  "language_info": {
   "codemirror_mode": {
    "name": "ipython",
    "version": 3
   },
   "file_extension": ".py",
   "mimetype": "text/x-python",
   "name": "python",
   "nbconvert_exporter": "python",
   "pygments_lexer": "ipython3",
   "version": "3.10.9"
  },
  "vscode": {
   "interpreter": {
    "hash": "ad2bdc8ecc057115af97d19610ffacc2b4e99fae6737bb82f5d7fb13d2f2c186"
   }
  }
 },
 "nbformat": 4,
 "nbformat_minor": 2
}
