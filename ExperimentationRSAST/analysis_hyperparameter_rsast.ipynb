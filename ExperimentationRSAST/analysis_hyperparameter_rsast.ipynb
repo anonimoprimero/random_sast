{
 "cells": [
  {
   "attachments": {},
   "cell_type": "markdown",
   "metadata": {},
   "source": [
    "## Experiments: Sensitive Analysis Hyperparameter RSAST:\n"
   ]
  },
  {
   "attachments": {},
   "cell_type": "markdown",
   "metadata": {},
   "source": [
    "It is runned RSAST in a set of UCR datasets with a predefined number of runs (\"runs\"). Then, it is selected a range (\"range_total\") between 1, 10, 30 ,50 and 100 for the selected dataset."
   ]
  },
  {
   "cell_type": "code",
   "execution_count": 109,
   "metadata": {},
   "outputs": [
    {
     "data": {
      "text/plain": [
       "['c:\\\\Users\\\\Public\\\\random_sast\\\\ExperimentationRSAST',\n",
       " 'c:\\\\ProgramData\\\\Anaconda3\\\\python39.zip',\n",
       " 'c:\\\\ProgramData\\\\Anaconda3\\\\DLLs',\n",
       " 'c:\\\\ProgramData\\\\Anaconda3\\\\lib',\n",
       " 'c:\\\\ProgramData\\\\Anaconda3',\n",
       " '',\n",
       " 'C:\\\\Users\\\\Nicolas R\\\\AppData\\\\Roaming\\\\Python\\\\Python39\\\\site-packages',\n",
       " 'c:\\\\ProgramData\\\\Anaconda3\\\\lib\\\\site-packages',\n",
       " 'c:\\\\ProgramData\\\\Anaconda3\\\\lib\\\\site-packages\\\\win32',\n",
       " 'c:\\\\ProgramData\\\\Anaconda3\\\\lib\\\\site-packages\\\\win32\\\\lib',\n",
       " 'c:\\\\ProgramData\\\\Anaconda3\\\\lib\\\\site-packages\\\\Pythonwin',\n",
       " 'c:\\\\ProgramData\\\\Anaconda3\\\\lib\\\\site-packages\\\\IPython\\\\extensions',\n",
       " 'C:\\\\Users\\\\Nicolas R\\\\.ipython',\n",
       " 'c:\\\\Users\\\\Public\\\\random_sast/sast',\n",
       " 'c:\\\\Users\\\\Public\\\\random_sast\\\\sast',\n",
       " 'c:\\\\Users\\\\Public\\\\random_sast\\\\ExperimentationRSAST/sast',\n",
       " 'c:\\\\Users\\\\Public\\\\random_sast\\\\ExperimentationRSAST\\\\sast',\n",
       " 'c:\\\\Users\\\\Public\\\\random_sast\\\\cd_diagram',\n",
       " 'c:\\\\Users\\\\Public\\\\random_sast/cd_diagram',\n",
       " 'c:\\\\Users\\\\Public\\\\random_sast\\\\ExperimentationRSAST\\\\cd_diagram',\n",
       " 'c:\\\\Users\\\\Public\\\\random_sast\\\\ExperimentationRSAST/cd_diagram',\n",
       " 'c:\\\\Users\\\\Public\\\\random_sast/sast',\n",
       " 'c:\\\\Users\\\\Public\\\\random_sast\\\\sast',\n",
       " 'c:\\\\Users\\\\Public\\\\random_sast\\\\ExperimentationRSAST/sast',\n",
       " 'c:\\\\Users\\\\Public\\\\random_sast\\\\ExperimentationRSAST\\\\sast',\n",
       " 'c:\\\\Users\\\\Public\\\\random_sast\\\\cd_diagram',\n",
       " 'c:\\\\Users\\\\Public\\\\random_sast/cd_diagram',\n",
       " 'c:\\\\Users\\\\Public\\\\random_sast\\\\ExperimentationRSAST\\\\cd_diagram',\n",
       " 'c:\\\\Users\\\\Public\\\\random_sast\\\\ExperimentationRSAST/cd_diagram',\n",
       " 'c:\\\\Users\\\\Public\\\\random_sast/sast',\n",
       " 'c:\\\\Users\\\\Public\\\\random_sast\\\\sast',\n",
       " 'c:\\\\Users\\\\Public\\\\random_sast\\\\ExperimentationRSAST/sast',\n",
       " 'c:\\\\Users\\\\Public\\\\random_sast\\\\ExperimentationRSAST\\\\sast',\n",
       " 'c:\\\\Users\\\\Public\\\\random_sast\\\\cd_diagram',\n",
       " 'c:\\\\Users\\\\Public\\\\random_sast/cd_diagram',\n",
       " 'c:\\\\Users\\\\Public\\\\random_sast\\\\ExperimentationRSAST\\\\cd_diagram',\n",
       " 'c:\\\\Users\\\\Public\\\\random_sast\\\\ExperimentationRSAST/cd_diagram',\n",
       " 'c:\\\\Users\\\\Public\\\\random_sast/sast',\n",
       " 'c:\\\\Users\\\\Public\\\\random_sast\\\\sast',\n",
       " 'c:\\\\Users\\\\Public\\\\random_sast\\\\ExperimentationRSAST/sast',\n",
       " 'c:\\\\Users\\\\Public\\\\random_sast\\\\ExperimentationRSAST\\\\sast',\n",
       " 'c:\\\\Users\\\\Public\\\\random_sast\\\\cd_diagram',\n",
       " 'c:\\\\Users\\\\Public\\\\random_sast/cd_diagram',\n",
       " 'c:\\\\Users\\\\Public\\\\random_sast\\\\ExperimentationRSAST\\\\cd_diagram',\n",
       " 'c:\\\\Users\\\\Public\\\\random_sast\\\\ExperimentationRSAST/cd_diagram',\n",
       " 'c:\\\\Users\\\\Public\\\\random_sast/sast',\n",
       " 'c:\\\\Users\\\\Public\\\\random_sast\\\\sast',\n",
       " 'c:\\\\Users\\\\Public\\\\random_sast\\\\ExperimentationRSAST/sast',\n",
       " 'c:\\\\Users\\\\Public\\\\random_sast\\\\ExperimentationRSAST\\\\sast',\n",
       " 'c:\\\\Users\\\\Public\\\\random_sast\\\\cd_diagram',\n",
       " 'c:\\\\Users\\\\Public\\\\random_sast/cd_diagram',\n",
       " 'c:\\\\Users\\\\Public\\\\random_sast\\\\ExperimentationRSAST\\\\cd_diagram',\n",
       " 'c:\\\\Users\\\\Public\\\\random_sast\\\\ExperimentationRSAST/cd_diagram']"
      ]
     },
     "execution_count": 109,
     "metadata": {},
     "output_type": "execute_result"
    }
   ],
   "source": [
    "import sys \n",
    "import os \n",
    "#add sast library path\n",
    "file_path = os.path.dirname(os.getcwd())+\"/sast\"\n",
    "\n",
    "#file_path = r\"C:\\Users\\Public\\random_sast\\sast\"\n",
    "sys.path.append(file_path)\n",
    "\n",
    "file_path = os.path.dirname(os.getcwd())+\"\\sast\"\n",
    "\n",
    "\n",
    "#file_path = r\"C:\\Users\\Public\\random_sast\\sast\"\n",
    "sys.path.append(file_path)\n",
    "\n",
    "file_path = os.getcwd()+\"/sast\"\n",
    "\n",
    "\n",
    "#file_path = r\"C:\\Users\\Public\\random_sast\\sast\"\n",
    "sys.path.append(file_path)\n",
    "\n",
    "file_path = os.getcwd()+\"\\sast\"\n",
    "\n",
    "\n",
    "#file_path = r\"C:\\Users\\Public\\random_sast\\sast\"\n",
    "sys.path.append(file_path)\n",
    "\n",
    "#add cd_diagram library path\n",
    "file_path = os.path.dirname(os.getcwd())+\"\\cd_diagram\"\n",
    "\n",
    "#file_path = r\"C:\\Users\\Public\\random_sast\\cd_diagram\"\n",
    "sys.path.append(file_path)\n",
    "\n",
    "\n",
    "file_path = os.path.dirname(os.getcwd())+\"/cd_diagram\"\n",
    "#file_path = r\"C:\\Users\\Public\\random_sast\\sast\"\n",
    "sys.path.append(file_path)\n",
    "\n",
    "file_path = os.getcwd()+\"\\cd_diagram\"\n",
    "#file_path = r\"C:\\Users\\Public\\random_sast\\sast\"\n",
    "sys.path.append(file_path)\n",
    "\n",
    "file_path = os.getcwd()+\"/cd_diagram\"\n",
    "#file_path = r\"C:\\Users\\Public\\random_sast\\sast\"\n",
    "sys.path.append(file_path)\n",
    "\n",
    "sys.path\n"
   ]
  },
  {
   "cell_type": "code",
   "execution_count": 110,
   "metadata": {},
   "outputs": [],
   "source": [
    "from sast import *\n",
    "import pandas as pd\n",
    "import researchpy\n",
    "import math\n",
    "import matplotlib.pyplot as plt\n",
    "import seaborn as sns"
   ]
  },
  {
   "attachments": {},
   "cell_type": "markdown",
   "metadata": {},
   "source": [
    "### Reading Datasets"
   ]
  },
  {
   "cell_type": "code",
   "execution_count": 111,
   "metadata": {},
   "outputs": [],
   "source": [
    "# Set directory where the csv files are located\n",
    "directory = os.getcwd()+'/ResultsByClassifier'\n",
    "\n",
    "# Create an empty list to store the dataframes\n",
    "dfs = []\n",
    "\n",
    "# Loop through all files in the directory\n",
    "for filename in os.listdir(directory):\n",
    "    # Check if the file starts with \"df_overall_tunning\" and ends with \".csv\"\n",
    "    if filename.endswith(\".csv\"):\n",
    "        # Read the csv file into a dataframe\n",
    "        filepath = os.path.join(directory, filename)\n",
    "        df = pd.read_csv(filepath)\n",
    "        # Append the dataframe to the list\n",
    "        df['filename']=filename\n",
    "        dfs.append(df)\n",
    "\n",
    "# Concatenate all the dataframes in the list into one dataframe\n",
    "df_other_methods = pd.concat(dfs, ignore_index=True)\n",
    "df_other_methods=df_other_methods[['filename','folds:','0']]\n",
    "df_other_methods['method']=df_other_methods['filename'].str.split('_').str[0]\n",
    "df_other_methods\n",
    "df_other_methods=df_other_methods.rename(columns={'folds:':'dataset','0':'score'})\n",
    "df_other_methods=df_other_methods[['dataset','score','method']]\n"
   ]
  },
  {
   "cell_type": "code",
   "execution_count": 112,
   "metadata": {},
   "outputs": [
    {
     "data": {
      "text/plain": [
       "array(['BOSS', 'Catch22', 'cBOSS', 'HIVE-COTEv1', 'InceptionTime',\n",
       "       'ProximityForest', 'ResNet', 'RISE', 'ROCKET', 'S-BOSS', 'SAST',\n",
       "       'STC', 'TS-CHIEF', 'TSF', 'WEASEL'], dtype=object)"
      ]
     },
     "execution_count": 112,
     "metadata": {},
     "output_type": "execute_result"
    }
   ],
   "source": [
    "df_other_methods['method'].unique()"
   ]
  },
  {
   "cell_type": "code",
   "execution_count": 113,
   "metadata": {},
   "outputs": [
    {
     "name": "stderr",
     "output_type": "stream",
     "text": [
      "C:\\Users\\Nicolas R\\AppData\\Local\\Temp\\ipykernel_6928\\859506575.py:27: FutureWarning: The default value of regex will change from True to False in a future version.\n",
      "  df['classifier_name']=df['classifier_name'].str.replace(\"\\(lenthg ts\\)//2\",\"half_len\")\n",
      "C:\\Users\\Nicolas R\\AppData\\Local\\Temp\\ipykernel_6928\\859506575.py:28: FutureWarning: The default value of regex will change from True to False in a future version.\n",
      "  df['classifier_name']=df['classifier_name'].str.replace(\"\\(max instances per class\\)//2\",\"half_instance\")\n",
      "C:\\Users\\Nicolas R\\AppData\\Local\\Temp\\ipykernel_6928\\859506575.py:27: FutureWarning: The default value of regex will change from True to False in a future version.\n",
      "  df['classifier_name']=df['classifier_name'].str.replace(\"\\(lenthg ts\\)//2\",\"half_len\")\n",
      "C:\\Users\\Nicolas R\\AppData\\Local\\Temp\\ipykernel_6928\\859506575.py:28: FutureWarning: The default value of regex will change from True to False in a future version.\n",
      "  df['classifier_name']=df['classifier_name'].str.replace(\"\\(max instances per class\\)//2\",\"half_instance\")\n",
      "C:\\Users\\Nicolas R\\AppData\\Local\\Temp\\ipykernel_6928\\859506575.py:27: FutureWarning: The default value of regex will change from True to False in a future version.\n",
      "  df['classifier_name']=df['classifier_name'].str.replace(\"\\(lenthg ts\\)//2\",\"half_len\")\n",
      "C:\\Users\\Nicolas R\\AppData\\Local\\Temp\\ipykernel_6928\\859506575.py:28: FutureWarning: The default value of regex will change from True to False in a future version.\n",
      "  df['classifier_name']=df['classifier_name'].str.replace(\"\\(max instances per class\\)//2\",\"half_instance\")\n",
      "C:\\Users\\Nicolas R\\AppData\\Local\\Temp\\ipykernel_6928\\859506575.py:27: FutureWarning: The default value of regex will change from True to False in a future version.\n",
      "  df['classifier_name']=df['classifier_name'].str.replace(\"\\(lenthg ts\\)//2\",\"half_len\")\n",
      "C:\\Users\\Nicolas R\\AppData\\Local\\Temp\\ipykernel_6928\\859506575.py:28: FutureWarning: The default value of regex will change from True to False in a future version.\n",
      "  df['classifier_name']=df['classifier_name'].str.replace(\"\\(max instances per class\\)//2\",\"half_instance\")\n",
      "C:\\Users\\Nicolas R\\AppData\\Local\\Temp\\ipykernel_6928\\859506575.py:27: FutureWarning: The default value of regex will change from True to False in a future version.\n",
      "  df['classifier_name']=df['classifier_name'].str.replace(\"\\(lenthg ts\\)//2\",\"half_len\")\n",
      "C:\\Users\\Nicolas R\\AppData\\Local\\Temp\\ipykernel_6928\\859506575.py:28: FutureWarning: The default value of regex will change from True to False in a future version.\n",
      "  df['classifier_name']=df['classifier_name'].str.replace(\"\\(max instances per class\\)//2\",\"half_instance\")\n",
      "C:\\Users\\Nicolas R\\AppData\\Local\\Temp\\ipykernel_6928\\859506575.py:27: FutureWarning: The default value of regex will change from True to False in a future version.\n",
      "  df['classifier_name']=df['classifier_name'].str.replace(\"\\(lenthg ts\\)//2\",\"half_len\")\n",
      "C:\\Users\\Nicolas R\\AppData\\Local\\Temp\\ipykernel_6928\\859506575.py:28: FutureWarning: The default value of regex will change from True to False in a future version.\n",
      "  df['classifier_name']=df['classifier_name'].str.replace(\"\\(max instances per class\\)//2\",\"half_instance\")\n",
      "C:\\Users\\Nicolas R\\AppData\\Local\\Temp\\ipykernel_6928\\859506575.py:27: FutureWarning: The default value of regex will change from True to False in a future version.\n",
      "  df['classifier_name']=df['classifier_name'].str.replace(\"\\(lenthg ts\\)//2\",\"half_len\")\n",
      "C:\\Users\\Nicolas R\\AppData\\Local\\Temp\\ipykernel_6928\\859506575.py:28: FutureWarning: The default value of regex will change from True to False in a future version.\n",
      "  df['classifier_name']=df['classifier_name'].str.replace(\"\\(max instances per class\\)//2\",\"half_instance\")\n",
      "C:\\Users\\Nicolas R\\AppData\\Local\\Temp\\ipykernel_6928\\859506575.py:27: FutureWarning: The default value of regex will change from True to False in a future version.\n",
      "  df['classifier_name']=df['classifier_name'].str.replace(\"\\(lenthg ts\\)//2\",\"half_len\")\n",
      "C:\\Users\\Nicolas R\\AppData\\Local\\Temp\\ipykernel_6928\\859506575.py:28: FutureWarning: The default value of regex will change from True to False in a future version.\n",
      "  df['classifier_name']=df['classifier_name'].str.replace(\"\\(max instances per class\\)//2\",\"half_instance\")\n",
      "C:\\Users\\Nicolas R\\AppData\\Local\\Temp\\ipykernel_6928\\859506575.py:27: FutureWarning: The default value of regex will change from True to False in a future version.\n",
      "  df['classifier_name']=df['classifier_name'].str.replace(\"\\(lenthg ts\\)//2\",\"half_len\")\n",
      "C:\\Users\\Nicolas R\\AppData\\Local\\Temp\\ipykernel_6928\\859506575.py:28: FutureWarning: The default value of regex will change from True to False in a future version.\n",
      "  df['classifier_name']=df['classifier_name'].str.replace(\"\\(max instances per class\\)//2\",\"half_instance\")\n",
      "C:\\Users\\Nicolas R\\AppData\\Local\\Temp\\ipykernel_6928\\859506575.py:27: FutureWarning: The default value of regex will change from True to False in a future version.\n",
      "  df['classifier_name']=df['classifier_name'].str.replace(\"\\(lenthg ts\\)//2\",\"half_len\")\n",
      "C:\\Users\\Nicolas R\\AppData\\Local\\Temp\\ipykernel_6928\\859506575.py:28: FutureWarning: The default value of regex will change from True to False in a future version.\n",
      "  df['classifier_name']=df['classifier_name'].str.replace(\"\\(max instances per class\\)//2\",\"half_instance\")\n",
      "C:\\Users\\Nicolas R\\AppData\\Local\\Temp\\ipykernel_6928\\859506575.py:27: FutureWarning: The default value of regex will change from True to False in a future version.\n",
      "  df['classifier_name']=df['classifier_name'].str.replace(\"\\(lenthg ts\\)//2\",\"half_len\")\n",
      "C:\\Users\\Nicolas R\\AppData\\Local\\Temp\\ipykernel_6928\\859506575.py:28: FutureWarning: The default value of regex will change from True to False in a future version.\n",
      "  df['classifier_name']=df['classifier_name'].str.replace(\"\\(max instances per class\\)//2\",\"half_instance\")\n",
      "C:\\Users\\Nicolas R\\AppData\\Local\\Temp\\ipykernel_6928\\859506575.py:27: FutureWarning: The default value of regex will change from True to False in a future version.\n",
      "  df['classifier_name']=df['classifier_name'].str.replace(\"\\(lenthg ts\\)//2\",\"half_len\")\n",
      "C:\\Users\\Nicolas R\\AppData\\Local\\Temp\\ipykernel_6928\\859506575.py:28: FutureWarning: The default value of regex will change from True to False in a future version.\n",
      "  df['classifier_name']=df['classifier_name'].str.replace(\"\\(max instances per class\\)//2\",\"half_instance\")\n",
      "C:\\Users\\Nicolas R\\AppData\\Local\\Temp\\ipykernel_6928\\859506575.py:27: FutureWarning: The default value of regex will change from True to False in a future version.\n",
      "  df['classifier_name']=df['classifier_name'].str.replace(\"\\(lenthg ts\\)//2\",\"half_len\")\n",
      "C:\\Users\\Nicolas R\\AppData\\Local\\Temp\\ipykernel_6928\\859506575.py:28: FutureWarning: The default value of regex will change from True to False in a future version.\n",
      "  df['classifier_name']=df['classifier_name'].str.replace(\"\\(max instances per class\\)//2\",\"half_instance\")\n",
      "C:\\Users\\Nicolas R\\AppData\\Local\\Temp\\ipykernel_6928\\859506575.py:27: FutureWarning: The default value of regex will change from True to False in a future version.\n",
      "  df['classifier_name']=df['classifier_name'].str.replace(\"\\(lenthg ts\\)//2\",\"half_len\")\n",
      "C:\\Users\\Nicolas R\\AppData\\Local\\Temp\\ipykernel_6928\\859506575.py:28: FutureWarning: The default value of regex will change from True to False in a future version.\n",
      "  df['classifier_name']=df['classifier_name'].str.replace(\"\\(max instances per class\\)//2\",\"half_instance\")\n",
      "C:\\Users\\Nicolas R\\AppData\\Local\\Temp\\ipykernel_6928\\859506575.py:27: FutureWarning: The default value of regex will change from True to False in a future version.\n",
      "  df['classifier_name']=df['classifier_name'].str.replace(\"\\(lenthg ts\\)//2\",\"half_len\")\n",
      "C:\\Users\\Nicolas R\\AppData\\Local\\Temp\\ipykernel_6928\\859506575.py:28: FutureWarning: The default value of regex will change from True to False in a future version.\n",
      "  df['classifier_name']=df['classifier_name'].str.replace(\"\\(max instances per class\\)//2\",\"half_instance\")\n",
      "C:\\Users\\Nicolas R\\AppData\\Local\\Temp\\ipykernel_6928\\859506575.py:27: FutureWarning: The default value of regex will change from True to False in a future version.\n",
      "  df['classifier_name']=df['classifier_name'].str.replace(\"\\(lenthg ts\\)//2\",\"half_len\")\n",
      "C:\\Users\\Nicolas R\\AppData\\Local\\Temp\\ipykernel_6928\\859506575.py:28: FutureWarning: The default value of regex will change from True to False in a future version.\n",
      "  df['classifier_name']=df['classifier_name'].str.replace(\"\\(max instances per class\\)//2\",\"half_instance\")\n",
      "C:\\Users\\Nicolas R\\AppData\\Local\\Temp\\ipykernel_6928\\859506575.py:27: FutureWarning: The default value of regex will change from True to False in a future version.\n",
      "  df['classifier_name']=df['classifier_name'].str.replace(\"\\(lenthg ts\\)//2\",\"half_len\")\n",
      "C:\\Users\\Nicolas R\\AppData\\Local\\Temp\\ipykernel_6928\\859506575.py:28: FutureWarning: The default value of regex will change from True to False in a future version.\n",
      "  df['classifier_name']=df['classifier_name'].str.replace(\"\\(max instances per class\\)//2\",\"half_instance\")\n",
      "C:\\Users\\Nicolas R\\AppData\\Local\\Temp\\ipykernel_6928\\859506575.py:27: FutureWarning: The default value of regex will change from True to False in a future version.\n",
      "  df['classifier_name']=df['classifier_name'].str.replace(\"\\(lenthg ts\\)//2\",\"half_len\")\n",
      "C:\\Users\\Nicolas R\\AppData\\Local\\Temp\\ipykernel_6928\\859506575.py:28: FutureWarning: The default value of regex will change from True to False in a future version.\n",
      "  df['classifier_name']=df['classifier_name'].str.replace(\"\\(max instances per class\\)//2\",\"half_instance\")\n",
      "C:\\Users\\Nicolas R\\AppData\\Local\\Temp\\ipykernel_6928\\859506575.py:27: FutureWarning: The default value of regex will change from True to False in a future version.\n",
      "  df['classifier_name']=df['classifier_name'].str.replace(\"\\(lenthg ts\\)//2\",\"half_len\")\n",
      "C:\\Users\\Nicolas R\\AppData\\Local\\Temp\\ipykernel_6928\\859506575.py:28: FutureWarning: The default value of regex will change from True to False in a future version.\n",
      "  df['classifier_name']=df['classifier_name'].str.replace(\"\\(max instances per class\\)//2\",\"half_instance\")\n"
     ]
    }
   ],
   "source": [
    "# Set directory where the csv files are located\n",
    "#directory = os.getcwd()+'/ResultsRsast'\n",
    "#directory = os.getcwd()+'/results_accuracy_per_ds'\n",
    "\n",
    "directories=[]\n",
    "directories.append(os.getcwd()+'/ResultsRsast/Server16_Hyperparameter_Tunning')\n",
    "directories.append(os.getcwd()+'/ResultsRsast/Server17_Hyperparameter_Tunning')\n",
    "#directories.append(os.getcwd()+'/results_accuracy_per_ds')\n",
    "#directories.append(os.getcwd()+'/results_accuracy_per_ds_10000')\n",
    "\n",
    "\n",
    "# Create an empty list to store the dataframes\n",
    "dfs = []\n",
    "\n",
    "# Loop through all files in the directory\n",
    "for directory in directories:\n",
    "    for filename in os.listdir(directory):\n",
    "        # Check if the file starts with \"df_overall_tunning\" and ends with \".csv\"\n",
    "        if filename.startswith(\"df_all_overall_tunning\") and filename.endswith(\".csv\"):\n",
    "            # Read the csv file into a dataframe\n",
    "            filepath = os.path.join(directory, filename)\n",
    "            df = pd.read_csv(filepath)\n",
    "            df['rpoint']=df['rpoint'].astype(str)\n",
    "            df['nb_per_class']=df['nb_per_class'].astype(str)\n",
    "            df['rpoint']=df['rpoint'].replace(\"(lenthg ts)//2\",\"half_len\")\n",
    "            df['nb_per_class']=df['nb_per_class'].replace(\"(max instances per class)//2\",\"half_instance\")\n",
    "            df['classifier_name']=df['classifier_name'].str.replace(\"\\(lenthg ts\\)//2\",\"half_len\")\n",
    "            df['classifier_name']=df['classifier_name'].str.replace(\"\\(max instances per class\\)//2\",\"half_instance\")\n",
    "            # Append the dataframe to the list\n",
    "            dfs.append(df)\n",
    "\n",
    "# Concatenate all the dataframes in the list into one dataframe\n",
    "df_result = pd.concat(dfs, ignore_index=True)\n",
    "# df_result.head(3)\n"
   ]
  },
  {
   "cell_type": "code",
   "execution_count": 114,
   "metadata": {},
   "outputs": [],
   "source": [
    "#create dataset to generate cd diagram\n",
    "df_perf=pd.pivot_table(df_result, values='accuracy', index=['classifier_name','dataset_name'], aggfunc='mean')\n",
    "df_perf=df_perf.reset_index()\n",
    "#df_perf.classifier_name.unique()"
   ]
  },
  {
   "cell_type": "code",
   "execution_count": 115,
   "metadata": {},
   "outputs": [],
   "source": [
    "#filter dataset for cd-diagrams with the ds that has already tested all combinations of params\n",
    "param_per_ds=pd.pivot_table(df_perf, index=['dataset_name'],values=['classifier_name'] ,aggfunc='count')\n",
    "param_per_ds=param_per_ds.reset_index()\n",
    "complete_ds=param_per_ds[param_per_ds.classifier_name==max(param_per_ds.classifier_name)][\"dataset_name\"].unique()\n",
    "\n",
    "complete_ds=complete_ds.tolist()\n",
    "\n",
    "#complete_ds.remove('DistalPhalanxOutlineCorrect')\n",
    "\n",
    "#df_perf=df_perf[df_perf.dataset_name.isin(complete_ds)]\n",
    "#df_result=df_result[df_result.dataset_name.isin(complete_ds)]\n"
   ]
  },
  {
   "cell_type": "code",
   "execution_count": 116,
   "metadata": {},
   "outputs": [
    {
     "data": {
      "text/plain": [
       "array(['ItalyPowerDemand', 'ToeSegmentation2', 'Car', 'SmoothSubspace'],\n",
       "      dtype=object)"
      ]
     },
     "execution_count": 116,
     "metadata": {},
     "output_type": "execute_result"
    }
   ],
   "source": [
    "#get ds tested overall\n",
    "df_result['dataset_name'].unique()"
   ]
  },
  {
   "cell_type": "code",
   "execution_count": 117,
   "metadata": {},
   "outputs": [
    {
     "data": {
      "text/plain": [
       "Index(['Unnamed: 0', 'accuracy', 'time', 'cweights_time', 'fsubsequence_time',\n",
       "       'tdataset_time', 'tclassifier_time', 'dataset_name', 'classifier_name',\n",
       "       'rpoint', 'nb_per_class', 'method', 'len_method'],\n",
       "      dtype='object')"
      ]
     },
     "execution_count": 117,
     "metadata": {},
     "output_type": "execute_result"
    }
   ],
   "source": [
    "#get columns of generated datasets\n",
    "df_result.columns.unique()"
   ]
  },
  {
   "cell_type": "code",
   "execution_count": 118,
   "metadata": {},
   "outputs": [
    {
     "data": {
      "text/plain": [
       "array(['Car', 'ItalyPowerDemand', 'SmoothSubspace', 'ToeSegmentation2'],\n",
       "      dtype=object)"
      ]
     },
     "execution_count": 118,
     "metadata": {},
     "output_type": "execute_result"
    }
   ],
   "source": [
    "#get ds tested overall\n",
    "df_perf['dataset_name'].unique()"
   ]
  },
  {
   "cell_type": "code",
   "execution_count": 119,
   "metadata": {},
   "outputs": [
    {
     "data": {
      "text/plain": [
       "Index(['classifier_name', 'dataset_name', 'accuracy'], dtype='object')"
      ]
     },
     "execution_count": 119,
     "metadata": {},
     "output_type": "execute_result"
    }
   ],
   "source": [
    "#get columns of generated datasets\n",
    "df_perf.columns.unique()"
   ]
  },
  {
   "attachments": {},
   "cell_type": "markdown",
   "metadata": {},
   "source": [
    "### Hyperparameter Tunning RSAST "
   ]
  },
  {
   "attachments": {},
   "cell_type": "markdown",
   "metadata": {},
   "source": [
    "#### Accuracy: Subsequence Lenght Method "
   ]
  },
  {
   "cell_type": "code",
   "execution_count": 120,
   "metadata": {},
   "outputs": [
    {
     "data": {
      "text/plain": [
       "array(['ItalyPowerDemand', 'ToeSegmentation2', 'Car', 'SmoothSubspace'],\n",
       "      dtype=object)"
      ]
     },
     "execution_count": 120,
     "metadata": {},
     "output_type": "execute_result"
    }
   ],
   "source": [
    "filter_param=df_result\n",
    "\n",
    "#filter_param=filter_param[filter_param.len_method=='ACF&PACF']\n",
    "filter_param.dataset_name.unique()"
   ]
  },
  {
   "cell_type": "code",
   "execution_count": 121,
   "metadata": {},
   "outputs": [
    {
     "data": {
      "text/plain": [
       "array(['1', '10', '30', '50', '100'], dtype=object)"
      ]
     },
     "execution_count": 121,
     "metadata": {},
     "output_type": "execute_result"
    }
   ],
   "source": [
    "filter_param.rpoint.unique()"
   ]
  },
  {
   "cell_type": "code",
   "execution_count": 122,
   "metadata": {},
   "outputs": [],
   "source": [
    "#filter_param=filter_param[filter_param.rpoint=='half_len']"
   ]
  },
  {
   "cell_type": "code",
   "execution_count": 123,
   "metadata": {},
   "outputs": [
    {
     "data": {
      "text/plain": [
       "array(['1', '10', '30', '50'], dtype=object)"
      ]
     },
     "execution_count": 123,
     "metadata": {},
     "output_type": "execute_result"
    }
   ],
   "source": [
    "filter_param.nb_per_class.unique()"
   ]
  },
  {
   "cell_type": "code",
   "execution_count": 124,
   "metadata": {},
   "outputs": [],
   "source": [
    "#filter_param=filter_param[filter_param.nb_per_class=='30']"
   ]
  },
  {
   "cell_type": "code",
   "execution_count": 125,
   "metadata": {},
   "outputs": [
    {
     "data": {
      "text/html": [
       "<div>\n",
       "<style scoped>\n",
       "    .dataframe tbody tr th:only-of-type {\n",
       "        vertical-align: middle;\n",
       "    }\n",
       "\n",
       "    .dataframe tbody tr th {\n",
       "        vertical-align: top;\n",
       "    }\n",
       "\n",
       "    .dataframe thead th {\n",
       "        text-align: right;\n",
       "    }\n",
       "</style>\n",
       "<table border=\"1\" class=\"dataframe\">\n",
       "  <thead>\n",
       "    <tr style=\"text-align: right;\">\n",
       "      <th></th>\n",
       "      <th>dataset_name</th>\n",
       "      <th>ACF</th>\n",
       "      <th>ACF&amp;PACF</th>\n",
       "      <th>Max ACF</th>\n",
       "      <th>Max PACF</th>\n",
       "      <th>None</th>\n",
       "      <th>PACF</th>\n",
       "      <th>score</th>\n",
       "      <th>method</th>\n",
       "    </tr>\n",
       "  </thead>\n",
       "  <tbody>\n",
       "    <tr>\n",
       "      <th>0</th>\n",
       "      <td>Car</td>\n",
       "      <td>0.510625</td>\n",
       "      <td>0.827083</td>\n",
       "      <td>0.544375</td>\n",
       "      <td>0.716042</td>\n",
       "      <td>0.786250</td>\n",
       "      <td>0.846458</td>\n",
       "      <td>0.88</td>\n",
       "      <td>SAST</td>\n",
       "    </tr>\n",
       "    <tr>\n",
       "      <th>1</th>\n",
       "      <td>ItalyPowerDemand</td>\n",
       "      <td>0.926919</td>\n",
       "      <td>0.934189</td>\n",
       "      <td>0.937580</td>\n",
       "      <td>0.927055</td>\n",
       "      <td>0.928017</td>\n",
       "      <td>0.933537</td>\n",
       "      <td>0.96</td>\n",
       "      <td>SAST</td>\n",
       "    </tr>\n",
       "    <tr>\n",
       "      <th>2</th>\n",
       "      <td>SmoothSubspace</td>\n",
       "      <td>0.839200</td>\n",
       "      <td>0.864867</td>\n",
       "      <td>0.833533</td>\n",
       "      <td>0.859067</td>\n",
       "      <td>0.832200</td>\n",
       "      <td>0.868267</td>\n",
       "      <td>0.91</td>\n",
       "      <td>SAST</td>\n",
       "    </tr>\n",
       "    <tr>\n",
       "      <th>3</th>\n",
       "      <td>ToeSegmentation2</td>\n",
       "      <td>0.875846</td>\n",
       "      <td>0.890692</td>\n",
       "      <td>0.855308</td>\n",
       "      <td>0.858538</td>\n",
       "      <td>0.811385</td>\n",
       "      <td>0.886769</td>\n",
       "      <td>0.88</td>\n",
       "      <td>SAST</td>\n",
       "    </tr>\n",
       "  </tbody>\n",
       "</table>\n",
       "</div>"
      ],
      "text/plain": [
       "       dataset_name       ACF  ACF&PACF   Max ACF  Max PACF      None  \\\n",
       "0               Car  0.510625  0.827083  0.544375  0.716042  0.786250   \n",
       "1  ItalyPowerDemand  0.926919  0.934189  0.937580  0.927055  0.928017   \n",
       "2    SmoothSubspace  0.839200  0.864867  0.833533  0.859067  0.832200   \n",
       "3  ToeSegmentation2  0.875846  0.890692  0.855308  0.858538  0.811385   \n",
       "\n",
       "       PACF  score method  \n",
       "0  0.846458   0.88   SAST  \n",
       "1  0.933537   0.96   SAST  \n",
       "2  0.868267   0.91   SAST  \n",
       "3  0.886769   0.88   SAST  "
      ]
     },
     "execution_count": 125,
     "metadata": {},
     "output_type": "execute_result"
    }
   ],
   "source": [
    "# create a pivot table with the mean of score by dataset\n",
    "len_method_vs_ds=pd.pivot_table(filter_param, values='accuracy', index=['len_method'],columns=['dataset_name'], aggfunc='mean')\n",
    "len_method_vs_ds=np.transpose(len_method_vs_ds)#[['ACF','PACF']]\n",
    "len_method_vs_ds=len_method_vs_ds.reset_index()\n",
    "df_rocket=df_other_methods[df_other_methods[\"method\"]==\"SAST\"]\n",
    "merged_df = len_method_vs_ds.merge(df_rocket,left_on='dataset_name', right_on='dataset',  how='left')\n",
    "merged_df=merged_df.drop('dataset',axis=1)\n",
    "merged_df\n"
   ]
  },
  {
   "cell_type": "code",
   "execution_count": 126,
   "metadata": {},
   "outputs": [
    {
     "name": "stdout",
     "output_type": "stream",
     "text": [
      "\n",
      "\n"
     ]
    },
    {
     "data": {
      "text/html": [
       "<div>\n",
       "<style scoped>\n",
       "    .dataframe tbody tr th:only-of-type {\n",
       "        vertical-align: middle;\n",
       "    }\n",
       "\n",
       "    .dataframe tbody tr th {\n",
       "        vertical-align: top;\n",
       "    }\n",
       "\n",
       "    .dataframe thead th {\n",
       "        text-align: right;\n",
       "    }\n",
       "</style>\n",
       "<table border=\"1\" class=\"dataframe\">\n",
       "  <thead>\n",
       "    <tr style=\"text-align: right;\">\n",
       "      <th></th>\n",
       "      <th>N</th>\n",
       "      <th>Mean</th>\n",
       "      <th>SD</th>\n",
       "      <th>SE</th>\n",
       "      <th>95% Conf.</th>\n",
       "      <th>Interval</th>\n",
       "    </tr>\n",
       "    <tr>\n",
       "      <th>len_method</th>\n",
       "      <th></th>\n",
       "      <th></th>\n",
       "      <th></th>\n",
       "      <th></th>\n",
       "      <th></th>\n",
       "      <th></th>\n",
       "    </tr>\n",
       "  </thead>\n",
       "  <tbody>\n",
       "    <tr>\n",
       "      <th>ACF</th>\n",
       "      <td>380</td>\n",
       "      <td>0.8028</td>\n",
       "      <td>0.1718</td>\n",
       "      <td>0.0088</td>\n",
       "      <td>0.7854</td>\n",
       "      <td>0.8201</td>\n",
       "    </tr>\n",
       "    <tr>\n",
       "      <th>ACF&amp;PACF</th>\n",
       "      <td>380</td>\n",
       "      <td>0.8820</td>\n",
       "      <td>0.0658</td>\n",
       "      <td>0.0034</td>\n",
       "      <td>0.8753</td>\n",
       "      <td>0.8886</td>\n",
       "    </tr>\n",
       "    <tr>\n",
       "      <th>Max ACF</th>\n",
       "      <td>380</td>\n",
       "      <td>0.8058</td>\n",
       "      <td>0.1614</td>\n",
       "      <td>0.0083</td>\n",
       "      <td>0.7895</td>\n",
       "      <td>0.8220</td>\n",
       "    </tr>\n",
       "    <tr>\n",
       "      <th>Max PACF</th>\n",
       "      <td>380</td>\n",
       "      <td>0.8467</td>\n",
       "      <td>0.1076</td>\n",
       "      <td>0.0055</td>\n",
       "      <td>0.8359</td>\n",
       "      <td>0.8576</td>\n",
       "    </tr>\n",
       "    <tr>\n",
       "      <th>None</th>\n",
       "      <td>380</td>\n",
       "      <td>0.8423</td>\n",
       "      <td>0.1063</td>\n",
       "      <td>0.0055</td>\n",
       "      <td>0.8315</td>\n",
       "      <td>0.8530</td>\n",
       "    </tr>\n",
       "    <tr>\n",
       "      <th>PACF</th>\n",
       "      <td>380</td>\n",
       "      <td>0.8857</td>\n",
       "      <td>0.0655</td>\n",
       "      <td>0.0034</td>\n",
       "      <td>0.8791</td>\n",
       "      <td>0.8923</td>\n",
       "    </tr>\n",
       "  </tbody>\n",
       "</table>\n",
       "</div>"
      ],
      "text/plain": [
       "              N    Mean      SD      SE  95% Conf.  Interval\n",
       "len_method                                                  \n",
       "ACF         380  0.8028  0.1718  0.0088     0.7854    0.8201\n",
       "ACF&PACF    380  0.8820  0.0658  0.0034     0.8753    0.8886\n",
       "Max ACF     380  0.8058  0.1614  0.0083     0.7895    0.8220\n",
       "Max PACF    380  0.8467  0.1076  0.0055     0.8359    0.8576\n",
       "None        380  0.8423  0.1063  0.0055     0.8315    0.8530\n",
       "PACF        380  0.8857  0.0655  0.0034     0.8791    0.8923"
      ]
     },
     "execution_count": 126,
     "metadata": {},
     "output_type": "execute_result"
    }
   ],
   "source": [
    "\n",
    "# Summary statistics for a Series (single variable)\n",
    "researchpy.summary_cont(filter_param.groupby(['len_method'])['accuracy'], conf = 0.95)"
   ]
  },
  {
   "cell_type": "code",
   "execution_count": 127,
   "metadata": {},
   "outputs": [
    {
     "name": "stdout",
     "output_type": "stream",
     "text": [
      "                mean  count       std   ci95_hi   ci95_lo\n",
      "len_method                                               \n",
      "ACF         0.802754    380  0.171782  0.820026  0.785482\n",
      "ACF&PACF    0.881951    380  0.065813  0.888568  0.875334\n",
      "Max ACF     0.805769    380  0.161386  0.821995  0.789542\n",
      "Max PACF    0.846709    380  0.107555  0.857523  0.835895\n",
      "None        0.842264    380  0.106307  0.852952  0.831575\n",
      "PACF        0.885721    380  0.065490  0.892306  0.879136\n"
     ]
    }
   ],
   "source": [
    "stats = filter_param.groupby(['len_method'])['accuracy'].agg(['mean', 'count', 'std'])\n",
    "\n",
    "ci95_hi = []\n",
    "ci95_lo = []\n",
    "\n",
    "for i in stats.index:\n",
    "    m, c, s = stats.loc[i]\n",
    "    ci95_hi.append(m + 1.96*s/math.sqrt(c))\n",
    "    ci95_lo.append(m - 1.96*s/math.sqrt(c))\n",
    "\n",
    "stats['ci95_hi'] = ci95_hi\n",
    "stats['ci95_lo'] = ci95_lo\n",
    "print(stats.head(10))"
   ]
  },
  {
   "attachments": {},
   "cell_type": "markdown",
   "metadata": {},
   "source": [
    "#### Generate Boxplot Tunning Hyperparameter"
   ]
  },
  {
   "cell_type": "code",
   "execution_count": 128,
   "metadata": {},
   "outputs": [
    {
     "data": {
      "text/plain": [
       "array(['1', '10', '30', '50'], dtype=object)"
      ]
     },
     "execution_count": 128,
     "metadata": {},
     "output_type": "execute_result"
    }
   ],
   "source": [
    "df_result.nb_per_class.unique()"
   ]
  },
  {
   "cell_type": "code",
   "execution_count": 129,
   "metadata": {},
   "outputs": [
    {
     "data": {
      "text/plain": [
       "array(['ACF&PACF', 'ACF', 'PACF', 'Max ACF', 'Max PACF', 'None'],\n",
       "      dtype=object)"
      ]
     },
     "execution_count": 129,
     "metadata": {},
     "output_type": "execute_result"
    }
   ],
   "source": [
    "df_result.len_method.unique()"
   ]
  },
  {
   "cell_type": "code",
   "execution_count": 163,
   "metadata": {},
   "outputs": [
    {
     "data": {
      "text/html": [
       "<div>\n",
       "<style scoped>\n",
       "    .dataframe tbody tr th:only-of-type {\n",
       "        vertical-align: middle;\n",
       "    }\n",
       "\n",
       "    .dataframe tbody tr th {\n",
       "        vertical-align: top;\n",
       "    }\n",
       "\n",
       "    .dataframe thead th {\n",
       "        text-align: right;\n",
       "    }\n",
       "</style>\n",
       "<table border=\"1\" class=\"dataframe\">\n",
       "  <thead>\n",
       "    <tr style=\"text-align: right;\">\n",
       "      <th></th>\n",
       "      <th>classifier_name</th>\n",
       "      <th>dataset_name</th>\n",
       "      <th>accuracy</th>\n",
       "      <th>len_method</th>\n",
       "      <th>rpoint</th>\n",
       "      <th>nb_per_class</th>\n",
       "      <th>time</th>\n",
       "    </tr>\n",
       "  </thead>\n",
       "  <tbody>\n",
       "    <tr>\n",
       "      <th>6</th>\n",
       "      <td>ACF&amp;PACF: n_random_points=1 nb_inst_per_class=10</td>\n",
       "      <td>ItalyPowerDemand</td>\n",
       "      <td>0.942663</td>\n",
       "      <td>ACF&amp;PACF</td>\n",
       "      <td>1</td>\n",
       "      <td>10</td>\n",
       "      <td>0.481067</td>\n",
       "    </tr>\n",
       "    <tr>\n",
       "      <th>30</th>\n",
       "      <td>ACF&amp;PACF: n_random_points=10 nb_inst_per_class=10</td>\n",
       "      <td>ItalyPowerDemand</td>\n",
       "      <td>0.929057</td>\n",
       "      <td>ACF&amp;PACF</td>\n",
       "      <td>10</td>\n",
       "      <td>10</td>\n",
       "      <td>0.473524</td>\n",
       "    </tr>\n",
       "    <tr>\n",
       "      <th>54</th>\n",
       "      <td>ACF&amp;PACF: n_random_points=30 nb_inst_per_class=10</td>\n",
       "      <td>ItalyPowerDemand</td>\n",
       "      <td>0.945578</td>\n",
       "      <td>ACF&amp;PACF</td>\n",
       "      <td>30</td>\n",
       "      <td>10</td>\n",
       "      <td>0.719085</td>\n",
       "    </tr>\n",
       "    <tr>\n",
       "      <th>78</th>\n",
       "      <td>ACF&amp;PACF: n_random_points=50 nb_inst_per_class=10</td>\n",
       "      <td>ItalyPowerDemand</td>\n",
       "      <td>0.949466</td>\n",
       "      <td>ACF&amp;PACF</td>\n",
       "      <td>50</td>\n",
       "      <td>10</td>\n",
       "      <td>0.671690</td>\n",
       "    </tr>\n",
       "    <tr>\n",
       "      <th>102</th>\n",
       "      <td>ACF&amp;PACF: n_random_points=100 nb_inst_per_clas...</td>\n",
       "      <td>ItalyPowerDemand</td>\n",
       "      <td>0.945578</td>\n",
       "      <td>ACF&amp;PACF</td>\n",
       "      <td>100</td>\n",
       "      <td>10</td>\n",
       "      <td>0.689757</td>\n",
       "    </tr>\n",
       "    <tr>\n",
       "      <th>...</th>\n",
       "      <td>...</td>\n",
       "      <td>...</td>\n",
       "      <td>...</td>\n",
       "      <td>...</td>\n",
       "      <td>...</td>\n",
       "      <td>...</td>\n",
       "      <td>...</td>\n",
       "    </tr>\n",
       "    <tr>\n",
       "      <th>2166</th>\n",
       "      <td>ACF&amp;PACF: n_random_points=1 nb_inst_per_class=10</td>\n",
       "      <td>SmoothSubspace</td>\n",
       "      <td>0.800000</td>\n",
       "      <td>ACF&amp;PACF</td>\n",
       "      <td>1</td>\n",
       "      <td>10</td>\n",
       "      <td>0.808856</td>\n",
       "    </tr>\n",
       "    <tr>\n",
       "      <th>2190</th>\n",
       "      <td>ACF&amp;PACF: n_random_points=10 nb_inst_per_class=10</td>\n",
       "      <td>SmoothSubspace</td>\n",
       "      <td>0.880000</td>\n",
       "      <td>ACF&amp;PACF</td>\n",
       "      <td>10</td>\n",
       "      <td>10</td>\n",
       "      <td>0.498330</td>\n",
       "    </tr>\n",
       "    <tr>\n",
       "      <th>2214</th>\n",
       "      <td>ACF&amp;PACF: n_random_points=30 nb_inst_per_class=10</td>\n",
       "      <td>SmoothSubspace</td>\n",
       "      <td>0.893333</td>\n",
       "      <td>ACF&amp;PACF</td>\n",
       "      <td>30</td>\n",
       "      <td>10</td>\n",
       "      <td>0.521462</td>\n",
       "    </tr>\n",
       "    <tr>\n",
       "      <th>2238</th>\n",
       "      <td>ACF&amp;PACF: n_random_points=50 nb_inst_per_class=10</td>\n",
       "      <td>SmoothSubspace</td>\n",
       "      <td>0.913333</td>\n",
       "      <td>ACF&amp;PACF</td>\n",
       "      <td>50</td>\n",
       "      <td>10</td>\n",
       "      <td>0.550612</td>\n",
       "    </tr>\n",
       "    <tr>\n",
       "      <th>2262</th>\n",
       "      <td>ACF&amp;PACF: n_random_points=100 nb_inst_per_clas...</td>\n",
       "      <td>SmoothSubspace</td>\n",
       "      <td>0.860000</td>\n",
       "      <td>ACF&amp;PACF</td>\n",
       "      <td>100</td>\n",
       "      <td>10</td>\n",
       "      <td>0.608290</td>\n",
       "    </tr>\n",
       "  </tbody>\n",
       "</table>\n",
       "<p>95 rows × 7 columns</p>\n",
       "</div>"
      ],
      "text/plain": [
       "                                        classifier_name      dataset_name  \\\n",
       "6      ACF&PACF: n_random_points=1 nb_inst_per_class=10  ItalyPowerDemand   \n",
       "30    ACF&PACF: n_random_points=10 nb_inst_per_class=10  ItalyPowerDemand   \n",
       "54    ACF&PACF: n_random_points=30 nb_inst_per_class=10  ItalyPowerDemand   \n",
       "78    ACF&PACF: n_random_points=50 nb_inst_per_class=10  ItalyPowerDemand   \n",
       "102   ACF&PACF: n_random_points=100 nb_inst_per_clas...  ItalyPowerDemand   \n",
       "...                                                 ...               ...   \n",
       "2166   ACF&PACF: n_random_points=1 nb_inst_per_class=10    SmoothSubspace   \n",
       "2190  ACF&PACF: n_random_points=10 nb_inst_per_class=10    SmoothSubspace   \n",
       "2214  ACF&PACF: n_random_points=30 nb_inst_per_class=10    SmoothSubspace   \n",
       "2238  ACF&PACF: n_random_points=50 nb_inst_per_class=10    SmoothSubspace   \n",
       "2262  ACF&PACF: n_random_points=100 nb_inst_per_clas...    SmoothSubspace   \n",
       "\n",
       "      accuracy len_method rpoint nb_per_class      time  \n",
       "6     0.942663   ACF&PACF      1           10  0.481067  \n",
       "30    0.929057   ACF&PACF     10           10  0.473524  \n",
       "54    0.945578   ACF&PACF     30           10  0.719085  \n",
       "78    0.949466   ACF&PACF     50           10  0.671690  \n",
       "102   0.945578   ACF&PACF    100           10  0.689757  \n",
       "...        ...        ...    ...          ...       ...  \n",
       "2166  0.800000   ACF&PACF      1           10  0.808856  \n",
       "2190  0.880000   ACF&PACF     10           10  0.498330  \n",
       "2214  0.893333   ACF&PACF     30           10  0.521462  \n",
       "2238  0.913333   ACF&PACF     50           10  0.550612  \n",
       "2262  0.860000   ACF&PACF    100           10  0.608290  \n",
       "\n",
       "[95 rows x 7 columns]"
      ]
     },
     "execution_count": 163,
     "metadata": {},
     "output_type": "execute_result"
    }
   ],
   "source": [
    "#df_perf=pd.pivot_table(df_result, values='accuracy', index=['classifier_name','dataset_name','rpoint'], aggfunc='mean')\n",
    "#df_perf=df_perf.reset_index()\n",
    "df_perf=df_result[[\"classifier_name\",\"dataset_name\",\"accuracy\",\"len_method\",\"rpoint\",\"nb_per_class\",\"time\"]]\n",
    "df_perf.len_method.unique()\n",
    "len_m=\"ACF&PACF\"\n",
    "ints=\"10\"\n",
    "df_to_cd=df_perf[df_perf.classifier_name.str.contains(r'^'+len_m+':.*nb_inst_per_class='+str(ints)+'$')]\n",
    "df_to_cd"
   ]
  },
  {
   "cell_type": "code",
   "execution_count": 173,
   "metadata": {},
   "outputs": [],
   "source": [
    "#generate hyperparameter tuning boxplots\n",
    "\n",
    "for k, ints in enumerate(df_perf.nb_per_class.unique()):\n",
    "\n",
    "    for len_m in df_perf.len_method.unique():\n",
    "        \n",
    "        \n",
    "        df_to_cd=df_perf[df_perf.classifier_name.str.contains(r'^'+len_m+':.*nb_inst_per_class='+str(ints)+'$')]\n",
    "        #df_to_cd=pd.pivot_table(df_to_cd, index=['dataset_name','classifier_name'], columns=['rpoint'],values='accuracy')\n",
    "        #df_to_cd = df_to_cd.reindex(columns=[\"1\",\"10\",\"30\",\"50\",\"100\",\"half_len\"])\n",
    "        \n",
    "        #print(df_to_cd.head(5))\n",
    "\n",
    "        # Plot\n",
    "        fig, ax = plt.subplots()\n",
    "        \n",
    "        \n",
    "        #order=list(df_to_cd)\n",
    "        sns.boxplot(data=df_to_cd, x='rpoint', y='accuracy', palette=\"Blues\")\n",
    "        #plt.boxplot(df_to_cd, labels=list(df_to_cd), showfliers=False)\n",
    "\n",
    "        # Axis details\n",
    "        ax.set(xlabel='number of random points', ylabel='accuracy', title='Accuracy Boxplot for Len method:'+len_m+' and N° of Instances:'+ints)\n",
    "        #plt.xticks([1, 2, 3, 4, 5, 6],list(df_to_cd) )\n",
    "        #print(df_to_cd.describe())\n",
    "\n",
    "        # save plot\n",
    "        plt.savefig('images_boxplot_acc/boxplot_acc'+len_m+ints+'.png')\n",
    "\n",
    "\n"
   ]
  },
  {
   "cell_type": "code",
   "execution_count": 174,
   "metadata": {},
   "outputs": [],
   "source": [
    "#generate hyperparameter tuning boxplots\n",
    "\n",
    "for k, ints in enumerate(df_perf.nb_per_class.unique()):\n",
    "\n",
    "    for len_m in df_perf.len_method.unique():\n",
    "        \n",
    "        for ds in df_perf.dataset_name.unique():\n",
    "            df_to_cd=df_perf[df_perf.classifier_name.str.contains(r'^'+len_m+':.*nb_inst_per_class='+str(ints)+'$')]\n",
    "            df_to_cd=df_to_cd[df_to_cd.dataset_name==ds]\n",
    "            #df_to_cd=pd.pivot_table(df_to_cd, index=['dataset_name','classifier_name'], columns=['rpoint'],values='accuracy')\n",
    "            #df_to_cd = df_to_cd.reindex(columns=[\"1\",\"10\",\"30\",\"50\",\"100\",\"half_len\"])\n",
    "            \n",
    "            #print(df_to_cd.head(5))\n",
    "\n",
    "            # Plot\n",
    "            fig, ax = plt.subplots()\n",
    "            \n",
    "            \n",
    "            #order=list(df_to_cd)\n",
    "            sns.boxplot(data=df_to_cd, x='rpoint', y='accuracy', palette=\"Blues\")\n",
    "            #plt.boxplot(df_to_cd, labels=list(df_to_cd), showfliers=False)\n",
    "\n",
    "            # Axis details\n",
    "            ax.set(xlabel='number of random points', ylabel='accuracy', title='Accuracy Boxplot for Len method:'+len_m+' and N° of Instances:'+ints)\n",
    "            #plt.xticks([1, 2, 3, 4, 5, 6],list(df_to_cd) )\n",
    "            #print(df_to_cd.describe())\n",
    "\n",
    "            # save plot\n",
    "            plt.savefig('images_boxplot_acc_per_ds/boxplot_acc'+len_m+ints+'_'+ds+'.png')"
   ]
  },
  {
   "cell_type": "code",
   "execution_count": 175,
   "metadata": {},
   "outputs": [
    {
     "name": "stderr",
     "output_type": "stream",
     "text": [
      "C:\\Users\\Nicolas R\\AppData\\Local\\Temp\\ipykernel_6928\\870721123.py:9: SettingWithCopyWarning: \n",
      "A value is trying to be set on a copy of a slice from a DataFrame.\n",
      "Try using .loc[row_indexer,col_indexer] = value instead\n",
      "\n",
      "See the caveats in the documentation: https://pandas.pydata.org/pandas-docs/stable/user_guide/indexing.html#returning-a-view-versus-a-copy\n",
      "  df_to_cd[\"time\"]=df_to_cd[\"time\"]/60\n",
      "C:\\Users\\Nicolas R\\AppData\\Local\\Temp\\ipykernel_6928\\870721123.py:9: SettingWithCopyWarning: \n",
      "A value is trying to be set on a copy of a slice from a DataFrame.\n",
      "Try using .loc[row_indexer,col_indexer] = value instead\n",
      "\n",
      "See the caveats in the documentation: https://pandas.pydata.org/pandas-docs/stable/user_guide/indexing.html#returning-a-view-versus-a-copy\n",
      "  df_to_cd[\"time\"]=df_to_cd[\"time\"]/60\n",
      "C:\\Users\\Nicolas R\\AppData\\Local\\Temp\\ipykernel_6928\\870721123.py:9: SettingWithCopyWarning: \n",
      "A value is trying to be set on a copy of a slice from a DataFrame.\n",
      "Try using .loc[row_indexer,col_indexer] = value instead\n",
      "\n",
      "See the caveats in the documentation: https://pandas.pydata.org/pandas-docs/stable/user_guide/indexing.html#returning-a-view-versus-a-copy\n",
      "  df_to_cd[\"time\"]=df_to_cd[\"time\"]/60\n",
      "C:\\Users\\Nicolas R\\AppData\\Local\\Temp\\ipykernel_6928\\870721123.py:9: SettingWithCopyWarning: \n",
      "A value is trying to be set on a copy of a slice from a DataFrame.\n",
      "Try using .loc[row_indexer,col_indexer] = value instead\n",
      "\n",
      "See the caveats in the documentation: https://pandas.pydata.org/pandas-docs/stable/user_guide/indexing.html#returning-a-view-versus-a-copy\n",
      "  df_to_cd[\"time\"]=df_to_cd[\"time\"]/60\n",
      "C:\\Users\\Nicolas R\\AppData\\Local\\Temp\\ipykernel_6928\\870721123.py:9: SettingWithCopyWarning: \n",
      "A value is trying to be set on a copy of a slice from a DataFrame.\n",
      "Try using .loc[row_indexer,col_indexer] = value instead\n",
      "\n",
      "See the caveats in the documentation: https://pandas.pydata.org/pandas-docs/stable/user_guide/indexing.html#returning-a-view-versus-a-copy\n",
      "  df_to_cd[\"time\"]=df_to_cd[\"time\"]/60\n",
      "C:\\Users\\Nicolas R\\AppData\\Local\\Temp\\ipykernel_6928\\870721123.py:9: SettingWithCopyWarning: \n",
      "A value is trying to be set on a copy of a slice from a DataFrame.\n",
      "Try using .loc[row_indexer,col_indexer] = value instead\n",
      "\n",
      "See the caveats in the documentation: https://pandas.pydata.org/pandas-docs/stable/user_guide/indexing.html#returning-a-view-versus-a-copy\n",
      "  df_to_cd[\"time\"]=df_to_cd[\"time\"]/60\n",
      "C:\\Users\\Nicolas R\\AppData\\Local\\Temp\\ipykernel_6928\\870721123.py:9: SettingWithCopyWarning: \n",
      "A value is trying to be set on a copy of a slice from a DataFrame.\n",
      "Try using .loc[row_indexer,col_indexer] = value instead\n",
      "\n",
      "See the caveats in the documentation: https://pandas.pydata.org/pandas-docs/stable/user_guide/indexing.html#returning-a-view-versus-a-copy\n",
      "  df_to_cd[\"time\"]=df_to_cd[\"time\"]/60\n",
      "C:\\Users\\Nicolas R\\AppData\\Local\\Temp\\ipykernel_6928\\870721123.py:9: SettingWithCopyWarning: \n",
      "A value is trying to be set on a copy of a slice from a DataFrame.\n",
      "Try using .loc[row_indexer,col_indexer] = value instead\n",
      "\n",
      "See the caveats in the documentation: https://pandas.pydata.org/pandas-docs/stable/user_guide/indexing.html#returning-a-view-versus-a-copy\n",
      "  df_to_cd[\"time\"]=df_to_cd[\"time\"]/60\n",
      "C:\\Users\\Nicolas R\\AppData\\Local\\Temp\\ipykernel_6928\\870721123.py:9: SettingWithCopyWarning: \n",
      "A value is trying to be set on a copy of a slice from a DataFrame.\n",
      "Try using .loc[row_indexer,col_indexer] = value instead\n",
      "\n",
      "See the caveats in the documentation: https://pandas.pydata.org/pandas-docs/stable/user_guide/indexing.html#returning-a-view-versus-a-copy\n",
      "  df_to_cd[\"time\"]=df_to_cd[\"time\"]/60\n",
      "C:\\Users\\Nicolas R\\AppData\\Local\\Temp\\ipykernel_6928\\870721123.py:9: SettingWithCopyWarning: \n",
      "A value is trying to be set on a copy of a slice from a DataFrame.\n",
      "Try using .loc[row_indexer,col_indexer] = value instead\n",
      "\n",
      "See the caveats in the documentation: https://pandas.pydata.org/pandas-docs/stable/user_guide/indexing.html#returning-a-view-versus-a-copy\n",
      "  df_to_cd[\"time\"]=df_to_cd[\"time\"]/60\n",
      "C:\\Users\\Nicolas R\\AppData\\Local\\Temp\\ipykernel_6928\\870721123.py:9: SettingWithCopyWarning: \n",
      "A value is trying to be set on a copy of a slice from a DataFrame.\n",
      "Try using .loc[row_indexer,col_indexer] = value instead\n",
      "\n",
      "See the caveats in the documentation: https://pandas.pydata.org/pandas-docs/stable/user_guide/indexing.html#returning-a-view-versus-a-copy\n",
      "  df_to_cd[\"time\"]=df_to_cd[\"time\"]/60\n",
      "C:\\Users\\Nicolas R\\AppData\\Local\\Temp\\ipykernel_6928\\870721123.py:9: SettingWithCopyWarning: \n",
      "A value is trying to be set on a copy of a slice from a DataFrame.\n",
      "Try using .loc[row_indexer,col_indexer] = value instead\n",
      "\n",
      "See the caveats in the documentation: https://pandas.pydata.org/pandas-docs/stable/user_guide/indexing.html#returning-a-view-versus-a-copy\n",
      "  df_to_cd[\"time\"]=df_to_cd[\"time\"]/60\n",
      "C:\\Users\\Nicolas R\\AppData\\Local\\Temp\\ipykernel_6928\\870721123.py:9: SettingWithCopyWarning: \n",
      "A value is trying to be set on a copy of a slice from a DataFrame.\n",
      "Try using .loc[row_indexer,col_indexer] = value instead\n",
      "\n",
      "See the caveats in the documentation: https://pandas.pydata.org/pandas-docs/stable/user_guide/indexing.html#returning-a-view-versus-a-copy\n",
      "  df_to_cd[\"time\"]=df_to_cd[\"time\"]/60\n",
      "C:\\Users\\Nicolas R\\AppData\\Local\\Temp\\ipykernel_6928\\870721123.py:9: SettingWithCopyWarning: \n",
      "A value is trying to be set on a copy of a slice from a DataFrame.\n",
      "Try using .loc[row_indexer,col_indexer] = value instead\n",
      "\n",
      "See the caveats in the documentation: https://pandas.pydata.org/pandas-docs/stable/user_guide/indexing.html#returning-a-view-versus-a-copy\n",
      "  df_to_cd[\"time\"]=df_to_cd[\"time\"]/60\n",
      "C:\\Users\\Nicolas R\\AppData\\Local\\Temp\\ipykernel_6928\\870721123.py:9: SettingWithCopyWarning: \n",
      "A value is trying to be set on a copy of a slice from a DataFrame.\n",
      "Try using .loc[row_indexer,col_indexer] = value instead\n",
      "\n",
      "See the caveats in the documentation: https://pandas.pydata.org/pandas-docs/stable/user_guide/indexing.html#returning-a-view-versus-a-copy\n",
      "  df_to_cd[\"time\"]=df_to_cd[\"time\"]/60\n",
      "C:\\Users\\Nicolas R\\AppData\\Local\\Temp\\ipykernel_6928\\870721123.py:9: SettingWithCopyWarning: \n",
      "A value is trying to be set on a copy of a slice from a DataFrame.\n",
      "Try using .loc[row_indexer,col_indexer] = value instead\n",
      "\n",
      "See the caveats in the documentation: https://pandas.pydata.org/pandas-docs/stable/user_guide/indexing.html#returning-a-view-versus-a-copy\n",
      "  df_to_cd[\"time\"]=df_to_cd[\"time\"]/60\n",
      "C:\\Users\\Nicolas R\\AppData\\Local\\Temp\\ipykernel_6928\\870721123.py:9: SettingWithCopyWarning: \n",
      "A value is trying to be set on a copy of a slice from a DataFrame.\n",
      "Try using .loc[row_indexer,col_indexer] = value instead\n",
      "\n",
      "See the caveats in the documentation: https://pandas.pydata.org/pandas-docs/stable/user_guide/indexing.html#returning-a-view-versus-a-copy\n",
      "  df_to_cd[\"time\"]=df_to_cd[\"time\"]/60\n",
      "C:\\Users\\Nicolas R\\AppData\\Local\\Temp\\ipykernel_6928\\870721123.py:9: SettingWithCopyWarning: \n",
      "A value is trying to be set on a copy of a slice from a DataFrame.\n",
      "Try using .loc[row_indexer,col_indexer] = value instead\n",
      "\n",
      "See the caveats in the documentation: https://pandas.pydata.org/pandas-docs/stable/user_guide/indexing.html#returning-a-view-versus-a-copy\n",
      "  df_to_cd[\"time\"]=df_to_cd[\"time\"]/60\n",
      "C:\\Users\\Nicolas R\\AppData\\Local\\Temp\\ipykernel_6928\\870721123.py:9: SettingWithCopyWarning: \n",
      "A value is trying to be set on a copy of a slice from a DataFrame.\n",
      "Try using .loc[row_indexer,col_indexer] = value instead\n",
      "\n",
      "See the caveats in the documentation: https://pandas.pydata.org/pandas-docs/stable/user_guide/indexing.html#returning-a-view-versus-a-copy\n",
      "  df_to_cd[\"time\"]=df_to_cd[\"time\"]/60\n",
      "C:\\Users\\Nicolas R\\AppData\\Local\\Temp\\ipykernel_6928\\870721123.py:9: SettingWithCopyWarning: \n",
      "A value is trying to be set on a copy of a slice from a DataFrame.\n",
      "Try using .loc[row_indexer,col_indexer] = value instead\n",
      "\n",
      "See the caveats in the documentation: https://pandas.pydata.org/pandas-docs/stable/user_guide/indexing.html#returning-a-view-versus-a-copy\n",
      "  df_to_cd[\"time\"]=df_to_cd[\"time\"]/60\n",
      "C:\\Users\\Nicolas R\\AppData\\Local\\Temp\\ipykernel_6928\\870721123.py:9: SettingWithCopyWarning: \n",
      "A value is trying to be set on a copy of a slice from a DataFrame.\n",
      "Try using .loc[row_indexer,col_indexer] = value instead\n",
      "\n",
      "See the caveats in the documentation: https://pandas.pydata.org/pandas-docs/stable/user_guide/indexing.html#returning-a-view-versus-a-copy\n",
      "  df_to_cd[\"time\"]=df_to_cd[\"time\"]/60\n",
      "C:\\Users\\Nicolas R\\AppData\\Local\\Temp\\ipykernel_6928\\870721123.py:9: SettingWithCopyWarning: \n",
      "A value is trying to be set on a copy of a slice from a DataFrame.\n",
      "Try using .loc[row_indexer,col_indexer] = value instead\n",
      "\n",
      "See the caveats in the documentation: https://pandas.pydata.org/pandas-docs/stable/user_guide/indexing.html#returning-a-view-versus-a-copy\n",
      "  df_to_cd[\"time\"]=df_to_cd[\"time\"]/60\n",
      "C:\\Users\\Nicolas R\\AppData\\Local\\Temp\\ipykernel_6928\\870721123.py:9: SettingWithCopyWarning: \n",
      "A value is trying to be set on a copy of a slice from a DataFrame.\n",
      "Try using .loc[row_indexer,col_indexer] = value instead\n",
      "\n",
      "See the caveats in the documentation: https://pandas.pydata.org/pandas-docs/stable/user_guide/indexing.html#returning-a-view-versus-a-copy\n",
      "  df_to_cd[\"time\"]=df_to_cd[\"time\"]/60\n",
      "C:\\Users\\Nicolas R\\AppData\\Local\\Temp\\ipykernel_6928\\870721123.py:9: SettingWithCopyWarning: \n",
      "A value is trying to be set on a copy of a slice from a DataFrame.\n",
      "Try using .loc[row_indexer,col_indexer] = value instead\n",
      "\n",
      "See the caveats in the documentation: https://pandas.pydata.org/pandas-docs/stable/user_guide/indexing.html#returning-a-view-versus-a-copy\n",
      "  df_to_cd[\"time\"]=df_to_cd[\"time\"]/60\n"
     ]
    }
   ],
   "source": [
    "#generate hyperparameter tuning boxplots\n",
    "\n",
    "for k, ints in enumerate(df_perf.nb_per_class.unique()):\n",
    "\n",
    "    for len_m in df_perf.len_method.unique():\n",
    "        \n",
    "        \n",
    "        df_to_cd=df_perf[df_perf.classifier_name.str.contains(r'^'+len_m+':.*nb_inst_per_class='+str(ints)+'$')]\n",
    "        df_to_cd[\"time\"]=df_to_cd[\"time\"]/60\n",
    "        #df_to_cd=pd.pivot_table(df_to_cd, index=['dataset_name','classifier_name'], columns=['rpoint'],values='accuracy')\n",
    "        #df_to_cd = df_to_cd.reindex(columns=[\"1\",\"10\",\"30\",\"50\",\"100\",\"half_len\"])\n",
    "        \n",
    "        #print(df_to_cd.head(5))\n",
    "\n",
    "        # Plot\n",
    "        fig, ax = plt.subplots()\n",
    "        \n",
    "        \n",
    "        #order=list(df_to_cd)\n",
    "        sns.boxplot(data=df_to_cd, x='rpoint', y='time', palette=\"Blues\")\n",
    "        #plt.boxplot(df_to_cd, labels=list(df_to_cd), showfliers=False)\n",
    "\n",
    "        # Axis details\n",
    "        ax.set(xlabel='number of random points', ylabel='time', title='Time Boxplot for Len method:'+len_m+' and N° of Instances:'+ints)\n",
    "        #plt.xticks([1, 2, 3, 4, 5, 6],list(df_to_cd) )\n",
    "        #print(df_to_cd.describe())\n",
    "\n",
    "        # save plot\n",
    "        plt.savefig('images_boxplot_time/boxplot_time'+len_m+ints+'.png')\n",
    "\n",
    "\n"
   ]
  },
  {
   "cell_type": "code",
   "execution_count": 177,
   "metadata": {},
   "outputs": [
    {
     "ename": "ValueError",
     "evalue": "Could not interpret input 'rpoint'",
     "output_type": "error",
     "traceback": [
      "\u001b[1;31m---------------------------------------------------------------------------\u001b[0m",
      "\u001b[1;31mValueError\u001b[0m                                Traceback (most recent call last)",
      "\u001b[1;32m~\\AppData\\Local\\Temp\\ipykernel_6928\\2091253447.py\u001b[0m in \u001b[0;36m<module>\u001b[1;34m\u001b[0m\n\u001b[0;32m     19\u001b[0m \u001b[1;33m\u001b[0m\u001b[0m\n\u001b[0;32m     20\u001b[0m             \u001b[1;31m#order=list(df_to_cd)\u001b[0m\u001b[1;33m\u001b[0m\u001b[1;33m\u001b[0m\u001b[0m\n\u001b[1;32m---> 21\u001b[1;33m             \u001b[0msns\u001b[0m\u001b[1;33m.\u001b[0m\u001b[0mboxplot\u001b[0m\u001b[1;33m(\u001b[0m\u001b[0mdata\u001b[0m\u001b[1;33m=\u001b[0m\u001b[0mdf_to_cd\u001b[0m\u001b[1;33m,\u001b[0m \u001b[0mx\u001b[0m\u001b[1;33m=\u001b[0m\u001b[1;34m'rpoint'\u001b[0m\u001b[1;33m,\u001b[0m \u001b[0my\u001b[0m\u001b[1;33m=\u001b[0m\u001b[1;34m'time'\u001b[0m\u001b[1;33m,\u001b[0m \u001b[0mpalette\u001b[0m\u001b[1;33m=\u001b[0m\u001b[1;34m\"Blues\"\u001b[0m\u001b[1;33m)\u001b[0m\u001b[1;33m\u001b[0m\u001b[1;33m\u001b[0m\u001b[0m\n\u001b[0m\u001b[0;32m     22\u001b[0m             \u001b[1;31m#plt.boxplot(df_to_cd, labels=list(df_to_cd), showfliers=False)\u001b[0m\u001b[1;33m\u001b[0m\u001b[1;33m\u001b[0m\u001b[0m\n\u001b[0;32m     23\u001b[0m \u001b[1;33m\u001b[0m\u001b[0m\n",
      "\u001b[1;32mc:\\ProgramData\\Anaconda3\\lib\\site-packages\\seaborn\\_decorators.py\u001b[0m in \u001b[0;36minner_f\u001b[1;34m(*args, **kwargs)\u001b[0m\n\u001b[0;32m     44\u001b[0m             )\n\u001b[0;32m     45\u001b[0m         \u001b[0mkwargs\u001b[0m\u001b[1;33m.\u001b[0m\u001b[0mupdate\u001b[0m\u001b[1;33m(\u001b[0m\u001b[1;33m{\u001b[0m\u001b[0mk\u001b[0m\u001b[1;33m:\u001b[0m \u001b[0marg\u001b[0m \u001b[1;32mfor\u001b[0m \u001b[0mk\u001b[0m\u001b[1;33m,\u001b[0m \u001b[0marg\u001b[0m \u001b[1;32min\u001b[0m \u001b[0mzip\u001b[0m\u001b[1;33m(\u001b[0m\u001b[0msig\u001b[0m\u001b[1;33m.\u001b[0m\u001b[0mparameters\u001b[0m\u001b[1;33m,\u001b[0m \u001b[0margs\u001b[0m\u001b[1;33m)\u001b[0m\u001b[1;33m}\u001b[0m\u001b[1;33m)\u001b[0m\u001b[1;33m\u001b[0m\u001b[1;33m\u001b[0m\u001b[0m\n\u001b[1;32m---> 46\u001b[1;33m         \u001b[1;32mreturn\u001b[0m \u001b[0mf\u001b[0m\u001b[1;33m(\u001b[0m\u001b[1;33m**\u001b[0m\u001b[0mkwargs\u001b[0m\u001b[1;33m)\u001b[0m\u001b[1;33m\u001b[0m\u001b[1;33m\u001b[0m\u001b[0m\n\u001b[0m\u001b[0;32m     47\u001b[0m     \u001b[1;32mreturn\u001b[0m \u001b[0minner_f\u001b[0m\u001b[1;33m\u001b[0m\u001b[1;33m\u001b[0m\u001b[0m\n\u001b[0;32m     48\u001b[0m \u001b[1;33m\u001b[0m\u001b[0m\n",
      "\u001b[1;32mc:\\ProgramData\\Anaconda3\\lib\\site-packages\\seaborn\\categorical.py\u001b[0m in \u001b[0;36mboxplot\u001b[1;34m(x, y, hue, data, order, hue_order, orient, color, palette, saturation, width, dodge, fliersize, linewidth, whis, ax, **kwargs)\u001b[0m\n\u001b[0;32m   2241\u001b[0m ):\n\u001b[0;32m   2242\u001b[0m \u001b[1;33m\u001b[0m\u001b[0m\n\u001b[1;32m-> 2243\u001b[1;33m     plotter = _BoxPlotter(x, y, hue, data, order, hue_order,\n\u001b[0m\u001b[0;32m   2244\u001b[0m                           \u001b[0morient\u001b[0m\u001b[1;33m,\u001b[0m \u001b[0mcolor\u001b[0m\u001b[1;33m,\u001b[0m \u001b[0mpalette\u001b[0m\u001b[1;33m,\u001b[0m \u001b[0msaturation\u001b[0m\u001b[1;33m,\u001b[0m\u001b[1;33m\u001b[0m\u001b[1;33m\u001b[0m\u001b[0m\n\u001b[0;32m   2245\u001b[0m                           width, dodge, fliersize, linewidth)\n",
      "\u001b[1;32mc:\\ProgramData\\Anaconda3\\lib\\site-packages\\seaborn\\categorical.py\u001b[0m in \u001b[0;36m__init__\u001b[1;34m(self, x, y, hue, data, order, hue_order, orient, color, palette, saturation, width, dodge, fliersize, linewidth)\u001b[0m\n\u001b[0;32m    404\u001b[0m                  width, dodge, fliersize, linewidth):\n\u001b[0;32m    405\u001b[0m \u001b[1;33m\u001b[0m\u001b[0m\n\u001b[1;32m--> 406\u001b[1;33m         \u001b[0mself\u001b[0m\u001b[1;33m.\u001b[0m\u001b[0mestablish_variables\u001b[0m\u001b[1;33m(\u001b[0m\u001b[0mx\u001b[0m\u001b[1;33m,\u001b[0m \u001b[0my\u001b[0m\u001b[1;33m,\u001b[0m \u001b[0mhue\u001b[0m\u001b[1;33m,\u001b[0m \u001b[0mdata\u001b[0m\u001b[1;33m,\u001b[0m \u001b[0morient\u001b[0m\u001b[1;33m,\u001b[0m \u001b[0morder\u001b[0m\u001b[1;33m,\u001b[0m \u001b[0mhue_order\u001b[0m\u001b[1;33m)\u001b[0m\u001b[1;33m\u001b[0m\u001b[1;33m\u001b[0m\u001b[0m\n\u001b[0m\u001b[0;32m    407\u001b[0m         \u001b[0mself\u001b[0m\u001b[1;33m.\u001b[0m\u001b[0mestablish_colors\u001b[0m\u001b[1;33m(\u001b[0m\u001b[0mcolor\u001b[0m\u001b[1;33m,\u001b[0m \u001b[0mpalette\u001b[0m\u001b[1;33m,\u001b[0m \u001b[0msaturation\u001b[0m\u001b[1;33m)\u001b[0m\u001b[1;33m\u001b[0m\u001b[1;33m\u001b[0m\u001b[0m\n\u001b[0;32m    408\u001b[0m \u001b[1;33m\u001b[0m\u001b[0m\n",
      "\u001b[1;32mc:\\ProgramData\\Anaconda3\\lib\\site-packages\\seaborn\\categorical.py\u001b[0m in \u001b[0;36mestablish_variables\u001b[1;34m(self, x, y, hue, data, orient, order, hue_order, units)\u001b[0m\n\u001b[0;32m    151\u001b[0m                 \u001b[1;32mif\u001b[0m \u001b[0misinstance\u001b[0m\u001b[1;33m(\u001b[0m\u001b[0mvar\u001b[0m\u001b[1;33m,\u001b[0m \u001b[0mstr\u001b[0m\u001b[1;33m)\u001b[0m\u001b[1;33m:\u001b[0m\u001b[1;33m\u001b[0m\u001b[1;33m\u001b[0m\u001b[0m\n\u001b[0;32m    152\u001b[0m                     \u001b[0merr\u001b[0m \u001b[1;33m=\u001b[0m \u001b[1;34m\"Could not interpret input '{}'\"\u001b[0m\u001b[1;33m.\u001b[0m\u001b[0mformat\u001b[0m\u001b[1;33m(\u001b[0m\u001b[0mvar\u001b[0m\u001b[1;33m)\u001b[0m\u001b[1;33m\u001b[0m\u001b[1;33m\u001b[0m\u001b[0m\n\u001b[1;32m--> 153\u001b[1;33m                     \u001b[1;32mraise\u001b[0m \u001b[0mValueError\u001b[0m\u001b[1;33m(\u001b[0m\u001b[0merr\u001b[0m\u001b[1;33m)\u001b[0m\u001b[1;33m\u001b[0m\u001b[1;33m\u001b[0m\u001b[0m\n\u001b[0m\u001b[0;32m    154\u001b[0m \u001b[1;33m\u001b[0m\u001b[0m\n\u001b[0;32m    155\u001b[0m             \u001b[1;31m# Figure out the plotting orientation\u001b[0m\u001b[1;33m\u001b[0m\u001b[1;33m\u001b[0m\u001b[0m\n",
      "\u001b[1;31mValueError\u001b[0m: Could not interpret input 'rpoint'"
     ]
    }
   ],
   "source": [
    "#generate hyperparameter tuning boxplots\n",
    "\n",
    "for k, ints in enumerate(df_perf.nb_per_class.unique()):\n",
    "\n",
    "    for len_m in df_perf.len_method.unique():\n",
    "        \n",
    "        for ds in df_perf.dataset_name.unique():\n",
    "            df_to_cd=df_perf[df_perf.classifier_name.str.contains(r'^'+len_m+':.*nb_inst_per_class='+str(ints)+'$')]\n",
    "            df_to_cd=df_to_cd[df_to_cd.dataset_name==ds]\n",
    "            df_to_cd[\"time\"]=df_to_cd[\"time\"]/60\n",
    "            #df_to_cd=pd.pivot_table(df_to_cd, index=['dataset_name','classifier_name'], columns=['rpoint'],values='accuracy')\n",
    "            #df_to_cd = df_to_cd.reindex(columns=[\"1\",\"10\",\"30\",\"50\",\"100\",\"half_len\"])\n",
    "            \n",
    "            #print(df_to_cd.head(5))\n",
    "\n",
    "            # Plot\n",
    "            fig, ax = plt.subplots()\n",
    "            \n",
    "            \n",
    "            #order=list(df_to_cd)\n",
    "            sns.boxplot(data=df_to_cd, x='rpoint', y='time', palette=\"Blues\")\n",
    "            #plt.boxplot(df_to_cd, labels=list(df_to_cd), showfliers=False)\n",
    "\n",
    "            # Axis details\n",
    "            ax.set(xlabel='number of random points', ylabel='time', title='Time Boxplot for Len method:'+len_m+' and N° of Instances:'+ints)\n",
    "            #plt.xticks([1, 2, 3, 4, 5, 6],list(df_to_cd) )\n",
    "            #print(df_to_cd.describe())\n",
    "\n",
    "            # save plot\n",
    "            plt.savefig('images_boxplot_time_per_ds/boxplot_time'+len_m+ints+'_'+ds+'.png')\n"
   ]
  },
  {
   "attachments": {},
   "cell_type": "markdown",
   "metadata": {},
   "source": [
    "#### Generate CD Diagram Tunning Hyperparameter"
   ]
  },
  {
   "cell_type": "code",
   "execution_count": 64,
   "metadata": {},
   "outputs": [
    {
     "name": "stdout",
     "output_type": "stream",
     "text": [
      "len_methodACF&PACF\n",
      "nb_per_class1\n",
      "the null hypothesis over the entire classifiers cannot be rejected\n",
      "len_methodACF\n",
      "nb_per_class1\n"
     ]
    },
    {
     "name": "stderr",
     "output_type": "stream",
     "text": [
      "c:\\ProgramData\\Anaconda3\\lib\\site-packages\\scipy\\stats\\_morestats.py:3255: UserWarning: Exact p-value calculation does not work if there are zeros. Switching to normal approximation.\n",
      "  warnings.warn(\"Exact p-value calculation does not work if there are \"\n",
      "c:\\ProgramData\\Anaconda3\\lib\\site-packages\\scipy\\stats\\_morestats.py:3269: UserWarning: Sample size too small for normal approximation.\n",
      "  warnings.warn(\"Sample size too small for normal approximation.\")\n",
      "c:\\ProgramData\\Anaconda3\\lib\\site-packages\\scipy\\stats\\_morestats.py:3255: UserWarning: Exact p-value calculation does not work if there are zeros. Switching to normal approximation.\n",
      "  warnings.warn(\"Exact p-value calculation does not work if there are \"\n",
      "c:\\ProgramData\\Anaconda3\\lib\\site-packages\\scipy\\stats\\_morestats.py:3269: UserWarning: Sample size too small for normal approximation.\n",
      "  warnings.warn(\"Sample size too small for normal approximation.\")\n"
     ]
    },
    {
     "name": "stdout",
     "output_type": "stream",
     "text": [
      "the null hypothesis over the entire classifiers cannot be rejected\n",
      "len_methodPACF\n",
      "nb_per_class1\n",
      "the null hypothesis over the entire classifiers cannot be rejected\n"
     ]
    },
    {
     "name": "stderr",
     "output_type": "stream",
     "text": [
      "c:\\ProgramData\\Anaconda3\\lib\\site-packages\\scipy\\stats\\_morestats.py:3255: UserWarning: Exact p-value calculation does not work if there are zeros. Switching to normal approximation.\n",
      "  warnings.warn(\"Exact p-value calculation does not work if there are \"\n",
      "c:\\ProgramData\\Anaconda3\\lib\\site-packages\\scipy\\stats\\_morestats.py:3269: UserWarning: Sample size too small for normal approximation.\n",
      "  warnings.warn(\"Sample size too small for normal approximation.\")\n"
     ]
    },
    {
     "name": "stdout",
     "output_type": "stream",
     "text": [
      "len_methodMax ACF\n",
      "nb_per_class1\n",
      "len_methodMax PACF\n",
      "nb_per_class1\n",
      "the null hypothesis over the entire classifiers cannot be rejected\n"
     ]
    },
    {
     "name": "stderr",
     "output_type": "stream",
     "text": [
      "c:\\ProgramData\\Anaconda3\\lib\\site-packages\\scipy\\stats\\_morestats.py:3255: UserWarning: Exact p-value calculation does not work if there are zeros. Switching to normal approximation.\n",
      "  warnings.warn(\"Exact p-value calculation does not work if there are \"\n",
      "c:\\ProgramData\\Anaconda3\\lib\\site-packages\\scipy\\stats\\_morestats.py:3269: UserWarning: Sample size too small for normal approximation.\n",
      "  warnings.warn(\"Sample size too small for normal approximation.\")\n",
      "c:\\ProgramData\\Anaconda3\\lib\\site-packages\\scipy\\stats\\_morestats.py:3255: UserWarning: Exact p-value calculation does not work if there are zeros. Switching to normal approximation.\n",
      "  warnings.warn(\"Exact p-value calculation does not work if there are \"\n",
      "c:\\ProgramData\\Anaconda3\\lib\\site-packages\\scipy\\stats\\_morestats.py:3269: UserWarning: Sample size too small for normal approximation.\n",
      "  warnings.warn(\"Sample size too small for normal approximation.\")\n"
     ]
    },
    {
     "name": "stdout",
     "output_type": "stream",
     "text": [
      "len_methodNone\n",
      "nb_per_class1\n",
      "the null hypothesis over the entire classifiers cannot be rejected\n",
      "len_methodACF&PACF\n",
      "nb_per_class10\n",
      "the null hypothesis over the entire classifiers cannot be rejected\n"
     ]
    },
    {
     "name": "stderr",
     "output_type": "stream",
     "text": [
      "c:\\ProgramData\\Anaconda3\\lib\\site-packages\\scipy\\stats\\_morestats.py:3255: UserWarning: Exact p-value calculation does not work if there are zeros. Switching to normal approximation.\n",
      "  warnings.warn(\"Exact p-value calculation does not work if there are \"\n",
      "c:\\ProgramData\\Anaconda3\\lib\\site-packages\\scipy\\stats\\_morestats.py:3269: UserWarning: Sample size too small for normal approximation.\n",
      "  warnings.warn(\"Sample size too small for normal approximation.\")\n"
     ]
    },
    {
     "name": "stdout",
     "output_type": "stream",
     "text": [
      "len_methodACF\n",
      "nb_per_class10\n",
      "the null hypothesis over the entire classifiers cannot be rejected\n",
      "len_methodPACF\n",
      "nb_per_class10\n",
      "the null hypothesis over the entire classifiers cannot be rejected\n"
     ]
    },
    {
     "name": "stderr",
     "output_type": "stream",
     "text": [
      "c:\\ProgramData\\Anaconda3\\lib\\site-packages\\scipy\\stats\\_morestats.py:3255: UserWarning: Exact p-value calculation does not work if there are zeros. Switching to normal approximation.\n",
      "  warnings.warn(\"Exact p-value calculation does not work if there are \"\n",
      "c:\\ProgramData\\Anaconda3\\lib\\site-packages\\scipy\\stats\\_morestats.py:3269: UserWarning: Sample size too small for normal approximation.\n",
      "  warnings.warn(\"Sample size too small for normal approximation.\")\n"
     ]
    },
    {
     "name": "stdout",
     "output_type": "stream",
     "text": [
      "len_methodMax ACF\n",
      "nb_per_class10\n",
      "the null hypothesis over the entire classifiers cannot be rejected\n",
      "len_methodMax PACF\n",
      "nb_per_class10\n",
      "the null hypothesis over the entire classifiers cannot be rejected\n",
      "len_methodNone\n",
      "nb_per_class10\n",
      "the null hypothesis over the entire classifiers cannot be rejected\n",
      "len_methodACF&PACF\n",
      "nb_per_class30\n",
      "the null hypothesis over the entire classifiers cannot be rejected\n"
     ]
    },
    {
     "name": "stderr",
     "output_type": "stream",
     "text": [
      "c:\\ProgramData\\Anaconda3\\lib\\site-packages\\scipy\\stats\\_morestats.py:3255: UserWarning: Exact p-value calculation does not work if there are zeros. Switching to normal approximation.\n",
      "  warnings.warn(\"Exact p-value calculation does not work if there are \"\n",
      "c:\\ProgramData\\Anaconda3\\lib\\site-packages\\scipy\\stats\\_morestats.py:3269: UserWarning: Sample size too small for normal approximation.\n",
      "  warnings.warn(\"Sample size too small for normal approximation.\")\n",
      "c:\\ProgramData\\Anaconda3\\lib\\site-packages\\scipy\\stats\\_morestats.py:3255: UserWarning: Exact p-value calculation does not work if there are zeros. Switching to normal approximation.\n",
      "  warnings.warn(\"Exact p-value calculation does not work if there are \"\n",
      "c:\\ProgramData\\Anaconda3\\lib\\site-packages\\scipy\\stats\\_morestats.py:3269: UserWarning: Sample size too small for normal approximation.\n",
      "  warnings.warn(\"Sample size too small for normal approximation.\")\n"
     ]
    },
    {
     "name": "stdout",
     "output_type": "stream",
     "text": [
      "len_methodACF\n",
      "nb_per_class30\n",
      "the null hypothesis over the entire classifiers cannot be rejected\n",
      "len_methodPACF\n",
      "nb_per_class30\n",
      "the null hypothesis over the entire classifiers cannot be rejected\n"
     ]
    },
    {
     "name": "stderr",
     "output_type": "stream",
     "text": [
      "c:\\ProgramData\\Anaconda3\\lib\\site-packages\\scipy\\stats\\_morestats.py:3255: UserWarning: Exact p-value calculation does not work if there are zeros. Switching to normal approximation.\n",
      "  warnings.warn(\"Exact p-value calculation does not work if there are \"\n",
      "c:\\ProgramData\\Anaconda3\\lib\\site-packages\\scipy\\stats\\_morestats.py:3269: UserWarning: Sample size too small for normal approximation.\n",
      "  warnings.warn(\"Sample size too small for normal approximation.\")\n",
      "c:\\ProgramData\\Anaconda3\\lib\\site-packages\\scipy\\stats\\_morestats.py:3255: UserWarning: Exact p-value calculation does not work if there are zeros. Switching to normal approximation.\n",
      "  warnings.warn(\"Exact p-value calculation does not work if there are \"\n",
      "c:\\ProgramData\\Anaconda3\\lib\\site-packages\\scipy\\stats\\_morestats.py:3269: UserWarning: Sample size too small for normal approximation.\n",
      "  warnings.warn(\"Sample size too small for normal approximation.\")\n"
     ]
    },
    {
     "name": "stdout",
     "output_type": "stream",
     "text": [
      "len_methodMax ACF\n",
      "nb_per_class30\n",
      "the null hypothesis over the entire classifiers cannot be rejected\n"
     ]
    },
    {
     "name": "stderr",
     "output_type": "stream",
     "text": [
      "c:\\ProgramData\\Anaconda3\\lib\\site-packages\\scipy\\stats\\_morestats.py:3255: UserWarning: Exact p-value calculation does not work if there are zeros. Switching to normal approximation.\n",
      "  warnings.warn(\"Exact p-value calculation does not work if there are \"\n",
      "c:\\ProgramData\\Anaconda3\\lib\\site-packages\\scipy\\stats\\_morestats.py:3269: UserWarning: Sample size too small for normal approximation.\n",
      "  warnings.warn(\"Sample size too small for normal approximation.\")\n"
     ]
    },
    {
     "name": "stdout",
     "output_type": "stream",
     "text": [
      "len_methodMax PACF\n",
      "nb_per_class30\n",
      "the null hypothesis over the entire classifiers cannot be rejected\n",
      "len_methodNone\n",
      "nb_per_class30\n",
      "the null hypothesis over the entire classifiers cannot be rejected\n"
     ]
    },
    {
     "name": "stderr",
     "output_type": "stream",
     "text": [
      "c:\\ProgramData\\Anaconda3\\lib\\site-packages\\scipy\\stats\\_morestats.py:3255: UserWarning: Exact p-value calculation does not work if there are zeros. Switching to normal approximation.\n",
      "  warnings.warn(\"Exact p-value calculation does not work if there are \"\n",
      "c:\\ProgramData\\Anaconda3\\lib\\site-packages\\scipy\\stats\\_morestats.py:3269: UserWarning: Sample size too small for normal approximation.\n",
      "  warnings.warn(\"Sample size too small for normal approximation.\")\n",
      "c:\\ProgramData\\Anaconda3\\lib\\site-packages\\scipy\\stats\\_morestats.py:3255: UserWarning: Exact p-value calculation does not work if there are zeros. Switching to normal approximation.\n",
      "  warnings.warn(\"Exact p-value calculation does not work if there are \"\n",
      "c:\\ProgramData\\Anaconda3\\lib\\site-packages\\scipy\\stats\\_morestats.py:3269: UserWarning: Sample size too small for normal approximation.\n",
      "  warnings.warn(\"Sample size too small for normal approximation.\")\n"
     ]
    },
    {
     "name": "stdout",
     "output_type": "stream",
     "text": [
      "len_methodACF&PACF\n",
      "nb_per_class50\n",
      "the null hypothesis over the entire classifiers cannot be rejected\n",
      "len_methodACF\n",
      "nb_per_class50\n",
      "the null hypothesis over the entire classifiers cannot be rejected\n",
      "len_methodPACF\n",
      "nb_per_class50\n",
      "the null hypothesis over the entire classifiers cannot be rejected\n",
      "len_methodMax ACF\n",
      "nb_per_class50\n",
      "the null hypothesis over the entire classifiers cannot be rejected\n"
     ]
    },
    {
     "name": "stderr",
     "output_type": "stream",
     "text": [
      "c:\\ProgramData\\Anaconda3\\lib\\site-packages\\scipy\\stats\\_morestats.py:3255: UserWarning: Exact p-value calculation does not work if there are zeros. Switching to normal approximation.\n",
      "  warnings.warn(\"Exact p-value calculation does not work if there are \"\n",
      "c:\\ProgramData\\Anaconda3\\lib\\site-packages\\scipy\\stats\\_morestats.py:3269: UserWarning: Sample size too small for normal approximation.\n",
      "  warnings.warn(\"Sample size too small for normal approximation.\")\n",
      "c:\\ProgramData\\Anaconda3\\lib\\site-packages\\scipy\\stats\\_morestats.py:3255: UserWarning: Exact p-value calculation does not work if there are zeros. Switching to normal approximation.\n",
      "  warnings.warn(\"Exact p-value calculation does not work if there are \"\n",
      "c:\\ProgramData\\Anaconda3\\lib\\site-packages\\scipy\\stats\\_morestats.py:3269: UserWarning: Sample size too small for normal approximation.\n",
      "  warnings.warn(\"Sample size too small for normal approximation.\")\n"
     ]
    },
    {
     "name": "stdout",
     "output_type": "stream",
     "text": [
      "len_methodMax PACF\n",
      "nb_per_class50\n",
      "the null hypothesis over the entire classifiers cannot be rejected\n",
      "len_methodNone\n",
      "nb_per_class50\n",
      "the null hypothesis over the entire classifiers cannot be rejected\n"
     ]
    },
    {
     "name": "stderr",
     "output_type": "stream",
     "text": [
      "c:\\ProgramData\\Anaconda3\\lib\\site-packages\\scipy\\stats\\_morestats.py:3255: UserWarning: Exact p-value calculation does not work if there are zeros. Switching to normal approximation.\n",
      "  warnings.warn(\"Exact p-value calculation does not work if there are \"\n",
      "c:\\ProgramData\\Anaconda3\\lib\\site-packages\\scipy\\stats\\_morestats.py:3269: UserWarning: Sample size too small for normal approximation.\n",
      "  warnings.warn(\"Sample size too small for normal approximation.\")\n",
      "c:\\ProgramData\\Anaconda3\\lib\\site-packages\\scipy\\stats\\_morestats.py:3255: UserWarning: Exact p-value calculation does not work if there are zeros. Switching to normal approximation.\n",
      "  warnings.warn(\"Exact p-value calculation does not work if there are \"\n",
      "c:\\ProgramData\\Anaconda3\\lib\\site-packages\\scipy\\stats\\_morestats.py:3269: UserWarning: Sample size too small for normal approximation.\n",
      "  warnings.warn(\"Sample size too small for normal approximation.\")\n"
     ]
    }
   ],
   "source": [
    "df_perf=pd.pivot_table(df_result, values='accuracy', index=['classifier_name','dataset_name','rpoint'], aggfunc='mean')\n",
    "df_perf=df_perf.reset_index()\n",
    "\n",
    "from cd_function import *\n",
    "#generate hyperparameter tuning cd diagrams\n",
    "for k,ints in enumerate(df_result.nb_per_class.unique()):\n",
    "   for len_m in df_result.len_method.unique():\n",
    "      df_to_cd=df_perf[df_perf.classifier_name.str.contains(r'^'+len_m+':.*nb_inst_per_class='+str(ints)+'$')]\n",
    "      print('len_method'+str(len_m))\n",
    "      print('nb_per_class'+str(ints))\n",
    "      draw_cd_diagram(df_to_cd, labels=True, title=len_m +\" comparison, nb_inst_per_class=\"+str(ints), name_file='images_cd_diagram/cd-diagram_'+len_m+ints+'.png')\n"
   ]
  },
  {
   "cell_type": "code",
   "execution_count": 65,
   "metadata": {},
   "outputs": [
    {
     "name": "stderr",
     "output_type": "stream",
     "text": [
      "c:\\ProgramData\\Anaconda3\\lib\\site-packages\\scipy\\stats\\_morestats.py:3255: UserWarning: Exact p-value calculation does not work if there are zeros. Switching to normal approximation.\n",
      "  warnings.warn(\"Exact p-value calculation does not work if there are \"\n",
      "c:\\ProgramData\\Anaconda3\\lib\\site-packages\\scipy\\stats\\_morestats.py:3269: UserWarning: Sample size too small for normal approximation.\n",
      "  warnings.warn(\"Sample size too small for normal approximation.\")\n"
     ]
    },
    {
     "data": {
      "text/html": [
       "<div>\n",
       "<style scoped>\n",
       "    .dataframe tbody tr th:only-of-type {\n",
       "        vertical-align: middle;\n",
       "    }\n",
       "\n",
       "    .dataframe tbody tr th {\n",
       "        vertical-align: top;\n",
       "    }\n",
       "\n",
       "    .dataframe thead th {\n",
       "        text-align: right;\n",
       "    }\n",
       "</style>\n",
       "<table border=\"1\" class=\"dataframe\">\n",
       "  <thead>\n",
       "    <tr style=\"text-align: right;\">\n",
       "      <th></th>\n",
       "      <th>0</th>\n",
       "    </tr>\n",
       "  </thead>\n",
       "  <tbody>\n",
       "    <tr>\n",
       "      <th>ACF: n_random_points=1 nb_inst_per_class=1</th>\n",
       "      <td>118.000</td>\n",
       "    </tr>\n",
       "    <tr>\n",
       "      <th>Max ACF: n_random_points=1 nb_inst_per_class=1</th>\n",
       "      <td>115.000</td>\n",
       "    </tr>\n",
       "    <tr>\n",
       "      <th>Max ACF: n_random_points=50 nb_inst_per_class=1</th>\n",
       "      <td>109.875</td>\n",
       "    </tr>\n",
       "    <tr>\n",
       "      <th>ACF: n_random_points=10 nb_inst_per_class=1</th>\n",
       "      <td>108.375</td>\n",
       "    </tr>\n",
       "    <tr>\n",
       "      <th>Max ACF: n_random_points=10 nb_inst_per_class=1</th>\n",
       "      <td>108.250</td>\n",
       "    </tr>\n",
       "    <tr>\n",
       "      <th>...</th>\n",
       "      <td>...</td>\n",
       "    </tr>\n",
       "    <tr>\n",
       "      <th>ACF&amp;PACF: n_random_points=30 nb_inst_per_class=50</th>\n",
       "      <td>25.500</td>\n",
       "    </tr>\n",
       "    <tr>\n",
       "      <th>PACF: n_random_points=50 nb_inst_per_class=30</th>\n",
       "      <td>25.500</td>\n",
       "    </tr>\n",
       "    <tr>\n",
       "      <th>PACF: n_random_points=30 nb_inst_per_class=50</th>\n",
       "      <td>24.125</td>\n",
       "    </tr>\n",
       "    <tr>\n",
       "      <th>PACF: n_random_points=50 nb_inst_per_class=50</th>\n",
       "      <td>22.875</td>\n",
       "    </tr>\n",
       "    <tr>\n",
       "      <th>None: n_random_points=100 nb_inst_per_class=50</th>\n",
       "      <td>21.875</td>\n",
       "    </tr>\n",
       "  </tbody>\n",
       "</table>\n",
       "<p>120 rows × 1 columns</p>\n",
       "</div>"
      ],
      "text/plain": [
       "                                                         0\n",
       "ACF: n_random_points=1 nb_inst_per_class=1         118.000\n",
       "Max ACF: n_random_points=1 nb_inst_per_class=1     115.000\n",
       "Max ACF: n_random_points=50 nb_inst_per_class=1    109.875\n",
       "ACF: n_random_points=10 nb_inst_per_class=1        108.375\n",
       "Max ACF: n_random_points=10 nb_inst_per_class=1    108.250\n",
       "...                                                    ...\n",
       "ACF&PACF: n_random_points=30 nb_inst_per_class=50   25.500\n",
       "PACF: n_random_points=50 nb_inst_per_class=30       25.500\n",
       "PACF: n_random_points=30 nb_inst_per_class=50       24.125\n",
       "PACF: n_random_points=50 nb_inst_per_class=50       22.875\n",
       "None: n_random_points=100 nb_inst_per_class=50      21.875\n",
       "\n",
       "[120 rows x 1 columns]"
      ]
     },
     "execution_count": 65,
     "metadata": {},
     "output_type": "execute_result"
    }
   ],
   "source": [
    "_, average_ranks, _ = wilcoxon_holm(df_perf=df_perf)\n",
    "min_rank= min(average_ranks)\n",
    "average_ranks=pd.DataFrame(average_ranks)\n",
    "average_ranks"
   ]
  },
  {
   "attachments": {},
   "cell_type": "markdown",
   "metadata": {},
   "source": [
    "#### Focus on most accurate lenght method"
   ]
  },
  {
   "attachments": {},
   "cell_type": "markdown",
   "metadata": {},
   "source": [
    "##### Overall Accuracy"
   ]
  },
  {
   "cell_type": "code",
   "execution_count": 66,
   "metadata": {},
   "outputs": [
    {
     "data": {
      "text/plain": [
       "Index(['None: n_random_points=100 nb_inst_per_class=50'], dtype='object')"
      ]
     },
     "execution_count": 66,
     "metadata": {},
     "output_type": "execute_result"
    }
   ],
   "source": [
    "# highest accurate hyperparameters\n",
    "average_ranks[average_ranks[0]==min_rank][0].index"
   ]
  },
  {
   "cell_type": "code",
   "execution_count": 67,
   "metadata": {},
   "outputs": [
    {
     "data": {
      "text/html": [
       "<div>\n",
       "<style scoped>\n",
       "    .dataframe tbody tr th:only-of-type {\n",
       "        vertical-align: middle;\n",
       "    }\n",
       "\n",
       "    .dataframe tbody tr th {\n",
       "        vertical-align: top;\n",
       "    }\n",
       "\n",
       "    .dataframe thead th {\n",
       "        text-align: right;\n",
       "    }\n",
       "</style>\n",
       "<table border=\"1\" class=\"dataframe\">\n",
       "  <thead>\n",
       "    <tr style=\"text-align: right;\">\n",
       "      <th>nb_per_class</th>\n",
       "      <th>half_instance</th>\n",
       "      <th>1</th>\n",
       "      <th>10</th>\n",
       "      <th>30</th>\n",
       "      <th>50</th>\n",
       "      <th>100</th>\n",
       "      <th>1000</th>\n",
       "      <th>10000</th>\n",
       "    </tr>\n",
       "    <tr>\n",
       "      <th>rpoint</th>\n",
       "      <th></th>\n",
       "      <th></th>\n",
       "      <th></th>\n",
       "      <th></th>\n",
       "      <th></th>\n",
       "      <th></th>\n",
       "      <th></th>\n",
       "      <th></th>\n",
       "    </tr>\n",
       "  </thead>\n",
       "  <tbody>\n",
       "    <tr>\n",
       "      <th>half_len</th>\n",
       "      <td>NaN</td>\n",
       "      <td>NaN</td>\n",
       "      <td>NaN</td>\n",
       "      <td>NaN</td>\n",
       "      <td>NaN</td>\n",
       "      <td>NaN</td>\n",
       "      <td>NaN</td>\n",
       "      <td>NaN</td>\n",
       "    </tr>\n",
       "    <tr>\n",
       "      <th>1</th>\n",
       "      <td>NaN</td>\n",
       "      <td>NaN</td>\n",
       "      <td>NaN</td>\n",
       "      <td>NaN</td>\n",
       "      <td>NaN</td>\n",
       "      <td>NaN</td>\n",
       "      <td>NaN</td>\n",
       "      <td>NaN</td>\n",
       "    </tr>\n",
       "    <tr>\n",
       "      <th>10</th>\n",
       "      <td>NaN</td>\n",
       "      <td>NaN</td>\n",
       "      <td>NaN</td>\n",
       "      <td>NaN</td>\n",
       "      <td>NaN</td>\n",
       "      <td>NaN</td>\n",
       "      <td>NaN</td>\n",
       "      <td>NaN</td>\n",
       "    </tr>\n",
       "    <tr>\n",
       "      <th>30</th>\n",
       "      <td>NaN</td>\n",
       "      <td>NaN</td>\n",
       "      <td>NaN</td>\n",
       "      <td>NaN</td>\n",
       "      <td>NaN</td>\n",
       "      <td>NaN</td>\n",
       "      <td>NaN</td>\n",
       "      <td>NaN</td>\n",
       "    </tr>\n",
       "    <tr>\n",
       "      <th>50</th>\n",
       "      <td>NaN</td>\n",
       "      <td>NaN</td>\n",
       "      <td>NaN</td>\n",
       "      <td>NaN</td>\n",
       "      <td>NaN</td>\n",
       "      <td>NaN</td>\n",
       "      <td>NaN</td>\n",
       "      <td>NaN</td>\n",
       "    </tr>\n",
       "    <tr>\n",
       "      <th>100</th>\n",
       "      <td>NaN</td>\n",
       "      <td>NaN</td>\n",
       "      <td>NaN</td>\n",
       "      <td>NaN</td>\n",
       "      <td>NaN</td>\n",
       "      <td>NaN</td>\n",
       "      <td>NaN</td>\n",
       "      <td>NaN</td>\n",
       "    </tr>\n",
       "    <tr>\n",
       "      <th>1000</th>\n",
       "      <td>NaN</td>\n",
       "      <td>NaN</td>\n",
       "      <td>NaN</td>\n",
       "      <td>NaN</td>\n",
       "      <td>NaN</td>\n",
       "      <td>NaN</td>\n",
       "      <td>NaN</td>\n",
       "      <td>NaN</td>\n",
       "    </tr>\n",
       "    <tr>\n",
       "      <th>10000</th>\n",
       "      <td>NaN</td>\n",
       "      <td>NaN</td>\n",
       "      <td>NaN</td>\n",
       "      <td>NaN</td>\n",
       "      <td>NaN</td>\n",
       "      <td>NaN</td>\n",
       "      <td>NaN</td>\n",
       "      <td>NaN</td>\n",
       "    </tr>\n",
       "  </tbody>\n",
       "</table>\n",
       "</div>"
      ],
      "text/plain": [
       "nb_per_class  half_instance   1  10  30  50  100  1000  10000\n",
       "rpoint                                                       \n",
       "half_len                NaN NaN NaN NaN NaN  NaN   NaN    NaN\n",
       "1                       NaN NaN NaN NaN NaN  NaN   NaN    NaN\n",
       "10                      NaN NaN NaN NaN NaN  NaN   NaN    NaN\n",
       "30                      NaN NaN NaN NaN NaN  NaN   NaN    NaN\n",
       "50                      NaN NaN NaN NaN NaN  NaN   NaN    NaN\n",
       "100                     NaN NaN NaN NaN NaN  NaN   NaN    NaN\n",
       "1000                    NaN NaN NaN NaN NaN  NaN   NaN    NaN\n",
       "10000                   NaN NaN NaN NaN NaN  NaN   NaN    NaN"
      ]
     },
     "execution_count": 67,
     "metadata": {},
     "output_type": "execute_result"
    }
   ],
   "source": [
    "# filter by method with ACF&PACF\n",
    "# create a pivot table with the mean of score by hyperparameter\n",
    "df_result_acc=df_result[df_result[\"len_method\"]==\"PACF\"]\n",
    "df_result_acc=df_result_acc[df_result_acc[\"dataset_name\"]==\"Fungi\"]\n",
    "\n",
    "pivot = pd.pivot_table(df_result_acc, values='accuracy', index=['rpoint'],columns=['nb_per_class'], aggfunc='mean')\n",
    "pivot = pivot.reindex(columns=[\"half_instance\",\"1\",\"10\",\"30\",\"50\",\"100\",\"1000\",\"10000\"], index=[\"half_len\",\"1\",\"10\",\"30\",\"50\",\"100\",\"1000\",\"10000\"])\n",
    "pivot"
   ]
  },
  {
   "cell_type": "code",
   "execution_count": 68,
   "metadata": {},
   "outputs": [
    {
     "data": {
      "text/html": [
       "<div>\n",
       "<style scoped>\n",
       "    .dataframe tbody tr th:only-of-type {\n",
       "        vertical-align: middle;\n",
       "    }\n",
       "\n",
       "    .dataframe tbody tr th {\n",
       "        vertical-align: top;\n",
       "    }\n",
       "\n",
       "    .dataframe thead th {\n",
       "        text-align: right;\n",
       "    }\n",
       "</style>\n",
       "<table border=\"1\" class=\"dataframe\">\n",
       "  <thead>\n",
       "    <tr style=\"text-align: right;\">\n",
       "      <th>nb_per_class</th>\n",
       "      <th>half_instance</th>\n",
       "      <th>1</th>\n",
       "      <th>10</th>\n",
       "      <th>30</th>\n",
       "      <th>50</th>\n",
       "      <th>100</th>\n",
       "      <th>1000</th>\n",
       "      <th>10000</th>\n",
       "    </tr>\n",
       "    <tr>\n",
       "      <th>rpoint</th>\n",
       "      <th></th>\n",
       "      <th></th>\n",
       "      <th></th>\n",
       "      <th></th>\n",
       "      <th></th>\n",
       "      <th></th>\n",
       "      <th></th>\n",
       "      <th></th>\n",
       "    </tr>\n",
       "  </thead>\n",
       "  <tbody>\n",
       "    <tr>\n",
       "      <th>half_len</th>\n",
       "      <td>NaN</td>\n",
       "      <td>NaN</td>\n",
       "      <td>NaN</td>\n",
       "      <td>NaN</td>\n",
       "      <td>NaN</td>\n",
       "      <td>NaN</td>\n",
       "      <td>NaN</td>\n",
       "      <td>NaN</td>\n",
       "    </tr>\n",
       "    <tr>\n",
       "      <th>1</th>\n",
       "      <td>NaN</td>\n",
       "      <td>NaN</td>\n",
       "      <td>NaN</td>\n",
       "      <td>NaN</td>\n",
       "      <td>NaN</td>\n",
       "      <td>NaN</td>\n",
       "      <td>NaN</td>\n",
       "      <td>NaN</td>\n",
       "    </tr>\n",
       "    <tr>\n",
       "      <th>10</th>\n",
       "      <td>NaN</td>\n",
       "      <td>NaN</td>\n",
       "      <td>NaN</td>\n",
       "      <td>NaN</td>\n",
       "      <td>NaN</td>\n",
       "      <td>NaN</td>\n",
       "      <td>NaN</td>\n",
       "      <td>NaN</td>\n",
       "    </tr>\n",
       "    <tr>\n",
       "      <th>30</th>\n",
       "      <td>NaN</td>\n",
       "      <td>NaN</td>\n",
       "      <td>NaN</td>\n",
       "      <td>NaN</td>\n",
       "      <td>NaN</td>\n",
       "      <td>NaN</td>\n",
       "      <td>NaN</td>\n",
       "      <td>NaN</td>\n",
       "    </tr>\n",
       "    <tr>\n",
       "      <th>50</th>\n",
       "      <td>NaN</td>\n",
       "      <td>NaN</td>\n",
       "      <td>NaN</td>\n",
       "      <td>NaN</td>\n",
       "      <td>NaN</td>\n",
       "      <td>NaN</td>\n",
       "      <td>NaN</td>\n",
       "      <td>NaN</td>\n",
       "    </tr>\n",
       "    <tr>\n",
       "      <th>100</th>\n",
       "      <td>NaN</td>\n",
       "      <td>NaN</td>\n",
       "      <td>NaN</td>\n",
       "      <td>NaN</td>\n",
       "      <td>NaN</td>\n",
       "      <td>NaN</td>\n",
       "      <td>NaN</td>\n",
       "      <td>NaN</td>\n",
       "    </tr>\n",
       "    <tr>\n",
       "      <th>1000</th>\n",
       "      <td>NaN</td>\n",
       "      <td>NaN</td>\n",
       "      <td>NaN</td>\n",
       "      <td>NaN</td>\n",
       "      <td>NaN</td>\n",
       "      <td>NaN</td>\n",
       "      <td>NaN</td>\n",
       "      <td>NaN</td>\n",
       "    </tr>\n",
       "    <tr>\n",
       "      <th>10000</th>\n",
       "      <td>NaN</td>\n",
       "      <td>NaN</td>\n",
       "      <td>NaN</td>\n",
       "      <td>NaN</td>\n",
       "      <td>NaN</td>\n",
       "      <td>NaN</td>\n",
       "      <td>NaN</td>\n",
       "      <td>NaN</td>\n",
       "    </tr>\n",
       "  </tbody>\n",
       "</table>\n",
       "</div>"
      ],
      "text/plain": [
       "nb_per_class  half_instance   1  10  30  50  100  1000  10000\n",
       "rpoint                                                       \n",
       "half_len                NaN NaN NaN NaN NaN  NaN   NaN    NaN\n",
       "1                       NaN NaN NaN NaN NaN  NaN   NaN    NaN\n",
       "10                      NaN NaN NaN NaN NaN  NaN   NaN    NaN\n",
       "30                      NaN NaN NaN NaN NaN  NaN   NaN    NaN\n",
       "50                      NaN NaN NaN NaN NaN  NaN   NaN    NaN\n",
       "100                     NaN NaN NaN NaN NaN  NaN   NaN    NaN\n",
       "1000                    NaN NaN NaN NaN NaN  NaN   NaN    NaN\n",
       "10000                   NaN NaN NaN NaN NaN  NaN   NaN    NaN"
      ]
     },
     "execution_count": 68,
     "metadata": {},
     "output_type": "execute_result"
    }
   ],
   "source": [
    "# create a pivot table with the variatioon of score by hyperparameter\n",
    "pivot = pd.pivot_table(df_result_acc, values='accuracy', index=['rpoint'],columns=['nb_per_class'], aggfunc='var')\n",
    "pivot = pivot.reindex(columns=[\"half_instance\",\"1\",\"10\",\"30\",\"50\",\"100\",\"1000\",\"10000\"], index=[\"half_len\",\"1\",\"10\",\"30\",\"50\",\"100\",\"1000\",\"10000\"])\n",
    "pivot"
   ]
  },
  {
   "attachments": {},
   "cell_type": "markdown",
   "metadata": {},
   "source": [
    "##### Overall time complexity"
   ]
  },
  {
   "cell_type": "code",
   "execution_count": 69,
   "metadata": {},
   "outputs": [
    {
     "data": {
      "text/html": [
       "<div>\n",
       "<style scoped>\n",
       "    .dataframe tbody tr th:only-of-type {\n",
       "        vertical-align: middle;\n",
       "    }\n",
       "\n",
       "    .dataframe tbody tr th {\n",
       "        vertical-align: top;\n",
       "    }\n",
       "\n",
       "    .dataframe thead th {\n",
       "        text-align: right;\n",
       "    }\n",
       "</style>\n",
       "<table border=\"1\" class=\"dataframe\">\n",
       "  <thead>\n",
       "    <tr style=\"text-align: right;\">\n",
       "      <th></th>\n",
       "      <th>cweights_time</th>\n",
       "      <th>fsubsequence_time</th>\n",
       "      <th>tdataset_time</th>\n",
       "      <th>tclassifier_time</th>\n",
       "      <th>time</th>\n",
       "    </tr>\n",
       "    <tr>\n",
       "      <th>dataset_name</th>\n",
       "      <th></th>\n",
       "      <th></th>\n",
       "      <th></th>\n",
       "      <th></th>\n",
       "      <th></th>\n",
       "    </tr>\n",
       "  </thead>\n",
       "  <tbody>\n",
       "  </tbody>\n",
       "</table>\n",
       "</div>"
      ],
      "text/plain": [
       "Empty DataFrame\n",
       "Columns: [cweights_time, fsubsequence_time, tdataset_time, tclassifier_time, time]\n",
       "Index: []"
      ]
     },
     "execution_count": 69,
     "metadata": {},
     "output_type": "execute_result"
    }
   ],
   "source": [
    "# create a pivot table with the mean of time spent in minutes\n",
    "pivot=pd.pivot_table(df_result_acc, values=['time','cweights_time','fsubsequence_time','tdataset_time','tclassifier_time'], index=['dataset_name'], aggfunc='mean')/60\n",
    "pivot = pivot.reindex(columns=['cweights_time','fsubsequence_time','tdataset_time','tclassifier_time','time'])\n",
    "pivot"
   ]
  },
  {
   "cell_type": "code",
   "execution_count": 70,
   "metadata": {},
   "outputs": [
    {
     "data": {
      "text/html": [
       "<div>\n",
       "<style scoped>\n",
       "    .dataframe tbody tr th:only-of-type {\n",
       "        vertical-align: middle;\n",
       "    }\n",
       "\n",
       "    .dataframe tbody tr th {\n",
       "        vertical-align: top;\n",
       "    }\n",
       "\n",
       "    .dataframe thead th {\n",
       "        text-align: right;\n",
       "    }\n",
       "</style>\n",
       "<table border=\"1\" class=\"dataframe\">\n",
       "  <thead>\n",
       "    <tr style=\"text-align: right;\">\n",
       "      <th>nb_per_class</th>\n",
       "      <th>half_instance</th>\n",
       "      <th>1</th>\n",
       "      <th>10</th>\n",
       "      <th>30</th>\n",
       "      <th>50</th>\n",
       "      <th>100</th>\n",
       "      <th>1000</th>\n",
       "      <th>10000</th>\n",
       "    </tr>\n",
       "    <tr>\n",
       "      <th>rpoint</th>\n",
       "      <th></th>\n",
       "      <th></th>\n",
       "      <th></th>\n",
       "      <th></th>\n",
       "      <th></th>\n",
       "      <th></th>\n",
       "      <th></th>\n",
       "      <th></th>\n",
       "    </tr>\n",
       "  </thead>\n",
       "  <tbody>\n",
       "    <tr>\n",
       "      <th>half_len</th>\n",
       "      <td>NaN</td>\n",
       "      <td>NaN</td>\n",
       "      <td>NaN</td>\n",
       "      <td>NaN</td>\n",
       "      <td>NaN</td>\n",
       "      <td>NaN</td>\n",
       "      <td>NaN</td>\n",
       "      <td>NaN</td>\n",
       "    </tr>\n",
       "    <tr>\n",
       "      <th>1</th>\n",
       "      <td>NaN</td>\n",
       "      <td>NaN</td>\n",
       "      <td>NaN</td>\n",
       "      <td>NaN</td>\n",
       "      <td>NaN</td>\n",
       "      <td>NaN</td>\n",
       "      <td>NaN</td>\n",
       "      <td>NaN</td>\n",
       "    </tr>\n",
       "    <tr>\n",
       "      <th>10</th>\n",
       "      <td>NaN</td>\n",
       "      <td>NaN</td>\n",
       "      <td>NaN</td>\n",
       "      <td>NaN</td>\n",
       "      <td>NaN</td>\n",
       "      <td>NaN</td>\n",
       "      <td>NaN</td>\n",
       "      <td>NaN</td>\n",
       "    </tr>\n",
       "    <tr>\n",
       "      <th>30</th>\n",
       "      <td>NaN</td>\n",
       "      <td>NaN</td>\n",
       "      <td>NaN</td>\n",
       "      <td>NaN</td>\n",
       "      <td>NaN</td>\n",
       "      <td>NaN</td>\n",
       "      <td>NaN</td>\n",
       "      <td>NaN</td>\n",
       "    </tr>\n",
       "    <tr>\n",
       "      <th>50</th>\n",
       "      <td>NaN</td>\n",
       "      <td>NaN</td>\n",
       "      <td>NaN</td>\n",
       "      <td>NaN</td>\n",
       "      <td>NaN</td>\n",
       "      <td>NaN</td>\n",
       "      <td>NaN</td>\n",
       "      <td>NaN</td>\n",
       "    </tr>\n",
       "    <tr>\n",
       "      <th>100</th>\n",
       "      <td>NaN</td>\n",
       "      <td>NaN</td>\n",
       "      <td>NaN</td>\n",
       "      <td>NaN</td>\n",
       "      <td>NaN</td>\n",
       "      <td>NaN</td>\n",
       "      <td>NaN</td>\n",
       "      <td>NaN</td>\n",
       "    </tr>\n",
       "    <tr>\n",
       "      <th>1000</th>\n",
       "      <td>NaN</td>\n",
       "      <td>NaN</td>\n",
       "      <td>NaN</td>\n",
       "      <td>NaN</td>\n",
       "      <td>NaN</td>\n",
       "      <td>NaN</td>\n",
       "      <td>NaN</td>\n",
       "      <td>NaN</td>\n",
       "    </tr>\n",
       "    <tr>\n",
       "      <th>10000</th>\n",
       "      <td>NaN</td>\n",
       "      <td>NaN</td>\n",
       "      <td>NaN</td>\n",
       "      <td>NaN</td>\n",
       "      <td>NaN</td>\n",
       "      <td>NaN</td>\n",
       "      <td>NaN</td>\n",
       "      <td>NaN</td>\n",
       "    </tr>\n",
       "  </tbody>\n",
       "</table>\n",
       "</div>"
      ],
      "text/plain": [
       "nb_per_class  half_instance   1  10  30  50  100  1000  10000\n",
       "rpoint                                                       \n",
       "half_len                NaN NaN NaN NaN NaN  NaN   NaN    NaN\n",
       "1                       NaN NaN NaN NaN NaN  NaN   NaN    NaN\n",
       "10                      NaN NaN NaN NaN NaN  NaN   NaN    NaN\n",
       "30                      NaN NaN NaN NaN NaN  NaN   NaN    NaN\n",
       "50                      NaN NaN NaN NaN NaN  NaN   NaN    NaN\n",
       "100                     NaN NaN NaN NaN NaN  NaN   NaN    NaN\n",
       "1000                    NaN NaN NaN NaN NaN  NaN   NaN    NaN\n",
       "10000                   NaN NaN NaN NaN NaN  NaN   NaN    NaN"
      ]
     },
     "execution_count": 70,
     "metadata": {},
     "output_type": "execute_result"
    }
   ],
   "source": [
    "# create a pivot table with the mean of time spent in minutes by random points and instances per class\n",
    "pivot = pd.pivot_table(df_result_acc, values='time', index=['rpoint'],columns=['nb_per_class'], aggfunc='mean')/60\n",
    "pivot = pivot.reindex(columns=[\"half_instance\",\"1\",\"10\",\"30\",\"50\",\"100\",\"1000\",\"10000\"], index=[\"half_len\",\"1\",\"10\",\"30\",\"50\",\"100\",\"1000\",\"10000\"])\n",
    "pivot"
   ]
  },
  {
   "attachments": {},
   "cell_type": "markdown",
   "metadata": {},
   "source": [
    "##### Calculate weights time complexity"
   ]
  },
  {
   "cell_type": "code",
   "execution_count": 71,
   "metadata": {},
   "outputs": [
    {
     "data": {
      "text/html": [
       "<div>\n",
       "<style scoped>\n",
       "    .dataframe tbody tr th:only-of-type {\n",
       "        vertical-align: middle;\n",
       "    }\n",
       "\n",
       "    .dataframe tbody tr th {\n",
       "        vertical-align: top;\n",
       "    }\n",
       "\n",
       "    .dataframe thead th {\n",
       "        text-align: right;\n",
       "    }\n",
       "</style>\n",
       "<table border=\"1\" class=\"dataframe\">\n",
       "  <thead>\n",
       "    <tr style=\"text-align: right;\">\n",
       "      <th>nb_per_class</th>\n",
       "    </tr>\n",
       "    <tr>\n",
       "      <th>rpoint</th>\n",
       "    </tr>\n",
       "  </thead>\n",
       "  <tbody>\n",
       "  </tbody>\n",
       "</table>\n",
       "</div>"
      ],
      "text/plain": [
       "Empty DataFrame\n",
       "Columns: []\n",
       "Index: []"
      ]
     },
     "execution_count": 71,
     "metadata": {},
     "output_type": "execute_result"
    }
   ],
   "source": [
    "pd.pivot_table(df_result_acc, values='cweights_time', index=['rpoint'],columns=['nb_per_class'], aggfunc='mean')"
   ]
  },
  {
   "attachments": {},
   "cell_type": "markdown",
   "metadata": {},
   "source": [
    "##### Finding subsequences time complexity"
   ]
  },
  {
   "cell_type": "code",
   "execution_count": 72,
   "metadata": {},
   "outputs": [
    {
     "data": {
      "text/html": [
       "<div>\n",
       "<style scoped>\n",
       "    .dataframe tbody tr th:only-of-type {\n",
       "        vertical-align: middle;\n",
       "    }\n",
       "\n",
       "    .dataframe tbody tr th {\n",
       "        vertical-align: top;\n",
       "    }\n",
       "\n",
       "    .dataframe thead th {\n",
       "        text-align: right;\n",
       "    }\n",
       "</style>\n",
       "<table border=\"1\" class=\"dataframe\">\n",
       "  <thead>\n",
       "    <tr style=\"text-align: right;\">\n",
       "      <th>nb_per_class</th>\n",
       "    </tr>\n",
       "    <tr>\n",
       "      <th>rpoint</th>\n",
       "    </tr>\n",
       "  </thead>\n",
       "  <tbody>\n",
       "  </tbody>\n",
       "</table>\n",
       "</div>"
      ],
      "text/plain": [
       "Empty DataFrame\n",
       "Columns: []\n",
       "Index: []"
      ]
     },
     "execution_count": 72,
     "metadata": {},
     "output_type": "execute_result"
    }
   ],
   "source": [
    "pd.pivot_table(df_result_acc, values='fsubsequence_time', index=['rpoint'],columns=['nb_per_class'], aggfunc='mean')"
   ]
  },
  {
   "attachments": {},
   "cell_type": "markdown",
   "metadata": {},
   "source": [
    "##### Transform Dataset time complexity"
   ]
  },
  {
   "cell_type": "code",
   "execution_count": 73,
   "metadata": {},
   "outputs": [
    {
     "data": {
      "text/html": [
       "<div>\n",
       "<style scoped>\n",
       "    .dataframe tbody tr th:only-of-type {\n",
       "        vertical-align: middle;\n",
       "    }\n",
       "\n",
       "    .dataframe tbody tr th {\n",
       "        vertical-align: top;\n",
       "    }\n",
       "\n",
       "    .dataframe thead th {\n",
       "        text-align: right;\n",
       "    }\n",
       "</style>\n",
       "<table border=\"1\" class=\"dataframe\">\n",
       "  <thead>\n",
       "    <tr style=\"text-align: right;\">\n",
       "      <th>nb_per_class</th>\n",
       "    </tr>\n",
       "    <tr>\n",
       "      <th>rpoint</th>\n",
       "    </tr>\n",
       "  </thead>\n",
       "  <tbody>\n",
       "  </tbody>\n",
       "</table>\n",
       "</div>"
      ],
      "text/plain": [
       "Empty DataFrame\n",
       "Columns: []\n",
       "Index: []"
      ]
     },
     "execution_count": 73,
     "metadata": {},
     "output_type": "execute_result"
    }
   ],
   "source": [
    "pd.pivot_table(df_result_acc, values='tdataset_time', index=['rpoint'],columns=['nb_per_class'], aggfunc='mean')"
   ]
  },
  {
   "attachments": {},
   "cell_type": "markdown",
   "metadata": {},
   "source": [
    "##### Classifier time complexity"
   ]
  },
  {
   "cell_type": "code",
   "execution_count": 74,
   "metadata": {},
   "outputs": [
    {
     "data": {
      "text/html": [
       "<div>\n",
       "<style scoped>\n",
       "    .dataframe tbody tr th:only-of-type {\n",
       "        vertical-align: middle;\n",
       "    }\n",
       "\n",
       "    .dataframe tbody tr th {\n",
       "        vertical-align: top;\n",
       "    }\n",
       "\n",
       "    .dataframe thead th {\n",
       "        text-align: right;\n",
       "    }\n",
       "</style>\n",
       "<table border=\"1\" class=\"dataframe\">\n",
       "  <thead>\n",
       "    <tr style=\"text-align: right;\">\n",
       "      <th>nb_per_class</th>\n",
       "    </tr>\n",
       "    <tr>\n",
       "      <th>rpoint</th>\n",
       "    </tr>\n",
       "  </thead>\n",
       "  <tbody>\n",
       "  </tbody>\n",
       "</table>\n",
       "</div>"
      ],
      "text/plain": [
       "Empty DataFrame\n",
       "Columns: []\n",
       "Index: []"
      ]
     },
     "execution_count": 74,
     "metadata": {},
     "output_type": "execute_result"
    }
   ],
   "source": [
    "pd.pivot_table(df_result_acc, values='tclassifier_time', index=['rpoint'],columns=['nb_per_class'], aggfunc='mean')"
   ]
  }
 ],
 "metadata": {
  "kernelspec": {
   "display_name": "rsast_env",
   "language": "python",
   "name": "python3"
  },
  "language_info": {
   "codemirror_mode": {
    "name": "ipython",
    "version": 3
   },
   "file_extension": ".py",
   "mimetype": "text/x-python",
   "name": "python",
   "nbconvert_exporter": "python",
   "pygments_lexer": "ipython3",
   "version": "3.9.13"
  },
  "vscode": {
   "interpreter": {
    "hash": "15558ed87e778df9776c3e85b8e1a3f1f5adbf230fcca0229423f99909b60d27"
   }
  }
 },
 "nbformat": 4,
 "nbformat_minor": 2
}
