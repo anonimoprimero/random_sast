{
 "cells": [
  {
   "attachments": {},
   "cell_type": "markdown",
   "metadata": {},
   "source": [
    "## Experiments: Comparing RSAST with other methods"
   ]
  },
  {
   "cell_type": "code",
   "execution_count": 38,
   "metadata": {},
   "outputs": [
    {
     "data": {
      "text/plain": [
       "['/home/nirojasvar/random_sast/ExperimentationRSAST',\n",
       " '/home/nirojasvar/anaconda3/envs/rsast_env/lib/python310.zip',\n",
       " '/home/nirojasvar/anaconda3/envs/rsast_env/lib/python3.10',\n",
       " '/home/nirojasvar/anaconda3/envs/rsast_env/lib/python3.10/lib-dynload',\n",
       " '',\n",
       " '/home/nirojasvar/anaconda3/envs/rsast_env/lib/python3.10/site-packages',\n",
       " '/home/nirojasvar/random_sast/sast',\n",
       " '/home/nirojasvar/random_sast\\\\sast',\n",
       " '/home/nirojasvar/random_sast/ExperimentationRSAST/sast',\n",
       " '/home/nirojasvar/random_sast/ExperimentationRSAST\\\\sast',\n",
       " '/home/nirojasvar/random_sast\\\\cd_diagram',\n",
       " '/home/nirojasvar/random_sast/cd_diagram',\n",
       " '/home/nirojasvar/random_sast/ExperimentationRSAST\\\\cd_diagram',\n",
       " '/home/nirojasvar/random_sast/ExperimentationRSAST/cd_diagram',\n",
       " '/home/nirojasvar/random_sast/sast',\n",
       " '/home/nirojasvar/random_sast\\\\sast',\n",
       " '/home/nirojasvar/random_sast/ExperimentationRSAST/sast',\n",
       " '/home/nirojasvar/random_sast/ExperimentationRSAST\\\\sast',\n",
       " '/home/nirojasvar/random_sast\\\\cd_diagram',\n",
       " '/home/nirojasvar/random_sast/cd_diagram',\n",
       " '/home/nirojasvar/random_sast/ExperimentationRSAST\\\\cd_diagram',\n",
       " '/home/nirojasvar/random_sast/ExperimentationRSAST/cd_diagram',\n",
       " '/home/nirojasvar/random_sast/sast',\n",
       " '/home/nirojasvar/random_sast\\\\sast',\n",
       " '/home/nirojasvar/random_sast/ExperimentationRSAST/sast',\n",
       " '/home/nirojasvar/random_sast/ExperimentationRSAST\\\\sast',\n",
       " '/home/nirojasvar/random_sast\\\\cd_diagram',\n",
       " '/home/nirojasvar/random_sast/cd_diagram',\n",
       " '/home/nirojasvar/random_sast/ExperimentationRSAST\\\\cd_diagram',\n",
       " '/home/nirojasvar/random_sast/ExperimentationRSAST/cd_diagram',\n",
       " '/home/nirojasvar/random_sast/sast',\n",
       " '/home/nirojasvar/random_sast\\\\sast',\n",
       " '/home/nirojasvar/random_sast/ExperimentationRSAST/sast',\n",
       " '/home/nirojasvar/random_sast/ExperimentationRSAST\\\\sast',\n",
       " '/home/nirojasvar/random_sast\\\\cd_diagram',\n",
       " '/home/nirojasvar/random_sast/cd_diagram',\n",
       " '/home/nirojasvar/random_sast/ExperimentationRSAST\\\\cd_diagram',\n",
       " '/home/nirojasvar/random_sast/ExperimentationRSAST/cd_diagram']"
      ]
     },
     "execution_count": 38,
     "metadata": {},
     "output_type": "execute_result"
    }
   ],
   "source": [
    "import sys \n",
    "import os \n",
    "#add sast library path\n",
    "file_path = os.path.dirname(os.getcwd())+\"/sast\"\n",
    "\n",
    "#file_path = r\"C:\\Users\\Public\\random_sast\\sast\"\n",
    "sys.path.append(file_path)\n",
    "\n",
    "file_path = os.path.dirname(os.getcwd())+\"\\sast\"\n",
    "\n",
    "\n",
    "#file_path = r\"C:\\Users\\Public\\random_sast\\sast\"\n",
    "sys.path.append(file_path)\n",
    "\n",
    "file_path = os.getcwd()+\"/sast\"\n",
    "\n",
    "\n",
    "#file_path = r\"C:\\Users\\Public\\random_sast\\sast\"\n",
    "sys.path.append(file_path)\n",
    "\n",
    "file_path = os.getcwd()+\"\\sast\"\n",
    "\n",
    "\n",
    "#file_path = r\"C:\\Users\\Public\\random_sast\\sast\"\n",
    "sys.path.append(file_path)\n",
    "\n",
    "#add cd_diagram library path\n",
    "file_path = os.path.dirname(os.getcwd())+\"\\cd_diagram\"\n",
    "\n",
    "#file_path = r\"C:\\Users\\Public\\random_sast\\cd_diagram\"\n",
    "sys.path.append(file_path)\n",
    "\n",
    "\n",
    "file_path = os.path.dirname(os.getcwd())+\"/cd_diagram\"\n",
    "#file_path = r\"C:\\Users\\Public\\random_sast\\sast\"\n",
    "sys.path.append(file_path)\n",
    "\n",
    "file_path = os.getcwd()+\"\\cd_diagram\"\n",
    "#file_path = r\"C:\\Users\\Public\\random_sast\\sast\"\n",
    "sys.path.append(file_path)\n",
    "\n",
    "file_path = os.getcwd()+\"/cd_diagram\"\n",
    "#file_path = r\"C:\\Users\\Public\\random_sast\\sast\"\n",
    "sys.path.append(file_path)\n",
    "\n",
    "sys.path\n"
   ]
  },
  {
   "cell_type": "code",
   "execution_count": 39,
   "metadata": {},
   "outputs": [],
   "source": [
    "from sast import *\n",
    "from sktime.datasets import load_UCR_UEA_dataset, tsc_dataset_names\n",
    "from sktime.classification.kernel_based import RocketClassifier\n",
    "import time\n",
    "import pandas as pd\n",
    "from sktime.transformations.panel.shapelet_transform import ShapeletTransform\n",
    "import matplotlib.pyplot as plt\n",
    "import os\n",
    "\n",
    "hyperparameter='None: n_random_points=100 nb_inst_per_class=50'"
   ]
  },
  {
   "attachments": {},
   "cell_type": "markdown",
   "metadata": {},
   "source": [
    "### Reading Datasets"
   ]
  },
  {
   "cell_type": "code",
   "execution_count": 40,
   "metadata": {},
   "outputs": [],
   "source": [
    "# Set directory where the csv files are located\n",
    "directory = os.getcwd()+'/ResultsByClassifier'\n",
    "\n",
    "# Create an empty list to store the dataframes\n",
    "dfs = []\n",
    "\n",
    "# Loop through all files in the directory\n",
    "for filename in os.listdir(directory):\n",
    "    # Check if the file starts with \"df_overall_tunning\" and ends with \".csv\"\n",
    "    if filename.endswith(\".csv\"):\n",
    "        # Read the csv file into a dataframe\n",
    "        filepath = os.path.join(directory, filename)\n",
    "        df = pd.read_csv(filepath)\n",
    "\n",
    "        # Append the dataframe to the list\n",
    "        df['filename']=filename\n",
    "        dfs.append(df)\n",
    "\n",
    "# Concatenate all the dataframes in the list into one dataframe\n",
    "df_other_methods = pd.concat(dfs, ignore_index=True)\n",
    "df_other_methods=df_other_methods[['filename','folds:','0']]\n",
    "df_other_methods['method']=df_other_methods['filename'].str.split('_').str[0]\n",
    "df_other_methods\n",
    "df_other_methods=df_other_methods.rename(columns={'folds:':'dataset','0':'score'})\n",
    "df_other_methods=df_other_methods[['dataset','score','method']]\n",
    "\n"
   ]
  },
  {
   "cell_type": "code",
   "execution_count": 41,
   "metadata": {},
   "outputs": [
    {
     "data": {
      "text/plain": [
       "array(['SAST', 'ROCKET', 'HIVE-COTEv1', 'BOSS', 'RISE', 'TSF',\n",
       "       'InceptionTime', 'TS-CHIEF', 'S-BOSS', 'STC', 'ResNet',\n",
       "       'ProximityForest', 'WEASEL', 'Catch22', 'cBOSS'], dtype=object)"
      ]
     },
     "execution_count": 41,
     "metadata": {},
     "output_type": "execute_result"
    }
   ],
   "source": [
    "df_other_methods['method'].unique()"
   ]
  },
  {
   "cell_type": "code",
   "execution_count": 42,
   "metadata": {},
   "outputs": [
    {
     "name": "stderr",
     "output_type": "stream",
     "text": [
      "/tmp/ipykernel_4516/2384774556.py:27: FutureWarning: The default value of regex will change from True to False in a future version.\n",
      "  df['classifier_name']=df['classifier_name'].str.replace(\"\\(lenthg ts\\)//2\",\"half_len\")\n",
      "/tmp/ipykernel_4516/2384774556.py:28: FutureWarning: The default value of regex will change from True to False in a future version.\n",
      "  df['classifier_name']=df['classifier_name'].str.replace(\"\\(max instances per class\\)//2\",\"half_instance\")\n",
      "/tmp/ipykernel_4516/2384774556.py:27: FutureWarning: The default value of regex will change from True to False in a future version.\n",
      "  df['classifier_name']=df['classifier_name'].str.replace(\"\\(lenthg ts\\)//2\",\"half_len\")\n",
      "/tmp/ipykernel_4516/2384774556.py:28: FutureWarning: The default value of regex will change from True to False in a future version.\n",
      "  df['classifier_name']=df['classifier_name'].str.replace(\"\\(max instances per class\\)//2\",\"half_instance\")\n",
      "/tmp/ipykernel_4516/2384774556.py:27: FutureWarning: The default value of regex will change from True to False in a future version.\n",
      "  df['classifier_name']=df['classifier_name'].str.replace(\"\\(lenthg ts\\)//2\",\"half_len\")\n",
      "/tmp/ipykernel_4516/2384774556.py:28: FutureWarning: The default value of regex will change from True to False in a future version.\n",
      "  df['classifier_name']=df['classifier_name'].str.replace(\"\\(max instances per class\\)//2\",\"half_instance\")\n",
      "/tmp/ipykernel_4516/2384774556.py:27: FutureWarning: The default value of regex will change from True to False in a future version.\n",
      "  df['classifier_name']=df['classifier_name'].str.replace(\"\\(lenthg ts\\)//2\",\"half_len\")\n",
      "/tmp/ipykernel_4516/2384774556.py:28: FutureWarning: The default value of regex will change from True to False in a future version.\n",
      "  df['classifier_name']=df['classifier_name'].str.replace(\"\\(max instances per class\\)//2\",\"half_instance\")\n",
      "/tmp/ipykernel_4516/2384774556.py:27: FutureWarning: The default value of regex will change from True to False in a future version.\n",
      "  df['classifier_name']=df['classifier_name'].str.replace(\"\\(lenthg ts\\)//2\",\"half_len\")\n",
      "/tmp/ipykernel_4516/2384774556.py:28: FutureWarning: The default value of regex will change from True to False in a future version.\n",
      "  df['classifier_name']=df['classifier_name'].str.replace(\"\\(max instances per class\\)//2\",\"half_instance\")\n",
      "/tmp/ipykernel_4516/2384774556.py:27: FutureWarning: The default value of regex will change from True to False in a future version.\n",
      "  df['classifier_name']=df['classifier_name'].str.replace(\"\\(lenthg ts\\)//2\",\"half_len\")\n",
      "/tmp/ipykernel_4516/2384774556.py:28: FutureWarning: The default value of regex will change from True to False in a future version.\n",
      "  df['classifier_name']=df['classifier_name'].str.replace(\"\\(max instances per class\\)//2\",\"half_instance\")\n",
      "/tmp/ipykernel_4516/2384774556.py:27: FutureWarning: The default value of regex will change from True to False in a future version.\n",
      "  df['classifier_name']=df['classifier_name'].str.replace(\"\\(lenthg ts\\)//2\",\"half_len\")\n",
      "/tmp/ipykernel_4516/2384774556.py:28: FutureWarning: The default value of regex will change from True to False in a future version.\n",
      "  df['classifier_name']=df['classifier_name'].str.replace(\"\\(max instances per class\\)//2\",\"half_instance\")\n",
      "/tmp/ipykernel_4516/2384774556.py:27: FutureWarning: The default value of regex will change from True to False in a future version.\n",
      "  df['classifier_name']=df['classifier_name'].str.replace(\"\\(lenthg ts\\)//2\",\"half_len\")\n",
      "/tmp/ipykernel_4516/2384774556.py:28: FutureWarning: The default value of regex will change from True to False in a future version.\n",
      "  df['classifier_name']=df['classifier_name'].str.replace(\"\\(max instances per class\\)//2\",\"half_instance\")\n",
      "/tmp/ipykernel_4516/2384774556.py:27: FutureWarning: The default value of regex will change from True to False in a future version.\n",
      "  df['classifier_name']=df['classifier_name'].str.replace(\"\\(lenthg ts\\)//2\",\"half_len\")\n",
      "/tmp/ipykernel_4516/2384774556.py:28: FutureWarning: The default value of regex will change from True to False in a future version.\n",
      "  df['classifier_name']=df['classifier_name'].str.replace(\"\\(max instances per class\\)//2\",\"half_instance\")\n",
      "/tmp/ipykernel_4516/2384774556.py:27: FutureWarning: The default value of regex will change from True to False in a future version.\n",
      "  df['classifier_name']=df['classifier_name'].str.replace(\"\\(lenthg ts\\)//2\",\"half_len\")\n",
      "/tmp/ipykernel_4516/2384774556.py:28: FutureWarning: The default value of regex will change from True to False in a future version.\n",
      "  df['classifier_name']=df['classifier_name'].str.replace(\"\\(max instances per class\\)//2\",\"half_instance\")\n",
      "/tmp/ipykernel_4516/2384774556.py:27: FutureWarning: The default value of regex will change from True to False in a future version.\n",
      "  df['classifier_name']=df['classifier_name'].str.replace(\"\\(lenthg ts\\)//2\",\"half_len\")\n",
      "/tmp/ipykernel_4516/2384774556.py:28: FutureWarning: The default value of regex will change from True to False in a future version.\n",
      "  df['classifier_name']=df['classifier_name'].str.replace(\"\\(max instances per class\\)//2\",\"half_instance\")\n",
      "/tmp/ipykernel_4516/2384774556.py:27: FutureWarning: The default value of regex will change from True to False in a future version.\n",
      "  df['classifier_name']=df['classifier_name'].str.replace(\"\\(lenthg ts\\)//2\",\"half_len\")\n",
      "/tmp/ipykernel_4516/2384774556.py:28: FutureWarning: The default value of regex will change from True to False in a future version.\n",
      "  df['classifier_name']=df['classifier_name'].str.replace(\"\\(max instances per class\\)//2\",\"half_instance\")\n",
      "/tmp/ipykernel_4516/2384774556.py:27: FutureWarning: The default value of regex will change from True to False in a future version.\n",
      "  df['classifier_name']=df['classifier_name'].str.replace(\"\\(lenthg ts\\)//2\",\"half_len\")\n",
      "/tmp/ipykernel_4516/2384774556.py:28: FutureWarning: The default value of regex will change from True to False in a future version.\n",
      "  df['classifier_name']=df['classifier_name'].str.replace(\"\\(max instances per class\\)//2\",\"half_instance\")\n",
      "/tmp/ipykernel_4516/2384774556.py:27: FutureWarning: The default value of regex will change from True to False in a future version.\n",
      "  df['classifier_name']=df['classifier_name'].str.replace(\"\\(lenthg ts\\)//2\",\"half_len\")\n",
      "/tmp/ipykernel_4516/2384774556.py:28: FutureWarning: The default value of regex will change from True to False in a future version.\n",
      "  df['classifier_name']=df['classifier_name'].str.replace(\"\\(max instances per class\\)//2\",\"half_instance\")\n",
      "/tmp/ipykernel_4516/2384774556.py:27: FutureWarning: The default value of regex will change from True to False in a future version.\n",
      "  df['classifier_name']=df['classifier_name'].str.replace(\"\\(lenthg ts\\)//2\",\"half_len\")\n",
      "/tmp/ipykernel_4516/2384774556.py:28: FutureWarning: The default value of regex will change from True to False in a future version.\n",
      "  df['classifier_name']=df['classifier_name'].str.replace(\"\\(max instances per class\\)//2\",\"half_instance\")\n",
      "/tmp/ipykernel_4516/2384774556.py:27: FutureWarning: The default value of regex will change from True to False in a future version.\n",
      "  df['classifier_name']=df['classifier_name'].str.replace(\"\\(lenthg ts\\)//2\",\"half_len\")\n",
      "/tmp/ipykernel_4516/2384774556.py:28: FutureWarning: The default value of regex will change from True to False in a future version.\n",
      "  df['classifier_name']=df['classifier_name'].str.replace(\"\\(max instances per class\\)//2\",\"half_instance\")\n",
      "/tmp/ipykernel_4516/2384774556.py:27: FutureWarning: The default value of regex will change from True to False in a future version.\n",
      "  df['classifier_name']=df['classifier_name'].str.replace(\"\\(lenthg ts\\)//2\",\"half_len\")\n",
      "/tmp/ipykernel_4516/2384774556.py:28: FutureWarning: The default value of regex will change from True to False in a future version.\n",
      "  df['classifier_name']=df['classifier_name'].str.replace(\"\\(max instances per class\\)//2\",\"half_instance\")\n",
      "/tmp/ipykernel_4516/2384774556.py:27: FutureWarning: The default value of regex will change from True to False in a future version.\n",
      "  df['classifier_name']=df['classifier_name'].str.replace(\"\\(lenthg ts\\)//2\",\"half_len\")\n",
      "/tmp/ipykernel_4516/2384774556.py:28: FutureWarning: The default value of regex will change from True to False in a future version.\n",
      "  df['classifier_name']=df['classifier_name'].str.replace(\"\\(max instances per class\\)//2\",\"half_instance\")\n",
      "/tmp/ipykernel_4516/2384774556.py:27: FutureWarning: The default value of regex will change from True to False in a future version.\n",
      "  df['classifier_name']=df['classifier_name'].str.replace(\"\\(lenthg ts\\)//2\",\"half_len\")\n",
      "/tmp/ipykernel_4516/2384774556.py:28: FutureWarning: The default value of regex will change from True to False in a future version.\n",
      "  df['classifier_name']=df['classifier_name'].str.replace(\"\\(max instances per class\\)//2\",\"half_instance\")\n",
      "/tmp/ipykernel_4516/2384774556.py:27: FutureWarning: The default value of regex will change from True to False in a future version.\n",
      "  df['classifier_name']=df['classifier_name'].str.replace(\"\\(lenthg ts\\)//2\",\"half_len\")\n",
      "/tmp/ipykernel_4516/2384774556.py:28: FutureWarning: The default value of regex will change from True to False in a future version.\n",
      "  df['classifier_name']=df['classifier_name'].str.replace(\"\\(max instances per class\\)//2\",\"half_instance\")\n"
     ]
    }
   ],
   "source": [
    "# Set directory where the csv files are located\n",
    "#directory = os.getcwd()+'/ResultsRsast'\n",
    "#directory = os.getcwd()+'/results_accuracy_per_ds'\n",
    "\n",
    "directories=[]\n",
    "directories.append(os.getcwd()+'/ResultsRsast/Server16_Hyperparameter_Tunning')\n",
    "directories.append(os.getcwd()+'/ResultsRsast/Server17_Hyperparameter_Tunning')\n",
    "#directories.append(os.getcwd()+'/results_accuracy_per_ds')\n",
    "#directories.append(os.getcwd()+'/results_accuracy_per_ds_10000')\n",
    "\n",
    "\n",
    "# Create an empty list to store the dataframes\n",
    "dfs = []\n",
    "\n",
    "# Loop through all files in the directory\n",
    "for directory in directories:\n",
    "    for filename in os.listdir(directory):\n",
    "        # Check if the file starts with \"df_overall_tunning\" and ends with \".csv\"\n",
    "        if filename.startswith(\"df_all_overall_tunning\") and filename.endswith(\".csv\"):\n",
    "            # Read the csv file into a dataframe\n",
    "            filepath = os.path.join(directory, filename)\n",
    "            df = pd.read_csv(filepath)\n",
    "            df['rpoint']=df['rpoint'].astype(str)\n",
    "            df['nb_per_class']=df['nb_per_class'].astype(str)\n",
    "            df['rpoint']=df['rpoint'].replace(\"(lenthg ts)//2\",\"half_len\")\n",
    "            df['nb_per_class']=df['nb_per_class'].replace(\"(max instances per class)//2\",\"half_instance\")\n",
    "            df['classifier_name']=df['classifier_name'].str.replace(\"\\(lenthg ts\\)//2\",\"half_len\")\n",
    "            df['classifier_name']=df['classifier_name'].str.replace(\"\\(max instances per class\\)//2\",\"half_instance\")\n",
    "            # Append the dataframe to the list\n",
    "            dfs.append(df)\n",
    "\n",
    "# Concatenate all the dataframes in the list into one dataframe\n",
    "df_result = pd.concat(dfs, ignore_index=True)\n",
    "# df_result.head(3)"
   ]
  },
  {
   "cell_type": "code",
   "execution_count": 43,
   "metadata": {},
   "outputs": [
    {
     "data": {
      "text/plain": [
       "array(['ItalyPowerDemand', 'ToeSegmentation2', 'SmoothSubspace', 'Car'],\n",
       "      dtype=object)"
      ]
     },
     "execution_count": 43,
     "metadata": {},
     "output_type": "execute_result"
    }
   ],
   "source": [
    "df_result=df_result[['accuracy','dataset_name','classifier_name','time']]\n",
    "\n",
    "df_result=df_result[df_result[\"classifier_name\"]==hyperparameter]\n",
    "df_result.dataset_name.unique()\n"
   ]
  },
  {
   "cell_type": "code",
   "execution_count": 44,
   "metadata": {},
   "outputs": [
    {
     "data": {
      "text/plain": [
       "Index(['dataset_name', 'accuracy', 'classifier_name'], dtype='object')"
      ]
     },
     "execution_count": 44,
     "metadata": {},
     "output_type": "execute_result"
    }
   ],
   "source": [
    "\n",
    "df_other_methods=df_other_methods.rename(columns={\"dataset\":\"dataset_name\",\"score\":\"accuracy\",\"method\":\"classifier_name\"})\n",
    "df_other_methods = df_other_methods[df_other_methods['dataset_name'].isin(df_result.dataset_name.values)]\n",
    "df_other_methods.columns"
   ]
  },
  {
   "cell_type": "code",
   "execution_count": 45,
   "metadata": {},
   "outputs": [],
   "source": [
    "# concatenate the two dataframes\n",
    "concatenated_df = pd.concat([df_other_methods, df_result])\n",
    "\n",
    "# reset the index of the concatenated dataframe\n",
    "concatenated_df = concatenated_df.reset_index(drop=True)\n"
   ]
  },
  {
   "cell_type": "code",
   "execution_count": 46,
   "metadata": {},
   "outputs": [
    {
     "data": {
      "text/plain": [
       "array(['SAST', 'ROCKET', 'HIVE-COTEv1', 'BOSS', 'RISE', 'TSF',\n",
       "       'InceptionTime', 'TS-CHIEF', 'S-BOSS', 'STC', 'ResNet',\n",
       "       'ProximityForest', 'WEASEL', 'Catch22', 'cBOSS',\n",
       "       'None: n_random_points=100 nb_inst_per_class=50'], dtype=object)"
      ]
     },
     "execution_count": 46,
     "metadata": {},
     "output_type": "execute_result"
    }
   ],
   "source": [
    "concatenated_df['classifier_name'].unique()"
   ]
  },
  {
   "attachments": {},
   "cell_type": "markdown",
   "metadata": {},
   "source": [
    "### Overall analysis"
   ]
  },
  {
   "attachments": {},
   "cell_type": "markdown",
   "metadata": {},
   "source": [
    "#### Accuracy: RSAST vs Other methods"
   ]
  },
  {
   "cell_type": "code",
   "execution_count": 47,
   "metadata": {},
   "outputs": [],
   "source": [
    "# create a pivot table with the mean of score by hyperparameter\n",
    "score_by_method=pd.pivot_table(concatenated_df, values='accuracy', index=['classifier_name'],columns=['dataset_name'], aggfunc='mean')\n",
    "\n"
   ]
  },
  {
   "cell_type": "code",
   "execution_count": 48,
   "metadata": {},
   "outputs": [
    {
     "data": {
      "text/html": [
       "<div>\n",
       "<style scoped>\n",
       "    .dataframe tbody tr th:only-of-type {\n",
       "        vertical-align: middle;\n",
       "    }\n",
       "\n",
       "    .dataframe tbody tr th {\n",
       "        vertical-align: top;\n",
       "    }\n",
       "\n",
       "    .dataframe thead th {\n",
       "        text-align: right;\n",
       "    }\n",
       "</style>\n",
       "<table border=\"1\" class=\"dataframe\">\n",
       "  <thead>\n",
       "    <tr style=\"text-align: right;\">\n",
       "      <th>classifier_name</th>\n",
       "      <th>None: n_random_points=100 nb_inst_per_class=50</th>\n",
       "      <th>STC</th>\n",
       "      <th>SAST</th>\n",
       "      <th>ROCKET</th>\n",
       "    </tr>\n",
       "    <tr>\n",
       "      <th>dataset_name</th>\n",
       "      <th></th>\n",
       "      <th></th>\n",
       "      <th></th>\n",
       "      <th></th>\n",
       "    </tr>\n",
       "  </thead>\n",
       "  <tbody>\n",
       "    <tr>\n",
       "      <th>Car</th>\n",
       "      <td>0.870000</td>\n",
       "      <td>0.916667</td>\n",
       "      <td>0.88</td>\n",
       "      <td>0.883333</td>\n",
       "    </tr>\n",
       "    <tr>\n",
       "      <th>ItalyPowerDemand</th>\n",
       "      <td>0.956268</td>\n",
       "      <td>0.955296</td>\n",
       "      <td>0.96</td>\n",
       "      <td>0.968902</td>\n",
       "    </tr>\n",
       "    <tr>\n",
       "      <th>SmoothSubspace</th>\n",
       "      <td>0.936000</td>\n",
       "      <td>0.933333</td>\n",
       "      <td>0.91</td>\n",
       "      <td>0.980000</td>\n",
       "    </tr>\n",
       "    <tr>\n",
       "      <th>ToeSegmentation2</th>\n",
       "      <td>0.864615</td>\n",
       "      <td>0.923077</td>\n",
       "      <td>0.88</td>\n",
       "      <td>0.915385</td>\n",
       "    </tr>\n",
       "  </tbody>\n",
       "</table>\n",
       "</div>"
      ],
      "text/plain": [
       "classifier_name   None: n_random_points=100 nb_inst_per_class=50       STC  \\\n",
       "dataset_name                                                                 \n",
       "Car                                                     0.870000  0.916667   \n",
       "ItalyPowerDemand                                        0.956268  0.955296   \n",
       "SmoothSubspace                                          0.936000  0.933333   \n",
       "ToeSegmentation2                                        0.864615  0.923077   \n",
       "\n",
       "classifier_name   SAST    ROCKET  \n",
       "dataset_name                      \n",
       "Car               0.88  0.883333  \n",
       "ItalyPowerDemand  0.96  0.968902  \n",
       "SmoothSubspace    0.91  0.980000  \n",
       "ToeSegmentation2  0.88  0.915385  "
      ]
     },
     "execution_count": 48,
     "metadata": {},
     "output_type": "execute_result"
    }
   ],
   "source": [
    "t_score_by_method=score_by_method.transpose()\n",
    "t_score_by_method\n",
    "t_score_by_method[[hyperparameter,\"STC\",\"SAST\",\"ROCKET\"]]\n"
   ]
  },
  {
   "cell_type": "code",
   "execution_count": null,
   "metadata": {},
   "outputs": [],
   "source": [
    "for method in t_score_by_method.columns.drop(hyperparameter):\n",
    "    y=t_score_by_method[hyperparameter]\n",
    "    x=t_score_by_method[method]\n",
    "\n",
    "    # set the style of the plot\n",
    "    plt.style.use('seaborn')\n",
    "\n",
    "    # create the plot\n",
    "    fig, ax = plt.subplots(figsize=(8, 6))\n",
    "\n",
    "    # plot the line\n",
    "    ax.plot([0,1], [0,1])\n",
    "\n",
    "    # plot the points\n",
    "    ax.scatter(x, y, color='blue', edgecolor='blue', s=30, zorder=10)\n",
    "\n",
    "    # add labels and title\n",
    "    ax.set_ylabel('RSAST')\n",
    "    ax.set_xlabel(method)\n",
    "    ax.set_title('Accuracy')\n",
    "\n",
    "\n",
    "    # set the background color\n",
    "    ax.set_facecolor('lightgrey')\n",
    "    plt.savefig('images_one_vs_one_comparison/RSASTvs'+method+'.png')\n"
   ]
  },
  {
   "cell_type": "code",
   "execution_count": 50,
   "metadata": {},
   "outputs": [
    {
     "data": {
      "text/html": [
       "<div>\n",
       "<style scoped>\n",
       "    .dataframe tbody tr th:only-of-type {\n",
       "        vertical-align: middle;\n",
       "    }\n",
       "\n",
       "    .dataframe tbody tr th {\n",
       "        vertical-align: top;\n",
       "    }\n",
       "\n",
       "    .dataframe thead th {\n",
       "        text-align: right;\n",
       "    }\n",
       "</style>\n",
       "<table border=\"1\" class=\"dataframe\">\n",
       "  <thead>\n",
       "    <tr style=\"text-align: right;\">\n",
       "      <th>classifier_name</th>\n",
       "      <th>None: n_random_points=100 nb_inst_per_class=50</th>\n",
       "    </tr>\n",
       "    <tr>\n",
       "      <th>dataset_name</th>\n",
       "      <th></th>\n",
       "    </tr>\n",
       "  </thead>\n",
       "  <tbody>\n",
       "    <tr>\n",
       "      <th>Car</th>\n",
       "      <td>0.725063</td>\n",
       "    </tr>\n",
       "    <tr>\n",
       "      <th>ItalyPowerDemand</th>\n",
       "      <td>0.010684</td>\n",
       "    </tr>\n",
       "    <tr>\n",
       "      <th>SmoothSubspace</th>\n",
       "      <td>0.014660</td>\n",
       "    </tr>\n",
       "    <tr>\n",
       "      <th>ToeSegmentation2</th>\n",
       "      <td>0.157049</td>\n",
       "    </tr>\n",
       "  </tbody>\n",
       "</table>\n",
       "</div>"
      ],
      "text/plain": [
       "classifier_name   None: n_random_points=100 nb_inst_per_class=50\n",
       "dataset_name                                                    \n",
       "Car                                                     0.725063\n",
       "ItalyPowerDemand                                        0.010684\n",
       "SmoothSubspace                                          0.014660\n",
       "ToeSegmentation2                                        0.157049"
      ]
     },
     "execution_count": 50,
     "metadata": {},
     "output_type": "execute_result"
    }
   ],
   "source": [
    "# create a pivot table with the mean of time by hyperparameter\n",
    "time_per_method=pd.pivot_table(df_result, values='time', columns=['classifier_name'],index=['dataset_name'], aggfunc='mean')/60\n",
    "time_per_method"
   ]
  },
  {
   "cell_type": "code",
   "execution_count": 51,
   "metadata": {},
   "outputs": [
    {
     "data": {
      "text/html": [
       "<div>\n",
       "<style scoped>\n",
       "    .dataframe tbody tr th:only-of-type {\n",
       "        vertical-align: middle;\n",
       "    }\n",
       "\n",
       "    .dataframe tbody tr th {\n",
       "        vertical-align: top;\n",
       "    }\n",
       "\n",
       "    .dataframe thead th {\n",
       "        text-align: right;\n",
       "    }\n",
       "</style>\n",
       "<table border=\"1\" class=\"dataframe\">\n",
       "  <thead>\n",
       "    <tr style=\"text-align: right;\">\n",
       "      <th>dataset_name</th>\n",
       "      <th>Car</th>\n",
       "      <th>ItalyPowerDemand</th>\n",
       "      <th>SmoothSubspace</th>\n",
       "      <th>ToeSegmentation2</th>\n",
       "    </tr>\n",
       "    <tr>\n",
       "      <th>classifier_name</th>\n",
       "      <th></th>\n",
       "      <th></th>\n",
       "      <th></th>\n",
       "      <th></th>\n",
       "    </tr>\n",
       "  </thead>\n",
       "  <tbody>\n",
       "    <tr>\n",
       "      <th>None: n_random_points=100 nb_inst_per_class=50</th>\n",
       "      <td>0.000889</td>\n",
       "      <td>0.000019</td>\n",
       "      <td>0.000458</td>\n",
       "      <td>0.001941</td>\n",
       "    </tr>\n",
       "  </tbody>\n",
       "</table>\n",
       "</div>"
      ],
      "text/plain": [
       "dataset_name                                         Car  ItalyPowerDemand  \\\n",
       "classifier_name                                                              \n",
       "None: n_random_points=100 nb_inst_per_class=50  0.000889          0.000019   \n",
       "\n",
       "dataset_name                                    SmoothSubspace  \\\n",
       "classifier_name                                                  \n",
       "None: n_random_points=100 nb_inst_per_class=50        0.000458   \n",
       "\n",
       "dataset_name                                    ToeSegmentation2  \n",
       "classifier_name                                                   \n",
       "None: n_random_points=100 nb_inst_per_class=50          0.001941  "
      ]
     },
     "execution_count": 51,
     "metadata": {},
     "output_type": "execute_result"
    }
   ],
   "source": [
    "# create a pivot table with the variation of score by hyperparameter\n",
    "pd.pivot_table(concatenated_df, values='accuracy', index=['classifier_name'],columns=['dataset_name'], aggfunc='var')\n"
   ]
  },
  {
   "attachments": {},
   "cell_type": "markdown",
   "metadata": {},
   "source": [
    "#### Generate CD Diagram comparison"
   ]
  },
  {
   "cell_type": "code",
   "execution_count": 52,
   "metadata": {},
   "outputs": [
    {
     "data": {
      "text/html": [
       "<div>\n",
       "<style scoped>\n",
       "    .dataframe tbody tr th:only-of-type {\n",
       "        vertical-align: middle;\n",
       "    }\n",
       "\n",
       "    .dataframe tbody tr th {\n",
       "        vertical-align: top;\n",
       "    }\n",
       "\n",
       "    .dataframe thead th {\n",
       "        text-align: right;\n",
       "    }\n",
       "</style>\n",
       "<table border=\"1\" class=\"dataframe\">\n",
       "  <thead>\n",
       "    <tr style=\"text-align: right;\">\n",
       "      <th></th>\n",
       "      <th></th>\n",
       "      <th>accuracy</th>\n",
       "    </tr>\n",
       "    <tr>\n",
       "      <th>classifier_name</th>\n",
       "      <th>dataset_name</th>\n",
       "      <th></th>\n",
       "    </tr>\n",
       "  </thead>\n",
       "  <tbody>\n",
       "    <tr>\n",
       "      <th rowspan=\"4\" valign=\"top\">BOSS</th>\n",
       "      <th>Car</th>\n",
       "      <td>0.833333</td>\n",
       "    </tr>\n",
       "    <tr>\n",
       "      <th>ItalyPowerDemand</th>\n",
       "      <td>0.908649</td>\n",
       "    </tr>\n",
       "    <tr>\n",
       "      <th>SmoothSubspace</th>\n",
       "      <td>0.393333</td>\n",
       "    </tr>\n",
       "    <tr>\n",
       "      <th>ToeSegmentation2</th>\n",
       "      <td>0.961538</td>\n",
       "    </tr>\n",
       "    <tr>\n",
       "      <th>Catch22</th>\n",
       "      <th>Car</th>\n",
       "      <td>0.766667</td>\n",
       "    </tr>\n",
       "    <tr>\n",
       "      <th>...</th>\n",
       "      <th>...</th>\n",
       "      <td>...</td>\n",
       "    </tr>\n",
       "    <tr>\n",
       "      <th>WEASEL</th>\n",
       "      <th>ToeSegmentation2</th>\n",
       "      <td>0.907692</td>\n",
       "    </tr>\n",
       "    <tr>\n",
       "      <th rowspan=\"4\" valign=\"top\">cBOSS</th>\n",
       "      <th>Car</th>\n",
       "      <td>0.816667</td>\n",
       "    </tr>\n",
       "    <tr>\n",
       "      <th>ItalyPowerDemand</th>\n",
       "      <td>0.923226</td>\n",
       "    </tr>\n",
       "    <tr>\n",
       "      <th>SmoothSubspace</th>\n",
       "      <td>0.520000</td>\n",
       "    </tr>\n",
       "    <tr>\n",
       "      <th>ToeSegmentation2</th>\n",
       "      <td>0.953846</td>\n",
       "    </tr>\n",
       "  </tbody>\n",
       "</table>\n",
       "<p>64 rows × 1 columns</p>\n",
       "</div>"
      ],
      "text/plain": [
       "                                  accuracy\n",
       "classifier_name dataset_name              \n",
       "BOSS            Car               0.833333\n",
       "                ItalyPowerDemand  0.908649\n",
       "                SmoothSubspace    0.393333\n",
       "                ToeSegmentation2  0.961538\n",
       "Catch22         Car               0.766667\n",
       "...                                    ...\n",
       "WEASEL          ToeSegmentation2  0.907692\n",
       "cBOSS           Car               0.816667\n",
       "                ItalyPowerDemand  0.923226\n",
       "                SmoothSubspace    0.520000\n",
       "                ToeSegmentation2  0.953846\n",
       "\n",
       "[64 rows x 1 columns]"
      ]
     },
     "execution_count": 52,
     "metadata": {},
     "output_type": "execute_result"
    }
   ],
   "source": [
    "pd.pivot_table(concatenated_df, values='accuracy', index=['classifier_name','dataset_name'], aggfunc='mean')"
   ]
  },
  {
   "cell_type": "code",
   "execution_count": 53,
   "metadata": {},
   "outputs": [
    {
     "name": "stderr",
     "output_type": "stream",
     "text": [
      "/home/nirojasvar/anaconda3/envs/rsast_env/lib/python3.10/site-packages/scipy/stats/_morestats.py:3414: UserWarning: Exact p-value calculation does not work if there are zeros. Switching to normal approximation.\n",
      "  warnings.warn(\"Exact p-value calculation does not work if there are \"\n",
      "/home/nirojasvar/anaconda3/envs/rsast_env/lib/python3.10/site-packages/scipy/stats/_morestats.py:3428: UserWarning: Sample size too small for normal approximation.\n",
      "  warnings.warn(\"Sample size too small for normal approximation.\")\n"
     ]
    },
    {
     "ename": "ValueError",
     "evalue": "zero_method 'wilcox' and 'pratt' do not work if x - y is zero for all elements.",
     "output_type": "error",
     "traceback": [
      "\u001b[0;31m---------------------------------------------------------------------------\u001b[0m",
      "\u001b[0;31mValueError\u001b[0m                                Traceback (most recent call last)",
      "Cell \u001b[0;32mIn[53], line 4\u001b[0m\n\u001b[1;32m      2\u001b[0m df_perf\u001b[39m=\u001b[39mpd\u001b[39m.\u001b[39mpivot_table(concatenated_df, values\u001b[39m=\u001b[39m\u001b[39m'\u001b[39m\u001b[39maccuracy\u001b[39m\u001b[39m'\u001b[39m, index\u001b[39m=\u001b[39m[\u001b[39m'\u001b[39m\u001b[39mclassifier_name\u001b[39m\u001b[39m'\u001b[39m,\u001b[39m'\u001b[39m\u001b[39mdataset_name\u001b[39m\u001b[39m'\u001b[39m], aggfunc\u001b[39m=\u001b[39m\u001b[39m'\u001b[39m\u001b[39mmean\u001b[39m\u001b[39m'\u001b[39m)\n\u001b[1;32m      3\u001b[0m df_perf\u001b[39m=\u001b[39mdf_perf\u001b[39m.\u001b[39mreset_index()\n\u001b[0;32m----> 4\u001b[0m draw_cd_diagram(df_perf, labels\u001b[39m=\u001b[39;49m\u001b[39mTrue\u001b[39;49;00m, title\u001b[39m=\u001b[39;49m\u001b[39m\"\u001b[39;49m\u001b[39mOverall Comparison Other Methods\u001b[39;49m\u001b[39m\"\u001b[39;49m, name_file\u001b[39m=\u001b[39;49m\u001b[39m'\u001b[39;49m\u001b[39mimages_cd_diagram/cd-diagram_overall_comparison_other_method.png\u001b[39;49m\u001b[39m'\u001b[39;49m)\n",
      "File \u001b[0;32m~/random_sast/cd_diagram/cd_function.py:281\u001b[0m, in \u001b[0;36mdraw_cd_diagram\u001b[0;34m(df_perf, alpha, title, labels, name_file)\u001b[0m\n\u001b[1;32m    276\u001b[0m \u001b[39mdef\u001b[39;00m \u001b[39mdraw_cd_diagram\u001b[39m(df_perf\u001b[39m=\u001b[39m\u001b[39mNone\u001b[39;00m, alpha\u001b[39m=\u001b[39m\u001b[39m0.05\u001b[39m, title\u001b[39m=\u001b[39m\u001b[39mNone\u001b[39;00m, labels\u001b[39m=\u001b[39m\u001b[39mFalse\u001b[39;00m, name_file\u001b[39m=\u001b[39m\u001b[39m'\u001b[39m\u001b[39mcd-diagram.png\u001b[39m\u001b[39m'\u001b[39m):\n\u001b[1;32m    277\u001b[0m     \u001b[39m\"\"\"\u001b[39;00m\n\u001b[1;32m    278\u001b[0m \u001b[39m    Draws the critical difference diagram given the list of pairwise classifiers that are\u001b[39;00m\n\u001b[1;32m    279\u001b[0m \u001b[39m    significant or not\u001b[39;00m\n\u001b[1;32m    280\u001b[0m \u001b[39m    \"\"\"\u001b[39;00m\n\u001b[0;32m--> 281\u001b[0m     p_values, average_ranks, _ \u001b[39m=\u001b[39m wilcoxon_holm(df_perf\u001b[39m=\u001b[39;49mdf_perf, alpha\u001b[39m=\u001b[39;49malpha)\n\u001b[1;32m    283\u001b[0m     \u001b[39m#print(average_ranks)\u001b[39;00m\n\u001b[1;32m    284\u001b[0m \n\u001b[1;32m    285\u001b[0m     \u001b[39m#for p in p_values:\u001b[39;00m\n\u001b[1;32m    286\u001b[0m         \u001b[39m#print(p)\u001b[39;00m\n\u001b[1;32m    289\u001b[0m     graph_ranks(average_ranks\u001b[39m.\u001b[39mvalues, average_ranks\u001b[39m.\u001b[39mkeys(), p_values,\n\u001b[1;32m    290\u001b[0m                 cd\u001b[39m=\u001b[39m\u001b[39mNone\u001b[39;00m, reverse\u001b[39m=\u001b[39m\u001b[39mTrue\u001b[39;00m, width\u001b[39m=\u001b[39m\u001b[39m9\u001b[39m, textspace\u001b[39m=\u001b[39m\u001b[39m1.5\u001b[39m, labels\u001b[39m=\u001b[39mlabels)\n",
      "File \u001b[0;32m~/random_sast/cd_diagram/cd_function.py:341\u001b[0m, in \u001b[0;36mwilcoxon_holm\u001b[0;34m(alpha, df_perf)\u001b[0m\n\u001b[1;32m    338\u001b[0m perf_2 \u001b[39m=\u001b[39m np\u001b[39m.\u001b[39marray(df_perf\u001b[39m.\u001b[39mloc[df_perf[\u001b[39m'\u001b[39m\u001b[39mclassifier_name\u001b[39m\u001b[39m'\u001b[39m] \u001b[39m==\u001b[39m classifier_2]\n\u001b[1;32m    339\u001b[0m                   [\u001b[39m'\u001b[39m\u001b[39maccuracy\u001b[39m\u001b[39m'\u001b[39m], dtype\u001b[39m=\u001b[39mnp\u001b[39m.\u001b[39mfloat64)\n\u001b[1;32m    340\u001b[0m \u001b[39m# calculate the p_value\u001b[39;00m\n\u001b[0;32m--> 341\u001b[0m p_value \u001b[39m=\u001b[39m wilcoxon(perf_1, perf_2, zero_method\u001b[39m=\u001b[39;49m\u001b[39m'\u001b[39;49m\u001b[39mpratt\u001b[39;49m\u001b[39m'\u001b[39;49m)[\u001b[39m1\u001b[39m]\n\u001b[1;32m    342\u001b[0m \u001b[39m# appen to the list\u001b[39;00m\n\u001b[1;32m    343\u001b[0m p_values\u001b[39m.\u001b[39mappend((classifier_1, classifier_2, p_value, \u001b[39mFalse\u001b[39;00m))\n",
      "File \u001b[0;32m~/anaconda3/envs/rsast_env/lib/python3.10/site-packages/scipy/_lib/_util.py:700\u001b[0m, in \u001b[0;36m_rename_parameter.<locals>.decorator.<locals>.wrapper\u001b[0;34m(*args, **kwargs)\u001b[0m\n\u001b[1;32m    698\u001b[0m         \u001b[39mraise\u001b[39;00m \u001b[39mTypeError\u001b[39;00m(message)\n\u001b[1;32m    699\u001b[0m     kwargs[new_name] \u001b[39m=\u001b[39m kwargs\u001b[39m.\u001b[39mpop(old_name)\n\u001b[0;32m--> 700\u001b[0m \u001b[39mreturn\u001b[39;00m fun(\u001b[39m*\u001b[39;49margs, \u001b[39m*\u001b[39;49m\u001b[39m*\u001b[39;49mkwargs)\n",
      "File \u001b[0;32m~/anaconda3/envs/rsast_env/lib/python3.10/site-packages/scipy/stats/_axis_nan_policy.py:502\u001b[0m, in \u001b[0;36m_axis_nan_policy_factory.<locals>.axis_nan_policy_decorator.<locals>.axis_nan_policy_wrapper\u001b[0;34m(***failed resolving arguments***)\u001b[0m\n\u001b[1;32m    500\u001b[0m \u001b[39mif\u001b[39;00m sentinel:\n\u001b[1;32m    501\u001b[0m     samples \u001b[39m=\u001b[39m _remove_sentinel(samples, paired, sentinel)\n\u001b[0;32m--> 502\u001b[0m res \u001b[39m=\u001b[39m hypotest_fun_out(\u001b[39m*\u001b[39;49msamples, \u001b[39m*\u001b[39;49m\u001b[39m*\u001b[39;49mkwds)\n\u001b[1;32m    503\u001b[0m res \u001b[39m=\u001b[39m result_to_tuple(res)\n\u001b[1;32m    504\u001b[0m res \u001b[39m=\u001b[39m _add_reduced_axes(res, reduced_axes, keepdims)\n",
      "File \u001b[0;32m~/anaconda3/envs/rsast_env/lib/python3.10/site-packages/scipy/stats/_morestats.py:3420\u001b[0m, in \u001b[0;36mwilcoxon\u001b[0;34m(x, y, zero_method, correction, alternative, method)\u001b[0m\n\u001b[1;32m   3418\u001b[0m \u001b[39mif\u001b[39;00m zero_method \u001b[39min\u001b[39;00m [\u001b[39m\"\u001b[39m\u001b[39mwilcox\u001b[39m\u001b[39m\"\u001b[39m, \u001b[39m\"\u001b[39m\u001b[39mpratt\u001b[39m\u001b[39m\"\u001b[39m]:\n\u001b[1;32m   3419\u001b[0m     \u001b[39mif\u001b[39;00m n_zero \u001b[39m==\u001b[39m \u001b[39mlen\u001b[39m(d):\n\u001b[0;32m-> 3420\u001b[0m         \u001b[39mraise\u001b[39;00m \u001b[39mValueError\u001b[39;00m(\u001b[39m\"\u001b[39m\u001b[39mzero_method \u001b[39m\u001b[39m'\u001b[39m\u001b[39mwilcox\u001b[39m\u001b[39m'\u001b[39m\u001b[39m and \u001b[39m\u001b[39m'\u001b[39m\u001b[39mpratt\u001b[39m\u001b[39m'\u001b[39m\u001b[39m do not \u001b[39m\u001b[39m\"\u001b[39m\n\u001b[1;32m   3421\u001b[0m                          \u001b[39m\"\u001b[39m\u001b[39mwork if x - y is zero for all elements.\u001b[39m\u001b[39m\"\u001b[39m)\n\u001b[1;32m   3422\u001b[0m \u001b[39mif\u001b[39;00m zero_method \u001b[39m==\u001b[39m \u001b[39m\"\u001b[39m\u001b[39mwilcox\u001b[39m\u001b[39m\"\u001b[39m:\n\u001b[1;32m   3423\u001b[0m     \u001b[39m# Keep all non-zero differences\u001b[39;00m\n\u001b[1;32m   3424\u001b[0m     d \u001b[39m=\u001b[39m compress(np\u001b[39m.\u001b[39mnot_equal(d, \u001b[39m0\u001b[39m), d)\n",
      "\u001b[0;31mValueError\u001b[0m: zero_method 'wilcox' and 'pratt' do not work if x - y is zero for all elements."
     ]
    }
   ],
   "source": [
    "\n",
    "from cd_function import *\n",
    "df_perf=pd.pivot_table(concatenated_df, values='accuracy', index=['classifier_name','dataset_name'], aggfunc='mean')\n",
    "df_perf=df_perf.reset_index()\n",
    "draw_cd_diagram(df_perf, labels=True, title=\"Overall Comparison Other Methods\", name_file='images_cd_diagram/cd-diagram_overall_comparison_other_method.png')\n"
   ]
  },
  {
   "cell_type": "code",
   "execution_count": null,
   "metadata": {},
   "outputs": [
    {
     "data": {
      "text/plain": [
       "array(['ACF&PACF: n_random_points=10000 nb_inst_per_class=half_instance',\n",
       "       'BOSS', 'Catch22', 'HIVE-COTEv1', 'InceptionTime',\n",
       "       'ProximityForest', 'RISE', 'ROCKET', 'ResNet', 'S-BOSS', 'SAST',\n",
       "       'STC', 'TS-CHIEF', 'TSF', 'WEASEL', 'cBOSS'], dtype=object)"
      ]
     },
     "execution_count": 53,
     "metadata": {},
     "output_type": "execute_result"
    }
   ],
   "source": [
    "df_perf[\"classifier_name\"].unique()"
   ]
  },
  {
   "cell_type": "code",
   "execution_count": null,
   "metadata": {},
   "outputs": [
    {
     "ename": "ValueError",
     "evalue": "At least 3 sets of samples must be given for Friedman test, got 2.",
     "output_type": "error",
     "traceback": [
      "\u001b[1;31m---------------------------------------------------------------------------\u001b[0m",
      "\u001b[1;31mValueError\u001b[0m                                Traceback (most recent call last)",
      "\u001b[1;32m~\\AppData\\Local\\Temp\\ipykernel_6036\\3600125792.py\u001b[0m in \u001b[0;36m<module>\u001b[1;34m\u001b[0m\n\u001b[1;32m----> 1\u001b[1;33m \u001b[0m_\u001b[0m\u001b[1;33m,\u001b[0m \u001b[0maverage_ranks\u001b[0m\u001b[1;33m,\u001b[0m \u001b[0m_\u001b[0m \u001b[1;33m=\u001b[0m \u001b[0mwilcoxon_holm\u001b[0m\u001b[1;33m(\u001b[0m\u001b[0mdf_perf\u001b[0m\u001b[1;33m=\u001b[0m\u001b[0mdf_perf\u001b[0m\u001b[1;33m)\u001b[0m\u001b[1;33m\u001b[0m\u001b[1;33m\u001b[0m\u001b[0m\n\u001b[0m\u001b[0;32m      2\u001b[0m \u001b[0mmin_rank\u001b[0m\u001b[1;33m=\u001b[0m \u001b[0mmin\u001b[0m\u001b[1;33m(\u001b[0m\u001b[0maverage_ranks\u001b[0m\u001b[1;33m)\u001b[0m\u001b[1;33m\u001b[0m\u001b[1;33m\u001b[0m\u001b[0m\n\u001b[0;32m      3\u001b[0m \u001b[0maverage_ranks\u001b[0m\u001b[1;33m=\u001b[0m\u001b[0mpd\u001b[0m\u001b[1;33m.\u001b[0m\u001b[0mDataFrame\u001b[0m\u001b[1;33m(\u001b[0m\u001b[0maverage_ranks\u001b[0m\u001b[1;33m)\u001b[0m\u001b[1;33m\u001b[0m\u001b[1;33m\u001b[0m\u001b[0m\n\u001b[0;32m      4\u001b[0m \u001b[0maverage_ranks\u001b[0m\u001b[1;33m\u001b[0m\u001b[1;33m\u001b[0m\u001b[0m\n",
      "\u001b[1;32mc:\\Users\\Public\\random_sast\\cd_diagram\\cd_function.py\u001b[0m in \u001b[0;36mwilcoxon_holm\u001b[1;34m(alpha, df_perf)\u001b[0m\n\u001b[0;32m    314\u001b[0m                        ['classifier_name'])\n\u001b[0;32m    315\u001b[0m     \u001b[1;31m# test the null hypothesis using friedman before doing a post-hoc analysis\u001b[0m\u001b[1;33m\u001b[0m\u001b[1;33m\u001b[0m\u001b[0m\n\u001b[1;32m--> 316\u001b[1;33m     friedman_p_value = friedmanchisquare(*(\n\u001b[0m\u001b[0;32m    317\u001b[0m         \u001b[0mnp\u001b[0m\u001b[1;33m.\u001b[0m\u001b[0marray\u001b[0m\u001b[1;33m(\u001b[0m\u001b[0mdf_perf\u001b[0m\u001b[1;33m.\u001b[0m\u001b[0mloc\u001b[0m\u001b[1;33m[\u001b[0m\u001b[0mdf_perf\u001b[0m\u001b[1;33m[\u001b[0m\u001b[1;34m'classifier_name'\u001b[0m\u001b[1;33m]\u001b[0m \u001b[1;33m==\u001b[0m \u001b[0mc\u001b[0m\u001b[1;33m]\u001b[0m\u001b[1;33m[\u001b[0m\u001b[1;34m'accuracy'\u001b[0m\u001b[1;33m]\u001b[0m\u001b[1;33m)\u001b[0m\u001b[1;33m\u001b[0m\u001b[1;33m\u001b[0m\u001b[0m\n\u001b[0;32m    318\u001b[0m         for c in classifiers))[1]\n",
      "\u001b[1;32mc:\\ProgramData\\Anaconda3\\lib\\site-packages\\scipy\\stats\\_stats_py.py\u001b[0m in \u001b[0;36mfriedmanchisquare\u001b[1;34m(*samples)\u001b[0m\n\u001b[0;32m   8329\u001b[0m     \u001b[0mk\u001b[0m \u001b[1;33m=\u001b[0m \u001b[0mlen\u001b[0m\u001b[1;33m(\u001b[0m\u001b[0msamples\u001b[0m\u001b[1;33m)\u001b[0m\u001b[1;33m\u001b[0m\u001b[1;33m\u001b[0m\u001b[0m\n\u001b[0;32m   8330\u001b[0m     \u001b[1;32mif\u001b[0m \u001b[0mk\u001b[0m \u001b[1;33m<\u001b[0m \u001b[1;36m3\u001b[0m\u001b[1;33m:\u001b[0m\u001b[1;33m\u001b[0m\u001b[1;33m\u001b[0m\u001b[0m\n\u001b[1;32m-> 8331\u001b[1;33m         raise ValueError('At least 3 sets of samples must be given '\n\u001b[0m\u001b[0;32m   8332\u001b[0m                          'for Friedman test, got {}.'.format(k))\n\u001b[0;32m   8333\u001b[0m \u001b[1;33m\u001b[0m\u001b[0m\n",
      "\u001b[1;31mValueError\u001b[0m: At least 3 sets of samples must be given for Friedman test, got 2."
     ]
    }
   ],
   "source": [
    "_, average_ranks, _ = wilcoxon_holm(df_perf=df_perf)\n",
    "min_rank= min(average_ranks)\n",
    "average_ranks=pd.DataFrame(average_ranks)\n",
    "average_ranks"
   ]
  }
 ],
 "metadata": {
  "kernelspec": {
   "display_name": "rsast_env",
   "language": "python",
   "name": "python3"
  },
  "language_info": {
   "codemirror_mode": {
    "name": "ipython",
    "version": 3
   },
   "file_extension": ".py",
   "mimetype": "text/x-python",
   "name": "python",
   "nbconvert_exporter": "python",
   "pygments_lexer": "ipython3",
   "version": "3.10.9"
  },
  "vscode": {
   "interpreter": {
    "hash": "15558ed87e778df9776c3e85b8e1a3f1f5adbf230fcca0229423f99909b60d27"
   }
  }
 },
 "nbformat": 4,
 "nbformat_minor": 2
}
