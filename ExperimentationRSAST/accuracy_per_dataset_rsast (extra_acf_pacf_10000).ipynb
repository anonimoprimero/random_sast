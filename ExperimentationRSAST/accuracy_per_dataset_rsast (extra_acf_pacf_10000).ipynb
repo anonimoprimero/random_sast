{
 "cells": [
  {
   "attachments": {},
   "cell_type": "markdown",
   "metadata": {},
   "source": [
    "## Experimentation Accuracy RSAST per Dataset:\n"
   ]
  },
  {
   "cell_type": "code",
   "execution_count": 1,
   "metadata": {},
   "outputs": [
    {
     "data": {
      "text/plain": [
       "['/home/nirojasvar/random_sast/ExperimentationRSAST',\n",
       " '/home/nirojasvar/anaconda3/envs/rsast_env/lib/python310.zip',\n",
       " '/home/nirojasvar/anaconda3/envs/rsast_env/lib/python3.10',\n",
       " '/home/nirojasvar/anaconda3/envs/rsast_env/lib/python3.10/lib-dynload',\n",
       " '',\n",
       " '/home/nirojasvar/anaconda3/envs/rsast_env/lib/python3.10/site-packages',\n",
       " '/home/nirojasvar/random_sast/sast']"
      ]
     },
     "execution_count": 1,
     "metadata": {},
     "output_type": "execute_result"
    }
   ],
   "source": [
    "#configure directory to import sast libraries\n",
    "import sys \n",
    "import os \n",
    "#add sast library path\n",
    "file_path = os.path.expanduser(\"~/random_sast/sast\")\n",
    "sys.path.append(file_path)\n",
    "\n",
    "\n",
    "sys.path"
   ]
  },
  {
   "cell_type": "code",
   "execution_count": 2,
   "metadata": {},
   "outputs": [
    {
     "name": "stderr",
     "output_type": "stream",
     "text": [
      "/home/nirojasvar/anaconda3/envs/rsast_env/lib/python3.10/site-packages/mass_ts/_mass_ts.py:17: UserWarning: GPU support will not work. You must pip install mass-ts[gpu].\n",
      "  warnings.warn(\n"
     ]
    }
   ],
   "source": [
    "from sast import *\n",
    "from sktime.datasets import load_UCR_UEA_dataset, tsc_dataset_names\n",
    "from sktime.classification.kernel_based import RocketClassifier\n",
    "import time\n",
    "import pandas as pd"
   ]
  },
  {
   "attachments": {},
   "cell_type": "markdown",
   "metadata": {},
   "source": [
    "### Select Datasets for hypertunning RSAST"
   ]
  },
  {
   "attachments": {},
   "cell_type": "markdown",
   "metadata": {},
   "source": [
    "It is runned RSAST in a set of UCR datasets with a predefined number of runs (\"runs\"). Then, it is selected a range (\"range_total\") between [1, 10, 30 ,50,100] for the selected dataset."
   ]
  },
  {
   "cell_type": "code",
   "execution_count": 3,
   "metadata": {},
   "outputs": [
    {
     "name": "stdout",
     "output_type": "stream",
     "text": [
      "1\n",
      "['Chinatown']\n"
     ]
    }
   ],
   "source": [
    "ds_sens = tsc_dataset_names.univariate_equal_length\n",
    "\n",
    "ds = pd.read_excel(\"DataSetsUCLASummary.xlsx\")\n",
    "ds = ds[ds[\"USED SAST\"]==\"Y\"]\n",
    "ds = ds[ds[\"USED RSAST ADA\"].isna()]\n",
    "\n",
    "#ds_sens = ['ACSF1', 'Adiac', 'ArrowHead', 'Beef', 'BeetleFly', 'BirdChicken', 'BME', 'Car', 'CBF', 'Chinatown', 'ChlorineConcentration', 'CinCECGTorso', 'Coffee']\n",
    "\n",
    "ds_sens = ds.Name.unique()\n",
    "ds_sens = ['SmoothSubspace', 'SonyAIBORobotSurface2', 'GunPoint',\n",
    "       'ItalyPowerDemand', 'DistalPhalanxOutlineCorrect',\n",
    "       'DistalPhalanxOutlineAgeGroup', 'ShapeletSim', 'SyntheticControl',\n",
    "       'SonyAIBORobotSurface1', 'Chinatown', 'Coffee', 'BirdChicken']\n",
    "\n",
    "ds_sens = ['Chinatown']\n",
    "max_ds=len(ds_sens) #exploring dataset in UEA & UCR Time Series Classification Repository\n",
    "print(max_ds)\n",
    "print(ds_sens)"
   ]
  },
  {
   "cell_type": "code",
   "execution_count": 6,
   "metadata": {},
   "outputs": [
    {
     "name": "stdout",
     "output_type": "stream",
     "text": [
      "ds=Chinatown\n",
      "ACF&PACF: n_random_points=1000 nb_inst_per_class=(max instances per class)//2\n",
      "RidgeClassifierCV:size training20<= kernels513\n",
      "ACF&PACF: n_random_points= (lenthg ts)//2 nb_inst_per_class=1000\n",
      "RidgeClassifierCV:size training20<= kernels684\n",
      "ACF&PACF: n_random_points=10000 nb_inst_per_class=(max instances per class)//2\n",
      "RidgeClassifierCV:size training20<= kernels447\n",
      "ACF&PACF: n_random_points= (lenthg ts)//2 nb_inst_per_class=10000\n",
      "RidgeClassifierCV:size training20<= kernels684\n",
      "ACF&PACF: n_random_points=1000 nb_inst_per_class=(max instances per class)//2\n",
      "RidgeClassifierCV:size training20<= kernels448\n",
      "ACF&PACF: n_random_points= (lenthg ts)//2 nb_inst_per_class=1000\n",
      "RidgeClassifierCV:size training20<= kernels684\n",
      "ACF&PACF: n_random_points=10000 nb_inst_per_class=(max instances per class)//2\n",
      "RidgeClassifierCV:size training20<= kernels463\n",
      "ACF&PACF: n_random_points= (lenthg ts)//2 nb_inst_per_class=10000\n",
      "RidgeClassifierCV:size training20<= kernels684\n",
      "ACF&PACF: n_random_points=1000 nb_inst_per_class=(max instances per class)//2\n",
      "RidgeClassifierCV:size training20<= kernels511\n",
      "ACF&PACF: n_random_points= (lenthg ts)//2 nb_inst_per_class=1000\n",
      "RidgeClassifierCV:size training20<= kernels684\n",
      "ACF&PACF: n_random_points=10000 nb_inst_per_class=(max instances per class)//2\n",
      "RidgeClassifierCV:size training20<= kernels507\n",
      "ACF&PACF: n_random_points= (lenthg ts)//2 nb_inst_per_class=10000\n",
      "RidgeClassifierCV:size training20<= kernels684\n"
     ]
    }
   ],
   "source": [
    "#define numbers of runs of the experiment\n",
    "runs = 3\n",
    "\n",
    "#define range for number of random points and intances per class\n",
    "range_exp = [1000, 10000]\n",
    "\n",
    "\n",
    "\n",
    "\n",
    "not_found_ds =[]\n",
    "\n",
    "for ds in ds_sens:\n",
    "\n",
    "    try:    \n",
    "        X_train, y_train = load_UCR_UEA_dataset(name=ds, extract_path='data', split=\"train\", return_type=\"numpy2d\")\n",
    "        X_test, y_test = load_UCR_UEA_dataset(name=ds, extract_path='data', split=\"test\", return_type=\"numpy2d\")\n",
    "        \n",
    "        print(\"ds=\"+ds)\n",
    "\n",
    "    except:\n",
    "        print(\"not found ds=\"+ds)\n",
    "        not_found_ds.append(ds)\n",
    "        continue\n",
    "\n",
    "    for i in range(runs):\n",
    "        df_result = {}\n",
    "        list_score = []\n",
    "        list_overall_time = []\n",
    "        list_cweight_time = []\n",
    "        list_fsubsequence_time = []\n",
    "        list_tdataset_time = []\n",
    "        list_tclassifier_time = []\n",
    "        list_dataset = []\n",
    "        list_hyperparameter = []\n",
    "        list_method = []\n",
    "        list_rpoint = []\n",
    "        list_nb_per_class = []\n",
    "        list_len_method = []\n",
    "        '''\n",
    "        print(\"ACF&PACF: n_random_points= (lenthg ts)//2\"+\" nb_inst_per_class=(max instances per class)//2\")\n",
    "        start = time.time()\n",
    "        random_state = None\n",
    "        rsast_ridge = RSAST(half_len=True,half_instance=True, len_method=\"both\")\n",
    "        rsast_ridge.fit(X_train, y_train)\n",
    "        end = time.time()\n",
    "        list_score.append(rsast_ridge.score(X_test,y_test))\n",
    "\n",
    "        list_overall_time.append(end-start)\n",
    "        list_cweight_time.append(rsast_ridge.time_calculating_weights)\n",
    "        list_fsubsequence_time.append(rsast_ridge.time_creating_subsequences)\n",
    "        list_tdataset_time.append(rsast_ridge.transform_dataset)\n",
    "        list_tclassifier_time.append(rsast_ridge.time_classifier)\n",
    "\n",
    "        list_dataset.append(ds)\n",
    "        list_hyperparameter.append(\"ACF&PACF: n_random_points= (lenthg ts)//2\"+\" nb_inst_per_class=(max instances per class)//2\")\n",
    "        list_rpoint.append(\"(lenthg ts)//2\")\n",
    "        list_nb_per_class.append(\"(max instances per class)//2\")\n",
    "        list_method.append(\"Rsast\")\n",
    "        list_len_method.append(\"ACF&PACF\")\n",
    "        '''\n",
    "        for p in range_exp:\n",
    "\n",
    "            if p ==0:\n",
    "                p=1\n",
    "\n",
    "            print(\"ACF&PACF: n_random_points=\"+str(p)+\" nb_inst_per_class=(max instances per class)//2\")\n",
    "            start = time.time()\n",
    "            random_state = None\n",
    "            rsast_ridge = RSAST(n_random_points=p,half_instance=True, len_method=\"both\")\n",
    "            rsast_ridge.fit(X_train, y_train)\n",
    "            end = time.time()\n",
    "            list_score.append(rsast_ridge.score(X_test,y_test))\n",
    "\n",
    "            list_overall_time.append(end-start)\n",
    "            list_cweight_time.append(rsast_ridge.time_calculating_weights)\n",
    "            list_fsubsequence_time.append(rsast_ridge.time_creating_subsequences)\n",
    "            list_tdataset_time.append(rsast_ridge.transform_dataset)\n",
    "            list_tclassifier_time.append(rsast_ridge.time_classifier)\n",
    "\n",
    "            list_dataset.append(ds)\n",
    "            list_hyperparameter.append(\"ACF&PACF: n_random_points=\"+str(p)+\" nb_inst_per_class=(max instances per class)//2\")\n",
    "            list_rpoint.append(str(p))\n",
    "            list_nb_per_class.append(\"(max instances per class)//2\")\n",
    "            list_method.append(\"Rsast\")\n",
    "            list_len_method.append(\"ACF&PACF\")\n",
    "            \n",
    "            print(\"ACF&PACF: n_random_points= (lenthg ts)//2\"+\" nb_inst_per_class=\"+str(p))\n",
    "            start = time.time()\n",
    "            random_state = None\n",
    "            rsast_ridge = RSAST(half_len=True,nb_inst_per_class=p, len_method=\"both\")\n",
    "            rsast_ridge.fit(X_train, y_train)\n",
    "            end = time.time()\n",
    "            list_score.append(rsast_ridge.score(X_test,y_test))\n",
    "\n",
    "            list_overall_time.append(end-start)\n",
    "            list_cweight_time.append(rsast_ridge.time_calculating_weights)\n",
    "            list_fsubsequence_time.append(rsast_ridge.time_creating_subsequences)\n",
    "            list_tdataset_time.append(rsast_ridge.transform_dataset)\n",
    "            list_tclassifier_time.append(rsast_ridge.time_classifier)\n",
    "\n",
    "            list_dataset.append(ds)\n",
    "            list_hyperparameter.append(\"ACF&PACF: n_random_points= (lenthg ts)//2\"+\" nb_inst_per_class=\"+str(p))\n",
    "            list_rpoint.append(\"(lenthg ts)//2\")\n",
    "            list_nb_per_class.append(str(p))\n",
    "            list_method.append(\"Rsast\")\n",
    "            list_len_method.append(\"ACF&PACF\")\n",
    "\n",
    "\n",
    "        df_result['accuracy']=list_score\n",
    "        df_result['time']=list_overall_time\n",
    "        df_result['cweights_time']=list_cweight_time\n",
    "        df_result['fsubsequence_time']=list_fsubsequence_time\n",
    "        df_result['tdataset_time']=list_tdataset_time\n",
    "        df_result['tclassifier_time']=list_tclassifier_time\n",
    "        df_result['dataset_name']=list_dataset\n",
    "        df_result['classifier_name']=list_hyperparameter\n",
    "        df_result['rpoint']=list_rpoint\n",
    "        df_result['nb_per_class']=list_nb_per_class\n",
    "        df_result['method']=list_method\n",
    "        df_result['len_method']=list_len_method\n",
    "        df_result=pd.DataFrame(df_result)\n",
    "        # export a overall dataset with results\n",
    "        df_result.to_csv(\"results_accuracy_per_ds_10000/df_overall_tunning_\"+str(ds)+str(i+1)+\"(extra_acf_pacf_10000)_norepTSRP.csv\") "
   ]
  }
 ],
 "metadata": {
  "kernelspec": {
   "display_name": "rsast_env",
   "language": "python",
   "name": "python3"
  },
  "language_info": {
   "codemirror_mode": {
    "name": "ipython",
    "version": 3
   },
   "file_extension": ".py",
   "mimetype": "text/x-python",
   "name": "python",
   "nbconvert_exporter": "python",
   "pygments_lexer": "ipython3",
   "version": "3.10.9"
  },
  "vscode": {
   "interpreter": {
    "hash": "15558ed87e778df9776c3e85b8e1a3f1f5adbf230fcca0229423f99909b60d27"
   }
  }
 },
 "nbformat": 4,
 "nbformat_minor": 2
}
