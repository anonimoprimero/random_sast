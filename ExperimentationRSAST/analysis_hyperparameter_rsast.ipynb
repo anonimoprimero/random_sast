{
 "cells": [
  {
   "attachments": {},
   "cell_type": "markdown",
   "metadata": {},
   "source": [
    "## Experiments: Sensitive Analysis Hyperparameter RSAST:\n"
   ]
  },
  {
   "attachments": {},
   "cell_type": "markdown",
   "metadata": {},
   "source": [
    "It is runned RSAST in a set of UCR datasets with a predefined number of runs (\"runs\"). Then, it is selected a range (\"range_total\") between 1, 10, 30 ,50 and 100 for the selected dataset."
   ]
  },
  {
   "cell_type": "code",
   "execution_count": 11,
   "metadata": {},
   "outputs": [
    {
     "name": "stdout",
     "output_type": "stream",
     "text": [
      "Current working directory: C:\\Users\\Surface pro\\random_sast\n"
     ]
    }
   ],
   "source": [
    "# Import the os module\n",
    "import os\n",
    "\n",
    "path = r'C:\\Users\\Surface pro\\random_sast'\n",
    "\n",
    "try:\n",
    "    os.chdir(path)\n",
    "    print(\"Current working directory: {0}\".format(os.getcwd()))\n",
    "except FileNotFoundError:\n",
    "    print(\"Directory: {0} does not exist\".format(path))\n",
    "except NotADirectoryError:\n",
    "    print(\"{0} is not a directory\".format(path))\n",
    "except PermissionError:\n",
    "    print(\"You do not have permissions to change to {0}\".format(path))\n"
   ]
  },
  {
   "cell_type": "code",
   "execution_count": 12,
   "metadata": {},
   "outputs": [],
   "source": [
    "from sast.sast import *\n",
    "import pandas as pd\n",
    "import researchpy\n",
    "import math\n",
    "import matplotlib\n",
    "matplotlib.use('agg')\n",
    "import matplotlib.pyplot as plt\n",
    "import seaborn as sns\n",
    "from cd_diagram.cd_function import *\n",
    "from sast.utils_sast import delete_files_in_directory"
   ]
  },
  {
   "attachments": {},
   "cell_type": "markdown",
   "metadata": {},
   "source": [
    "### Reading Datasets"
   ]
  },
  {
   "cell_type": "code",
   "execution_count": 13,
   "metadata": {},
   "outputs": [],
   "source": [
    "# Set directory where the RSAST result csv files are located\n",
    "\n",
    "directories=[]\n",
    "\n",
    "default_split_acfandpacf_k_1_10_sast=False\n",
    "default_split_acfandpacf_k_1_10_notsast=False\n",
    "default_split_all_k_1_10=False\n",
    "default_split_all_acfandpacf_k_30_50=False\n",
    "default_split_maxpacf_none_k_30_50=False\n",
    "\n",
    "default_split_all_acfandpacf_maxpacf_none_maxacf_k_1_50_p_1_100=False\n",
    "\n",
    "resampling_acfandpacf_k_1_10_sast=True\n",
    "\n",
    "if default_split_acfandpacf_k_1_10_sast:\n",
    "    directories.append(os.getcwd()+'/ExperimentationRSAST/results_rsast/Server17_Comparison_RSAST')\n",
    "if default_split_acfandpacf_k_1_10_notsast:\n",
    "    directories.append(os.getcwd()+'/ExperimentationRSAST/results_rsast/Server17_not_used_sast')\n",
    "if default_split_all_k_1_10:\n",
    "    directories.append(os.getcwd()+'/ExperimentationRSAST/results_rsast/Server17_Comparison_RSAST_All')   \n",
    "if default_split_all_acfandpacf_k_30_50:\n",
    "    directories.append(os.getcwd()+'/ExperimentationRSAST/results_rsast/Server17_Comparison_RSAST_Extra_1')    \n",
    "if default_split_maxpacf_none_k_30_50:\n",
    "    directories.append(os.getcwd()+'/ExperimentationRSAST/results_rsast/Server17_Comparison_RSAST_Extra_2')    \n",
    "if resampling_acfandpacf_k_1_10_sast:\n",
    "    directories.append(os.getcwd()+'/ExperimentationRSAST/results_rsast/Server17_Resampling_Comparison_RSAST')     \n",
    "if default_split_all_acfandpacf_maxpacf_none_maxacf_k_1_50_p_1_100:\n",
    "    directories.append(os.getcwd()+'/ExperimentationRSAST/results_rsast/Server16_Hyperparameter_Tunning')\n",
    "    directories.append(os.getcwd()+'/ExperimentationRSAST/results_rsast/Server17_Hyperparameter_Tunning')\n",
    "\n",
    "\n",
    "# Create an empty list to store the dataframes\n",
    "dfs = []\n",
    "\n",
    "# Loop through all files in the directory\n",
    "for directory in directories:\n",
    "    for filename in os.listdir(directory):\n",
    "        # Check if the file starts with \"df_overall_tunning\" and ends with \".csv\"\n",
    "        if filename.startswith(\"df_all_overall_tunning\") and filename.endswith(\".csv\"):\n",
    "            # Read the csv file into a dataframe\n",
    "            filepath = os.path.join(directory, filename)\n",
    "            df = pd.read_csv(filepath)\n",
    "            df['rpoint']=df['rpoint'].astype(str)\n",
    "            df['nb_per_class']=df['nb_per_class'].astype(str)\n",
    "            df['rpoint']=df['rpoint'].replace(\"(lenthg ts)//2\",\"half_len\")\n",
    "            df['nb_per_class']=df['nb_per_class'].replace(\"(max instances per class)//2\",\"half_instance\")\n",
    "            df['classifier_name']=df['classifier_name'].str.replace(\"\\(lenthg ts\\)//2\",\"half_len\")\n",
    "            df['classifier_name']=df['classifier_name'].str.replace(\"\\(max instances per class\\)//2\",\"half_instance\")\n",
    "            df['directory']=directory\n",
    "            # Append the dataframe to the list\n",
    "            dfs.append(df)\n",
    "\n",
    "# Concatenate all the dataframes in the list into one dataframe\n",
    "df_result = pd.concat(dfs, ignore_index=True)\n",
    "# df_result.head(3)\n"
   ]
  },
  {
   "cell_type": "code",
   "execution_count": 14,
   "metadata": {},
   "outputs": [
    {
     "name": "stdout",
     "output_type": "stream",
     "text": [
      "Total DS:114\n"
     ]
    }
   ],
   "source": [
    "print(\"Total DS:\" + str(len(df_result['dataset_name'].unique())))"
   ]
  },
  {
   "cell_type": "code",
   "execution_count": 15,
   "metadata": {},
   "outputs": [
    {
     "data": {
      "text/html": [
       "<div>\n",
       "<style scoped>\n",
       "    .dataframe tbody tr th:only-of-type {\n",
       "        vertical-align: middle;\n",
       "    }\n",
       "\n",
       "    .dataframe tbody tr th {\n",
       "        vertical-align: top;\n",
       "    }\n",
       "\n",
       "    .dataframe thead th {\n",
       "        text-align: right;\n",
       "    }\n",
       "</style>\n",
       "<table border=\"1\" class=\"dataframe\">\n",
       "  <thead>\n",
       "    <tr style=\"text-align: right;\">\n",
       "      <th>classifier_name</th>\n",
       "      <th>dataset_name</th>\n",
       "      <th>ACF&amp;PACF: n_random_points=10 nb_inst_per_class=1</th>\n",
       "      <th>ACF&amp;PACF: n_random_points=10 nb_inst_per_class=10</th>\n",
       "      <th>ACF&amp;PACF: n_random_points=30 nb_inst_per_class=1</th>\n",
       "      <th>ACF&amp;PACF: n_random_points=30 nb_inst_per_class=10</th>\n",
       "      <th>Max PACF: n_random_points=10 nb_inst_per_class=1</th>\n",
       "      <th>Max PACF: n_random_points=10 nb_inst_per_class=10</th>\n",
       "      <th>Max PACF: n_random_points=30 nb_inst_per_class=1</th>\n",
       "      <th>Max PACF: n_random_points=30 nb_inst_per_class=10</th>\n",
       "      <th>None: n_random_points=10 nb_inst_per_class=1</th>\n",
       "      <th>None: n_random_points=10 nb_inst_per_class=10</th>\n",
       "      <th>None: n_random_points=30 nb_inst_per_class=1</th>\n",
       "      <th>None: n_random_points=30 nb_inst_per_class=10</th>\n",
       "    </tr>\n",
       "  </thead>\n",
       "  <tbody>\n",
       "    <tr>\n",
       "      <th>0</th>\n",
       "      <td>ACSF1</td>\n",
       "      <td>0.34</td>\n",
       "      <td>0.29</td>\n",
       "      <td>0.31</td>\n",
       "      <td>0.29</td>\n",
       "      <td>0.41</td>\n",
       "      <td>0.34</td>\n",
       "      <td>0.38</td>\n",
       "      <td>0.30</td>\n",
       "      <td>0.44</td>\n",
       "      <td>0.31</td>\n",
       "      <td>0.42</td>\n",
       "      <td>0.28</td>\n",
       "    </tr>\n",
       "    <tr>\n",
       "      <th>1</th>\n",
       "      <td>Adiac</td>\n",
       "      <td>0.65</td>\n",
       "      <td>0.63</td>\n",
       "      <td>0.64</td>\n",
       "      <td>0.60</td>\n",
       "      <td>0.72</td>\n",
       "      <td>0.54</td>\n",
       "      <td>0.50</td>\n",
       "      <td>0.56</td>\n",
       "      <td>0.72</td>\n",
       "      <td>0.65</td>\n",
       "      <td>0.62</td>\n",
       "      <td>0.66</td>\n",
       "    </tr>\n",
       "    <tr>\n",
       "      <th>2</th>\n",
       "      <td>AllGestureWiimoteX</td>\n",
       "      <td>0.56</td>\n",
       "      <td>0.67</td>\n",
       "      <td>0.62</td>\n",
       "      <td>0.68</td>\n",
       "      <td>0.49</td>\n",
       "      <td>0.53</td>\n",
       "      <td>0.46</td>\n",
       "      <td>0.60</td>\n",
       "      <td>0.45</td>\n",
       "      <td>0.48</td>\n",
       "      <td>0.45</td>\n",
       "      <td>0.55</td>\n",
       "    </tr>\n",
       "    <tr>\n",
       "      <th>3</th>\n",
       "      <td>AllGestureWiimoteY</td>\n",
       "      <td>0.58</td>\n",
       "      <td>0.71</td>\n",
       "      <td>0.64</td>\n",
       "      <td>0.72</td>\n",
       "      <td>0.52</td>\n",
       "      <td>0.52</td>\n",
       "      <td>0.49</td>\n",
       "      <td>0.66</td>\n",
       "      <td>0.50</td>\n",
       "      <td>0.49</td>\n",
       "      <td>0.45</td>\n",
       "      <td>0.56</td>\n",
       "    </tr>\n",
       "    <tr>\n",
       "      <th>4</th>\n",
       "      <td>AllGestureWiimoteZ</td>\n",
       "      <td>0.47</td>\n",
       "      <td>0.63</td>\n",
       "      <td>0.56</td>\n",
       "      <td>0.63</td>\n",
       "      <td>0.45</td>\n",
       "      <td>0.35</td>\n",
       "      <td>0.45</td>\n",
       "      <td>0.52</td>\n",
       "      <td>0.43</td>\n",
       "      <td>0.35</td>\n",
       "      <td>0.40</td>\n",
       "      <td>0.43</td>\n",
       "    </tr>\n",
       "    <tr>\n",
       "      <th>...</th>\n",
       "      <td>...</td>\n",
       "      <td>...</td>\n",
       "      <td>...</td>\n",
       "      <td>...</td>\n",
       "      <td>...</td>\n",
       "      <td>...</td>\n",
       "      <td>...</td>\n",
       "      <td>...</td>\n",
       "      <td>...</td>\n",
       "      <td>...</td>\n",
       "      <td>...</td>\n",
       "      <td>...</td>\n",
       "      <td>...</td>\n",
       "    </tr>\n",
       "    <tr>\n",
       "      <th>109</th>\n",
       "      <td>Wine</td>\n",
       "      <td>0.85</td>\n",
       "      <td>0.91</td>\n",
       "      <td>0.90</td>\n",
       "      <td>0.89</td>\n",
       "      <td>0.80</td>\n",
       "      <td>0.85</td>\n",
       "      <td>0.77</td>\n",
       "      <td>0.88</td>\n",
       "      <td>0.72</td>\n",
       "      <td>0.87</td>\n",
       "      <td>0.77</td>\n",
       "      <td>0.87</td>\n",
       "    </tr>\n",
       "    <tr>\n",
       "      <th>110</th>\n",
       "      <td>WordSynonyms</td>\n",
       "      <td>0.66</td>\n",
       "      <td>0.68</td>\n",
       "      <td>0.67</td>\n",
       "      <td>0.68</td>\n",
       "      <td>0.62</td>\n",
       "      <td>0.63</td>\n",
       "      <td>0.51</td>\n",
       "      <td>0.64</td>\n",
       "      <td>0.64</td>\n",
       "      <td>0.66</td>\n",
       "      <td>0.51</td>\n",
       "      <td>0.68</td>\n",
       "    </tr>\n",
       "    <tr>\n",
       "      <th>111</th>\n",
       "      <td>Worms</td>\n",
       "      <td>0.61</td>\n",
       "      <td>0.61</td>\n",
       "      <td>0.57</td>\n",
       "      <td>0.64</td>\n",
       "      <td>0.48</td>\n",
       "      <td>0.53</td>\n",
       "      <td>0.49</td>\n",
       "      <td>0.53</td>\n",
       "      <td>0.45</td>\n",
       "      <td>0.47</td>\n",
       "      <td>0.61</td>\n",
       "      <td>0.51</td>\n",
       "    </tr>\n",
       "    <tr>\n",
       "      <th>112</th>\n",
       "      <td>WormsTwoClass</td>\n",
       "      <td>0.69</td>\n",
       "      <td>0.70</td>\n",
       "      <td>0.66</td>\n",
       "      <td>0.71</td>\n",
       "      <td>0.60</td>\n",
       "      <td>0.61</td>\n",
       "      <td>0.60</td>\n",
       "      <td>0.68</td>\n",
       "      <td>0.61</td>\n",
       "      <td>0.64</td>\n",
       "      <td>0.63</td>\n",
       "      <td>0.67</td>\n",
       "    </tr>\n",
       "    <tr>\n",
       "      <th>113</th>\n",
       "      <td>Yoga</td>\n",
       "      <td>0.77</td>\n",
       "      <td>0.84</td>\n",
       "      <td>0.80</td>\n",
       "      <td>0.85</td>\n",
       "      <td>0.65</td>\n",
       "      <td>0.79</td>\n",
       "      <td>0.69</td>\n",
       "      <td>0.73</td>\n",
       "      <td>0.64</td>\n",
       "      <td>0.80</td>\n",
       "      <td>0.66</td>\n",
       "      <td>0.76</td>\n",
       "    </tr>\n",
       "  </tbody>\n",
       "</table>\n",
       "<p>114 rows × 13 columns</p>\n",
       "</div>"
      ],
      "text/plain": [
       "classifier_name        dataset_name  \\\n",
       "0                             ACSF1   \n",
       "1                             Adiac   \n",
       "2                AllGestureWiimoteX   \n",
       "3                AllGestureWiimoteY   \n",
       "4                AllGestureWiimoteZ   \n",
       "..                              ...   \n",
       "109                            Wine   \n",
       "110                    WordSynonyms   \n",
       "111                           Worms   \n",
       "112                   WormsTwoClass   \n",
       "113                            Yoga   \n",
       "\n",
       "classifier_name  ACF&PACF: n_random_points=10 nb_inst_per_class=1  \\\n",
       "0                                                            0.34   \n",
       "1                                                            0.65   \n",
       "2                                                            0.56   \n",
       "3                                                            0.58   \n",
       "4                                                            0.47   \n",
       "..                                                            ...   \n",
       "109                                                          0.85   \n",
       "110                                                          0.66   \n",
       "111                                                          0.61   \n",
       "112                                                          0.69   \n",
       "113                                                          0.77   \n",
       "\n",
       "classifier_name  ACF&PACF: n_random_points=10 nb_inst_per_class=10  \\\n",
       "0                                                             0.29   \n",
       "1                                                             0.63   \n",
       "2                                                             0.67   \n",
       "3                                                             0.71   \n",
       "4                                                             0.63   \n",
       "..                                                             ...   \n",
       "109                                                           0.91   \n",
       "110                                                           0.68   \n",
       "111                                                           0.61   \n",
       "112                                                           0.70   \n",
       "113                                                           0.84   \n",
       "\n",
       "classifier_name  ACF&PACF: n_random_points=30 nb_inst_per_class=1  \\\n",
       "0                                                            0.31   \n",
       "1                                                            0.64   \n",
       "2                                                            0.62   \n",
       "3                                                            0.64   \n",
       "4                                                            0.56   \n",
       "..                                                            ...   \n",
       "109                                                          0.90   \n",
       "110                                                          0.67   \n",
       "111                                                          0.57   \n",
       "112                                                          0.66   \n",
       "113                                                          0.80   \n",
       "\n",
       "classifier_name  ACF&PACF: n_random_points=30 nb_inst_per_class=10  \\\n",
       "0                                                             0.29   \n",
       "1                                                             0.60   \n",
       "2                                                             0.68   \n",
       "3                                                             0.72   \n",
       "4                                                             0.63   \n",
       "..                                                             ...   \n",
       "109                                                           0.89   \n",
       "110                                                           0.68   \n",
       "111                                                           0.64   \n",
       "112                                                           0.71   \n",
       "113                                                           0.85   \n",
       "\n",
       "classifier_name  Max PACF: n_random_points=10 nb_inst_per_class=1  \\\n",
       "0                                                            0.41   \n",
       "1                                                            0.72   \n",
       "2                                                            0.49   \n",
       "3                                                            0.52   \n",
       "4                                                            0.45   \n",
       "..                                                            ...   \n",
       "109                                                          0.80   \n",
       "110                                                          0.62   \n",
       "111                                                          0.48   \n",
       "112                                                          0.60   \n",
       "113                                                          0.65   \n",
       "\n",
       "classifier_name  Max PACF: n_random_points=10 nb_inst_per_class=10  \\\n",
       "0                                                             0.34   \n",
       "1                                                             0.54   \n",
       "2                                                             0.53   \n",
       "3                                                             0.52   \n",
       "4                                                             0.35   \n",
       "..                                                             ...   \n",
       "109                                                           0.85   \n",
       "110                                                           0.63   \n",
       "111                                                           0.53   \n",
       "112                                                           0.61   \n",
       "113                                                           0.79   \n",
       "\n",
       "classifier_name  Max PACF: n_random_points=30 nb_inst_per_class=1  \\\n",
       "0                                                            0.38   \n",
       "1                                                            0.50   \n",
       "2                                                            0.46   \n",
       "3                                                            0.49   \n",
       "4                                                            0.45   \n",
       "..                                                            ...   \n",
       "109                                                          0.77   \n",
       "110                                                          0.51   \n",
       "111                                                          0.49   \n",
       "112                                                          0.60   \n",
       "113                                                          0.69   \n",
       "\n",
       "classifier_name  Max PACF: n_random_points=30 nb_inst_per_class=10  \\\n",
       "0                                                             0.30   \n",
       "1                                                             0.56   \n",
       "2                                                             0.60   \n",
       "3                                                             0.66   \n",
       "4                                                             0.52   \n",
       "..                                                             ...   \n",
       "109                                                           0.88   \n",
       "110                                                           0.64   \n",
       "111                                                           0.53   \n",
       "112                                                           0.68   \n",
       "113                                                           0.73   \n",
       "\n",
       "classifier_name  None: n_random_points=10 nb_inst_per_class=1  \\\n",
       "0                                                        0.44   \n",
       "1                                                        0.72   \n",
       "2                                                        0.45   \n",
       "3                                                        0.50   \n",
       "4                                                        0.43   \n",
       "..                                                        ...   \n",
       "109                                                      0.72   \n",
       "110                                                      0.64   \n",
       "111                                                      0.45   \n",
       "112                                                      0.61   \n",
       "113                                                      0.64   \n",
       "\n",
       "classifier_name  None: n_random_points=10 nb_inst_per_class=10  \\\n",
       "0                                                         0.31   \n",
       "1                                                         0.65   \n",
       "2                                                         0.48   \n",
       "3                                                         0.49   \n",
       "4                                                         0.35   \n",
       "..                                                         ...   \n",
       "109                                                       0.87   \n",
       "110                                                       0.66   \n",
       "111                                                       0.47   \n",
       "112                                                       0.64   \n",
       "113                                                       0.80   \n",
       "\n",
       "classifier_name  None: n_random_points=30 nb_inst_per_class=1  \\\n",
       "0                                                        0.42   \n",
       "1                                                        0.62   \n",
       "2                                                        0.45   \n",
       "3                                                        0.45   \n",
       "4                                                        0.40   \n",
       "..                                                        ...   \n",
       "109                                                      0.77   \n",
       "110                                                      0.51   \n",
       "111                                                      0.61   \n",
       "112                                                      0.63   \n",
       "113                                                      0.66   \n",
       "\n",
       "classifier_name  None: n_random_points=30 nb_inst_per_class=10  \n",
       "0                                                         0.28  \n",
       "1                                                         0.66  \n",
       "2                                                         0.55  \n",
       "3                                                         0.56  \n",
       "4                                                         0.43  \n",
       "..                                                         ...  \n",
       "109                                                       0.87  \n",
       "110                                                       0.68  \n",
       "111                                                       0.51  \n",
       "112                                                       0.67  \n",
       "113                                                       0.76  \n",
       "\n",
       "[114 rows x 13 columns]"
      ]
     },
     "execution_count": 15,
     "metadata": {},
     "output_type": "execute_result"
    }
   ],
   "source": [
    "df_print=pd.pivot_table(df_result, index=\"dataset_name\", values=\"accuracy\", columns=\"classifier_name\").reset_index().round(2)\n",
    "\n",
    "if not resampling_acfandpacf_k_1_10_sast:\n",
    "       df_print.to_csv(\"ExperimentationRSAST/results_default_split.csv\")\n",
    "else: \n",
    "       df_print.to_csv(\"ExperimentationRSAST/results_10resampling.csv\")\n",
    "df_print"
   ]
  },
  {
   "cell_type": "code",
   "execution_count": 16,
   "metadata": {},
   "outputs": [],
   "source": [
    "pv_all=pd.pivot_table(df_result,index='dataset_name',values='accuracy',aggfunc=\"count\")\n",
    "ds_complete=pv_all[pv_all.accuracy==max(pv_all.accuracy)].reset_index().dataset_name.unique()\n",
    "ds_complete\n",
    "df_result=df_result[df_result.dataset_name.isin(ds_complete)]"
   ]
  },
  {
   "cell_type": "code",
   "execution_count": 17,
   "metadata": {},
   "outputs": [
    {
     "name": "stdout",
     "output_type": "stream",
     "text": [
      "Complete (max runs) per DS:111\n"
     ]
    }
   ],
   "source": [
    "print(\"Complete (max runs) per DS:\" + str(len(df_result['dataset_name'].unique())))"
   ]
  },
  {
   "cell_type": "code",
   "execution_count": 18,
   "metadata": {},
   "outputs": [],
   "source": [
    "pv_all=pd.pivot_table(df_result,index='len_method',values='accuracy',aggfunc=\"count\")\n",
    "len_complete=pv_all[pv_all.accuracy==max(pv_all.accuracy)].reset_index().len_method.unique()\n",
    "len_complete\n",
    "df_result=df_result[df_result.len_method.isin(len_complete)]"
   ]
  },
  {
   "cell_type": "code",
   "execution_count": 19,
   "metadata": {},
   "outputs": [
    {
     "name": "stdout",
     "output_type": "stream",
     "text": [
      "Complete (max runs) per Len Method:111\n"
     ]
    }
   ],
   "source": [
    "print(\"Complete (max runs) per Len Method:\" + str(len(df_result['dataset_name'].unique())))"
   ]
  },
  {
   "cell_type": "code",
   "execution_count": 20,
   "metadata": {},
   "outputs": [
    {
     "name": "stdout",
     "output_type": "stream",
     "text": [
      "Used Datasets:\n"
     ]
    },
    {
     "data": {
      "text/plain": [
       "array(['ACSF1', 'Adiac', 'AllGestureWiimoteX', 'AllGestureWiimoteY',\n",
       "       'AllGestureWiimoteZ', 'ArrowHead', 'BME', 'Beef', 'BeetleFly',\n",
       "       'BirdChicken', 'CBF', 'Car', 'Chinatown', 'ChlorineConcentration',\n",
       "       'CinCECGTorso', 'Coffee', 'Computers', 'CricketX', 'CricketY',\n",
       "       'CricketZ', 'Crop', 'DiatomSizeReduction',\n",
       "       'DistalPhalanxOutlineAgeGroup', 'DistalPhalanxOutlineCorrect',\n",
       "       'DistalPhalanxTW', 'DodgerLoopDay', 'DodgerLoopGame',\n",
       "       'DodgerLoopWeekend', 'ECG200', 'ECG5000', 'ECGFiveDays',\n",
       "       'EOGHorizontalSignal', 'EOGVerticalSignal', 'Earthquakes',\n",
       "       'ElectricDevices', 'EthanolLevel', 'FaceAll', 'FaceFour',\n",
       "       'FacesUCR', 'FiftyWords', 'Fish', 'FordA', 'FordB',\n",
       "       'FreezerRegularTrain', 'FreezerSmallTrain', 'Fungi',\n",
       "       'GestureMidAirD1', 'GestureMidAirD2', 'GestureMidAirD3',\n",
       "       'GesturePebbleZ1', 'GesturePebbleZ2', 'GunPoint',\n",
       "       'GunPointAgeSpan', 'GunPointMaleVersusFemale',\n",
       "       'GunPointOldVersusYoung', 'Ham', 'HandOutlines', 'Haptics',\n",
       "       'Herring', 'InsectEPGRegularTrain', 'InsectEPGSmallTrain',\n",
       "       'InsectWingbeatSound', 'ItalyPowerDemand',\n",
       "       'LargeKitchenAppliances', 'Lightning2', 'Lightning7', 'Mallat',\n",
       "       'Meat', 'MedicalImages', 'MelbournePedestrian',\n",
       "       'MiddlePhalanxOutlineAgeGroup', 'MiddlePhalanxOutlineCorrect',\n",
       "       'MiddlePhalanxTW', 'MoteStrain', 'OSULeaf', 'OliveOil', 'PLAID',\n",
       "       'PhalangesOutlinesCorrect', 'PickupGestureWiimoteZ', 'Plane',\n",
       "       'PowerCons', 'ProximalPhalanxOutlineAgeGroup',\n",
       "       'ProximalPhalanxOutlineCorrect', 'ProximalPhalanxTW',\n",
       "       'RefrigerationDevices', 'ScreenType', 'ShakeGestureWiimoteZ',\n",
       "       'ShapeletSim', 'ShapesAll', 'SmallKitchenAppliances',\n",
       "       'SmoothSubspace', 'SonyAIBORobotSurface1', 'SonyAIBORobotSurface2',\n",
       "       'Strawberry', 'SwedishLeaf', 'Symbols', 'SyntheticControl',\n",
       "       'ToeSegmentation1', 'ToeSegmentation2', 'Trace', 'TwoLeadECG',\n",
       "       'TwoPatterns', 'UMD', 'UWaveGestureLibraryX',\n",
       "       'UWaveGestureLibraryY', 'UWaveGestureLibraryZ', 'Wafer', 'Wine',\n",
       "       'WordSynonyms', 'WormsTwoClass', 'Yoga'], dtype=object)"
      ]
     },
     "execution_count": 20,
     "metadata": {},
     "output_type": "execute_result"
    }
   ],
   "source": [
    "#get ds tested overall\n",
    "print(\"Used Datasets:\")\n",
    "pd.pivot_table(df_result, index=\"dataset_name\", values=\"accuracy\", aggfunc=\"count\").reset_index()[\"dataset_name\"].unique()"
   ]
  },
  {
   "cell_type": "code",
   "execution_count": 21,
   "metadata": {},
   "outputs": [
    {
     "name": "stdout",
     "output_type": "stream",
     "text": [
      "Total Param Combination:8\n"
     ]
    }
   ],
   "source": [
    "#get ds tested overall\n",
    "print(\"Total Param Combination:\" + str(len(df_result['classifier_name'].unique())))"
   ]
  },
  {
   "cell_type": "code",
   "execution_count": 22,
   "metadata": {},
   "outputs": [
    {
     "data": {
      "text/plain": [
       "array(['ACF&PACF: n_random_points=10 nb_inst_per_class=1',\n",
       "       'ACF&PACF: n_random_points=10 nb_inst_per_class=10',\n",
       "       'ACF&PACF: n_random_points=30 nb_inst_per_class=1',\n",
       "       'ACF&PACF: n_random_points=30 nb_inst_per_class=10',\n",
       "       'Max PACF: n_random_points=10 nb_inst_per_class=1',\n",
       "       'Max PACF: n_random_points=10 nb_inst_per_class=10',\n",
       "       'Max PACF: n_random_points=30 nb_inst_per_class=1',\n",
       "       'Max PACF: n_random_points=30 nb_inst_per_class=10'], dtype=object)"
      ]
     },
     "execution_count": 22,
     "metadata": {},
     "output_type": "execute_result"
    }
   ],
   "source": [
    "#get len methods of generated datasets\n",
    "df_result.classifier_name.unique()"
   ]
  },
  {
   "cell_type": "code",
   "execution_count": 23,
   "metadata": {},
   "outputs": [
    {
     "data": {
      "text/plain": [
       "Index(['Unnamed: 0', 'accuracy', 'time', 'cweights_time', 'fsubsequence_time',\n",
       "       'tdataset_time', 'tclassifier_time', 'dataset_name', 'classifier_name',\n",
       "       'rpoint', 'nb_per_class', 'method', 'len_method', 'directory'],\n",
       "      dtype='object')"
      ]
     },
     "execution_count": 23,
     "metadata": {},
     "output_type": "execute_result"
    }
   ],
   "source": [
    "#get columns of generated datasets\n",
    "df_result.columns.unique()"
   ]
  },
  {
   "attachments": {},
   "cell_type": "markdown",
   "metadata": {},
   "source": [
    "### Hyperparameter Tunning RSAST "
   ]
  },
  {
   "attachments": {},
   "cell_type": "markdown",
   "metadata": {},
   "source": [
    "#### Accuracy: Subsequence Lenght Method "
   ]
  },
  {
   "cell_type": "code",
   "execution_count": 24,
   "metadata": {},
   "outputs": [
    {
     "name": "stdout",
     "output_type": "stream",
     "text": [
      "\n",
      "\n"
     ]
    },
    {
     "data": {
      "text/html": [
       "<div>\n",
       "<style scoped>\n",
       "    .dataframe tbody tr th:only-of-type {\n",
       "        vertical-align: middle;\n",
       "    }\n",
       "\n",
       "    .dataframe tbody tr th {\n",
       "        vertical-align: top;\n",
       "    }\n",
       "\n",
       "    .dataframe thead th {\n",
       "        text-align: right;\n",
       "    }\n",
       "</style>\n",
       "<table border=\"1\" class=\"dataframe\">\n",
       "  <thead>\n",
       "    <tr style=\"text-align: right;\">\n",
       "      <th></th>\n",
       "      <th>N</th>\n",
       "      <th>Mean</th>\n",
       "      <th>SD</th>\n",
       "      <th>SE</th>\n",
       "      <th>95% Conf.</th>\n",
       "      <th>Interval</th>\n",
       "    </tr>\n",
       "    <tr>\n",
       "      <th>dataset_name</th>\n",
       "      <th></th>\n",
       "      <th></th>\n",
       "      <th></th>\n",
       "      <th></th>\n",
       "      <th></th>\n",
       "      <th></th>\n",
       "    </tr>\n",
       "  </thead>\n",
       "  <tbody>\n",
       "    <tr>\n",
       "      <th>ACSF1</th>\n",
       "      <td>80</td>\n",
       "      <td>0.3335</td>\n",
       "      <td>0.0469</td>\n",
       "      <td>0.0052</td>\n",
       "      <td>0.3231</td>\n",
       "      <td>0.3439</td>\n",
       "    </tr>\n",
       "    <tr>\n",
       "      <th>Adiac</th>\n",
       "      <td>80</td>\n",
       "      <td>0.6060</td>\n",
       "      <td>0.0663</td>\n",
       "      <td>0.0074</td>\n",
       "      <td>0.5913</td>\n",
       "      <td>0.6208</td>\n",
       "    </tr>\n",
       "    <tr>\n",
       "      <th>AllGestureWiimoteX</th>\n",
       "      <td>80</td>\n",
       "      <td>0.5736</td>\n",
       "      <td>0.0790</td>\n",
       "      <td>0.0088</td>\n",
       "      <td>0.5561</td>\n",
       "      <td>0.5912</td>\n",
       "    </tr>\n",
       "    <tr>\n",
       "      <th>AllGestureWiimoteY</th>\n",
       "      <td>80</td>\n",
       "      <td>0.6030</td>\n",
       "      <td>0.0860</td>\n",
       "      <td>0.0096</td>\n",
       "      <td>0.5839</td>\n",
       "      <td>0.6221</td>\n",
       "    </tr>\n",
       "    <tr>\n",
       "      <th>AllGestureWiimoteZ</th>\n",
       "      <td>80</td>\n",
       "      <td>0.5059</td>\n",
       "      <td>0.0952</td>\n",
       "      <td>0.0106</td>\n",
       "      <td>0.4848</td>\n",
       "      <td>0.5271</td>\n",
       "    </tr>\n",
       "    <tr>\n",
       "      <th>...</th>\n",
       "      <td>...</td>\n",
       "      <td>...</td>\n",
       "      <td>...</td>\n",
       "      <td>...</td>\n",
       "      <td>...</td>\n",
       "      <td>...</td>\n",
       "    </tr>\n",
       "    <tr>\n",
       "      <th>Wafer</th>\n",
       "      <td>80</td>\n",
       "      <td>0.9948</td>\n",
       "      <td>0.0081</td>\n",
       "      <td>0.0009</td>\n",
       "      <td>0.9930</td>\n",
       "      <td>0.9966</td>\n",
       "    </tr>\n",
       "    <tr>\n",
       "      <th>Wine</th>\n",
       "      <td>80</td>\n",
       "      <td>0.8560</td>\n",
       "      <td>0.0662</td>\n",
       "      <td>0.0074</td>\n",
       "      <td>0.8413</td>\n",
       "      <td>0.8708</td>\n",
       "    </tr>\n",
       "    <tr>\n",
       "      <th>WordSynonyms</th>\n",
       "      <td>80</td>\n",
       "      <td>0.6374</td>\n",
       "      <td>0.0518</td>\n",
       "      <td>0.0058</td>\n",
       "      <td>0.6259</td>\n",
       "      <td>0.6490</td>\n",
       "    </tr>\n",
       "    <tr>\n",
       "      <th>WormsTwoClass</th>\n",
       "      <td>80</td>\n",
       "      <td>0.6581</td>\n",
       "      <td>0.0643</td>\n",
       "      <td>0.0072</td>\n",
       "      <td>0.6438</td>\n",
       "      <td>0.6724</td>\n",
       "    </tr>\n",
       "    <tr>\n",
       "      <th>Yoga</th>\n",
       "      <td>80</td>\n",
       "      <td>0.7648</td>\n",
       "      <td>0.0686</td>\n",
       "      <td>0.0077</td>\n",
       "      <td>0.7495</td>\n",
       "      <td>0.7801</td>\n",
       "    </tr>\n",
       "  </tbody>\n",
       "</table>\n",
       "<p>111 rows × 6 columns</p>\n",
       "</div>"
      ],
      "text/plain": [
       "                     N    Mean      SD      SE  95% Conf.  Interval\n",
       "dataset_name                                                       \n",
       "ACSF1               80  0.3335  0.0469  0.0052     0.3231    0.3439\n",
       "Adiac               80  0.6060  0.0663  0.0074     0.5913    0.6208\n",
       "AllGestureWiimoteX  80  0.5736  0.0790  0.0088     0.5561    0.5912\n",
       "AllGestureWiimoteY  80  0.6030  0.0860  0.0096     0.5839    0.6221\n",
       "AllGestureWiimoteZ  80  0.5059  0.0952  0.0106     0.4848    0.5271\n",
       "...                 ..     ...     ...     ...        ...       ...\n",
       "Wafer               80  0.9948  0.0081  0.0009     0.9930    0.9966\n",
       "Wine                80  0.8560  0.0662  0.0074     0.8413    0.8708\n",
       "WordSynonyms        80  0.6374  0.0518  0.0058     0.6259    0.6490\n",
       "WormsTwoClass       80  0.6581  0.0643  0.0072     0.6438    0.6724\n",
       "Yoga                80  0.7648  0.0686  0.0077     0.7495    0.7801\n",
       "\n",
       "[111 rows x 6 columns]"
      ]
     },
     "execution_count": 24,
     "metadata": {},
     "output_type": "execute_result"
    }
   ],
   "source": [
    "# Summary statistics for a Series (single variable)\n",
    "summ_ds=df_result\n",
    "summ_ds=researchpy.summary_cont(summ_ds.groupby(['dataset_name'])['accuracy'], conf = 0.95)\n",
    "summ_ds"
   ]
  },
  {
   "cell_type": "code",
   "execution_count": 25,
   "metadata": {},
   "outputs": [
    {
     "name": "stdout",
     "output_type": "stream",
     "text": [
      "                mean  count       std   ci95_hi   ci95_lo\n",
      "len_method                                               \n",
      "ACF&PACF    0.778696   4440  0.165296  0.783558  0.773834\n",
      "Max PACF    0.731217   4440  0.186297  0.736696  0.725737\n"
     ]
    }
   ],
   "source": [
    "stats = df_result.groupby(['len_method'])['accuracy'].agg(['mean', 'count', 'std'])\n",
    "\n",
    "ci95_hi = []\n",
    "ci95_lo = []\n",
    "\n",
    "for i in stats.index:\n",
    "    m, c, s = stats.loc[i]\n",
    "    ci95_hi.append(m + 1.96*s/math.sqrt(c))\n",
    "    ci95_lo.append(m - 1.96*s/math.sqrt(c))\n",
    "\n",
    "stats['ci95_hi'] = ci95_hi\n",
    "stats['ci95_lo'] = ci95_lo\n",
    "print(stats.head(10))"
   ]
  },
  {
   "attachments": {},
   "cell_type": "markdown",
   "metadata": {},
   "source": [
    "#### Generate Boxplot Tunning Hyperparameter"
   ]
  },
  {
   "cell_type": "code",
   "execution_count": 26,
   "metadata": {},
   "outputs": [
    {
     "data": {
      "text/plain": [
       "array(['1', '10'], dtype=object)"
      ]
     },
     "execution_count": 26,
     "metadata": {},
     "output_type": "execute_result"
    }
   ],
   "source": [
    "df_result.nb_per_class.unique()"
   ]
  },
  {
   "cell_type": "code",
   "execution_count": 27,
   "metadata": {},
   "outputs": [
    {
     "data": {
      "text/plain": [
       "array(['ACF&PACF', 'Max PACF'], dtype=object)"
      ]
     },
     "execution_count": 27,
     "metadata": {},
     "output_type": "execute_result"
    }
   ],
   "source": [
    "df_result.len_method.unique()"
   ]
  },
  {
   "cell_type": "code",
   "execution_count": 28,
   "metadata": {},
   "outputs": [
    {
     "name": "stdout",
     "output_type": "stream",
     "text": [
      "All files deleted successfully.\n"
     ]
    }
   ],
   "source": [
    "#generate hyperparameter tuning boxplots\n",
    "delete_files_in_directory(\"ExperimentationRSAST/images_boxplot_acc/\")\n",
    "for k, ints in enumerate(df_result.nb_per_class.unique()):\n",
    "    for len_m in df_result.len_method.unique():\n",
    "        df_to_cd=df_result[df_result.classifier_name.str.contains(r'^'+len_m+':.*nb_inst_per_class='+str(ints)+'$')]\n",
    "        # Plot\n",
    "        fig, ax = plt.subplots()\n",
    "\n",
    "        sns.boxplot(data=df_to_cd, x='rpoint', y='accuracy', palette=\"Blues\")\n",
    "        \n",
    "        max_bx=max(df_to_cd.accuracy)\n",
    "        min_bx=min(df_to_cd.accuracy)\n",
    "        \n",
    "        ax.set_ylim(min_bx,max_bx)\n",
    "        # Axis details\n",
    "        ax.set(xlabel='number of random points', ylabel='accuracy', title='Accuracy Boxplot for Len method:'+len_m+' and N° of Instances:'+ints)\n",
    "        #plt.xticks([1, 2, 3, 4, 5, 6],list(df_to_cd) )\n",
    "\n",
    "        # save plot\n",
    "        plt.savefig('ExperimentationRSAST/images_boxplot_acc/boxplot_acc'+len_m+ints+'.png')\n"
   ]
  },
  {
   "cell_type": "code",
   "execution_count": 29,
   "metadata": {},
   "outputs": [
    {
     "data": {
      "text/plain": [
       "array(['ACF&PACF: n_random_points=10 nb_inst_per_class=1',\n",
       "       'ACF&PACF: n_random_points=10 nb_inst_per_class=10',\n",
       "       'ACF&PACF: n_random_points=30 nb_inst_per_class=1',\n",
       "       'ACF&PACF: n_random_points=30 nb_inst_per_class=10',\n",
       "       'Max PACF: n_random_points=10 nb_inst_per_class=1',\n",
       "       'Max PACF: n_random_points=10 nb_inst_per_class=10',\n",
       "       'Max PACF: n_random_points=30 nb_inst_per_class=1',\n",
       "       'Max PACF: n_random_points=30 nb_inst_per_class=10'], dtype=object)"
      ]
     },
     "execution_count": 29,
     "metadata": {},
     "output_type": "execute_result"
    }
   ],
   "source": [
    "df_result.classifier_name.unique()"
   ]
  },
  {
   "cell_type": "code",
   "execution_count": 30,
   "metadata": {},
   "outputs": [
    {
     "name": "stdout",
     "output_type": "stream",
     "text": [
      "All files deleted successfully.\n"
     ]
    },
    {
     "name": "stderr",
     "output_type": "stream",
     "text": [
      "C:\\Users\\Surface pro\\AppData\\Local\\Temp\\ipykernel_14040\\133396389.py:15: RuntimeWarning: More than 20 figures have been opened. Figures created through the pyplot interface (`matplotlib.pyplot.figure`) are retained until explicitly closed and may consume too much memory. (To control this warning, see the rcParam `figure.max_open_warning`). Consider using `matplotlib.pyplot.close()`.\n",
      "  fig, ax = plt.subplots()\n",
      "C:\\Users\\Surface pro\\AppData\\Local\\Temp\\ipykernel_14040\\133396389.py:17: UserWarning: Attempting to set identical low and high ylims makes transformation singular; automatically expanding.\n",
      "  ax.set_ylim(min_bx,max_bx)\n",
      "C:\\Users\\Surface pro\\AppData\\Local\\Temp\\ipykernel_14040\\133396389.py:17: UserWarning: Attempting to set identical low and high ylims makes transformation singular; automatically expanding.\n",
      "  ax.set_ylim(min_bx,max_bx)\n"
     ]
    }
   ],
   "source": [
    "delete_files_in_directory(\"ExperimentationRSAST/images_boxplot_acc_per_ds/\")\n",
    "#generate hyperparameter tuning boxplots\n",
    "for ds in df_result.dataset_name.unique():\n",
    "    for k, ints in enumerate(df_result.nb_per_class.unique()):\n",
    "        for len_m in df_result.len_method.unique():\n",
    "            df_to_cd=df_result[df_result.classifier_name.str.contains(r'^'+len_m+':')]\n",
    "            df_to_cd=df_to_cd[df_to_cd.dataset_name==ds]\n",
    "            df_to_cd[\"time\"]=df_to_cd['cweights_time']+df_to_cd['fsubsequence_time']+df_to_cd['tdataset_time']\n",
    "            df_to_cd[\"time\"]=df_to_cd[\"time\"]/60\n",
    "            max_bx=max(df_to_cd.accuracy)\n",
    "            min_bx=min(df_to_cd.accuracy)\n",
    "            df_to_cd=df_to_cd[df_to_cd.classifier_name.str.contains(r':.*nb_inst_per_class='+str(ints)+'$')]    \n",
    "            \n",
    "            # Plot\n",
    "            fig, ax = plt.subplots()\n",
    "            sns.boxplot(data=df_to_cd, x='rpoint', y='accuracy', palette=\"Blues\")\n",
    "            ax.set_ylim(min_bx,max_bx)\n",
    "\n",
    "            # Axis details\n",
    "            ax.set(xlabel='number of random points', ylabel='accuracy', title='Accuracy Boxplot for Len method:'+len_m+' and N° of Instances:'+ints)\n",
    "            #plt.xticks([1, 2, 3, 4, 5, 6],list(df_to_cd) )\n",
    "\n",
    "            # save plot\n",
    "            plt.savefig('ExperimentationRSAST/images_boxplot_acc_per_ds/boxplot_acc'+len_m+ints+'_'+ds+'.png')"
   ]
  },
  {
   "cell_type": "code",
   "execution_count": 31,
   "metadata": {},
   "outputs": [
    {
     "name": "stdout",
     "output_type": "stream",
     "text": [
      "All files deleted successfully.\n"
     ]
    },
    {
     "name": "stderr",
     "output_type": "stream",
     "text": [
      "C:\\Users\\Surface pro\\AppData\\Local\\Temp\\ipykernel_14040\\2816805430.py:7: SettingWithCopyWarning: \n",
      "A value is trying to be set on a copy of a slice from a DataFrame.\n",
      "Try using .loc[row_indexer,col_indexer] = value instead\n",
      "\n",
      "See the caveats in the documentation: https://pandas.pydata.org/pandas-docs/stable/user_guide/indexing.html#returning-a-view-versus-a-copy\n",
      "  df_to_cd[\"time\"]=df_to_cd['cweights_time']+df_to_cd['fsubsequence_time']+df_to_cd['tdataset_time']\n",
      "C:\\Users\\Surface pro\\AppData\\Local\\Temp\\ipykernel_14040\\2816805430.py:8: SettingWithCopyWarning: \n",
      "A value is trying to be set on a copy of a slice from a DataFrame.\n",
      "Try using .loc[row_indexer,col_indexer] = value instead\n",
      "\n",
      "See the caveats in the documentation: https://pandas.pydata.org/pandas-docs/stable/user_guide/indexing.html#returning-a-view-versus-a-copy\n",
      "  df_to_cd[\"time\"]=df_to_cd[\"time\"]/60\n"
     ]
    },
    {
     "name": "stderr",
     "output_type": "stream",
     "text": [
      "C:\\Users\\Surface pro\\AppData\\Local\\Temp\\ipykernel_14040\\2816805430.py:7: SettingWithCopyWarning: \n",
      "A value is trying to be set on a copy of a slice from a DataFrame.\n",
      "Try using .loc[row_indexer,col_indexer] = value instead\n",
      "\n",
      "See the caveats in the documentation: https://pandas.pydata.org/pandas-docs/stable/user_guide/indexing.html#returning-a-view-versus-a-copy\n",
      "  df_to_cd[\"time\"]=df_to_cd['cweights_time']+df_to_cd['fsubsequence_time']+df_to_cd['tdataset_time']\n",
      "C:\\Users\\Surface pro\\AppData\\Local\\Temp\\ipykernel_14040\\2816805430.py:8: SettingWithCopyWarning: \n",
      "A value is trying to be set on a copy of a slice from a DataFrame.\n",
      "Try using .loc[row_indexer,col_indexer] = value instead\n",
      "\n",
      "See the caveats in the documentation: https://pandas.pydata.org/pandas-docs/stable/user_guide/indexing.html#returning-a-view-versus-a-copy\n",
      "  df_to_cd[\"time\"]=df_to_cd[\"time\"]/60\n",
      "C:\\Users\\Surface pro\\AppData\\Local\\Temp\\ipykernel_14040\\2816805430.py:7: SettingWithCopyWarning: \n",
      "A value is trying to be set on a copy of a slice from a DataFrame.\n",
      "Try using .loc[row_indexer,col_indexer] = value instead\n",
      "\n",
      "See the caveats in the documentation: https://pandas.pydata.org/pandas-docs/stable/user_guide/indexing.html#returning-a-view-versus-a-copy\n",
      "  df_to_cd[\"time\"]=df_to_cd['cweights_time']+df_to_cd['fsubsequence_time']+df_to_cd['tdataset_time']\n",
      "C:\\Users\\Surface pro\\AppData\\Local\\Temp\\ipykernel_14040\\2816805430.py:8: SettingWithCopyWarning: \n",
      "A value is trying to be set on a copy of a slice from a DataFrame.\n",
      "Try using .loc[row_indexer,col_indexer] = value instead\n",
      "\n",
      "See the caveats in the documentation: https://pandas.pydata.org/pandas-docs/stable/user_guide/indexing.html#returning-a-view-versus-a-copy\n",
      "  df_to_cd[\"time\"]=df_to_cd[\"time\"]/60\n",
      "C:\\Users\\Surface pro\\AppData\\Local\\Temp\\ipykernel_14040\\2816805430.py:7: SettingWithCopyWarning: \n",
      "A value is trying to be set on a copy of a slice from a DataFrame.\n",
      "Try using .loc[row_indexer,col_indexer] = value instead\n",
      "\n",
      "See the caveats in the documentation: https://pandas.pydata.org/pandas-docs/stable/user_guide/indexing.html#returning-a-view-versus-a-copy\n",
      "  df_to_cd[\"time\"]=df_to_cd['cweights_time']+df_to_cd['fsubsequence_time']+df_to_cd['tdataset_time']\n",
      "C:\\Users\\Surface pro\\AppData\\Local\\Temp\\ipykernel_14040\\2816805430.py:8: SettingWithCopyWarning: \n",
      "A value is trying to be set on a copy of a slice from a DataFrame.\n",
      "Try using .loc[row_indexer,col_indexer] = value instead\n",
      "\n",
      "See the caveats in the documentation: https://pandas.pydata.org/pandas-docs/stable/user_guide/indexing.html#returning-a-view-versus-a-copy\n",
      "  df_to_cd[\"time\"]=df_to_cd[\"time\"]/60\n"
     ]
    }
   ],
   "source": [
    "delete_files_in_directory(\"ExperimentationRSAST/images_boxplot_time/\")\n",
    "#generate hyperparameter tuning boxplots\n",
    "for k, ints in enumerate(df_result.nb_per_class.unique()):\n",
    "    for len_m in df_result.len_method.unique():\n",
    "                \n",
    "        df_to_cd=df_result[df_result.classifier_name.str.contains(r'^'+len_m+':.*nb_inst_per_class='+str(ints)+'$')]\n",
    "        df_to_cd[\"time\"]=df_to_cd['cweights_time']+df_to_cd['fsubsequence_time']+df_to_cd['tdataset_time']\n",
    "        df_to_cd[\"time\"]=df_to_cd[\"time\"]/60\n",
    "\n",
    "        # Plot\n",
    "        fig, ax = plt.subplots()\n",
    "        sns.boxplot(data=df_to_cd, x='rpoint', y='time', palette=\"Blues\")      \n",
    "        max_bx=max(df_to_cd.time)\n",
    "        min_bx=min(df_to_cd.time)\n",
    "        ax.set_ylim(min_bx,max_bx)\n",
    "        # Axis details\n",
    "        ax.set(xlabel='number of random points', ylabel='time', title='Time Boxplot for Len method:'+len_m+' and N° of Instances:'+ints)\n",
    "        #plt.xticks([1, 2, 3, 4, 5, 6],list(df_to_cd) )\n",
    "\n",
    "        # save plot\n",
    "        plt.savefig('ExperimentationRSAST/images_boxplot_time/boxplot_time'+len_m+ints+'.png')\n"
   ]
  },
  {
   "cell_type": "code",
   "execution_count": 32,
   "metadata": {},
   "outputs": [
    {
     "name": "stdout",
     "output_type": "stream",
     "text": [
      "All files deleted successfully.\n"
     ]
    }
   ],
   "source": [
    "delete_files_in_directory(\"ExperimentationRSAST/images_boxplot_time_per_ds/\")\n",
    "#generate hyperparameter tuning boxplots\n",
    "for ds in df_result.dataset_name.unique():\n",
    "    for k, ints in enumerate(df_result.nb_per_class.unique()):\n",
    "        for len_m in df_result.len_method.unique():      \n",
    "\n",
    "            df_to_cd=df_result[df_result.classifier_name.str.contains(r'^'+len_m+':')]\n",
    "            df_to_cd=df_to_cd[df_to_cd.dataset_name==ds]\n",
    "\n",
    "            df_to_cd[\"time\"]=df_to_cd['cweights_time']+df_to_cd['fsubsequence_time']+df_to_cd['tdataset_time']\n",
    "            df_to_cd[\"time\"]=df_to_cd[\"time\"]/60\n",
    "            max_bx=max(df_to_cd.time)\n",
    "            min_bx=min(df_to_cd.time)\n",
    "\n",
    "            df_to_cd=df_to_cd[df_to_cd.classifier_name.str.contains(r':.*nb_inst_per_class='+str(ints)+'$')]\n",
    "\n",
    "            # Plot\n",
    "            fig, ax = plt.subplots()\n",
    "                       \n",
    "            #order=list(df_to_cd)\n",
    "            sns.boxplot(data=df_to_cd, x='rpoint', y='time', palette=\"Blues\")\n",
    "\n",
    "            ax.set_ylim(min_bx,max_bx)\n",
    "            # Axis details\n",
    "            ax.set(xlabel='number of random points', ylabel='time', title='Time Boxplot for Len method:'+len_m+' and N° of Instances:'+ints)\n",
    "            #plt.xticks([1, 2, 3, 4, 5, 6],list(df_to_cd) )\n",
    "\n",
    "            # save plot\n",
    "            plt.savefig('ExperimentationRSAST/images_boxplot_time_per_ds/boxplot_time'+len_m+ints+'_'+ds+'.png')\n"
   ]
  },
  {
   "attachments": {},
   "cell_type": "markdown",
   "metadata": {},
   "source": [
    "#### Generate CD Diagram Tunning Hyperparameter"
   ]
  },
  {
   "cell_type": "code",
   "execution_count": 33,
   "metadata": {},
   "outputs": [
    {
     "data": {
      "text/plain": [
       "111"
      ]
     },
     "execution_count": 33,
     "metadata": {},
     "output_type": "execute_result"
    }
   ],
   "source": [
    "df_perf=pd.pivot_table(df_result, values='accuracy', index=['classifier_name','dataset_name','len_method'], aggfunc='mean')\n",
    "df_perf=df_perf.reset_index()\n",
    "len(df_perf.dataset_name.unique())"
   ]
  },
  {
   "cell_type": "code",
   "execution_count": 34,
   "metadata": {},
   "outputs": [
    {
     "name": "stdout",
     "output_type": "stream",
     "text": [
      "All files deleted successfully.\n"
     ]
    },
    {
     "name": "stdout",
     "output_type": "stream",
     "text": [
      "{0: 'ACF&PACF: n_random_points=10 nb_inst_per_class=1', 1: 'ACF&PACF: n_random_points=30 nb_inst_per_class=1', 2: 'ACF&PACF: n_random_points=10 nb_inst_per_class=10', 3: 'ACF&PACF: n_random_points=30 nb_inst_per_class=10'}\n",
      "[2, 3]\n",
      "{0: 'Max PACF: n_random_points=10 nb_inst_per_class=1', 1: 'Max PACF: n_random_points=30 nb_inst_per_class=1', 2: 'Max PACF: n_random_points=10 nb_inst_per_class=10', 3: 'Max PACF: n_random_points=30 nb_inst_per_class=10'}\n",
      "[0, 1]\n"
     ]
    }
   ],
   "source": [
    "delete_files_in_directory(\"ExperimentationRSAST/images_cd_diagram/\")\n",
    "#generate hyperparameter tuning cd diagrams\n",
    "\n",
    "best_comb_by_method=[]\n",
    "best=\"\"\n",
    "for len_m in df_perf.len_method.unique():\n",
    "   df_to_cd=df_perf[df_perf.classifier_name.str.contains(r'^'+len_m+':.*$')]\n",
    "   draw_cd_diagram(df_to_cd, labels=True, title=len_m +\" comparison\", fname='ExperimentationRSAST/images_cd_diagram/cd-diagram_'+len_m+'.png')\n",
    "   _, average_ranks, _ = wilcoxon_holm(df_perf=df_to_cd)\n",
    "   min_rank= min(average_ranks)\n",
    "   average_ranks=pd.DataFrame(average_ranks)\n",
    "   best=average_ranks[average_ranks[0]==min_rank][0].index\n",
    "   best_comb_by_method.append(best[0])\n",
    "\n"
   ]
  },
  {
   "cell_type": "code",
   "execution_count": 35,
   "metadata": {},
   "outputs": [
    {
     "data": {
      "text/plain": [
       "['ACF&PACF: n_random_points=30 nb_inst_per_class=10',\n",
       " 'Max PACF: n_random_points=30 nb_inst_per_class=10']"
      ]
     },
     "execution_count": 35,
     "metadata": {},
     "output_type": "execute_result"
    }
   ],
   "source": [
    "best_comb_by_method"
   ]
  },
  {
   "cell_type": "code",
   "execution_count": 36,
   "metadata": {},
   "outputs": [],
   "source": [
    "df_perf=pd.pivot_table(df_result, values='accuracy', index=['classifier_name','dataset_name','len_method'], aggfunc='mean')\n",
    "df_perf=df_perf.reset_index()\n",
    "df_to_cd=df_perf[df_perf.classifier_name.isin(best_comb_by_method)]"
   ]
  },
  {
   "cell_type": "code",
   "execution_count": 37,
   "metadata": {},
   "outputs": [
    {
     "ename": "ValueError",
     "evalue": "At least 3 sets of samples must be given for Friedman test, got 2.",
     "output_type": "error",
     "traceback": [
      "\u001b[1;31m---------------------------------------------------------------------------\u001b[0m",
      "\u001b[1;31mValueError\u001b[0m                                Traceback (most recent call last)",
      "\u001b[1;32mc:\\Users\\Surface pro\\random_sast\\ExperimentationRSAST\\analysis_hyperparameter_rsast.ipynb Cell 34\u001b[0m line \u001b[0;36m1\n\u001b[1;32m----> <a href='vscode-notebook-cell:/c%3A/Users/Surface%20pro/random_sast/ExperimentationRSAST/analysis_hyperparameter_rsast.ipynb#X45sZmlsZQ%3D%3D?line=0'>1</a>\u001b[0m draw_cd_diagram(df_to_cd, labels\u001b[39m=\u001b[39;49m\u001b[39mTrue\u001b[39;49;00m, title\u001b[39m=\u001b[39;49m\u001b[39m\"\u001b[39;49m\u001b[39mBest combination comparison\u001b[39;49m\u001b[39m\"\u001b[39;49m, fname\u001b[39m=\u001b[39;49m\u001b[39m'\u001b[39;49m\u001b[39mExperimentationRSAST/images_cd_diagram/cd-diagram_best_com.png\u001b[39;49m\u001b[39m'\u001b[39;49m)\n",
      "File \u001b[1;32m~\\random_sast\\cd_diagram\\cd_function.py:278\u001b[0m, in \u001b[0;36mdraw_cd_diagram\u001b[1;34m(df_perf, alpha, title, labels, fname, fig_width, linesblank)\u001b[0m\n\u001b[0;32m    273\u001b[0m \u001b[39mdef\u001b[39;00m \u001b[39mdraw_cd_diagram\u001b[39m(df_perf\u001b[39m=\u001b[39m\u001b[39mNone\u001b[39;00m, alpha\u001b[39m=\u001b[39m\u001b[39m0.05\u001b[39m, title\u001b[39m=\u001b[39m\u001b[39mNone\u001b[39;00m, labels\u001b[39m=\u001b[39m\u001b[39mFalse\u001b[39;00m, fname\u001b[39m=\u001b[39m\u001b[39mNone\u001b[39;00m, fig_width\u001b[39m=\u001b[39m\u001b[39m9\u001b[39m, linesblank \u001b[39m=\u001b[39m \u001b[39m0\u001b[39m):\n\u001b[0;32m    274\u001b[0m \u001b[39m    \u001b[39m\u001b[39m\"\"\"\u001b[39;00m\n\u001b[0;32m    275\u001b[0m \u001b[39m    Draws the critical difference diagram given the list of pairwise classifiers that are\u001b[39;00m\n\u001b[0;32m    276\u001b[0m \u001b[39m    significant or not\u001b[39;00m\n\u001b[0;32m    277\u001b[0m \u001b[39m    \"\"\"\u001b[39;00m\n\u001b[1;32m--> 278\u001b[0m     p_values, average_ranks, _ \u001b[39m=\u001b[39m wilcoxon_holm(df_perf\u001b[39m=\u001b[39;49mdf_perf, alpha\u001b[39m=\u001b[39;49malpha)\n\u001b[0;32m    280\u001b[0m     \u001b[39m# print(average_ranks)\u001b[39;00m\n\u001b[0;32m    281\u001b[0m \n\u001b[0;32m    282\u001b[0m     \u001b[39m# for p in p_values:\u001b[39;00m\n\u001b[0;32m    283\u001b[0m     \u001b[39m#     print(p)\u001b[39;00m\n\u001b[0;32m    286\u001b[0m     graph_ranks(average_ranks\u001b[39m.\u001b[39mvalues, average_ranks\u001b[39m.\u001b[39mkeys(), p_values,\n\u001b[0;32m    287\u001b[0m                 cd\u001b[39m=\u001b[39m\u001b[39mNone\u001b[39;00m, reverse\u001b[39m=\u001b[39m\u001b[39mTrue\u001b[39;00m, width\u001b[39m=\u001b[39mfig_width, textspace\u001b[39m=\u001b[39m\u001b[39m1.5\u001b[39m, labels\u001b[39m=\u001b[39mlabels, linesblank \u001b[39m=\u001b[39m linesblank)\n",
      "File \u001b[1;32m~\\random_sast\\cd_diagram\\cd_function.py:315\u001b[0m, in \u001b[0;36mwilcoxon_holm\u001b[1;34m(alpha, df_perf)\u001b[0m\n\u001b[0;32m    312\u001b[0m classifiers \u001b[39m=\u001b[39m \u001b[39mlist\u001b[39m(df_counts\u001b[39m.\u001b[39mloc[df_counts[\u001b[39m'\u001b[39m\u001b[39mcount\u001b[39m\u001b[39m'\u001b[39m] \u001b[39m==\u001b[39m max_nb_datasets]\n\u001b[0;32m    313\u001b[0m                    [\u001b[39m'\u001b[39m\u001b[39mclassifier_name\u001b[39m\u001b[39m'\u001b[39m])\n\u001b[0;32m    314\u001b[0m \u001b[39m# test the null hypothesis using friedman before doing a post-hoc analysis\u001b[39;00m\n\u001b[1;32m--> 315\u001b[0m friedman_p_value \u001b[39m=\u001b[39m friedmanchisquare(\u001b[39m*\u001b[39;49m(\n\u001b[0;32m    316\u001b[0m     np\u001b[39m.\u001b[39;49marray(df_perf\u001b[39m.\u001b[39;49mloc[df_perf[\u001b[39m'\u001b[39;49m\u001b[39mclassifier_name\u001b[39;49m\u001b[39m'\u001b[39;49m] \u001b[39m==\u001b[39;49m c][\u001b[39m'\u001b[39;49m\u001b[39maccuracy\u001b[39;49m\u001b[39m'\u001b[39;49m])\n\u001b[0;32m    317\u001b[0m     \u001b[39mfor\u001b[39;49;00m c \u001b[39min\u001b[39;49;00m classifiers))[\u001b[39m1\u001b[39m]\n\u001b[0;32m    318\u001b[0m \u001b[39mif\u001b[39;00m friedman_p_value \u001b[39m>\u001b[39m\u001b[39m=\u001b[39m alpha:\n\u001b[0;32m    319\u001b[0m     \u001b[39m# then the null hypothesis over the entire classifiers cannot be rejected\u001b[39;00m\n\u001b[0;32m    320\u001b[0m     \u001b[39mprint\u001b[39m(\u001b[39m'\u001b[39m\u001b[39mthe null hypothesis over the entire classifiers cannot be rejected\u001b[39m\u001b[39m'\u001b[39m)\n",
      "File \u001b[1;32mc:\\Users\\Surface pro\\random_sast\\.venv\\lib\\site-packages\\scipy\\stats\\_stats_py.py:8673\u001b[0m, in \u001b[0;36mfriedmanchisquare\u001b[1;34m(*samples)\u001b[0m\n\u001b[0;32m   8671\u001b[0m k \u001b[39m=\u001b[39m \u001b[39mlen\u001b[39m(samples)\n\u001b[0;32m   8672\u001b[0m \u001b[39mif\u001b[39;00m k \u001b[39m<\u001b[39m \u001b[39m3\u001b[39m:\n\u001b[1;32m-> 8673\u001b[0m     \u001b[39mraise\u001b[39;00m \u001b[39mValueError\u001b[39;00m(\u001b[39m'\u001b[39m\u001b[39mAt least 3 sets of samples must be given \u001b[39m\u001b[39m'\u001b[39m\n\u001b[0;32m   8674\u001b[0m                      \u001b[39m'\u001b[39m\u001b[39mfor Friedman test, got \u001b[39m\u001b[39m{}\u001b[39;00m\u001b[39m.\u001b[39m\u001b[39m'\u001b[39m\u001b[39m.\u001b[39mformat(k))\n\u001b[0;32m   8676\u001b[0m n \u001b[39m=\u001b[39m \u001b[39mlen\u001b[39m(samples[\u001b[39m0\u001b[39m])\n\u001b[0;32m   8677\u001b[0m \u001b[39mfor\u001b[39;00m i \u001b[39min\u001b[39;00m \u001b[39mrange\u001b[39m(\u001b[39m1\u001b[39m, k):\n",
      "\u001b[1;31mValueError\u001b[0m: At least 3 sets of samples must be given for Friedman test, got 2."
     ]
    }
   ],
   "source": [
    "draw_cd_diagram(df_to_cd, labels=True, title=\"Best combination comparison\", fname='ExperimentationRSAST/images_cd_diagram/cd-diagram_best_com.png')\n"
   ]
  },
  {
   "cell_type": "code",
   "execution_count": null,
   "metadata": {},
   "outputs": [
    {
     "name": "stderr",
     "output_type": "stream",
     "text": [
      "C:\\Users\\Nicolas R\\AppData\\Local\\Temp\\ipykernel_13936\\293824979.py:2: SettingWithCopyWarning: \n",
      "A value is trying to be set on a copy of a slice from a DataFrame\n",
      "\n",
      "See the caveats in the documentation: https://pandas.pydata.org/pandas-docs/stable/user_guide/indexing.html#returning-a-view-versus-a-copy\n",
      "  df_perf_all.rename(columns = {'len_method':'classifier_name'}, inplace = True)\n"
     ]
    }
   ],
   "source": [
    "df_perf_all=df_perf[['dataset_name','len_method','accuracy']]\n",
    "df_perf_all.rename(columns = {'len_method':'classifier_name'}, inplace = True)\n",
    "df_perf_all=pd.pivot_table(df_perf_all, index=[\"dataset_name\",\"classifier_name\"]).reset_index()"
   ]
  },
  {
   "cell_type": "code",
   "execution_count": null,
   "metadata": {},
   "outputs": [
    {
     "name": "stdout",
     "output_type": "stream",
     "text": [
      "{0: 'None', 1: 'Max PACF', 2: 'ACF&PACF'}\n",
      "[0, 1]\n"
     ]
    }
   ],
   "source": [
    "draw_cd_diagram(df_perf_all, labels=True, fname='ExperimentationRSAST/images_cd_diagram/cd-diagram_all_methods.png')"
   ]
  },
  {
   "attachments": {},
   "cell_type": "markdown",
   "metadata": {},
   "source": [
    "#### Focus on most accurate lenght method"
   ]
  },
  {
   "attachments": {},
   "cell_type": "markdown",
   "metadata": {},
   "source": [
    "##### Overall Accuracy"
   ]
  },
  {
   "cell_type": "code",
   "execution_count": null,
   "metadata": {},
   "outputs": [
    {
     "data": {
      "text/plain": [
       "['ACF&PACF: n_random_points=30 nb_inst_per_class=10',\n",
       " 'Max PACF: n_random_points=30 nb_inst_per_class=10',\n",
       " 'None: n_random_points=30 nb_inst_per_class=10']"
      ]
     },
     "execution_count": 30,
     "metadata": {},
     "output_type": "execute_result"
    }
   ],
   "source": [
    "# highest accurate hyperparameters\n",
    "best_comb_by_method"
   ]
  },
  {
   "cell_type": "code",
   "execution_count": null,
   "metadata": {},
   "outputs": [
    {
     "data": {
      "text/html": [
       "<div>\n",
       "<style scoped>\n",
       "    .dataframe tbody tr th:only-of-type {\n",
       "        vertical-align: middle;\n",
       "    }\n",
       "\n",
       "    .dataframe tbody tr th {\n",
       "        vertical-align: top;\n",
       "    }\n",
       "\n",
       "    .dataframe thead th {\n",
       "        text-align: right;\n",
       "    }\n",
       "</style>\n",
       "<table border=\"1\" class=\"dataframe\">\n",
       "  <thead>\n",
       "    <tr style=\"text-align: right;\">\n",
       "      <th>nb_per_class</th>\n",
       "      <th>half_instance</th>\n",
       "      <th>1</th>\n",
       "      <th>10</th>\n",
       "      <th>30</th>\n",
       "      <th>50</th>\n",
       "      <th>100</th>\n",
       "      <th>1000</th>\n",
       "      <th>10000</th>\n",
       "    </tr>\n",
       "    <tr>\n",
       "      <th>rpoint</th>\n",
       "      <th></th>\n",
       "      <th></th>\n",
       "      <th></th>\n",
       "      <th></th>\n",
       "      <th></th>\n",
       "      <th></th>\n",
       "      <th></th>\n",
       "      <th></th>\n",
       "    </tr>\n",
       "  </thead>\n",
       "  <tbody>\n",
       "    <tr>\n",
       "      <th>half_len</th>\n",
       "      <td>NaN</td>\n",
       "      <td>NaN</td>\n",
       "      <td>NaN</td>\n",
       "      <td>NaN</td>\n",
       "      <td>NaN</td>\n",
       "      <td>NaN</td>\n",
       "      <td>NaN</td>\n",
       "      <td>NaN</td>\n",
       "    </tr>\n",
       "    <tr>\n",
       "      <th>1</th>\n",
       "      <td>NaN</td>\n",
       "      <td>NaN</td>\n",
       "      <td>NaN</td>\n",
       "      <td>NaN</td>\n",
       "      <td>NaN</td>\n",
       "      <td>NaN</td>\n",
       "      <td>NaN</td>\n",
       "      <td>NaN</td>\n",
       "    </tr>\n",
       "    <tr>\n",
       "      <th>10</th>\n",
       "      <td>NaN</td>\n",
       "      <td>0.721457</td>\n",
       "      <td>0.769502</td>\n",
       "      <td>NaN</td>\n",
       "      <td>NaN</td>\n",
       "      <td>NaN</td>\n",
       "      <td>NaN</td>\n",
       "      <td>NaN</td>\n",
       "    </tr>\n",
       "    <tr>\n",
       "      <th>30</th>\n",
       "      <td>NaN</td>\n",
       "      <td>0.726010</td>\n",
       "      <td>0.770158</td>\n",
       "      <td>NaN</td>\n",
       "      <td>NaN</td>\n",
       "      <td>NaN</td>\n",
       "      <td>NaN</td>\n",
       "      <td>NaN</td>\n",
       "    </tr>\n",
       "    <tr>\n",
       "      <th>50</th>\n",
       "      <td>NaN</td>\n",
       "      <td>NaN</td>\n",
       "      <td>NaN</td>\n",
       "      <td>NaN</td>\n",
       "      <td>NaN</td>\n",
       "      <td>NaN</td>\n",
       "      <td>NaN</td>\n",
       "      <td>NaN</td>\n",
       "    </tr>\n",
       "    <tr>\n",
       "      <th>100</th>\n",
       "      <td>NaN</td>\n",
       "      <td>NaN</td>\n",
       "      <td>NaN</td>\n",
       "      <td>NaN</td>\n",
       "      <td>NaN</td>\n",
       "      <td>NaN</td>\n",
       "      <td>NaN</td>\n",
       "      <td>NaN</td>\n",
       "    </tr>\n",
       "    <tr>\n",
       "      <th>1000</th>\n",
       "      <td>NaN</td>\n",
       "      <td>NaN</td>\n",
       "      <td>NaN</td>\n",
       "      <td>NaN</td>\n",
       "      <td>NaN</td>\n",
       "      <td>NaN</td>\n",
       "      <td>NaN</td>\n",
       "      <td>NaN</td>\n",
       "    </tr>\n",
       "    <tr>\n",
       "      <th>10000</th>\n",
       "      <td>NaN</td>\n",
       "      <td>NaN</td>\n",
       "      <td>NaN</td>\n",
       "      <td>NaN</td>\n",
       "      <td>NaN</td>\n",
       "      <td>NaN</td>\n",
       "      <td>NaN</td>\n",
       "      <td>NaN</td>\n",
       "    </tr>\n",
       "  </tbody>\n",
       "</table>\n",
       "</div>"
      ],
      "text/plain": [
       "nb_per_class  half_instance         1        10  30  50  100  1000  10000\n",
       "rpoint                                                                   \n",
       "half_len                NaN       NaN       NaN NaN NaN  NaN   NaN    NaN\n",
       "1                       NaN       NaN       NaN NaN NaN  NaN   NaN    NaN\n",
       "10                      NaN  0.721457  0.769502 NaN NaN  NaN   NaN    NaN\n",
       "30                      NaN  0.726010  0.770158 NaN NaN  NaN   NaN    NaN\n",
       "50                      NaN       NaN       NaN NaN NaN  NaN   NaN    NaN\n",
       "100                     NaN       NaN       NaN NaN NaN  NaN   NaN    NaN\n",
       "1000                    NaN       NaN       NaN NaN NaN  NaN   NaN    NaN\n",
       "10000                   NaN       NaN       NaN NaN NaN  NaN   NaN    NaN"
      ]
     },
     "execution_count": 31,
     "metadata": {},
     "output_type": "execute_result"
    }
   ],
   "source": [
    "# filter by method with ACF&PACF\n",
    "# create a pivot table with the mean of score by hyperparameter\n",
    "df_result_acc=df_result\n",
    "#df_result_acc=df_result_acc[df_result_acc[\"dataset_name\"]==\"Fungi\"]\n",
    "\n",
    "pivot = pd.pivot_table(df_result_acc, values='accuracy', index=['rpoint'],columns=['nb_per_class'], aggfunc='mean')\n",
    "pivot = pivot.reindex(columns=[\"half_instance\",\"1\",\"10\",\"30\",\"50\",\"100\",\"1000\",\"10000\"], index=[\"half_len\",\"1\",\"10\",\"30\",\"50\",\"100\",\"1000\",\"10000\"])\n",
    "pivot"
   ]
  },
  {
   "cell_type": "code",
   "execution_count": null,
   "metadata": {},
   "outputs": [
    {
     "data": {
      "text/html": [
       "<div>\n",
       "<style scoped>\n",
       "    .dataframe tbody tr th:only-of-type {\n",
       "        vertical-align: middle;\n",
       "    }\n",
       "\n",
       "    .dataframe tbody tr th {\n",
       "        vertical-align: top;\n",
       "    }\n",
       "\n",
       "    .dataframe thead th {\n",
       "        text-align: right;\n",
       "    }\n",
       "</style>\n",
       "<table border=\"1\" class=\"dataframe\">\n",
       "  <thead>\n",
       "    <tr style=\"text-align: right;\">\n",
       "      <th>nb_per_class</th>\n",
       "      <th>half_instance</th>\n",
       "      <th>1</th>\n",
       "      <th>10</th>\n",
       "      <th>30</th>\n",
       "      <th>50</th>\n",
       "      <th>100</th>\n",
       "      <th>1000</th>\n",
       "      <th>10000</th>\n",
       "    </tr>\n",
       "    <tr>\n",
       "      <th>rpoint</th>\n",
       "      <th></th>\n",
       "      <th></th>\n",
       "      <th></th>\n",
       "      <th></th>\n",
       "      <th></th>\n",
       "      <th></th>\n",
       "      <th></th>\n",
       "      <th></th>\n",
       "    </tr>\n",
       "  </thead>\n",
       "  <tbody>\n",
       "    <tr>\n",
       "      <th>half_len</th>\n",
       "      <td>NaN</td>\n",
       "      <td>NaN</td>\n",
       "      <td>NaN</td>\n",
       "      <td>NaN</td>\n",
       "      <td>NaN</td>\n",
       "      <td>NaN</td>\n",
       "      <td>NaN</td>\n",
       "      <td>NaN</td>\n",
       "    </tr>\n",
       "    <tr>\n",
       "      <th>1</th>\n",
       "      <td>NaN</td>\n",
       "      <td>NaN</td>\n",
       "      <td>NaN</td>\n",
       "      <td>NaN</td>\n",
       "      <td>NaN</td>\n",
       "      <td>NaN</td>\n",
       "      <td>NaN</td>\n",
       "      <td>NaN</td>\n",
       "    </tr>\n",
       "    <tr>\n",
       "      <th>10</th>\n",
       "      <td>NaN</td>\n",
       "      <td>0.032220</td>\n",
       "      <td>0.031174</td>\n",
       "      <td>NaN</td>\n",
       "      <td>NaN</td>\n",
       "      <td>NaN</td>\n",
       "      <td>NaN</td>\n",
       "      <td>NaN</td>\n",
       "    </tr>\n",
       "    <tr>\n",
       "      <th>30</th>\n",
       "      <td>NaN</td>\n",
       "      <td>0.032558</td>\n",
       "      <td>0.031404</td>\n",
       "      <td>NaN</td>\n",
       "      <td>NaN</td>\n",
       "      <td>NaN</td>\n",
       "      <td>NaN</td>\n",
       "      <td>NaN</td>\n",
       "    </tr>\n",
       "    <tr>\n",
       "      <th>50</th>\n",
       "      <td>NaN</td>\n",
       "      <td>NaN</td>\n",
       "      <td>NaN</td>\n",
       "      <td>NaN</td>\n",
       "      <td>NaN</td>\n",
       "      <td>NaN</td>\n",
       "      <td>NaN</td>\n",
       "      <td>NaN</td>\n",
       "    </tr>\n",
       "    <tr>\n",
       "      <th>100</th>\n",
       "      <td>NaN</td>\n",
       "      <td>NaN</td>\n",
       "      <td>NaN</td>\n",
       "      <td>NaN</td>\n",
       "      <td>NaN</td>\n",
       "      <td>NaN</td>\n",
       "      <td>NaN</td>\n",
       "      <td>NaN</td>\n",
       "    </tr>\n",
       "    <tr>\n",
       "      <th>1000</th>\n",
       "      <td>NaN</td>\n",
       "      <td>NaN</td>\n",
       "      <td>NaN</td>\n",
       "      <td>NaN</td>\n",
       "      <td>NaN</td>\n",
       "      <td>NaN</td>\n",
       "      <td>NaN</td>\n",
       "      <td>NaN</td>\n",
       "    </tr>\n",
       "    <tr>\n",
       "      <th>10000</th>\n",
       "      <td>NaN</td>\n",
       "      <td>NaN</td>\n",
       "      <td>NaN</td>\n",
       "      <td>NaN</td>\n",
       "      <td>NaN</td>\n",
       "      <td>NaN</td>\n",
       "      <td>NaN</td>\n",
       "      <td>NaN</td>\n",
       "    </tr>\n",
       "  </tbody>\n",
       "</table>\n",
       "</div>"
      ],
      "text/plain": [
       "nb_per_class  half_instance         1        10  30  50  100  1000  10000\n",
       "rpoint                                                                   \n",
       "half_len                NaN       NaN       NaN NaN NaN  NaN   NaN    NaN\n",
       "1                       NaN       NaN       NaN NaN NaN  NaN   NaN    NaN\n",
       "10                      NaN  0.032220  0.031174 NaN NaN  NaN   NaN    NaN\n",
       "30                      NaN  0.032558  0.031404 NaN NaN  NaN   NaN    NaN\n",
       "50                      NaN       NaN       NaN NaN NaN  NaN   NaN    NaN\n",
       "100                     NaN       NaN       NaN NaN NaN  NaN   NaN    NaN\n",
       "1000                    NaN       NaN       NaN NaN NaN  NaN   NaN    NaN\n",
       "10000                   NaN       NaN       NaN NaN NaN  NaN   NaN    NaN"
      ]
     },
     "execution_count": 32,
     "metadata": {},
     "output_type": "execute_result"
    }
   ],
   "source": [
    "# create a pivot table with the variatioon of score by hyperparameter\n",
    "pivot = pd.pivot_table(df_result_acc, values='accuracy', index=['rpoint'],columns=['nb_per_class'], aggfunc='var')\n",
    "pivot = pivot.reindex(columns=[\"half_instance\",\"1\",\"10\",\"30\",\"50\",\"100\",\"1000\",\"10000\"], index=[\"half_len\",\"1\",\"10\",\"30\",\"50\",\"100\",\"1000\",\"10000\"])\n",
    "pivot"
   ]
  },
  {
   "attachments": {},
   "cell_type": "markdown",
   "metadata": {},
   "source": [
    "##### Overall time complexity"
   ]
  },
  {
   "cell_type": "code",
   "execution_count": null,
   "metadata": {},
   "outputs": [
    {
     "data": {
      "text/plain": [
       "18.493159775965744"
      ]
     },
     "execution_count": 33,
     "metadata": {},
     "output_type": "execute_result"
    }
   ],
   "source": [
    "df_result_acc.time.sum()/(60*60*24)"
   ]
  },
  {
   "cell_type": "code",
   "execution_count": null,
   "metadata": {},
   "outputs": [
    {
     "data": {
      "text/html": [
       "<div>\n",
       "<style scoped>\n",
       "    .dataframe tbody tr th:only-of-type {\n",
       "        vertical-align: middle;\n",
       "    }\n",
       "\n",
       "    .dataframe tbody tr th {\n",
       "        vertical-align: top;\n",
       "    }\n",
       "\n",
       "    .dataframe thead th {\n",
       "        text-align: right;\n",
       "    }\n",
       "</style>\n",
       "<table border=\"1\" class=\"dataframe\">\n",
       "  <thead>\n",
       "    <tr style=\"text-align: right;\">\n",
       "      <th></th>\n",
       "      <th>cweights_time</th>\n",
       "      <th>fsubsequence_time</th>\n",
       "      <th>tdataset_time</th>\n",
       "      <th>tclassifier_time</th>\n",
       "      <th>time</th>\n",
       "    </tr>\n",
       "    <tr>\n",
       "      <th>dataset_name</th>\n",
       "      <th></th>\n",
       "      <th></th>\n",
       "      <th></th>\n",
       "      <th></th>\n",
       "      <th></th>\n",
       "    </tr>\n",
       "  </thead>\n",
       "  <tbody>\n",
       "    <tr>\n",
       "      <th>ACSF1</th>\n",
       "      <td>1.851993</td>\n",
       "      <td>3183.477921</td>\n",
       "      <td>73.873437</td>\n",
       "      <td>0.382206</td>\n",
       "      <td>3259.635894</td>\n",
       "    </tr>\n",
       "    <tr>\n",
       "      <th>Adiac</th>\n",
       "      <td>0.548829</td>\n",
       "      <td>12.748025</td>\n",
       "      <td>4.602362</td>\n",
       "      <td>6.234420</td>\n",
       "      <td>24.170215</td>\n",
       "    </tr>\n",
       "    <tr>\n",
       "      <th>AllGestureWiimoteX</th>\n",
       "      <td>0.661600</td>\n",
       "      <td>67.504561</td>\n",
       "      <td>4.264103</td>\n",
       "      <td>1.096137</td>\n",
       "      <td>73.537261</td>\n",
       "    </tr>\n",
       "    <tr>\n",
       "      <th>AllGestureWiimoteY</th>\n",
       "      <td>0.680451</td>\n",
       "      <td>64.542429</td>\n",
       "      <td>3.643381</td>\n",
       "      <td>0.932592</td>\n",
       "      <td>69.808239</td>\n",
       "    </tr>\n",
       "    <tr>\n",
       "      <th>AllGestureWiimoteZ</th>\n",
       "      <td>0.676557</td>\n",
       "      <td>65.363168</td>\n",
       "      <td>5.736469</td>\n",
       "      <td>0.921032</td>\n",
       "      <td>72.709707</td>\n",
       "    </tr>\n",
       "    <tr>\n",
       "      <th>...</th>\n",
       "      <td>...</td>\n",
       "      <td>...</td>\n",
       "      <td>...</td>\n",
       "      <td>...</td>\n",
       "      <td>...</td>\n",
       "    </tr>\n",
       "    <tr>\n",
       "      <th>UWaveGestureLibraryZ</th>\n",
       "      <td>0.492959</td>\n",
       "      <td>15.160812</td>\n",
       "      <td>9.901086</td>\n",
       "      <td>6.406900</td>\n",
       "      <td>31.978406</td>\n",
       "    </tr>\n",
       "    <tr>\n",
       "      <th>Wafer</th>\n",
       "      <td>0.121022</td>\n",
       "      <td>0.691826</td>\n",
       "      <td>0.446956</td>\n",
       "      <td>1.699683</td>\n",
       "      <td>2.961754</td>\n",
       "    </tr>\n",
       "    <tr>\n",
       "      <th>Wine</th>\n",
       "      <td>0.079526</td>\n",
       "      <td>2.092897</td>\n",
       "      <td>0.059448</td>\n",
       "      <td>0.076799</td>\n",
       "      <td>2.310345</td>\n",
       "    </tr>\n",
       "    <tr>\n",
       "      <th>WordSynonyms</th>\n",
       "      <td>0.576814</td>\n",
       "      <td>22.849090</td>\n",
       "      <td>5.583332</td>\n",
       "      <td>3.377839</td>\n",
       "      <td>32.413608</td>\n",
       "    </tr>\n",
       "    <tr>\n",
       "      <th>Yoga</th>\n",
       "      <td>0.295517</td>\n",
       "      <td>9.546459</td>\n",
       "      <td>1.825443</td>\n",
       "      <td>0.682695</td>\n",
       "      <td>12.355206</td>\n",
       "    </tr>\n",
       "  </tbody>\n",
       "</table>\n",
       "<p>109 rows × 5 columns</p>\n",
       "</div>"
      ],
      "text/plain": [
       "                      cweights_time  fsubsequence_time  tdataset_time  \\\n",
       "dataset_name                                                            \n",
       "ACSF1                      1.851993        3183.477921      73.873437   \n",
       "Adiac                      0.548829          12.748025       4.602362   \n",
       "AllGestureWiimoteX         0.661600          67.504561       4.264103   \n",
       "AllGestureWiimoteY         0.680451          64.542429       3.643381   \n",
       "AllGestureWiimoteZ         0.676557          65.363168       5.736469   \n",
       "...                             ...                ...            ...   \n",
       "UWaveGestureLibraryZ       0.492959          15.160812       9.901086   \n",
       "Wafer                      0.121022           0.691826       0.446956   \n",
       "Wine                       0.079526           2.092897       0.059448   \n",
       "WordSynonyms               0.576814          22.849090       5.583332   \n",
       "Yoga                       0.295517           9.546459       1.825443   \n",
       "\n",
       "                      tclassifier_time         time  \n",
       "dataset_name                                         \n",
       "ACSF1                         0.382206  3259.635894  \n",
       "Adiac                         6.234420    24.170215  \n",
       "AllGestureWiimoteX            1.096137    73.537261  \n",
       "AllGestureWiimoteY            0.932592    69.808239  \n",
       "AllGestureWiimoteZ            0.921032    72.709707  \n",
       "...                                ...          ...  \n",
       "UWaveGestureLibraryZ          6.406900    31.978406  \n",
       "Wafer                         1.699683     2.961754  \n",
       "Wine                          0.076799     2.310345  \n",
       "WordSynonyms                  3.377839    32.413608  \n",
       "Yoga                          0.682695    12.355206  \n",
       "\n",
       "[109 rows x 5 columns]"
      ]
     },
     "execution_count": 34,
     "metadata": {},
     "output_type": "execute_result"
    }
   ],
   "source": [
    "# create a pivot table with the mean of time spent in minutes\n",
    "pivot=pd.pivot_table(df_result_acc, values=['time','cweights_time','fsubsequence_time','tdataset_time','tclassifier_time'], index=['dataset_name'], aggfunc='sum')/60\n",
    "pivot = pivot.reindex(columns=['cweights_time','fsubsequence_time','tdataset_time','tclassifier_time','time'])\n",
    "pivot"
   ]
  },
  {
   "cell_type": "code",
   "execution_count": null,
   "metadata": {},
   "outputs": [
    {
     "data": {
      "text/html": [
       "<div>\n",
       "<style scoped>\n",
       "    .dataframe tbody tr th:only-of-type {\n",
       "        vertical-align: middle;\n",
       "    }\n",
       "\n",
       "    .dataframe tbody tr th {\n",
       "        vertical-align: top;\n",
       "    }\n",
       "\n",
       "    .dataframe thead th {\n",
       "        text-align: right;\n",
       "    }\n",
       "</style>\n",
       "<table border=\"1\" class=\"dataframe\">\n",
       "  <thead>\n",
       "    <tr style=\"text-align: right;\">\n",
       "      <th>nb_per_class</th>\n",
       "      <th>half_instance</th>\n",
       "      <th>1</th>\n",
       "      <th>10</th>\n",
       "      <th>30</th>\n",
       "      <th>50</th>\n",
       "      <th>100</th>\n",
       "      <th>1000</th>\n",
       "      <th>10000</th>\n",
       "    </tr>\n",
       "    <tr>\n",
       "      <th>rpoint</th>\n",
       "      <th></th>\n",
       "      <th></th>\n",
       "      <th></th>\n",
       "      <th></th>\n",
       "      <th></th>\n",
       "      <th></th>\n",
       "      <th></th>\n",
       "      <th></th>\n",
       "    </tr>\n",
       "  </thead>\n",
       "  <tbody>\n",
       "    <tr>\n",
       "      <th>half_len</th>\n",
       "      <td>NaN</td>\n",
       "      <td>NaN</td>\n",
       "      <td>NaN</td>\n",
       "      <td>NaN</td>\n",
       "      <td>NaN</td>\n",
       "      <td>NaN</td>\n",
       "      <td>NaN</td>\n",
       "      <td>NaN</td>\n",
       "    </tr>\n",
       "    <tr>\n",
       "      <th>1</th>\n",
       "      <td>NaN</td>\n",
       "      <td>NaN</td>\n",
       "      <td>NaN</td>\n",
       "      <td>NaN</td>\n",
       "      <td>NaN</td>\n",
       "      <td>NaN</td>\n",
       "      <td>NaN</td>\n",
       "      <td>NaN</td>\n",
       "    </tr>\n",
       "    <tr>\n",
       "      <th>10</th>\n",
       "      <td>NaN</td>\n",
       "      <td>0.385081</td>\n",
       "      <td>3.501039</td>\n",
       "      <td>NaN</td>\n",
       "      <td>NaN</td>\n",
       "      <td>NaN</td>\n",
       "      <td>NaN</td>\n",
       "      <td>NaN</td>\n",
       "    </tr>\n",
       "    <tr>\n",
       "      <th>30</th>\n",
       "      <td>NaN</td>\n",
       "      <td>0.428598</td>\n",
       "      <td>3.829060</td>\n",
       "      <td>NaN</td>\n",
       "      <td>NaN</td>\n",
       "      <td>NaN</td>\n",
       "      <td>NaN</td>\n",
       "      <td>NaN</td>\n",
       "    </tr>\n",
       "    <tr>\n",
       "      <th>50</th>\n",
       "      <td>NaN</td>\n",
       "      <td>NaN</td>\n",
       "      <td>NaN</td>\n",
       "      <td>NaN</td>\n",
       "      <td>NaN</td>\n",
       "      <td>NaN</td>\n",
       "      <td>NaN</td>\n",
       "      <td>NaN</td>\n",
       "    </tr>\n",
       "    <tr>\n",
       "      <th>100</th>\n",
       "      <td>NaN</td>\n",
       "      <td>NaN</td>\n",
       "      <td>NaN</td>\n",
       "      <td>NaN</td>\n",
       "      <td>NaN</td>\n",
       "      <td>NaN</td>\n",
       "      <td>NaN</td>\n",
       "      <td>NaN</td>\n",
       "    </tr>\n",
       "    <tr>\n",
       "      <th>1000</th>\n",
       "      <td>NaN</td>\n",
       "      <td>NaN</td>\n",
       "      <td>NaN</td>\n",
       "      <td>NaN</td>\n",
       "      <td>NaN</td>\n",
       "      <td>NaN</td>\n",
       "      <td>NaN</td>\n",
       "      <td>NaN</td>\n",
       "    </tr>\n",
       "    <tr>\n",
       "      <th>10000</th>\n",
       "      <td>NaN</td>\n",
       "      <td>NaN</td>\n",
       "      <td>NaN</td>\n",
       "      <td>NaN</td>\n",
       "      <td>NaN</td>\n",
       "      <td>NaN</td>\n",
       "      <td>NaN</td>\n",
       "      <td>NaN</td>\n",
       "    </tr>\n",
       "  </tbody>\n",
       "</table>\n",
       "</div>"
      ],
      "text/plain": [
       "nb_per_class  half_instance         1        10  30  50  100  1000  10000\n",
       "rpoint                                                                   \n",
       "half_len                NaN       NaN       NaN NaN NaN  NaN   NaN    NaN\n",
       "1                       NaN       NaN       NaN NaN NaN  NaN   NaN    NaN\n",
       "10                      NaN  0.385081  3.501039 NaN NaN  NaN   NaN    NaN\n",
       "30                      NaN  0.428598  3.829060 NaN NaN  NaN   NaN    NaN\n",
       "50                      NaN       NaN       NaN NaN NaN  NaN   NaN    NaN\n",
       "100                     NaN       NaN       NaN NaN NaN  NaN   NaN    NaN\n",
       "1000                    NaN       NaN       NaN NaN NaN  NaN   NaN    NaN\n",
       "10000                   NaN       NaN       NaN NaN NaN  NaN   NaN    NaN"
      ]
     },
     "execution_count": 35,
     "metadata": {},
     "output_type": "execute_result"
    }
   ],
   "source": [
    "# create a pivot table with the mean of time spent in minutes by random points and instances per class\n",
    "pivot = pd.pivot_table(df_result_acc, values='time', index=['rpoint'],columns=['nb_per_class'], aggfunc='mean')/60\n",
    "pivot = pivot.reindex(columns=[\"half_instance\",\"1\",\"10\",\"30\",\"50\",\"100\",\"1000\",\"10000\"], index=[\"half_len\",\"1\",\"10\",\"30\",\"50\",\"100\",\"1000\",\"10000\"])\n",
    "pivot"
   ]
  },
  {
   "attachments": {},
   "cell_type": "markdown",
   "metadata": {},
   "source": [
    "##### Calculate weights time complexity"
   ]
  },
  {
   "cell_type": "code",
   "execution_count": null,
   "metadata": {},
   "outputs": [
    {
     "data": {
      "text/html": [
       "<div>\n",
       "<style scoped>\n",
       "    .dataframe tbody tr th:only-of-type {\n",
       "        vertical-align: middle;\n",
       "    }\n",
       "\n",
       "    .dataframe tbody tr th {\n",
       "        vertical-align: top;\n",
       "    }\n",
       "\n",
       "    .dataframe thead th {\n",
       "        text-align: right;\n",
       "    }\n",
       "</style>\n",
       "<table border=\"1\" class=\"dataframe\">\n",
       "  <thead>\n",
       "    <tr style=\"text-align: right;\">\n",
       "      <th>nb_per_class</th>\n",
       "      <th>1</th>\n",
       "      <th>10</th>\n",
       "    </tr>\n",
       "    <tr>\n",
       "      <th>rpoint</th>\n",
       "      <th></th>\n",
       "      <th></th>\n",
       "    </tr>\n",
       "  </thead>\n",
       "  <tbody>\n",
       "    <tr>\n",
       "      <th>10</th>\n",
       "      <td>0.320113</td>\n",
       "      <td>0.290645</td>\n",
       "    </tr>\n",
       "    <tr>\n",
       "      <th>30</th>\n",
       "      <td>0.310599</td>\n",
       "      <td>0.300672</td>\n",
       "    </tr>\n",
       "  </tbody>\n",
       "</table>\n",
       "</div>"
      ],
      "text/plain": [
       "nb_per_class         1        10\n",
       "rpoint                          \n",
       "10            0.320113  0.290645\n",
       "30            0.310599  0.300672"
      ]
     },
     "execution_count": 36,
     "metadata": {},
     "output_type": "execute_result"
    }
   ],
   "source": [
    "pd.pivot_table(df_result_acc, values='cweights_time', index=['rpoint'],columns=['nb_per_class'], aggfunc='mean')"
   ]
  },
  {
   "attachments": {},
   "cell_type": "markdown",
   "metadata": {},
   "source": [
    "##### Finding subsequences time complexity"
   ]
  },
  {
   "cell_type": "code",
   "execution_count": null,
   "metadata": {},
   "outputs": [
    {
     "data": {
      "text/html": [
       "<div>\n",
       "<style scoped>\n",
       "    .dataframe tbody tr th:only-of-type {\n",
       "        vertical-align: middle;\n",
       "    }\n",
       "\n",
       "    .dataframe tbody tr th {\n",
       "        vertical-align: top;\n",
       "    }\n",
       "\n",
       "    .dataframe thead th {\n",
       "        text-align: right;\n",
       "    }\n",
       "</style>\n",
       "<table border=\"1\" class=\"dataframe\">\n",
       "  <thead>\n",
       "    <tr style=\"text-align: right;\">\n",
       "      <th>nb_per_class</th>\n",
       "      <th>1</th>\n",
       "      <th>10</th>\n",
       "    </tr>\n",
       "    <tr>\n",
       "      <th>rpoint</th>\n",
       "      <th></th>\n",
       "      <th></th>\n",
       "    </tr>\n",
       "  </thead>\n",
       "  <tbody>\n",
       "    <tr>\n",
       "      <th>10</th>\n",
       "      <td>20.137923</td>\n",
       "      <td>196.271078</td>\n",
       "    </tr>\n",
       "    <tr>\n",
       "      <th>30</th>\n",
       "      <td>20.357806</td>\n",
       "      <td>194.874460</td>\n",
       "    </tr>\n",
       "  </tbody>\n",
       "</table>\n",
       "</div>"
      ],
      "text/plain": [
       "nb_per_class          1          10\n",
       "rpoint                             \n",
       "10            20.137923  196.271078\n",
       "30            20.357806  194.874460"
      ]
     },
     "execution_count": 37,
     "metadata": {},
     "output_type": "execute_result"
    }
   ],
   "source": [
    "pd.pivot_table(df_result_acc, values='fsubsequence_time', index=['rpoint'],columns=['nb_per_class'], aggfunc='mean')"
   ]
  },
  {
   "attachments": {},
   "cell_type": "markdown",
   "metadata": {},
   "source": [
    "##### Transform Dataset time complexity"
   ]
  },
  {
   "cell_type": "code",
   "execution_count": null,
   "metadata": {},
   "outputs": [
    {
     "data": {
      "text/html": [
       "<div>\n",
       "<style scoped>\n",
       "    .dataframe tbody tr th:only-of-type {\n",
       "        vertical-align: middle;\n",
       "    }\n",
       "\n",
       "    .dataframe tbody tr th {\n",
       "        vertical-align: top;\n",
       "    }\n",
       "\n",
       "    .dataframe thead th {\n",
       "        text-align: right;\n",
       "    }\n",
       "</style>\n",
       "<table border=\"1\" class=\"dataframe\">\n",
       "  <thead>\n",
       "    <tr style=\"text-align: right;\">\n",
       "      <th>nb_per_class</th>\n",
       "      <th>1</th>\n",
       "      <th>10</th>\n",
       "    </tr>\n",
       "    <tr>\n",
       "      <th>rpoint</th>\n",
       "      <th></th>\n",
       "      <th></th>\n",
       "    </tr>\n",
       "  </thead>\n",
       "  <tbody>\n",
       "    <tr>\n",
       "      <th>10</th>\n",
       "      <td>1.241766</td>\n",
       "      <td>10.977160</td>\n",
       "    </tr>\n",
       "    <tr>\n",
       "      <th>30</th>\n",
       "      <td>3.544905</td>\n",
       "      <td>32.614537</td>\n",
       "    </tr>\n",
       "  </tbody>\n",
       "</table>\n",
       "</div>"
      ],
      "text/plain": [
       "nb_per_class         1         10\n",
       "rpoint                           \n",
       "10            1.241766  10.977160\n",
       "30            3.544905  32.614537"
      ]
     },
     "execution_count": 38,
     "metadata": {},
     "output_type": "execute_result"
    }
   ],
   "source": [
    "pd.pivot_table(df_result_acc, values='tdataset_time', index=['rpoint'],columns=['nb_per_class'], aggfunc='mean')"
   ]
  },
  {
   "attachments": {},
   "cell_type": "markdown",
   "metadata": {},
   "source": [
    "##### Classifier time complexity"
   ]
  },
  {
   "cell_type": "code",
   "execution_count": null,
   "metadata": {},
   "outputs": [
    {
     "data": {
      "text/html": [
       "<div>\n",
       "<style scoped>\n",
       "    .dataframe tbody tr th:only-of-type {\n",
       "        vertical-align: middle;\n",
       "    }\n",
       "\n",
       "    .dataframe tbody tr th {\n",
       "        vertical-align: top;\n",
       "    }\n",
       "\n",
       "    .dataframe thead th {\n",
       "        text-align: right;\n",
       "    }\n",
       "</style>\n",
       "<table border=\"1\" class=\"dataframe\">\n",
       "  <thead>\n",
       "    <tr style=\"text-align: right;\">\n",
       "      <th>nb_per_class</th>\n",
       "      <th>1</th>\n",
       "      <th>10</th>\n",
       "    </tr>\n",
       "    <tr>\n",
       "      <th>rpoint</th>\n",
       "      <th></th>\n",
       "      <th></th>\n",
       "    </tr>\n",
       "  </thead>\n",
       "  <tbody>\n",
       "    <tr>\n",
       "      <th>10</th>\n",
       "      <td>1.398205</td>\n",
       "      <td>2.519515</td>\n",
       "    </tr>\n",
       "    <tr>\n",
       "      <th>30</th>\n",
       "      <td>1.498808</td>\n",
       "      <td>1.944774</td>\n",
       "    </tr>\n",
       "  </tbody>\n",
       "</table>\n",
       "</div>"
      ],
      "text/plain": [
       "nb_per_class         1        10\n",
       "rpoint                          \n",
       "10            1.398205  2.519515\n",
       "30            1.498808  1.944774"
      ]
     },
     "execution_count": 39,
     "metadata": {},
     "output_type": "execute_result"
    }
   ],
   "source": [
    "pd.pivot_table(df_result_acc, values='tclassifier_time', index=['rpoint'],columns=['nb_per_class'], aggfunc='mean')"
   ]
  }
 ],
 "metadata": {
  "kernelspec": {
   "display_name": "rsast_env",
   "language": "python",
   "name": "python3"
  },
  "language_info": {
   "codemirror_mode": {
    "name": "ipython",
    "version": 3
   },
   "file_extension": ".py",
   "mimetype": "text/x-python",
   "name": "python",
   "nbconvert_exporter": "python",
   "pygments_lexer": "ipython3",
   "version": "3.8.10"
  },
  "vscode": {
   "interpreter": {
    "hash": "15558ed87e778df9776c3e85b8e1a3f1f5adbf230fcca0229423f99909b60d27"
   }
  }
 },
 "nbformat": 4,
 "nbformat_minor": 2
}
