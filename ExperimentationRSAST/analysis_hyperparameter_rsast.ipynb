{
 "cells": [
  {
   "attachments": {},
   "cell_type": "markdown",
   "metadata": {},
   "source": [
    "## Experiments: Sensitive Analysis Hyperparameter RSAST:\n"
   ]
  },
  {
   "attachments": {},
   "cell_type": "markdown",
   "metadata": {},
   "source": [
    "It is runned RSAST in a set of UCR datasets with a predefined number of runs (\"runs\"). Then, it is selected a range (\"range_total\") between 1, 10, 30 ,50 and 100 for the selected dataset."
   ]
  },
  {
   "cell_type": "code",
   "execution_count": 36,
   "metadata": {},
   "outputs": [
    {
     "data": {
      "text/plain": [
       "['c:\\\\Users\\\\Public\\\\random_sast\\\\ExperimentationRSAST',\n",
       " 'c:\\\\ProgramData\\\\Anaconda3\\\\python39.zip',\n",
       " 'c:\\\\ProgramData\\\\Anaconda3\\\\DLLs',\n",
       " 'c:\\\\ProgramData\\\\Anaconda3\\\\lib',\n",
       " 'c:\\\\ProgramData\\\\Anaconda3',\n",
       " '',\n",
       " 'C:\\\\Users\\\\Nicolas R\\\\AppData\\\\Roaming\\\\Python\\\\Python39\\\\site-packages',\n",
       " 'c:\\\\ProgramData\\\\Anaconda3\\\\lib\\\\site-packages',\n",
       " 'c:\\\\ProgramData\\\\Anaconda3\\\\lib\\\\site-packages\\\\win32',\n",
       " 'c:\\\\ProgramData\\\\Anaconda3\\\\lib\\\\site-packages\\\\win32\\\\lib',\n",
       " 'c:\\\\ProgramData\\\\Anaconda3\\\\lib\\\\site-packages\\\\Pythonwin',\n",
       " 'c:\\\\ProgramData\\\\Anaconda3\\\\lib\\\\site-packages\\\\IPython\\\\extensions',\n",
       " 'C:\\\\Users\\\\Nicolas R\\\\.ipython',\n",
       " 'C:\\\\Users\\\\Public\\\\random_sast\\\\sast',\n",
       " 'C:\\\\Users\\\\Public\\\\random_sast\\\\cd_diagram',\n",
       " 'C:\\\\Users\\\\Public\\\\random_sast\\\\sast',\n",
       " 'C:\\\\Users\\\\Public\\\\random_sast\\\\cd_diagram']"
      ]
     },
     "execution_count": 36,
     "metadata": {},
     "output_type": "execute_result"
    }
   ],
   "source": [
    "#configure directory to import sast libraries\n",
    "import sys \n",
    "import os \n",
    "#add sast library path\n",
    "file_path = os.path.expanduser(\"~/random_sast/sast\")\n",
    "file_path = r\"C:\\Users\\Public\\random_sast\\sast\"\n",
    "sys.path.append(file_path)\n",
    "#add cd_diagram library path\n",
    "file_path = os.path.expanduser(\"~/random_sast/cd_diagram\")\n",
    "file_path = r\"C:\\Users\\Public\\random_sast\\cd_diagram\"\n",
    "sys.path.append(file_path)\n",
    "\n",
    "sys.path"
   ]
  },
  {
   "cell_type": "code",
   "execution_count": 37,
   "metadata": {},
   "outputs": [],
   "source": [
    "from sast import *\n",
    "from sktime.datasets import load_UCR_UEA_dataset, tsc_dataset_names\n",
    "from sktime.classification.kernel_based import RocketClassifier\n",
    "import time\n",
    "import pandas as pd\n",
    "import os"
   ]
  },
  {
   "attachments": {},
   "cell_type": "markdown",
   "metadata": {},
   "source": [
    "### Reading Datasets"
   ]
  },
  {
   "cell_type": "code",
   "execution_count": 38,
   "metadata": {},
   "outputs": [],
   "source": [
    "# Set directory where the csv files are located\n",
    "directory = os.getcwd()+'/ResultsByClassifier'\n",
    "\n",
    "# Create an empty list to store the dataframes\n",
    "dfs = []\n",
    "\n",
    "# Loop through all files in the directory\n",
    "for filename in os.listdir(directory):\n",
    "    # Check if the file starts with \"df_overall_tunning\" and ends with \".csv\"\n",
    "    if filename.endswith(\".csv\"):\n",
    "        # Read the csv file into a dataframe\n",
    "        filepath = os.path.join(directory, filename)\n",
    "        df = pd.read_csv(filepath)\n",
    "        # Append the dataframe to the list\n",
    "        df['filename']=filename\n",
    "        dfs.append(df)\n",
    "\n",
    "# Concatenate all the dataframes in the list into one dataframe\n",
    "df_other_methods = pd.concat(dfs, ignore_index=True)\n",
    "df_other_methods=df_other_methods[['filename','folds:','0']]\n",
    "df_other_methods['method']=df_other_methods['filename'].str.split('_').str[0]\n",
    "df_other_methods\n",
    "df_other_methods=df_other_methods.rename(columns={'folds:':'dataset','0':'score'})\n",
    "df_other_methods=df_other_methods[['dataset','score','method']]\n"
   ]
  },
  {
   "cell_type": "code",
   "execution_count": 39,
   "metadata": {},
   "outputs": [
    {
     "data": {
      "text/plain": [
       "array(['BOSS', 'Catch22', 'cBOSS', 'HIVE-COTEv1', 'InceptionTime',\n",
       "       'ProximityForest', 'ResNet', 'RISE', 'ROCKET', 'S-BOSS', 'SAST',\n",
       "       'STC', 'TS-CHIEF', 'TSF', 'WEASEL'], dtype=object)"
      ]
     },
     "execution_count": 39,
     "metadata": {},
     "output_type": "execute_result"
    }
   ],
   "source": [
    "df_other_methods['method'].unique()"
   ]
  },
  {
   "cell_type": "code",
   "execution_count": 40,
   "metadata": {},
   "outputs": [
    {
     "data": {
      "text/html": [
       "<div>\n",
       "<style scoped>\n",
       "    .dataframe tbody tr th:only-of-type {\n",
       "        vertical-align: middle;\n",
       "    }\n",
       "\n",
       "    .dataframe tbody tr th {\n",
       "        vertical-align: top;\n",
       "    }\n",
       "\n",
       "    .dataframe thead th {\n",
       "        text-align: right;\n",
       "    }\n",
       "</style>\n",
       "<table border=\"1\" class=\"dataframe\">\n",
       "  <thead>\n",
       "    <tr style=\"text-align: right;\">\n",
       "      <th></th>\n",
       "      <th>Unnamed: 0</th>\n",
       "      <th>accuracy</th>\n",
       "      <th>time</th>\n",
       "      <th>cweights_time</th>\n",
       "      <th>fsubsequence_time</th>\n",
       "      <th>tdataset_time</th>\n",
       "      <th>tclassifier_time</th>\n",
       "      <th>dataset_name</th>\n",
       "      <th>classifier_name</th>\n",
       "      <th>rpoint</th>\n",
       "      <th>nb_per_class</th>\n",
       "      <th>method</th>\n",
       "      <th>len_method</th>\n",
       "    </tr>\n",
       "  </thead>\n",
       "  <tbody>\n",
       "    <tr>\n",
       "      <th>0</th>\n",
       "      <td>0</td>\n",
       "      <td>0.892128</td>\n",
       "      <td>1.335019</td>\n",
       "      <td>0.075827</td>\n",
       "      <td>0.899491</td>\n",
       "      <td>0.074784</td>\n",
       "      <td>0.203656</td>\n",
       "      <td>Chinatown</td>\n",
       "      <td>ACF&amp;PACF: n_random_points=1 nb_inst_per_class=...</td>\n",
       "      <td>1</td>\n",
       "      <td>(max instances per class)//2</td>\n",
       "      <td>Rsast</td>\n",
       "      <td>ACF&amp;PACF</td>\n",
       "    </tr>\n",
       "    <tr>\n",
       "      <th>1</th>\n",
       "      <td>1</td>\n",
       "      <td>0.950437</td>\n",
       "      <td>0.037333</td>\n",
       "      <td>0.017771</td>\n",
       "      <td>0.005390</td>\n",
       "      <td>0.010186</td>\n",
       "      <td>0.003520</td>\n",
       "      <td>Chinatown</td>\n",
       "      <td>ACF&amp;PACF: n_random_points= (lenthg ts)//2 nb_i...</td>\n",
       "      <td>(lenthg ts)//2</td>\n",
       "      <td>1</td>\n",
       "      <td>Rsast</td>\n",
       "      <td>ACF&amp;PACF</td>\n",
       "    </tr>\n",
       "    <tr>\n",
       "      <th>2</th>\n",
       "      <td>2</td>\n",
       "      <td>0.979592</td>\n",
       "      <td>0.057691</td>\n",
       "      <td>0.006401</td>\n",
       "      <td>0.018758</td>\n",
       "      <td>0.027166</td>\n",
       "      <td>0.004895</td>\n",
       "      <td>Chinatown</td>\n",
       "      <td>ACF&amp;PACF: n_random_points= (lenthg ts)//2 nb_i...</td>\n",
       "      <td>(lenthg ts)//2</td>\n",
       "      <td>(max instances per class)//2</td>\n",
       "      <td>Rsast</td>\n",
       "      <td>ACF&amp;PACF</td>\n",
       "    </tr>\n",
       "  </tbody>\n",
       "</table>\n",
       "</div>"
      ],
      "text/plain": [
       "   Unnamed: 0  accuracy      time  cweights_time  fsubsequence_time  \\\n",
       "0           0  0.892128  1.335019       0.075827           0.899491   \n",
       "1           1  0.950437  0.037333       0.017771           0.005390   \n",
       "2           2  0.979592  0.057691       0.006401           0.018758   \n",
       "\n",
       "   tdataset_time  tclassifier_time dataset_name  \\\n",
       "0       0.074784          0.203656    Chinatown   \n",
       "1       0.010186          0.003520    Chinatown   \n",
       "2       0.027166          0.004895    Chinatown   \n",
       "\n",
       "                                     classifier_name          rpoint  \\\n",
       "0  ACF&PACF: n_random_points=1 nb_inst_per_class=...               1   \n",
       "1  ACF&PACF: n_random_points= (lenthg ts)//2 nb_i...  (lenthg ts)//2   \n",
       "2  ACF&PACF: n_random_points= (lenthg ts)//2 nb_i...  (lenthg ts)//2   \n",
       "\n",
       "                   nb_per_class method len_method  \n",
       "0  (max instances per class)//2  Rsast   ACF&PACF  \n",
       "1                             1  Rsast   ACF&PACF  \n",
       "2  (max instances per class)//2  Rsast   ACF&PACF  "
      ]
     },
     "execution_count": 40,
     "metadata": {},
     "output_type": "execute_result"
    }
   ],
   "source": [
    "# Set directory where the csv files are located\n",
    "directory = os.getcwd()+'/ResultsRsast'\n",
    "#directory = os.getcwd()+'/results_accuracy_per_ds'\n",
    "\n",
    "# Create an empty list to store the dataframes\n",
    "dfs = []\n",
    "\n",
    "# Loop through all files in the directory\n",
    "for filename in os.listdir(directory):\n",
    "    # Check if the file starts with \"df_overall_tunning\" and ends with \".csv\"\n",
    "    if filename.startswith(\"df_overall_tunning\") and filename.endswith(\".csv\"):\n",
    "        # Read the csv file into a dataframe\n",
    "        filepath = os.path.join(directory, filename)\n",
    "        df = pd.read_csv(filepath)\n",
    "        df['rpoint']=df['rpoint'].astype(str)\n",
    "        df['nb_per_class']=df['nb_per_class'].astype(str)\n",
    "\n",
    "        \n",
    "        # Append the dataframe to the list\n",
    "        dfs.append(df)\n",
    "\n",
    "# Concatenate all the dataframes in the list into one dataframe\n",
    "df_result = pd.concat(dfs, ignore_index=True)\n",
    "df_result.head(3)\n"
   ]
  },
  {
   "cell_type": "code",
   "execution_count": 41,
   "metadata": {},
   "outputs": [],
   "source": [
    "#create dataset to generate cd diagram\n",
    "df_perf=pd.pivot_table(df_result, values='accuracy', index=['classifier_name','dataset_name'], aggfunc='mean')\n",
    "df_perf=df_perf.reset_index()\n",
    "#df_perf.classifier_name.unique()"
   ]
  },
  {
   "cell_type": "code",
   "execution_count": 42,
   "metadata": {},
   "outputs": [
    {
     "data": {
      "text/plain": [
       "array(['Chinatown', 'Coffee', 'DistalPhalanxOutlineAgeGroup', 'GunPoint',\n",
       "       'ItalyPowerDemand', 'SmoothSubspace', 'SonyAIBORobotSurface2',\n",
       "       'SyntheticControl'], dtype=object)"
      ]
     },
     "execution_count": 42,
     "metadata": {},
     "output_type": "execute_result"
    }
   ],
   "source": [
    "param_per_ds=pd.pivot_table(df_perf, index=['dataset_name'],values=['classifier_name'] ,aggfunc='count')\n",
    "param_per_ds=param_per_ds.reset_index()\n",
    "complete_ds=param_per_ds[param_per_ds.classifier_name==max(param_per_ds.classifier_name)][\"dataset_name\"].unique()\n",
    "\n",
    "df_perf=df_perf[df_perf.dataset_name.isin(complete_ds)]\n",
    "df_result=df_result[df_result.dataset_name.isin(complete_ds)]\n",
    "df_perf.dataset_name.unique()"
   ]
  },
  {
   "cell_type": "code",
   "execution_count": 43,
   "metadata": {},
   "outputs": [
    {
     "data": {
      "text/plain": [
       "array(['Chinatown', 'Coffee', 'DistalPhalanxOutlineAgeGroup', 'GunPoint',\n",
       "       'ItalyPowerDemand', 'SmoothSubspace', 'SonyAIBORobotSurface2',\n",
       "       'SyntheticControl'], dtype=object)"
      ]
     },
     "execution_count": 43,
     "metadata": {},
     "output_type": "execute_result"
    }
   ],
   "source": [
    "#df_result=pd.read_csv(\"df_overall_tunning_SmoothSubspace3.csv\")\n",
    "\n",
    "df_result['dataset_name'].unique()\n"
   ]
  },
  {
   "cell_type": "code",
   "execution_count": 44,
   "metadata": {},
   "outputs": [
    {
     "data": {
      "text/plain": [
       "Index(['Unnamed: 0', 'accuracy', 'time', 'cweights_time', 'fsubsequence_time',\n",
       "       'tdataset_time', 'tclassifier_time', 'dataset_name', 'classifier_name',\n",
       "       'rpoint', 'nb_per_class', 'method', 'len_method'],\n",
       "      dtype='object')"
      ]
     },
     "execution_count": 44,
     "metadata": {},
     "output_type": "execute_result"
    }
   ],
   "source": [
    "df_result.columns.unique()"
   ]
  },
  {
   "attachments": {},
   "cell_type": "markdown",
   "metadata": {},
   "source": [
    "### Hyperparameter Tunning RSAST "
   ]
  },
  {
   "attachments": {},
   "cell_type": "markdown",
   "metadata": {},
   "source": [
    "#### Accuracy: Subsequence Lenght Method "
   ]
  },
  {
   "cell_type": "code",
   "execution_count": 45,
   "metadata": {},
   "outputs": [
    {
     "data": {
      "text/plain": [
       "array(['(lenthg ts)//2'], dtype=object)"
      ]
     },
     "execution_count": 45,
     "metadata": {},
     "output_type": "execute_result"
    }
   ],
   "source": [
    "\n",
    "filter_param=df_result[df_result.rpoint=='(lenthg ts)//2']\n",
    "filter_param.rpoint.unique()"
   ]
  },
  {
   "cell_type": "code",
   "execution_count": 46,
   "metadata": {},
   "outputs": [
    {
     "data": {
      "text/plain": [
       "array(['(max instances per class)//2'], dtype=object)"
      ]
     },
     "execution_count": 46,
     "metadata": {},
     "output_type": "execute_result"
    }
   ],
   "source": [
    "\n",
    "filter_param=filter_param[filter_param.nb_per_class=='(max instances per class)//2']\n",
    "filter_param.nb_per_class.unique()"
   ]
  },
  {
   "cell_type": "code",
   "execution_count": 47,
   "metadata": {},
   "outputs": [
    {
     "data": {
      "text/html": [
       "<div>\n",
       "<style scoped>\n",
       "    .dataframe tbody tr th:only-of-type {\n",
       "        vertical-align: middle;\n",
       "    }\n",
       "\n",
       "    .dataframe tbody tr th {\n",
       "        vertical-align: top;\n",
       "    }\n",
       "\n",
       "    .dataframe thead th {\n",
       "        text-align: right;\n",
       "    }\n",
       "</style>\n",
       "<table border=\"1\" class=\"dataframe\">\n",
       "  <thead>\n",
       "    <tr style=\"text-align: right;\">\n",
       "      <th></th>\n",
       "      <th>dataset_name</th>\n",
       "      <th>ACF</th>\n",
       "      <th>ACF&amp;PACF</th>\n",
       "      <th>Max ACF</th>\n",
       "      <th>Max PACF</th>\n",
       "      <th>None</th>\n",
       "      <th>PACF</th>\n",
       "      <th>score</th>\n",
       "      <th>method</th>\n",
       "    </tr>\n",
       "  </thead>\n",
       "  <tbody>\n",
       "    <tr>\n",
       "      <th>0</th>\n",
       "      <td>Chinatown</td>\n",
       "      <td>0.945578</td>\n",
       "      <td>0.971817</td>\n",
       "      <td>0.958017</td>\n",
       "      <td>0.971623</td>\n",
       "      <td>0.966375</td>\n",
       "      <td>0.974927</td>\n",
       "      <td>0.982507</td>\n",
       "      <td>ROCKET</td>\n",
       "    </tr>\n",
       "    <tr>\n",
       "      <th>1</th>\n",
       "      <td>Coffee</td>\n",
       "      <td>0.964286</td>\n",
       "      <td>1.000000</td>\n",
       "      <td>0.978571</td>\n",
       "      <td>0.935714</td>\n",
       "      <td>1.000000</td>\n",
       "      <td>1.000000</td>\n",
       "      <td>1.000000</td>\n",
       "      <td>ROCKET</td>\n",
       "    </tr>\n",
       "    <tr>\n",
       "      <th>2</th>\n",
       "      <td>DistalPhalanxOutlineAgeGroup</td>\n",
       "      <td>0.734772</td>\n",
       "      <td>0.724700</td>\n",
       "      <td>0.773621</td>\n",
       "      <td>0.729017</td>\n",
       "      <td>0.729496</td>\n",
       "      <td>0.717506</td>\n",
       "      <td>0.748201</td>\n",
       "      <td>ROCKET</td>\n",
       "    </tr>\n",
       "    <tr>\n",
       "      <th>3</th>\n",
       "      <td>GunPoint</td>\n",
       "      <td>0.830222</td>\n",
       "      <td>0.976000</td>\n",
       "      <td>0.845778</td>\n",
       "      <td>0.972444</td>\n",
       "      <td>0.965778</td>\n",
       "      <td>0.974667</td>\n",
       "      <td>1.000000</td>\n",
       "      <td>ROCKET</td>\n",
       "    </tr>\n",
       "    <tr>\n",
       "      <th>4</th>\n",
       "      <td>ItalyPowerDemand</td>\n",
       "      <td>0.949660</td>\n",
       "      <td>0.946615</td>\n",
       "      <td>0.952705</td>\n",
       "      <td>0.944866</td>\n",
       "      <td>0.951668</td>\n",
       "      <td>0.944866</td>\n",
       "      <td>0.968902</td>\n",
       "      <td>ROCKET</td>\n",
       "    </tr>\n",
       "    <tr>\n",
       "      <th>5</th>\n",
       "      <td>SmoothSubspace</td>\n",
       "      <td>0.870222</td>\n",
       "      <td>0.910667</td>\n",
       "      <td>0.879556</td>\n",
       "      <td>0.896889</td>\n",
       "      <td>0.876000</td>\n",
       "      <td>0.908889</td>\n",
       "      <td>0.980000</td>\n",
       "      <td>ROCKET</td>\n",
       "    </tr>\n",
       "    <tr>\n",
       "      <th>6</th>\n",
       "      <td>SonyAIBORobotSurface2</td>\n",
       "      <td>0.751242</td>\n",
       "      <td>0.899685</td>\n",
       "      <td>0.756348</td>\n",
       "      <td>0.866387</td>\n",
       "      <td>0.837356</td>\n",
       "      <td>0.893319</td>\n",
       "      <td>0.916055</td>\n",
       "      <td>ROCKET</td>\n",
       "    </tr>\n",
       "    <tr>\n",
       "      <th>7</th>\n",
       "      <td>SyntheticControl</td>\n",
       "      <td>0.920000</td>\n",
       "      <td>0.967333</td>\n",
       "      <td>0.896000</td>\n",
       "      <td>0.963333</td>\n",
       "      <td>0.981333</td>\n",
       "      <td>0.966667</td>\n",
       "      <td>1.000000</td>\n",
       "      <td>ROCKET</td>\n",
       "    </tr>\n",
       "  </tbody>\n",
       "</table>\n",
       "</div>"
      ],
      "text/plain": [
       "                   dataset_name       ACF  ACF&PACF   Max ACF  Max PACF  \\\n",
       "0                     Chinatown  0.945578  0.971817  0.958017  0.971623   \n",
       "1                        Coffee  0.964286  1.000000  0.978571  0.935714   \n",
       "2  DistalPhalanxOutlineAgeGroup  0.734772  0.724700  0.773621  0.729017   \n",
       "3                      GunPoint  0.830222  0.976000  0.845778  0.972444   \n",
       "4              ItalyPowerDemand  0.949660  0.946615  0.952705  0.944866   \n",
       "5                SmoothSubspace  0.870222  0.910667  0.879556  0.896889   \n",
       "6         SonyAIBORobotSurface2  0.751242  0.899685  0.756348  0.866387   \n",
       "7              SyntheticControl  0.920000  0.967333  0.896000  0.963333   \n",
       "\n",
       "       None      PACF     score  method  \n",
       "0  0.966375  0.974927  0.982507  ROCKET  \n",
       "1  1.000000  1.000000  1.000000  ROCKET  \n",
       "2  0.729496  0.717506  0.748201  ROCKET  \n",
       "3  0.965778  0.974667  1.000000  ROCKET  \n",
       "4  0.951668  0.944866  0.968902  ROCKET  \n",
       "5  0.876000  0.908889  0.980000  ROCKET  \n",
       "6  0.837356  0.893319  0.916055  ROCKET  \n",
       "7  0.981333  0.966667  1.000000  ROCKET  "
      ]
     },
     "execution_count": 47,
     "metadata": {},
     "output_type": "execute_result"
    }
   ],
   "source": [
    "# create a pivot table with the mean of score by dataset\n",
    "\n",
    "len_method_vs_ds=pd.pivot_table(filter_param, values='accuracy', index=['len_method'],columns=['dataset_name'], aggfunc='mean')\n",
    "len_method_vs_ds=np.transpose(len_method_vs_ds)#[['ACF','PACF']]\n",
    "len_method_vs_ds=len_method_vs_ds.reset_index()\n",
    "df_rocket=df_other_methods[df_other_methods[\"method\"]==\"ROCKET\"]\n",
    "merged_df = len_method_vs_ds.merge(df_rocket,left_on='dataset_name', right_on='dataset',  how='left')\n",
    "merged_df=merged_df.drop('dataset',axis=1)\n",
    "merged_df"
   ]
  },
  {
   "cell_type": "code",
   "execution_count": 48,
   "metadata": {},
   "outputs": [
    {
     "data": {
      "text/html": [
       "<div>\n",
       "<style scoped>\n",
       "    .dataframe tbody tr th:only-of-type {\n",
       "        vertical-align: middle;\n",
       "    }\n",
       "\n",
       "    .dataframe tbody tr th {\n",
       "        vertical-align: top;\n",
       "    }\n",
       "\n",
       "    .dataframe thead th {\n",
       "        text-align: right;\n",
       "    }\n",
       "</style>\n",
       "<table border=\"1\" class=\"dataframe\">\n",
       "  <thead>\n",
       "    <tr style=\"text-align: right;\">\n",
       "      <th>len_method</th>\n",
       "      <th>dataset_name</th>\n",
       "      <th>ACF</th>\n",
       "      <th>ACF&amp;PACF</th>\n",
       "      <th>Max ACF</th>\n",
       "      <th>Max PACF</th>\n",
       "      <th>None</th>\n",
       "      <th>PACF</th>\n",
       "    </tr>\n",
       "  </thead>\n",
       "  <tbody>\n",
       "    <tr>\n",
       "      <th>0</th>\n",
       "      <td>Chinatown</td>\n",
       "      <td>0.000856</td>\n",
       "      <td>0.000100</td>\n",
       "      <td>0.000323</td>\n",
       "      <td>0.000162</td>\n",
       "      <td>0.000167</td>\n",
       "      <td>0.000062</td>\n",
       "    </tr>\n",
       "    <tr>\n",
       "      <th>1</th>\n",
       "      <td>Coffee</td>\n",
       "      <td>0.000000</td>\n",
       "      <td>0.000000</td>\n",
       "      <td>0.000383</td>\n",
       "      <td>0.000255</td>\n",
       "      <td>0.000000</td>\n",
       "      <td>0.000000</td>\n",
       "    </tr>\n",
       "    <tr>\n",
       "      <th>2</th>\n",
       "      <td>DistalPhalanxOutlineAgeGroup</td>\n",
       "      <td>0.000361</td>\n",
       "      <td>0.000144</td>\n",
       "      <td>0.000324</td>\n",
       "      <td>0.000175</td>\n",
       "      <td>0.000316</td>\n",
       "      <td>0.000203</td>\n",
       "    </tr>\n",
       "    <tr>\n",
       "      <th>3</th>\n",
       "      <td>GunPoint</td>\n",
       "      <td>0.000526</td>\n",
       "      <td>0.000088</td>\n",
       "      <td>0.000234</td>\n",
       "      <td>0.000050</td>\n",
       "      <td>0.000145</td>\n",
       "      <td>0.000097</td>\n",
       "    </tr>\n",
       "    <tr>\n",
       "      <th>4</th>\n",
       "      <td>ItalyPowerDemand</td>\n",
       "      <td>0.000109</td>\n",
       "      <td>0.000015</td>\n",
       "      <td>0.000055</td>\n",
       "      <td>0.000051</td>\n",
       "      <td>0.000029</td>\n",
       "      <td>0.000038</td>\n",
       "    </tr>\n",
       "    <tr>\n",
       "      <th>5</th>\n",
       "      <td>SmoothSubspace</td>\n",
       "      <td>0.001110</td>\n",
       "      <td>0.000316</td>\n",
       "      <td>0.000187</td>\n",
       "      <td>0.000266</td>\n",
       "      <td>0.001008</td>\n",
       "      <td>0.000341</td>\n",
       "    </tr>\n",
       "    <tr>\n",
       "      <th>6</th>\n",
       "      <td>SonyAIBORobotSurface2</td>\n",
       "      <td>0.004930</td>\n",
       "      <td>0.000157</td>\n",
       "      <td>0.003355</td>\n",
       "      <td>0.000337</td>\n",
       "      <td>0.001183</td>\n",
       "      <td>0.000283</td>\n",
       "    </tr>\n",
       "    <tr>\n",
       "      <th>7</th>\n",
       "      <td>SyntheticControl</td>\n",
       "      <td>0.000572</td>\n",
       "      <td>0.000013</td>\n",
       "      <td>0.000136</td>\n",
       "      <td>0.000039</td>\n",
       "      <td>0.000048</td>\n",
       "      <td>0.000017</td>\n",
       "    </tr>\n",
       "  </tbody>\n",
       "</table>\n",
       "</div>"
      ],
      "text/plain": [
       "len_method                  dataset_name       ACF  ACF&PACF   Max ACF  \\\n",
       "0                              Chinatown  0.000856  0.000100  0.000323   \n",
       "1                                 Coffee  0.000000  0.000000  0.000383   \n",
       "2           DistalPhalanxOutlineAgeGroup  0.000361  0.000144  0.000324   \n",
       "3                               GunPoint  0.000526  0.000088  0.000234   \n",
       "4                       ItalyPowerDemand  0.000109  0.000015  0.000055   \n",
       "5                         SmoothSubspace  0.001110  0.000316  0.000187   \n",
       "6                  SonyAIBORobotSurface2  0.004930  0.000157  0.003355   \n",
       "7                       SyntheticControl  0.000572  0.000013  0.000136   \n",
       "\n",
       "len_method  Max PACF      None      PACF  \n",
       "0           0.000162  0.000167  0.000062  \n",
       "1           0.000255  0.000000  0.000000  \n",
       "2           0.000175  0.000316  0.000203  \n",
       "3           0.000050  0.000145  0.000097  \n",
       "4           0.000051  0.000029  0.000038  \n",
       "5           0.000266  0.001008  0.000341  \n",
       "6           0.000337  0.001183  0.000283  \n",
       "7           0.000039  0.000048  0.000017  "
      ]
     },
     "execution_count": 48,
     "metadata": {},
     "output_type": "execute_result"
    }
   ],
   "source": [
    "len_method_vs_ds=pd.pivot_table(filter_param, values='accuracy', index=['len_method'],columns=['dataset_name'], aggfunc='var')\n",
    "len_method_vs_ds=np.transpose(len_method_vs_ds)#[['ACF','PACF']]\n",
    "len_method_vs_ds=len_method_vs_ds.reset_index()\n",
    "len_method_vs_ds"
   ]
  },
  {
   "cell_type": "code",
   "execution_count": 49,
   "metadata": {},
   "outputs": [
    {
     "data": {
      "text/html": [
       "<div>\n",
       "<style scoped>\n",
       "    .dataframe tbody tr th:only-of-type {\n",
       "        vertical-align: middle;\n",
       "    }\n",
       "\n",
       "    .dataframe tbody tr th {\n",
       "        vertical-align: top;\n",
       "    }\n",
       "\n",
       "    .dataframe thead th {\n",
       "        text-align: right;\n",
       "    }\n",
       "</style>\n",
       "<table border=\"1\" class=\"dataframe\">\n",
       "  <thead>\n",
       "    <tr style=\"text-align: right;\">\n",
       "      <th>rpoint</th>\n",
       "      <th>(lenthg ts)//2</th>\n",
       "      <th>1</th>\n",
       "      <th>10</th>\n",
       "      <th>100</th>\n",
       "      <th>30</th>\n",
       "      <th>50</th>\n",
       "    </tr>\n",
       "    <tr>\n",
       "      <th>len_method</th>\n",
       "      <th></th>\n",
       "      <th></th>\n",
       "      <th></th>\n",
       "      <th></th>\n",
       "      <th></th>\n",
       "      <th></th>\n",
       "    </tr>\n",
       "  </thead>\n",
       "  <tbody>\n",
       "    <tr>\n",
       "      <th>ACF</th>\n",
       "      <td>0.853704</td>\n",
       "      <td>0.778435</td>\n",
       "      <td>0.837692</td>\n",
       "      <td>0.859550</td>\n",
       "      <td>0.853497</td>\n",
       "      <td>0.852777</td>\n",
       "    </tr>\n",
       "    <tr>\n",
       "      <th>ACF&amp;PACF</th>\n",
       "      <td>0.909863</td>\n",
       "      <td>0.880221</td>\n",
       "      <td>0.905329</td>\n",
       "      <td>0.910962</td>\n",
       "      <td>0.909766</td>\n",
       "      <td>0.909838</td>\n",
       "    </tr>\n",
       "    <tr>\n",
       "      <th>Max ACF</th>\n",
       "      <td>0.864338</td>\n",
       "      <td>0.791108</td>\n",
       "      <td>0.836910</td>\n",
       "      <td>0.865115</td>\n",
       "      <td>0.853144</td>\n",
       "      <td>0.862739</td>\n",
       "    </tr>\n",
       "    <tr>\n",
       "      <th>Max PACF</th>\n",
       "      <td>0.899804</td>\n",
       "      <td>0.852826</td>\n",
       "      <td>0.901013</td>\n",
       "      <td>0.897054</td>\n",
       "      <td>0.899552</td>\n",
       "      <td>0.898599</td>\n",
       "    </tr>\n",
       "    <tr>\n",
       "      <th>None</th>\n",
       "      <td>0.892311</td>\n",
       "      <td>0.851442</td>\n",
       "      <td>0.890546</td>\n",
       "      <td>0.891022</td>\n",
       "      <td>0.887222</td>\n",
       "      <td>0.893171</td>\n",
       "    </tr>\n",
       "    <tr>\n",
       "      <th>PACF</th>\n",
       "      <td>0.908166</td>\n",
       "      <td>0.883419</td>\n",
       "      <td>0.904938</td>\n",
       "      <td>0.908277</td>\n",
       "      <td>0.909211</td>\n",
       "      <td>0.909048</td>\n",
       "    </tr>\n",
       "  </tbody>\n",
       "</table>\n",
       "</div>"
      ],
      "text/plain": [
       "rpoint      (lenthg ts)//2         1        10       100        30        50\n",
       "len_method                                                                  \n",
       "ACF               0.853704  0.778435  0.837692  0.859550  0.853497  0.852777\n",
       "ACF&PACF          0.909863  0.880221  0.905329  0.910962  0.909766  0.909838\n",
       "Max ACF           0.864338  0.791108  0.836910  0.865115  0.853144  0.862739\n",
       "Max PACF          0.899804  0.852826  0.901013  0.897054  0.899552  0.898599\n",
       "None              0.892311  0.851442  0.890546  0.891022  0.887222  0.893171\n",
       "PACF              0.908166  0.883419  0.904938  0.908277  0.909211  0.909048"
      ]
     },
     "execution_count": 49,
     "metadata": {},
     "output_type": "execute_result"
    }
   ],
   "source": [
    "# create a pivot table with the mean of score by number of random points\n",
    "pd.pivot_table(df_result, values='accuracy', index=['len_method'],columns=['rpoint'], aggfunc='mean')"
   ]
  },
  {
   "cell_type": "code",
   "execution_count": 50,
   "metadata": {},
   "outputs": [
    {
     "data": {
      "text/html": [
       "<div>\n",
       "<style scoped>\n",
       "    .dataframe tbody tr th:only-of-type {\n",
       "        vertical-align: middle;\n",
       "    }\n",
       "\n",
       "    .dataframe tbody tr th {\n",
       "        vertical-align: top;\n",
       "    }\n",
       "\n",
       "    .dataframe thead th {\n",
       "        text-align: right;\n",
       "    }\n",
       "</style>\n",
       "<table border=\"1\" class=\"dataframe\">\n",
       "  <thead>\n",
       "    <tr style=\"text-align: right;\">\n",
       "      <th>nb_per_class</th>\n",
       "      <th>(max instances per class)//2</th>\n",
       "      <th>1</th>\n",
       "      <th>10</th>\n",
       "      <th>100</th>\n",
       "      <th>30</th>\n",
       "      <th>50</th>\n",
       "    </tr>\n",
       "    <tr>\n",
       "      <th>len_method</th>\n",
       "      <th></th>\n",
       "      <th></th>\n",
       "      <th></th>\n",
       "      <th></th>\n",
       "      <th></th>\n",
       "      <th></th>\n",
       "    </tr>\n",
       "  </thead>\n",
       "  <tbody>\n",
       "    <tr>\n",
       "      <th>ACF</th>\n",
       "      <td>0.852277</td>\n",
       "      <td>0.747302</td>\n",
       "      <td>0.839994</td>\n",
       "      <td>0.869009</td>\n",
       "      <td>0.861734</td>\n",
       "      <td>0.866291</td>\n",
       "    </tr>\n",
       "    <tr>\n",
       "      <th>ACF&amp;PACF</th>\n",
       "      <td>0.912432</td>\n",
       "      <td>0.860737</td>\n",
       "      <td>0.902135</td>\n",
       "      <td>0.916448</td>\n",
       "      <td>0.916225</td>\n",
       "      <td>0.916289</td>\n",
       "    </tr>\n",
       "    <tr>\n",
       "      <th>Max ACF</th>\n",
       "      <td>0.860661</td>\n",
       "      <td>0.751721</td>\n",
       "      <td>0.847705</td>\n",
       "      <td>0.873397</td>\n",
       "      <td>0.869955</td>\n",
       "      <td>0.872364</td>\n",
       "    </tr>\n",
       "    <tr>\n",
       "      <th>Max PACF</th>\n",
       "      <td>0.900721</td>\n",
       "      <td>0.839823</td>\n",
       "      <td>0.896846</td>\n",
       "      <td>0.900232</td>\n",
       "      <td>0.906379</td>\n",
       "      <td>0.904235</td>\n",
       "    </tr>\n",
       "    <tr>\n",
       "      <th>None</th>\n",
       "      <td>0.895266</td>\n",
       "      <td>0.813522</td>\n",
       "      <td>0.889489</td>\n",
       "      <td>0.900719</td>\n",
       "      <td>0.903773</td>\n",
       "      <td>0.900976</td>\n",
       "    </tr>\n",
       "    <tr>\n",
       "      <th>PACF</th>\n",
       "      <td>0.910053</td>\n",
       "      <td>0.869073</td>\n",
       "      <td>0.903005</td>\n",
       "      <td>0.913345</td>\n",
       "      <td>0.911645</td>\n",
       "      <td>0.914681</td>\n",
       "    </tr>\n",
       "  </tbody>\n",
       "</table>\n",
       "</div>"
      ],
      "text/plain": [
       "nb_per_class  (max instances per class)//2         1        10       100  \\\n",
       "len_method                                                                 \n",
       "ACF                               0.852277  0.747302  0.839994  0.869009   \n",
       "ACF&PACF                          0.912432  0.860737  0.902135  0.916448   \n",
       "Max ACF                           0.860661  0.751721  0.847705  0.873397   \n",
       "Max PACF                          0.900721  0.839823  0.896846  0.900232   \n",
       "None                              0.895266  0.813522  0.889489  0.900719   \n",
       "PACF                              0.910053  0.869073  0.903005  0.913345   \n",
       "\n",
       "nb_per_class        30        50  \n",
       "len_method                        \n",
       "ACF           0.861734  0.866291  \n",
       "ACF&PACF      0.916225  0.916289  \n",
       "Max ACF       0.869955  0.872364  \n",
       "Max PACF      0.906379  0.904235  \n",
       "None          0.903773  0.900976  \n",
       "PACF          0.911645  0.914681  "
      ]
     },
     "execution_count": 50,
     "metadata": {},
     "output_type": "execute_result"
    }
   ],
   "source": [
    "# create a pivot table with the mean of score by number of instances per class\n",
    "pd.pivot_table(df_result, values='accuracy', index=['len_method'],columns=['nb_per_class'], aggfunc='mean')"
   ]
  },
  {
   "attachments": {},
   "cell_type": "markdown",
   "metadata": {},
   "source": [
    "#### Time: Subsequence Lenght Method "
   ]
  },
  {
   "cell_type": "code",
   "execution_count": 51,
   "metadata": {},
   "outputs": [
    {
     "data": {
      "text/html": [
       "<div>\n",
       "<style scoped>\n",
       "    .dataframe tbody tr th:only-of-type {\n",
       "        vertical-align: middle;\n",
       "    }\n",
       "\n",
       "    .dataframe tbody tr th {\n",
       "        vertical-align: top;\n",
       "    }\n",
       "\n",
       "    .dataframe thead th {\n",
       "        text-align: right;\n",
       "    }\n",
       "</style>\n",
       "<table border=\"1\" class=\"dataframe\">\n",
       "  <thead>\n",
       "    <tr style=\"text-align: right;\">\n",
       "      <th>dataset_name</th>\n",
       "      <th>Chinatown</th>\n",
       "      <th>Coffee</th>\n",
       "      <th>DistalPhalanxOutlineAgeGroup</th>\n",
       "      <th>GunPoint</th>\n",
       "      <th>ItalyPowerDemand</th>\n",
       "      <th>SmoothSubspace</th>\n",
       "      <th>SonyAIBORobotSurface2</th>\n",
       "      <th>SyntheticControl</th>\n",
       "    </tr>\n",
       "    <tr>\n",
       "      <th>len_method</th>\n",
       "      <th></th>\n",
       "      <th></th>\n",
       "      <th></th>\n",
       "      <th></th>\n",
       "      <th></th>\n",
       "      <th></th>\n",
       "      <th></th>\n",
       "      <th></th>\n",
       "    </tr>\n",
       "  </thead>\n",
       "  <tbody>\n",
       "    <tr>\n",
       "      <th>ACF</th>\n",
       "      <td>0.073226</td>\n",
       "      <td>41.772693</td>\n",
       "      <td>151.661253</td>\n",
       "      <td>37.041264</td>\n",
       "      <td>0.353901</td>\n",
       "      <td>0.561044</td>\n",
       "      <td>0.700003</td>\n",
       "      <td>81.701994</td>\n",
       "    </tr>\n",
       "    <tr>\n",
       "      <th>ACF&amp;PACF</th>\n",
       "      <td>0.156653</td>\n",
       "      <td>134.427490</td>\n",
       "      <td>411.991204</td>\n",
       "      <td>71.945396</td>\n",
       "      <td>0.729001</td>\n",
       "      <td>0.930945</td>\n",
       "      <td>2.032898</td>\n",
       "      <td>198.457047</td>\n",
       "    </tr>\n",
       "    <tr>\n",
       "      <th>Max ACF</th>\n",
       "      <td>0.076082</td>\n",
       "      <td>3.028503</td>\n",
       "      <td>54.085258</td>\n",
       "      <td>4.165960</td>\n",
       "      <td>0.361998</td>\n",
       "      <td>0.565765</td>\n",
       "      <td>0.548111</td>\n",
       "      <td>28.897669</td>\n",
       "    </tr>\n",
       "    <tr>\n",
       "      <th>Max PACF</th>\n",
       "      <td>0.069733</td>\n",
       "      <td>6.288893</td>\n",
       "      <td>27.972717</td>\n",
       "      <td>4.032023</td>\n",
       "      <td>0.387409</td>\n",
       "      <td>0.639174</td>\n",
       "      <td>0.413045</td>\n",
       "      <td>16.967036</td>\n",
       "    </tr>\n",
       "    <tr>\n",
       "      <th>None</th>\n",
       "      <td>0.054860</td>\n",
       "      <td>1.243746</td>\n",
       "      <td>25.488523</td>\n",
       "      <td>2.376824</td>\n",
       "      <td>0.331860</td>\n",
       "      <td>0.523768</td>\n",
       "      <td>0.305284</td>\n",
       "      <td>15.313601</td>\n",
       "    </tr>\n",
       "    <tr>\n",
       "      <th>PACF</th>\n",
       "      <td>0.106152</td>\n",
       "      <td>103.524388</td>\n",
       "      <td>290.194187</td>\n",
       "      <td>47.107583</td>\n",
       "      <td>0.711325</td>\n",
       "      <td>0.843548</td>\n",
       "      <td>1.655537</td>\n",
       "      <td>153.311054</td>\n",
       "    </tr>\n",
       "  </tbody>\n",
       "</table>\n",
       "</div>"
      ],
      "text/plain": [
       "dataset_name  Chinatown      Coffee  DistalPhalanxOutlineAgeGroup   GunPoint  \\\n",
       "len_method                                                                     \n",
       "ACF            0.073226   41.772693                    151.661253  37.041264   \n",
       "ACF&PACF       0.156653  134.427490                    411.991204  71.945396   \n",
       "Max ACF        0.076082    3.028503                     54.085258   4.165960   \n",
       "Max PACF       0.069733    6.288893                     27.972717   4.032023   \n",
       "None           0.054860    1.243746                     25.488523   2.376824   \n",
       "PACF           0.106152  103.524388                    290.194187  47.107583   \n",
       "\n",
       "dataset_name  ItalyPowerDemand  SmoothSubspace  SonyAIBORobotSurface2  \\\n",
       "len_method                                                              \n",
       "ACF                   0.353901        0.561044               0.700003   \n",
       "ACF&PACF              0.729001        0.930945               2.032898   \n",
       "Max ACF               0.361998        0.565765               0.548111   \n",
       "Max PACF              0.387409        0.639174               0.413045   \n",
       "None                  0.331860        0.523768               0.305284   \n",
       "PACF                  0.711325        0.843548               1.655537   \n",
       "\n",
       "dataset_name  SyntheticControl  \n",
       "len_method                      \n",
       "ACF                  81.701994  \n",
       "ACF&PACF            198.457047  \n",
       "Max ACF              28.897669  \n",
       "Max PACF             16.967036  \n",
       "None                 15.313601  \n",
       "PACF                153.311054  "
      ]
     },
     "execution_count": 51,
     "metadata": {},
     "output_type": "execute_result"
    }
   ],
   "source": [
    "# create a pivot table with the mean of the time by dataset\n",
    "pd.pivot_table(df_result, values='time', index=['len_method'],columns=['dataset_name'], aggfunc='mean')"
   ]
  },
  {
   "cell_type": "code",
   "execution_count": 52,
   "metadata": {},
   "outputs": [
    {
     "data": {
      "text/html": [
       "<div>\n",
       "<style scoped>\n",
       "    .dataframe tbody tr th:only-of-type {\n",
       "        vertical-align: middle;\n",
       "    }\n",
       "\n",
       "    .dataframe tbody tr th {\n",
       "        vertical-align: top;\n",
       "    }\n",
       "\n",
       "    .dataframe thead th {\n",
       "        text-align: right;\n",
       "    }\n",
       "</style>\n",
       "<table border=\"1\" class=\"dataframe\">\n",
       "  <thead>\n",
       "    <tr style=\"text-align: right;\">\n",
       "      <th>nb_per_class</th>\n",
       "      <th>(max instances per class)//2</th>\n",
       "      <th>1</th>\n",
       "      <th>10</th>\n",
       "      <th>100</th>\n",
       "      <th>30</th>\n",
       "      <th>50</th>\n",
       "    </tr>\n",
       "    <tr>\n",
       "      <th>len_method</th>\n",
       "      <th></th>\n",
       "      <th></th>\n",
       "      <th></th>\n",
       "      <th></th>\n",
       "      <th></th>\n",
       "      <th></th>\n",
       "    </tr>\n",
       "  </thead>\n",
       "  <tbody>\n",
       "    <tr>\n",
       "      <th>ACF</th>\n",
       "      <td>49.248066</td>\n",
       "      <td>2.065920</td>\n",
       "      <td>12.551974</td>\n",
       "      <td>60.105313</td>\n",
       "      <td>32.202674</td>\n",
       "      <td>42.542930</td>\n",
       "    </tr>\n",
       "    <tr>\n",
       "      <th>ACF&amp;PACF</th>\n",
       "      <td>132.092443</td>\n",
       "      <td>3.743905</td>\n",
       "      <td>31.707417</td>\n",
       "      <td>155.749101</td>\n",
       "      <td>79.898248</td>\n",
       "      <td>107.494867</td>\n",
       "    </tr>\n",
       "    <tr>\n",
       "      <th>Max ACF</th>\n",
       "      <td>15.406853</td>\n",
       "      <td>0.848845</td>\n",
       "      <td>3.528608</td>\n",
       "      <td>18.971306</td>\n",
       "      <td>8.873957</td>\n",
       "      <td>12.544427</td>\n",
       "    </tr>\n",
       "    <tr>\n",
       "      <th>Max PACF</th>\n",
       "      <td>9.135196</td>\n",
       "      <td>0.833218</td>\n",
       "      <td>2.442551</td>\n",
       "      <td>10.258583</td>\n",
       "      <td>5.365170</td>\n",
       "      <td>7.141228</td>\n",
       "    </tr>\n",
       "    <tr>\n",
       "      <th>None</th>\n",
       "      <td>7.584766</td>\n",
       "      <td>0.787730</td>\n",
       "      <td>1.826960</td>\n",
       "      <td>8.982832</td>\n",
       "      <td>4.388182</td>\n",
       "      <td>5.973253</td>\n",
       "    </tr>\n",
       "    <tr>\n",
       "      <th>PACF</th>\n",
       "      <td>94.975194</td>\n",
       "      <td>2.691102</td>\n",
       "      <td>22.203440</td>\n",
       "      <td>110.806881</td>\n",
       "      <td>56.174852</td>\n",
       "      <td>76.061881</td>\n",
       "    </tr>\n",
       "  </tbody>\n",
       "</table>\n",
       "</div>"
      ],
      "text/plain": [
       "nb_per_class  (max instances per class)//2         1         10         100  \\\n",
       "len_method                                                                    \n",
       "ACF                              49.248066  2.065920  12.551974   60.105313   \n",
       "ACF&PACF                        132.092443  3.743905  31.707417  155.749101   \n",
       "Max ACF                          15.406853  0.848845   3.528608   18.971306   \n",
       "Max PACF                          9.135196  0.833218   2.442551   10.258583   \n",
       "None                              7.584766  0.787730   1.826960    8.982832   \n",
       "PACF                             94.975194  2.691102  22.203440  110.806881   \n",
       "\n",
       "nb_per_class         30          50  \n",
       "len_method                           \n",
       "ACF           32.202674   42.542930  \n",
       "ACF&PACF      79.898248  107.494867  \n",
       "Max ACF        8.873957   12.544427  \n",
       "Max PACF       5.365170    7.141228  \n",
       "None           4.388182    5.973253  \n",
       "PACF          56.174852   76.061881  "
      ]
     },
     "execution_count": 52,
     "metadata": {},
     "output_type": "execute_result"
    }
   ],
   "source": [
    "# create a pivot table with the mean of the time by number of instances per class\n",
    "pd.pivot_table(df_result, values='time', index=['len_method'],columns=['nb_per_class'], aggfunc='mean')"
   ]
  },
  {
   "cell_type": "code",
   "execution_count": 53,
   "metadata": {},
   "outputs": [
    {
     "data": {
      "text/html": [
       "<div>\n",
       "<style scoped>\n",
       "    .dataframe tbody tr th:only-of-type {\n",
       "        vertical-align: middle;\n",
       "    }\n",
       "\n",
       "    .dataframe tbody tr th {\n",
       "        vertical-align: top;\n",
       "    }\n",
       "\n",
       "    .dataframe thead th {\n",
       "        text-align: right;\n",
       "    }\n",
       "</style>\n",
       "<table border=\"1\" class=\"dataframe\">\n",
       "  <thead>\n",
       "    <tr style=\"text-align: right;\">\n",
       "      <th>rpoint</th>\n",
       "      <th>(lenthg ts)//2</th>\n",
       "      <th>1</th>\n",
       "      <th>10</th>\n",
       "      <th>100</th>\n",
       "      <th>30</th>\n",
       "      <th>50</th>\n",
       "    </tr>\n",
       "    <tr>\n",
       "      <th>len_method</th>\n",
       "      <th></th>\n",
       "      <th></th>\n",
       "      <th></th>\n",
       "      <th></th>\n",
       "      <th></th>\n",
       "      <th></th>\n",
       "    </tr>\n",
       "  </thead>\n",
       "  <tbody>\n",
       "    <tr>\n",
       "      <th>ACF</th>\n",
       "      <td>46.127762</td>\n",
       "      <td>1.584537</td>\n",
       "      <td>9.348424</td>\n",
       "      <td>70.673232</td>\n",
       "      <td>27.284497</td>\n",
       "      <td>45.778627</td>\n",
       "    </tr>\n",
       "    <tr>\n",
       "      <th>ACF&amp;PACF</th>\n",
       "      <td>129.337362</td>\n",
       "      <td>4.134285</td>\n",
       "      <td>26.186833</td>\n",
       "      <td>156.501340</td>\n",
       "      <td>76.111523</td>\n",
       "      <td>120.251361</td>\n",
       "    </tr>\n",
       "    <tr>\n",
       "      <th>Max ACF</th>\n",
       "      <td>13.344738</td>\n",
       "      <td>0.868442</td>\n",
       "      <td>3.358362</td>\n",
       "      <td>20.920895</td>\n",
       "      <td>8.741030</td>\n",
       "      <td>14.315272</td>\n",
       "    </tr>\n",
       "    <tr>\n",
       "      <th>Max PACF</th>\n",
       "      <td>9.049460</td>\n",
       "      <td>1.350768</td>\n",
       "      <td>2.840182</td>\n",
       "      <td>8.164095</td>\n",
       "      <td>6.010496</td>\n",
       "      <td>7.818101</td>\n",
       "    </tr>\n",
       "    <tr>\n",
       "      <th>None</th>\n",
       "      <td>6.924661</td>\n",
       "      <td>0.760475</td>\n",
       "      <td>1.989226</td>\n",
       "      <td>8.489867</td>\n",
       "      <td>4.722618</td>\n",
       "      <td>7.096947</td>\n",
       "    </tr>\n",
       "    <tr>\n",
       "      <th>PACF</th>\n",
       "      <td>95.698235</td>\n",
       "      <td>2.908977</td>\n",
       "      <td>19.264268</td>\n",
       "      <td>102.921231</td>\n",
       "      <td>55.705996</td>\n",
       "      <td>85.932618</td>\n",
       "    </tr>\n",
       "  </tbody>\n",
       "</table>\n",
       "</div>"
      ],
      "text/plain": [
       "rpoint      (lenthg ts)//2         1         10         100         30  \\\n",
       "len_method                                                               \n",
       "ACF              46.127762  1.584537   9.348424   70.673232  27.284497   \n",
       "ACF&PACF        129.337362  4.134285  26.186833  156.501340  76.111523   \n",
       "Max ACF          13.344738  0.868442   3.358362   20.920895   8.741030   \n",
       "Max PACF          9.049460  1.350768   2.840182    8.164095   6.010496   \n",
       "None              6.924661  0.760475   1.989226    8.489867   4.722618   \n",
       "PACF             95.698235  2.908977  19.264268  102.921231  55.705996   \n",
       "\n",
       "rpoint              50  \n",
       "len_method              \n",
       "ACF          45.778627  \n",
       "ACF&PACF    120.251361  \n",
       "Max ACF      14.315272  \n",
       "Max PACF      7.818101  \n",
       "None          7.096947  \n",
       "PACF         85.932618  "
      ]
     },
     "execution_count": 53,
     "metadata": {},
     "output_type": "execute_result"
    }
   ],
   "source": [
    "# create a pivot table with the mean of the time by number of random points\n",
    "pd.pivot_table(df_result, values='time', index=['len_method'],columns=['rpoint'], aggfunc='mean')"
   ]
  },
  {
   "attachments": {},
   "cell_type": "markdown",
   "metadata": {},
   "source": [
    "#### Variance: Subsequence Lenght Method "
   ]
  },
  {
   "cell_type": "code",
   "execution_count": 54,
   "metadata": {},
   "outputs": [
    {
     "data": {
      "text/html": [
       "<div>\n",
       "<style scoped>\n",
       "    .dataframe tbody tr th:only-of-type {\n",
       "        vertical-align: middle;\n",
       "    }\n",
       "\n",
       "    .dataframe tbody tr th {\n",
       "        vertical-align: top;\n",
       "    }\n",
       "\n",
       "    .dataframe thead th {\n",
       "        text-align: right;\n",
       "    }\n",
       "</style>\n",
       "<table border=\"1\" class=\"dataframe\">\n",
       "  <thead>\n",
       "    <tr style=\"text-align: right;\">\n",
       "      <th>nb_per_class</th>\n",
       "      <th>(max instances per class)//2</th>\n",
       "      <th>1</th>\n",
       "      <th>10</th>\n",
       "      <th>100</th>\n",
       "      <th>30</th>\n",
       "      <th>50</th>\n",
       "    </tr>\n",
       "    <tr>\n",
       "      <th>len_method</th>\n",
       "      <th></th>\n",
       "      <th></th>\n",
       "      <th></th>\n",
       "      <th></th>\n",
       "      <th></th>\n",
       "      <th></th>\n",
       "    </tr>\n",
       "  </thead>\n",
       "  <tbody>\n",
       "    <tr>\n",
       "      <th>ACF</th>\n",
       "      <td>0.009432</td>\n",
       "      <td>0.019491</td>\n",
       "      <td>0.010639</td>\n",
       "      <td>0.009099</td>\n",
       "      <td>0.009327</td>\n",
       "      <td>0.008700</td>\n",
       "    </tr>\n",
       "    <tr>\n",
       "      <th>ACF&amp;PACF</th>\n",
       "      <td>0.006958</td>\n",
       "      <td>0.009771</td>\n",
       "      <td>0.008140</td>\n",
       "      <td>0.007527</td>\n",
       "      <td>0.007620</td>\n",
       "      <td>0.007879</td>\n",
       "    </tr>\n",
       "    <tr>\n",
       "      <th>Max ACF</th>\n",
       "      <td>0.008716</td>\n",
       "      <td>0.016977</td>\n",
       "      <td>0.010500</td>\n",
       "      <td>0.008202</td>\n",
       "      <td>0.008564</td>\n",
       "      <td>0.008511</td>\n",
       "    </tr>\n",
       "    <tr>\n",
       "      <th>Max PACF</th>\n",
       "      <td>0.006815</td>\n",
       "      <td>0.014530</td>\n",
       "      <td>0.006539</td>\n",
       "      <td>0.008587</td>\n",
       "      <td>0.006847</td>\n",
       "      <td>0.007682</td>\n",
       "    </tr>\n",
       "    <tr>\n",
       "      <th>None</th>\n",
       "      <td>0.007811</td>\n",
       "      <td>0.014358</td>\n",
       "      <td>0.007852</td>\n",
       "      <td>0.007990</td>\n",
       "      <td>0.007913</td>\n",
       "      <td>0.008019</td>\n",
       "    </tr>\n",
       "    <tr>\n",
       "      <th>PACF</th>\n",
       "      <td>0.007672</td>\n",
       "      <td>0.009808</td>\n",
       "      <td>0.008421</td>\n",
       "      <td>0.009035</td>\n",
       "      <td>0.008617</td>\n",
       "      <td>0.008622</td>\n",
       "    </tr>\n",
       "  </tbody>\n",
       "</table>\n",
       "</div>"
      ],
      "text/plain": [
       "nb_per_class  (max instances per class)//2         1        10       100  \\\n",
       "len_method                                                                 \n",
       "ACF                               0.009432  0.019491  0.010639  0.009099   \n",
       "ACF&PACF                          0.006958  0.009771  0.008140  0.007527   \n",
       "Max ACF                           0.008716  0.016977  0.010500  0.008202   \n",
       "Max PACF                          0.006815  0.014530  0.006539  0.008587   \n",
       "None                              0.007811  0.014358  0.007852  0.007990   \n",
       "PACF                              0.007672  0.009808  0.008421  0.009035   \n",
       "\n",
       "nb_per_class        30        50  \n",
       "len_method                        \n",
       "ACF           0.009327  0.008700  \n",
       "ACF&PACF      0.007620  0.007879  \n",
       "Max ACF       0.008564  0.008511  \n",
       "Max PACF      0.006847  0.007682  \n",
       "None          0.007913  0.008019  \n",
       "PACF          0.008617  0.008622  "
      ]
     },
     "execution_count": 54,
     "metadata": {},
     "output_type": "execute_result"
    }
   ],
   "source": [
    "# create a pivot table with the variance of the accuracy by number of instances per class\n",
    "pd.pivot_table(df_result, values='accuracy', index=['len_method'],columns=['nb_per_class'], aggfunc='var')"
   ]
  },
  {
   "cell_type": "code",
   "execution_count": 55,
   "metadata": {},
   "outputs": [
    {
     "data": {
      "text/html": [
       "<div>\n",
       "<style scoped>\n",
       "    .dataframe tbody tr th:only-of-type {\n",
       "        vertical-align: middle;\n",
       "    }\n",
       "\n",
       "    .dataframe tbody tr th {\n",
       "        vertical-align: top;\n",
       "    }\n",
       "\n",
       "    .dataframe thead th {\n",
       "        text-align: right;\n",
       "    }\n",
       "</style>\n",
       "<table border=\"1\" class=\"dataframe\">\n",
       "  <thead>\n",
       "    <tr style=\"text-align: right;\">\n",
       "      <th>rpoint</th>\n",
       "      <th>(lenthg ts)//2</th>\n",
       "      <th>1</th>\n",
       "      <th>10</th>\n",
       "      <th>100</th>\n",
       "      <th>30</th>\n",
       "      <th>50</th>\n",
       "    </tr>\n",
       "    <tr>\n",
       "      <th>len_method</th>\n",
       "      <th></th>\n",
       "      <th></th>\n",
       "      <th></th>\n",
       "      <th></th>\n",
       "      <th></th>\n",
       "      <th></th>\n",
       "    </tr>\n",
       "  </thead>\n",
       "  <tbody>\n",
       "    <tr>\n",
       "      <th>ACF</th>\n",
       "      <td>0.010004</td>\n",
       "      <td>0.019554</td>\n",
       "      <td>0.012038</td>\n",
       "      <td>0.009101</td>\n",
       "      <td>0.011073</td>\n",
       "      <td>0.010598</td>\n",
       "    </tr>\n",
       "    <tr>\n",
       "      <th>ACF&amp;PACF</th>\n",
       "      <td>0.007721</td>\n",
       "      <td>0.009743</td>\n",
       "      <td>0.007878</td>\n",
       "      <td>0.007851</td>\n",
       "      <td>0.008121</td>\n",
       "      <td>0.007791</td>\n",
       "    </tr>\n",
       "    <tr>\n",
       "      <th>Max ACF</th>\n",
       "      <td>0.008508</td>\n",
       "      <td>0.018962</td>\n",
       "      <td>0.012280</td>\n",
       "      <td>0.009437</td>\n",
       "      <td>0.009861</td>\n",
       "      <td>0.009535</td>\n",
       "    </tr>\n",
       "    <tr>\n",
       "      <th>Max PACF</th>\n",
       "      <td>0.007286</td>\n",
       "      <td>0.013385</td>\n",
       "      <td>0.006883</td>\n",
       "      <td>0.008512</td>\n",
       "      <td>0.007396</td>\n",
       "      <td>0.008688</td>\n",
       "    </tr>\n",
       "    <tr>\n",
       "      <th>None</th>\n",
       "      <td>0.008374</td>\n",
       "      <td>0.014397</td>\n",
       "      <td>0.008438</td>\n",
       "      <td>0.009369</td>\n",
       "      <td>0.008938</td>\n",
       "      <td>0.008894</td>\n",
       "    </tr>\n",
       "    <tr>\n",
       "      <th>PACF</th>\n",
       "      <td>0.008297</td>\n",
       "      <td>0.010525</td>\n",
       "      <td>0.008369</td>\n",
       "      <td>0.008795</td>\n",
       "      <td>0.008238</td>\n",
       "      <td>0.008558</td>\n",
       "    </tr>\n",
       "  </tbody>\n",
       "</table>\n",
       "</div>"
      ],
      "text/plain": [
       "rpoint      (lenthg ts)//2         1        10       100        30        50\n",
       "len_method                                                                  \n",
       "ACF               0.010004  0.019554  0.012038  0.009101  0.011073  0.010598\n",
       "ACF&PACF          0.007721  0.009743  0.007878  0.007851  0.008121  0.007791\n",
       "Max ACF           0.008508  0.018962  0.012280  0.009437  0.009861  0.009535\n",
       "Max PACF          0.007286  0.013385  0.006883  0.008512  0.007396  0.008688\n",
       "None              0.008374  0.014397  0.008438  0.009369  0.008938  0.008894\n",
       "PACF              0.008297  0.010525  0.008369  0.008795  0.008238  0.008558"
      ]
     },
     "execution_count": 55,
     "metadata": {},
     "output_type": "execute_result"
    }
   ],
   "source": [
    "# create a pivot table with the variance of the accuracy by number of random points\n",
    "pd.pivot_table(df_result, values='accuracy', index=['len_method'],columns=['rpoint'], aggfunc='var')"
   ]
  },
  {
   "attachments": {},
   "cell_type": "markdown",
   "metadata": {},
   "source": [
    "#### Another Results"
   ]
  },
  {
   "cell_type": "code",
   "execution_count": 56,
   "metadata": {},
   "outputs": [
    {
     "data": {
      "text/html": [
       "<div>\n",
       "<style scoped>\n",
       "    .dataframe tbody tr th:only-of-type {\n",
       "        vertical-align: middle;\n",
       "    }\n",
       "\n",
       "    .dataframe tbody tr th {\n",
       "        vertical-align: top;\n",
       "    }\n",
       "\n",
       "    .dataframe thead th {\n",
       "        text-align: right;\n",
       "    }\n",
       "</style>\n",
       "<table border=\"1\" class=\"dataframe\">\n",
       "  <thead>\n",
       "    <tr style=\"text-align: right;\">\n",
       "      <th></th>\n",
       "      <th>dataset_name</th>\n",
       "      <th>len_method</th>\n",
       "      <th>classifier_name</th>\n",
       "    </tr>\n",
       "  </thead>\n",
       "  <tbody>\n",
       "    <tr>\n",
       "      <th>count</th>\n",
       "      <td>4800</td>\n",
       "      <td>4800</td>\n",
       "      <td>4800</td>\n",
       "    </tr>\n",
       "    <tr>\n",
       "      <th>unique</th>\n",
       "      <td>8</td>\n",
       "      <td>6</td>\n",
       "      <td>216</td>\n",
       "    </tr>\n",
       "    <tr>\n",
       "      <th>top</th>\n",
       "      <td>Chinatown</td>\n",
       "      <td>ACF&amp;PACF</td>\n",
       "      <td>Max ACF: n_random_points= (lenthg ts)//2 nb_in...</td>\n",
       "    </tr>\n",
       "    <tr>\n",
       "      <th>freq</th>\n",
       "      <td>720</td>\n",
       "      <td>800</td>\n",
       "      <td>100</td>\n",
       "    </tr>\n",
       "  </tbody>\n",
       "</table>\n",
       "</div>"
      ],
      "text/plain": [
       "       dataset_name len_method  \\\n",
       "count          4800       4800   \n",
       "unique            8          6   \n",
       "top       Chinatown   ACF&PACF   \n",
       "freq            720        800   \n",
       "\n",
       "                                          classifier_name  \n",
       "count                                                4800  \n",
       "unique                                                216  \n",
       "top     Max ACF: n_random_points= (lenthg ts)//2 nb_in...  \n",
       "freq                                                  100  "
      ]
     },
     "execution_count": 56,
     "metadata": {},
     "output_type": "execute_result"
    }
   ],
   "source": [
    "df_result[['dataset_name','len_method','classifier_name']].describe()"
   ]
  },
  {
   "cell_type": "code",
   "execution_count": 57,
   "metadata": {},
   "outputs": [
    {
     "data": {
      "text/html": [
       "<div>\n",
       "<style scoped>\n",
       "    .dataframe tbody tr th:only-of-type {\n",
       "        vertical-align: middle;\n",
       "    }\n",
       "\n",
       "    .dataframe tbody tr th {\n",
       "        vertical-align: top;\n",
       "    }\n",
       "\n",
       "    .dataframe thead th {\n",
       "        text-align: right;\n",
       "    }\n",
       "</style>\n",
       "<table border=\"1\" class=\"dataframe\">\n",
       "  <thead>\n",
       "    <tr style=\"text-align: right;\">\n",
       "      <th></th>\n",
       "      <th>time</th>\n",
       "    </tr>\n",
       "    <tr>\n",
       "      <th>dataset_name</th>\n",
       "      <th></th>\n",
       "    </tr>\n",
       "  </thead>\n",
       "  <tbody>\n",
       "    <tr>\n",
       "      <th>Chinatown</th>\n",
       "      <td>0.017890</td>\n",
       "    </tr>\n",
       "    <tr>\n",
       "      <th>Coffee</th>\n",
       "      <td>3.225397</td>\n",
       "    </tr>\n",
       "    <tr>\n",
       "      <th>DistalPhalanxOutlineAgeGroup</th>\n",
       "      <td>32.046438</td>\n",
       "    </tr>\n",
       "    <tr>\n",
       "      <th>GunPoint</th>\n",
       "      <td>5.555635</td>\n",
       "    </tr>\n",
       "    <tr>\n",
       "      <th>ItalyPowerDemand</th>\n",
       "      <td>0.095850</td>\n",
       "    </tr>\n",
       "    <tr>\n",
       "      <th>SmoothSubspace</th>\n",
       "      <td>0.135475</td>\n",
       "    </tr>\n",
       "    <tr>\n",
       "      <th>SonyAIBORobotSurface2</th>\n",
       "      <td>0.188496</td>\n",
       "    </tr>\n",
       "    <tr>\n",
       "      <th>SyntheticControl</th>\n",
       "      <td>5.496093</td>\n",
       "    </tr>\n",
       "  </tbody>\n",
       "</table>\n",
       "</div>"
      ],
      "text/plain": [
       "                                   time\n",
       "dataset_name                           \n",
       "Chinatown                      0.017890\n",
       "Coffee                         3.225397\n",
       "DistalPhalanxOutlineAgeGroup  32.046438\n",
       "GunPoint                       5.555635\n",
       "ItalyPowerDemand               0.095850\n",
       "SmoothSubspace                 0.135475\n",
       "SonyAIBORobotSurface2          0.188496\n",
       "SyntheticControl               5.496093"
      ]
     },
     "execution_count": 57,
     "metadata": {},
     "output_type": "execute_result"
    }
   ],
   "source": [
    "pd.pivot_table(df_result, values='time', index=['dataset_name'], aggfunc='sum')/(60*60)"
   ]
  },
  {
   "cell_type": "code",
   "execution_count": 58,
   "metadata": {},
   "outputs": [
    {
     "data": {
      "text/plain": [
       "46.76127400689655"
      ]
     },
     "execution_count": 58,
     "metadata": {},
     "output_type": "execute_result"
    }
   ],
   "source": [
    "df_result['time'].sum()/(60*60)"
   ]
  },
  {
   "cell_type": "code",
   "execution_count": 139,
   "metadata": {},
   "outputs": [
    {
     "data": {
      "text/plain": [
       "array(['ACF&PACF: n_random_points= (lenthg ts)//2 nb_inst_per_class=(max instances per class)//2',\n",
       "       'ACF&PACF: n_random_points=1 nb_inst_per_class=(max instances per class)//2',\n",
       "       'ACF&PACF: n_random_points=10 nb_inst_per_class=(max instances per class)//2',\n",
       "       'ACF&PACF: n_random_points=100 nb_inst_per_class=(max instances per class)//2',\n",
       "       'ACF&PACF: n_random_points=30 nb_inst_per_class=(max instances per class)//2',\n",
       "       'ACF&PACF: n_random_points=50 nb_inst_per_class=(max instances per class)//2'],\n",
       "      dtype=object)"
      ]
     },
     "execution_count": 139,
     "metadata": {},
     "output_type": "execute_result"
    }
   ],
   "source": [
    "ints='\\(max instances per class\\)//2'\n",
    "len_m='ACF&PACF'\n",
    "df_to_cd=df_perf[df_perf.classifier_name.str.contains(r'^'+len_m+':')]\n",
    "df_to_cd=df_to_cd[df_to_cd.classifier_name.str.contains(r'nb_inst_per_class='+ints+'$')]\n",
    "df_to_cd.classifier_name.unique()"
   ]
  },
  {
   "attachments": {},
   "cell_type": "markdown",
   "metadata": {},
   "source": [
    "#### Generate CD Diagram Tunning Hyperparameter"
   ]
  },
  {
   "cell_type": "code",
   "execution_count": 150,
   "metadata": {},
   "outputs": [
    {
     "name": "stdout",
     "output_type": "stream",
     "text": [
      "len_methodACF&PACF\n",
      "nb_per_class(max instances per class)//2\n"
     ]
    },
    {
     "name": "stderr",
     "output_type": "stream",
     "text": [
      "c:\\ProgramData\\Anaconda3\\lib\\site-packages\\scipy\\stats\\_morestats.py:3255: UserWarning: Exact p-value calculation does not work if there are zeros. Switching to normal approximation.\n",
      "  warnings.warn(\"Exact p-value calculation does not work if there are \"\n",
      "c:\\ProgramData\\Anaconda3\\lib\\site-packages\\scipy\\stats\\_morestats.py:3269: UserWarning: Sample size too small for normal approximation.\n",
      "  warnings.warn(\"Sample size too small for normal approximation.\")\n"
     ]
    },
    {
     "name": "stdout",
     "output_type": "stream",
     "text": [
      "len_methodACF\n",
      "nb_per_class(max instances per class)//2\n"
     ]
    },
    {
     "name": "stderr",
     "output_type": "stream",
     "text": [
      "c:\\ProgramData\\Anaconda3\\lib\\site-packages\\scipy\\stats\\_morestats.py:3255: UserWarning: Exact p-value calculation does not work if there are zeros. Switching to normal approximation.\n",
      "  warnings.warn(\"Exact p-value calculation does not work if there are \"\n",
      "c:\\ProgramData\\Anaconda3\\lib\\site-packages\\scipy\\stats\\_morestats.py:3269: UserWarning: Sample size too small for normal approximation.\n",
      "  warnings.warn(\"Sample size too small for normal approximation.\")\n"
     ]
    },
    {
     "name": "stdout",
     "output_type": "stream",
     "text": [
      "len_methodPACF\n",
      "nb_per_class(max instances per class)//2\n",
      "the null hypothesis over the entire classifiers cannot be rejected\n"
     ]
    },
    {
     "name": "stderr",
     "output_type": "stream",
     "text": [
      "c:\\ProgramData\\Anaconda3\\lib\\site-packages\\scipy\\stats\\_morestats.py:3255: UserWarning: Exact p-value calculation does not work if there are zeros. Switching to normal approximation.\n",
      "  warnings.warn(\"Exact p-value calculation does not work if there are \"\n",
      "c:\\ProgramData\\Anaconda3\\lib\\site-packages\\scipy\\stats\\_morestats.py:3269: UserWarning: Sample size too small for normal approximation.\n",
      "  warnings.warn(\"Sample size too small for normal approximation.\")\n"
     ]
    },
    {
     "name": "stdout",
     "output_type": "stream",
     "text": [
      "len_methodMax ACF\n",
      "nb_per_class(max instances per class)//2\n",
      "the null hypothesis over the entire classifiers cannot be rejected\n"
     ]
    },
    {
     "name": "stderr",
     "output_type": "stream",
     "text": [
      "c:\\ProgramData\\Anaconda3\\lib\\site-packages\\scipy\\stats\\_morestats.py:3255: UserWarning: Exact p-value calculation does not work if there are zeros. Switching to normal approximation.\n",
      "  warnings.warn(\"Exact p-value calculation does not work if there are \"\n",
      "c:\\ProgramData\\Anaconda3\\lib\\site-packages\\scipy\\stats\\_morestats.py:3269: UserWarning: Sample size too small for normal approximation.\n",
      "  warnings.warn(\"Sample size too small for normal approximation.\")\n"
     ]
    },
    {
     "name": "stdout",
     "output_type": "stream",
     "text": [
      "len_methodMax PACF\n",
      "nb_per_class(max instances per class)//2\n",
      "the null hypothesis over the entire classifiers cannot be rejected\n"
     ]
    },
    {
     "name": "stderr",
     "output_type": "stream",
     "text": [
      "c:\\ProgramData\\Anaconda3\\lib\\site-packages\\scipy\\stats\\_morestats.py:3255: UserWarning: Exact p-value calculation does not work if there are zeros. Switching to normal approximation.\n",
      "  warnings.warn(\"Exact p-value calculation does not work if there are \"\n",
      "c:\\ProgramData\\Anaconda3\\lib\\site-packages\\scipy\\stats\\_morestats.py:3269: UserWarning: Sample size too small for normal approximation.\n",
      "  warnings.warn(\"Sample size too small for normal approximation.\")\n"
     ]
    },
    {
     "name": "stdout",
     "output_type": "stream",
     "text": [
      "len_methodNone\n",
      "nb_per_class(max instances per class)//2\n",
      "the null hypothesis over the entire classifiers cannot be rejected\n"
     ]
    },
    {
     "name": "stderr",
     "output_type": "stream",
     "text": [
      "c:\\ProgramData\\Anaconda3\\lib\\site-packages\\scipy\\stats\\_morestats.py:3255: UserWarning: Exact p-value calculation does not work if there are zeros. Switching to normal approximation.\n",
      "  warnings.warn(\"Exact p-value calculation does not work if there are \"\n",
      "c:\\ProgramData\\Anaconda3\\lib\\site-packages\\scipy\\stats\\_morestats.py:3269: UserWarning: Sample size too small for normal approximation.\n",
      "  warnings.warn(\"Sample size too small for normal approximation.\")\n"
     ]
    },
    {
     "name": "stdout",
     "output_type": "stream",
     "text": [
      "len_methodACF&PACF\n",
      "nb_per_class1\n",
      "the null hypothesis over the entire classifiers cannot be rejected\n"
     ]
    },
    {
     "name": "stderr",
     "output_type": "stream",
     "text": [
      "c:\\ProgramData\\Anaconda3\\lib\\site-packages\\scipy\\stats\\_morestats.py:3255: UserWarning: Exact p-value calculation does not work if there are zeros. Switching to normal approximation.\n",
      "  warnings.warn(\"Exact p-value calculation does not work if there are \"\n",
      "c:\\ProgramData\\Anaconda3\\lib\\site-packages\\scipy\\stats\\_morestats.py:3269: UserWarning: Sample size too small for normal approximation.\n",
      "  warnings.warn(\"Sample size too small for normal approximation.\")\n"
     ]
    },
    {
     "name": "stdout",
     "output_type": "stream",
     "text": [
      "len_methodACF\n",
      "nb_per_class1\n"
     ]
    },
    {
     "name": "stderr",
     "output_type": "stream",
     "text": [
      "c:\\ProgramData\\Anaconda3\\lib\\site-packages\\scipy\\stats\\_morestats.py:3255: UserWarning: Exact p-value calculation does not work if there are zeros. Switching to normal approximation.\n",
      "  warnings.warn(\"Exact p-value calculation does not work if there are \"\n",
      "c:\\ProgramData\\Anaconda3\\lib\\site-packages\\scipy\\stats\\_morestats.py:3269: UserWarning: Sample size too small for normal approximation.\n",
      "  warnings.warn(\"Sample size too small for normal approximation.\")\n"
     ]
    },
    {
     "name": "stdout",
     "output_type": "stream",
     "text": [
      "len_methodPACF\n",
      "nb_per_class1\n",
      "the null hypothesis over the entire classifiers cannot be rejected\n"
     ]
    },
    {
     "name": "stderr",
     "output_type": "stream",
     "text": [
      "c:\\ProgramData\\Anaconda3\\lib\\site-packages\\scipy\\stats\\_morestats.py:3255: UserWarning: Exact p-value calculation does not work if there are zeros. Switching to normal approximation.\n",
      "  warnings.warn(\"Exact p-value calculation does not work if there are \"\n",
      "c:\\ProgramData\\Anaconda3\\lib\\site-packages\\scipy\\stats\\_morestats.py:3269: UserWarning: Sample size too small for normal approximation.\n",
      "  warnings.warn(\"Sample size too small for normal approximation.\")\n"
     ]
    },
    {
     "name": "stdout",
     "output_type": "stream",
     "text": [
      "len_methodMax ACF\n",
      "nb_per_class1\n"
     ]
    },
    {
     "name": "stderr",
     "output_type": "stream",
     "text": [
      "c:\\ProgramData\\Anaconda3\\lib\\site-packages\\scipy\\stats\\_morestats.py:3255: UserWarning: Exact p-value calculation does not work if there are zeros. Switching to normal approximation.\n",
      "  warnings.warn(\"Exact p-value calculation does not work if there are \"\n",
      "c:\\ProgramData\\Anaconda3\\lib\\site-packages\\scipy\\stats\\_morestats.py:3269: UserWarning: Sample size too small for normal approximation.\n",
      "  warnings.warn(\"Sample size too small for normal approximation.\")\n"
     ]
    },
    {
     "name": "stdout",
     "output_type": "stream",
     "text": [
      "len_methodMax PACF\n",
      "nb_per_class1\n"
     ]
    },
    {
     "name": "stderr",
     "output_type": "stream",
     "text": [
      "c:\\ProgramData\\Anaconda3\\lib\\site-packages\\scipy\\stats\\_morestats.py:3255: UserWarning: Exact p-value calculation does not work if there are zeros. Switching to normal approximation.\n",
      "  warnings.warn(\"Exact p-value calculation does not work if there are \"\n",
      "c:\\ProgramData\\Anaconda3\\lib\\site-packages\\scipy\\stats\\_morestats.py:3269: UserWarning: Sample size too small for normal approximation.\n",
      "  warnings.warn(\"Sample size too small for normal approximation.\")\n"
     ]
    },
    {
     "name": "stdout",
     "output_type": "stream",
     "text": [
      "len_methodNone\n",
      "nb_per_class1\n",
      "the null hypothesis over the entire classifiers cannot be rejected\n"
     ]
    },
    {
     "name": "stderr",
     "output_type": "stream",
     "text": [
      "c:\\ProgramData\\Anaconda3\\lib\\site-packages\\scipy\\stats\\_morestats.py:3255: UserWarning: Exact p-value calculation does not work if there are zeros. Switching to normal approximation.\n",
      "  warnings.warn(\"Exact p-value calculation does not work if there are \"\n",
      "c:\\ProgramData\\Anaconda3\\lib\\site-packages\\scipy\\stats\\_morestats.py:3269: UserWarning: Sample size too small for normal approximation.\n",
      "  warnings.warn(\"Sample size too small for normal approximation.\")\n"
     ]
    },
    {
     "name": "stdout",
     "output_type": "stream",
     "text": [
      "len_methodACF&PACF\n",
      "nb_per_class10\n",
      "the null hypothesis over the entire classifiers cannot be rejected\n"
     ]
    },
    {
     "name": "stderr",
     "output_type": "stream",
     "text": [
      "c:\\ProgramData\\Anaconda3\\lib\\site-packages\\scipy\\stats\\_morestats.py:3255: UserWarning: Exact p-value calculation does not work if there are zeros. Switching to normal approximation.\n",
      "  warnings.warn(\"Exact p-value calculation does not work if there are \"\n",
      "c:\\ProgramData\\Anaconda3\\lib\\site-packages\\scipy\\stats\\_morestats.py:3269: UserWarning: Sample size too small for normal approximation.\n",
      "  warnings.warn(\"Sample size too small for normal approximation.\")\n"
     ]
    },
    {
     "name": "stdout",
     "output_type": "stream",
     "text": [
      "len_methodACF\n",
      "nb_per_class10\n",
      "the null hypothesis over the entire classifiers cannot be rejected\n",
      "len_methodPACF\n",
      "nb_per_class10\n",
      "the null hypothesis over the entire classifiers cannot be rejected\n"
     ]
    },
    {
     "name": "stderr",
     "output_type": "stream",
     "text": [
      "c:\\ProgramData\\Anaconda3\\lib\\site-packages\\scipy\\stats\\_morestats.py:3255: UserWarning: Exact p-value calculation does not work if there are zeros. Switching to normal approximation.\n",
      "  warnings.warn(\"Exact p-value calculation does not work if there are \"\n",
      "c:\\ProgramData\\Anaconda3\\lib\\site-packages\\scipy\\stats\\_morestats.py:3269: UserWarning: Sample size too small for normal approximation.\n",
      "  warnings.warn(\"Sample size too small for normal approximation.\")\n",
      "c:\\ProgramData\\Anaconda3\\lib\\site-packages\\scipy\\stats\\_morestats.py:3255: UserWarning: Exact p-value calculation does not work if there are zeros. Switching to normal approximation.\n",
      "  warnings.warn(\"Exact p-value calculation does not work if there are \"\n",
      "c:\\ProgramData\\Anaconda3\\lib\\site-packages\\scipy\\stats\\_morestats.py:3269: UserWarning: Sample size too small for normal approximation.\n",
      "  warnings.warn(\"Sample size too small for normal approximation.\")\n"
     ]
    },
    {
     "name": "stdout",
     "output_type": "stream",
     "text": [
      "len_methodMax ACF\n",
      "nb_per_class10\n"
     ]
    },
    {
     "name": "stderr",
     "output_type": "stream",
     "text": [
      "c:\\ProgramData\\Anaconda3\\lib\\site-packages\\scipy\\stats\\_morestats.py:3255: UserWarning: Exact p-value calculation does not work if there are zeros. Switching to normal approximation.\n",
      "  warnings.warn(\"Exact p-value calculation does not work if there are \"\n",
      "c:\\ProgramData\\Anaconda3\\lib\\site-packages\\scipy\\stats\\_morestats.py:3269: UserWarning: Sample size too small for normal approximation.\n",
      "  warnings.warn(\"Sample size too small for normal approximation.\")\n"
     ]
    },
    {
     "name": "stdout",
     "output_type": "stream",
     "text": [
      "len_methodMax PACF\n",
      "nb_per_class10\n",
      "the null hypothesis over the entire classifiers cannot be rejected\n",
      "len_methodNone\n",
      "nb_per_class10\n"
     ]
    },
    {
     "name": "stderr",
     "output_type": "stream",
     "text": [
      "c:\\ProgramData\\Anaconda3\\lib\\site-packages\\scipy\\stats\\_morestats.py:3255: UserWarning: Exact p-value calculation does not work if there are zeros. Switching to normal approximation.\n",
      "  warnings.warn(\"Exact p-value calculation does not work if there are \"\n",
      "c:\\ProgramData\\Anaconda3\\lib\\site-packages\\scipy\\stats\\_morestats.py:3269: UserWarning: Sample size too small for normal approximation.\n",
      "  warnings.warn(\"Sample size too small for normal approximation.\")\n"
     ]
    },
    {
     "name": "stdout",
     "output_type": "stream",
     "text": [
      "the null hypothesis over the entire classifiers cannot be rejected\n"
     ]
    },
    {
     "name": "stderr",
     "output_type": "stream",
     "text": [
      "c:\\ProgramData\\Anaconda3\\lib\\site-packages\\scipy\\stats\\_morestats.py:3255: UserWarning: Exact p-value calculation does not work if there are zeros. Switching to normal approximation.\n",
      "  warnings.warn(\"Exact p-value calculation does not work if there are \"\n",
      "c:\\ProgramData\\Anaconda3\\lib\\site-packages\\scipy\\stats\\_morestats.py:3269: UserWarning: Sample size too small for normal approximation.\n",
      "  warnings.warn(\"Sample size too small for normal approximation.\")\n"
     ]
    },
    {
     "name": "stdout",
     "output_type": "stream",
     "text": [
      "len_methodACF&PACF\n",
      "nb_per_class30\n",
      "the null hypothesis over the entire classifiers cannot be rejected\n"
     ]
    },
    {
     "name": "stderr",
     "output_type": "stream",
     "text": [
      "c:\\ProgramData\\Anaconda3\\lib\\site-packages\\scipy\\stats\\_morestats.py:3255: UserWarning: Exact p-value calculation does not work if there are zeros. Switching to normal approximation.\n",
      "  warnings.warn(\"Exact p-value calculation does not work if there are \"\n",
      "c:\\ProgramData\\Anaconda3\\lib\\site-packages\\scipy\\stats\\_morestats.py:3269: UserWarning: Sample size too small for normal approximation.\n",
      "  warnings.warn(\"Sample size too small for normal approximation.\")\n"
     ]
    },
    {
     "name": "stdout",
     "output_type": "stream",
     "text": [
      "len_methodACF\n",
      "nb_per_class30\n",
      "len_methodPACF\n",
      "nb_per_class30\n"
     ]
    },
    {
     "name": "stderr",
     "output_type": "stream",
     "text": [
      "c:\\ProgramData\\Anaconda3\\lib\\site-packages\\scipy\\stats\\_morestats.py:3255: UserWarning: Exact p-value calculation does not work if there are zeros. Switching to normal approximation.\n",
      "  warnings.warn(\"Exact p-value calculation does not work if there are \"\n",
      "c:\\ProgramData\\Anaconda3\\lib\\site-packages\\scipy\\stats\\_morestats.py:3269: UserWarning: Sample size too small for normal approximation.\n",
      "  warnings.warn(\"Sample size too small for normal approximation.\")\n"
     ]
    },
    {
     "name": "stdout",
     "output_type": "stream",
     "text": [
      "the null hypothesis over the entire classifiers cannot be rejected\n"
     ]
    },
    {
     "name": "stderr",
     "output_type": "stream",
     "text": [
      "c:\\ProgramData\\Anaconda3\\lib\\site-packages\\scipy\\stats\\_morestats.py:3255: UserWarning: Exact p-value calculation does not work if there are zeros. Switching to normal approximation.\n",
      "  warnings.warn(\"Exact p-value calculation does not work if there are \"\n",
      "c:\\ProgramData\\Anaconda3\\lib\\site-packages\\scipy\\stats\\_morestats.py:3269: UserWarning: Sample size too small for normal approximation.\n",
      "  warnings.warn(\"Sample size too small for normal approximation.\")\n"
     ]
    },
    {
     "name": "stdout",
     "output_type": "stream",
     "text": [
      "len_methodMax ACF\n",
      "nb_per_class30\n"
     ]
    },
    {
     "name": "stderr",
     "output_type": "stream",
     "text": [
      "c:\\ProgramData\\Anaconda3\\lib\\site-packages\\scipy\\stats\\_morestats.py:3255: UserWarning: Exact p-value calculation does not work if there are zeros. Switching to normal approximation.\n",
      "  warnings.warn(\"Exact p-value calculation does not work if there are \"\n",
      "c:\\ProgramData\\Anaconda3\\lib\\site-packages\\scipy\\stats\\_morestats.py:3269: UserWarning: Sample size too small for normal approximation.\n",
      "  warnings.warn(\"Sample size too small for normal approximation.\")\n"
     ]
    },
    {
     "name": "stdout",
     "output_type": "stream",
     "text": [
      "len_methodMax PACF\n",
      "nb_per_class30\n",
      "the null hypothesis over the entire classifiers cannot be rejected\n",
      "len_methodNone\n",
      "nb_per_class30\n",
      "the null hypothesis over the entire classifiers cannot be rejected\n"
     ]
    },
    {
     "name": "stderr",
     "output_type": "stream",
     "text": [
      "c:\\ProgramData\\Anaconda3\\lib\\site-packages\\scipy\\stats\\_morestats.py:3255: UserWarning: Exact p-value calculation does not work if there are zeros. Switching to normal approximation.\n",
      "  warnings.warn(\"Exact p-value calculation does not work if there are \"\n",
      "c:\\ProgramData\\Anaconda3\\lib\\site-packages\\scipy\\stats\\_morestats.py:3269: UserWarning: Sample size too small for normal approximation.\n",
      "  warnings.warn(\"Sample size too small for normal approximation.\")\n",
      "c:\\ProgramData\\Anaconda3\\lib\\site-packages\\scipy\\stats\\_morestats.py:3255: UserWarning: Exact p-value calculation does not work if there are zeros. Switching to normal approximation.\n",
      "  warnings.warn(\"Exact p-value calculation does not work if there are \"\n",
      "c:\\ProgramData\\Anaconda3\\lib\\site-packages\\scipy\\stats\\_morestats.py:3269: UserWarning: Sample size too small for normal approximation.\n",
      "  warnings.warn(\"Sample size too small for normal approximation.\")\n"
     ]
    },
    {
     "name": "stdout",
     "output_type": "stream",
     "text": [
      "len_methodACF&PACF\n",
      "nb_per_class50\n",
      "the null hypothesis over the entire classifiers cannot be rejected\n"
     ]
    },
    {
     "name": "stderr",
     "output_type": "stream",
     "text": [
      "c:\\ProgramData\\Anaconda3\\lib\\site-packages\\scipy\\stats\\_morestats.py:3255: UserWarning: Exact p-value calculation does not work if there are zeros. Switching to normal approximation.\n",
      "  warnings.warn(\"Exact p-value calculation does not work if there are \"\n",
      "c:\\ProgramData\\Anaconda3\\lib\\site-packages\\scipy\\stats\\_morestats.py:3269: UserWarning: Sample size too small for normal approximation.\n",
      "  warnings.warn(\"Sample size too small for normal approximation.\")\n"
     ]
    },
    {
     "name": "stdout",
     "output_type": "stream",
     "text": [
      "len_methodACF\n",
      "nb_per_class50\n"
     ]
    },
    {
     "name": "stderr",
     "output_type": "stream",
     "text": [
      "c:\\ProgramData\\Anaconda3\\lib\\site-packages\\scipy\\stats\\_morestats.py:3255: UserWarning: Exact p-value calculation does not work if there are zeros. Switching to normal approximation.\n",
      "  warnings.warn(\"Exact p-value calculation does not work if there are \"\n",
      "c:\\ProgramData\\Anaconda3\\lib\\site-packages\\scipy\\stats\\_morestats.py:3269: UserWarning: Sample size too small for normal approximation.\n",
      "  warnings.warn(\"Sample size too small for normal approximation.\")\n"
     ]
    },
    {
     "name": "stdout",
     "output_type": "stream",
     "text": [
      "len_methodPACF\n",
      "nb_per_class50\n",
      "the null hypothesis over the entire classifiers cannot be rejected\n"
     ]
    },
    {
     "name": "stderr",
     "output_type": "stream",
     "text": [
      "c:\\ProgramData\\Anaconda3\\lib\\site-packages\\scipy\\stats\\_morestats.py:3255: UserWarning: Exact p-value calculation does not work if there are zeros. Switching to normal approximation.\n",
      "  warnings.warn(\"Exact p-value calculation does not work if there are \"\n",
      "c:\\ProgramData\\Anaconda3\\lib\\site-packages\\scipy\\stats\\_morestats.py:3269: UserWarning: Sample size too small for normal approximation.\n",
      "  warnings.warn(\"Sample size too small for normal approximation.\")\n"
     ]
    },
    {
     "name": "stdout",
     "output_type": "stream",
     "text": [
      "len_methodMax ACF\n",
      "nb_per_class50\n"
     ]
    },
    {
     "name": "stderr",
     "output_type": "stream",
     "text": [
      "c:\\ProgramData\\Anaconda3\\lib\\site-packages\\scipy\\stats\\_morestats.py:3255: UserWarning: Exact p-value calculation does not work if there are zeros. Switching to normal approximation.\n",
      "  warnings.warn(\"Exact p-value calculation does not work if there are \"\n",
      "c:\\ProgramData\\Anaconda3\\lib\\site-packages\\scipy\\stats\\_morestats.py:3269: UserWarning: Sample size too small for normal approximation.\n",
      "  warnings.warn(\"Sample size too small for normal approximation.\")\n"
     ]
    },
    {
     "name": "stdout",
     "output_type": "stream",
     "text": [
      "len_methodMax PACF\n",
      "nb_per_class50\n",
      "the null hypothesis over the entire classifiers cannot be rejected\n"
     ]
    },
    {
     "name": "stderr",
     "output_type": "stream",
     "text": [
      "c:\\ProgramData\\Anaconda3\\lib\\site-packages\\scipy\\stats\\_morestats.py:3255: UserWarning: Exact p-value calculation does not work if there are zeros. Switching to normal approximation.\n",
      "  warnings.warn(\"Exact p-value calculation does not work if there are \"\n",
      "c:\\ProgramData\\Anaconda3\\lib\\site-packages\\scipy\\stats\\_morestats.py:3269: UserWarning: Sample size too small for normal approximation.\n",
      "  warnings.warn(\"Sample size too small for normal approximation.\")\n"
     ]
    },
    {
     "name": "stdout",
     "output_type": "stream",
     "text": [
      "len_methodNone\n",
      "nb_per_class50\n",
      "the null hypothesis over the entire classifiers cannot be rejected\n",
      "len_methodACF&PACF\n",
      "nb_per_class100\n",
      "the null hypothesis over the entire classifiers cannot be rejected\n"
     ]
    },
    {
     "name": "stderr",
     "output_type": "stream",
     "text": [
      "c:\\ProgramData\\Anaconda3\\lib\\site-packages\\scipy\\stats\\_morestats.py:3255: UserWarning: Exact p-value calculation does not work if there are zeros. Switching to normal approximation.\n",
      "  warnings.warn(\"Exact p-value calculation does not work if there are \"\n",
      "c:\\ProgramData\\Anaconda3\\lib\\site-packages\\scipy\\stats\\_morestats.py:3269: UserWarning: Sample size too small for normal approximation.\n",
      "  warnings.warn(\"Sample size too small for normal approximation.\")\n",
      "c:\\ProgramData\\Anaconda3\\lib\\site-packages\\scipy\\stats\\_morestats.py:3255: UserWarning: Exact p-value calculation does not work if there are zeros. Switching to normal approximation.\n",
      "  warnings.warn(\"Exact p-value calculation does not work if there are \"\n",
      "c:\\ProgramData\\Anaconda3\\lib\\site-packages\\scipy\\stats\\_morestats.py:3269: UserWarning: Sample size too small for normal approximation.\n",
      "  warnings.warn(\"Sample size too small for normal approximation.\")\n"
     ]
    },
    {
     "name": "stdout",
     "output_type": "stream",
     "text": [
      "len_methodACF\n",
      "nb_per_class100\n"
     ]
    },
    {
     "name": "stderr",
     "output_type": "stream",
     "text": [
      "c:\\ProgramData\\Anaconda3\\lib\\site-packages\\scipy\\stats\\_morestats.py:3255: UserWarning: Exact p-value calculation does not work if there are zeros. Switching to normal approximation.\n",
      "  warnings.warn(\"Exact p-value calculation does not work if there are \"\n",
      "c:\\ProgramData\\Anaconda3\\lib\\site-packages\\scipy\\stats\\_morestats.py:3269: UserWarning: Sample size too small for normal approximation.\n",
      "  warnings.warn(\"Sample size too small for normal approximation.\")\n"
     ]
    },
    {
     "name": "stdout",
     "output_type": "stream",
     "text": [
      "len_methodPACF\n",
      "nb_per_class100\n",
      "the null hypothesis over the entire classifiers cannot be rejected\n"
     ]
    },
    {
     "name": "stderr",
     "output_type": "stream",
     "text": [
      "c:\\ProgramData\\Anaconda3\\lib\\site-packages\\scipy\\stats\\_morestats.py:3255: UserWarning: Exact p-value calculation does not work if there are zeros. Switching to normal approximation.\n",
      "  warnings.warn(\"Exact p-value calculation does not work if there are \"\n",
      "c:\\ProgramData\\Anaconda3\\lib\\site-packages\\scipy\\stats\\_morestats.py:3269: UserWarning: Sample size too small for normal approximation.\n",
      "  warnings.warn(\"Sample size too small for normal approximation.\")\n"
     ]
    },
    {
     "name": "stdout",
     "output_type": "stream",
     "text": [
      "len_methodMax ACF\n",
      "nb_per_class100\n",
      "the null hypothesis over the entire classifiers cannot be rejected\n"
     ]
    },
    {
     "name": "stderr",
     "output_type": "stream",
     "text": [
      "c:\\ProgramData\\Anaconda3\\lib\\site-packages\\scipy\\stats\\_morestats.py:3255: UserWarning: Exact p-value calculation does not work if there are zeros. Switching to normal approximation.\n",
      "  warnings.warn(\"Exact p-value calculation does not work if there are \"\n",
      "c:\\ProgramData\\Anaconda3\\lib\\site-packages\\scipy\\stats\\_morestats.py:3269: UserWarning: Sample size too small for normal approximation.\n",
      "  warnings.warn(\"Sample size too small for normal approximation.\")\n"
     ]
    },
    {
     "name": "stdout",
     "output_type": "stream",
     "text": [
      "len_methodMax PACF\n",
      "nb_per_class100\n",
      "the null hypothesis over the entire classifiers cannot be rejected\n"
     ]
    },
    {
     "name": "stderr",
     "output_type": "stream",
     "text": [
      "c:\\ProgramData\\Anaconda3\\lib\\site-packages\\scipy\\stats\\_morestats.py:3255: UserWarning: Exact p-value calculation does not work if there are zeros. Switching to normal approximation.\n",
      "  warnings.warn(\"Exact p-value calculation does not work if there are \"\n",
      "c:\\ProgramData\\Anaconda3\\lib\\site-packages\\scipy\\stats\\_morestats.py:3269: UserWarning: Sample size too small for normal approximation.\n",
      "  warnings.warn(\"Sample size too small for normal approximation.\")\n"
     ]
    },
    {
     "name": "stdout",
     "output_type": "stream",
     "text": [
      "len_methodNone\n",
      "nb_per_class100\n",
      "the null hypothesis over the entire classifiers cannot be rejected\n"
     ]
    },
    {
     "name": "stderr",
     "output_type": "stream",
     "text": [
      "c:\\ProgramData\\Anaconda3\\lib\\site-packages\\scipy\\stats\\_morestats.py:3255: UserWarning: Exact p-value calculation does not work if there are zeros. Switching to normal approximation.\n",
      "  warnings.warn(\"Exact p-value calculation does not work if there are \"\n",
      "c:\\ProgramData\\Anaconda3\\lib\\site-packages\\scipy\\stats\\_morestats.py:3269: UserWarning: Sample size too small for normal approximation.\n",
      "  warnings.warn(\"Sample size too small for normal approximation.\")\n"
     ]
    }
   ],
   "source": [
    "from cd_function import *\n",
    "#generate hyperparameter tuning cd diagrams\n",
    "for k,ints in enumerate(df_result.nb_per_class.unique()):\n",
    "   ints_r=ints.replace(\"(\",\"\\(\")\n",
    "   ints_r=ints_r.replace(\")\",\"\\)\")\n",
    "   for len_m in df_result.len_method.unique():\n",
    "      df_to_cd=df_perf[df_perf.classifier_name.str.contains(r'^'+len_m+':.*nb_inst_per_class='+str(ints_r)+'$')]\n",
    "      print('len_method'+str(len_m))\n",
    "      print('nb_per_class'+str(ints))\n",
    "      draw_cd_diagram(df_to_cd, labels=True, title=len_m +\" comparison, nb_inst_per_class=\"+str(ints), name_file='images_cd_diagram/cd-diagram_'+len_m+str(k)+'.png')\n",
    "      #draw_cd_diagram(, labels=True, title=\"ACF&PACF comparison nb_inst_per_class=\"+str(j), name_file='images_cd_diagram/cd-diagram_ACF&PACFnb_inst_per_class='+str(j)+'.png')\n",
    "      #draw_cd_diagram(df_perf[df_perf.classifier_name.str.contains(r'^PACF:')], labels=True, title=\"PACF comparison\", name_file='images_cd_diagram/cd-diagram_PACF.png')\n",
    "      #draw_cd_diagram(df_perf[df_perf.classifier_name.str.contains(r'^ACF:')], labels=True, title=\"ACF comparison\", name_file='images_cd_diagram/cd-diagram_ACF.png')\n",
    "      #draw_cd_diagram(df_perf[df_perf.classifier_name.str.contains(r'^None:')], labels=True, title=\"None comparison\", name_file='images_cd_diagram/cd-diagram_None.png')\n",
    "      #draw_cd_diagram(df_perf[df_perf.classifier_name.str.contains(r'^Max ACF:')], labels=True, title=\"Max ACF comparison\", name_file='images_cd_diagram/cd-diagram_MaxACF.png')\n",
    "      #draw_cd_diagram(df_perf[df_perf.classifier_name.str.contains(r'^Max PACF:')], labels=True, title=\"Max PACF comparison\", name_file='images_cd_diagram/cd-diagram_MaxPACF.png')\n",
    "      #draw_cd_diagram(df_perf, labels=True, title=\"overall Hyperparameter Tunning\", name_file='images_cd_diagram/cd-diagram_overall_tunning.png')\n",
    "\n"
   ]
  },
  {
   "cell_type": "code",
   "execution_count": 60,
   "metadata": {},
   "outputs": [
    {
     "name": "stderr",
     "output_type": "stream",
     "text": [
      "c:\\ProgramData\\Anaconda3\\lib\\site-packages\\scipy\\stats\\_morestats.py:3255: UserWarning: Exact p-value calculation does not work if there are zeros. Switching to normal approximation.\n",
      "  warnings.warn(\"Exact p-value calculation does not work if there are \"\n",
      "c:\\ProgramData\\Anaconda3\\lib\\site-packages\\scipy\\stats\\_morestats.py:3269: UserWarning: Sample size too small for normal approximation.\n",
      "  warnings.warn(\"Sample size too small for normal approximation.\")\n"
     ]
    },
    {
     "data": {
      "text/html": [
       "<div>\n",
       "<style scoped>\n",
       "    .dataframe tbody tr th:only-of-type {\n",
       "        vertical-align: middle;\n",
       "    }\n",
       "\n",
       "    .dataframe tbody tr th {\n",
       "        vertical-align: top;\n",
       "    }\n",
       "\n",
       "    .dataframe thead th {\n",
       "        text-align: right;\n",
       "    }\n",
       "</style>\n",
       "<table border=\"1\" class=\"dataframe\">\n",
       "  <thead>\n",
       "    <tr style=\"text-align: right;\">\n",
       "      <th></th>\n",
       "      <th>0</th>\n",
       "    </tr>\n",
       "  </thead>\n",
       "  <tbody>\n",
       "    <tr>\n",
       "      <th>Max ACF: n_random_points=1 nb_inst_per_class=1</th>\n",
       "      <td>214.7500</td>\n",
       "    </tr>\n",
       "    <tr>\n",
       "      <th>ACF: n_random_points=1 nb_inst_per_class=1</th>\n",
       "      <td>213.2500</td>\n",
       "    </tr>\n",
       "    <tr>\n",
       "      <th>Max ACF: n_random_points=10 nb_inst_per_class=1</th>\n",
       "      <td>207.3125</td>\n",
       "    </tr>\n",
       "    <tr>\n",
       "      <th>ACF: n_random_points=10 nb_inst_per_class=1</th>\n",
       "      <td>204.5000</td>\n",
       "    </tr>\n",
       "    <tr>\n",
       "      <th>Max PACF: n_random_points=1 nb_inst_per_class=1</th>\n",
       "      <td>204.1250</td>\n",
       "    </tr>\n",
       "    <tr>\n",
       "      <th>...</th>\n",
       "      <td>...</td>\n",
       "    </tr>\n",
       "    <tr>\n",
       "      <th>ACF&amp;PACF: n_random_points= (lenthg ts)//2 nb_inst_per_class=100</th>\n",
       "      <td>54.1250</td>\n",
       "    </tr>\n",
       "    <tr>\n",
       "      <th>ACF&amp;PACF: n_random_points=100 nb_inst_per_class=(max instances per class)//2</th>\n",
       "      <td>54.0000</td>\n",
       "    </tr>\n",
       "    <tr>\n",
       "      <th>ACF&amp;PACF: n_random_points=30 nb_inst_per_class=100</th>\n",
       "      <td>53.0000</td>\n",
       "    </tr>\n",
       "    <tr>\n",
       "      <th>ACF&amp;PACF: n_random_points=100 nb_inst_per_class=50</th>\n",
       "      <td>50.4375</td>\n",
       "    </tr>\n",
       "    <tr>\n",
       "      <th>ACF&amp;PACF: n_random_points= (lenthg ts)//2 nb_inst_per_class=50</th>\n",
       "      <td>47.7500</td>\n",
       "    </tr>\n",
       "  </tbody>\n",
       "</table>\n",
       "<p>216 rows × 1 columns</p>\n",
       "</div>"
      ],
      "text/plain": [
       "                                                           0\n",
       "Max ACF: n_random_points=1 nb_inst_per_class=1      214.7500\n",
       "ACF: n_random_points=1 nb_inst_per_class=1          213.2500\n",
       "Max ACF: n_random_points=10 nb_inst_per_class=1     207.3125\n",
       "ACF: n_random_points=10 nb_inst_per_class=1         204.5000\n",
       "Max PACF: n_random_points=1 nb_inst_per_class=1     204.1250\n",
       "...                                                      ...\n",
       "ACF&PACF: n_random_points= (lenthg ts)//2 nb_in...   54.1250\n",
       "ACF&PACF: n_random_points=100 nb_inst_per_class...   54.0000\n",
       "ACF&PACF: n_random_points=30 nb_inst_per_class=100   53.0000\n",
       "ACF&PACF: n_random_points=100 nb_inst_per_class=50   50.4375\n",
       "ACF&PACF: n_random_points= (lenthg ts)//2 nb_in...   47.7500\n",
       "\n",
       "[216 rows x 1 columns]"
      ]
     },
     "execution_count": 60,
     "metadata": {},
     "output_type": "execute_result"
    }
   ],
   "source": [
    "_, average_ranks, _ = wilcoxon_holm(df_perf=df_perf)\n",
    "min_rank= min(average_ranks)\n",
    "average_ranks=pd.DataFrame(average_ranks)\n",
    "average_ranks"
   ]
  },
  {
   "cell_type": "code",
   "execution_count": 61,
   "metadata": {},
   "outputs": [],
   "source": [
    "#generate example cd diagrams\n",
    "#draw_cd_diagram(pd.read_csv('example_cd_diagram.csv'), labels=True, title=\"Example CD Diagram\", name_file='cd-diagram_example.png')"
   ]
  },
  {
   "attachments": {},
   "cell_type": "markdown",
   "metadata": {},
   "source": [
    "#### Focus on most accurate lenght method"
   ]
  },
  {
   "attachments": {},
   "cell_type": "markdown",
   "metadata": {},
   "source": [
    "##### Overall Accuracy"
   ]
  },
  {
   "cell_type": "code",
   "execution_count": 62,
   "metadata": {},
   "outputs": [
    {
     "data": {
      "text/plain": [
       "Index(['ACF&PACF: n_random_points= (lenthg ts)//2 nb_inst_per_class=50'], dtype='object')"
      ]
     },
     "execution_count": 62,
     "metadata": {},
     "output_type": "execute_result"
    }
   ],
   "source": [
    "# highest accurate hyperparameters\n",
    "average_ranks[average_ranks[0]==min_rank][0].index"
   ]
  },
  {
   "cell_type": "code",
   "execution_count": 77,
   "metadata": {},
   "outputs": [
    {
     "data": {
      "text/html": [
       "<div>\n",
       "<style scoped>\n",
       "    .dataframe tbody tr th:only-of-type {\n",
       "        vertical-align: middle;\n",
       "    }\n",
       "\n",
       "    .dataframe tbody tr th {\n",
       "        vertical-align: top;\n",
       "    }\n",
       "\n",
       "    .dataframe thead th {\n",
       "        text-align: right;\n",
       "    }\n",
       "</style>\n",
       "<table border=\"1\" class=\"dataframe\">\n",
       "  <thead>\n",
       "    <tr style=\"text-align: right;\">\n",
       "      <th>nb_per_class</th>\n",
       "      <th>(max instances per class)//2</th>\n",
       "      <th>1</th>\n",
       "      <th>10</th>\n",
       "      <th>30</th>\n",
       "      <th>50</th>\n",
       "      <th>100</th>\n",
       "    </tr>\n",
       "    <tr>\n",
       "      <th>rpoint</th>\n",
       "      <th></th>\n",
       "      <th></th>\n",
       "      <th></th>\n",
       "      <th></th>\n",
       "      <th></th>\n",
       "      <th></th>\n",
       "    </tr>\n",
       "  </thead>\n",
       "  <tbody>\n",
       "    <tr>\n",
       "      <th>(lenthg ts)//2</th>\n",
       "      <td>0.912789</td>\n",
       "      <td>0.869393</td>\n",
       "      <td>0.901338</td>\n",
       "      <td>0.920097</td>\n",
       "      <td>0.923133</td>\n",
       "      <td>0.920720</td>\n",
       "    </tr>\n",
       "    <tr>\n",
       "      <th>1</th>\n",
       "      <td>0.899449</td>\n",
       "      <td>0.791263</td>\n",
       "      <td>0.885582</td>\n",
       "      <td>0.908069</td>\n",
       "      <td>0.895154</td>\n",
       "      <td>0.901808</td>\n",
       "    </tr>\n",
       "    <tr>\n",
       "      <th>10</th>\n",
       "      <td>0.909259</td>\n",
       "      <td>0.861650</td>\n",
       "      <td>0.908505</td>\n",
       "      <td>0.916423</td>\n",
       "      <td>0.917684</td>\n",
       "      <td>0.918451</td>\n",
       "    </tr>\n",
       "    <tr>\n",
       "      <th>30</th>\n",
       "      <td>0.918103</td>\n",
       "      <td>0.879780</td>\n",
       "      <td>0.904196</td>\n",
       "      <td>0.914956</td>\n",
       "      <td>0.920776</td>\n",
       "      <td>0.920786</td>\n",
       "    </tr>\n",
       "    <tr>\n",
       "      <th>50</th>\n",
       "      <td>0.913824</td>\n",
       "      <td>0.880732</td>\n",
       "      <td>0.908333</td>\n",
       "      <td>0.919345</td>\n",
       "      <td>0.918831</td>\n",
       "      <td>0.917962</td>\n",
       "    </tr>\n",
       "    <tr>\n",
       "      <th>100</th>\n",
       "      <td>0.919740</td>\n",
       "      <td>0.881601</td>\n",
       "      <td>0.904856</td>\n",
       "      <td>0.918460</td>\n",
       "      <td>0.922153</td>\n",
       "      <td>0.918959</td>\n",
       "    </tr>\n",
       "  </tbody>\n",
       "</table>\n",
       "</div>"
      ],
      "text/plain": [
       "nb_per_class    (max instances per class)//2         1        10        30  \\\n",
       "rpoint                                                                       \n",
       "(lenthg ts)//2                      0.912789  0.869393  0.901338  0.920097   \n",
       "1                                   0.899449  0.791263  0.885582  0.908069   \n",
       "10                                  0.909259  0.861650  0.908505  0.916423   \n",
       "30                                  0.918103  0.879780  0.904196  0.914956   \n",
       "50                                  0.913824  0.880732  0.908333  0.919345   \n",
       "100                                 0.919740  0.881601  0.904856  0.918460   \n",
       "\n",
       "nb_per_class          50       100  \n",
       "rpoint                              \n",
       "(lenthg ts)//2  0.923133  0.920720  \n",
       "1               0.895154  0.901808  \n",
       "10              0.917684  0.918451  \n",
       "30              0.920776  0.920786  \n",
       "50              0.918831  0.917962  \n",
       "100             0.922153  0.918959  "
      ]
     },
     "execution_count": 77,
     "metadata": {},
     "output_type": "execute_result"
    }
   ],
   "source": [
    "# filter by method with ACF&PACF\n",
    "# create a pivot table with the mean of score by hyperparameter\n",
    "df_result_acc=df_result[df_result[\"len_method\"]==\"ACF&PACF\"]\n",
    "pivot = pd.pivot_table(df_result_acc, values='accuracy', index=['rpoint'],columns=['nb_per_class'], aggfunc='mean')\n",
    "pivot = pivot.reindex(columns=[\"(max instances per class)//2\",\"1\",\"10\",\"30\",\"50\",\"100\"], index=[\"(lenthg ts)//2\",\"1\",\"10\",\"30\",\"50\",\"100\"])\n",
    "pivot"
   ]
  },
  {
   "cell_type": "code",
   "execution_count": 64,
   "metadata": {},
   "outputs": [
    {
     "data": {
      "text/html": [
       "<div>\n",
       "<style scoped>\n",
       "    .dataframe tbody tr th:only-of-type {\n",
       "        vertical-align: middle;\n",
       "    }\n",
       "\n",
       "    .dataframe tbody tr th {\n",
       "        vertical-align: top;\n",
       "    }\n",
       "\n",
       "    .dataframe thead th {\n",
       "        text-align: right;\n",
       "    }\n",
       "</style>\n",
       "<table border=\"1\" class=\"dataframe\">\n",
       "  <thead>\n",
       "    <tr style=\"text-align: right;\">\n",
       "      <th>nb_per_class</th>\n",
       "      <th>(max instances per class)//2</th>\n",
       "      <th>1</th>\n",
       "      <th>10</th>\n",
       "      <th>100</th>\n",
       "      <th>30</th>\n",
       "      <th>50</th>\n",
       "    </tr>\n",
       "    <tr>\n",
       "      <th>rpoint</th>\n",
       "      <th></th>\n",
       "      <th></th>\n",
       "      <th></th>\n",
       "      <th></th>\n",
       "      <th></th>\n",
       "      <th></th>\n",
       "    </tr>\n",
       "  </thead>\n",
       "  <tbody>\n",
       "    <tr>\n",
       "      <th>(lenthg ts)//2</th>\n",
       "      <td>0.007344</td>\n",
       "      <td>0.007349</td>\n",
       "      <td>0.008620</td>\n",
       "      <td>0.007569</td>\n",
       "      <td>0.008514</td>\n",
       "      <td>0.008277</td>\n",
       "    </tr>\n",
       "    <tr>\n",
       "      <th>1</th>\n",
       "      <td>0.005389</td>\n",
       "      <td>0.018353</td>\n",
       "      <td>0.006680</td>\n",
       "      <td>0.006496</td>\n",
       "      <td>0.005984</td>\n",
       "      <td>0.007831</td>\n",
       "    </tr>\n",
       "    <tr>\n",
       "      <th>10</th>\n",
       "      <td>0.008020</td>\n",
       "      <td>0.007107</td>\n",
       "      <td>0.007133</td>\n",
       "      <td>0.007681</td>\n",
       "      <td>0.008525</td>\n",
       "      <td>0.008367</td>\n",
       "    </tr>\n",
       "    <tr>\n",
       "      <th>100</th>\n",
       "      <td>0.006907</td>\n",
       "      <td>0.007060</td>\n",
       "      <td>0.009669</td>\n",
       "      <td>0.008040</td>\n",
       "      <td>0.008131</td>\n",
       "      <td>0.008082</td>\n",
       "    </tr>\n",
       "    <tr>\n",
       "      <th>30</th>\n",
       "      <td>0.006754</td>\n",
       "      <td>0.008922</td>\n",
       "      <td>0.009429</td>\n",
       "      <td>0.007986</td>\n",
       "      <td>0.008695</td>\n",
       "      <td>0.007744</td>\n",
       "    </tr>\n",
       "    <tr>\n",
       "      <th>50</th>\n",
       "      <td>0.007255</td>\n",
       "      <td>0.005984</td>\n",
       "      <td>0.009068</td>\n",
       "      <td>0.009095</td>\n",
       "      <td>0.007772</td>\n",
       "      <td>0.008464</td>\n",
       "    </tr>\n",
       "  </tbody>\n",
       "</table>\n",
       "</div>"
      ],
      "text/plain": [
       "nb_per_class    (max instances per class)//2         1        10       100  \\\n",
       "rpoint                                                                       \n",
       "(lenthg ts)//2                      0.007344  0.007349  0.008620  0.007569   \n",
       "1                                   0.005389  0.018353  0.006680  0.006496   \n",
       "10                                  0.008020  0.007107  0.007133  0.007681   \n",
       "100                                 0.006907  0.007060  0.009669  0.008040   \n",
       "30                                  0.006754  0.008922  0.009429  0.007986   \n",
       "50                                  0.007255  0.005984  0.009068  0.009095   \n",
       "\n",
       "nb_per_class          30        50  \n",
       "rpoint                              \n",
       "(lenthg ts)//2  0.008514  0.008277  \n",
       "1               0.005984  0.007831  \n",
       "10              0.008525  0.008367  \n",
       "100             0.008131  0.008082  \n",
       "30              0.008695  0.007744  \n",
       "50              0.007772  0.008464  "
      ]
     },
     "execution_count": 64,
     "metadata": {},
     "output_type": "execute_result"
    }
   ],
   "source": [
    "# create a pivot table with the variatioon of score by hyperparameter\n",
    "pd.pivot_table(df_result_acc, values='accuracy', index=['rpoint'],columns=['nb_per_class'], aggfunc='var')"
   ]
  },
  {
   "attachments": {},
   "cell_type": "markdown",
   "metadata": {},
   "source": [
    "##### Overall time complexity"
   ]
  },
  {
   "cell_type": "code",
   "execution_count": 65,
   "metadata": {},
   "outputs": [
    {
     "data": {
      "text/html": [
       "<div>\n",
       "<style scoped>\n",
       "    .dataframe tbody tr th:only-of-type {\n",
       "        vertical-align: middle;\n",
       "    }\n",
       "\n",
       "    .dataframe tbody tr th {\n",
       "        vertical-align: top;\n",
       "    }\n",
       "\n",
       "    .dataframe thead th {\n",
       "        text-align: right;\n",
       "    }\n",
       "</style>\n",
       "<table border=\"1\" class=\"dataframe\">\n",
       "  <thead>\n",
       "    <tr style=\"text-align: right;\">\n",
       "      <th></th>\n",
       "      <th>cweights_time</th>\n",
       "      <th>fsubsequence_time</th>\n",
       "      <th>tclassifier_time</th>\n",
       "      <th>tdataset_time</th>\n",
       "      <th>time</th>\n",
       "    </tr>\n",
       "    <tr>\n",
       "      <th>dataset_name</th>\n",
       "      <th></th>\n",
       "      <th></th>\n",
       "      <th></th>\n",
       "      <th></th>\n",
       "      <th></th>\n",
       "    </tr>\n",
       "  </thead>\n",
       "  <tbody>\n",
       "    <tr>\n",
       "      <th>Chinatown</th>\n",
       "      <td>0.000148</td>\n",
       "      <td>0.001009</td>\n",
       "      <td>0.000235</td>\n",
       "      <td>0.001189</td>\n",
       "      <td>0.002611</td>\n",
       "    </tr>\n",
       "    <tr>\n",
       "      <th>Coffee</th>\n",
       "      <td>0.001126</td>\n",
       "      <td>0.082135</td>\n",
       "      <td>0.000738</td>\n",
       "      <td>2.156343</td>\n",
       "      <td>2.240458</td>\n",
       "    </tr>\n",
       "    <tr>\n",
       "      <th>DistalPhalanxOutlineAgeGroup</th>\n",
       "      <td>0.000529</td>\n",
       "      <td>0.020612</td>\n",
       "      <td>0.015880</td>\n",
       "      <td>6.829225</td>\n",
       "      <td>6.866520</td>\n",
       "    </tr>\n",
       "    <tr>\n",
       "      <th>GunPoint</th>\n",
       "      <td>0.000645</td>\n",
       "      <td>0.027494</td>\n",
       "      <td>0.000965</td>\n",
       "      <td>1.169863</td>\n",
       "      <td>1.199090</td>\n",
       "    </tr>\n",
       "    <tr>\n",
       "      <th>ItalyPowerDemand</th>\n",
       "      <td>0.000136</td>\n",
       "      <td>0.001336</td>\n",
       "      <td>0.000842</td>\n",
       "      <td>0.009811</td>\n",
       "      <td>0.012150</td>\n",
       "    </tr>\n",
       "    <tr>\n",
       "      <th>SmoothSubspace</th>\n",
       "      <td>0.000103</td>\n",
       "      <td>0.002251</td>\n",
       "      <td>0.002864</td>\n",
       "      <td>0.010263</td>\n",
       "      <td>0.015516</td>\n",
       "    </tr>\n",
       "    <tr>\n",
       "      <th>SonyAIBORobotSurface2</th>\n",
       "      <td>0.000321</td>\n",
       "      <td>0.002770</td>\n",
       "      <td>0.000283</td>\n",
       "      <td>0.030471</td>\n",
       "      <td>0.033882</td>\n",
       "    </tr>\n",
       "    <tr>\n",
       "      <th>SyntheticControl</th>\n",
       "      <td>0.000596</td>\n",
       "      <td>0.022403</td>\n",
       "      <td>0.007352</td>\n",
       "      <td>3.277018</td>\n",
       "      <td>3.307617</td>\n",
       "    </tr>\n",
       "  </tbody>\n",
       "</table>\n",
       "</div>"
      ],
      "text/plain": [
       "                              cweights_time  fsubsequence_time  \\\n",
       "dataset_name                                                     \n",
       "Chinatown                          0.000148           0.001009   \n",
       "Coffee                             0.001126           0.082135   \n",
       "DistalPhalanxOutlineAgeGroup       0.000529           0.020612   \n",
       "GunPoint                           0.000645           0.027494   \n",
       "ItalyPowerDemand                   0.000136           0.001336   \n",
       "SmoothSubspace                     0.000103           0.002251   \n",
       "SonyAIBORobotSurface2              0.000321           0.002770   \n",
       "SyntheticControl                   0.000596           0.022403   \n",
       "\n",
       "                              tclassifier_time  tdataset_time      time  \n",
       "dataset_name                                                             \n",
       "Chinatown                             0.000235       0.001189  0.002611  \n",
       "Coffee                                0.000738       2.156343  2.240458  \n",
       "DistalPhalanxOutlineAgeGroup          0.015880       6.829225  6.866520  \n",
       "GunPoint                              0.000965       1.169863  1.199090  \n",
       "ItalyPowerDemand                      0.000842       0.009811  0.012150  \n",
       "SmoothSubspace                        0.002864       0.010263  0.015516  \n",
       "SonyAIBORobotSurface2                 0.000283       0.030471  0.033882  \n",
       "SyntheticControl                      0.007352       3.277018  3.307617  "
      ]
     },
     "execution_count": 65,
     "metadata": {},
     "output_type": "execute_result"
    }
   ],
   "source": [
    "# create a pivot table with the mean of time spent in minutes\n",
    "pd.pivot_table(df_result_acc, values=['time','cweights_time','fsubsequence_time','tdataset_time','tclassifier_time'], index=['dataset_name'], aggfunc='mean')/60"
   ]
  },
  {
   "cell_type": "code",
   "execution_count": 66,
   "metadata": {},
   "outputs": [
    {
     "data": {
      "text/html": [
       "<div>\n",
       "<style scoped>\n",
       "    .dataframe tbody tr th:only-of-type {\n",
       "        vertical-align: middle;\n",
       "    }\n",
       "\n",
       "    .dataframe tbody tr th {\n",
       "        vertical-align: top;\n",
       "    }\n",
       "\n",
       "    .dataframe thead th {\n",
       "        text-align: right;\n",
       "    }\n",
       "</style>\n",
       "<table border=\"1\" class=\"dataframe\">\n",
       "  <thead>\n",
       "    <tr style=\"text-align: right;\">\n",
       "      <th>nb_per_class</th>\n",
       "      <th>(max instances per class)//2</th>\n",
       "      <th>1</th>\n",
       "      <th>10</th>\n",
       "      <th>30</th>\n",
       "      <th>50</th>\n",
       "      <th>100</th>\n",
       "    </tr>\n",
       "    <tr>\n",
       "      <th>rpoint</th>\n",
       "      <th></th>\n",
       "      <th></th>\n",
       "      <th></th>\n",
       "      <th></th>\n",
       "      <th></th>\n",
       "      <th></th>\n",
       "    </tr>\n",
       "  </thead>\n",
       "  <tbody>\n",
       "    <tr>\n",
       "      <th>(lenthg ts)//2</th>\n",
       "      <td>2.594967</td>\n",
       "      <td>0.081025</td>\n",
       "      <td>0.793013</td>\n",
       "      <td>1.867173</td>\n",
       "      <td>2.403174</td>\n",
       "      <td>3.437006</td>\n",
       "    </tr>\n",
       "    <tr>\n",
       "      <th>1</th>\n",
       "      <td>0.103583</td>\n",
       "      <td>0.015111</td>\n",
       "      <td>0.056451</td>\n",
       "      <td>0.061058</td>\n",
       "      <td>0.075114</td>\n",
       "      <td>0.102111</td>\n",
       "    </tr>\n",
       "    <tr>\n",
       "      <th>10</th>\n",
       "      <td>0.618486</td>\n",
       "      <td>0.049502</td>\n",
       "      <td>0.154839</td>\n",
       "      <td>0.407523</td>\n",
       "      <td>0.564583</td>\n",
       "      <td>0.823751</td>\n",
       "    </tr>\n",
       "    <tr>\n",
       "      <th>30</th>\n",
       "      <td>1.813811</td>\n",
       "      <td>0.048544</td>\n",
       "      <td>0.450354</td>\n",
       "      <td>1.193613</td>\n",
       "      <td>1.661248</td>\n",
       "      <td>2.443583</td>\n",
       "    </tr>\n",
       "    <tr>\n",
       "      <th>50</th>\n",
       "      <td>2.888689</td>\n",
       "      <td>0.079079</td>\n",
       "      <td>0.704976</td>\n",
       "      <td>1.892084</td>\n",
       "      <td>2.611614</td>\n",
       "      <td>3.848694</td>\n",
       "    </tr>\n",
       "    <tr>\n",
       "      <th>100</th>\n",
       "      <td>3.616004</td>\n",
       "      <td>0.101130</td>\n",
       "      <td>1.011108</td>\n",
       "      <td>2.568373</td>\n",
       "      <td>3.433753</td>\n",
       "      <td>4.919766</td>\n",
       "    </tr>\n",
       "  </tbody>\n",
       "</table>\n",
       "</div>"
      ],
      "text/plain": [
       "nb_per_class    (max instances per class)//2         1        10        30  \\\n",
       "rpoint                                                                       \n",
       "(lenthg ts)//2                      2.594967  0.081025  0.793013  1.867173   \n",
       "1                                   0.103583  0.015111  0.056451  0.061058   \n",
       "10                                  0.618486  0.049502  0.154839  0.407523   \n",
       "30                                  1.813811  0.048544  0.450354  1.193613   \n",
       "50                                  2.888689  0.079079  0.704976  1.892084   \n",
       "100                                 3.616004  0.101130  1.011108  2.568373   \n",
       "\n",
       "nb_per_class          50       100  \n",
       "rpoint                              \n",
       "(lenthg ts)//2  2.403174  3.437006  \n",
       "1               0.075114  0.102111  \n",
       "10              0.564583  0.823751  \n",
       "30              1.661248  2.443583  \n",
       "50              2.611614  3.848694  \n",
       "100             3.433753  4.919766  "
      ]
     },
     "execution_count": 66,
     "metadata": {},
     "output_type": "execute_result"
    }
   ],
   "source": [
    "# create a pivot table with the mean of time spent in minutes by random points and instances per class\n",
    "pivot = pd.pivot_table(df_result_acc, values='time', index=['rpoint'],columns=['nb_per_class'], aggfunc='mean')/60\n",
    "pivot = pivot.reindex(columns=[\"(max instances per class)//2\",\"1\",\"10\",\"30\",\"50\",\"100\"], index=[\"(lenthg ts)//2\",\"1\",\"10\",\"30\",\"50\",\"100\"])\n",
    "pivot"
   ]
  },
  {
   "attachments": {},
   "cell_type": "markdown",
   "metadata": {},
   "source": [
    "##### Calculate weights time complexity"
   ]
  },
  {
   "cell_type": "code",
   "execution_count": 67,
   "metadata": {},
   "outputs": [
    {
     "data": {
      "text/html": [
       "<div>\n",
       "<style scoped>\n",
       "    .dataframe tbody tr th:only-of-type {\n",
       "        vertical-align: middle;\n",
       "    }\n",
       "\n",
       "    .dataframe tbody tr th {\n",
       "        vertical-align: top;\n",
       "    }\n",
       "\n",
       "    .dataframe thead th {\n",
       "        text-align: right;\n",
       "    }\n",
       "</style>\n",
       "<table border=\"1\" class=\"dataframe\">\n",
       "  <thead>\n",
       "    <tr style=\"text-align: right;\">\n",
       "      <th>nb_per_class</th>\n",
       "      <th>(max instances per class)//2</th>\n",
       "      <th>1</th>\n",
       "      <th>10</th>\n",
       "      <th>100</th>\n",
       "      <th>30</th>\n",
       "      <th>50</th>\n",
       "    </tr>\n",
       "    <tr>\n",
       "      <th>rpoint</th>\n",
       "      <th></th>\n",
       "      <th></th>\n",
       "      <th></th>\n",
       "      <th></th>\n",
       "      <th></th>\n",
       "      <th></th>\n",
       "    </tr>\n",
       "  </thead>\n",
       "  <tbody>\n",
       "    <tr>\n",
       "      <th>(lenthg ts)//2</th>\n",
       "      <td>0.022103</td>\n",
       "      <td>0.025822</td>\n",
       "      <td>0.027434</td>\n",
       "      <td>0.020311</td>\n",
       "      <td>0.025918</td>\n",
       "      <td>0.022845</td>\n",
       "    </tr>\n",
       "    <tr>\n",
       "      <th>1</th>\n",
       "      <td>0.030458</td>\n",
       "      <td>0.020644</td>\n",
       "      <td>0.020792</td>\n",
       "      <td>0.022511</td>\n",
       "      <td>0.023626</td>\n",
       "      <td>0.023475</td>\n",
       "    </tr>\n",
       "    <tr>\n",
       "      <th>10</th>\n",
       "      <td>0.022519</td>\n",
       "      <td>0.021759</td>\n",
       "      <td>0.020989</td>\n",
       "      <td>0.019447</td>\n",
       "      <td>0.017650</td>\n",
       "      <td>0.022379</td>\n",
       "    </tr>\n",
       "    <tr>\n",
       "      <th>100</th>\n",
       "      <td>0.021180</td>\n",
       "      <td>0.020841</td>\n",
       "      <td>0.017924</td>\n",
       "      <td>0.022874</td>\n",
       "      <td>0.019713</td>\n",
       "      <td>0.023209</td>\n",
       "    </tr>\n",
       "    <tr>\n",
       "      <th>30</th>\n",
       "      <td>0.025112</td>\n",
       "      <td>0.023778</td>\n",
       "      <td>0.020492</td>\n",
       "      <td>0.022524</td>\n",
       "      <td>0.018971</td>\n",
       "      <td>0.022536</td>\n",
       "    </tr>\n",
       "    <tr>\n",
       "      <th>50</th>\n",
       "      <td>0.026394</td>\n",
       "      <td>0.018172</td>\n",
       "      <td>0.019975</td>\n",
       "      <td>0.022934</td>\n",
       "      <td>0.015305</td>\n",
       "      <td>0.023215</td>\n",
       "    </tr>\n",
       "  </tbody>\n",
       "</table>\n",
       "</div>"
      ],
      "text/plain": [
       "nb_per_class    (max instances per class)//2         1        10       100  \\\n",
       "rpoint                                                                       \n",
       "(lenthg ts)//2                      0.022103  0.025822  0.027434  0.020311   \n",
       "1                                   0.030458  0.020644  0.020792  0.022511   \n",
       "10                                  0.022519  0.021759  0.020989  0.019447   \n",
       "100                                 0.021180  0.020841  0.017924  0.022874   \n",
       "30                                  0.025112  0.023778  0.020492  0.022524   \n",
       "50                                  0.026394  0.018172  0.019975  0.022934   \n",
       "\n",
       "nb_per_class          30        50  \n",
       "rpoint                              \n",
       "(lenthg ts)//2  0.025918  0.022845  \n",
       "1               0.023626  0.023475  \n",
       "10              0.017650  0.022379  \n",
       "100             0.019713  0.023209  \n",
       "30              0.018971  0.022536  \n",
       "50              0.015305  0.023215  "
      ]
     },
     "execution_count": 67,
     "metadata": {},
     "output_type": "execute_result"
    }
   ],
   "source": [
    "pd.pivot_table(df_result_acc, values='cweights_time', index=['rpoint'],columns=['nb_per_class'], aggfunc='mean')"
   ]
  },
  {
   "attachments": {},
   "cell_type": "markdown",
   "metadata": {},
   "source": [
    "##### Finding subsequences time complexity"
   ]
  },
  {
   "cell_type": "code",
   "execution_count": 68,
   "metadata": {},
   "outputs": [
    {
     "data": {
      "text/html": [
       "<div>\n",
       "<style scoped>\n",
       "    .dataframe tbody tr th:only-of-type {\n",
       "        vertical-align: middle;\n",
       "    }\n",
       "\n",
       "    .dataframe tbody tr th {\n",
       "        vertical-align: top;\n",
       "    }\n",
       "\n",
       "    .dataframe thead th {\n",
       "        text-align: right;\n",
       "    }\n",
       "</style>\n",
       "<table border=\"1\" class=\"dataframe\">\n",
       "  <thead>\n",
       "    <tr style=\"text-align: right;\">\n",
       "      <th>nb_per_class</th>\n",
       "      <th>(max instances per class)//2</th>\n",
       "      <th>1</th>\n",
       "      <th>10</th>\n",
       "      <th>100</th>\n",
       "      <th>30</th>\n",
       "      <th>50</th>\n",
       "    </tr>\n",
       "    <tr>\n",
       "      <th>rpoint</th>\n",
       "      <th></th>\n",
       "      <th></th>\n",
       "      <th></th>\n",
       "      <th></th>\n",
       "      <th></th>\n",
       "      <th></th>\n",
       "    </tr>\n",
       "  </thead>\n",
       "  <tbody>\n",
       "    <tr>\n",
       "      <th>(lenthg ts)//2</th>\n",
       "      <td>0.965750</td>\n",
       "      <td>0.092316</td>\n",
       "      <td>0.733471</td>\n",
       "      <td>1.434441</td>\n",
       "      <td>1.292325</td>\n",
       "      <td>1.442339</td>\n",
       "    </tr>\n",
       "    <tr>\n",
       "      <th>1</th>\n",
       "      <td>1.569111</td>\n",
       "      <td>0.162715</td>\n",
       "      <td>0.497933</td>\n",
       "      <td>1.041109</td>\n",
       "      <td>0.837010</td>\n",
       "      <td>0.914812</td>\n",
       "    </tr>\n",
       "    <tr>\n",
       "      <th>10</th>\n",
       "      <td>0.887332</td>\n",
       "      <td>0.043997</td>\n",
       "      <td>0.405674</td>\n",
       "      <td>0.992672</td>\n",
       "      <td>0.693998</td>\n",
       "      <td>0.847386</td>\n",
       "    </tr>\n",
       "    <tr>\n",
       "      <th>100</th>\n",
       "      <td>0.898612</td>\n",
       "      <td>0.052281</td>\n",
       "      <td>0.464582</td>\n",
       "      <td>1.253262</td>\n",
       "      <td>0.958145</td>\n",
       "      <td>1.196144</td>\n",
       "    </tr>\n",
       "    <tr>\n",
       "      <th>30</th>\n",
       "      <td>0.876790</td>\n",
       "      <td>0.050819</td>\n",
       "      <td>0.461581</td>\n",
       "      <td>1.114042</td>\n",
       "      <td>0.823055</td>\n",
       "      <td>1.007264</td>\n",
       "    </tr>\n",
       "    <tr>\n",
       "      <th>50</th>\n",
       "      <td>0.986909</td>\n",
       "      <td>0.044196</td>\n",
       "      <td>0.485267</td>\n",
       "      <td>1.207313</td>\n",
       "      <td>0.889239</td>\n",
       "      <td>1.027739</td>\n",
       "    </tr>\n",
       "  </tbody>\n",
       "</table>\n",
       "</div>"
      ],
      "text/plain": [
       "nb_per_class    (max instances per class)//2         1        10       100  \\\n",
       "rpoint                                                                       \n",
       "(lenthg ts)//2                      0.965750  0.092316  0.733471  1.434441   \n",
       "1                                   1.569111  0.162715  0.497933  1.041109   \n",
       "10                                  0.887332  0.043997  0.405674  0.992672   \n",
       "100                                 0.898612  0.052281  0.464582  1.253262   \n",
       "30                                  0.876790  0.050819  0.461581  1.114042   \n",
       "50                                  0.986909  0.044196  0.485267  1.207313   \n",
       "\n",
       "nb_per_class          30        50  \n",
       "rpoint                              \n",
       "(lenthg ts)//2  1.292325  1.442339  \n",
       "1               0.837010  0.914812  \n",
       "10              0.693998  0.847386  \n",
       "100             0.958145  1.196144  \n",
       "30              0.823055  1.007264  \n",
       "50              0.889239  1.027739  "
      ]
     },
     "execution_count": 68,
     "metadata": {},
     "output_type": "execute_result"
    }
   ],
   "source": [
    "pd.pivot_table(df_result_acc, values='fsubsequence_time', index=['rpoint'],columns=['nb_per_class'], aggfunc='mean')"
   ]
  },
  {
   "attachments": {},
   "cell_type": "markdown",
   "metadata": {},
   "source": [
    "##### Transform Dataset time complexity"
   ]
  },
  {
   "cell_type": "code",
   "execution_count": 69,
   "metadata": {},
   "outputs": [
    {
     "data": {
      "text/html": [
       "<div>\n",
       "<style scoped>\n",
       "    .dataframe tbody tr th:only-of-type {\n",
       "        vertical-align: middle;\n",
       "    }\n",
       "\n",
       "    .dataframe tbody tr th {\n",
       "        vertical-align: top;\n",
       "    }\n",
       "\n",
       "    .dataframe thead th {\n",
       "        text-align: right;\n",
       "    }\n",
       "</style>\n",
       "<table border=\"1\" class=\"dataframe\">\n",
       "  <thead>\n",
       "    <tr style=\"text-align: right;\">\n",
       "      <th>nb_per_class</th>\n",
       "      <th>(max instances per class)//2</th>\n",
       "      <th>1</th>\n",
       "      <th>10</th>\n",
       "      <th>100</th>\n",
       "      <th>30</th>\n",
       "      <th>50</th>\n",
       "    </tr>\n",
       "    <tr>\n",
       "      <th>rpoint</th>\n",
       "      <th></th>\n",
       "      <th></th>\n",
       "      <th></th>\n",
       "      <th></th>\n",
       "      <th></th>\n",
       "      <th></th>\n",
       "    </tr>\n",
       "  </thead>\n",
       "  <tbody>\n",
       "    <tr>\n",
       "      <th>(lenthg ts)//2</th>\n",
       "      <td>154.544750</td>\n",
       "      <td>4.573416</td>\n",
       "      <td>46.756754</td>\n",
       "      <td>204.545282</td>\n",
       "      <td>110.572247</td>\n",
       "      <td>142.527730</td>\n",
       "    </tr>\n",
       "    <tr>\n",
       "      <th>1</th>\n",
       "      <td>4.360863</td>\n",
       "      <td>0.346049</td>\n",
       "      <td>1.110141</td>\n",
       "      <td>5.035816</td>\n",
       "      <td>2.632361</td>\n",
       "      <td>3.537461</td>\n",
       "    </tr>\n",
       "    <tr>\n",
       "      <th>10</th>\n",
       "      <td>36.138123</td>\n",
       "      <td>1.065136</td>\n",
       "      <td>8.833083</td>\n",
       "      <td>48.350240</td>\n",
       "      <td>23.698831</td>\n",
       "      <td>32.949706</td>\n",
       "    </tr>\n",
       "    <tr>\n",
       "      <th>100</th>\n",
       "      <td>215.845850</td>\n",
       "      <td>5.875026</td>\n",
       "      <td>60.121621</td>\n",
       "      <td>293.667823</td>\n",
       "      <td>152.983376</td>\n",
       "      <td>204.605143</td>\n",
       "    </tr>\n",
       "    <tr>\n",
       "      <th>30</th>\n",
       "      <td>107.781804</td>\n",
       "      <td>2.705348</td>\n",
       "      <td>26.493982</td>\n",
       "      <td>145.328837</td>\n",
       "      <td>70.693309</td>\n",
       "      <td>98.532441</td>\n",
       "    </tr>\n",
       "    <tr>\n",
       "      <th>50</th>\n",
       "      <td>172.122037</td>\n",
       "      <td>4.543585</td>\n",
       "      <td>41.738543</td>\n",
       "      <td>229.488478</td>\n",
       "      <td>112.511599</td>\n",
       "      <td>155.503506</td>\n",
       "    </tr>\n",
       "  </tbody>\n",
       "</table>\n",
       "</div>"
      ],
      "text/plain": [
       "nb_per_class    (max instances per class)//2         1         10         100  \\\n",
       "rpoint                                                                          \n",
       "(lenthg ts)//2                    154.544750  4.573416  46.756754  204.545282   \n",
       "1                                   4.360863  0.346049   1.110141    5.035816   \n",
       "10                                 36.138123  1.065136   8.833083   48.350240   \n",
       "100                               215.845850  5.875026  60.121621  293.667823   \n",
       "30                                107.781804  2.705348  26.493982  145.328837   \n",
       "50                                172.122037  4.543585  41.738543  229.488478   \n",
       "\n",
       "nb_per_class            30          50  \n",
       "rpoint                                  \n",
       "(lenthg ts)//2  110.572247  142.527730  \n",
       "1                 2.632361    3.537461  \n",
       "10               23.698831   32.949706  \n",
       "100             152.983376  204.605143  \n",
       "30               70.693309   98.532441  \n",
       "50              112.511599  155.503506  "
      ]
     },
     "execution_count": 69,
     "metadata": {},
     "output_type": "execute_result"
    }
   ],
   "source": [
    "pd.pivot_table(df_result_acc, values='tdataset_time', index=['rpoint'],columns=['nb_per_class'], aggfunc='mean')"
   ]
  },
  {
   "attachments": {},
   "cell_type": "markdown",
   "metadata": {},
   "source": [
    "##### Classifier time complexity"
   ]
  },
  {
   "cell_type": "code",
   "execution_count": 70,
   "metadata": {},
   "outputs": [
    {
     "data": {
      "text/html": [
       "<div>\n",
       "<style scoped>\n",
       "    .dataframe tbody tr th:only-of-type {\n",
       "        vertical-align: middle;\n",
       "    }\n",
       "\n",
       "    .dataframe tbody tr th {\n",
       "        vertical-align: top;\n",
       "    }\n",
       "\n",
       "    .dataframe thead th {\n",
       "        text-align: right;\n",
       "    }\n",
       "</style>\n",
       "<table border=\"1\" class=\"dataframe\">\n",
       "  <thead>\n",
       "    <tr style=\"text-align: right;\">\n",
       "      <th>nb_per_class</th>\n",
       "      <th>(max instances per class)//2</th>\n",
       "      <th>1</th>\n",
       "      <th>10</th>\n",
       "      <th>100</th>\n",
       "      <th>30</th>\n",
       "      <th>50</th>\n",
       "    </tr>\n",
       "    <tr>\n",
       "      <th>rpoint</th>\n",
       "      <th></th>\n",
       "      <th></th>\n",
       "      <th></th>\n",
       "      <th></th>\n",
       "      <th></th>\n",
       "      <th></th>\n",
       "    </tr>\n",
       "  </thead>\n",
       "  <tbody>\n",
       "    <tr>\n",
       "      <th>(lenthg ts)//2</th>\n",
       "      <td>0.152924</td>\n",
       "      <td>0.168606</td>\n",
       "      <td>0.058404</td>\n",
       "      <td>0.207417</td>\n",
       "      <td>0.130484</td>\n",
       "      <td>0.184439</td>\n",
       "    </tr>\n",
       "    <tr>\n",
       "      <th>1</th>\n",
       "      <td>0.249031</td>\n",
       "      <td>0.375805</td>\n",
       "      <td>1.755404</td>\n",
       "      <td>0.025696</td>\n",
       "      <td>0.167911</td>\n",
       "      <td>0.029237</td>\n",
       "    </tr>\n",
       "    <tr>\n",
       "      <th>10</th>\n",
       "      <td>0.058772</td>\n",
       "      <td>1.837423</td>\n",
       "      <td>0.028465</td>\n",
       "      <td>0.059958</td>\n",
       "      <td>0.038723</td>\n",
       "      <td>0.053221</td>\n",
       "    </tr>\n",
       "    <tr>\n",
       "      <th>100</th>\n",
       "      <td>0.186279</td>\n",
       "      <td>0.117877</td>\n",
       "      <td>0.059439</td>\n",
       "      <td>0.230976</td>\n",
       "      <td>0.134306</td>\n",
       "      <td>0.192364</td>\n",
       "    </tr>\n",
       "    <tr>\n",
       "      <th>30</th>\n",
       "      <td>0.139268</td>\n",
       "      <td>0.130812</td>\n",
       "      <td>0.041478</td>\n",
       "      <td>0.143987</td>\n",
       "      <td>0.077672</td>\n",
       "      <td>0.107968</td>\n",
       "    </tr>\n",
       "    <tr>\n",
       "      <th>50</th>\n",
       "      <td>0.178300</td>\n",
       "      <td>0.136425</td>\n",
       "      <td>0.051516</td>\n",
       "      <td>0.194202</td>\n",
       "      <td>0.103430</td>\n",
       "      <td>0.135921</td>\n",
       "    </tr>\n",
       "  </tbody>\n",
       "</table>\n",
       "</div>"
      ],
      "text/plain": [
       "nb_per_class    (max instances per class)//2         1        10       100  \\\n",
       "rpoint                                                                       \n",
       "(lenthg ts)//2                      0.152924  0.168606  0.058404  0.207417   \n",
       "1                                   0.249031  0.375805  1.755404  0.025696   \n",
       "10                                  0.058772  1.837423  0.028465  0.059958   \n",
       "100                                 0.186279  0.117877  0.059439  0.230976   \n",
       "30                                  0.139268  0.130812  0.041478  0.143987   \n",
       "50                                  0.178300  0.136425  0.051516  0.194202   \n",
       "\n",
       "nb_per_class          30        50  \n",
       "rpoint                              \n",
       "(lenthg ts)//2  0.130484  0.184439  \n",
       "1               0.167911  0.029237  \n",
       "10              0.038723  0.053221  \n",
       "100             0.134306  0.192364  \n",
       "30              0.077672  0.107968  \n",
       "50              0.103430  0.135921  "
      ]
     },
     "execution_count": 70,
     "metadata": {},
     "output_type": "execute_result"
    }
   ],
   "source": [
    "pd.pivot_table(df_result_acc, values='tclassifier_time', index=['rpoint'],columns=['nb_per_class'], aggfunc='mean')"
   ]
  }
 ],
 "metadata": {
  "kernelspec": {
   "display_name": "rsast_env",
   "language": "python",
   "name": "python3"
  },
  "language_info": {
   "codemirror_mode": {
    "name": "ipython",
    "version": 3
   },
   "file_extension": ".py",
   "mimetype": "text/x-python",
   "name": "python",
   "nbconvert_exporter": "python",
   "pygments_lexer": "ipython3",
   "version": "3.9.13"
  },
  "vscode": {
   "interpreter": {
    "hash": "15558ed87e778df9776c3e85b8e1a3f1f5adbf230fcca0229423f99909b60d27"
   }
  }
 },
 "nbformat": 4,
 "nbformat_minor": 2
}
