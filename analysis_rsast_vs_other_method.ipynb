{
 "cells": [
  {
   "attachments": {},
   "cell_type": "markdown",
   "metadata": {},
   "source": [
    "## Experiments: Comparing RSAST with other methods"
   ]
  },
  {
   "cell_type": "code",
   "execution_count": 11,
   "metadata": {},
   "outputs": [],
   "source": [
    "from sast.sast import *\n",
    "from sktime.datasets import load_UCR_UEA_dataset, tsc_dataset_names\n",
    "from sktime.classification.kernel_based import RocketClassifier\n",
    "import time\n",
    "import pandas as pd\n",
    "from sktime.transformations.panel.shapelet_transform import ShapeletTransform\n",
    "import matplotlib.pyplot as plt\n",
    "import os"
   ]
  },
  {
   "attachments": {},
   "cell_type": "markdown",
   "metadata": {},
   "source": [
    "### Reading Datasets"
   ]
  },
  {
   "cell_type": "code",
   "execution_count": 2,
   "metadata": {},
   "outputs": [
    {
     "data": {
      "text/plain": [
       "Index(['Unnamed: 0', 'accuracy', 'time', 'cweights_time', 'fsubsequence_time',\n",
       "       'tdataset_time', 'tclassifier_time', 'dataset_name', 'classifier_name',\n",
       "       'rpoint', 'nb_per_class', 'method', 'len_method'],\n",
       "      dtype='object')"
      ]
     },
     "execution_count": 2,
     "metadata": {},
     "output_type": "execute_result"
    }
   ],
   "source": [
    "# Set directory where the csv files are located\n",
    "directory = '/home/nirojasvar/random_sast/ResultsByClassifier'\n",
    "\n",
    "# Create an empty list to store the dataframes\n",
    "dfs = []\n",
    "\n",
    "# Loop through all files in the directory\n",
    "for filename in os.listdir(directory):\n",
    "    # Check if the file starts with \"df_overall_tunning\" and ends with \".csv\"\n",
    "    if filename.endswith(\".csv\"):\n",
    "        # Read the csv file into a dataframe\n",
    "        filepath = os.path.join(directory, filename)\n",
    "        df = pd.read_csv(filepath)\n",
    "        # Append the dataframe to the list\n",
    "        df['filename']=filename\n",
    "        dfs.append(df)\n",
    "\n",
    "# Concatenate all the dataframes in the list into one dataframe\n",
    "df_other_methods = pd.concat(dfs, ignore_index=True)\n",
    "df_other_methods=df_other_methods[['filename','folds:','0']]\n",
    "df_other_methods['method']=df_other_methods['filename'].str.split('_').str[0]\n",
    "df_other_methods\n",
    "df_other_methods=df_other_methods.rename(columns={'folds:':'dataset','0':'score'})\n",
    "df_other_methods=df_other_methods[['dataset','score','method']]\n",
    "\n",
    "# Set directory where the csv files are located\n",
    "directory = '/home/nirojasvar/random_sast/ResultsRsast'\n",
    "\n",
    "# Create an empty list to store the dataframes\n",
    "dfs = []\n",
    "\n",
    "# Loop through all files in the directory\n",
    "for filename in os.listdir(directory):\n",
    "    # Check if the file starts with \"df_overall_tunning\" and ends with \".csv\"\n",
    "    if filename.startswith(\"df_overall_tunning\") and filename.endswith(\".csv\"):\n",
    "        # Read the csv file into a dataframe\n",
    "        filepath = os.path.join(directory, filename)\n",
    "        df = pd.read_csv(filepath)\n",
    "        # Append the dataframe to the list\n",
    "        dfs.append(df)\n",
    "\n",
    "# Concatenate all the dataframes in the list into one dataframe\n",
    "df_result = pd.concat(dfs, ignore_index=True)\n",
    "df_result.columns"
   ]
  },
  {
   "cell_type": "code",
   "execution_count": 3,
   "metadata": {},
   "outputs": [
    {
     "data": {
      "text/plain": [
       "array(['SmoothSubspace', 'GunPoint', 'ItalyPowerDemand', 'ShapeletSim',\n",
       "       'ItalyPowerDemand', 'Chinatown', 'BirdChicken', 'SyntheticControl',\n",
       "       'Chinatown', 'GunPoint', 'ShapeletSim', 'SmoothSubspace',\n",
       "       'ShapeletSim', 'Chinatown', 'SmoothSubspace', 'BirdChicken',\n",
       "       'ItalyPowerDemand', 'GunPoint', 'BirdChicken'], dtype=object)"
      ]
     },
     "execution_count": 3,
     "metadata": {},
     "output_type": "execute_result"
    }
   ],
   "source": [
    "df_result=df_result[['accuracy','dataset_name','classifier_name']]\n",
    "df_result=df_result[df_result[\"classifier_name\"]==\"ACF&PACF: n_random_points=100 nb_inst_per_class=50\"]\n",
    "df_result.dataset_name.values\n"
   ]
  },
  {
   "cell_type": "code",
   "execution_count": 4,
   "metadata": {},
   "outputs": [
    {
     "data": {
      "text/plain": [
       "Index(['dataset_name', 'accuracy', 'classifier_name'], dtype='object')"
      ]
     },
     "execution_count": 4,
     "metadata": {},
     "output_type": "execute_result"
    }
   ],
   "source": [
    "\n",
    "df_other_methods=df_other_methods.rename(columns={\"dataset\":\"dataset_name\",\"score\":\"accuracy\",\"method\":\"classifier_name\"})\n",
    "df_other_methods = df_other_methods[df_other_methods['dataset_name'].isin(df_result.dataset_name.values)]\n",
    "df_other_methods.columns"
   ]
  },
  {
   "cell_type": "code",
   "execution_count": 5,
   "metadata": {},
   "outputs": [],
   "source": [
    "# concatenate the two dataframes\n",
    "concatenated_df = pd.concat([df_other_methods, df_result])\n",
    "\n",
    "# reset the index of the concatenated dataframe\n",
    "concatenated_df = concatenated_df.reset_index(drop=True)\n"
   ]
  },
  {
   "cell_type": "code",
   "execution_count": 6,
   "metadata": {},
   "outputs": [
    {
     "data": {
      "text/plain": [
       "array(['ROCKET', 'HIVE-COTEv1', 'BOSS', 'RISE', 'TSF', 'InceptionTime',\n",
       "       'TS-CHIEF', 'S-BOSS', 'STC', 'ResNet', 'ProximityForest', 'WEASEL',\n",
       "       'Catch22', 'cBOSS',\n",
       "       'ACF&PACF: n_random_points=100 nb_inst_per_class=50'], dtype=object)"
      ]
     },
     "execution_count": 6,
     "metadata": {},
     "output_type": "execute_result"
    }
   ],
   "source": [
    "concatenated_df['classifier_name'].unique()"
   ]
  },
  {
   "attachments": {},
   "cell_type": "markdown",
   "metadata": {},
   "source": [
    "### Overall analysis"
   ]
  },
  {
   "attachments": {},
   "cell_type": "markdown",
   "metadata": {},
   "source": [
    "#### Accuracy: RSAST vs Other methods"
   ]
  },
  {
   "cell_type": "code",
   "execution_count": 7,
   "metadata": {},
   "outputs": [
    {
     "data": {
      "text/html": [
       "<div>\n",
       "<style scoped>\n",
       "    .dataframe tbody tr th:only-of-type {\n",
       "        vertical-align: middle;\n",
       "    }\n",
       "\n",
       "    .dataframe tbody tr th {\n",
       "        vertical-align: top;\n",
       "    }\n",
       "\n",
       "    .dataframe thead th {\n",
       "        text-align: right;\n",
       "    }\n",
       "</style>\n",
       "<table border=\"1\" class=\"dataframe\">\n",
       "  <thead>\n",
       "    <tr style=\"text-align: right;\">\n",
       "      <th>dataset_name</th>\n",
       "      <th>BirdChicken</th>\n",
       "      <th>Chinatown</th>\n",
       "      <th>GunPoint</th>\n",
       "      <th>ItalyPowerDemand</th>\n",
       "      <th>ShapeletSim</th>\n",
       "      <th>SmoothSubspace</th>\n",
       "      <th>SyntheticControl</th>\n",
       "    </tr>\n",
       "    <tr>\n",
       "      <th>classifier_name</th>\n",
       "      <th></th>\n",
       "      <th></th>\n",
       "      <th></th>\n",
       "      <th></th>\n",
       "      <th></th>\n",
       "      <th></th>\n",
       "      <th></th>\n",
       "    </tr>\n",
       "  </thead>\n",
       "  <tbody>\n",
       "    <tr>\n",
       "      <th>ACF&amp;PACF: n_random_points=100 nb_inst_per_class=50</th>\n",
       "      <td>0.85</td>\n",
       "      <td>0.985423</td>\n",
       "      <td>0.982222</td>\n",
       "      <td>0.952381</td>\n",
       "      <td>0.887037</td>\n",
       "      <td>0.906667</td>\n",
       "      <td>0.333333</td>\n",
       "    </tr>\n",
       "    <tr>\n",
       "      <th>BOSS</th>\n",
       "      <td>0.95</td>\n",
       "      <td>0.766764</td>\n",
       "      <td>1.000000</td>\n",
       "      <td>0.908649</td>\n",
       "      <td>1.000000</td>\n",
       "      <td>0.393333</td>\n",
       "      <td>0.966667</td>\n",
       "    </tr>\n",
       "    <tr>\n",
       "      <th>Catch22</th>\n",
       "      <td>0.90</td>\n",
       "      <td>0.930435</td>\n",
       "      <td>0.946667</td>\n",
       "      <td>0.896016</td>\n",
       "      <td>0.994444</td>\n",
       "      <td>0.866667</td>\n",
       "      <td>0.970000</td>\n",
       "    </tr>\n",
       "    <tr>\n",
       "      <th>HIVE-COTEv1</th>\n",
       "      <td>1.00</td>\n",
       "      <td>0.979592</td>\n",
       "      <td>0.993333</td>\n",
       "      <td>0.962099</td>\n",
       "      <td>1.000000</td>\n",
       "      <td>0.980000</td>\n",
       "      <td>0.996667</td>\n",
       "    </tr>\n",
       "    <tr>\n",
       "      <th>InceptionTime</th>\n",
       "      <td>0.95</td>\n",
       "      <td>0.988338</td>\n",
       "      <td>1.000000</td>\n",
       "      <td>0.965986</td>\n",
       "      <td>0.994444</td>\n",
       "      <td>0.986667</td>\n",
       "      <td>0.996667</td>\n",
       "    </tr>\n",
       "    <tr>\n",
       "      <th>ProximityForest</th>\n",
       "      <td>0.85</td>\n",
       "      <td>0.971014</td>\n",
       "      <td>1.000000</td>\n",
       "      <td>0.965986</td>\n",
       "      <td>0.800000</td>\n",
       "      <td>1.000000</td>\n",
       "      <td>0.996667</td>\n",
       "    </tr>\n",
       "    <tr>\n",
       "      <th>RISE</th>\n",
       "      <td>0.95</td>\n",
       "      <td>0.959184</td>\n",
       "      <td>0.980000</td>\n",
       "      <td>0.953353</td>\n",
       "      <td>0.783333</td>\n",
       "      <td>0.873333</td>\n",
       "      <td>0.666667</td>\n",
       "    </tr>\n",
       "    <tr>\n",
       "      <th>ROCKET</th>\n",
       "      <td>0.90</td>\n",
       "      <td>0.982507</td>\n",
       "      <td>1.000000</td>\n",
       "      <td>0.968902</td>\n",
       "      <td>1.000000</td>\n",
       "      <td>0.980000</td>\n",
       "      <td>1.000000</td>\n",
       "    </tr>\n",
       "    <tr>\n",
       "      <th>ResNet</th>\n",
       "      <td>0.90</td>\n",
       "      <td>0.976812</td>\n",
       "      <td>0.993333</td>\n",
       "      <td>0.965015</td>\n",
       "      <td>0.755556</td>\n",
       "      <td>1.000000</td>\n",
       "      <td>0.996667</td>\n",
       "    </tr>\n",
       "    <tr>\n",
       "      <th>S-BOSS</th>\n",
       "      <td>0.95</td>\n",
       "      <td>0.784257</td>\n",
       "      <td>1.000000</td>\n",
       "      <td>0.908649</td>\n",
       "      <td>1.000000</td>\n",
       "      <td>0.393333</td>\n",
       "      <td>0.963333</td>\n",
       "    </tr>\n",
       "    <tr>\n",
       "      <th>STC</th>\n",
       "      <td>0.95</td>\n",
       "      <td>0.967930</td>\n",
       "      <td>0.993333</td>\n",
       "      <td>0.955296</td>\n",
       "      <td>1.000000</td>\n",
       "      <td>0.933333</td>\n",
       "      <td>0.996667</td>\n",
       "    </tr>\n",
       "    <tr>\n",
       "      <th>TS-CHIEF</th>\n",
       "      <td>0.95</td>\n",
       "      <td>0.968116</td>\n",
       "      <td>1.000000</td>\n",
       "      <td>0.965015</td>\n",
       "      <td>1.000000</td>\n",
       "      <td>1.000000</td>\n",
       "      <td>0.996667</td>\n",
       "    </tr>\n",
       "    <tr>\n",
       "      <th>TSF</th>\n",
       "      <td>0.80</td>\n",
       "      <td>0.982507</td>\n",
       "      <td>0.960000</td>\n",
       "      <td>0.966958</td>\n",
       "      <td>0.461111</td>\n",
       "      <td>0.986667</td>\n",
       "      <td>0.990000</td>\n",
       "    </tr>\n",
       "    <tr>\n",
       "      <th>WEASEL</th>\n",
       "      <td>0.90</td>\n",
       "      <td>0.956268</td>\n",
       "      <td>1.000000</td>\n",
       "      <td>0.955296</td>\n",
       "      <td>1.000000</td>\n",
       "      <td>0.833333</td>\n",
       "      <td>0.993333</td>\n",
       "    </tr>\n",
       "    <tr>\n",
       "      <th>cBOSS</th>\n",
       "      <td>1.00</td>\n",
       "      <td>0.950725</td>\n",
       "      <td>1.000000</td>\n",
       "      <td>0.923226</td>\n",
       "      <td>0.994444</td>\n",
       "      <td>0.520000</td>\n",
       "      <td>0.946667</td>\n",
       "    </tr>\n",
       "  </tbody>\n",
       "</table>\n",
       "</div>"
      ],
      "text/plain": [
       "dataset_name                                        BirdChicken  Chinatown  \\\n",
       "classifier_name                                                              \n",
       "ACF&PACF: n_random_points=100 nb_inst_per_class=50         0.85   0.985423   \n",
       "BOSS                                                       0.95   0.766764   \n",
       "Catch22                                                    0.90   0.930435   \n",
       "HIVE-COTEv1                                                1.00   0.979592   \n",
       "InceptionTime                                              0.95   0.988338   \n",
       "ProximityForest                                            0.85   0.971014   \n",
       "RISE                                                       0.95   0.959184   \n",
       "ROCKET                                                     0.90   0.982507   \n",
       "ResNet                                                     0.90   0.976812   \n",
       "S-BOSS                                                     0.95   0.784257   \n",
       "STC                                                        0.95   0.967930   \n",
       "TS-CHIEF                                                   0.95   0.968116   \n",
       "TSF                                                        0.80   0.982507   \n",
       "WEASEL                                                     0.90   0.956268   \n",
       "cBOSS                                                      1.00   0.950725   \n",
       "\n",
       "dataset_name                                        GunPoint  \\\n",
       "classifier_name                                                \n",
       "ACF&PACF: n_random_points=100 nb_inst_per_class=50  0.982222   \n",
       "BOSS                                                1.000000   \n",
       "Catch22                                             0.946667   \n",
       "HIVE-COTEv1                                         0.993333   \n",
       "InceptionTime                                       1.000000   \n",
       "ProximityForest                                     1.000000   \n",
       "RISE                                                0.980000   \n",
       "ROCKET                                              1.000000   \n",
       "ResNet                                              0.993333   \n",
       "S-BOSS                                              1.000000   \n",
       "STC                                                 0.993333   \n",
       "TS-CHIEF                                            1.000000   \n",
       "TSF                                                 0.960000   \n",
       "WEASEL                                              1.000000   \n",
       "cBOSS                                               1.000000   \n",
       "\n",
       "dataset_name                                        ItalyPowerDemand  \\\n",
       "classifier_name                                                        \n",
       "ACF&PACF: n_random_points=100 nb_inst_per_class=50          0.952381   \n",
       "BOSS                                                        0.908649   \n",
       "Catch22                                                     0.896016   \n",
       "HIVE-COTEv1                                                 0.962099   \n",
       "InceptionTime                                               0.965986   \n",
       "ProximityForest                                             0.965986   \n",
       "RISE                                                        0.953353   \n",
       "ROCKET                                                      0.968902   \n",
       "ResNet                                                      0.965015   \n",
       "S-BOSS                                                      0.908649   \n",
       "STC                                                         0.955296   \n",
       "TS-CHIEF                                                    0.965015   \n",
       "TSF                                                         0.966958   \n",
       "WEASEL                                                      0.955296   \n",
       "cBOSS                                                       0.923226   \n",
       "\n",
       "dataset_name                                        ShapeletSim  \\\n",
       "classifier_name                                                   \n",
       "ACF&PACF: n_random_points=100 nb_inst_per_class=50     0.887037   \n",
       "BOSS                                                   1.000000   \n",
       "Catch22                                                0.994444   \n",
       "HIVE-COTEv1                                            1.000000   \n",
       "InceptionTime                                          0.994444   \n",
       "ProximityForest                                        0.800000   \n",
       "RISE                                                   0.783333   \n",
       "ROCKET                                                 1.000000   \n",
       "ResNet                                                 0.755556   \n",
       "S-BOSS                                                 1.000000   \n",
       "STC                                                    1.000000   \n",
       "TS-CHIEF                                               1.000000   \n",
       "TSF                                                    0.461111   \n",
       "WEASEL                                                 1.000000   \n",
       "cBOSS                                                  0.994444   \n",
       "\n",
       "dataset_name                                        SmoothSubspace  \\\n",
       "classifier_name                                                      \n",
       "ACF&PACF: n_random_points=100 nb_inst_per_class=50        0.906667   \n",
       "BOSS                                                      0.393333   \n",
       "Catch22                                                   0.866667   \n",
       "HIVE-COTEv1                                               0.980000   \n",
       "InceptionTime                                             0.986667   \n",
       "ProximityForest                                           1.000000   \n",
       "RISE                                                      0.873333   \n",
       "ROCKET                                                    0.980000   \n",
       "ResNet                                                    1.000000   \n",
       "S-BOSS                                                    0.393333   \n",
       "STC                                                       0.933333   \n",
       "TS-CHIEF                                                  1.000000   \n",
       "TSF                                                       0.986667   \n",
       "WEASEL                                                    0.833333   \n",
       "cBOSS                                                     0.520000   \n",
       "\n",
       "dataset_name                                        SyntheticControl  \n",
       "classifier_name                                                       \n",
       "ACF&PACF: n_random_points=100 nb_inst_per_class=50          0.333333  \n",
       "BOSS                                                        0.966667  \n",
       "Catch22                                                     0.970000  \n",
       "HIVE-COTEv1                                                 0.996667  \n",
       "InceptionTime                                               0.996667  \n",
       "ProximityForest                                             0.996667  \n",
       "RISE                                                        0.666667  \n",
       "ROCKET                                                      1.000000  \n",
       "ResNet                                                      0.996667  \n",
       "S-BOSS                                                      0.963333  \n",
       "STC                                                         0.996667  \n",
       "TS-CHIEF                                                    0.996667  \n",
       "TSF                                                         0.990000  \n",
       "WEASEL                                                      0.993333  \n",
       "cBOSS                                                       0.946667  "
      ]
     },
     "execution_count": 7,
     "metadata": {},
     "output_type": "execute_result"
    }
   ],
   "source": [
    "# create a pivot table with the mean of score by hyperparameter\n",
    "score_by_method=pd.pivot_table(concatenated_df, values='accuracy', index=['classifier_name'],columns=['dataset_name'], aggfunc='mean')\n",
    "score_by_method\n"
   ]
  },
  {
   "cell_type": "code",
   "execution_count": 35,
   "metadata": {},
   "outputs": [
    {
     "data": {
      "text/html": [
       "<div>\n",
       "<style scoped>\n",
       "    .dataframe tbody tr th:only-of-type {\n",
       "        vertical-align: middle;\n",
       "    }\n",
       "\n",
       "    .dataframe tbody tr th {\n",
       "        vertical-align: top;\n",
       "    }\n",
       "\n",
       "    .dataframe thead th {\n",
       "        text-align: right;\n",
       "    }\n",
       "</style>\n",
       "<table border=\"1\" class=\"dataframe\">\n",
       "  <thead>\n",
       "    <tr style=\"text-align: right;\">\n",
       "      <th>classifier_name</th>\n",
       "      <th>ACF&amp;PACF: n_random_points=100 nb_inst_per_class=50</th>\n",
       "      <th>STC</th>\n",
       "    </tr>\n",
       "    <tr>\n",
       "      <th>dataset_name</th>\n",
       "      <th></th>\n",
       "      <th></th>\n",
       "    </tr>\n",
       "  </thead>\n",
       "  <tbody>\n",
       "    <tr>\n",
       "      <th>BirdChicken</th>\n",
       "      <td>0.850000</td>\n",
       "      <td>0.950000</td>\n",
       "    </tr>\n",
       "    <tr>\n",
       "      <th>Chinatown</th>\n",
       "      <td>0.985423</td>\n",
       "      <td>0.967930</td>\n",
       "    </tr>\n",
       "    <tr>\n",
       "      <th>GunPoint</th>\n",
       "      <td>0.982222</td>\n",
       "      <td>0.993333</td>\n",
       "    </tr>\n",
       "    <tr>\n",
       "      <th>ItalyPowerDemand</th>\n",
       "      <td>0.952381</td>\n",
       "      <td>0.955296</td>\n",
       "    </tr>\n",
       "    <tr>\n",
       "      <th>ShapeletSim</th>\n",
       "      <td>0.887037</td>\n",
       "      <td>1.000000</td>\n",
       "    </tr>\n",
       "    <tr>\n",
       "      <th>SmoothSubspace</th>\n",
       "      <td>0.906667</td>\n",
       "      <td>0.933333</td>\n",
       "    </tr>\n",
       "    <tr>\n",
       "      <th>SyntheticControl</th>\n",
       "      <td>0.333333</td>\n",
       "      <td>0.996667</td>\n",
       "    </tr>\n",
       "  </tbody>\n",
       "</table>\n",
       "</div>"
      ],
      "text/plain": [
       "classifier_name   ACF&PACF: n_random_points=100 nb_inst_per_class=50       STC\n",
       "dataset_name                                                                  \n",
       "BirdChicken                                                0.850000   0.950000\n",
       "Chinatown                                                  0.985423   0.967930\n",
       "GunPoint                                                   0.982222   0.993333\n",
       "ItalyPowerDemand                                           0.952381   0.955296\n",
       "ShapeletSim                                                0.887037   1.000000\n",
       "SmoothSubspace                                             0.906667   0.933333\n",
       "SyntheticControl                                           0.333333   0.996667"
      ]
     },
     "execution_count": 35,
     "metadata": {},
     "output_type": "execute_result"
    }
   ],
   "source": [
    "t_score_by_method=score_by_method.transpose()\n",
    "t_score_by_method[[\"ACF&PACF: n_random_points=100 nb_inst_per_class=50\",\"STC\"]]"
   ]
  },
  {
   "cell_type": "code",
   "execution_count": 34,
   "metadata": {},
   "outputs": [
    {
     "name": "stderr",
     "output_type": "stream",
     "text": [
      "/tmp/ipykernel_10766/2497221041.py:5: MatplotlibDeprecationWarning: The seaborn styles shipped by Matplotlib are deprecated since 3.6, as they no longer correspond to the styles shipped by seaborn. However, they will remain available as 'seaborn-v0_8-<style>'. Alternatively, directly use the seaborn API instead.\n",
      "  plt.style.use('seaborn')\n"
     ]
    },
    {
     "data": {
      "image/png": "[encoded data removed]",
      "text/plain": [
       "<Figure size 800x600 with 1 Axes>"
      ]
     },
     "metadata": {},
     "output_type": "display_data"
    }
   ],
   "source": [
    "x=t_score_by_method[\"ACF&PACF: n_random_points=100 nb_inst_per_class=50\"]\n",
    "y=t_score_by_method[\"STC\"]\n",
    "\n",
    "# set the style of the plot\n",
    "plt.style.use('seaborn')\n",
    "\n",
    "# create the plot\n",
    "fig, ax = plt.subplots(figsize=(8, 6))\n",
    "\n",
    "# plot the line\n",
    "ax.plot([0,1], [0,1])\n",
    "\n",
    "# plot the points\n",
    "ax.scatter(x, y, color='blue', edgecolor='blue', s=30, zorder=10)\n",
    "\n",
    "# add labels and title\n",
    "ax.set_xlabel('RSAST')\n",
    "ax.set_ylabel('STC')\n",
    "ax.set_title('Accuracy')\n",
    "\n",
    "# set the background color\n",
    "ax.set_facecolor('lightgrey')\n",
    "plt.savefig('RSASTvsSTC.png')\n"
   ]
  },
  {
   "cell_type": "code",
   "execution_count": null,
   "metadata": {},
   "outputs": [],
   "source": [
    "# create a pivot table with the variatioon of score by hyperparameter\n",
    "pd.pivot_table(concatenated_df, values='accuracy', index=['classifier_name'],columns=['dataset_name'], aggfunc='var')\n"
   ]
  },
  {
   "attachments": {},
   "cell_type": "markdown",
   "metadata": {},
   "source": [
    "#### Generate CD Diagram RSAST vs Other Methods"
   ]
  },
  {
   "cell_type": "code",
   "execution_count": null,
   "metadata": {},
   "outputs": [],
   "source": [
    "from cd_diagram.cd_function import *\n",
    "df_perf=pd.pivot_table(concatenated_df, values='accuracy', index=['classifier_name','dataset_name'], aggfunc='mean')\n",
    "df_perf=df_perf.reset_index()\n",
    "draw_cd_diagram(df_perf, labels=True, title=\"Overall comparison\", name_file='cd-diagram_overall_comparison.png')\n",
    "_, average_ranks, _ = wilcoxon_holm(df_perf=df_perf)\n",
    "min_rank= min(average_ranks)\n",
    "average_ranks=pd.DataFrame(average_ranks)"
   ]
  },
  {
   "cell_type": "code",
   "execution_count": null,
   "metadata": {},
   "outputs": [],
   "source": [
    "average_ranks"
   ]
  }
 ],
 "metadata": {
  "kernelspec": {
   "display_name": "Python 3 (ipykernel)",
   "language": "python",
   "name": "python3"
  },
  "language_info": {
   "codemirror_mode": {
    "name": "ipython",
    "version": 3
   },
   "file_extension": ".py",
   "mimetype": "text/x-python",
   "name": "python",
   "nbconvert_exporter": "python",
   "pygments_lexer": "ipython3",
   "version": "3.10.9"
  },
  "vscode": {
   "interpreter": {
    "hash": "ad2bdc8ecc057115af97d19610ffacc2b4e99fae6737bb82f5d7fb13d2f2c186"
   }
  }
 },
 "nbformat": 4,
 "nbformat_minor": 2
}
