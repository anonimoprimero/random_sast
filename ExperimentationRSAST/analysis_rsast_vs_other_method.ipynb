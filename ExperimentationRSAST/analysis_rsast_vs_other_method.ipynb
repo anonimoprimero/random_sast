{
 "cells": [
  {
   "attachments": {},
   "cell_type": "markdown",
   "metadata": {},
   "source": [
    "## Experiments: Comparing RSAST with other methods"
   ]
  },
  {
   "cell_type": "code",
   "execution_count": 38,
   "metadata": {},
   "outputs": [
    {
     "data": {
      "text/plain": [
       "['c:\\\\Users\\\\Public\\\\random_sast\\\\ExperimentationRSAST',\n",
       " 'c:\\\\ProgramData\\\\Anaconda3\\\\python39.zip',\n",
       " 'c:\\\\ProgramData\\\\Anaconda3\\\\DLLs',\n",
       " 'c:\\\\ProgramData\\\\Anaconda3\\\\lib',\n",
       " 'c:\\\\ProgramData\\\\Anaconda3',\n",
       " '',\n",
       " 'C:\\\\Users\\\\Nicolas R\\\\AppData\\\\Roaming\\\\Python\\\\Python39\\\\site-packages',\n",
       " 'c:\\\\ProgramData\\\\Anaconda3\\\\lib\\\\site-packages',\n",
       " 'c:\\\\ProgramData\\\\Anaconda3\\\\lib\\\\site-packages\\\\win32',\n",
       " 'c:\\\\ProgramData\\\\Anaconda3\\\\lib\\\\site-packages\\\\win32\\\\lib',\n",
       " 'c:\\\\ProgramData\\\\Anaconda3\\\\lib\\\\site-packages\\\\Pythonwin',\n",
       " 'c:\\\\ProgramData\\\\Anaconda3\\\\lib\\\\site-packages\\\\IPython\\\\extensions',\n",
       " 'C:\\\\Users\\\\Nicolas R\\\\.ipython',\n",
       " 'c:\\\\Users\\\\Public\\\\random_sast/sast',\n",
       " 'c:\\\\Users\\\\Public\\\\random_sast\\\\sast',\n",
       " 'c:\\\\Users\\\\Public\\\\random_sast\\\\ExperimentationRSAST/sast',\n",
       " 'c:\\\\Users\\\\Public\\\\random_sast\\\\ExperimentationRSAST\\\\sast',\n",
       " 'c:\\\\Users\\\\Public\\\\random_sast\\\\cd_diagram',\n",
       " 'c:\\\\Users\\\\Public\\\\random_sast/cd_diagram',\n",
       " 'c:\\\\Users\\\\Public\\\\random_sast\\\\ExperimentationRSAST\\\\cd_diagram',\n",
       " 'c:\\\\Users\\\\Public\\\\random_sast\\\\ExperimentationRSAST/cd_diagram',\n",
       " 'c:\\\\Users\\\\Public\\\\random_sast/sast',\n",
       " 'c:\\\\Users\\\\Public\\\\random_sast\\\\sast',\n",
       " 'c:\\\\Users\\\\Public\\\\random_sast\\\\ExperimentationRSAST/sast',\n",
       " 'c:\\\\Users\\\\Public\\\\random_sast\\\\ExperimentationRSAST\\\\sast',\n",
       " 'c:\\\\Users\\\\Public\\\\random_sast\\\\cd_diagram',\n",
       " 'c:\\\\Users\\\\Public\\\\random_sast/cd_diagram',\n",
       " 'c:\\\\Users\\\\Public\\\\random_sast\\\\ExperimentationRSAST\\\\cd_diagram',\n",
       " 'c:\\\\Users\\\\Public\\\\random_sast\\\\ExperimentationRSAST/cd_diagram',\n",
       " 'c:\\\\Users\\\\Public\\\\random_sast/sast',\n",
       " 'c:\\\\Users\\\\Public\\\\random_sast\\\\sast',\n",
       " 'c:\\\\Users\\\\Public\\\\random_sast\\\\ExperimentationRSAST/sast',\n",
       " 'c:\\\\Users\\\\Public\\\\random_sast\\\\ExperimentationRSAST\\\\sast',\n",
       " 'c:\\\\Users\\\\Public\\\\random_sast\\\\cd_diagram',\n",
       " 'c:\\\\Users\\\\Public\\\\random_sast/cd_diagram',\n",
       " 'c:\\\\Users\\\\Public\\\\random_sast\\\\ExperimentationRSAST\\\\cd_diagram',\n",
       " 'c:\\\\Users\\\\Public\\\\random_sast\\\\ExperimentationRSAST/cd_diagram']"
      ]
     },
     "execution_count": 38,
     "metadata": {},
     "output_type": "execute_result"
    }
   ],
   "source": [
    "import sys \n",
    "import os \n",
    "#add sast library path\n",
    "file_path = os.path.dirname(os.getcwd())+\"/sast\"\n",
    "\n",
    "#file_path = r\"C:\\Users\\Public\\random_sast\\sast\"\n",
    "sys.path.append(file_path)\n",
    "\n",
    "file_path = os.path.dirname(os.getcwd())+\"\\sast\"\n",
    "\n",
    "\n",
    "#file_path = r\"C:\\Users\\Public\\random_sast\\sast\"\n",
    "sys.path.append(file_path)\n",
    "\n",
    "file_path = os.getcwd()+\"/sast\"\n",
    "\n",
    "\n",
    "#file_path = r\"C:\\Users\\Public\\random_sast\\sast\"\n",
    "sys.path.append(file_path)\n",
    "\n",
    "file_path = os.getcwd()+\"\\sast\"\n",
    "\n",
    "\n",
    "#file_path = r\"C:\\Users\\Public\\random_sast\\sast\"\n",
    "sys.path.append(file_path)\n",
    "\n",
    "#add cd_diagram library path\n",
    "file_path = os.path.dirname(os.getcwd())+\"\\cd_diagram\"\n",
    "\n",
    "#file_path = r\"C:\\Users\\Public\\random_sast\\cd_diagram\"\n",
    "sys.path.append(file_path)\n",
    "\n",
    "\n",
    "file_path = os.path.dirname(os.getcwd())+\"/cd_diagram\"\n",
    "#file_path = r\"C:\\Users\\Public\\random_sast\\sast\"\n",
    "sys.path.append(file_path)\n",
    "\n",
    "file_path = os.getcwd()+\"\\cd_diagram\"\n",
    "#file_path = r\"C:\\Users\\Public\\random_sast\\sast\"\n",
    "sys.path.append(file_path)\n",
    "\n",
    "file_path = os.getcwd()+\"/cd_diagram\"\n",
    "#file_path = r\"C:\\Users\\Public\\random_sast\\sast\"\n",
    "sys.path.append(file_path)\n",
    "\n",
    "sys.path\n"
   ]
  },
  {
   "cell_type": "code",
   "execution_count": 39,
   "metadata": {},
   "outputs": [],
   "source": [
    "from sast import *\n",
    "from sktime.datasets import load_UCR_UEA_dataset, tsc_dataset_names\n",
    "from sktime.classification.kernel_based import RocketClassifier\n",
    "import time\n",
    "import pandas as pd\n",
    "from sktime.transformations.panel.shapelet_transform import ShapeletTransform\n",
    "import matplotlib.pyplot as plt\n",
    "import os\n",
    "\n",
    "hyperparameter='ACF&PACF: n_random_points=30 nb_inst_per_class=1'"
   ]
  },
  {
   "attachments": {},
   "cell_type": "markdown",
   "metadata": {},
   "source": [
    "### Reading Datasets"
   ]
  },
  {
   "cell_type": "code",
   "execution_count": 40,
   "metadata": {},
   "outputs": [],
   "source": [
    "# Set directory where the csv files are located\n",
    "directory = os.getcwd()+'/ResultsByClassifier'\n",
    "\n",
    "# Create an empty list to store the dataframes\n",
    "dfs = []\n",
    "\n",
    "# Loop through all files in the directory\n",
    "for filename in os.listdir(directory):\n",
    "    # Check if the file starts with \"df_overall_tunning\" and ends with \".csv\"\n",
    "    if filename.endswith(\".csv\"):\n",
    "        # Read the csv file into a dataframe\n",
    "        filepath = os.path.join(directory, filename)\n",
    "        df = pd.read_csv(filepath)\n",
    "\n",
    "        # Append the dataframe to the list\n",
    "        df['filename']=filename\n",
    "        dfs.append(df)\n",
    "\n",
    "# Concatenate all the dataframes in the list into one dataframe\n",
    "df_other_methods = pd.concat(dfs, ignore_index=True)\n",
    "df_other_methods=df_other_methods[['filename','folds:','0']]\n",
    "df_other_methods['method']=df_other_methods['filename'].str.split('_').str[0]\n",
    "df_other_methods\n",
    "df_other_methods=df_other_methods.rename(columns={'folds:':'dataset','0':'score'})\n",
    "df_other_methods=df_other_methods[['dataset','score','method']]\n",
    "\n"
   ]
  },
  {
   "cell_type": "code",
   "execution_count": 41,
   "metadata": {},
   "outputs": [
    {
     "data": {
      "text/plain": [
       "array(['BOSS', 'Catch22', 'cBOSS', 'HIVE-COTEv1', 'InceptionTime',\n",
       "       'ProximityForest', 'ResNet', 'RISE', 'ROCKET', 'S-BOSS', 'SAST',\n",
       "       'STC', 'TS-CHIEF', 'TSF', 'WEASEL'], dtype=object)"
      ]
     },
     "execution_count": 41,
     "metadata": {},
     "output_type": "execute_result"
    }
   ],
   "source": [
    "df_other_methods['method'].unique()"
   ]
  },
  {
   "cell_type": "code",
   "execution_count": 42,
   "metadata": {},
   "outputs": [
    {
     "name": "stderr",
     "output_type": "stream",
     "text": [
      "C:\\Users\\Nicolas R\\AppData\\Local\\Temp\\ipykernel_7392\\2384774556.py:27: FutureWarning: The default value of regex will change from True to False in a future version.\n",
      "  df['classifier_name']=df['classifier_name'].str.replace(\"\\(lenthg ts\\)//2\",\"half_len\")\n",
      "C:\\Users\\Nicolas R\\AppData\\Local\\Temp\\ipykernel_7392\\2384774556.py:28: FutureWarning: The default value of regex will change from True to False in a future version.\n",
      "  df['classifier_name']=df['classifier_name'].str.replace(\"\\(max instances per class\\)//2\",\"half_instance\")\n",
      "C:\\Users\\Nicolas R\\AppData\\Local\\Temp\\ipykernel_7392\\2384774556.py:27: FutureWarning: The default value of regex will change from True to False in a future version.\n",
      "  df['classifier_name']=df['classifier_name'].str.replace(\"\\(lenthg ts\\)//2\",\"half_len\")\n",
      "C:\\Users\\Nicolas R\\AppData\\Local\\Temp\\ipykernel_7392\\2384774556.py:28: FutureWarning: The default value of regex will change from True to False in a future version.\n",
      "  df['classifier_name']=df['classifier_name'].str.replace(\"\\(max instances per class\\)//2\",\"half_instance\")\n",
      "C:\\Users\\Nicolas R\\AppData\\Local\\Temp\\ipykernel_7392\\2384774556.py:27: FutureWarning: The default value of regex will change from True to False in a future version.\n",
      "  df['classifier_name']=df['classifier_name'].str.replace(\"\\(lenthg ts\\)//2\",\"half_len\")\n",
      "C:\\Users\\Nicolas R\\AppData\\Local\\Temp\\ipykernel_7392\\2384774556.py:28: FutureWarning: The default value of regex will change from True to False in a future version.\n",
      "  df['classifier_name']=df['classifier_name'].str.replace(\"\\(max instances per class\\)//2\",\"half_instance\")\n",
      "C:\\Users\\Nicolas R\\AppData\\Local\\Temp\\ipykernel_7392\\2384774556.py:27: FutureWarning: The default value of regex will change from True to False in a future version.\n",
      "  df['classifier_name']=df['classifier_name'].str.replace(\"\\(lenthg ts\\)//2\",\"half_len\")\n",
      "C:\\Users\\Nicolas R\\AppData\\Local\\Temp\\ipykernel_7392\\2384774556.py:28: FutureWarning: The default value of regex will change from True to False in a future version.\n",
      "  df['classifier_name']=df['classifier_name'].str.replace(\"\\(max instances per class\\)//2\",\"half_instance\")\n",
      "C:\\Users\\Nicolas R\\AppData\\Local\\Temp\\ipykernel_7392\\2384774556.py:27: FutureWarning: The default value of regex will change from True to False in a future version.\n",
      "  df['classifier_name']=df['classifier_name'].str.replace(\"\\(lenthg ts\\)//2\",\"half_len\")\n",
      "C:\\Users\\Nicolas R\\AppData\\Local\\Temp\\ipykernel_7392\\2384774556.py:28: FutureWarning: The default value of regex will change from True to False in a future version.\n",
      "  df['classifier_name']=df['classifier_name'].str.replace(\"\\(max instances per class\\)//2\",\"half_instance\")\n",
      "C:\\Users\\Nicolas R\\AppData\\Local\\Temp\\ipykernel_7392\\2384774556.py:27: FutureWarning: The default value of regex will change from True to False in a future version.\n",
      "  df['classifier_name']=df['classifier_name'].str.replace(\"\\(lenthg ts\\)//2\",\"half_len\")\n",
      "C:\\Users\\Nicolas R\\AppData\\Local\\Temp\\ipykernel_7392\\2384774556.py:28: FutureWarning: The default value of regex will change from True to False in a future version.\n",
      "  df['classifier_name']=df['classifier_name'].str.replace(\"\\(max instances per class\\)//2\",\"half_instance\")\n",
      "C:\\Users\\Nicolas R\\AppData\\Local\\Temp\\ipykernel_7392\\2384774556.py:27: FutureWarning: The default value of regex will change from True to False in a future version.\n",
      "  df['classifier_name']=df['classifier_name'].str.replace(\"\\(lenthg ts\\)//2\",\"half_len\")\n",
      "C:\\Users\\Nicolas R\\AppData\\Local\\Temp\\ipykernel_7392\\2384774556.py:28: FutureWarning: The default value of regex will change from True to False in a future version.\n",
      "  df['classifier_name']=df['classifier_name'].str.replace(\"\\(max instances per class\\)//2\",\"half_instance\")\n",
      "C:\\Users\\Nicolas R\\AppData\\Local\\Temp\\ipykernel_7392\\2384774556.py:27: FutureWarning: The default value of regex will change from True to False in a future version.\n",
      "  df['classifier_name']=df['classifier_name'].str.replace(\"\\(lenthg ts\\)//2\",\"half_len\")\n",
      "C:\\Users\\Nicolas R\\AppData\\Local\\Temp\\ipykernel_7392\\2384774556.py:28: FutureWarning: The default value of regex will change from True to False in a future version.\n",
      "  df['classifier_name']=df['classifier_name'].str.replace(\"\\(max instances per class\\)//2\",\"half_instance\")\n",
      "C:\\Users\\Nicolas R\\AppData\\Local\\Temp\\ipykernel_7392\\2384774556.py:27: FutureWarning: The default value of regex will change from True to False in a future version.\n",
      "  df['classifier_name']=df['classifier_name'].str.replace(\"\\(lenthg ts\\)//2\",\"half_len\")\n",
      "C:\\Users\\Nicolas R\\AppData\\Local\\Temp\\ipykernel_7392\\2384774556.py:28: FutureWarning: The default value of regex will change from True to False in a future version.\n",
      "  df['classifier_name']=df['classifier_name'].str.replace(\"\\(max instances per class\\)//2\",\"half_instance\")\n",
      "C:\\Users\\Nicolas R\\AppData\\Local\\Temp\\ipykernel_7392\\2384774556.py:27: FutureWarning: The default value of regex will change from True to False in a future version.\n",
      "  df['classifier_name']=df['classifier_name'].str.replace(\"\\(lenthg ts\\)//2\",\"half_len\")\n",
      "C:\\Users\\Nicolas R\\AppData\\Local\\Temp\\ipykernel_7392\\2384774556.py:28: FutureWarning: The default value of regex will change from True to False in a future version.\n",
      "  df['classifier_name']=df['classifier_name'].str.replace(\"\\(max instances per class\\)//2\",\"half_instance\")\n",
      "C:\\Users\\Nicolas R\\AppData\\Local\\Temp\\ipykernel_7392\\2384774556.py:27: FutureWarning: The default value of regex will change from True to False in a future version.\n",
      "  df['classifier_name']=df['classifier_name'].str.replace(\"\\(lenthg ts\\)//2\",\"half_len\")\n",
      "C:\\Users\\Nicolas R\\AppData\\Local\\Temp\\ipykernel_7392\\2384774556.py:28: FutureWarning: The default value of regex will change from True to False in a future version.\n",
      "  df['classifier_name']=df['classifier_name'].str.replace(\"\\(max instances per class\\)//2\",\"half_instance\")\n",
      "C:\\Users\\Nicolas R\\AppData\\Local\\Temp\\ipykernel_7392\\2384774556.py:27: FutureWarning: The default value of regex will change from True to False in a future version.\n",
      "  df['classifier_name']=df['classifier_name'].str.replace(\"\\(lenthg ts\\)//2\",\"half_len\")\n",
      "C:\\Users\\Nicolas R\\AppData\\Local\\Temp\\ipykernel_7392\\2384774556.py:28: FutureWarning: The default value of regex will change from True to False in a future version.\n",
      "  df['classifier_name']=df['classifier_name'].str.replace(\"\\(max instances per class\\)//2\",\"half_instance\")\n",
      "C:\\Users\\Nicolas R\\AppData\\Local\\Temp\\ipykernel_7392\\2384774556.py:27: FutureWarning: The default value of regex will change from True to False in a future version.\n",
      "  df['classifier_name']=df['classifier_name'].str.replace(\"\\(lenthg ts\\)//2\",\"half_len\")\n",
      "C:\\Users\\Nicolas R\\AppData\\Local\\Temp\\ipykernel_7392\\2384774556.py:28: FutureWarning: The default value of regex will change from True to False in a future version.\n",
      "  df['classifier_name']=df['classifier_name'].str.replace(\"\\(max instances per class\\)//2\",\"half_instance\")\n",
      "C:\\Users\\Nicolas R\\AppData\\Local\\Temp\\ipykernel_7392\\2384774556.py:27: FutureWarning: The default value of regex will change from True to False in a future version.\n",
      "  df['classifier_name']=df['classifier_name'].str.replace(\"\\(lenthg ts\\)//2\",\"half_len\")\n",
      "C:\\Users\\Nicolas R\\AppData\\Local\\Temp\\ipykernel_7392\\2384774556.py:28: FutureWarning: The default value of regex will change from True to False in a future version.\n",
      "  df['classifier_name']=df['classifier_name'].str.replace(\"\\(max instances per class\\)//2\",\"half_instance\")\n",
      "C:\\Users\\Nicolas R\\AppData\\Local\\Temp\\ipykernel_7392\\2384774556.py:27: FutureWarning: The default value of regex will change from True to False in a future version.\n",
      "  df['classifier_name']=df['classifier_name'].str.replace(\"\\(lenthg ts\\)//2\",\"half_len\")\n",
      "C:\\Users\\Nicolas R\\AppData\\Local\\Temp\\ipykernel_7392\\2384774556.py:28: FutureWarning: The default value of regex will change from True to False in a future version.\n",
      "  df['classifier_name']=df['classifier_name'].str.replace(\"\\(max instances per class\\)//2\",\"half_instance\")\n",
      "C:\\Users\\Nicolas R\\AppData\\Local\\Temp\\ipykernel_7392\\2384774556.py:27: FutureWarning: The default value of regex will change from True to False in a future version.\n",
      "  df['classifier_name']=df['classifier_name'].str.replace(\"\\(lenthg ts\\)//2\",\"half_len\")\n",
      "C:\\Users\\Nicolas R\\AppData\\Local\\Temp\\ipykernel_7392\\2384774556.py:28: FutureWarning: The default value of regex will change from True to False in a future version.\n",
      "  df['classifier_name']=df['classifier_name'].str.replace(\"\\(max instances per class\\)//2\",\"half_instance\")\n",
      "C:\\Users\\Nicolas R\\AppData\\Local\\Temp\\ipykernel_7392\\2384774556.py:27: FutureWarning: The default value of regex will change from True to False in a future version.\n",
      "  df['classifier_name']=df['classifier_name'].str.replace(\"\\(lenthg ts\\)//2\",\"half_len\")\n",
      "C:\\Users\\Nicolas R\\AppData\\Local\\Temp\\ipykernel_7392\\2384774556.py:28: FutureWarning: The default value of regex will change from True to False in a future version.\n",
      "  df['classifier_name']=df['classifier_name'].str.replace(\"\\(max instances per class\\)//2\",\"half_instance\")\n",
      "C:\\Users\\Nicolas R\\AppData\\Local\\Temp\\ipykernel_7392\\2384774556.py:27: FutureWarning: The default value of regex will change from True to False in a future version.\n",
      "  df['classifier_name']=df['classifier_name'].str.replace(\"\\(lenthg ts\\)//2\",\"half_len\")\n",
      "C:\\Users\\Nicolas R\\AppData\\Local\\Temp\\ipykernel_7392\\2384774556.py:28: FutureWarning: The default value of regex will change from True to False in a future version.\n",
      "  df['classifier_name']=df['classifier_name'].str.replace(\"\\(max instances per class\\)//2\",\"half_instance\")\n",
      "C:\\Users\\Nicolas R\\AppData\\Local\\Temp\\ipykernel_7392\\2384774556.py:27: FutureWarning: The default value of regex will change from True to False in a future version.\n",
      "  df['classifier_name']=df['classifier_name'].str.replace(\"\\(lenthg ts\\)//2\",\"half_len\")\n",
      "C:\\Users\\Nicolas R\\AppData\\Local\\Temp\\ipykernel_7392\\2384774556.py:28: FutureWarning: The default value of regex will change from True to False in a future version.\n",
      "  df['classifier_name']=df['classifier_name'].str.replace(\"\\(max instances per class\\)//2\",\"half_instance\")\n",
      "C:\\Users\\Nicolas R\\AppData\\Local\\Temp\\ipykernel_7392\\2384774556.py:27: FutureWarning: The default value of regex will change from True to False in a future version.\n",
      "  df['classifier_name']=df['classifier_name'].str.replace(\"\\(lenthg ts\\)//2\",\"half_len\")\n",
      "C:\\Users\\Nicolas R\\AppData\\Local\\Temp\\ipykernel_7392\\2384774556.py:28: FutureWarning: The default value of regex will change from True to False in a future version.\n",
      "  df['classifier_name']=df['classifier_name'].str.replace(\"\\(max instances per class\\)//2\",\"half_instance\")\n",
      "C:\\Users\\Nicolas R\\AppData\\Local\\Temp\\ipykernel_7392\\2384774556.py:27: FutureWarning: The default value of regex will change from True to False in a future version.\n",
      "  df['classifier_name']=df['classifier_name'].str.replace(\"\\(lenthg ts\\)//2\",\"half_len\")\n",
      "C:\\Users\\Nicolas R\\AppData\\Local\\Temp\\ipykernel_7392\\2384774556.py:28: FutureWarning: The default value of regex will change from True to False in a future version.\n",
      "  df['classifier_name']=df['classifier_name'].str.replace(\"\\(max instances per class\\)//2\",\"half_instance\")\n",
      "C:\\Users\\Nicolas R\\AppData\\Local\\Temp\\ipykernel_7392\\2384774556.py:27: FutureWarning: The default value of regex will change from True to False in a future version.\n",
      "  df['classifier_name']=df['classifier_name'].str.replace(\"\\(lenthg ts\\)//2\",\"half_len\")\n",
      "C:\\Users\\Nicolas R\\AppData\\Local\\Temp\\ipykernel_7392\\2384774556.py:28: FutureWarning: The default value of regex will change from True to False in a future version.\n",
      "  df['classifier_name']=df['classifier_name'].str.replace(\"\\(max instances per class\\)//2\",\"half_instance\")\n"
     ]
    }
   ],
   "source": [
    "# Set directory where the csv files are located\n",
    "#directory = os.getcwd()+'/ResultsRsast'\n",
    "#directory = os.getcwd()+'/results_accuracy_per_ds'\n",
    "\n",
    "directories=[]\n",
    "directories.append(os.getcwd()+'/ResultsRsast/Server16_Hyperparameter_Tunning')\n",
    "directories.append(os.getcwd()+'/ResultsRsast/Server17_Hyperparameter_Tunning')\n",
    "#directories.append(os.getcwd()+'/results_accuracy_per_ds')\n",
    "#directories.append(os.getcwd()+'/results_accuracy_per_ds_10000')\n",
    "\n",
    "\n",
    "# Create an empty list to store the dataframes\n",
    "dfs = []\n",
    "\n",
    "# Loop through all files in the directory\n",
    "for directory in directories:\n",
    "    for filename in os.listdir(directory):\n",
    "        # Check if the file starts with \"df_overall_tunning\" and ends with \".csv\"\n",
    "        if filename.startswith(\"df_all_overall_tunning\") and filename.endswith(\".csv\"):\n",
    "            # Read the csv file into a dataframe\n",
    "            filepath = os.path.join(directory, filename)\n",
    "            df = pd.read_csv(filepath)\n",
    "            df['rpoint']=df['rpoint'].astype(str)\n",
    "            df['nb_per_class']=df['nb_per_class'].astype(str)\n",
    "            df['rpoint']=df['rpoint'].replace(\"(lenthg ts)//2\",\"half_len\")\n",
    "            df['nb_per_class']=df['nb_per_class'].replace(\"(max instances per class)//2\",\"half_instance\")\n",
    "            df['classifier_name']=df['classifier_name'].str.replace(\"\\(lenthg ts\\)//2\",\"half_len\")\n",
    "            df['classifier_name']=df['classifier_name'].str.replace(\"\\(max instances per class\\)//2\",\"half_instance\")\n",
    "            # Append the dataframe to the list\n",
    "            dfs.append(df)\n",
    "\n",
    "# Concatenate all the dataframes in the list into one dataframe\n",
    "df_result = pd.concat(dfs, ignore_index=True)\n",
    "# df_result.head(3)"
   ]
  },
  {
   "cell_type": "code",
   "execution_count": 43,
   "metadata": {},
   "outputs": [
    {
     "data": {
      "text/plain": [
       "array(['Crop', 'ItalyPowerDemand', 'ToeSegmentation2', 'Car', 'ECG5000',\n",
       "       'SmoothSubspace'], dtype=object)"
      ]
     },
     "execution_count": 43,
     "metadata": {},
     "output_type": "execute_result"
    }
   ],
   "source": [
    "df_result=df_result[['accuracy','dataset_name','classifier_name','time']]\n",
    "\n",
    "df_result=df_result[df_result[\"classifier_name\"]==hyperparameter]\n",
    "df_result.dataset_name.unique()\n"
   ]
  },
  {
   "cell_type": "code",
   "execution_count": 44,
   "metadata": {},
   "outputs": [
    {
     "data": {
      "text/plain": [
       "Index(['dataset_name', 'accuracy', 'classifier_name'], dtype='object')"
      ]
     },
     "execution_count": 44,
     "metadata": {},
     "output_type": "execute_result"
    }
   ],
   "source": [
    "\n",
    "df_other_methods=df_other_methods.rename(columns={\"dataset\":\"dataset_name\",\"score\":\"accuracy\",\"method\":\"classifier_name\"})\n",
    "df_other_methods = df_other_methods[df_other_methods['dataset_name'].isin(df_result.dataset_name.values)]\n",
    "df_other_methods.columns"
   ]
  },
  {
   "cell_type": "code",
   "execution_count": 45,
   "metadata": {},
   "outputs": [],
   "source": [
    "# concatenate the two dataframes\n",
    "concatenated_df = pd.concat([df_other_methods, df_result])\n",
    "\n",
    "# reset the index of the concatenated dataframe\n",
    "concatenated_df = concatenated_df.reset_index(drop=True)\n"
   ]
  },
  {
   "cell_type": "code",
   "execution_count": 46,
   "metadata": {},
   "outputs": [
    {
     "data": {
      "text/plain": [
       "array(['BOSS', 'Catch22', 'cBOSS', 'HIVE-COTEv1', 'InceptionTime',\n",
       "       'ProximityForest', 'ResNet', 'RISE', 'ROCKET', 'S-BOSS', 'SAST',\n",
       "       'STC', 'TS-CHIEF', 'TSF', 'WEASEL',\n",
       "       'ACF&PACF: n_random_points=30 nb_inst_per_class=1'], dtype=object)"
      ]
     },
     "execution_count": 46,
     "metadata": {},
     "output_type": "execute_result"
    }
   ],
   "source": [
    "concatenated_df['classifier_name'].unique()"
   ]
  },
  {
   "attachments": {},
   "cell_type": "markdown",
   "metadata": {},
   "source": [
    "### Overall analysis"
   ]
  },
  {
   "attachments": {},
   "cell_type": "markdown",
   "metadata": {},
   "source": [
    "#### Accuracy: RSAST vs Other methods"
   ]
  },
  {
   "cell_type": "code",
   "execution_count": 47,
   "metadata": {},
   "outputs": [],
   "source": [
    "# create a pivot table with the mean of score by hyperparameter\n",
    "score_by_method=pd.pivot_table(concatenated_df, values='accuracy', index=['classifier_name'],columns=['dataset_name'], aggfunc='mean')\n",
    "\n"
   ]
  },
  {
   "cell_type": "code",
   "execution_count": 48,
   "metadata": {},
   "outputs": [
    {
     "data": {
      "text/html": [
       "<div>\n",
       "<style scoped>\n",
       "    .dataframe tbody tr th:only-of-type {\n",
       "        vertical-align: middle;\n",
       "    }\n",
       "\n",
       "    .dataframe tbody tr th {\n",
       "        vertical-align: top;\n",
       "    }\n",
       "\n",
       "    .dataframe thead th {\n",
       "        text-align: right;\n",
       "    }\n",
       "</style>\n",
       "<table border=\"1\" class=\"dataframe\">\n",
       "  <thead>\n",
       "    <tr style=\"text-align: right;\">\n",
       "      <th>classifier_name</th>\n",
       "      <th>ACF&amp;PACF: n_random_points=30 nb_inst_per_class=1</th>\n",
       "      <th>STC</th>\n",
       "      <th>SAST</th>\n",
       "      <th>ROCKET</th>\n",
       "    </tr>\n",
       "    <tr>\n",
       "      <th>dataset_name</th>\n",
       "      <th></th>\n",
       "      <th></th>\n",
       "      <th></th>\n",
       "      <th></th>\n",
       "    </tr>\n",
       "  </thead>\n",
       "  <tbody>\n",
       "    <tr>\n",
       "      <th>Car</th>\n",
       "      <td>0.796667</td>\n",
       "      <td>0.916667</td>\n",
       "      <td>0.88</td>\n",
       "      <td>0.883333</td>\n",
       "    </tr>\n",
       "    <tr>\n",
       "      <th>Crop</th>\n",
       "      <td>0.714762</td>\n",
       "      <td>0.736607</td>\n",
       "      <td>0.73</td>\n",
       "      <td>0.750714</td>\n",
       "    </tr>\n",
       "    <tr>\n",
       "      <th>ECG5000</th>\n",
       "      <td>0.931111</td>\n",
       "      <td>0.942444</td>\n",
       "      <td>0.94</td>\n",
       "      <td>0.946444</td>\n",
       "    </tr>\n",
       "    <tr>\n",
       "      <th>ItalyPowerDemand</th>\n",
       "      <td>0.938776</td>\n",
       "      <td>0.955296</td>\n",
       "      <td>0.96</td>\n",
       "      <td>0.968902</td>\n",
       "    </tr>\n",
       "    <tr>\n",
       "      <th>SmoothSubspace</th>\n",
       "      <td>0.814667</td>\n",
       "      <td>0.933333</td>\n",
       "      <td>0.91</td>\n",
       "      <td>0.980000</td>\n",
       "    </tr>\n",
       "    <tr>\n",
       "      <th>ToeSegmentation2</th>\n",
       "      <td>0.852308</td>\n",
       "      <td>0.923077</td>\n",
       "      <td>0.88</td>\n",
       "      <td>0.915385</td>\n",
       "    </tr>\n",
       "  </tbody>\n",
       "</table>\n",
       "</div>"
      ],
      "text/plain": [
       "classifier_name   ACF&PACF: n_random_points=30 nb_inst_per_class=1       STC  \\\n",
       "dataset_name                                                                   \n",
       "Car                                                       0.796667  0.916667   \n",
       "Crop                                                      0.714762  0.736607   \n",
       "ECG5000                                                   0.931111  0.942444   \n",
       "ItalyPowerDemand                                          0.938776  0.955296   \n",
       "SmoothSubspace                                            0.814667  0.933333   \n",
       "ToeSegmentation2                                          0.852308  0.923077   \n",
       "\n",
       "classifier_name   SAST    ROCKET  \n",
       "dataset_name                      \n",
       "Car               0.88  0.883333  \n",
       "Crop              0.73  0.750714  \n",
       "ECG5000           0.94  0.946444  \n",
       "ItalyPowerDemand  0.96  0.968902  \n",
       "SmoothSubspace    0.91  0.980000  \n",
       "ToeSegmentation2  0.88  0.915385  "
      ]
     },
     "execution_count": 48,
     "metadata": {},
     "output_type": "execute_result"
    }
   ],
   "source": [
    "t_score_by_method=score_by_method.transpose()\n",
    "t_score_by_method\n",
    "t_score_by_method[[hyperparameter,\"STC\",\"SAST\",\"ROCKET\"]]\n"
   ]
  },
  {
   "cell_type": "code",
   "execution_count": 49,
   "metadata": {},
   "outputs": [
    {
     "name": "stderr",
     "output_type": "stream",
     "text": [
      "C:\\Users\\Nicolas R\\AppData\\Local\\Temp\\ipykernel_7392\\3124073668.py:9: RuntimeWarning: More than 20 figures have been opened. Figures created through the pyplot interface (`matplotlib.pyplot.figure`) are retained until explicitly closed and may consume too much memory. (To control this warning, see the rcParam `figure.max_open_warning`).\n",
      "  fig, ax = plt.subplots(figsize=(8, 6))\n"
     ]
    }
   ],
   "source": [
    "for method in t_score_by_method.columns.drop(hyperparameter):\n",
    "    y=t_score_by_method[hyperparameter]\n",
    "    x=t_score_by_method[method]\n",
    "\n",
    "    # set the style of the plot\n",
    "    plt.style.use('seaborn')\n",
    "\n",
    "    # create the plot\n",
    "    fig, ax = plt.subplots(figsize=(8, 6))\n",
    "\n",
    "    # plot the line\n",
    "    ax.plot([0,1], [0,1])\n",
    "\n",
    "    # plot the points\n",
    "    ax.scatter(x, y, color='blue', edgecolor='blue', s=30, zorder=10)\n",
    "\n",
    "    # add labels and title\n",
    "    ax.set_ylabel('RSAST')\n",
    "    ax.set_xlabel(method)\n",
    "    ax.set_title('Accuracy')\n",
    "\n",
    "\n",
    "    # set the background color\n",
    "    ax.set_facecolor('lightgrey')\n",
    "    plt.savefig('images_one_vs_one_comparison/RSASTvs'+method+'.png')\n"
   ]
  },
  {
   "cell_type": "code",
   "execution_count": 50,
   "metadata": {},
   "outputs": [
    {
     "data": {
      "text/html": [
       "<div>\n",
       "<style scoped>\n",
       "    .dataframe tbody tr th:only-of-type {\n",
       "        vertical-align: middle;\n",
       "    }\n",
       "\n",
       "    .dataframe tbody tr th {\n",
       "        vertical-align: top;\n",
       "    }\n",
       "\n",
       "    .dataframe thead th {\n",
       "        text-align: right;\n",
       "    }\n",
       "</style>\n",
       "<table border=\"1\" class=\"dataframe\">\n",
       "  <thead>\n",
       "    <tr style=\"text-align: right;\">\n",
       "      <th>classifier_name</th>\n",
       "      <th>ACF&amp;PACF: n_random_points=30 nb_inst_per_class=1</th>\n",
       "    </tr>\n",
       "    <tr>\n",
       "      <th>dataset_name</th>\n",
       "      <th></th>\n",
       "    </tr>\n",
       "  </thead>\n",
       "  <tbody>\n",
       "    <tr>\n",
       "      <th>Car</th>\n",
       "      <td>2.200775</td>\n",
       "    </tr>\n",
       "    <tr>\n",
       "      <th>Crop</th>\n",
       "      <td>9.204304</td>\n",
       "    </tr>\n",
       "    <tr>\n",
       "      <th>ECG5000</th>\n",
       "      <td>1.262991</td>\n",
       "    </tr>\n",
       "    <tr>\n",
       "      <th>ItalyPowerDemand</th>\n",
       "      <td>0.004875</td>\n",
       "    </tr>\n",
       "    <tr>\n",
       "      <th>SmoothSubspace</th>\n",
       "      <td>0.008912</td>\n",
       "    </tr>\n",
       "    <tr>\n",
       "      <th>ToeSegmentation2</th>\n",
       "      <td>0.217994</td>\n",
       "    </tr>\n",
       "  </tbody>\n",
       "</table>\n",
       "</div>"
      ],
      "text/plain": [
       "classifier_name   ACF&PACF: n_random_points=30 nb_inst_per_class=1\n",
       "dataset_name                                                      \n",
       "Car                                                       2.200775\n",
       "Crop                                                      9.204304\n",
       "ECG5000                                                   1.262991\n",
       "ItalyPowerDemand                                          0.004875\n",
       "SmoothSubspace                                            0.008912\n",
       "ToeSegmentation2                                          0.217994"
      ]
     },
     "execution_count": 50,
     "metadata": {},
     "output_type": "execute_result"
    }
   ],
   "source": [
    "# create a pivot table with the mean of time by hyperparameter\n",
    "time_per_method=pd.pivot_table(df_result, values='time', columns=['classifier_name'],index=['dataset_name'], aggfunc='mean')/60\n",
    "time_per_method"
   ]
  },
  {
   "cell_type": "code",
   "execution_count": 51,
   "metadata": {},
   "outputs": [
    {
     "data": {
      "text/html": [
       "<div>\n",
       "<style scoped>\n",
       "    .dataframe tbody tr th:only-of-type {\n",
       "        vertical-align: middle;\n",
       "    }\n",
       "\n",
       "    .dataframe tbody tr th {\n",
       "        vertical-align: top;\n",
       "    }\n",
       "\n",
       "    .dataframe thead th {\n",
       "        text-align: right;\n",
       "    }\n",
       "</style>\n",
       "<table border=\"1\" class=\"dataframe\">\n",
       "  <thead>\n",
       "    <tr style=\"text-align: right;\">\n",
       "      <th>dataset_name</th>\n",
       "      <th>Car</th>\n",
       "      <th>ItalyPowerDemand</th>\n",
       "      <th>SmoothSubspace</th>\n",
       "      <th>ToeSegmentation2</th>\n",
       "    </tr>\n",
       "    <tr>\n",
       "      <th>classifier_name</th>\n",
       "      <th></th>\n",
       "      <th></th>\n",
       "      <th></th>\n",
       "      <th></th>\n",
       "    </tr>\n",
       "  </thead>\n",
       "  <tbody>\n",
       "    <tr>\n",
       "      <th>ACF&amp;PACF: n_random_points=30 nb_inst_per_class=1</th>\n",
       "      <td>0.001722</td>\n",
       "      <td>0.000243</td>\n",
       "      <td>0.001942</td>\n",
       "      <td>0.002379</td>\n",
       "    </tr>\n",
       "  </tbody>\n",
       "</table>\n",
       "</div>"
      ],
      "text/plain": [
       "dataset_name                                           Car  ItalyPowerDemand  \\\n",
       "classifier_name                                                                \n",
       "ACF&PACF: n_random_points=30 nb_inst_per_class=1  0.001722          0.000243   \n",
       "\n",
       "dataset_name                                      SmoothSubspace  \\\n",
       "classifier_name                                                    \n",
       "ACF&PACF: n_random_points=30 nb_inst_per_class=1        0.001942   \n",
       "\n",
       "dataset_name                                      ToeSegmentation2  \n",
       "classifier_name                                                     \n",
       "ACF&PACF: n_random_points=30 nb_inst_per_class=1          0.002379  "
      ]
     },
     "execution_count": 51,
     "metadata": {},
     "output_type": "execute_result"
    }
   ],
   "source": [
    "# create a pivot table with the variation of score by hyperparameter\n",
    "pd.pivot_table(concatenated_df, values='accuracy', index=['classifier_name'],columns=['dataset_name'], aggfunc='var')\n"
   ]
  },
  {
   "attachments": {},
   "cell_type": "markdown",
   "metadata": {},
   "source": [
    "#### Generate CD Diagram comparison"
   ]
  },
  {
   "cell_type": "code",
   "execution_count": 52,
   "metadata": {},
   "outputs": [
    {
     "data": {
      "text/html": [
       "<div>\n",
       "<style scoped>\n",
       "    .dataframe tbody tr th:only-of-type {\n",
       "        vertical-align: middle;\n",
       "    }\n",
       "\n",
       "    .dataframe tbody tr th {\n",
       "        vertical-align: top;\n",
       "    }\n",
       "\n",
       "    .dataframe thead th {\n",
       "        text-align: right;\n",
       "    }\n",
       "</style>\n",
       "<table border=\"1\" class=\"dataframe\">\n",
       "  <thead>\n",
       "    <tr style=\"text-align: right;\">\n",
       "      <th></th>\n",
       "      <th></th>\n",
       "      <th>accuracy</th>\n",
       "    </tr>\n",
       "    <tr>\n",
       "      <th>classifier_name</th>\n",
       "      <th>dataset_name</th>\n",
       "      <th></th>\n",
       "    </tr>\n",
       "  </thead>\n",
       "  <tbody>\n",
       "    <tr>\n",
       "      <th rowspan=\"5\" valign=\"top\">ACF&amp;PACF: n_random_points=30 nb_inst_per_class=1</th>\n",
       "      <th>Car</th>\n",
       "      <td>0.796667</td>\n",
       "    </tr>\n",
       "    <tr>\n",
       "      <th>Crop</th>\n",
       "      <td>0.714762</td>\n",
       "    </tr>\n",
       "    <tr>\n",
       "      <th>ECG5000</th>\n",
       "      <td>0.931111</td>\n",
       "    </tr>\n",
       "    <tr>\n",
       "      <th>ItalyPowerDemand</th>\n",
       "      <td>0.938776</td>\n",
       "    </tr>\n",
       "    <tr>\n",
       "      <th>SmoothSubspace</th>\n",
       "      <td>0.814667</td>\n",
       "    </tr>\n",
       "    <tr>\n",
       "      <th>...</th>\n",
       "      <th>...</th>\n",
       "      <td>...</td>\n",
       "    </tr>\n",
       "    <tr>\n",
       "      <th rowspan=\"5\" valign=\"top\">cBOSS</th>\n",
       "      <th>Crop</th>\n",
       "      <td>0.699940</td>\n",
       "    </tr>\n",
       "    <tr>\n",
       "      <th>ECG5000</th>\n",
       "      <td>0.944222</td>\n",
       "    </tr>\n",
       "    <tr>\n",
       "      <th>ItalyPowerDemand</th>\n",
       "      <td>0.923226</td>\n",
       "    </tr>\n",
       "    <tr>\n",
       "      <th>SmoothSubspace</th>\n",
       "      <td>0.520000</td>\n",
       "    </tr>\n",
       "    <tr>\n",
       "      <th>ToeSegmentation2</th>\n",
       "      <td>0.953846</td>\n",
       "    </tr>\n",
       "  </tbody>\n",
       "</table>\n",
       "<p>96 rows × 1 columns</p>\n",
       "</div>"
      ],
      "text/plain": [
       "                                                                   accuracy\n",
       "classifier_name                                  dataset_name              \n",
       "ACF&PACF: n_random_points=30 nb_inst_per_class=1 Car               0.796667\n",
       "                                                 Crop              0.714762\n",
       "                                                 ECG5000           0.931111\n",
       "                                                 ItalyPowerDemand  0.938776\n",
       "                                                 SmoothSubspace    0.814667\n",
       "...                                                                     ...\n",
       "cBOSS                                            Crop              0.699940\n",
       "                                                 ECG5000           0.944222\n",
       "                                                 ItalyPowerDemand  0.923226\n",
       "                                                 SmoothSubspace    0.520000\n",
       "                                                 ToeSegmentation2  0.953846\n",
       "\n",
       "[96 rows x 1 columns]"
      ]
     },
     "execution_count": 52,
     "metadata": {},
     "output_type": "execute_result"
    }
   ],
   "source": [
    "pd.pivot_table(concatenated_df, values='accuracy', index=['classifier_name','dataset_name'], aggfunc='mean')"
   ]
  },
  {
   "cell_type": "code",
   "execution_count": 53,
   "metadata": {},
   "outputs": [
    {
     "name": "stderr",
     "output_type": "stream",
     "text": [
      "c:\\ProgramData\\Anaconda3\\lib\\site-packages\\scipy\\stats\\_morestats.py:3255: UserWarning: Exact p-value calculation does not work if there are zeros. Switching to normal approximation.\n",
      "  warnings.warn(\"Exact p-value calculation does not work if there are \"\n",
      "c:\\ProgramData\\Anaconda3\\lib\\site-packages\\scipy\\stats\\_morestats.py:3269: UserWarning: Sample size too small for normal approximation.\n",
      "  warnings.warn(\"Sample size too small for normal approximation.\")\n"
     ]
    }
   ],
   "source": [
    "\n",
    "from cd_function import *\n",
    "df_perf=pd.pivot_table(concatenated_df, values='accuracy', index=['classifier_name','dataset_name'], aggfunc='mean')\n",
    "df_perf=df_perf.reset_index()\n",
    "draw_cd_diagram(df_perf, labels=True, title=\"Overall Comparison Other Methods\", name_file='images_cd_diagram/cd-diagram_overall_comparison_other_method.png')\n"
   ]
  },
  {
   "cell_type": "code",
   "execution_count": 54,
   "metadata": {},
   "outputs": [
    {
     "data": {
      "text/plain": [
       "array(['ACF&PACF: n_random_points=30 nb_inst_per_class=1', 'BOSS',\n",
       "       'Catch22', 'HIVE-COTEv1', 'InceptionTime', 'ProximityForest',\n",
       "       'RISE', 'ROCKET', 'ResNet', 'S-BOSS', 'SAST', 'STC', 'TS-CHIEF',\n",
       "       'TSF', 'WEASEL', 'cBOSS'], dtype=object)"
      ]
     },
     "execution_count": 54,
     "metadata": {},
     "output_type": "execute_result"
    }
   ],
   "source": [
    "df_perf[\"classifier_name\"].unique()"
   ]
  },
  {
   "cell_type": "code",
   "execution_count": 55,
   "metadata": {},
   "outputs": [
    {
     "name": "stderr",
     "output_type": "stream",
     "text": [
      "c:\\ProgramData\\Anaconda3\\lib\\site-packages\\scipy\\stats\\_morestats.py:3255: UserWarning: Exact p-value calculation does not work if there are zeros. Switching to normal approximation.\n",
      "  warnings.warn(\"Exact p-value calculation does not work if there are \"\n",
      "c:\\ProgramData\\Anaconda3\\lib\\site-packages\\scipy\\stats\\_morestats.py:3269: UserWarning: Sample size too small for normal approximation.\n",
      "  warnings.warn(\"Sample size too small for normal approximation.\")\n"
     ]
    },
    {
     "data": {
      "text/html": [
       "<div>\n",
       "<style scoped>\n",
       "    .dataframe tbody tr th:only-of-type {\n",
       "        vertical-align: middle;\n",
       "    }\n",
       "\n",
       "    .dataframe tbody tr th {\n",
       "        vertical-align: top;\n",
       "    }\n",
       "\n",
       "    .dataframe thead th {\n",
       "        text-align: right;\n",
       "    }\n",
       "</style>\n",
       "<table border=\"1\" class=\"dataframe\">\n",
       "  <thead>\n",
       "    <tr style=\"text-align: right;\">\n",
       "      <th></th>\n",
       "      <th>0</th>\n",
       "    </tr>\n",
       "  </thead>\n",
       "  <tbody>\n",
       "    <tr>\n",
       "      <th>Catch22</th>\n",
       "      <td>14.500000</td>\n",
       "    </tr>\n",
       "    <tr>\n",
       "      <th>ACF&amp;PACF: n_random_points=30 nb_inst_per_class=1</th>\n",
       "      <td>13.666667</td>\n",
       "    </tr>\n",
       "    <tr>\n",
       "      <th>RISE</th>\n",
       "      <td>11.583333</td>\n",
       "    </tr>\n",
       "    <tr>\n",
       "      <th>BOSS</th>\n",
       "      <td>10.833333</td>\n",
       "    </tr>\n",
       "    <tr>\n",
       "      <th>cBOSS</th>\n",
       "      <td>10.333333</td>\n",
       "    </tr>\n",
       "    <tr>\n",
       "      <th>S-BOSS</th>\n",
       "      <td>10.000000</td>\n",
       "    </tr>\n",
       "    <tr>\n",
       "      <th>WEASEL</th>\n",
       "      <td>9.083333</td>\n",
       "    </tr>\n",
       "    <tr>\n",
       "      <th>SAST</th>\n",
       "      <td>8.833333</td>\n",
       "    </tr>\n",
       "    <tr>\n",
       "      <th>TSF</th>\n",
       "      <td>8.333333</td>\n",
       "    </tr>\n",
       "    <tr>\n",
       "      <th>ProximityForest</th>\n",
       "      <td>7.916667</td>\n",
       "    </tr>\n",
       "    <tr>\n",
       "      <th>STC</th>\n",
       "      <td>6.916667</td>\n",
       "    </tr>\n",
       "    <tr>\n",
       "      <th>ResNet</th>\n",
       "      <td>6.166667</td>\n",
       "    </tr>\n",
       "    <tr>\n",
       "      <th>InceptionTime</th>\n",
       "      <td>4.833333</td>\n",
       "    </tr>\n",
       "    <tr>\n",
       "      <th>ROCKET</th>\n",
       "      <td>4.750000</td>\n",
       "    </tr>\n",
       "    <tr>\n",
       "      <th>HIVE-COTEv1</th>\n",
       "      <td>4.333333</td>\n",
       "    </tr>\n",
       "    <tr>\n",
       "      <th>TS-CHIEF</th>\n",
       "      <td>3.916667</td>\n",
       "    </tr>\n",
       "  </tbody>\n",
       "</table>\n",
       "</div>"
      ],
      "text/plain": [
       "                                                          0\n",
       "Catch22                                           14.500000\n",
       "ACF&PACF: n_random_points=30 nb_inst_per_class=1  13.666667\n",
       "RISE                                              11.583333\n",
       "BOSS                                              10.833333\n",
       "cBOSS                                             10.333333\n",
       "S-BOSS                                            10.000000\n",
       "WEASEL                                             9.083333\n",
       "SAST                                               8.833333\n",
       "TSF                                                8.333333\n",
       "ProximityForest                                    7.916667\n",
       "STC                                                6.916667\n",
       "ResNet                                             6.166667\n",
       "InceptionTime                                      4.833333\n",
       "ROCKET                                             4.750000\n",
       "HIVE-COTEv1                                        4.333333\n",
       "TS-CHIEF                                           3.916667"
      ]
     },
     "execution_count": 55,
     "metadata": {},
     "output_type": "execute_result"
    }
   ],
   "source": [
    "_, average_ranks, _ = wilcoxon_holm(df_perf=df_perf)\n",
    "min_rank= min(average_ranks)\n",
    "average_ranks=pd.DataFrame(average_ranks)\n",
    "average_ranks"
   ]
  }
 ],
 "metadata": {
  "kernelspec": {
   "display_name": "rsast_env",
   "language": "python",
   "name": "python3"
  },
  "language_info": {
   "codemirror_mode": {
    "name": "ipython",
    "version": 3
   },
   "file_extension": ".py",
   "mimetype": "text/x-python",
   "name": "python",
   "nbconvert_exporter": "python",
   "pygments_lexer": "ipython3",
   "version": "3.9.13"
  },
  "vscode": {
   "interpreter": {
    "hash": "15558ed87e778df9776c3e85b8e1a3f1f5adbf230fcca0229423f99909b60d27"
   }
  }
 },
 "nbformat": 4,
 "nbformat_minor": 2
}
