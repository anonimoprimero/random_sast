{
 "cells": [
  {
   "attachments": {},
   "cell_type": "markdown",
   "metadata": {},
   "source": [
    "## Experiments: Sensitive Analysis Hyperparameter RSAST:\n"
   ]
  },
  {
   "attachments": {},
   "cell_type": "markdown",
   "metadata": {},
   "source": [
    "It is runned RSAST in a set of UCR datasets with a predefined number of runs (\"runs\"). Then, it is selected a range (\"range_total\") between 1, 10, 30 ,50 and 100 for the selected dataset."
   ]
  },
  {
   "cell_type": "code",
   "execution_count": 1,
   "metadata": {},
   "outputs": [
    {
     "data": {
      "text/plain": [
       "['c:\\\\Users\\\\Surface pro\\\\random_sast\\\\ExperimentationRSAST',\n",
       " 'c:\\\\Users\\\\Surface pro\\\\anaconda3\\\\python39.zip',\n",
       " 'c:\\\\Users\\\\Surface pro\\\\anaconda3\\\\DLLs',\n",
       " 'c:\\\\Users\\\\Surface pro\\\\anaconda3\\\\lib',\n",
       " 'c:\\\\Users\\\\Surface pro\\\\anaconda3',\n",
       " '',\n",
       " 'c:\\\\Users\\\\Surface pro\\\\anaconda3\\\\lib\\\\site-packages',\n",
       " 'c:\\\\Users\\\\Surface pro\\\\anaconda3\\\\lib\\\\site-packages\\\\win32',\n",
       " 'c:\\\\Users\\\\Surface pro\\\\anaconda3\\\\lib\\\\site-packages\\\\win32\\\\lib',\n",
       " 'c:\\\\Users\\\\Surface pro\\\\anaconda3\\\\lib\\\\site-packages\\\\Pythonwin',\n",
       " 'c:\\\\Users\\\\Surface pro\\\\anaconda3\\\\lib\\\\site-packages\\\\IPython\\\\extensions',\n",
       " 'C:\\\\Users\\\\Surface pro\\\\.ipython',\n",
       " 'C:\\\\Users\\\\Surface pro/random_sast/sast',\n",
       " 'C:\\\\Users\\\\\\random_sast\\\\sast',\n",
       " 'C:\\\\Users\\\\Surface pro/random_sast/cd_diagram',\n",
       " 'C:\\\\Users\\\\\\random_sast\\\\sast']"
      ]
     },
     "execution_count": 1,
     "metadata": {},
     "output_type": "execute_result"
    }
   ],
   "source": [
    "#configure directory to import sast libraries\n",
    "import sys \n",
    "import os \n",
    "#add sast library path\n",
    "file_path = os.path.expanduser(\"~/random_sast/sast\")\n",
    "#file_path = r\"C:\\Users\\Public\\random_sast\\sast\"\n",
    "sys.path.append(file_path)\n",
    "file_path = os.path.expanduser(\"~\\random_sast\\sast\")\n",
    "#file_path = r\"C:\\Users\\Public\\random_sast\\sast\"\n",
    "sys.path.append(file_path)\n",
    "\n",
    "#add cd_diagram library path\n",
    "file_path = os.path.expanduser(\"~/random_sast/cd_diagram\")\n",
    "#file_path = r\"C:\\Users\\Public\\random_sast\\cd_diagram\"\n",
    "sys.path.append(file_path)\n",
    "file_path = os.path.expanduser(\"~\\random_sast\\sast\")\n",
    "#file_path = r\"C:\\Users\\Public\\random_sast\\sast\"\n",
    "sys.path.append(file_path)\n",
    "\n",
    "sys.path"
   ]
  },
  {
   "cell_type": "code",
   "execution_count": 2,
   "metadata": {},
   "outputs": [
    {
     "name": "stderr",
     "output_type": "stream",
     "text": [
      "c:\\Users\\Surface pro\\anaconda3\\lib\\site-packages\\mass_ts\\_mass_ts.py:17: UserWarning: GPU support will not work. You must pip install mass-ts[gpu].\n",
      "  warnings.warn(\n"
     ]
    }
   ],
   "source": [
    "from sast import *\n",
    "import pandas as pd\n",
    "import researchpy\n",
    "import math"
   ]
  },
  {
   "attachments": {},
   "cell_type": "markdown",
   "metadata": {},
   "source": [
    "### Reading Datasets"
   ]
  },
  {
   "cell_type": "code",
   "execution_count": 3,
   "metadata": {},
   "outputs": [],
   "source": [
    "# Set directory where the csv files are located\n",
    "directory = os.getcwd()+'/ResultsByClassifier'\n",
    "\n",
    "# Create an empty list to store the dataframes\n",
    "dfs = []\n",
    "\n",
    "# Loop through all files in the directory\n",
    "for filename in os.listdir(directory):\n",
    "    # Check if the file starts with \"df_overall_tunning\" and ends with \".csv\"\n",
    "    if filename.endswith(\".csv\"):\n",
    "        # Read the csv file into a dataframe\n",
    "        filepath = os.path.join(directory, filename)\n",
    "        df = pd.read_csv(filepath)\n",
    "        # Append the dataframe to the list\n",
    "        df['filename']=filename\n",
    "        dfs.append(df)\n",
    "\n",
    "# Concatenate all the dataframes in the list into one dataframe\n",
    "df_other_methods = pd.concat(dfs, ignore_index=True)\n",
    "df_other_methods=df_other_methods[['filename','folds:','0']]\n",
    "df_other_methods['method']=df_other_methods['filename'].str.split('_').str[0]\n",
    "df_other_methods\n",
    "df_other_methods=df_other_methods.rename(columns={'folds:':'dataset','0':'score'})\n",
    "df_other_methods=df_other_methods[['dataset','score','method']]\n"
   ]
  },
  {
   "cell_type": "code",
   "execution_count": 4,
   "metadata": {},
   "outputs": [
    {
     "data": {
      "text/plain": [
       "array(['BOSS', 'Catch22', 'cBOSS', 'HIVE-COTEv1', 'InceptionTime',\n",
       "       'ProximityForest', 'ResNet', 'RISE', 'ROCKET', 'S-BOSS', 'SAST',\n",
       "       'STC', 'TS-CHIEF', 'TSF', 'WEASEL'], dtype=object)"
      ]
     },
     "execution_count": 4,
     "metadata": {},
     "output_type": "execute_result"
    }
   ],
   "source": [
    "df_other_methods['method'].unique()"
   ]
  },
  {
   "cell_type": "code",
   "execution_count": 5,
   "metadata": {},
   "outputs": [],
   "source": [
    "# Set directory where the csv files are located\n",
    "directory = os.getcwd()+'/ResultsRsast'\n",
    "#directory = os.getcwd()+'/results_accuracy_per_ds'\n",
    "\n",
    "# Create an empty list to store the dataframes\n",
    "dfs = []\n",
    "\n",
    "# Loop through all files in the directory\n",
    "for filename in os.listdir(directory):\n",
    "    # Check if the file starts with \"df_overall_tunning\" and ends with \".csv\"\n",
    "    if filename.startswith(\"df_overall_tunning\") and filename.endswith(\".csv\"):\n",
    "        # Read the csv file into a dataframe\n",
    "        filepath = os.path.join(directory, filename)\n",
    "        df = pd.read_csv(filepath)\n",
    "        df['rpoint']=df['rpoint'].astype(str)\n",
    "        df['nb_per_class']=df['nb_per_class'].astype(str)\n",
    "\n",
    "        \n",
    "        # Append the dataframe to the list\n",
    "        dfs.append(df)\n",
    "\n",
    "# Concatenate all the dataframes in the list into one dataframe\n",
    "df_result = pd.concat(dfs, ignore_index=True)\n",
    "#df_result.head(3)\n"
   ]
  },
  {
   "cell_type": "code",
   "execution_count": 6,
   "metadata": {},
   "outputs": [],
   "source": [
    "#create dataset to generate cd diagram\n",
    "df_perf=pd.pivot_table(df_result, values='accuracy', index=['classifier_name','dataset_name'], aggfunc='mean')\n",
    "df_perf=df_perf.reset_index()\n",
    "#df_perf.classifier_name.unique()"
   ]
  },
  {
   "cell_type": "code",
   "execution_count": 7,
   "metadata": {},
   "outputs": [
    {
     "data": {
      "text/plain": [
       "array(['Chinatown', 'Coffee', 'DistalPhalanxOutlineAgeGroup',\n",
       "       'DistalPhalanxOutlineCorrect', 'GunPoint', 'ItalyPowerDemand',\n",
       "       'ShapeletSim', 'SmoothSubspace', 'SonyAIBORobotSurface2',\n",
       "       'SyntheticControl'], dtype=object)"
      ]
     },
     "execution_count": 7,
     "metadata": {},
     "output_type": "execute_result"
    }
   ],
   "source": [
    "#get ds tested overall\n",
    "df_result['dataset_name'].unique()"
   ]
  },
  {
   "cell_type": "code",
   "execution_count": 8,
   "metadata": {},
   "outputs": [
    {
     "data": {
      "text/plain": [
       "Index(['Unnamed: 0', 'accuracy', 'time', 'cweights_time', 'fsubsequence_time',\n",
       "       'tdataset_time', 'tclassifier_time', 'dataset_name', 'classifier_name',\n",
       "       'rpoint', 'nb_per_class', 'method', 'len_method'],\n",
       "      dtype='object')"
      ]
     },
     "execution_count": 8,
     "metadata": {},
     "output_type": "execute_result"
    }
   ],
   "source": [
    "#get columns of generated datasets\n",
    "df_result.columns.unique()"
   ]
  },
  {
   "cell_type": "code",
   "execution_count": 9,
   "metadata": {},
   "outputs": [
    {
     "data": {
      "text/plain": [
       "array(['Chinatown', 'Coffee', 'DistalPhalanxOutlineAgeGroup',\n",
       "       'DistalPhalanxOutlineCorrect', 'GunPoint', 'ItalyPowerDemand',\n",
       "       'SmoothSubspace', 'SonyAIBORobotSurface2', 'SyntheticControl'],\n",
       "      dtype=object)"
      ]
     },
     "execution_count": 9,
     "metadata": {},
     "output_type": "execute_result"
    }
   ],
   "source": [
    "#filter dataset for cd-diagrams with the ds that has already tested all combinations of params\n",
    "param_per_ds=pd.pivot_table(df_perf, index=['dataset_name'],values=['classifier_name'] ,aggfunc='count')\n",
    "param_per_ds=param_per_ds.reset_index()\n",
    "complete_ds=param_per_ds[param_per_ds.classifier_name==max(param_per_ds.classifier_name)][\"dataset_name\"].unique()\n",
    "\n",
    "df_perf=df_perf[df_perf.dataset_name.isin(complete_ds)]\n",
    "df_result=df_result[df_result.dataset_name.isin(complete_ds)]\n",
    "df_perf.dataset_name.unique()"
   ]
  },
  {
   "attachments": {},
   "cell_type": "markdown",
   "metadata": {},
   "source": [
    "### Hyperparameter Tunning RSAST "
   ]
  },
  {
   "attachments": {},
   "cell_type": "markdown",
   "metadata": {},
   "source": [
    "#### Accuracy: Subsequence Lenght Method "
   ]
  },
  {
   "cell_type": "code",
   "execution_count": 10,
   "metadata": {},
   "outputs": [
    {
     "data": {
      "text/plain": [
       "array(['(lenthg ts)//2'], dtype=object)"
      ]
     },
     "execution_count": 10,
     "metadata": {},
     "output_type": "execute_result"
    }
   ],
   "source": [
    "filter_param=df_result[df_result.rpoint=='(lenthg ts)//2']\n",
    "filter_param.rpoint.unique()"
   ]
  },
  {
   "cell_type": "code",
   "execution_count": 11,
   "metadata": {},
   "outputs": [
    {
     "data": {
      "text/plain": [
       "array(['(max instances per class)//2'], dtype=object)"
      ]
     },
     "execution_count": 11,
     "metadata": {},
     "output_type": "execute_result"
    }
   ],
   "source": [
    "filter_param=filter_param[filter_param.nb_per_class=='(max instances per class)//2']\n",
    "filter_param.nb_per_class.unique()"
   ]
  },
  {
   "cell_type": "code",
   "execution_count": 12,
   "metadata": {},
   "outputs": [
    {
     "data": {
      "text/html": [
       "<div>\n",
       "<style scoped>\n",
       "    .dataframe tbody tr th:only-of-type {\n",
       "        vertical-align: middle;\n",
       "    }\n",
       "\n",
       "    .dataframe tbody tr th {\n",
       "        vertical-align: top;\n",
       "    }\n",
       "\n",
       "    .dataframe thead th {\n",
       "        text-align: right;\n",
       "    }\n",
       "</style>\n",
       "<table border=\"1\" class=\"dataframe\">\n",
       "  <thead>\n",
       "    <tr style=\"text-align: right;\">\n",
       "      <th></th>\n",
       "      <th>dataset_name</th>\n",
       "      <th>ACF</th>\n",
       "      <th>ACF&amp;PACF</th>\n",
       "      <th>Max ACF</th>\n",
       "      <th>Max PACF</th>\n",
       "      <th>None</th>\n",
       "      <th>PACF</th>\n",
       "      <th>score</th>\n",
       "      <th>method</th>\n",
       "    </tr>\n",
       "  </thead>\n",
       "  <tbody>\n",
       "    <tr>\n",
       "      <th>0</th>\n",
       "      <td>Chinatown</td>\n",
       "      <td>0.945578</td>\n",
       "      <td>0.971817</td>\n",
       "      <td>0.958017</td>\n",
       "      <td>0.971623</td>\n",
       "      <td>0.966375</td>\n",
       "      <td>0.974927</td>\n",
       "      <td>0.982507</td>\n",
       "      <td>ROCKET</td>\n",
       "    </tr>\n",
       "    <tr>\n",
       "      <th>1</th>\n",
       "      <td>Coffee</td>\n",
       "      <td>0.964286</td>\n",
       "      <td>1.000000</td>\n",
       "      <td>0.978571</td>\n",
       "      <td>0.935714</td>\n",
       "      <td>1.000000</td>\n",
       "      <td>1.000000</td>\n",
       "      <td>1.000000</td>\n",
       "      <td>ROCKET</td>\n",
       "    </tr>\n",
       "    <tr>\n",
       "      <th>2</th>\n",
       "      <td>DistalPhalanxOutlineAgeGroup</td>\n",
       "      <td>0.734772</td>\n",
       "      <td>0.724700</td>\n",
       "      <td>0.773621</td>\n",
       "      <td>0.729017</td>\n",
       "      <td>0.729496</td>\n",
       "      <td>0.717506</td>\n",
       "      <td>0.748201</td>\n",
       "      <td>ROCKET</td>\n",
       "    </tr>\n",
       "    <tr>\n",
       "      <th>3</th>\n",
       "      <td>DistalPhalanxOutlineCorrect</td>\n",
       "      <td>0.650000</td>\n",
       "      <td>0.713043</td>\n",
       "      <td>0.665942</td>\n",
       "      <td>0.700000</td>\n",
       "      <td>0.723913</td>\n",
       "      <td>0.723188</td>\n",
       "      <td>0.771739</td>\n",
       "      <td>ROCKET</td>\n",
       "    </tr>\n",
       "    <tr>\n",
       "      <th>4</th>\n",
       "      <td>GunPoint</td>\n",
       "      <td>0.830222</td>\n",
       "      <td>0.976000</td>\n",
       "      <td>0.845778</td>\n",
       "      <td>0.972444</td>\n",
       "      <td>0.965778</td>\n",
       "      <td>0.974667</td>\n",
       "      <td>1.000000</td>\n",
       "      <td>ROCKET</td>\n",
       "    </tr>\n",
       "    <tr>\n",
       "      <th>5</th>\n",
       "      <td>ItalyPowerDemand</td>\n",
       "      <td>0.949660</td>\n",
       "      <td>0.946615</td>\n",
       "      <td>0.952705</td>\n",
       "      <td>0.944866</td>\n",
       "      <td>0.951668</td>\n",
       "      <td>0.944866</td>\n",
       "      <td>0.968902</td>\n",
       "      <td>ROCKET</td>\n",
       "    </tr>\n",
       "    <tr>\n",
       "      <th>6</th>\n",
       "      <td>SmoothSubspace</td>\n",
       "      <td>0.870222</td>\n",
       "      <td>0.910667</td>\n",
       "      <td>0.879556</td>\n",
       "      <td>0.896889</td>\n",
       "      <td>0.876000</td>\n",
       "      <td>0.908889</td>\n",
       "      <td>0.980000</td>\n",
       "      <td>ROCKET</td>\n",
       "    </tr>\n",
       "    <tr>\n",
       "      <th>7</th>\n",
       "      <td>SonyAIBORobotSurface2</td>\n",
       "      <td>0.751242</td>\n",
       "      <td>0.899685</td>\n",
       "      <td>0.756348</td>\n",
       "      <td>0.866387</td>\n",
       "      <td>0.837356</td>\n",
       "      <td>0.893319</td>\n",
       "      <td>0.916055</td>\n",
       "      <td>ROCKET</td>\n",
       "    </tr>\n",
       "    <tr>\n",
       "      <th>8</th>\n",
       "      <td>SyntheticControl</td>\n",
       "      <td>0.920000</td>\n",
       "      <td>0.967333</td>\n",
       "      <td>0.896000</td>\n",
       "      <td>0.963333</td>\n",
       "      <td>0.981333</td>\n",
       "      <td>0.966667</td>\n",
       "      <td>1.000000</td>\n",
       "      <td>ROCKET</td>\n",
       "    </tr>\n",
       "  </tbody>\n",
       "</table>\n",
       "</div>"
      ],
      "text/plain": [
       "                   dataset_name       ACF  ACF&PACF   Max ACF  Max PACF  \\\n",
       "0                     Chinatown  0.945578  0.971817  0.958017  0.971623   \n",
       "1                        Coffee  0.964286  1.000000  0.978571  0.935714   \n",
       "2  DistalPhalanxOutlineAgeGroup  0.734772  0.724700  0.773621  0.729017   \n",
       "3   DistalPhalanxOutlineCorrect  0.650000  0.713043  0.665942  0.700000   \n",
       "4                      GunPoint  0.830222  0.976000  0.845778  0.972444   \n",
       "5              ItalyPowerDemand  0.949660  0.946615  0.952705  0.944866   \n",
       "6                SmoothSubspace  0.870222  0.910667  0.879556  0.896889   \n",
       "7         SonyAIBORobotSurface2  0.751242  0.899685  0.756348  0.866387   \n",
       "8              SyntheticControl  0.920000  0.967333  0.896000  0.963333   \n",
       "\n",
       "       None      PACF     score  method  \n",
       "0  0.966375  0.974927  0.982507  ROCKET  \n",
       "1  1.000000  1.000000  1.000000  ROCKET  \n",
       "2  0.729496  0.717506  0.748201  ROCKET  \n",
       "3  0.723913  0.723188  0.771739  ROCKET  \n",
       "4  0.965778  0.974667  1.000000  ROCKET  \n",
       "5  0.951668  0.944866  0.968902  ROCKET  \n",
       "6  0.876000  0.908889  0.980000  ROCKET  \n",
       "7  0.837356  0.893319  0.916055  ROCKET  \n",
       "8  0.981333  0.966667  1.000000  ROCKET  "
      ]
     },
     "execution_count": 12,
     "metadata": {},
     "output_type": "execute_result"
    }
   ],
   "source": [
    "# create a pivot table with the mean of score by dataset\n",
    "len_method_vs_ds=pd.pivot_table(filter_param, values='accuracy', index=['len_method'],columns=['dataset_name'], aggfunc='mean')\n",
    "len_method_vs_ds=np.transpose(len_method_vs_ds)#[['ACF','PACF']]\n",
    "len_method_vs_ds=len_method_vs_ds.reset_index()\n",
    "df_rocket=df_other_methods[df_other_methods[\"method\"]==\"ROCKET\"]\n",
    "merged_df = len_method_vs_ds.merge(df_rocket,left_on='dataset_name', right_on='dataset',  how='left')\n",
    "merged_df=merged_df.drop('dataset',axis=1)\n",
    "merged_df"
   ]
  },
  {
   "cell_type": "code",
   "execution_count": 13,
   "metadata": {},
   "outputs": [
    {
     "name": "stdout",
     "output_type": "stream",
     "text": [
      "\n",
      "\n"
     ]
    },
    {
     "data": {
      "text/html": [
       "<div>\n",
       "<style scoped>\n",
       "    .dataframe tbody tr th:only-of-type {\n",
       "        vertical-align: middle;\n",
       "    }\n",
       "\n",
       "    .dataframe tbody tr th {\n",
       "        vertical-align: top;\n",
       "    }\n",
       "\n",
       "    .dataframe thead th {\n",
       "        text-align: right;\n",
       "    }\n",
       "</style>\n",
       "<table border=\"1\" class=\"dataframe\">\n",
       "  <thead>\n",
       "    <tr style=\"text-align: right;\">\n",
       "      <th></th>\n",
       "      <th>N</th>\n",
       "      <th>Mean</th>\n",
       "      <th>SD</th>\n",
       "      <th>SE</th>\n",
       "      <th>95% Conf.</th>\n",
       "      <th>Interval</th>\n",
       "    </tr>\n",
       "    <tr>\n",
       "      <th>len_method</th>\n",
       "      <th></th>\n",
       "      <th></th>\n",
       "      <th></th>\n",
       "      <th></th>\n",
       "      <th></th>\n",
       "      <th></th>\n",
       "    </tr>\n",
       "  </thead>\n",
       "  <tbody>\n",
       "    <tr>\n",
       "      <th>ACF</th>\n",
       "      <td>105</td>\n",
       "      <td>0.8466</td>\n",
       "      <td>0.1003</td>\n",
       "      <td>0.0098</td>\n",
       "      <td>0.8272</td>\n",
       "      <td>0.8660</td>\n",
       "    </tr>\n",
       "    <tr>\n",
       "      <th>ACF&amp;PACF</th>\n",
       "      <td>105</td>\n",
       "      <td>0.9033</td>\n",
       "      <td>0.0939</td>\n",
       "      <td>0.0092</td>\n",
       "      <td>0.8851</td>\n",
       "      <td>0.9215</td>\n",
       "    </tr>\n",
       "    <tr>\n",
       "      <th>Max ACF</th>\n",
       "      <td>105</td>\n",
       "      <td>0.8590</td>\n",
       "      <td>0.0923</td>\n",
       "      <td>0.0090</td>\n",
       "      <td>0.8411</td>\n",
       "      <td>0.8768</td>\n",
       "    </tr>\n",
       "    <tr>\n",
       "      <th>Max PACF</th>\n",
       "      <td>105</td>\n",
       "      <td>0.8925</td>\n",
       "      <td>0.0919</td>\n",
       "      <td>0.0090</td>\n",
       "      <td>0.8747</td>\n",
       "      <td>0.9103</td>\n",
       "    </tr>\n",
       "    <tr>\n",
       "      <th>None</th>\n",
       "      <td>105</td>\n",
       "      <td>0.8898</td>\n",
       "      <td>0.0952</td>\n",
       "      <td>0.0093</td>\n",
       "      <td>0.8713</td>\n",
       "      <td>0.9082</td>\n",
       "    </tr>\n",
       "    <tr>\n",
       "      <th>PACF</th>\n",
       "      <td>105</td>\n",
       "      <td>0.9015</td>\n",
       "      <td>0.0952</td>\n",
       "      <td>0.0093</td>\n",
       "      <td>0.8831</td>\n",
       "      <td>0.9200</td>\n",
       "    </tr>\n",
       "  </tbody>\n",
       "</table>\n",
       "</div>"
      ],
      "text/plain": [
       "              N    Mean      SD      SE  95% Conf.  Interval\n",
       "len_method                                                  \n",
       "ACF         105  0.8466  0.1003  0.0098     0.8272    0.8660\n",
       "ACF&PACF    105  0.9033  0.0939  0.0092     0.8851    0.9215\n",
       "Max ACF     105  0.8590  0.0923  0.0090     0.8411    0.8768\n",
       "Max PACF    105  0.8925  0.0919  0.0090     0.8747    0.9103\n",
       "None        105  0.8898  0.0952  0.0093     0.8713    0.9082\n",
       "PACF        105  0.9015  0.0952  0.0093     0.8831    0.9200"
      ]
     },
     "execution_count": 13,
     "metadata": {},
     "output_type": "execute_result"
    }
   ],
   "source": [
    "\n",
    "len_method_vs_ds=pd.pivot_table(filter_param, values='accuracy', index=['len_method'],columns=['dataset_name'], aggfunc='var')\n",
    "len_method_vs_ds=np.transpose(len_method_vs_ds)#[['ACF','PACF']]\n",
    "len_method_vs_ds=len_method_vs_ds.reset_index()\n",
    "len_method_vs_ds\n",
    "\n",
    "# Summary statistics for a Series (single variable)\n",
    "researchpy.summary_cont(filter_param.groupby(['len_method'])['accuracy'], conf = 0.95)"
   ]
  },
  {
   "cell_type": "code",
   "execution_count": 14,
   "metadata": {},
   "outputs": [
    {
     "name": "stdout",
     "output_type": "stream",
     "text": [
      "                mean  count       std   ci95_hi   ci95_lo\n",
      "len_method                                               \n",
      "ACF         0.846637    105  0.100295  0.865821  0.827453\n",
      "ACF&PACF    0.903278    105  0.093930  0.921244  0.885311\n",
      "Max ACF     0.858980    105  0.092317  0.876638  0.841322\n",
      "Max PACF    0.892511    105  0.091907  0.910090  0.874931\n",
      "None        0.889775    105  0.095220  0.907988  0.871561\n",
      "PACF        0.901542    105  0.095184  0.919748  0.883335\n"
     ]
    }
   ],
   "source": [
    "stats = filter_param.groupby(['len_method'])['accuracy'].agg(['mean', 'count', 'std'])\n",
    "\n",
    "ci95_hi = []\n",
    "ci95_lo = []\n",
    "\n",
    "for i in stats.index:\n",
    "    m, c, s = stats.loc[i]\n",
    "    ci95_hi.append(m + 1.96*s/math.sqrt(c))\n",
    "    ci95_lo.append(m - 1.96*s/math.sqrt(c))\n",
    "\n",
    "stats['ci95_hi'] = ci95_hi\n",
    "stats['ci95_lo'] = ci95_lo\n",
    "print(stats.head(10))"
   ]
  },
  {
   "attachments": {},
   "cell_type": "markdown",
   "metadata": {},
   "source": [
    "#### Generate CD Diagram Tunning Hyperparameter"
   ]
  },
  {
   "cell_type": "code",
   "execution_count": 15,
   "metadata": {},
   "outputs": [
    {
     "name": "stdout",
     "output_type": "stream",
     "text": [
      "len_methodACF&PACF\n",
      "nb_per_class(max instances per class)//2\n"
     ]
    },
    {
     "name": "stderr",
     "output_type": "stream",
     "text": [
      "c:\\Users\\Surface pro\\anaconda3\\lib\\site-packages\\scipy\\stats\\_morestats.py:3255: UserWarning: Exact p-value calculation does not work if there are zeros. Switching to normal approximation.\n",
      "  warnings.warn(\"Exact p-value calculation does not work if there are \"\n",
      "c:\\Users\\Surface pro\\anaconda3\\lib\\site-packages\\scipy\\stats\\_morestats.py:3269: UserWarning: Sample size too small for normal approximation.\n",
      "  warnings.warn(\"Sample size too small for normal approximation.\")\n"
     ]
    },
    {
     "name": "stdout",
     "output_type": "stream",
     "text": [
      "len_methodACF\n",
      "nb_per_class(max instances per class)//2\n",
      "the null hypothesis over the entire classifiers cannot be rejected\n"
     ]
    },
    {
     "name": "stderr",
     "output_type": "stream",
     "text": [
      "c:\\Users\\Surface pro\\anaconda3\\lib\\site-packages\\scipy\\stats\\_morestats.py:3255: UserWarning: Exact p-value calculation does not work if there are zeros. Switching to normal approximation.\n",
      "  warnings.warn(\"Exact p-value calculation does not work if there are \"\n",
      "c:\\Users\\Surface pro\\anaconda3\\lib\\site-packages\\scipy\\stats\\_morestats.py:3269: UserWarning: Sample size too small for normal approximation.\n",
      "  warnings.warn(\"Sample size too small for normal approximation.\")\n"
     ]
    },
    {
     "name": "stdout",
     "output_type": "stream",
     "text": [
      "len_methodPACF\n",
      "nb_per_class(max instances per class)//2\n",
      "the null hypothesis over the entire classifiers cannot be rejected\n"
     ]
    },
    {
     "name": "stderr",
     "output_type": "stream",
     "text": [
      "c:\\Users\\Surface pro\\anaconda3\\lib\\site-packages\\scipy\\stats\\_morestats.py:3255: UserWarning: Exact p-value calculation does not work if there are zeros. Switching to normal approximation.\n",
      "  warnings.warn(\"Exact p-value calculation does not work if there are \"\n",
      "c:\\Users\\Surface pro\\anaconda3\\lib\\site-packages\\scipy\\stats\\_morestats.py:3269: UserWarning: Sample size too small for normal approximation.\n",
      "  warnings.warn(\"Sample size too small for normal approximation.\")\n"
     ]
    },
    {
     "name": "stdout",
     "output_type": "stream",
     "text": [
      "len_methodMax ACF\n",
      "nb_per_class(max instances per class)//2\n",
      "the null hypothesis over the entire classifiers cannot be rejected\n"
     ]
    },
    {
     "name": "stderr",
     "output_type": "stream",
     "text": [
      "c:\\Users\\Surface pro\\anaconda3\\lib\\site-packages\\scipy\\stats\\_morestats.py:3255: UserWarning: Exact p-value calculation does not work if there are zeros. Switching to normal approximation.\n",
      "  warnings.warn(\"Exact p-value calculation does not work if there are \"\n",
      "c:\\Users\\Surface pro\\anaconda3\\lib\\site-packages\\scipy\\stats\\_morestats.py:3269: UserWarning: Sample size too small for normal approximation.\n",
      "  warnings.warn(\"Sample size too small for normal approximation.\")\n"
     ]
    },
    {
     "name": "stdout",
     "output_type": "stream",
     "text": [
      "len_methodMax PACF\n",
      "nb_per_class(max instances per class)//2\n",
      "the null hypothesis over the entire classifiers cannot be rejected\n"
     ]
    },
    {
     "name": "stderr",
     "output_type": "stream",
     "text": [
      "c:\\Users\\Surface pro\\anaconda3\\lib\\site-packages\\scipy\\stats\\_morestats.py:3255: UserWarning: Exact p-value calculation does not work if there are zeros. Switching to normal approximation.\n",
      "  warnings.warn(\"Exact p-value calculation does not work if there are \"\n",
      "c:\\Users\\Surface pro\\anaconda3\\lib\\site-packages\\scipy\\stats\\_morestats.py:3269: UserWarning: Sample size too small for normal approximation.\n",
      "  warnings.warn(\"Sample size too small for normal approximation.\")\n"
     ]
    },
    {
     "name": "stdout",
     "output_type": "stream",
     "text": [
      "len_methodNone\n",
      "nb_per_class(max instances per class)//2\n",
      "the null hypothesis over the entire classifiers cannot be rejected\n"
     ]
    },
    {
     "name": "stderr",
     "output_type": "stream",
     "text": [
      "c:\\Users\\Surface pro\\anaconda3\\lib\\site-packages\\scipy\\stats\\_morestats.py:3255: UserWarning: Exact p-value calculation does not work if there are zeros. Switching to normal approximation.\n",
      "  warnings.warn(\"Exact p-value calculation does not work if there are \"\n",
      "c:\\Users\\Surface pro\\anaconda3\\lib\\site-packages\\scipy\\stats\\_morestats.py:3269: UserWarning: Sample size too small for normal approximation.\n",
      "  warnings.warn(\"Sample size too small for normal approximation.\")\n"
     ]
    },
    {
     "name": "stdout",
     "output_type": "stream",
     "text": [
      "len_methodACF&PACF\n",
      "nb_per_class1\n",
      "the null hypothesis over the entire classifiers cannot be rejected\n"
     ]
    },
    {
     "name": "stderr",
     "output_type": "stream",
     "text": [
      "c:\\Users\\Surface pro\\anaconda3\\lib\\site-packages\\scipy\\stats\\_morestats.py:3255: UserWarning: Exact p-value calculation does not work if there are zeros. Switching to normal approximation.\n",
      "  warnings.warn(\"Exact p-value calculation does not work if there are \"\n",
      "c:\\Users\\Surface pro\\anaconda3\\lib\\site-packages\\scipy\\stats\\_morestats.py:3269: UserWarning: Sample size too small for normal approximation.\n",
      "  warnings.warn(\"Sample size too small for normal approximation.\")\n"
     ]
    },
    {
     "name": "stdout",
     "output_type": "stream",
     "text": [
      "len_methodACF\n",
      "nb_per_class1\n"
     ]
    },
    {
     "name": "stderr",
     "output_type": "stream",
     "text": [
      "c:\\Users\\Surface pro\\anaconda3\\lib\\site-packages\\scipy\\stats\\_morestats.py:3255: UserWarning: Exact p-value calculation does not work if there are zeros. Switching to normal approximation.\n",
      "  warnings.warn(\"Exact p-value calculation does not work if there are \"\n",
      "c:\\Users\\Surface pro\\anaconda3\\lib\\site-packages\\scipy\\stats\\_morestats.py:3269: UserWarning: Sample size too small for normal approximation.\n",
      "  warnings.warn(\"Sample size too small for normal approximation.\")\n"
     ]
    },
    {
     "name": "stdout",
     "output_type": "stream",
     "text": [
      "len_methodPACF\n",
      "nb_per_class1\n",
      "the null hypothesis over the entire classifiers cannot be rejected\n"
     ]
    },
    {
     "name": "stderr",
     "output_type": "stream",
     "text": [
      "c:\\Users\\Surface pro\\anaconda3\\lib\\site-packages\\scipy\\stats\\_morestats.py:3255: UserWarning: Exact p-value calculation does not work if there are zeros. Switching to normal approximation.\n",
      "  warnings.warn(\"Exact p-value calculation does not work if there are \"\n",
      "c:\\Users\\Surface pro\\anaconda3\\lib\\site-packages\\scipy\\stats\\_morestats.py:3269: UserWarning: Sample size too small for normal approximation.\n",
      "  warnings.warn(\"Sample size too small for normal approximation.\")\n"
     ]
    },
    {
     "name": "stdout",
     "output_type": "stream",
     "text": [
      "len_methodMax ACF\n",
      "nb_per_class1\n"
     ]
    },
    {
     "name": "stderr",
     "output_type": "stream",
     "text": [
      "c:\\Users\\Surface pro\\anaconda3\\lib\\site-packages\\scipy\\stats\\_morestats.py:3255: UserWarning: Exact p-value calculation does not work if there are zeros. Switching to normal approximation.\n",
      "  warnings.warn(\"Exact p-value calculation does not work if there are \"\n",
      "c:\\Users\\Surface pro\\anaconda3\\lib\\site-packages\\scipy\\stats\\_morestats.py:3269: UserWarning: Sample size too small for normal approximation.\n",
      "  warnings.warn(\"Sample size too small for normal approximation.\")\n"
     ]
    },
    {
     "name": "stdout",
     "output_type": "stream",
     "text": [
      "len_methodMax PACF\n",
      "nb_per_class1\n"
     ]
    },
    {
     "name": "stderr",
     "output_type": "stream",
     "text": [
      "c:\\Users\\Surface pro\\anaconda3\\lib\\site-packages\\scipy\\stats\\_morestats.py:3255: UserWarning: Exact p-value calculation does not work if there are zeros. Switching to normal approximation.\n",
      "  warnings.warn(\"Exact p-value calculation does not work if there are \"\n",
      "c:\\Users\\Surface pro\\anaconda3\\lib\\site-packages\\scipy\\stats\\_morestats.py:3269: UserWarning: Sample size too small for normal approximation.\n",
      "  warnings.warn(\"Sample size too small for normal approximation.\")\n"
     ]
    },
    {
     "name": "stdout",
     "output_type": "stream",
     "text": [
      "len_methodNone\n",
      "nb_per_class1\n",
      "the null hypothesis over the entire classifiers cannot be rejected\n"
     ]
    },
    {
     "name": "stderr",
     "output_type": "stream",
     "text": [
      "c:\\Users\\Surface pro\\anaconda3\\lib\\site-packages\\scipy\\stats\\_morestats.py:3255: UserWarning: Exact p-value calculation does not work if there are zeros. Switching to normal approximation.\n",
      "  warnings.warn(\"Exact p-value calculation does not work if there are \"\n",
      "c:\\Users\\Surface pro\\anaconda3\\lib\\site-packages\\scipy\\stats\\_morestats.py:3269: UserWarning: Sample size too small for normal approximation.\n",
      "  warnings.warn(\"Sample size too small for normal approximation.\")\n"
     ]
    },
    {
     "name": "stdout",
     "output_type": "stream",
     "text": [
      "len_methodACF&PACF\n",
      "nb_per_class10\n",
      "the null hypothesis over the entire classifiers cannot be rejected\n"
     ]
    },
    {
     "name": "stderr",
     "output_type": "stream",
     "text": [
      "c:\\Users\\Surface pro\\anaconda3\\lib\\site-packages\\scipy\\stats\\_morestats.py:3255: UserWarning: Exact p-value calculation does not work if there are zeros. Switching to normal approximation.\n",
      "  warnings.warn(\"Exact p-value calculation does not work if there are \"\n",
      "c:\\Users\\Surface pro\\anaconda3\\lib\\site-packages\\scipy\\stats\\_morestats.py:3269: UserWarning: Sample size too small for normal approximation.\n",
      "  warnings.warn(\"Sample size too small for normal approximation.\")\n"
     ]
    },
    {
     "name": "stdout",
     "output_type": "stream",
     "text": [
      "len_methodACF\n",
      "nb_per_class10\n",
      "the null hypothesis over the entire classifiers cannot be rejected\n"
     ]
    },
    {
     "name": "stderr",
     "output_type": "stream",
     "text": [
      "c:\\Users\\Surface pro\\anaconda3\\lib\\site-packages\\scipy\\stats\\_morestats.py:3255: UserWarning: Exact p-value calculation does not work if there are zeros. Switching to normal approximation.\n",
      "  warnings.warn(\"Exact p-value calculation does not work if there are \"\n",
      "c:\\Users\\Surface pro\\anaconda3\\lib\\site-packages\\scipy\\stats\\_morestats.py:3269: UserWarning: Sample size too small for normal approximation.\n",
      "  warnings.warn(\"Sample size too small for normal approximation.\")\n"
     ]
    },
    {
     "name": "stdout",
     "output_type": "stream",
     "text": [
      "len_methodPACF\n",
      "nb_per_class10\n",
      "the null hypothesis over the entire classifiers cannot be rejected\n"
     ]
    },
    {
     "name": "stderr",
     "output_type": "stream",
     "text": [
      "c:\\Users\\Surface pro\\anaconda3\\lib\\site-packages\\scipy\\stats\\_morestats.py:3255: UserWarning: Exact p-value calculation does not work if there are zeros. Switching to normal approximation.\n",
      "  warnings.warn(\"Exact p-value calculation does not work if there are \"\n",
      "c:\\Users\\Surface pro\\anaconda3\\lib\\site-packages\\scipy\\stats\\_morestats.py:3269: UserWarning: Sample size too small for normal approximation.\n",
      "  warnings.warn(\"Sample size too small for normal approximation.\")\n"
     ]
    },
    {
     "name": "stdout",
     "output_type": "stream",
     "text": [
      "len_methodMax ACF\n",
      "nb_per_class10\n"
     ]
    },
    {
     "name": "stderr",
     "output_type": "stream",
     "text": [
      "c:\\Users\\Surface pro\\anaconda3\\lib\\site-packages\\scipy\\stats\\_morestats.py:3255: UserWarning: Exact p-value calculation does not work if there are zeros. Switching to normal approximation.\n",
      "  warnings.warn(\"Exact p-value calculation does not work if there are \"\n",
      "c:\\Users\\Surface pro\\anaconda3\\lib\\site-packages\\scipy\\stats\\_morestats.py:3269: UserWarning: Sample size too small for normal approximation.\n",
      "  warnings.warn(\"Sample size too small for normal approximation.\")\n"
     ]
    },
    {
     "name": "stdout",
     "output_type": "stream",
     "text": [
      "len_methodMax PACF\n",
      "nb_per_class10\n",
      "the null hypothesis over the entire classifiers cannot be rejected\n"
     ]
    },
    {
     "name": "stderr",
     "output_type": "stream",
     "text": [
      "c:\\Users\\Surface pro\\anaconda3\\lib\\site-packages\\scipy\\stats\\_morestats.py:3255: UserWarning: Exact p-value calculation does not work if there are zeros. Switching to normal approximation.\n",
      "  warnings.warn(\"Exact p-value calculation does not work if there are \"\n",
      "c:\\Users\\Surface pro\\anaconda3\\lib\\site-packages\\scipy\\stats\\_morestats.py:3269: UserWarning: Sample size too small for normal approximation.\n",
      "  warnings.warn(\"Sample size too small for normal approximation.\")\n"
     ]
    },
    {
     "name": "stdout",
     "output_type": "stream",
     "text": [
      "len_methodNone\n",
      "nb_per_class10\n"
     ]
    },
    {
     "name": "stderr",
     "output_type": "stream",
     "text": [
      "c:\\Users\\Surface pro\\anaconda3\\lib\\site-packages\\scipy\\stats\\_morestats.py:3255: UserWarning: Exact p-value calculation does not work if there are zeros. Switching to normal approximation.\n",
      "  warnings.warn(\"Exact p-value calculation does not work if there are \"\n",
      "c:\\Users\\Surface pro\\anaconda3\\lib\\site-packages\\scipy\\stats\\_morestats.py:3269: UserWarning: Sample size too small for normal approximation.\n",
      "  warnings.warn(\"Sample size too small for normal approximation.\")\n"
     ]
    },
    {
     "name": "stdout",
     "output_type": "stream",
     "text": [
      "len_methodACF&PACF\n",
      "nb_per_class30\n",
      "the null hypothesis over the entire classifiers cannot be rejected\n"
     ]
    },
    {
     "name": "stderr",
     "output_type": "stream",
     "text": [
      "c:\\Users\\Surface pro\\anaconda3\\lib\\site-packages\\scipy\\stats\\_morestats.py:3255: UserWarning: Exact p-value calculation does not work if there are zeros. Switching to normal approximation.\n",
      "  warnings.warn(\"Exact p-value calculation does not work if there are \"\n",
      "c:\\Users\\Surface pro\\anaconda3\\lib\\site-packages\\scipy\\stats\\_morestats.py:3269: UserWarning: Sample size too small for normal approximation.\n",
      "  warnings.warn(\"Sample size too small for normal approximation.\")\n"
     ]
    },
    {
     "name": "stdout",
     "output_type": "stream",
     "text": [
      "len_methodACF\n",
      "nb_per_class30\n"
     ]
    },
    {
     "name": "stderr",
     "output_type": "stream",
     "text": [
      "c:\\Users\\Surface pro\\anaconda3\\lib\\site-packages\\scipy\\stats\\_morestats.py:3255: UserWarning: Exact p-value calculation does not work if there are zeros. Switching to normal approximation.\n",
      "  warnings.warn(\"Exact p-value calculation does not work if there are \"\n",
      "c:\\Users\\Surface pro\\anaconda3\\lib\\site-packages\\scipy\\stats\\_morestats.py:3269: UserWarning: Sample size too small for normal approximation.\n",
      "  warnings.warn(\"Sample size too small for normal approximation.\")\n"
     ]
    },
    {
     "name": "stdout",
     "output_type": "stream",
     "text": [
      "len_methodPACF\n",
      "nb_per_class30\n",
      "the null hypothesis over the entire classifiers cannot be rejected\n"
     ]
    },
    {
     "name": "stderr",
     "output_type": "stream",
     "text": [
      "c:\\Users\\Surface pro\\anaconda3\\lib\\site-packages\\scipy\\stats\\_morestats.py:3255: UserWarning: Exact p-value calculation does not work if there are zeros. Switching to normal approximation.\n",
      "  warnings.warn(\"Exact p-value calculation does not work if there are \"\n",
      "c:\\Users\\Surface pro\\anaconda3\\lib\\site-packages\\scipy\\stats\\_morestats.py:3269: UserWarning: Sample size too small for normal approximation.\n",
      "  warnings.warn(\"Sample size too small for normal approximation.\")\n",
      "C:\\Users\\Surface pro/random_sast/cd_diagram\\cd_function.py:146: RuntimeWarning: More than 20 figures have been opened. Figures created through the pyplot interface (`matplotlib.pyplot.figure`) are retained until explicitly closed and may consume too much memory. (To control this warning, see the rcParam `figure.max_open_warning`).\n",
      "  fig = plt.figure(figsize=(width, height))\n"
     ]
    },
    {
     "name": "stdout",
     "output_type": "stream",
     "text": [
      "len_methodMax ACF\n",
      "nb_per_class30\n"
     ]
    },
    {
     "name": "stderr",
     "output_type": "stream",
     "text": [
      "c:\\Users\\Surface pro\\anaconda3\\lib\\site-packages\\scipy\\stats\\_morestats.py:3255: UserWarning: Exact p-value calculation does not work if there are zeros. Switching to normal approximation.\n",
      "  warnings.warn(\"Exact p-value calculation does not work if there are \"\n",
      "c:\\Users\\Surface pro\\anaconda3\\lib\\site-packages\\scipy\\stats\\_morestats.py:3269: UserWarning: Sample size too small for normal approximation.\n",
      "  warnings.warn(\"Sample size too small for normal approximation.\")\n"
     ]
    },
    {
     "name": "stdout",
     "output_type": "stream",
     "text": [
      "len_methodMax PACF\n",
      "nb_per_class30\n",
      "the null hypothesis over the entire classifiers cannot be rejected\n"
     ]
    },
    {
     "name": "stderr",
     "output_type": "stream",
     "text": [
      "c:\\Users\\Surface pro\\anaconda3\\lib\\site-packages\\scipy\\stats\\_morestats.py:3255: UserWarning: Exact p-value calculation does not work if there are zeros. Switching to normal approximation.\n",
      "  warnings.warn(\"Exact p-value calculation does not work if there are \"\n",
      "c:\\Users\\Surface pro\\anaconda3\\lib\\site-packages\\scipy\\stats\\_morestats.py:3269: UserWarning: Sample size too small for normal approximation.\n",
      "  warnings.warn(\"Sample size too small for normal approximation.\")\n"
     ]
    },
    {
     "name": "stdout",
     "output_type": "stream",
     "text": [
      "len_methodNone\n",
      "nb_per_class30\n",
      "the null hypothesis over the entire classifiers cannot be rejected\n"
     ]
    },
    {
     "name": "stderr",
     "output_type": "stream",
     "text": [
      "c:\\Users\\Surface pro\\anaconda3\\lib\\site-packages\\scipy\\stats\\_morestats.py:3255: UserWarning: Exact p-value calculation does not work if there are zeros. Switching to normal approximation.\n",
      "  warnings.warn(\"Exact p-value calculation does not work if there are \"\n",
      "c:\\Users\\Surface pro\\anaconda3\\lib\\site-packages\\scipy\\stats\\_morestats.py:3269: UserWarning: Sample size too small for normal approximation.\n",
      "  warnings.warn(\"Sample size too small for normal approximation.\")\n"
     ]
    },
    {
     "name": "stdout",
     "output_type": "stream",
     "text": [
      "len_methodACF&PACF\n",
      "nb_per_class50\n",
      "the null hypothesis over the entire classifiers cannot be rejected\n"
     ]
    },
    {
     "name": "stderr",
     "output_type": "stream",
     "text": [
      "c:\\Users\\Surface pro\\anaconda3\\lib\\site-packages\\scipy\\stats\\_morestats.py:3255: UserWarning: Exact p-value calculation does not work if there are zeros. Switching to normal approximation.\n",
      "  warnings.warn(\"Exact p-value calculation does not work if there are \"\n",
      "c:\\Users\\Surface pro\\anaconda3\\lib\\site-packages\\scipy\\stats\\_morestats.py:3269: UserWarning: Sample size too small for normal approximation.\n",
      "  warnings.warn(\"Sample size too small for normal approximation.\")\n"
     ]
    },
    {
     "name": "stdout",
     "output_type": "stream",
     "text": [
      "len_methodACF\n",
      "nb_per_class50\n"
     ]
    },
    {
     "name": "stderr",
     "output_type": "stream",
     "text": [
      "c:\\Users\\Surface pro\\anaconda3\\lib\\site-packages\\scipy\\stats\\_morestats.py:3255: UserWarning: Exact p-value calculation does not work if there are zeros. Switching to normal approximation.\n",
      "  warnings.warn(\"Exact p-value calculation does not work if there are \"\n",
      "c:\\Users\\Surface pro\\anaconda3\\lib\\site-packages\\scipy\\stats\\_morestats.py:3269: UserWarning: Sample size too small for normal approximation.\n",
      "  warnings.warn(\"Sample size too small for normal approximation.\")\n"
     ]
    },
    {
     "name": "stdout",
     "output_type": "stream",
     "text": [
      "len_methodPACF\n",
      "nb_per_class50\n",
      "the null hypothesis over the entire classifiers cannot be rejected\n"
     ]
    },
    {
     "name": "stderr",
     "output_type": "stream",
     "text": [
      "c:\\Users\\Surface pro\\anaconda3\\lib\\site-packages\\scipy\\stats\\_morestats.py:3255: UserWarning: Exact p-value calculation does not work if there are zeros. Switching to normal approximation.\n",
      "  warnings.warn(\"Exact p-value calculation does not work if there are \"\n",
      "c:\\Users\\Surface pro\\anaconda3\\lib\\site-packages\\scipy\\stats\\_morestats.py:3269: UserWarning: Sample size too small for normal approximation.\n",
      "  warnings.warn(\"Sample size too small for normal approximation.\")\n"
     ]
    },
    {
     "name": "stdout",
     "output_type": "stream",
     "text": [
      "len_methodMax ACF\n",
      "nb_per_class50\n"
     ]
    },
    {
     "name": "stderr",
     "output_type": "stream",
     "text": [
      "c:\\Users\\Surface pro\\anaconda3\\lib\\site-packages\\scipy\\stats\\_morestats.py:3255: UserWarning: Exact p-value calculation does not work if there are zeros. Switching to normal approximation.\n",
      "  warnings.warn(\"Exact p-value calculation does not work if there are \"\n",
      "c:\\Users\\Surface pro\\anaconda3\\lib\\site-packages\\scipy\\stats\\_morestats.py:3269: UserWarning: Sample size too small for normal approximation.\n",
      "  warnings.warn(\"Sample size too small for normal approximation.\")\n"
     ]
    },
    {
     "name": "stdout",
     "output_type": "stream",
     "text": [
      "len_methodMax PACF\n",
      "nb_per_class50\n",
      "the null hypothesis over the entire classifiers cannot be rejected\n"
     ]
    },
    {
     "name": "stderr",
     "output_type": "stream",
     "text": [
      "c:\\Users\\Surface pro\\anaconda3\\lib\\site-packages\\scipy\\stats\\_morestats.py:3255: UserWarning: Exact p-value calculation does not work if there are zeros. Switching to normal approximation.\n",
      "  warnings.warn(\"Exact p-value calculation does not work if there are \"\n",
      "c:\\Users\\Surface pro\\anaconda3\\lib\\site-packages\\scipy\\stats\\_morestats.py:3269: UserWarning: Sample size too small for normal approximation.\n",
      "  warnings.warn(\"Sample size too small for normal approximation.\")\n"
     ]
    },
    {
     "name": "stdout",
     "output_type": "stream",
     "text": [
      "len_methodNone\n",
      "nb_per_class50\n",
      "the null hypothesis over the entire classifiers cannot be rejected\n"
     ]
    },
    {
     "name": "stderr",
     "output_type": "stream",
     "text": [
      "c:\\Users\\Surface pro\\anaconda3\\lib\\site-packages\\scipy\\stats\\_morestats.py:3255: UserWarning: Exact p-value calculation does not work if there are zeros. Switching to normal approximation.\n",
      "  warnings.warn(\"Exact p-value calculation does not work if there are \"\n",
      "c:\\Users\\Surface pro\\anaconda3\\lib\\site-packages\\scipy\\stats\\_morestats.py:3269: UserWarning: Sample size too small for normal approximation.\n",
      "  warnings.warn(\"Sample size too small for normal approximation.\")\n"
     ]
    },
    {
     "name": "stdout",
     "output_type": "stream",
     "text": [
      "len_methodACF&PACF\n",
      "nb_per_class100\n",
      "the null hypothesis over the entire classifiers cannot be rejected\n"
     ]
    },
    {
     "name": "stderr",
     "output_type": "stream",
     "text": [
      "c:\\Users\\Surface pro\\anaconda3\\lib\\site-packages\\scipy\\stats\\_morestats.py:3255: UserWarning: Exact p-value calculation does not work if there are zeros. Switching to normal approximation.\n",
      "  warnings.warn(\"Exact p-value calculation does not work if there are \"\n",
      "c:\\Users\\Surface pro\\anaconda3\\lib\\site-packages\\scipy\\stats\\_morestats.py:3269: UserWarning: Sample size too small for normal approximation.\n",
      "  warnings.warn(\"Sample size too small for normal approximation.\")\n"
     ]
    },
    {
     "name": "stdout",
     "output_type": "stream",
     "text": [
      "len_methodACF\n",
      "nb_per_class100\n"
     ]
    },
    {
     "name": "stderr",
     "output_type": "stream",
     "text": [
      "c:\\Users\\Surface pro\\anaconda3\\lib\\site-packages\\scipy\\stats\\_morestats.py:3255: UserWarning: Exact p-value calculation does not work if there are zeros. Switching to normal approximation.\n",
      "  warnings.warn(\"Exact p-value calculation does not work if there are \"\n",
      "c:\\Users\\Surface pro\\anaconda3\\lib\\site-packages\\scipy\\stats\\_morestats.py:3269: UserWarning: Sample size too small for normal approximation.\n",
      "  warnings.warn(\"Sample size too small for normal approximation.\")\n"
     ]
    },
    {
     "name": "stdout",
     "output_type": "stream",
     "text": [
      "len_methodPACF\n",
      "nb_per_class100\n",
      "the null hypothesis over the entire classifiers cannot be rejected\n"
     ]
    },
    {
     "name": "stderr",
     "output_type": "stream",
     "text": [
      "c:\\Users\\Surface pro\\anaconda3\\lib\\site-packages\\scipy\\stats\\_morestats.py:3255: UserWarning: Exact p-value calculation does not work if there are zeros. Switching to normal approximation.\n",
      "  warnings.warn(\"Exact p-value calculation does not work if there are \"\n",
      "c:\\Users\\Surface pro\\anaconda3\\lib\\site-packages\\scipy\\stats\\_morestats.py:3269: UserWarning: Sample size too small for normal approximation.\n",
      "  warnings.warn(\"Sample size too small for normal approximation.\")\n"
     ]
    },
    {
     "name": "stdout",
     "output_type": "stream",
     "text": [
      "len_methodMax ACF\n",
      "nb_per_class100\n",
      "the null hypothesis over the entire classifiers cannot be rejected\n"
     ]
    },
    {
     "name": "stderr",
     "output_type": "stream",
     "text": [
      "c:\\Users\\Surface pro\\anaconda3\\lib\\site-packages\\scipy\\stats\\_morestats.py:3255: UserWarning: Exact p-value calculation does not work if there are zeros. Switching to normal approximation.\n",
      "  warnings.warn(\"Exact p-value calculation does not work if there are \"\n",
      "c:\\Users\\Surface pro\\anaconda3\\lib\\site-packages\\scipy\\stats\\_morestats.py:3269: UserWarning: Sample size too small for normal approximation.\n",
      "  warnings.warn(\"Sample size too small for normal approximation.\")\n"
     ]
    },
    {
     "name": "stdout",
     "output_type": "stream",
     "text": [
      "len_methodMax PACF\n",
      "nb_per_class100\n",
      "the null hypothesis over the entire classifiers cannot be rejected\n"
     ]
    },
    {
     "name": "stderr",
     "output_type": "stream",
     "text": [
      "c:\\Users\\Surface pro\\anaconda3\\lib\\site-packages\\scipy\\stats\\_morestats.py:3255: UserWarning: Exact p-value calculation does not work if there are zeros. Switching to normal approximation.\n",
      "  warnings.warn(\"Exact p-value calculation does not work if there are \"\n",
      "c:\\Users\\Surface pro\\anaconda3\\lib\\site-packages\\scipy\\stats\\_morestats.py:3269: UserWarning: Sample size too small for normal approximation.\n",
      "  warnings.warn(\"Sample size too small for normal approximation.\")\n"
     ]
    },
    {
     "name": "stdout",
     "output_type": "stream",
     "text": [
      "len_methodNone\n",
      "nb_per_class100\n",
      "the null hypothesis over the entire classifiers cannot be rejected\n"
     ]
    },
    {
     "name": "stderr",
     "output_type": "stream",
     "text": [
      "c:\\Users\\Surface pro\\anaconda3\\lib\\site-packages\\scipy\\stats\\_morestats.py:3255: UserWarning: Exact p-value calculation does not work if there are zeros. Switching to normal approximation.\n",
      "  warnings.warn(\"Exact p-value calculation does not work if there are \"\n",
      "c:\\Users\\Surface pro\\anaconda3\\lib\\site-packages\\scipy\\stats\\_morestats.py:3269: UserWarning: Sample size too small for normal approximation.\n",
      "  warnings.warn(\"Sample size too small for normal approximation.\")\n"
     ]
    }
   ],
   "source": [
    "from cd_function import *\n",
    "#generate hyperparameter tuning cd diagrams\n",
    "for k,ints in enumerate(df_result.nb_per_class.unique()):\n",
    "   ints_r=ints.replace(\"(\",\"\\(\")\n",
    "   ints_r=ints_r.replace(\")\",\"\\)\")\n",
    "   for len_m in df_result.len_method.unique():\n",
    "      df_to_cd=df_perf[df_perf.classifier_name.str.contains(r'^'+len_m+':.*nb_inst_per_class='+str(ints_r)+'$')]\n",
    "      print('len_method'+str(len_m))\n",
    "      print('nb_per_class'+str(ints))\n",
    "      draw_cd_diagram(df_to_cd, labels=True, title=len_m +\" comparison, nb_inst_per_class=\"+str(ints), name_file='images_cd_diagram/cd-diagram_'+len_m+str(k)+'.png')\n"
   ]
  },
  {
   "cell_type": "code",
   "execution_count": 16,
   "metadata": {},
   "outputs": [
    {
     "name": "stderr",
     "output_type": "stream",
     "text": [
      "c:\\Users\\Surface pro\\anaconda3\\lib\\site-packages\\scipy\\stats\\_morestats.py:3255: UserWarning: Exact p-value calculation does not work if there are zeros. Switching to normal approximation.\n",
      "  warnings.warn(\"Exact p-value calculation does not work if there are \"\n",
      "c:\\Users\\Surface pro\\anaconda3\\lib\\site-packages\\scipy\\stats\\_morestats.py:3269: UserWarning: Sample size too small for normal approximation.\n",
      "  warnings.warn(\"Sample size too small for normal approximation.\")\n"
     ]
    },
    {
     "data": {
      "text/html": [
       "<div>\n",
       "<style scoped>\n",
       "    .dataframe tbody tr th:only-of-type {\n",
       "        vertical-align: middle;\n",
       "    }\n",
       "\n",
       "    .dataframe tbody tr th {\n",
       "        vertical-align: top;\n",
       "    }\n",
       "\n",
       "    .dataframe thead th {\n",
       "        text-align: right;\n",
       "    }\n",
       "</style>\n",
       "<table border=\"1\" class=\"dataframe\">\n",
       "  <thead>\n",
       "    <tr style=\"text-align: right;\">\n",
       "      <th></th>\n",
       "      <th>0</th>\n",
       "    </tr>\n",
       "  </thead>\n",
       "  <tbody>\n",
       "    <tr>\n",
       "      <th>Max ACF: n_random_points=1 nb_inst_per_class=1</th>\n",
       "      <td>214.888889</td>\n",
       "    </tr>\n",
       "    <tr>\n",
       "      <th>ACF: n_random_points=1 nb_inst_per_class=1</th>\n",
       "      <td>213.444444</td>\n",
       "    </tr>\n",
       "    <tr>\n",
       "      <th>Max ACF: n_random_points=10 nb_inst_per_class=1</th>\n",
       "      <td>207.166667</td>\n",
       "    </tr>\n",
       "    <tr>\n",
       "      <th>ACF: n_random_points=10 nb_inst_per_class=1</th>\n",
       "      <td>205.000000</td>\n",
       "    </tr>\n",
       "    <tr>\n",
       "      <th>Max PACF: n_random_points=1 nb_inst_per_class=1</th>\n",
       "      <td>204.500000</td>\n",
       "    </tr>\n",
       "    <tr>\n",
       "      <th>...</th>\n",
       "      <td>...</td>\n",
       "    </tr>\n",
       "    <tr>\n",
       "      <th>ACF&amp;PACF: n_random_points= (lenthg ts)//2 nb_inst_per_class=30</th>\n",
       "      <td>55.500000</td>\n",
       "    </tr>\n",
       "    <tr>\n",
       "      <th>None: n_random_points=10 nb_inst_per_class=100</th>\n",
       "      <td>54.500000</td>\n",
       "    </tr>\n",
       "    <tr>\n",
       "      <th>ACF&amp;PACF: n_random_points=100 nb_inst_per_class=(max instances per class)//2</th>\n",
       "      <td>53.500000</td>\n",
       "    </tr>\n",
       "    <tr>\n",
       "      <th>ACF&amp;PACF: n_random_points= (lenthg ts)//2 nb_inst_per_class=50</th>\n",
       "      <td>51.388889</td>\n",
       "    </tr>\n",
       "    <tr>\n",
       "      <th>ACF&amp;PACF: n_random_points=100 nb_inst_per_class=50</th>\n",
       "      <td>49.222222</td>\n",
       "    </tr>\n",
       "  </tbody>\n",
       "</table>\n",
       "<p>216 rows × 1 columns</p>\n",
       "</div>"
      ],
      "text/plain": [
       "                                                             0\n",
       "Max ACF: n_random_points=1 nb_inst_per_class=1      214.888889\n",
       "ACF: n_random_points=1 nb_inst_per_class=1          213.444444\n",
       "Max ACF: n_random_points=10 nb_inst_per_class=1     207.166667\n",
       "ACF: n_random_points=10 nb_inst_per_class=1         205.000000\n",
       "Max PACF: n_random_points=1 nb_inst_per_class=1     204.500000\n",
       "...                                                        ...\n",
       "ACF&PACF: n_random_points= (lenthg ts)//2 nb_in...   55.500000\n",
       "None: n_random_points=10 nb_inst_per_class=100       54.500000\n",
       "ACF&PACF: n_random_points=100 nb_inst_per_class...   53.500000\n",
       "ACF&PACF: n_random_points= (lenthg ts)//2 nb_in...   51.388889\n",
       "ACF&PACF: n_random_points=100 nb_inst_per_class=50   49.222222\n",
       "\n",
       "[216 rows x 1 columns]"
      ]
     },
     "execution_count": 16,
     "metadata": {},
     "output_type": "execute_result"
    }
   ],
   "source": [
    "_, average_ranks, _ = wilcoxon_holm(df_perf=df_perf)\n",
    "min_rank= min(average_ranks)\n",
    "average_ranks=pd.DataFrame(average_ranks)\n",
    "average_ranks"
   ]
  },
  {
   "cell_type": "code",
   "execution_count": 17,
   "metadata": {},
   "outputs": [],
   "source": [
    "#generate example cd diagrams\n",
    "#draw_cd_diagram(pd.read_csv('example_cd_diagram.csv'), labels=True, title=\"Example CD Diagram\", name_file='cd-diagram_example.png')"
   ]
  },
  {
   "attachments": {},
   "cell_type": "markdown",
   "metadata": {},
   "source": [
    "#### Focus on most accurate lenght method"
   ]
  },
  {
   "attachments": {},
   "cell_type": "markdown",
   "metadata": {},
   "source": [
    "##### Overall Accuracy"
   ]
  },
  {
   "cell_type": "code",
   "execution_count": 18,
   "metadata": {},
   "outputs": [
    {
     "data": {
      "text/plain": [
       "Index(['ACF&PACF: n_random_points=100 nb_inst_per_class=50'], dtype='object')"
      ]
     },
     "execution_count": 18,
     "metadata": {},
     "output_type": "execute_result"
    }
   ],
   "source": [
    "# highest accurate hyperparameters\n",
    "average_ranks[average_ranks[0]==min_rank][0].index"
   ]
  },
  {
   "cell_type": "code",
   "execution_count": 19,
   "metadata": {},
   "outputs": [
    {
     "data": {
      "text/html": [
       "<div>\n",
       "<style scoped>\n",
       "    .dataframe tbody tr th:only-of-type {\n",
       "        vertical-align: middle;\n",
       "    }\n",
       "\n",
       "    .dataframe tbody tr th {\n",
       "        vertical-align: top;\n",
       "    }\n",
       "\n",
       "    .dataframe thead th {\n",
       "        text-align: right;\n",
       "    }\n",
       "</style>\n",
       "<table border=\"1\" class=\"dataframe\">\n",
       "  <thead>\n",
       "    <tr style=\"text-align: right;\">\n",
       "      <th>nb_per_class</th>\n",
       "      <th>(max instances per class)//2</th>\n",
       "      <th>1</th>\n",
       "      <th>10</th>\n",
       "      <th>30</th>\n",
       "      <th>50</th>\n",
       "      <th>100</th>\n",
       "    </tr>\n",
       "    <tr>\n",
       "      <th>rpoint</th>\n",
       "      <th></th>\n",
       "      <th></th>\n",
       "      <th></th>\n",
       "      <th></th>\n",
       "      <th></th>\n",
       "      <th></th>\n",
       "    </tr>\n",
       "  </thead>\n",
       "  <tbody>\n",
       "    <tr>\n",
       "      <th>(lenthg ts)//2</th>\n",
       "      <td>0.903278</td>\n",
       "      <td>0.862845</td>\n",
       "      <td>0.892061</td>\n",
       "      <td>0.911307</td>\n",
       "      <td>0.913508</td>\n",
       "      <td>0.910002</td>\n",
       "    </tr>\n",
       "    <tr>\n",
       "      <th>1</th>\n",
       "      <td>0.890607</td>\n",
       "      <td>0.780525</td>\n",
       "      <td>0.867425</td>\n",
       "      <td>0.883828</td>\n",
       "      <td>0.872440</td>\n",
       "      <td>0.878069</td>\n",
       "    </tr>\n",
       "    <tr>\n",
       "      <th>10</th>\n",
       "      <td>0.899778</td>\n",
       "      <td>0.845827</td>\n",
       "      <td>0.882947</td>\n",
       "      <td>0.891565</td>\n",
       "      <td>0.892031</td>\n",
       "      <td>0.890808</td>\n",
       "    </tr>\n",
       "    <tr>\n",
       "      <th>30</th>\n",
       "      <td>0.909236</td>\n",
       "      <td>0.860804</td>\n",
       "      <td>0.880145</td>\n",
       "      <td>0.889029</td>\n",
       "      <td>0.893775</td>\n",
       "      <td>0.894572</td>\n",
       "    </tr>\n",
       "    <tr>\n",
       "      <th>50</th>\n",
       "      <td>0.904643</td>\n",
       "      <td>0.858797</td>\n",
       "      <td>0.883900</td>\n",
       "      <td>0.894106</td>\n",
       "      <td>0.892872</td>\n",
       "      <td>0.890225</td>\n",
       "    </tr>\n",
       "    <tr>\n",
       "      <th>100</th>\n",
       "      <td>0.910622</td>\n",
       "      <td>0.860812</td>\n",
       "      <td>0.878514</td>\n",
       "      <td>0.891604</td>\n",
       "      <td>0.897336</td>\n",
       "      <td>0.893455</td>\n",
       "    </tr>\n",
       "  </tbody>\n",
       "</table>\n",
       "</div>"
      ],
      "text/plain": [
       "nb_per_class    (max instances per class)//2         1        10        30  \\\n",
       "rpoint                                                                       \n",
       "(lenthg ts)//2                      0.903278  0.862845  0.892061  0.911307   \n",
       "1                                   0.890607  0.780525  0.867425  0.883828   \n",
       "10                                  0.899778  0.845827  0.882947  0.891565   \n",
       "30                                  0.909236  0.860804  0.880145  0.889029   \n",
       "50                                  0.904643  0.858797  0.883900  0.894106   \n",
       "100                                 0.910622  0.860812  0.878514  0.891604   \n",
       "\n",
       "nb_per_class          50       100  \n",
       "rpoint                              \n",
       "(lenthg ts)//2  0.913508  0.910002  \n",
       "1               0.872440  0.878069  \n",
       "10              0.892031  0.890808  \n",
       "30              0.893775  0.894572  \n",
       "50              0.892872  0.890225  \n",
       "100             0.897336  0.893455  "
      ]
     },
     "execution_count": 19,
     "metadata": {},
     "output_type": "execute_result"
    }
   ],
   "source": [
    "# filter by method with ACF&PACF\n",
    "# create a pivot table with the mean of score by hyperparameter\n",
    "df_result_acc=df_result[df_result[\"len_method\"]==\"ACF&PACF\"]\n",
    "pivot = pd.pivot_table(df_result_acc, values='accuracy', index=['rpoint'],columns=['nb_per_class'], aggfunc='mean')\n",
    "pivot = pivot.reindex(columns=[\"(max instances per class)//2\",\"1\",\"10\",\"30\",\"50\",\"100\"], index=[\"(lenthg ts)//2\",\"1\",\"10\",\"30\",\"50\",\"100\"])\n",
    "pivot"
   ]
  },
  {
   "cell_type": "code",
   "execution_count": 20,
   "metadata": {},
   "outputs": [
    {
     "data": {
      "text/html": [
       "<div>\n",
       "<style scoped>\n",
       "    .dataframe tbody tr th:only-of-type {\n",
       "        vertical-align: middle;\n",
       "    }\n",
       "\n",
       "    .dataframe tbody tr th {\n",
       "        vertical-align: top;\n",
       "    }\n",
       "\n",
       "    .dataframe thead th {\n",
       "        text-align: right;\n",
       "    }\n",
       "</style>\n",
       "<table border=\"1\" class=\"dataframe\">\n",
       "  <thead>\n",
       "    <tr style=\"text-align: right;\">\n",
       "      <th>nb_per_class</th>\n",
       "      <th>(max instances per class)//2</th>\n",
       "      <th>1</th>\n",
       "      <th>10</th>\n",
       "      <th>100</th>\n",
       "      <th>30</th>\n",
       "      <th>50</th>\n",
       "    </tr>\n",
       "    <tr>\n",
       "      <th>rpoint</th>\n",
       "      <th></th>\n",
       "      <th></th>\n",
       "      <th></th>\n",
       "      <th></th>\n",
       "      <th></th>\n",
       "      <th></th>\n",
       "    </tr>\n",
       "  </thead>\n",
       "  <tbody>\n",
       "    <tr>\n",
       "      <th>(lenthg ts)//2</th>\n",
       "      <td>0.008823</td>\n",
       "      <td>0.007882</td>\n",
       "      <td>0.009996</td>\n",
       "      <td>0.009603</td>\n",
       "      <td>0.009711</td>\n",
       "      <td>0.009809</td>\n",
       "    </tr>\n",
       "    <tr>\n",
       "      <th>1</th>\n",
       "      <td>0.006761</td>\n",
       "      <td>0.016703</td>\n",
       "      <td>0.008075</td>\n",
       "      <td>0.009543</td>\n",
       "      <td>0.009266</td>\n",
       "      <td>0.010421</td>\n",
       "    </tr>\n",
       "    <tr>\n",
       "      <th>10</th>\n",
       "      <td>0.009507</td>\n",
       "      <td>0.007888</td>\n",
       "      <td>0.010715</td>\n",
       "      <td>0.012018</td>\n",
       "      <td>0.011682</td>\n",
       "      <td>0.011821</td>\n",
       "    </tr>\n",
       "    <tr>\n",
       "      <th>100</th>\n",
       "      <td>0.008307</td>\n",
       "      <td>0.009146</td>\n",
       "      <td>0.013198</td>\n",
       "      <td>0.011479</td>\n",
       "      <td>0.012070</td>\n",
       "      <td>0.011317</td>\n",
       "    </tr>\n",
       "    <tr>\n",
       "      <th>30</th>\n",
       "      <td>0.008067</td>\n",
       "      <td>0.010218</td>\n",
       "      <td>0.012187</td>\n",
       "      <td>0.011707</td>\n",
       "      <td>0.012209</td>\n",
       "      <td>0.011785</td>\n",
       "    </tr>\n",
       "    <tr>\n",
       "      <th>50</th>\n",
       "      <td>0.008662</td>\n",
       "      <td>0.008551</td>\n",
       "      <td>0.012015</td>\n",
       "      <td>0.013223</td>\n",
       "      <td>0.011196</td>\n",
       "      <td>0.012026</td>\n",
       "    </tr>\n",
       "  </tbody>\n",
       "</table>\n",
       "</div>"
      ],
      "text/plain": [
       "nb_per_class    (max instances per class)//2         1        10       100  \\\n",
       "rpoint                                                                       \n",
       "(lenthg ts)//2                      0.008823  0.007882  0.009996  0.009603   \n",
       "1                                   0.006761  0.016703  0.008075  0.009543   \n",
       "10                                  0.009507  0.007888  0.010715  0.012018   \n",
       "100                                 0.008307  0.009146  0.013198  0.011479   \n",
       "30                                  0.008067  0.010218  0.012187  0.011707   \n",
       "50                                  0.008662  0.008551  0.012015  0.013223   \n",
       "\n",
       "nb_per_class          30        50  \n",
       "rpoint                              \n",
       "(lenthg ts)//2  0.009711  0.009809  \n",
       "1               0.009266  0.010421  \n",
       "10              0.011682  0.011821  \n",
       "100             0.012070  0.011317  \n",
       "30              0.012209  0.011785  \n",
       "50              0.011196  0.012026  "
      ]
     },
     "execution_count": 20,
     "metadata": {},
     "output_type": "execute_result"
    }
   ],
   "source": [
    "# create a pivot table with the variatioon of score by hyperparameter\n",
    "pd.pivot_table(df_result_acc, values='accuracy', index=['rpoint'],columns=['nb_per_class'], aggfunc='var')"
   ]
  },
  {
   "attachments": {},
   "cell_type": "markdown",
   "metadata": {},
   "source": [
    "##### Overall time complexity"
   ]
  },
  {
   "cell_type": "code",
   "execution_count": 21,
   "metadata": {},
   "outputs": [
    {
     "data": {
      "text/html": [
       "<div>\n",
       "<style scoped>\n",
       "    .dataframe tbody tr th:only-of-type {\n",
       "        vertical-align: middle;\n",
       "    }\n",
       "\n",
       "    .dataframe tbody tr th {\n",
       "        vertical-align: top;\n",
       "    }\n",
       "\n",
       "    .dataframe thead th {\n",
       "        text-align: right;\n",
       "    }\n",
       "</style>\n",
       "<table border=\"1\" class=\"dataframe\">\n",
       "  <thead>\n",
       "    <tr style=\"text-align: right;\">\n",
       "      <th></th>\n",
       "      <th>cweights_time</th>\n",
       "      <th>fsubsequence_time</th>\n",
       "      <th>tdataset_time</th>\n",
       "      <th>tclassifier_time</th>\n",
       "      <th>time</th>\n",
       "    </tr>\n",
       "    <tr>\n",
       "      <th>dataset_name</th>\n",
       "      <th></th>\n",
       "      <th></th>\n",
       "      <th></th>\n",
       "      <th></th>\n",
       "      <th></th>\n",
       "    </tr>\n",
       "  </thead>\n",
       "  <tbody>\n",
       "    <tr>\n",
       "      <th>Chinatown</th>\n",
       "      <td>0.000148</td>\n",
       "      <td>0.001009</td>\n",
       "      <td>0.001189</td>\n",
       "      <td>0.000235</td>\n",
       "      <td>0.002611</td>\n",
       "    </tr>\n",
       "    <tr>\n",
       "      <th>Coffee</th>\n",
       "      <td>0.001126</td>\n",
       "      <td>0.082135</td>\n",
       "      <td>2.156343</td>\n",
       "      <td>0.000738</td>\n",
       "      <td>2.240458</td>\n",
       "    </tr>\n",
       "    <tr>\n",
       "      <th>DistalPhalanxOutlineAgeGroup</th>\n",
       "      <td>0.000529</td>\n",
       "      <td>0.020612</td>\n",
       "      <td>6.829225</td>\n",
       "      <td>0.015880</td>\n",
       "      <td>6.866520</td>\n",
       "    </tr>\n",
       "    <tr>\n",
       "      <th>DistalPhalanxOutlineCorrect</th>\n",
       "      <td>0.000491</td>\n",
       "      <td>0.015808</td>\n",
       "      <td>8.404571</td>\n",
       "      <td>0.010732</td>\n",
       "      <td>8.431886</td>\n",
       "    </tr>\n",
       "    <tr>\n",
       "      <th>GunPoint</th>\n",
       "      <td>0.000645</td>\n",
       "      <td>0.027494</td>\n",
       "      <td>1.169863</td>\n",
       "      <td>0.000965</td>\n",
       "      <td>1.199090</td>\n",
       "    </tr>\n",
       "    <tr>\n",
       "      <th>ItalyPowerDemand</th>\n",
       "      <td>0.000136</td>\n",
       "      <td>0.001336</td>\n",
       "      <td>0.009811</td>\n",
       "      <td>0.000842</td>\n",
       "      <td>0.012150</td>\n",
       "    </tr>\n",
       "    <tr>\n",
       "      <th>SmoothSubspace</th>\n",
       "      <td>0.000103</td>\n",
       "      <td>0.002251</td>\n",
       "      <td>0.010263</td>\n",
       "      <td>0.002864</td>\n",
       "      <td>0.015516</td>\n",
       "    </tr>\n",
       "    <tr>\n",
       "      <th>SonyAIBORobotSurface2</th>\n",
       "      <td>0.000321</td>\n",
       "      <td>0.002770</td>\n",
       "      <td>0.030471</td>\n",
       "      <td>0.000283</td>\n",
       "      <td>0.033882</td>\n",
       "    </tr>\n",
       "    <tr>\n",
       "      <th>SyntheticControl</th>\n",
       "      <td>0.000596</td>\n",
       "      <td>0.022403</td>\n",
       "      <td>3.277018</td>\n",
       "      <td>0.007352</td>\n",
       "      <td>3.307617</td>\n",
       "    </tr>\n",
       "  </tbody>\n",
       "</table>\n",
       "</div>"
      ],
      "text/plain": [
       "                              cweights_time  fsubsequence_time  tdataset_time  \\\n",
       "dataset_name                                                                    \n",
       "Chinatown                          0.000148           0.001009       0.001189   \n",
       "Coffee                             0.001126           0.082135       2.156343   \n",
       "DistalPhalanxOutlineAgeGroup       0.000529           0.020612       6.829225   \n",
       "DistalPhalanxOutlineCorrect        0.000491           0.015808       8.404571   \n",
       "GunPoint                           0.000645           0.027494       1.169863   \n",
       "ItalyPowerDemand                   0.000136           0.001336       0.009811   \n",
       "SmoothSubspace                     0.000103           0.002251       0.010263   \n",
       "SonyAIBORobotSurface2              0.000321           0.002770       0.030471   \n",
       "SyntheticControl                   0.000596           0.022403       3.277018   \n",
       "\n",
       "                              tclassifier_time      time  \n",
       "dataset_name                                              \n",
       "Chinatown                             0.000235  0.002611  \n",
       "Coffee                                0.000738  2.240458  \n",
       "DistalPhalanxOutlineAgeGroup          0.015880  6.866520  \n",
       "DistalPhalanxOutlineCorrect           0.010732  8.431886  \n",
       "GunPoint                              0.000965  1.199090  \n",
       "ItalyPowerDemand                      0.000842  0.012150  \n",
       "SmoothSubspace                        0.002864  0.015516  \n",
       "SonyAIBORobotSurface2                 0.000283  0.033882  \n",
       "SyntheticControl                      0.007352  3.307617  "
      ]
     },
     "execution_count": 21,
     "metadata": {},
     "output_type": "execute_result"
    }
   ],
   "source": [
    "# create a pivot table with the mean of time spent in minutes\n",
    "pivot=pd.pivot_table(df_result_acc, values=['time','cweights_time','fsubsequence_time','tdataset_time','tclassifier_time'], index=['dataset_name'], aggfunc='mean')/60\n",
    "pivot = pivot.reindex(columns=['cweights_time','fsubsequence_time','tdataset_time','tclassifier_time','time'])\n",
    "pivot"
   ]
  },
  {
   "cell_type": "code",
   "execution_count": 22,
   "metadata": {},
   "outputs": [
    {
     "data": {
      "text/html": [
       "<div>\n",
       "<style scoped>\n",
       "    .dataframe tbody tr th:only-of-type {\n",
       "        vertical-align: middle;\n",
       "    }\n",
       "\n",
       "    .dataframe tbody tr th {\n",
       "        vertical-align: top;\n",
       "    }\n",
       "\n",
       "    .dataframe thead th {\n",
       "        text-align: right;\n",
       "    }\n",
       "</style>\n",
       "<table border=\"1\" class=\"dataframe\">\n",
       "  <thead>\n",
       "    <tr style=\"text-align: right;\">\n",
       "      <th>nb_per_class</th>\n",
       "      <th>(max instances per class)//2</th>\n",
       "      <th>1</th>\n",
       "      <th>10</th>\n",
       "      <th>30</th>\n",
       "      <th>50</th>\n",
       "      <th>100</th>\n",
       "    </tr>\n",
       "    <tr>\n",
       "      <th>rpoint</th>\n",
       "      <th></th>\n",
       "      <th></th>\n",
       "      <th></th>\n",
       "      <th></th>\n",
       "      <th></th>\n",
       "      <th></th>\n",
       "    </tr>\n",
       "  </thead>\n",
       "  <tbody>\n",
       "    <tr>\n",
       "      <th>(lenthg ts)//2</th>\n",
       "      <td>3.967635</td>\n",
       "      <td>0.087849</td>\n",
       "      <td>0.857774</td>\n",
       "      <td>2.079303</td>\n",
       "      <td>2.785928</td>\n",
       "      <td>4.249620</td>\n",
       "    </tr>\n",
       "    <tr>\n",
       "      <th>1</th>\n",
       "      <td>0.136709</td>\n",
       "      <td>0.016466</td>\n",
       "      <td>0.059792</td>\n",
       "      <td>0.075305</td>\n",
       "      <td>0.101487</td>\n",
       "      <td>0.159058</td>\n",
       "    </tr>\n",
       "    <tr>\n",
       "      <th>10</th>\n",
       "      <td>0.967801</td>\n",
       "      <td>0.053073</td>\n",
       "      <td>0.202243</td>\n",
       "      <td>0.557632</td>\n",
       "      <td>0.830703</td>\n",
       "      <td>1.406532</td>\n",
       "    </tr>\n",
       "    <tr>\n",
       "      <th>30</th>\n",
       "      <td>2.847241</td>\n",
       "      <td>0.065659</td>\n",
       "      <td>0.596354</td>\n",
       "      <td>1.667156</td>\n",
       "      <td>2.483686</td>\n",
       "      <td>4.211959</td>\n",
       "    </tr>\n",
       "    <tr>\n",
       "      <th>50</th>\n",
       "      <td>4.549979</td>\n",
       "      <td>0.102932</td>\n",
       "      <td>0.936347</td>\n",
       "      <td>2.631405</td>\n",
       "      <td>3.928274</td>\n",
       "      <td>6.609370</td>\n",
       "    </tr>\n",
       "    <tr>\n",
       "      <th>100</th>\n",
       "      <td>5.634172</td>\n",
       "      <td>0.127002</td>\n",
       "      <td>1.282955</td>\n",
       "      <td>3.432775</td>\n",
       "      <td>5.027691</td>\n",
       "      <td>8.288030</td>\n",
       "    </tr>\n",
       "  </tbody>\n",
       "</table>\n",
       "</div>"
      ],
      "text/plain": [
       "nb_per_class    (max instances per class)//2         1        10        30  \\\n",
       "rpoint                                                                       \n",
       "(lenthg ts)//2                      3.967635  0.087849  0.857774  2.079303   \n",
       "1                                   0.136709  0.016466  0.059792  0.075305   \n",
       "10                                  0.967801  0.053073  0.202243  0.557632   \n",
       "30                                  2.847241  0.065659  0.596354  1.667156   \n",
       "50                                  4.549979  0.102932  0.936347  2.631405   \n",
       "100                                 5.634172  0.127002  1.282955  3.432775   \n",
       "\n",
       "nb_per_class          50       100  \n",
       "rpoint                              \n",
       "(lenthg ts)//2  2.785928  4.249620  \n",
       "1               0.101487  0.159058  \n",
       "10              0.830703  1.406532  \n",
       "30              2.483686  4.211959  \n",
       "50              3.928274  6.609370  \n",
       "100             5.027691  8.288030  "
      ]
     },
     "execution_count": 22,
     "metadata": {},
     "output_type": "execute_result"
    }
   ],
   "source": [
    "# create a pivot table with the mean of time spent in minutes by random points and instances per class\n",
    "pivot = pd.pivot_table(df_result_acc, values='time', index=['rpoint'],columns=['nb_per_class'], aggfunc='mean')/60\n",
    "pivot = pivot.reindex(columns=[\"(max instances per class)//2\",\"1\",\"10\",\"30\",\"50\",\"100\"], index=[\"(lenthg ts)//2\",\"1\",\"10\",\"30\",\"50\",\"100\"])\n",
    "pivot"
   ]
  },
  {
   "attachments": {},
   "cell_type": "markdown",
   "metadata": {},
   "source": [
    "##### Calculate weights time complexity"
   ]
  },
  {
   "cell_type": "code",
   "execution_count": 23,
   "metadata": {},
   "outputs": [
    {
     "data": {
      "text/html": [
       "<div>\n",
       "<style scoped>\n",
       "    .dataframe tbody tr th:only-of-type {\n",
       "        vertical-align: middle;\n",
       "    }\n",
       "\n",
       "    .dataframe tbody tr th {\n",
       "        vertical-align: top;\n",
       "    }\n",
       "\n",
       "    .dataframe thead th {\n",
       "        text-align: right;\n",
       "    }\n",
       "</style>\n",
       "<table border=\"1\" class=\"dataframe\">\n",
       "  <thead>\n",
       "    <tr style=\"text-align: right;\">\n",
       "      <th>nb_per_class</th>\n",
       "      <th>(max instances per class)//2</th>\n",
       "      <th>1</th>\n",
       "      <th>10</th>\n",
       "      <th>100</th>\n",
       "      <th>30</th>\n",
       "      <th>50</th>\n",
       "    </tr>\n",
       "    <tr>\n",
       "      <th>rpoint</th>\n",
       "      <th></th>\n",
       "      <th></th>\n",
       "      <th></th>\n",
       "      <th></th>\n",
       "      <th></th>\n",
       "      <th></th>\n",
       "    </tr>\n",
       "  </thead>\n",
       "  <tbody>\n",
       "    <tr>\n",
       "      <th>(lenthg ts)//2</th>\n",
       "      <td>0.022648</td>\n",
       "      <td>0.025738</td>\n",
       "      <td>0.027714</td>\n",
       "      <td>0.020942</td>\n",
       "      <td>0.026246</td>\n",
       "      <td>0.023184</td>\n",
       "    </tr>\n",
       "    <tr>\n",
       "      <th>1</th>\n",
       "      <td>0.029875</td>\n",
       "      <td>0.022034</td>\n",
       "      <td>0.022386</td>\n",
       "      <td>0.023180</td>\n",
       "      <td>0.024261</td>\n",
       "      <td>0.023495</td>\n",
       "    </tr>\n",
       "    <tr>\n",
       "      <th>10</th>\n",
       "      <td>0.022351</td>\n",
       "      <td>0.022504</td>\n",
       "      <td>0.021176</td>\n",
       "      <td>0.020796</td>\n",
       "      <td>0.018380</td>\n",
       "      <td>0.023092</td>\n",
       "    </tr>\n",
       "    <tr>\n",
       "      <th>100</th>\n",
       "      <td>0.021229</td>\n",
       "      <td>0.022295</td>\n",
       "      <td>0.019622</td>\n",
       "      <td>0.023922</td>\n",
       "      <td>0.021289</td>\n",
       "      <td>0.024802</td>\n",
       "    </tr>\n",
       "    <tr>\n",
       "      <th>30</th>\n",
       "      <td>0.024764</td>\n",
       "      <td>0.025776</td>\n",
       "      <td>0.022052</td>\n",
       "      <td>0.023253</td>\n",
       "      <td>0.021224</td>\n",
       "      <td>0.023302</td>\n",
       "    </tr>\n",
       "    <tr>\n",
       "      <th>50</th>\n",
       "      <td>0.026148</td>\n",
       "      <td>0.019950</td>\n",
       "      <td>0.020483</td>\n",
       "      <td>0.023775</td>\n",
       "      <td>0.017310</td>\n",
       "      <td>0.023802</td>\n",
       "    </tr>\n",
       "  </tbody>\n",
       "</table>\n",
       "</div>"
      ],
      "text/plain": [
       "nb_per_class    (max instances per class)//2         1        10       100  \\\n",
       "rpoint                                                                       \n",
       "(lenthg ts)//2                      0.022648  0.025738  0.027714  0.020942   \n",
       "1                                   0.029875  0.022034  0.022386  0.023180   \n",
       "10                                  0.022351  0.022504  0.021176  0.020796   \n",
       "100                                 0.021229  0.022295  0.019622  0.023922   \n",
       "30                                  0.024764  0.025776  0.022052  0.023253   \n",
       "50                                  0.026148  0.019950  0.020483  0.023775   \n",
       "\n",
       "nb_per_class          30        50  \n",
       "rpoint                              \n",
       "(lenthg ts)//2  0.026246  0.023184  \n",
       "1               0.024261  0.023495  \n",
       "10              0.018380  0.023092  \n",
       "100             0.021289  0.024802  \n",
       "30              0.021224  0.023302  \n",
       "50              0.017310  0.023802  "
      ]
     },
     "execution_count": 23,
     "metadata": {},
     "output_type": "execute_result"
    }
   ],
   "source": [
    "pd.pivot_table(df_result_acc, values='cweights_time', index=['rpoint'],columns=['nb_per_class'], aggfunc='mean')"
   ]
  },
  {
   "attachments": {},
   "cell_type": "markdown",
   "metadata": {},
   "source": [
    "##### Finding subsequences time complexity"
   ]
  },
  {
   "cell_type": "code",
   "execution_count": 24,
   "metadata": {},
   "outputs": [
    {
     "data": {
      "text/html": [
       "<div>\n",
       "<style scoped>\n",
       "    .dataframe tbody tr th:only-of-type {\n",
       "        vertical-align: middle;\n",
       "    }\n",
       "\n",
       "    .dataframe tbody tr th {\n",
       "        vertical-align: top;\n",
       "    }\n",
       "\n",
       "    .dataframe thead th {\n",
       "        text-align: right;\n",
       "    }\n",
       "</style>\n",
       "<table border=\"1\" class=\"dataframe\">\n",
       "  <thead>\n",
       "    <tr style=\"text-align: right;\">\n",
       "      <th>nb_per_class</th>\n",
       "      <th>(max instances per class)//2</th>\n",
       "      <th>1</th>\n",
       "      <th>10</th>\n",
       "      <th>100</th>\n",
       "      <th>30</th>\n",
       "      <th>50</th>\n",
       "    </tr>\n",
       "    <tr>\n",
       "      <th>rpoint</th>\n",
       "      <th></th>\n",
       "      <th></th>\n",
       "      <th></th>\n",
       "      <th></th>\n",
       "      <th></th>\n",
       "      <th></th>\n",
       "    </tr>\n",
       "  </thead>\n",
       "  <tbody>\n",
       "    <tr>\n",
       "      <th>(lenthg ts)//2</th>\n",
       "      <td>1.048488</td>\n",
       "      <td>0.088898</td>\n",
       "      <td>0.710858</td>\n",
       "      <td>1.471322</td>\n",
       "      <td>1.267152</td>\n",
       "      <td>1.433057</td>\n",
       "    </tr>\n",
       "    <tr>\n",
       "      <th>1</th>\n",
       "      <td>1.561904</td>\n",
       "      <td>0.143997</td>\n",
       "      <td>0.456703</td>\n",
       "      <td>1.035440</td>\n",
       "      <td>0.785233</td>\n",
       "      <td>0.892262</td>\n",
       "    </tr>\n",
       "    <tr>\n",
       "      <th>10</th>\n",
       "      <td>0.937482</td>\n",
       "      <td>0.040728</td>\n",
       "      <td>0.367889</td>\n",
       "      <td>1.079674</td>\n",
       "      <td>0.667620</td>\n",
       "      <td>0.832107</td>\n",
       "    </tr>\n",
       "    <tr>\n",
       "      <th>100</th>\n",
       "      <td>0.987144</td>\n",
       "      <td>0.048964</td>\n",
       "      <td>0.436373</td>\n",
       "      <td>1.402857</td>\n",
       "      <td>0.923808</td>\n",
       "      <td>1.219290</td>\n",
       "    </tr>\n",
       "    <tr>\n",
       "      <th>30</th>\n",
       "      <td>0.921290</td>\n",
       "      <td>0.047483</td>\n",
       "      <td>0.431415</td>\n",
       "      <td>1.250624</td>\n",
       "      <td>0.801752</td>\n",
       "      <td>1.023453</td>\n",
       "    </tr>\n",
       "    <tr>\n",
       "      <th>50</th>\n",
       "      <td>1.062443</td>\n",
       "      <td>0.041908</td>\n",
       "      <td>0.446750</td>\n",
       "      <td>1.365893</td>\n",
       "      <td>0.859830</td>\n",
       "      <td>1.062731</td>\n",
       "    </tr>\n",
       "  </tbody>\n",
       "</table>\n",
       "</div>"
      ],
      "text/plain": [
       "nb_per_class    (max instances per class)//2         1        10       100  \\\n",
       "rpoint                                                                       \n",
       "(lenthg ts)//2                      1.048488  0.088898  0.710858  1.471322   \n",
       "1                                   1.561904  0.143997  0.456703  1.035440   \n",
       "10                                  0.937482  0.040728  0.367889  1.079674   \n",
       "100                                 0.987144  0.048964  0.436373  1.402857   \n",
       "30                                  0.921290  0.047483  0.431415  1.250624   \n",
       "50                                  1.062443  0.041908  0.446750  1.365893   \n",
       "\n",
       "nb_per_class          30        50  \n",
       "rpoint                              \n",
       "(lenthg ts)//2  1.267152  1.433057  \n",
       "1               0.785233  0.892262  \n",
       "10              0.667620  0.832107  \n",
       "100             0.923808  1.219290  \n",
       "30              0.801752  1.023453  \n",
       "50              0.859830  1.062731  "
      ]
     },
     "execution_count": 24,
     "metadata": {},
     "output_type": "execute_result"
    }
   ],
   "source": [
    "pd.pivot_table(df_result_acc, values='fsubsequence_time', index=['rpoint'],columns=['nb_per_class'], aggfunc='mean')"
   ]
  },
  {
   "attachments": {},
   "cell_type": "markdown",
   "metadata": {},
   "source": [
    "##### Transform Dataset time complexity"
   ]
  },
  {
   "cell_type": "code",
   "execution_count": 25,
   "metadata": {},
   "outputs": [
    {
     "data": {
      "text/html": [
       "<div>\n",
       "<style scoped>\n",
       "    .dataframe tbody tr th:only-of-type {\n",
       "        vertical-align: middle;\n",
       "    }\n",
       "\n",
       "    .dataframe tbody tr th {\n",
       "        vertical-align: top;\n",
       "    }\n",
       "\n",
       "    .dataframe thead th {\n",
       "        text-align: right;\n",
       "    }\n",
       "</style>\n",
       "<table border=\"1\" class=\"dataframe\">\n",
       "  <thead>\n",
       "    <tr style=\"text-align: right;\">\n",
       "      <th>nb_per_class</th>\n",
       "      <th>(max instances per class)//2</th>\n",
       "      <th>1</th>\n",
       "      <th>10</th>\n",
       "      <th>100</th>\n",
       "      <th>30</th>\n",
       "      <th>50</th>\n",
       "    </tr>\n",
       "    <tr>\n",
       "      <th>rpoint</th>\n",
       "      <th></th>\n",
       "      <th></th>\n",
       "      <th></th>\n",
       "      <th></th>\n",
       "      <th></th>\n",
       "      <th></th>\n",
       "    </tr>\n",
       "  </thead>\n",
       "  <tbody>\n",
       "    <tr>\n",
       "      <th>(lenthg ts)//2</th>\n",
       "      <td>236.753083</td>\n",
       "      <td>4.981848</td>\n",
       "      <td>50.654668</td>\n",
       "      <td>253.228274</td>\n",
       "      <td>123.302976</td>\n",
       "      <td>165.476751</td>\n",
       "    </tr>\n",
       "    <tr>\n",
       "      <th>1</th>\n",
       "      <td>6.360697</td>\n",
       "      <td>0.360298</td>\n",
       "      <td>1.444127</td>\n",
       "      <td>8.440775</td>\n",
       "      <td>3.540797</td>\n",
       "      <td>5.127611</td>\n",
       "    </tr>\n",
       "    <tr>\n",
       "      <th>10</th>\n",
       "      <td>57.021101</td>\n",
       "      <td>1.383745</td>\n",
       "      <td>11.697447</td>\n",
       "      <td>83.180543</td>\n",
       "      <td>32.706855</td>\n",
       "      <td>48.903206</td>\n",
       "    </tr>\n",
       "    <tr>\n",
       "      <th>100</th>\n",
       "      <td>336.754064</td>\n",
       "      <td>7.422130</td>\n",
       "      <td>76.427129</td>\n",
       "      <td>495.448703</td>\n",
       "      <td>204.808242</td>\n",
       "      <td>300.116780</td>\n",
       "    </tr>\n",
       "    <tr>\n",
       "      <th>30</th>\n",
       "      <td>169.695379</td>\n",
       "      <td>3.665377</td>\n",
       "      <td>35.257446</td>\n",
       "      <td>251.183977</td>\n",
       "      <td>99.082785</td>\n",
       "      <td>147.804205</td>\n",
       "    </tr>\n",
       "    <tr>\n",
       "      <th>50</th>\n",
       "      <td>271.641805</td>\n",
       "      <td>5.975791</td>\n",
       "      <td>55.629795</td>\n",
       "      <td>394.823717</td>\n",
       "      <td>156.841683</td>\n",
       "      <td>234.384575</td>\n",
       "    </tr>\n",
       "  </tbody>\n",
       "</table>\n",
       "</div>"
      ],
      "text/plain": [
       "nb_per_class    (max instances per class)//2         1         10         100  \\\n",
       "rpoint                                                                          \n",
       "(lenthg ts)//2                    236.753083  4.981848  50.654668  253.228274   \n",
       "1                                   6.360697  0.360298   1.444127    8.440775   \n",
       "10                                 57.021101  1.383745  11.697447   83.180543   \n",
       "100                               336.754064  7.422130  76.427129  495.448703   \n",
       "30                                169.695379  3.665377  35.257446  251.183977   \n",
       "50                                271.641805  5.975791  55.629795  394.823717   \n",
       "\n",
       "nb_per_class            30          50  \n",
       "rpoint                                  \n",
       "(lenthg ts)//2  123.302976  165.476751  \n",
       "1                 3.540797    5.127611  \n",
       "10               32.706855   48.903206  \n",
       "100             204.808242  300.116780  \n",
       "30               99.082785  147.804205  \n",
       "50              156.841683  234.384575  "
      ]
     },
     "execution_count": 25,
     "metadata": {},
     "output_type": "execute_result"
    }
   ],
   "source": [
    "pd.pivot_table(df_result_acc, values='tdataset_time', index=['rpoint'],columns=['nb_per_class'], aggfunc='mean')"
   ]
  },
  {
   "attachments": {},
   "cell_type": "markdown",
   "metadata": {},
   "source": [
    "##### Classifier time complexity"
   ]
  },
  {
   "cell_type": "code",
   "execution_count": 26,
   "metadata": {},
   "outputs": [
    {
     "data": {
      "text/html": [
       "<div>\n",
       "<style scoped>\n",
       "    .dataframe tbody tr th:only-of-type {\n",
       "        vertical-align: middle;\n",
       "    }\n",
       "\n",
       "    .dataframe tbody tr th {\n",
       "        vertical-align: top;\n",
       "    }\n",
       "\n",
       "    .dataframe thead th {\n",
       "        text-align: right;\n",
       "    }\n",
       "</style>\n",
       "<table border=\"1\" class=\"dataframe\">\n",
       "  <thead>\n",
       "    <tr style=\"text-align: right;\">\n",
       "      <th>nb_per_class</th>\n",
       "      <th>(max instances per class)//2</th>\n",
       "      <th>1</th>\n",
       "      <th>10</th>\n",
       "      <th>100</th>\n",
       "      <th>30</th>\n",
       "      <th>50</th>\n",
       "    </tr>\n",
       "    <tr>\n",
       "      <th>rpoint</th>\n",
       "      <th></th>\n",
       "      <th></th>\n",
       "      <th></th>\n",
       "      <th></th>\n",
       "      <th></th>\n",
       "      <th></th>\n",
       "    </tr>\n",
       "  </thead>\n",
       "  <tbody>\n",
       "    <tr>\n",
       "      <th>(lenthg ts)//2</th>\n",
       "      <td>0.219153</td>\n",
       "      <td>0.173013</td>\n",
       "      <td>0.068219</td>\n",
       "      <td>0.239921</td>\n",
       "      <td>0.151372</td>\n",
       "      <td>0.206802</td>\n",
       "    </tr>\n",
       "    <tr>\n",
       "      <th>1</th>\n",
       "      <td>0.244793</td>\n",
       "      <td>0.460037</td>\n",
       "      <td>1.661260</td>\n",
       "      <td>0.042483</td>\n",
       "      <td>0.165435</td>\n",
       "      <td>0.044047</td>\n",
       "    </tr>\n",
       "    <tr>\n",
       "      <th>10</th>\n",
       "      <td>0.083711</td>\n",
       "      <td>1.735639</td>\n",
       "      <td>0.045850</td>\n",
       "      <td>0.107382</td>\n",
       "      <td>0.062866</td>\n",
       "      <td>0.081411</td>\n",
       "    </tr>\n",
       "    <tr>\n",
       "      <th>100</th>\n",
       "      <td>0.276140</td>\n",
       "      <td>0.124746</td>\n",
       "      <td>0.091333</td>\n",
       "      <td>0.391278</td>\n",
       "      <td>0.205032</td>\n",
       "      <td>0.289695</td>\n",
       "    </tr>\n",
       "    <tr>\n",
       "      <th>30</th>\n",
       "      <td>0.185353</td>\n",
       "      <td>0.198990</td>\n",
       "      <td>0.066816</td>\n",
       "      <td>0.251335</td>\n",
       "      <td>0.118868</td>\n",
       "      <td>0.164110</td>\n",
       "    </tr>\n",
       "    <tr>\n",
       "      <th>50</th>\n",
       "      <td>0.256786</td>\n",
       "      <td>0.135885</td>\n",
       "      <td>0.080715</td>\n",
       "      <td>0.336213</td>\n",
       "      <td>0.158857</td>\n",
       "      <td>0.216699</td>\n",
       "    </tr>\n",
       "  </tbody>\n",
       "</table>\n",
       "</div>"
      ],
      "text/plain": [
       "nb_per_class    (max instances per class)//2         1        10       100  \\\n",
       "rpoint                                                                       \n",
       "(lenthg ts)//2                      0.219153  0.173013  0.068219  0.239921   \n",
       "1                                   0.244793  0.460037  1.661260  0.042483   \n",
       "10                                  0.083711  1.735639  0.045850  0.107382   \n",
       "100                                 0.276140  0.124746  0.091333  0.391278   \n",
       "30                                  0.185353  0.198990  0.066816  0.251335   \n",
       "50                                  0.256786  0.135885  0.080715  0.336213   \n",
       "\n",
       "nb_per_class          30        50  \n",
       "rpoint                              \n",
       "(lenthg ts)//2  0.151372  0.206802  \n",
       "1               0.165435  0.044047  \n",
       "10              0.062866  0.081411  \n",
       "100             0.205032  0.289695  \n",
       "30              0.118868  0.164110  \n",
       "50              0.158857  0.216699  "
      ]
     },
     "execution_count": 26,
     "metadata": {},
     "output_type": "execute_result"
    }
   ],
   "source": [
    "pd.pivot_table(df_result_acc, values='tclassifier_time', index=['rpoint'],columns=['nb_per_class'], aggfunc='mean')"
   ]
  }
 ],
 "metadata": {
  "kernelspec": {
   "display_name": "rsast_env",
   "language": "python",
   "name": "python3"
  },
  "language_info": {
   "codemirror_mode": {
    "name": "ipython",
    "version": 3
   },
   "file_extension": ".py",
   "mimetype": "text/x-python",
   "name": "python",
   "nbconvert_exporter": "python",
   "pygments_lexer": "ipython3",
   "version": "3.9.13"
  },
  "vscode": {
   "interpreter": {
    "hash": "15558ed87e778df9776c3e85b8e1a3f1f5adbf230fcca0229423f99909b60d27"
   }
  }
 },
 "nbformat": 4,
 "nbformat_minor": 2
}
