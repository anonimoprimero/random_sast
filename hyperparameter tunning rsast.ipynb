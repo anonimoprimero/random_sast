{
 "cells": [
  {
   "attachments": {},
   "cell_type": "markdown",
   "metadata": {},
   "source": [
    "## Sensitive analysis:\n"
   ]
  },
  {
   "cell_type": "code",
   "execution_count": 1,
   "metadata": {},
   "outputs": [
    {
     "name": "stderr",
     "output_type": "stream",
     "text": [
      "/home/nirojasvar/anaconda3/envs/rsast_env/lib/python3.10/site-packages/mass_ts/_mass_ts.py:17: UserWarning: GPU support will not work. You must pip install mass-ts[gpu].\n",
      "  warnings.warn(\n"
     ]
    }
   ],
   "source": [
    "from sast.sast import *\n",
    "from sktime.datasets import load_UCR_UEA_dataset, tsc_dataset_names\n",
    "from sktime.classification.kernel_based import RocketClassifier\n",
    "import time\n",
    "import pandas as pd\n"
   ]
  },
  {
   "attachments": {},
   "cell_type": "markdown",
   "metadata": {},
   "source": [
    "### Select Datasets for hypertunning RSAST"
   ]
  },
  {
   "attachments": {},
   "cell_type": "markdown",
   "metadata": {},
   "source": [
    "It is runned RSAST in a set of UCR datasets with a predefined number of runs (\"runs\"). Then, it is selected a range (\"range_total\") between 1, 10, 100 and 10000 for the selected dataset."
   ]
  },
  {
   "cell_type": "code",
   "execution_count": 15,
   "metadata": {},
   "outputs": [
    {
     "name": "stdout",
     "output_type": "stream",
     "text": [
      "['Chinatown', 'BirdChicken', 'Coffee']\n"
     ]
    }
   ],
   "source": [
    "ds_sens = tsc_dataset_names.univariate_equal_length\n",
    "#ds_sens = ['ACSF1', 'Adiac', 'ArrowHead', 'Beef', 'BeetleFly', 'BirdChicken', 'BME', 'Car', 'CBF', 'Chinatown', 'ChlorineConcentration', 'CinCECGTorso', 'Coffee']\n",
    "ds_sens = ['Chinatown','BirdChicken','Coffee' ]\n",
    "max_ds=len(ds_sens) #exploring dataset in UEA & UCR Time Series Classification Repository\n",
    "#print(ds_sens)\n",
    "print(ds_sens)\n"
   ]
  },
  {
   "cell_type": "code",
   "execution_count": 25,
   "metadata": {},
   "outputs": [
    {
     "name": "stdout",
     "output_type": "stream",
     "text": [
      "ds=Chinatown\n",
      "n_random_points=1 nb_inst_per_class=1\n",
      "n_random_points=1 nb_inst_per_class=10\n",
      "n_random_points=1 nb_inst_per_class=100\n",
      "n_random_points=1 nb_inst_per_class=1000\n",
      "n_random_points=10 nb_inst_per_class=1\n",
      "n_random_points=10 nb_inst_per_class=10\n",
      "n_random_points=10 nb_inst_per_class=100\n",
      "n_random_points=10 nb_inst_per_class=1000\n",
      "n_random_points=100 nb_inst_per_class=1\n",
      "n_random_points=100 nb_inst_per_class=10\n",
      "n_random_points=100 nb_inst_per_class=100\n",
      "n_random_points=100 nb_inst_per_class=1000\n",
      "n_random_points=1000 nb_inst_per_class=1\n",
      "n_random_points=1000 nb_inst_per_class=10\n",
      "n_random_points=1000 nb_inst_per_class=100\n",
      "n_random_points=1000 nb_inst_per_class=1000\n",
      "ds=BirdChicken\n",
      "n_random_points=1 nb_inst_per_class=1\n",
      "n_random_points=1 nb_inst_per_class=10\n",
      "n_random_points=1 nb_inst_per_class=100\n",
      "n_random_points=1 nb_inst_per_class=1000\n",
      "n_random_points=10 nb_inst_per_class=1\n",
      "n_random_points=10 nb_inst_per_class=10\n",
      "n_random_points=10 nb_inst_per_class=100\n",
      "n_random_points=10 nb_inst_per_class=1000\n",
      "n_random_points=100 nb_inst_per_class=1\n",
      "n_random_points=100 nb_inst_per_class=10\n",
      "n_random_points=100 nb_inst_per_class=100\n",
      "n_random_points=100 nb_inst_per_class=1000\n",
      "n_random_points=1000 nb_inst_per_class=1\n",
      "n_random_points=1000 nb_inst_per_class=10\n",
      "n_random_points=1000 nb_inst_per_class=100\n",
      "n_random_points=1000 nb_inst_per_class=1000\n",
      "ds=Coffee\n",
      "n_random_points=1 nb_inst_per_class=1\n",
      "n_random_points=1 nb_inst_per_class=10\n",
      "n_random_points=1 nb_inst_per_class=100\n",
      "n_random_points=1 nb_inst_per_class=1000\n",
      "n_random_points=10 nb_inst_per_class=1\n",
      "n_random_points=10 nb_inst_per_class=10\n",
      "n_random_points=10 nb_inst_per_class=100\n",
      "n_random_points=10 nb_inst_per_class=1000\n",
      "n_random_points=100 nb_inst_per_class=1\n",
      "n_random_points=100 nb_inst_per_class=10\n",
      "n_random_points=100 nb_inst_per_class=100\n",
      "n_random_points=100 nb_inst_per_class=1000\n",
      "n_random_points=1000 nb_inst_per_class=1\n",
      "n_random_points=1000 nb_inst_per_class=10\n",
      "n_random_points=1000 nb_inst_per_class=100\n",
      "n_random_points=1000 nb_inst_per_class=1000\n"
     ]
    }
   ],
   "source": [
    "#ds='Chinatown' # Chosing a dataset from # Number of classes to consider\n",
    "runs = 1\n",
    "range_total = [1,10,100,1000]\n",
    "#list\n",
    "df_result = {}\n",
    "list_score = []\n",
    "list_time = []\n",
    "list_dataset = []\n",
    "list_hyperparameter = []\n",
    "list_method = []\n",
    "list_rpoint = []\n",
    "list_nb_per_class = []\n",
    "\n",
    "for ds in ds_sens:\n",
    "    print(\"ds=\"+ds)\n",
    "    X_train, y_train = load_UCR_UEA_dataset(name=ds, extract_path='data', split=\"train\", return_type=\"numpy2d\")\n",
    "    X_test, y_test = load_UCR_UEA_dataset(name=ds, extract_path='data', split=\"test\", return_type=\"numpy2d\")\n",
    "    for i in range(runs):\n",
    "        \"\"\"\n",
    "        start = time.time()\n",
    "        rocket= RocketClassifier(num_kernels=10_000)\n",
    "        rocket.fit(X_train,y_train)\n",
    "        end = time.time()\n",
    "        list_score.append(rocket.score(X_test,y_test))\n",
    "        list_time.append(end-start)\n",
    "        list_dataset.append(ds)\n",
    "        list_hyperparameter.append(\"num_kernels=10_000\")\n",
    "        list_rpoint.append(str(0))\n",
    "        list_nb_per_class.append(str(0))\n",
    "        list_method.append(\"Rocket\")\n",
    "        \"\"\"\n",
    "        for p in range_total:\n",
    "            for g in range_total:\n",
    "                if p ==0:\n",
    "                    p=1\n",
    "                if g ==0:\n",
    "                    g=1\n",
    "                start = time.time()\n",
    "                random_state = None\n",
    "                rsast_ridge = RSAST(n_random_points=p,nb_inst_per_class=g, classifier=RidgeClassifierCV())\n",
    "                rsast_ridge.fit(X_train, y_train)\n",
    "                end = time.time()\n",
    "                list_score.append(rsast_ridge.score(X_test,y_test))\n",
    "                list_time.append(end-start)\n",
    "                list_dataset.append(ds)\n",
    "                list_hyperparameter.append(\"n_random_points=\"+str(p)+\" nb_inst_per_class=\"+str(g))\n",
    "                list_rpoint.append(str(p))\n",
    "                list_nb_per_class.append(str(g))\n",
    "                list_method.append(\"Rsast\")\n",
    "                print(\"n_random_points=\"+str(p)+\" nb_inst_per_class=\"+str(g))\n",
    "\n",
    "df_result['accuracy']=list_score\n",
    "df_result['time']=list_time\n",
    "df_result['dataset_name']=list_dataset\n",
    "df_result['classifier_name']=list_hyperparameter\n",
    "df_result['rpoint']=list_rpoint\n",
    "df_result['nb_per_class']=list_nb_per_class\n",
    "df_result['method']=list_method"
   ]
  },
  {
   "cell_type": "code",
   "execution_count": 32,
   "metadata": {},
   "outputs": [
    {
     "data": {
      "text/html": [
       "<div>\n",
       "<style scoped>\n",
       "    .dataframe tbody tr th:only-of-type {\n",
       "        vertical-align: middle;\n",
       "    }\n",
       "\n",
       "    .dataframe tbody tr th {\n",
       "        vertical-align: top;\n",
       "    }\n",
       "\n",
       "    .dataframe thead th {\n",
       "        text-align: right;\n",
       "    }\n",
       "</style>\n",
       "<table border=\"1\" class=\"dataframe\">\n",
       "  <thead>\n",
       "    <tr style=\"text-align: right;\">\n",
       "      <th>nb_per_class</th>\n",
       "      <th>1</th>\n",
       "      <th>10</th>\n",
       "      <th>100</th>\n",
       "      <th>1000</th>\n",
       "    </tr>\n",
       "    <tr>\n",
       "      <th>rpoint</th>\n",
       "      <th></th>\n",
       "      <th></th>\n",
       "      <th></th>\n",
       "      <th></th>\n",
       "    </tr>\n",
       "  </thead>\n",
       "  <tbody>\n",
       "    <tr>\n",
       "      <th>1</th>\n",
       "      <td>0.893343</td>\n",
       "      <td>0.929592</td>\n",
       "      <td>0.921817</td>\n",
       "      <td>0.929592</td>\n",
       "    </tr>\n",
       "    <tr>\n",
       "      <th>10</th>\n",
       "      <td>0.907920</td>\n",
       "      <td>0.939310</td>\n",
       "      <td>0.939310</td>\n",
       "      <td>0.943197</td>\n",
       "    </tr>\n",
       "    <tr>\n",
       "      <th>100</th>\n",
       "      <td>0.901118</td>\n",
       "      <td>0.945141</td>\n",
       "      <td>0.944169</td>\n",
       "      <td>0.944169</td>\n",
       "    </tr>\n",
       "    <tr>\n",
       "      <th>1000</th>\n",
       "      <td>0.909038</td>\n",
       "      <td>0.945141</td>\n",
       "      <td>0.945141</td>\n",
       "      <td>0.944169</td>\n",
       "    </tr>\n",
       "  </tbody>\n",
       "</table>\n",
       "</div>"
      ],
      "text/plain": [
       "nb_per_class         1        10       100      1000\n",
       "rpoint                                              \n",
       "1             0.893343  0.929592  0.921817  0.929592\n",
       "10            0.907920  0.939310  0.939310  0.943197\n",
       "100           0.901118  0.945141  0.944169  0.944169\n",
       "1000          0.909038  0.945141  0.945141  0.944169"
      ]
     },
     "execution_count": 32,
     "metadata": {},
     "output_type": "execute_result"
    }
   ],
   "source": [
    "df_result=pd.DataFrame(df_result)\n",
    "pd.pivot_table(df_result, values='accuracy', index=['rpoint'],columns=['nb_per_class'], aggfunc='mean')"
   ]
  },
  {
   "cell_type": "code",
   "execution_count": 3,
   "metadata": {},
   "outputs": [
    {
     "ename": "AttributeError",
     "evalue": "'dict' object has no attribute 'to_csv'",
     "output_type": "error",
     "traceback": [
      "\u001b[0;31m---------------------------------------------------------------------------\u001b[0m",
      "\u001b[0;31mAttributeError\u001b[0m                            Traceback (most recent call last)",
      "Cell \u001b[0;32mIn[3], line 2\u001b[0m\n\u001b[1;32m      1\u001b[0m \u001b[39m# create a pivot table\u001b[39;00m\n\u001b[0;32m----> 2\u001b[0m df_result\u001b[39m.\u001b[39;49mto_csv(\u001b[39m\"\u001b[39m\u001b[39mdf_overall_results.csv\u001b[39m\u001b[39m\"\u001b[39m) \n\u001b[1;32m      3\u001b[0m pivot_table \u001b[39m=\u001b[39m pd\u001b[39m.\u001b[39mpivot_table(df_result, values\u001b[39m=\u001b[39m\u001b[39m'\u001b[39m\u001b[39maccuracy\u001b[39m\u001b[39m'\u001b[39m, index\u001b[39m=\u001b[39m[\u001b[39m'\u001b[39m\u001b[39mclassifier_name\u001b[39m\u001b[39m'\u001b[39m,\u001b[39m'\u001b[39m\u001b[39mdataset_name\u001b[39m\u001b[39m'\u001b[39m], aggfunc\u001b[39m=\u001b[39m\u001b[39m'\u001b[39m\u001b[39mmean\u001b[39m\u001b[39m'\u001b[39m)\n\u001b[1;32m      4\u001b[0m pivot_table\u001b[39m.\u001b[39mto_csv(\u001b[39m\"\u001b[39m\u001b[39mdf_tunning_hyper.csv\u001b[39m\u001b[39m\"\u001b[39m)\n",
      "\u001b[0;31mAttributeError\u001b[0m: 'dict' object has no attribute 'to_csv'"
     ]
    }
   ],
   "source": [
    "# create a pivot table\n",
    "df_result.to_csv(\"df_overall_results.csv\") \n",
    "pivot_table = pd.pivot_table(df_result, values='accuracy', index=['classifier_name','dataset_name'], aggfunc='mean')\n",
    "pivot_table.to_csv(\"df_pivot_tunning_hyper.csv\") \n",
    "#pivot_table\n",
    "\n"
   ]
  }
 ],
 "metadata": {
  "kernelspec": {
   "display_name": "Python 3 (ipykernel)",
   "language": "python",
   "name": "python3"
  },
  "language_info": {
   "codemirror_mode": {
    "name": "ipython",
    "version": 3
   },
   "file_extension": ".py",
   "mimetype": "text/x-python",
   "name": "python",
   "nbconvert_exporter": "python",
   "pygments_lexer": "ipython3",
   "version": "3.10.9"
  },
  "vscode": {
   "interpreter": {
    "hash": "ad2bdc8ecc057115af97d19610ffacc2b4e99fae6737bb82f5d7fb13d2f2c186"
   }
  }
 },
 "nbformat": 4,
 "nbformat_minor": 2
}
