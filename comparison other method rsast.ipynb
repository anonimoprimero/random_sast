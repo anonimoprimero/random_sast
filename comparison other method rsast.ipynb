{
 "cells": [
  {
   "attachments": {},
   "cell_type": "markdown",
   "metadata": {},
   "source": [
    "### Select Datasets for comparing RSAST with SAST Ridge, HIVE-COTE, ROCKET, TS-CHIEF"
   ]
  },
  {
   "cell_type": "code",
   "execution_count": 2,
   "metadata": {},
   "outputs": [],
   "source": [
    "from sast.sast import *\n",
    "from sktime.datasets import load_UCR_UEA_dataset, tsc_dataset_names\n",
    "from sktime.classification.kernel_based import RocketClassifier\n",
    "import time\n",
    "import pandas as pd\n",
    "from sktime.transformations.panel.shapelet_transform import ShapeletTransform"
   ]
  },
  {
   "cell_type": "code",
   "execution_count": 16,
   "metadata": {},
   "outputs": [
    {
     "name": "stdout",
     "output_type": "stream",
     "text": [
      "['Chinatown', 'BirdChicken', 'Coffee']\n"
     ]
    }
   ],
   "source": [
    "ds_sens = tsc_dataset_names.univariate_equal_length\n",
    "#ds_sens = ['ACSF1', 'Adiac', 'ArrowHead', 'Beef', 'BeetleFly', 'BirdChicken', 'BME', 'Car', 'CBF', 'Chinatown', 'ChlorineConcentration', 'CinCECGTorso', 'Coffee']\n",
    "ds_sens = ['Chinatown','BirdChicken','Coffee']\n",
    "max_ds=len(ds_sens) #exploring dataset in UEA & UCR Time Series Classification Repository\n",
    "#print(ds_sens)\n",
    "print(ds_sens)\n"
   ]
  },
  {
   "cell_type": "code",
   "execution_count": 17,
   "metadata": {},
   "outputs": [
    {
     "name": "stdout",
     "output_type": "stream",
     "text": [
      "ds=Chinatown\n",
      "RSAST: n_random_points=100 nb_inst_per_class=10\n",
      "RSAST: n_random_points=10 nb_inst_per_class=100\n",
      "ROCKET: kernels=10_000\n",
      "STC: min_shapelet_length=3 max_shapelet_length=inf\n",
      "RSAST: n_random_points=100 nb_inst_per_class=10\n",
      "RSAST: n_random_points=10 nb_inst_per_class=100\n",
      "ROCKET: kernels=10_000\n",
      "STC: min_shapelet_length=3 max_shapelet_length=inf\n",
      "RSAST: n_random_points=100 nb_inst_per_class=10\n",
      "RSAST: n_random_points=10 nb_inst_per_class=100\n",
      "ROCKET: kernels=10_000\n",
      "STC: min_shapelet_length=3 max_shapelet_length=inf\n",
      "ds=BirdChicken\n",
      "RSAST: n_random_points=100 nb_inst_per_class=10\n",
      "RSAST: n_random_points=10 nb_inst_per_class=100\n",
      "ROCKET: kernels=10_000\n",
      "STC: min_shapelet_length=3 max_shapelet_length=inf\n"
     ]
    }
   ],
   "source": [
    "runs = 3\n",
    "#list\n",
    "df_result = {}\n",
    "list_score = []\n",
    "list_time = []\n",
    "list_dataset = []\n",
    "list_hyperparameter = []\n",
    "list_method = []\n",
    "list_rpoint = []\n",
    "list_nb_per_class = []\n",
    "\n",
    "\n",
    "for ds in ds_sens:\n",
    "    print(\"ds=\"+ds)\n",
    "    X_train, y_train = load_UCR_UEA_dataset(name=ds, extract_path='data', split=\"train\", return_type=\"numpy2d\")\n",
    "    X_test, y_test = load_UCR_UEA_dataset(name=ds, extract_path='data', split=\"test\", return_type=\"numpy2d\")\n",
    "    for i in range(runs):\n",
    "       \n",
    "        p=100\n",
    "        k=10\n",
    "        print(\"RSAST: n_random_points=\"+str(p)+\" nb_inst_per_class=\"+str(k))\n",
    "        start = time.time()\n",
    "        random_state = None\n",
    "        rsast_ridge = RSAST(n_random_points=p,nb_inst_per_class=k, classifier=RidgeClassifierCV())\n",
    "        rsast_ridge.fit(X_train, y_train)\n",
    "        end = time.time()\n",
    "        list_score.append(rsast_ridge.score(X_test,y_test))\n",
    "        list_time.append(end-start)\n",
    "        list_dataset.append(ds)\n",
    "        list_hyperparameter.append(\"n_random_points=\"+str(p)+\" nb_inst_per_class=\"+str(k))\n",
    "        list_rpoint.append(str(p))\n",
    "        list_nb_per_class.append(str(k))\n",
    "        list_method.append(\"Rsast\")\n",
    "\n",
    "        p=10\n",
    "        k=100\n",
    "        print(\"RSAST: n_random_points=\"+str(p)+\" nb_inst_per_class=\"+str(k))\n",
    "        start = time.time()\n",
    "        random_state = None\n",
    "        rsast_ridge = RSAST(n_random_points=p,nb_inst_per_class=k, classifier=RidgeClassifierCV())\n",
    "        rsast_ridge.fit(X_train, y_train)\n",
    "        end = time.time()\n",
    "        list_score.append(rsast_ridge.score(X_test,y_test))\n",
    "        list_time.append(end-start)\n",
    "        list_dataset.append(ds)\n",
    "        list_hyperparameter.append(\"n_random_points=\"+str(p)+\" nb_inst_per_class=\"+str(k))\n",
    "        list_rpoint.append(str(p))\n",
    "        list_nb_per_class.append(str(k))\n",
    "        list_method.append(\"Rsast\")\n",
    "        \n",
    "        print(\"ROCKET: kernels=10_000\")\n",
    "        start = time.time()\n",
    "        rocket= RocketClassifier(num_kernels=10_000)\n",
    "        rocket.fit(X_train,y_train)\n",
    "        end = time.time()\n",
    "        list_score.append(rocket.score(X_test,y_test))\n",
    "        list_time.append(end-start)\n",
    "        list_dataset.append(ds)\n",
    "        list_hyperparameter.append(\"num_kernels=10_000\")\n",
    "        list_rpoint.append(str(0))\n",
    "        list_nb_per_class.append(str(0))\n",
    "        list_method.append(\"Rocket\")\n",
    "\n",
    "        print(\"STC: min_shapelet_length=\"+str(min_shp_length)+\" max_shapelet_length=\"+str(np.inf))\n",
    "        min_shp_length = 3\n",
    "        max_shp_length = X_train.shape[1]\n",
    "        start = time.time()\n",
    "        #Creating a ShapeletTransform and fitting\n",
    "        st = ShapeletTransform(min_shapelet_length=min_shp_length, max_shapelet_length=np.inf)\n",
    "        X_train_sktime = from_2d_array_to_nested(pd.DataFrame(X_train))\n",
    "        X_test_sktime = from_2d_array_to_nested(pd.DataFrame(X_test))\n",
    "        st.fit(X_train_sktime, y_train)\n",
    "        #Making the tranformation of time series and training a RandomForestClassifier model\n",
    "        X_test_transformed = st.transform(X_test_sktime)\n",
    "        X_train_transformed = st.transform(X_train_sktime)\n",
    "        clf = RandomForestClassifier()\n",
    "        clf.fit(X_train_transformed, y_train)\n",
    "\n",
    "        end = time.time()\n",
    "        list_score.append(clf.score(X_test_transformed, y_test))\n",
    "        list_time.append(end-start)\n",
    "        list_dataset.append(ds)\n",
    "        list_hyperparameter.append(\"min_shapelet_length=\"+str(min_shp_length)+\" max_shapelet_length=\"+str(max_shp_length))\n",
    "        list_rpoint.append(str(0))\n",
    "        list_nb_per_class.append(str(0))\n",
    "        list_method.append(\"STC\")       \n",
    "        \n",
    "        \n",
    "\n",
    "df_result['accuracy']=list_score\n",
    "df_result['time']=list_time\n",
    "df_result['dataset_name']=list_dataset\n",
    "df_result['classifier_name']=list_hyperparameter\n",
    "df_result['rpoint']=list_rpoint\n",
    "df_result['nb_per_class']=list_nb_per_class\n",
    "df_result['method']=list_method\n",
    "df_result=pd.DataFrame(df_result)\n",
    "# export a overall dataset with the comparison\n",
    "df_result.to_csv(\"df_overall_comparison_results.csv\")"
   ]
  },
  {
   "cell_type": "code",
   "execution_count": null,
   "metadata": {},
   "outputs": [],
   "source": [
    "df_result=pd.read_csv(\"df_overall_comparison_results.csv\")"
   ]
  },
  {
   "cell_type": "code",
   "execution_count": 12,
   "metadata": {},
   "outputs": [],
   "source": [
    "\n",
    "# create and export a pivot table with the mean of score of different methods\n",
    "pivot_table = pd.pivot_table(df_result, values='accuracy', index=['classifier_name','dataset_name'], aggfunc='mean')\n",
    "pivot_table.to_csv(\"df_pivot_overall_comparison.csv\") "
   ]
  },
  {
   "cell_type": "code",
   "execution_count": 13,
   "metadata": {},
   "outputs": [
    {
     "data": {
      "text/html": [
       "<div>\n",
       "<style scoped>\n",
       "    .dataframe tbody tr th:only-of-type {\n",
       "        vertical-align: middle;\n",
       "    }\n",
       "\n",
       "    .dataframe tbody tr th {\n",
       "        vertical-align: top;\n",
       "    }\n",
       "\n",
       "    .dataframe thead th {\n",
       "        text-align: right;\n",
       "    }\n",
       "</style>\n",
       "<table border=\"1\" class=\"dataframe\">\n",
       "  <thead>\n",
       "    <tr style=\"text-align: right;\">\n",
       "      <th></th>\n",
       "      <th>dataset_name</th>\n",
       "      <th>Chinatown</th>\n",
       "    </tr>\n",
       "    <tr>\n",
       "      <th>method</th>\n",
       "      <th>classifier_name</th>\n",
       "      <th></th>\n",
       "    </tr>\n",
       "  </thead>\n",
       "  <tbody>\n",
       "    <tr>\n",
       "      <th>Rocket</th>\n",
       "      <th>num_kernels=10_000</th>\n",
       "      <td>0.981535</td>\n",
       "    </tr>\n",
       "    <tr>\n",
       "      <th rowspan=\"2\" valign=\"top\">Rsast</th>\n",
       "      <th>n_random_points=10 nb_inst_per_class=100</th>\n",
       "      <td>0.978620</td>\n",
       "    </tr>\n",
       "    <tr>\n",
       "      <th>n_random_points=100 nb_inst_per_class=10</th>\n",
       "      <td>0.984451</td>\n",
       "    </tr>\n",
       "    <tr>\n",
       "      <th>STC</th>\n",
       "      <th>min_shapelet_length=3 max_shapelet_length=24</th>\n",
       "      <td>0.973761</td>\n",
       "    </tr>\n",
       "  </tbody>\n",
       "</table>\n",
       "</div>"
      ],
      "text/plain": [
       "dataset_name                                         Chinatown\n",
       "method classifier_name                                        \n",
       "Rocket num_kernels=10_000                             0.981535\n",
       "Rsast  n_random_points=10 nb_inst_per_class=100       0.978620\n",
       "       n_random_points=100 nb_inst_per_class=10       0.984451\n",
       "STC    min_shapelet_length=3 max_shapelet_length=24   0.973761"
      ]
     },
     "execution_count": 13,
     "metadata": {},
     "output_type": "execute_result"
    }
   ],
   "source": [
    "# create a pivot table with the mean of score by hyperparameter\n",
    "pd.pivot_table(df_result, values='accuracy', index=['method','classifier_name'],columns=['dataset_name'], aggfunc='mean')"
   ]
  },
  {
   "cell_type": "code",
   "execution_count": 14,
   "metadata": {},
   "outputs": [
    {
     "data": {
      "text/html": [
       "<div>\n",
       "<style scoped>\n",
       "    .dataframe tbody tr th:only-of-type {\n",
       "        vertical-align: middle;\n",
       "    }\n",
       "\n",
       "    .dataframe tbody tr th {\n",
       "        vertical-align: top;\n",
       "    }\n",
       "\n",
       "    .dataframe thead th {\n",
       "        text-align: right;\n",
       "    }\n",
       "</style>\n",
       "<table border=\"1\" class=\"dataframe\">\n",
       "  <thead>\n",
       "    <tr style=\"text-align: right;\">\n",
       "      <th></th>\n",
       "      <th>dataset_name</th>\n",
       "      <th>Chinatown</th>\n",
       "    </tr>\n",
       "    <tr>\n",
       "      <th>method</th>\n",
       "      <th>classifier_name</th>\n",
       "      <th></th>\n",
       "    </tr>\n",
       "  </thead>\n",
       "  <tbody>\n",
       "    <tr>\n",
       "      <th>Rocket</th>\n",
       "      <th>num_kernels=10_000</th>\n",
       "      <td>0.000003</td>\n",
       "    </tr>\n",
       "    <tr>\n",
       "      <th rowspan=\"2\" valign=\"top\">Rsast</th>\n",
       "      <th>n_random_points=10 nb_inst_per_class=100</th>\n",
       "      <td>0.000020</td>\n",
       "    </tr>\n",
       "    <tr>\n",
       "      <th>n_random_points=100 nb_inst_per_class=10</th>\n",
       "      <td>0.000003</td>\n",
       "    </tr>\n",
       "    <tr>\n",
       "      <th>STC</th>\n",
       "      <th>min_shapelet_length=3 max_shapelet_length=24</th>\n",
       "      <td>0.000000</td>\n",
       "    </tr>\n",
       "  </tbody>\n",
       "</table>\n",
       "</div>"
      ],
      "text/plain": [
       "dataset_name                                         Chinatown\n",
       "method classifier_name                                        \n",
       "Rocket num_kernels=10_000                             0.000003\n",
       "Rsast  n_random_points=10 nb_inst_per_class=100       0.000020\n",
       "       n_random_points=100 nb_inst_per_class=10       0.000003\n",
       "STC    min_shapelet_length=3 max_shapelet_length=24   0.000000"
      ]
     },
     "execution_count": 14,
     "metadata": {},
     "output_type": "execute_result"
    }
   ],
   "source": [
    "# create a pivot table with the variatioon of score by hyperparameter\n",
    "pd.pivot_table(df_result, values='accuracy', index=['method','classifier_name'],columns=['dataset_name'], aggfunc='var')"
   ]
  },
  {
   "cell_type": "code",
   "execution_count": 15,
   "metadata": {},
   "outputs": [
    {
     "data": {
      "text/html": [
       "<div>\n",
       "<style scoped>\n",
       "    .dataframe tbody tr th:only-of-type {\n",
       "        vertical-align: middle;\n",
       "    }\n",
       "\n",
       "    .dataframe tbody tr th {\n",
       "        vertical-align: top;\n",
       "    }\n",
       "\n",
       "    .dataframe thead th {\n",
       "        text-align: right;\n",
       "    }\n",
       "</style>\n",
       "<table border=\"1\" class=\"dataframe\">\n",
       "  <thead>\n",
       "    <tr style=\"text-align: right;\">\n",
       "      <th></th>\n",
       "      <th>dataset_name</th>\n",
       "      <th>Chinatown</th>\n",
       "    </tr>\n",
       "    <tr>\n",
       "      <th>method</th>\n",
       "      <th>classifier_name</th>\n",
       "      <th></th>\n",
       "    </tr>\n",
       "  </thead>\n",
       "  <tbody>\n",
       "    <tr>\n",
       "      <th>Rocket</th>\n",
       "      <th>num_kernels=10_000</th>\n",
       "      <td>0.138847</td>\n",
       "    </tr>\n",
       "    <tr>\n",
       "      <th rowspan=\"2\" valign=\"top\">Rsast</th>\n",
       "      <th>n_random_points=10 nb_inst_per_class=100</th>\n",
       "      <td>0.002140</td>\n",
       "    </tr>\n",
       "    <tr>\n",
       "      <th>n_random_points=100 nb_inst_per_class=10</th>\n",
       "      <td>0.014794</td>\n",
       "    </tr>\n",
       "    <tr>\n",
       "      <th>STC</th>\n",
       "      <th>min_shapelet_length=3 max_shapelet_length=24</th>\n",
       "      <td>1.427007</td>\n",
       "    </tr>\n",
       "  </tbody>\n",
       "</table>\n",
       "</div>"
      ],
      "text/plain": [
       "dataset_name                                         Chinatown\n",
       "method classifier_name                                        \n",
       "Rocket num_kernels=10_000                             0.138847\n",
       "Rsast  n_random_points=10 nb_inst_per_class=100       0.002140\n",
       "       n_random_points=100 nb_inst_per_class=10       0.014794\n",
       "STC    min_shapelet_length=3 max_shapelet_length=24   1.427007"
      ]
     },
     "execution_count": 15,
     "metadata": {},
     "output_type": "execute_result"
    }
   ],
   "source": [
    "# create a pivot table with the mean of time spent in minutes\n",
    "pd.pivot_table(df_result, values='time', index=['method','classifier_name'],columns=['dataset_name'], aggfunc='mean')/60"
   ]
  }
 ],
 "metadata": {
  "kernelspec": {
   "display_name": "Python 3 (ipykernel)",
   "language": "python",
   "name": "python3"
  },
  "language_info": {
   "codemirror_mode": {
    "name": "ipython",
    "version": 3
   },
   "file_extension": ".py",
   "mimetype": "text/x-python",
   "name": "python",
   "nbconvert_exporter": "python",
   "pygments_lexer": "ipython3",
   "version": "3.9.13"
  },
  "vscode": {
   "interpreter": {
    "hash": "ad2bdc8ecc057115af97d19610ffacc2b4e99fae6737bb82f5d7fb13d2f2c186"
   }
  }
 },
 "nbformat": 4,
 "nbformat_minor": 2
}
