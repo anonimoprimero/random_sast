{
 "cells": [
  {
   "attachments": {},
   "cell_type": "markdown",
   "metadata": {},
   "source": [
    "## Experiments: Sensitive Analysis Hyperparameter RSAST:\n"
   ]
  },
  {
   "attachments": {},
   "cell_type": "markdown",
   "metadata": {},
   "source": [
    "It is runned RSAST in a set of UCR datasets with a predefined number of runs (\"runs\"). Then, it is selected a range (\"range_total\") between 1, 10, 30 ,50 and 100 for the selected dataset."
   ]
  },
  {
   "cell_type": "code",
   "execution_count": 151,
   "metadata": {},
   "outputs": [
    {
     "data": {
      "text/plain": [
       "['c:\\\\Users\\\\Public\\\\random_sast\\\\ExperimentationRSAST',\n",
       " 'c:\\\\ProgramData\\\\Anaconda3\\\\python39.zip',\n",
       " 'c:\\\\ProgramData\\\\Anaconda3\\\\DLLs',\n",
       " 'c:\\\\ProgramData\\\\Anaconda3\\\\lib',\n",
       " 'c:\\\\ProgramData\\\\Anaconda3',\n",
       " '',\n",
       " 'C:\\\\Users\\\\Nicolas R\\\\AppData\\\\Roaming\\\\Python\\\\Python39\\\\site-packages',\n",
       " 'c:\\\\ProgramData\\\\Anaconda3\\\\lib\\\\site-packages',\n",
       " 'c:\\\\ProgramData\\\\Anaconda3\\\\lib\\\\site-packages\\\\win32',\n",
       " 'c:\\\\ProgramData\\\\Anaconda3\\\\lib\\\\site-packages\\\\win32\\\\lib',\n",
       " 'c:\\\\ProgramData\\\\Anaconda3\\\\lib\\\\site-packages\\\\Pythonwin',\n",
       " 'c:\\\\ProgramData\\\\Anaconda3\\\\lib\\\\site-packages\\\\IPython\\\\extensions',\n",
       " 'C:\\\\Users\\\\Nicolas R\\\\.ipython',\n",
       " 'c:\\\\Users\\\\Public\\\\random_sast/sast',\n",
       " 'c:\\\\Users\\\\Public\\\\random_sast\\\\sast',\n",
       " 'c:\\\\Users\\\\Public\\\\random_sast\\\\cd_diagram',\n",
       " 'c:\\\\Users\\\\Public\\\\random_sast/cd_diagram',\n",
       " 'c:\\\\Users\\\\Public\\\\random_sast/sast',\n",
       " 'c:\\\\Users\\\\Public\\\\random_sast\\\\sast',\n",
       " 'c:\\\\Users\\\\Public\\\\random_sast\\\\cd_diagram',\n",
       " 'c:\\\\Users\\\\Public\\\\random_sast/cd_diagram',\n",
       " 'c:\\\\Users\\\\Public\\\\random_sast/sast',\n",
       " 'c:\\\\Users\\\\Public\\\\random_sast\\\\sast',\n",
       " 'c:\\\\Users\\\\Public\\\\random_sast\\\\cd_diagram',\n",
       " 'c:\\\\Users\\\\Public\\\\random_sast/cd_diagram',\n",
       " 'c:\\\\Users\\\\Public\\\\random_sast/sast',\n",
       " 'c:\\\\Users\\\\Public\\\\random_sast\\\\sast',\n",
       " 'c:\\\\Users\\\\Public\\\\random_sast\\\\cd_diagram',\n",
       " 'c:\\\\Users\\\\Public\\\\random_sast/cd_diagram',\n",
       " 'c:\\\\Users\\\\Public\\\\random_sast/sast',\n",
       " 'c:\\\\Users\\\\Public\\\\random_sast\\\\sast',\n",
       " 'c:\\\\Users\\\\Public\\\\random_sast\\\\cd_diagram',\n",
       " 'c:\\\\Users\\\\Public\\\\random_sast/cd_diagram',\n",
       " 'c:\\\\Users\\\\Public\\\\random_sast/sast',\n",
       " 'c:\\\\Users\\\\Public\\\\random_sast\\\\sast',\n",
       " 'c:\\\\Users\\\\Public\\\\random_sast\\\\cd_diagram',\n",
       " 'c:\\\\Users\\\\Public\\\\random_sast/cd_diagram']"
      ]
     },
     "execution_count": 151,
     "metadata": {},
     "output_type": "execute_result"
    }
   ],
   "source": [
    "#configure directory to import sast libraries\n",
    "import sys \n",
    "import os \n",
    "#add sast library path\n",
    "file_path = os.path.dirname(os.getcwd())+\"/sast\"\n",
    "\n",
    "#file_path = r\"C:\\Users\\Public\\random_sast\\sast\"\n",
    "sys.path.append(file_path)\n",
    "\n",
    "file_path = os.path.dirname(os.getcwd())+\"\\sast\"\n",
    "\n",
    "\n",
    "#file_path = r\"C:\\Users\\Public\\random_sast\\sast\"\n",
    "sys.path.append(file_path)\n",
    "\n",
    "#add cd_diagram library path\n",
    "file_path = os.path.dirname(os.getcwd())+\"\\cd_diagram\"\n",
    "\n",
    "#file_path = r\"C:\\Users\\Public\\random_sast\\cd_diagram\"\n",
    "sys.path.append(file_path)\n",
    "\n",
    "\n",
    "file_path = os.path.dirname(os.getcwd())+\"/cd_diagram\"\n",
    "#file_path = r\"C:\\Users\\Public\\random_sast\\sast\"\n",
    "sys.path.append(file_path)\n",
    "\n",
    "sys.path"
   ]
  },
  {
   "cell_type": "code",
   "execution_count": 152,
   "metadata": {},
   "outputs": [],
   "source": [
    "from sast import *\n",
    "import pandas as pd\n",
    "import researchpy\n",
    "import math\n",
    "import matplotlib.pyplot as plt\n",
    "import seaborn as sns"
   ]
  },
  {
   "attachments": {},
   "cell_type": "markdown",
   "metadata": {},
   "source": [
    "### Reading Datasets"
   ]
  },
  {
   "cell_type": "code",
   "execution_count": 153,
   "metadata": {},
   "outputs": [],
   "source": [
    "# Set directory where the csv files are located\n",
    "directory = os.getcwd()+'/ResultsByClassifier'\n",
    "\n",
    "# Create an empty list to store the dataframes\n",
    "dfs = []\n",
    "\n",
    "# Loop through all files in the directory\n",
    "for filename in os.listdir(directory):\n",
    "    # Check if the file starts with \"df_overall_tunning\" and ends with \".csv\"\n",
    "    if filename.endswith(\".csv\"):\n",
    "        # Read the csv file into a dataframe\n",
    "        filepath = os.path.join(directory, filename)\n",
    "        df = pd.read_csv(filepath)\n",
    "        # Append the dataframe to the list\n",
    "        df['filename']=filename\n",
    "        dfs.append(df)\n",
    "\n",
    "# Concatenate all the dataframes in the list into one dataframe\n",
    "df_other_methods = pd.concat(dfs, ignore_index=True)\n",
    "df_other_methods=df_other_methods[['filename','folds:','0']]\n",
    "df_other_methods['method']=df_other_methods['filename'].str.split('_').str[0]\n",
    "df_other_methods\n",
    "df_other_methods=df_other_methods.rename(columns={'folds:':'dataset','0':'score'})\n",
    "df_other_methods=df_other_methods[['dataset','score','method']]\n"
   ]
  },
  {
   "cell_type": "code",
   "execution_count": 154,
   "metadata": {},
   "outputs": [
    {
     "data": {
      "text/plain": [
       "array(['BOSS', 'Catch22', 'cBOSS', 'HIVE-COTEv1', 'InceptionTime',\n",
       "       'ProximityForest', 'ResNet', 'RISE', 'ROCKET', 'S-BOSS', 'SAST',\n",
       "       'STC', 'TS-CHIEF', 'TSF', 'WEASEL'], dtype=object)"
      ]
     },
     "execution_count": 154,
     "metadata": {},
     "output_type": "execute_result"
    }
   ],
   "source": [
    "df_other_methods['method'].unique()"
   ]
  },
  {
   "cell_type": "code",
   "execution_count": 155,
   "metadata": {},
   "outputs": [
    {
     "name": "stderr",
     "output_type": "stream",
     "text": [
      "C:\\Users\\Nicolas R\\AppData\\Local\\Temp\\ipykernel_4188\\1216653100.py:19: FutureWarning: The default value of regex will change from True to False in a future version.\n",
      "  df['classifier_name']=df['classifier_name'].str.replace(\"\\(lenthg ts\\)//2\",\"half_len\")\n",
      "C:\\Users\\Nicolas R\\AppData\\Local\\Temp\\ipykernel_4188\\1216653100.py:20: FutureWarning: The default value of regex will change from True to False in a future version.\n",
      "  df['classifier_name']=df['classifier_name'].str.replace(\"\\(max instances per class\\)//2\",\"half_instance\")\n",
      "C:\\Users\\Nicolas R\\AppData\\Local\\Temp\\ipykernel_4188\\1216653100.py:19: FutureWarning: The default value of regex will change from True to False in a future version.\n",
      "  df['classifier_name']=df['classifier_name'].str.replace(\"\\(lenthg ts\\)//2\",\"half_len\")\n",
      "C:\\Users\\Nicolas R\\AppData\\Local\\Temp\\ipykernel_4188\\1216653100.py:20: FutureWarning: The default value of regex will change from True to False in a future version.\n",
      "  df['classifier_name']=df['classifier_name'].str.replace(\"\\(max instances per class\\)//2\",\"half_instance\")\n",
      "C:\\Users\\Nicolas R\\AppData\\Local\\Temp\\ipykernel_4188\\1216653100.py:19: FutureWarning: The default value of regex will change from True to False in a future version.\n",
      "  df['classifier_name']=df['classifier_name'].str.replace(\"\\(lenthg ts\\)//2\",\"half_len\")\n",
      "C:\\Users\\Nicolas R\\AppData\\Local\\Temp\\ipykernel_4188\\1216653100.py:20: FutureWarning: The default value of regex will change from True to False in a future version.\n",
      "  df['classifier_name']=df['classifier_name'].str.replace(\"\\(max instances per class\\)//2\",\"half_instance\")\n",
      "C:\\Users\\Nicolas R\\AppData\\Local\\Temp\\ipykernel_4188\\1216653100.py:19: FutureWarning: The default value of regex will change from True to False in a future version.\n",
      "  df['classifier_name']=df['classifier_name'].str.replace(\"\\(lenthg ts\\)//2\",\"half_len\")\n",
      "C:\\Users\\Nicolas R\\AppData\\Local\\Temp\\ipykernel_4188\\1216653100.py:20: FutureWarning: The default value of regex will change from True to False in a future version.\n",
      "  df['classifier_name']=df['classifier_name'].str.replace(\"\\(max instances per class\\)//2\",\"half_instance\")\n",
      "C:\\Users\\Nicolas R\\AppData\\Local\\Temp\\ipykernel_4188\\1216653100.py:19: FutureWarning: The default value of regex will change from True to False in a future version.\n",
      "  df['classifier_name']=df['classifier_name'].str.replace(\"\\(lenthg ts\\)//2\",\"half_len\")\n",
      "C:\\Users\\Nicolas R\\AppData\\Local\\Temp\\ipykernel_4188\\1216653100.py:20: FutureWarning: The default value of regex will change from True to False in a future version.\n",
      "  df['classifier_name']=df['classifier_name'].str.replace(\"\\(max instances per class\\)//2\",\"half_instance\")\n",
      "C:\\Users\\Nicolas R\\AppData\\Local\\Temp\\ipykernel_4188\\1216653100.py:19: FutureWarning: The default value of regex will change from True to False in a future version.\n",
      "  df['classifier_name']=df['classifier_name'].str.replace(\"\\(lenthg ts\\)//2\",\"half_len\")\n",
      "C:\\Users\\Nicolas R\\AppData\\Local\\Temp\\ipykernel_4188\\1216653100.py:20: FutureWarning: The default value of regex will change from True to False in a future version.\n",
      "  df['classifier_name']=df['classifier_name'].str.replace(\"\\(max instances per class\\)//2\",\"half_instance\")\n",
      "C:\\Users\\Nicolas R\\AppData\\Local\\Temp\\ipykernel_4188\\1216653100.py:19: FutureWarning: The default value of regex will change from True to False in a future version.\n",
      "  df['classifier_name']=df['classifier_name'].str.replace(\"\\(lenthg ts\\)//2\",\"half_len\")\n",
      "C:\\Users\\Nicolas R\\AppData\\Local\\Temp\\ipykernel_4188\\1216653100.py:20: FutureWarning: The default value of regex will change from True to False in a future version.\n",
      "  df['classifier_name']=df['classifier_name'].str.replace(\"\\(max instances per class\\)//2\",\"half_instance\")\n",
      "C:\\Users\\Nicolas R\\AppData\\Local\\Temp\\ipykernel_4188\\1216653100.py:19: FutureWarning: The default value of regex will change from True to False in a future version.\n",
      "  df['classifier_name']=df['classifier_name'].str.replace(\"\\(lenthg ts\\)//2\",\"half_len\")\n",
      "C:\\Users\\Nicolas R\\AppData\\Local\\Temp\\ipykernel_4188\\1216653100.py:20: FutureWarning: The default value of regex will change from True to False in a future version.\n",
      "  df['classifier_name']=df['classifier_name'].str.replace(\"\\(max instances per class\\)//2\",\"half_instance\")\n",
      "C:\\Users\\Nicolas R\\AppData\\Local\\Temp\\ipykernel_4188\\1216653100.py:19: FutureWarning: The default value of regex will change from True to False in a future version.\n",
      "  df['classifier_name']=df['classifier_name'].str.replace(\"\\(lenthg ts\\)//2\",\"half_len\")\n",
      "C:\\Users\\Nicolas R\\AppData\\Local\\Temp\\ipykernel_4188\\1216653100.py:20: FutureWarning: The default value of regex will change from True to False in a future version.\n",
      "  df['classifier_name']=df['classifier_name'].str.replace(\"\\(max instances per class\\)//2\",\"half_instance\")\n",
      "C:\\Users\\Nicolas R\\AppData\\Local\\Temp\\ipykernel_4188\\1216653100.py:19: FutureWarning: The default value of regex will change from True to False in a future version.\n",
      "  df['classifier_name']=df['classifier_name'].str.replace(\"\\(lenthg ts\\)//2\",\"half_len\")\n",
      "C:\\Users\\Nicolas R\\AppData\\Local\\Temp\\ipykernel_4188\\1216653100.py:20: FutureWarning: The default value of regex will change from True to False in a future version.\n",
      "  df['classifier_name']=df['classifier_name'].str.replace(\"\\(max instances per class\\)//2\",\"half_instance\")\n",
      "C:\\Users\\Nicolas R\\AppData\\Local\\Temp\\ipykernel_4188\\1216653100.py:19: FutureWarning: The default value of regex will change from True to False in a future version.\n",
      "  df['classifier_name']=df['classifier_name'].str.replace(\"\\(lenthg ts\\)//2\",\"half_len\")\n",
      "C:\\Users\\Nicolas R\\AppData\\Local\\Temp\\ipykernel_4188\\1216653100.py:20: FutureWarning: The default value of regex will change from True to False in a future version.\n",
      "  df['classifier_name']=df['classifier_name'].str.replace(\"\\(max instances per class\\)//2\",\"half_instance\")\n",
      "C:\\Users\\Nicolas R\\AppData\\Local\\Temp\\ipykernel_4188\\1216653100.py:19: FutureWarning: The default value of regex will change from True to False in a future version.\n",
      "  df['classifier_name']=df['classifier_name'].str.replace(\"\\(lenthg ts\\)//2\",\"half_len\")\n",
      "C:\\Users\\Nicolas R\\AppData\\Local\\Temp\\ipykernel_4188\\1216653100.py:20: FutureWarning: The default value of regex will change from True to False in a future version.\n",
      "  df['classifier_name']=df['classifier_name'].str.replace(\"\\(max instances per class\\)//2\",\"half_instance\")\n",
      "C:\\Users\\Nicolas R\\AppData\\Local\\Temp\\ipykernel_4188\\1216653100.py:19: FutureWarning: The default value of regex will change from True to False in a future version.\n",
      "  df['classifier_name']=df['classifier_name'].str.replace(\"\\(lenthg ts\\)//2\",\"half_len\")\n",
      "C:\\Users\\Nicolas R\\AppData\\Local\\Temp\\ipykernel_4188\\1216653100.py:20: FutureWarning: The default value of regex will change from True to False in a future version.\n",
      "  df['classifier_name']=df['classifier_name'].str.replace(\"\\(max instances per class\\)//2\",\"half_instance\")\n",
      "C:\\Users\\Nicolas R\\AppData\\Local\\Temp\\ipykernel_4188\\1216653100.py:19: FutureWarning: The default value of regex will change from True to False in a future version.\n",
      "  df['classifier_name']=df['classifier_name'].str.replace(\"\\(lenthg ts\\)//2\",\"half_len\")\n",
      "C:\\Users\\Nicolas R\\AppData\\Local\\Temp\\ipykernel_4188\\1216653100.py:20: FutureWarning: The default value of regex will change from True to False in a future version.\n",
      "  df['classifier_name']=df['classifier_name'].str.replace(\"\\(max instances per class\\)//2\",\"half_instance\")\n",
      "C:\\Users\\Nicolas R\\AppData\\Local\\Temp\\ipykernel_4188\\1216653100.py:19: FutureWarning: The default value of regex will change from True to False in a future version.\n",
      "  df['classifier_name']=df['classifier_name'].str.replace(\"\\(lenthg ts\\)//2\",\"half_len\")\n",
      "C:\\Users\\Nicolas R\\AppData\\Local\\Temp\\ipykernel_4188\\1216653100.py:20: FutureWarning: The default value of regex will change from True to False in a future version.\n",
      "  df['classifier_name']=df['classifier_name'].str.replace(\"\\(max instances per class\\)//2\",\"half_instance\")\n",
      "C:\\Users\\Nicolas R\\AppData\\Local\\Temp\\ipykernel_4188\\1216653100.py:19: FutureWarning: The default value of regex will change from True to False in a future version.\n",
      "  df['classifier_name']=df['classifier_name'].str.replace(\"\\(lenthg ts\\)//2\",\"half_len\")\n",
      "C:\\Users\\Nicolas R\\AppData\\Local\\Temp\\ipykernel_4188\\1216653100.py:20: FutureWarning: The default value of regex will change from True to False in a future version.\n",
      "  df['classifier_name']=df['classifier_name'].str.replace(\"\\(max instances per class\\)//2\",\"half_instance\")\n",
      "C:\\Users\\Nicolas R\\AppData\\Local\\Temp\\ipykernel_4188\\1216653100.py:19: FutureWarning: The default value of regex will change from True to False in a future version.\n",
      "  df['classifier_name']=df['classifier_name'].str.replace(\"\\(lenthg ts\\)//2\",\"half_len\")\n",
      "C:\\Users\\Nicolas R\\AppData\\Local\\Temp\\ipykernel_4188\\1216653100.py:20: FutureWarning: The default value of regex will change from True to False in a future version.\n",
      "  df['classifier_name']=df['classifier_name'].str.replace(\"\\(max instances per class\\)//2\",\"half_instance\")\n",
      "C:\\Users\\Nicolas R\\AppData\\Local\\Temp\\ipykernel_4188\\1216653100.py:19: FutureWarning: The default value of regex will change from True to False in a future version.\n",
      "  df['classifier_name']=df['classifier_name'].str.replace(\"\\(lenthg ts\\)//2\",\"half_len\")\n",
      "C:\\Users\\Nicolas R\\AppData\\Local\\Temp\\ipykernel_4188\\1216653100.py:20: FutureWarning: The default value of regex will change from True to False in a future version.\n",
      "  df['classifier_name']=df['classifier_name'].str.replace(\"\\(max instances per class\\)//2\",\"half_instance\")\n",
      "C:\\Users\\Nicolas R\\AppData\\Local\\Temp\\ipykernel_4188\\1216653100.py:19: FutureWarning: The default value of regex will change from True to False in a future version.\n",
      "  df['classifier_name']=df['classifier_name'].str.replace(\"\\(lenthg ts\\)//2\",\"half_len\")\n",
      "C:\\Users\\Nicolas R\\AppData\\Local\\Temp\\ipykernel_4188\\1216653100.py:20: FutureWarning: The default value of regex will change from True to False in a future version.\n",
      "  df['classifier_name']=df['classifier_name'].str.replace(\"\\(max instances per class\\)//2\",\"half_instance\")\n",
      "C:\\Users\\Nicolas R\\AppData\\Local\\Temp\\ipykernel_4188\\1216653100.py:19: FutureWarning: The default value of regex will change from True to False in a future version.\n",
      "  df['classifier_name']=df['classifier_name'].str.replace(\"\\(lenthg ts\\)//2\",\"half_len\")\n",
      "C:\\Users\\Nicolas R\\AppData\\Local\\Temp\\ipykernel_4188\\1216653100.py:20: FutureWarning: The default value of regex will change from True to False in a future version.\n",
      "  df['classifier_name']=df['classifier_name'].str.replace(\"\\(max instances per class\\)//2\",\"half_instance\")\n",
      "C:\\Users\\Nicolas R\\AppData\\Local\\Temp\\ipykernel_4188\\1216653100.py:19: FutureWarning: The default value of regex will change from True to False in a future version.\n",
      "  df['classifier_name']=df['classifier_name'].str.replace(\"\\(lenthg ts\\)//2\",\"half_len\")\n",
      "C:\\Users\\Nicolas R\\AppData\\Local\\Temp\\ipykernel_4188\\1216653100.py:20: FutureWarning: The default value of regex will change from True to False in a future version.\n",
      "  df['classifier_name']=df['classifier_name'].str.replace(\"\\(max instances per class\\)//2\",\"half_instance\")\n",
      "C:\\Users\\Nicolas R\\AppData\\Local\\Temp\\ipykernel_4188\\1216653100.py:19: FutureWarning: The default value of regex will change from True to False in a future version.\n",
      "  df['classifier_name']=df['classifier_name'].str.replace(\"\\(lenthg ts\\)//2\",\"half_len\")\n",
      "C:\\Users\\Nicolas R\\AppData\\Local\\Temp\\ipykernel_4188\\1216653100.py:20: FutureWarning: The default value of regex will change from True to False in a future version.\n",
      "  df['classifier_name']=df['classifier_name'].str.replace(\"\\(max instances per class\\)//2\",\"half_instance\")\n",
      "C:\\Users\\Nicolas R\\AppData\\Local\\Temp\\ipykernel_4188\\1216653100.py:19: FutureWarning: The default value of regex will change from True to False in a future version.\n",
      "  df['classifier_name']=df['classifier_name'].str.replace(\"\\(lenthg ts\\)//2\",\"half_len\")\n",
      "C:\\Users\\Nicolas R\\AppData\\Local\\Temp\\ipykernel_4188\\1216653100.py:20: FutureWarning: The default value of regex will change from True to False in a future version.\n",
      "  df['classifier_name']=df['classifier_name'].str.replace(\"\\(max instances per class\\)//2\",\"half_instance\")\n",
      "C:\\Users\\Nicolas R\\AppData\\Local\\Temp\\ipykernel_4188\\1216653100.py:19: FutureWarning: The default value of regex will change from True to False in a future version.\n",
      "  df['classifier_name']=df['classifier_name'].str.replace(\"\\(lenthg ts\\)//2\",\"half_len\")\n",
      "C:\\Users\\Nicolas R\\AppData\\Local\\Temp\\ipykernel_4188\\1216653100.py:20: FutureWarning: The default value of regex will change from True to False in a future version.\n",
      "  df['classifier_name']=df['classifier_name'].str.replace(\"\\(max instances per class\\)//2\",\"half_instance\")\n",
      "C:\\Users\\Nicolas R\\AppData\\Local\\Temp\\ipykernel_4188\\1216653100.py:19: FutureWarning: The default value of regex will change from True to False in a future version.\n",
      "  df['classifier_name']=df['classifier_name'].str.replace(\"\\(lenthg ts\\)//2\",\"half_len\")\n",
      "C:\\Users\\Nicolas R\\AppData\\Local\\Temp\\ipykernel_4188\\1216653100.py:20: FutureWarning: The default value of regex will change from True to False in a future version.\n",
      "  df['classifier_name']=df['classifier_name'].str.replace(\"\\(max instances per class\\)//2\",\"half_instance\")\n",
      "C:\\Users\\Nicolas R\\AppData\\Local\\Temp\\ipykernel_4188\\1216653100.py:19: FutureWarning: The default value of regex will change from True to False in a future version.\n",
      "  df['classifier_name']=df['classifier_name'].str.replace(\"\\(lenthg ts\\)//2\",\"half_len\")\n",
      "C:\\Users\\Nicolas R\\AppData\\Local\\Temp\\ipykernel_4188\\1216653100.py:20: FutureWarning: The default value of regex will change from True to False in a future version.\n",
      "  df['classifier_name']=df['classifier_name'].str.replace(\"\\(max instances per class\\)//2\",\"half_instance\")\n",
      "C:\\Users\\Nicolas R\\AppData\\Local\\Temp\\ipykernel_4188\\1216653100.py:19: FutureWarning: The default value of regex will change from True to False in a future version.\n",
      "  df['classifier_name']=df['classifier_name'].str.replace(\"\\(lenthg ts\\)//2\",\"half_len\")\n",
      "C:\\Users\\Nicolas R\\AppData\\Local\\Temp\\ipykernel_4188\\1216653100.py:20: FutureWarning: The default value of regex will change from True to False in a future version.\n",
      "  df['classifier_name']=df['classifier_name'].str.replace(\"\\(max instances per class\\)//2\",\"half_instance\")\n",
      "C:\\Users\\Nicolas R\\AppData\\Local\\Temp\\ipykernel_4188\\1216653100.py:19: FutureWarning: The default value of regex will change from True to False in a future version.\n",
      "  df['classifier_name']=df['classifier_name'].str.replace(\"\\(lenthg ts\\)//2\",\"half_len\")\n",
      "C:\\Users\\Nicolas R\\AppData\\Local\\Temp\\ipykernel_4188\\1216653100.py:20: FutureWarning: The default value of regex will change from True to False in a future version.\n",
      "  df['classifier_name']=df['classifier_name'].str.replace(\"\\(max instances per class\\)//2\",\"half_instance\")\n",
      "C:\\Users\\Nicolas R\\AppData\\Local\\Temp\\ipykernel_4188\\1216653100.py:19: FutureWarning: The default value of regex will change from True to False in a future version.\n",
      "  df['classifier_name']=df['classifier_name'].str.replace(\"\\(lenthg ts\\)//2\",\"half_len\")\n",
      "C:\\Users\\Nicolas R\\AppData\\Local\\Temp\\ipykernel_4188\\1216653100.py:20: FutureWarning: The default value of regex will change from True to False in a future version.\n",
      "  df['classifier_name']=df['classifier_name'].str.replace(\"\\(max instances per class\\)//2\",\"half_instance\")\n",
      "C:\\Users\\Nicolas R\\AppData\\Local\\Temp\\ipykernel_4188\\1216653100.py:19: FutureWarning: The default value of regex will change from True to False in a future version.\n",
      "  df['classifier_name']=df['classifier_name'].str.replace(\"\\(lenthg ts\\)//2\",\"half_len\")\n",
      "C:\\Users\\Nicolas R\\AppData\\Local\\Temp\\ipykernel_4188\\1216653100.py:20: FutureWarning: The default value of regex will change from True to False in a future version.\n",
      "  df['classifier_name']=df['classifier_name'].str.replace(\"\\(max instances per class\\)//2\",\"half_instance\")\n",
      "C:\\Users\\Nicolas R\\AppData\\Local\\Temp\\ipykernel_4188\\1216653100.py:19: FutureWarning: The default value of regex will change from True to False in a future version.\n",
      "  df['classifier_name']=df['classifier_name'].str.replace(\"\\(lenthg ts\\)//2\",\"half_len\")\n",
      "C:\\Users\\Nicolas R\\AppData\\Local\\Temp\\ipykernel_4188\\1216653100.py:20: FutureWarning: The default value of regex will change from True to False in a future version.\n",
      "  df['classifier_name']=df['classifier_name'].str.replace(\"\\(max instances per class\\)//2\",\"half_instance\")\n",
      "C:\\Users\\Nicolas R\\AppData\\Local\\Temp\\ipykernel_4188\\1216653100.py:19: FutureWarning: The default value of regex will change from True to False in a future version.\n",
      "  df['classifier_name']=df['classifier_name'].str.replace(\"\\(lenthg ts\\)//2\",\"half_len\")\n",
      "C:\\Users\\Nicolas R\\AppData\\Local\\Temp\\ipykernel_4188\\1216653100.py:20: FutureWarning: The default value of regex will change from True to False in a future version.\n",
      "  df['classifier_name']=df['classifier_name'].str.replace(\"\\(max instances per class\\)//2\",\"half_instance\")\n",
      "C:\\Users\\Nicolas R\\AppData\\Local\\Temp\\ipykernel_4188\\1216653100.py:19: FutureWarning: The default value of regex will change from True to False in a future version.\n",
      "  df['classifier_name']=df['classifier_name'].str.replace(\"\\(lenthg ts\\)//2\",\"half_len\")\n",
      "C:\\Users\\Nicolas R\\AppData\\Local\\Temp\\ipykernel_4188\\1216653100.py:20: FutureWarning: The default value of regex will change from True to False in a future version.\n",
      "  df['classifier_name']=df['classifier_name'].str.replace(\"\\(max instances per class\\)//2\",\"half_instance\")\n",
      "C:\\Users\\Nicolas R\\AppData\\Local\\Temp\\ipykernel_4188\\1216653100.py:19: FutureWarning: The default value of regex will change from True to False in a future version.\n",
      "  df['classifier_name']=df['classifier_name'].str.replace(\"\\(lenthg ts\\)//2\",\"half_len\")\n",
      "C:\\Users\\Nicolas R\\AppData\\Local\\Temp\\ipykernel_4188\\1216653100.py:20: FutureWarning: The default value of regex will change from True to False in a future version.\n",
      "  df['classifier_name']=df['classifier_name'].str.replace(\"\\(max instances per class\\)//2\",\"half_instance\")\n",
      "C:\\Users\\Nicolas R\\AppData\\Local\\Temp\\ipykernel_4188\\1216653100.py:19: FutureWarning: The default value of regex will change from True to False in a future version.\n",
      "  df['classifier_name']=df['classifier_name'].str.replace(\"\\(lenthg ts\\)//2\",\"half_len\")\n",
      "C:\\Users\\Nicolas R\\AppData\\Local\\Temp\\ipykernel_4188\\1216653100.py:20: FutureWarning: The default value of regex will change from True to False in a future version.\n",
      "  df['classifier_name']=df['classifier_name'].str.replace(\"\\(max instances per class\\)//2\",\"half_instance\")\n",
      "C:\\Users\\Nicolas R\\AppData\\Local\\Temp\\ipykernel_4188\\1216653100.py:19: FutureWarning: The default value of regex will change from True to False in a future version.\n",
      "  df['classifier_name']=df['classifier_name'].str.replace(\"\\(lenthg ts\\)//2\",\"half_len\")\n",
      "C:\\Users\\Nicolas R\\AppData\\Local\\Temp\\ipykernel_4188\\1216653100.py:20: FutureWarning: The default value of regex will change from True to False in a future version.\n",
      "  df['classifier_name']=df['classifier_name'].str.replace(\"\\(max instances per class\\)//2\",\"half_instance\")\n",
      "C:\\Users\\Nicolas R\\AppData\\Local\\Temp\\ipykernel_4188\\1216653100.py:19: FutureWarning: The default value of regex will change from True to False in a future version.\n",
      "  df['classifier_name']=df['classifier_name'].str.replace(\"\\(lenthg ts\\)//2\",\"half_len\")\n",
      "C:\\Users\\Nicolas R\\AppData\\Local\\Temp\\ipykernel_4188\\1216653100.py:20: FutureWarning: The default value of regex will change from True to False in a future version.\n",
      "  df['classifier_name']=df['classifier_name'].str.replace(\"\\(max instances per class\\)//2\",\"half_instance\")\n",
      "C:\\Users\\Nicolas R\\AppData\\Local\\Temp\\ipykernel_4188\\1216653100.py:19: FutureWarning: The default value of regex will change from True to False in a future version.\n",
      "  df['classifier_name']=df['classifier_name'].str.replace(\"\\(lenthg ts\\)//2\",\"half_len\")\n",
      "C:\\Users\\Nicolas R\\AppData\\Local\\Temp\\ipykernel_4188\\1216653100.py:20: FutureWarning: The default value of regex will change from True to False in a future version.\n",
      "  df['classifier_name']=df['classifier_name'].str.replace(\"\\(max instances per class\\)//2\",\"half_instance\")\n",
      "C:\\Users\\Nicolas R\\AppData\\Local\\Temp\\ipykernel_4188\\1216653100.py:19: FutureWarning: The default value of regex will change from True to False in a future version.\n",
      "  df['classifier_name']=df['classifier_name'].str.replace(\"\\(lenthg ts\\)//2\",\"half_len\")\n",
      "C:\\Users\\Nicolas R\\AppData\\Local\\Temp\\ipykernel_4188\\1216653100.py:20: FutureWarning: The default value of regex will change from True to False in a future version.\n",
      "  df['classifier_name']=df['classifier_name'].str.replace(\"\\(max instances per class\\)//2\",\"half_instance\")\n",
      "C:\\Users\\Nicolas R\\AppData\\Local\\Temp\\ipykernel_4188\\1216653100.py:19: FutureWarning: The default value of regex will change from True to False in a future version.\n",
      "  df['classifier_name']=df['classifier_name'].str.replace(\"\\(lenthg ts\\)//2\",\"half_len\")\n",
      "C:\\Users\\Nicolas R\\AppData\\Local\\Temp\\ipykernel_4188\\1216653100.py:20: FutureWarning: The default value of regex will change from True to False in a future version.\n",
      "  df['classifier_name']=df['classifier_name'].str.replace(\"\\(max instances per class\\)//2\",\"half_instance\")\n",
      "C:\\Users\\Nicolas R\\AppData\\Local\\Temp\\ipykernel_4188\\1216653100.py:19: FutureWarning: The default value of regex will change from True to False in a future version.\n",
      "  df['classifier_name']=df['classifier_name'].str.replace(\"\\(lenthg ts\\)//2\",\"half_len\")\n",
      "C:\\Users\\Nicolas R\\AppData\\Local\\Temp\\ipykernel_4188\\1216653100.py:20: FutureWarning: The default value of regex will change from True to False in a future version.\n",
      "  df['classifier_name']=df['classifier_name'].str.replace(\"\\(max instances per class\\)//2\",\"half_instance\")\n",
      "C:\\Users\\Nicolas R\\AppData\\Local\\Temp\\ipykernel_4188\\1216653100.py:19: FutureWarning: The default value of regex will change from True to False in a future version.\n",
      "  df['classifier_name']=df['classifier_name'].str.replace(\"\\(lenthg ts\\)//2\",\"half_len\")\n",
      "C:\\Users\\Nicolas R\\AppData\\Local\\Temp\\ipykernel_4188\\1216653100.py:20: FutureWarning: The default value of regex will change from True to False in a future version.\n",
      "  df['classifier_name']=df['classifier_name'].str.replace(\"\\(max instances per class\\)//2\",\"half_instance\")\n",
      "C:\\Users\\Nicolas R\\AppData\\Local\\Temp\\ipykernel_4188\\1216653100.py:19: FutureWarning: The default value of regex will change from True to False in a future version.\n",
      "  df['classifier_name']=df['classifier_name'].str.replace(\"\\(lenthg ts\\)//2\",\"half_len\")\n",
      "C:\\Users\\Nicolas R\\AppData\\Local\\Temp\\ipykernel_4188\\1216653100.py:20: FutureWarning: The default value of regex will change from True to False in a future version.\n",
      "  df['classifier_name']=df['classifier_name'].str.replace(\"\\(max instances per class\\)//2\",\"half_instance\")\n",
      "C:\\Users\\Nicolas R\\AppData\\Local\\Temp\\ipykernel_4188\\1216653100.py:19: FutureWarning: The default value of regex will change from True to False in a future version.\n",
      "  df['classifier_name']=df['classifier_name'].str.replace(\"\\(lenthg ts\\)//2\",\"half_len\")\n",
      "C:\\Users\\Nicolas R\\AppData\\Local\\Temp\\ipykernel_4188\\1216653100.py:20: FutureWarning: The default value of regex will change from True to False in a future version.\n",
      "  df['classifier_name']=df['classifier_name'].str.replace(\"\\(max instances per class\\)//2\",\"half_instance\")\n",
      "C:\\Users\\Nicolas R\\AppData\\Local\\Temp\\ipykernel_4188\\1216653100.py:19: FutureWarning: The default value of regex will change from True to False in a future version.\n",
      "  df['classifier_name']=df['classifier_name'].str.replace(\"\\(lenthg ts\\)//2\",\"half_len\")\n",
      "C:\\Users\\Nicolas R\\AppData\\Local\\Temp\\ipykernel_4188\\1216653100.py:20: FutureWarning: The default value of regex will change from True to False in a future version.\n",
      "  df['classifier_name']=df['classifier_name'].str.replace(\"\\(max instances per class\\)//2\",\"half_instance\")\n",
      "C:\\Users\\Nicolas R\\AppData\\Local\\Temp\\ipykernel_4188\\1216653100.py:19: FutureWarning: The default value of regex will change from True to False in a future version.\n",
      "  df['classifier_name']=df['classifier_name'].str.replace(\"\\(lenthg ts\\)//2\",\"half_len\")\n",
      "C:\\Users\\Nicolas R\\AppData\\Local\\Temp\\ipykernel_4188\\1216653100.py:20: FutureWarning: The default value of regex will change from True to False in a future version.\n",
      "  df['classifier_name']=df['classifier_name'].str.replace(\"\\(max instances per class\\)//2\",\"half_instance\")\n",
      "C:\\Users\\Nicolas R\\AppData\\Local\\Temp\\ipykernel_4188\\1216653100.py:19: FutureWarning: The default value of regex will change from True to False in a future version.\n",
      "  df['classifier_name']=df['classifier_name'].str.replace(\"\\(lenthg ts\\)//2\",\"half_len\")\n",
      "C:\\Users\\Nicolas R\\AppData\\Local\\Temp\\ipykernel_4188\\1216653100.py:20: FutureWarning: The default value of regex will change from True to False in a future version.\n",
      "  df['classifier_name']=df['classifier_name'].str.replace(\"\\(max instances per class\\)//2\",\"half_instance\")\n",
      "C:\\Users\\Nicolas R\\AppData\\Local\\Temp\\ipykernel_4188\\1216653100.py:19: FutureWarning: The default value of regex will change from True to False in a future version.\n",
      "  df['classifier_name']=df['classifier_name'].str.replace(\"\\(lenthg ts\\)//2\",\"half_len\")\n",
      "C:\\Users\\Nicolas R\\AppData\\Local\\Temp\\ipykernel_4188\\1216653100.py:20: FutureWarning: The default value of regex will change from True to False in a future version.\n",
      "  df['classifier_name']=df['classifier_name'].str.replace(\"\\(max instances per class\\)//2\",\"half_instance\")\n",
      "C:\\Users\\Nicolas R\\AppData\\Local\\Temp\\ipykernel_4188\\1216653100.py:19: FutureWarning: The default value of regex will change from True to False in a future version.\n",
      "  df['classifier_name']=df['classifier_name'].str.replace(\"\\(lenthg ts\\)//2\",\"half_len\")\n",
      "C:\\Users\\Nicolas R\\AppData\\Local\\Temp\\ipykernel_4188\\1216653100.py:20: FutureWarning: The default value of regex will change from True to False in a future version.\n",
      "  df['classifier_name']=df['classifier_name'].str.replace(\"\\(max instances per class\\)//2\",\"half_instance\")\n",
      "C:\\Users\\Nicolas R\\AppData\\Local\\Temp\\ipykernel_4188\\1216653100.py:19: FutureWarning: The default value of regex will change from True to False in a future version.\n",
      "  df['classifier_name']=df['classifier_name'].str.replace(\"\\(lenthg ts\\)//2\",\"half_len\")\n",
      "C:\\Users\\Nicolas R\\AppData\\Local\\Temp\\ipykernel_4188\\1216653100.py:20: FutureWarning: The default value of regex will change from True to False in a future version.\n",
      "  df['classifier_name']=df['classifier_name'].str.replace(\"\\(max instances per class\\)//2\",\"half_instance\")\n",
      "C:\\Users\\Nicolas R\\AppData\\Local\\Temp\\ipykernel_4188\\1216653100.py:19: FutureWarning: The default value of regex will change from True to False in a future version.\n",
      "  df['classifier_name']=df['classifier_name'].str.replace(\"\\(lenthg ts\\)//2\",\"half_len\")\n",
      "C:\\Users\\Nicolas R\\AppData\\Local\\Temp\\ipykernel_4188\\1216653100.py:20: FutureWarning: The default value of regex will change from True to False in a future version.\n",
      "  df['classifier_name']=df['classifier_name'].str.replace(\"\\(max instances per class\\)//2\",\"half_instance\")\n"
     ]
    },
    {
     "data": {
      "text/html": [
       "<div>\n",
       "<style scoped>\n",
       "    .dataframe tbody tr th:only-of-type {\n",
       "        vertical-align: middle;\n",
       "    }\n",
       "\n",
       "    .dataframe tbody tr th {\n",
       "        vertical-align: top;\n",
       "    }\n",
       "\n",
       "    .dataframe thead th {\n",
       "        text-align: right;\n",
       "    }\n",
       "</style>\n",
       "<table border=\"1\" class=\"dataframe\">\n",
       "  <thead>\n",
       "    <tr style=\"text-align: right;\">\n",
       "      <th></th>\n",
       "      <th>Unnamed: 0</th>\n",
       "      <th>accuracy</th>\n",
       "      <th>time</th>\n",
       "      <th>cweights_time</th>\n",
       "      <th>fsubsequence_time</th>\n",
       "      <th>tdataset_time</th>\n",
       "      <th>tclassifier_time</th>\n",
       "      <th>dataset_name</th>\n",
       "      <th>classifier_name</th>\n",
       "      <th>rpoint</th>\n",
       "      <th>nb_per_class</th>\n",
       "      <th>method</th>\n",
       "      <th>len_method</th>\n",
       "    </tr>\n",
       "  </thead>\n",
       "  <tbody>\n",
       "    <tr>\n",
       "      <th>0</th>\n",
       "      <td>0</td>\n",
       "      <td>0.892128</td>\n",
       "      <td>1.335019</td>\n",
       "      <td>0.075827</td>\n",
       "      <td>0.899491</td>\n",
       "      <td>0.074784</td>\n",
       "      <td>0.203656</td>\n",
       "      <td>Chinatown</td>\n",
       "      <td>ACF&amp;PACF: n_random_points=1 nb_inst_per_class=...</td>\n",
       "      <td>1</td>\n",
       "      <td>half_instance</td>\n",
       "      <td>Rsast</td>\n",
       "      <td>ACF&amp;PACF</td>\n",
       "    </tr>\n",
       "    <tr>\n",
       "      <th>1</th>\n",
       "      <td>1</td>\n",
       "      <td>0.950437</td>\n",
       "      <td>0.037333</td>\n",
       "      <td>0.017771</td>\n",
       "      <td>0.005390</td>\n",
       "      <td>0.010186</td>\n",
       "      <td>0.003520</td>\n",
       "      <td>Chinatown</td>\n",
       "      <td>ACF&amp;PACF: n_random_points= half_len nb_inst_pe...</td>\n",
       "      <td>half_len</td>\n",
       "      <td>1</td>\n",
       "      <td>Rsast</td>\n",
       "      <td>ACF&amp;PACF</td>\n",
       "    </tr>\n",
       "    <tr>\n",
       "      <th>2</th>\n",
       "      <td>2</td>\n",
       "      <td>0.979592</td>\n",
       "      <td>0.057691</td>\n",
       "      <td>0.006401</td>\n",
       "      <td>0.018758</td>\n",
       "      <td>0.027166</td>\n",
       "      <td>0.004895</td>\n",
       "      <td>Chinatown</td>\n",
       "      <td>ACF&amp;PACF: n_random_points= half_len nb_inst_pe...</td>\n",
       "      <td>half_len</td>\n",
       "      <td>half_instance</td>\n",
       "      <td>Rsast</td>\n",
       "      <td>ACF&amp;PACF</td>\n",
       "    </tr>\n",
       "  </tbody>\n",
       "</table>\n",
       "</div>"
      ],
      "text/plain": [
       "   Unnamed: 0  accuracy      time  cweights_time  fsubsequence_time  \\\n",
       "0           0  0.892128  1.335019       0.075827           0.899491   \n",
       "1           1  0.950437  0.037333       0.017771           0.005390   \n",
       "2           2  0.979592  0.057691       0.006401           0.018758   \n",
       "\n",
       "   tdataset_time  tclassifier_time dataset_name  \\\n",
       "0       0.074784          0.203656    Chinatown   \n",
       "1       0.010186          0.003520    Chinatown   \n",
       "2       0.027166          0.004895    Chinatown   \n",
       "\n",
       "                                     classifier_name    rpoint   nb_per_class  \\\n",
       "0  ACF&PACF: n_random_points=1 nb_inst_per_class=...         1  half_instance   \n",
       "1  ACF&PACF: n_random_points= half_len nb_inst_pe...  half_len              1   \n",
       "2  ACF&PACF: n_random_points= half_len nb_inst_pe...  half_len  half_instance   \n",
       "\n",
       "  method len_method  \n",
       "0  Rsast   ACF&PACF  \n",
       "1  Rsast   ACF&PACF  \n",
       "2  Rsast   ACF&PACF  "
      ]
     },
     "execution_count": 155,
     "metadata": {},
     "output_type": "execute_result"
    }
   ],
   "source": [
    "# Set directory where the csv files are located\n",
    "directory = os.getcwd()+'/ResultsRsast'\n",
    "#directory = os.getcwd()+'/results_accuracy_per_ds'\n",
    "\n",
    "# Create an empty list to store the dataframes\n",
    "dfs = []\n",
    "\n",
    "# Loop through all files in the directory\n",
    "for filename in os.listdir(directory):\n",
    "    # Check if the file starts with \"df_overall_tunning\" and ends with \".csv\"\n",
    "    if filename.startswith(\"df_overall_tunning\") and filename.endswith(\".csv\"):\n",
    "        # Read the csv file into a dataframe\n",
    "        filepath = os.path.join(directory, filename)\n",
    "        df = pd.read_csv(filepath)\n",
    "        df['rpoint']=df['rpoint'].astype(str)\n",
    "        df['nb_per_class']=df['nb_per_class'].astype(str)\n",
    "        df['rpoint']=df['rpoint'].replace(\"(lenthg ts)//2\",\"half_len\")\n",
    "        df['nb_per_class']=df['nb_per_class'].replace(\"(max instances per class)//2\",\"half_instance\")\n",
    "        df['classifier_name']=df['classifier_name'].str.replace(\"\\(lenthg ts\\)//2\",\"half_len\")\n",
    "        df['classifier_name']=df['classifier_name'].str.replace(\"\\(max instances per class\\)//2\",\"half_instance\")\n",
    "        # Append the dataframe to the list\n",
    "        dfs.append(df)\n",
    "\n",
    "# Concatenate all the dataframes in the list into one dataframe\n",
    "df_result = pd.concat(dfs, ignore_index=True)\n",
    "df_result.head(3)\n"
   ]
  },
  {
   "cell_type": "code",
   "execution_count": 156,
   "metadata": {},
   "outputs": [],
   "source": [
    "#create dataset to generate cd diagram\n",
    "df_perf=pd.pivot_table(df_result, values='accuracy', index=['classifier_name','dataset_name'], aggfunc='mean')\n",
    "df_perf=df_perf.reset_index()\n",
    "#df_perf.classifier_name.unique()"
   ]
  },
  {
   "cell_type": "code",
   "execution_count": 157,
   "metadata": {},
   "outputs": [],
   "source": [
    "#filter dataset for cd-diagrams with the ds that has already tested all combinations of params\n",
    "param_per_ds=pd.pivot_table(df_perf, index=['dataset_name'],values=['classifier_name'] ,aggfunc='count')\n",
    "param_per_ds=param_per_ds.reset_index()\n",
    "complete_ds=param_per_ds[param_per_ds.classifier_name==max(param_per_ds.classifier_name)][\"dataset_name\"].unique()\n",
    "\n",
    "complete_ds=complete_ds.tolist()\n",
    "\n",
    "#complete_ds.remove('DistalPhalanxOutlineCorrect')\n",
    "\n",
    "df_perf=df_perf[df_perf.dataset_name.isin(complete_ds)]\n",
    "df_result=df_result[df_result.dataset_name.isin(complete_ds)]\n"
   ]
  },
  {
   "cell_type": "code",
   "execution_count": 158,
   "metadata": {},
   "outputs": [
    {
     "data": {
      "text/plain": [
       "array(['Chinatown', 'Coffee', 'DistalPhalanxOutlineAgeGroup',\n",
       "       'DistalPhalanxOutlineCorrect', 'GunPoint', 'ItalyPowerDemand',\n",
       "       'ShapeletSim', 'SmoothSubspace', 'SonyAIBORobotSurface2',\n",
       "       'SyntheticControl'], dtype=object)"
      ]
     },
     "execution_count": 158,
     "metadata": {},
     "output_type": "execute_result"
    }
   ],
   "source": [
    "#get ds tested overall\n",
    "df_result['dataset_name'].unique()"
   ]
  },
  {
   "cell_type": "code",
   "execution_count": 159,
   "metadata": {},
   "outputs": [
    {
     "data": {
      "text/plain": [
       "Index(['Unnamed: 0', 'accuracy', 'time', 'cweights_time', 'fsubsequence_time',\n",
       "       'tdataset_time', 'tclassifier_time', 'dataset_name', 'classifier_name',\n",
       "       'rpoint', 'nb_per_class', 'method', 'len_method'],\n",
       "      dtype='object')"
      ]
     },
     "execution_count": 159,
     "metadata": {},
     "output_type": "execute_result"
    }
   ],
   "source": [
    "#get columns of generated datasets\n",
    "df_result.columns.unique()"
   ]
  },
  {
   "cell_type": "code",
   "execution_count": 160,
   "metadata": {},
   "outputs": [
    {
     "data": {
      "text/plain": [
       "array(['Chinatown', 'Coffee', 'DistalPhalanxOutlineAgeGroup',\n",
       "       'DistalPhalanxOutlineCorrect', 'GunPoint', 'ItalyPowerDemand',\n",
       "       'ShapeletSim', 'SmoothSubspace', 'SonyAIBORobotSurface2',\n",
       "       'SyntheticControl'], dtype=object)"
      ]
     },
     "execution_count": 160,
     "metadata": {},
     "output_type": "execute_result"
    }
   ],
   "source": [
    "#get ds tested overall\n",
    "df_perf['dataset_name'].unique()"
   ]
  },
  {
   "cell_type": "code",
   "execution_count": 161,
   "metadata": {},
   "outputs": [
    {
     "data": {
      "text/plain": [
       "Index(['classifier_name', 'dataset_name', 'accuracy'], dtype='object')"
      ]
     },
     "execution_count": 161,
     "metadata": {},
     "output_type": "execute_result"
    }
   ],
   "source": [
    "#get columns of generated datasets\n",
    "df_perf.columns.unique()"
   ]
  },
  {
   "attachments": {},
   "cell_type": "markdown",
   "metadata": {},
   "source": [
    "### Hyperparameter Tunning RSAST "
   ]
  },
  {
   "attachments": {},
   "cell_type": "markdown",
   "metadata": {},
   "source": [
    "#### Accuracy: Subsequence Lenght Method "
   ]
  },
  {
   "cell_type": "code",
   "execution_count": 162,
   "metadata": {},
   "outputs": [
    {
     "data": {
      "text/plain": [
       "array(['Chinatown', 'Coffee', 'DistalPhalanxOutlineAgeGroup',\n",
       "       'DistalPhalanxOutlineCorrect', 'GunPoint', 'ItalyPowerDemand',\n",
       "       'ShapeletSim', 'SmoothSubspace', 'SonyAIBORobotSurface2',\n",
       "       'SyntheticControl'], dtype=object)"
      ]
     },
     "execution_count": 162,
     "metadata": {},
     "output_type": "execute_result"
    }
   ],
   "source": [
    "filter_param=df_result\n",
    "filter_param.dataset_name.unique()"
   ]
  },
  {
   "cell_type": "code",
   "execution_count": 163,
   "metadata": {},
   "outputs": [
    {
     "data": {
      "text/plain": [
       "array(['half_len'], dtype=object)"
      ]
     },
     "execution_count": 163,
     "metadata": {},
     "output_type": "execute_result"
    }
   ],
   "source": [
    "filter_param=df_result[df_result.rpoint=='half_len']\n",
    "filter_param.rpoint.unique()"
   ]
  },
  {
   "cell_type": "code",
   "execution_count": 164,
   "metadata": {},
   "outputs": [
    {
     "data": {
      "text/plain": [
       "array(['half_instance'], dtype=object)"
      ]
     },
     "execution_count": 164,
     "metadata": {},
     "output_type": "execute_result"
    }
   ],
   "source": [
    "filter_param=filter_param[filter_param.nb_per_class=='half_instance']\n",
    "filter_param.nb_per_class.unique()"
   ]
  },
  {
   "cell_type": "code",
   "execution_count": 165,
   "metadata": {},
   "outputs": [
    {
     "data": {
      "text/html": [
       "<div>\n",
       "<style scoped>\n",
       "    .dataframe tbody tr th:only-of-type {\n",
       "        vertical-align: middle;\n",
       "    }\n",
       "\n",
       "    .dataframe tbody tr th {\n",
       "        vertical-align: top;\n",
       "    }\n",
       "\n",
       "    .dataframe thead th {\n",
       "        text-align: right;\n",
       "    }\n",
       "</style>\n",
       "<table border=\"1\" class=\"dataframe\">\n",
       "  <thead>\n",
       "    <tr style=\"text-align: right;\">\n",
       "      <th></th>\n",
       "      <th>dataset_name</th>\n",
       "      <th>ACF</th>\n",
       "      <th>ACF&amp;PACF</th>\n",
       "      <th>Max ACF</th>\n",
       "      <th>Max PACF</th>\n",
       "      <th>None</th>\n",
       "      <th>PACF</th>\n",
       "      <th>score</th>\n",
       "      <th>method</th>\n",
       "    </tr>\n",
       "  </thead>\n",
       "  <tbody>\n",
       "    <tr>\n",
       "      <th>0</th>\n",
       "      <td>Chinatown</td>\n",
       "      <td>0.945578</td>\n",
       "      <td>0.971817</td>\n",
       "      <td>0.958017</td>\n",
       "      <td>0.971623</td>\n",
       "      <td>0.966375</td>\n",
       "      <td>0.974927</td>\n",
       "      <td>0.982507</td>\n",
       "      <td>ROCKET</td>\n",
       "    </tr>\n",
       "    <tr>\n",
       "      <th>1</th>\n",
       "      <td>Coffee</td>\n",
       "      <td>0.964286</td>\n",
       "      <td>1.000000</td>\n",
       "      <td>0.978571</td>\n",
       "      <td>0.935714</td>\n",
       "      <td>1.000000</td>\n",
       "      <td>1.000000</td>\n",
       "      <td>1.000000</td>\n",
       "      <td>ROCKET</td>\n",
       "    </tr>\n",
       "    <tr>\n",
       "      <th>2</th>\n",
       "      <td>DistalPhalanxOutlineAgeGroup</td>\n",
       "      <td>0.734772</td>\n",
       "      <td>0.724700</td>\n",
       "      <td>0.773621</td>\n",
       "      <td>0.729017</td>\n",
       "      <td>0.729496</td>\n",
       "      <td>0.717506</td>\n",
       "      <td>0.748201</td>\n",
       "      <td>ROCKET</td>\n",
       "    </tr>\n",
       "    <tr>\n",
       "      <th>3</th>\n",
       "      <td>DistalPhalanxOutlineCorrect</td>\n",
       "      <td>0.654106</td>\n",
       "      <td>0.710386</td>\n",
       "      <td>0.666908</td>\n",
       "      <td>0.696135</td>\n",
       "      <td>0.725362</td>\n",
       "      <td>0.719807</td>\n",
       "      <td>0.771739</td>\n",
       "      <td>ROCKET</td>\n",
       "    </tr>\n",
       "    <tr>\n",
       "      <th>4</th>\n",
       "      <td>GunPoint</td>\n",
       "      <td>0.830222</td>\n",
       "      <td>0.976000</td>\n",
       "      <td>0.845778</td>\n",
       "      <td>0.972444</td>\n",
       "      <td>0.965778</td>\n",
       "      <td>0.974667</td>\n",
       "      <td>1.000000</td>\n",
       "      <td>ROCKET</td>\n",
       "    </tr>\n",
       "    <tr>\n",
       "      <th>5</th>\n",
       "      <td>ItalyPowerDemand</td>\n",
       "      <td>0.949660</td>\n",
       "      <td>0.946615</td>\n",
       "      <td>0.952705</td>\n",
       "      <td>0.944866</td>\n",
       "      <td>0.951668</td>\n",
       "      <td>0.944866</td>\n",
       "      <td>0.968902</td>\n",
       "      <td>ROCKET</td>\n",
       "    </tr>\n",
       "    <tr>\n",
       "      <th>6</th>\n",
       "      <td>ShapeletSim</td>\n",
       "      <td>0.987778</td>\n",
       "      <td>0.927778</td>\n",
       "      <td>0.987778</td>\n",
       "      <td>0.717778</td>\n",
       "      <td>0.878889</td>\n",
       "      <td>0.911667</td>\n",
       "      <td>1.000000</td>\n",
       "      <td>ROCKET</td>\n",
       "    </tr>\n",
       "    <tr>\n",
       "      <th>7</th>\n",
       "      <td>SmoothSubspace</td>\n",
       "      <td>0.870222</td>\n",
       "      <td>0.910667</td>\n",
       "      <td>0.879556</td>\n",
       "      <td>0.896889</td>\n",
       "      <td>0.876000</td>\n",
       "      <td>0.908889</td>\n",
       "      <td>0.980000</td>\n",
       "      <td>ROCKET</td>\n",
       "    </tr>\n",
       "    <tr>\n",
       "      <th>8</th>\n",
       "      <td>SonyAIBORobotSurface2</td>\n",
       "      <td>0.751242</td>\n",
       "      <td>0.899685</td>\n",
       "      <td>0.756348</td>\n",
       "      <td>0.866387</td>\n",
       "      <td>0.837356</td>\n",
       "      <td>0.893319</td>\n",
       "      <td>0.916055</td>\n",
       "      <td>ROCKET</td>\n",
       "    </tr>\n",
       "    <tr>\n",
       "      <th>9</th>\n",
       "      <td>SyntheticControl</td>\n",
       "      <td>0.920000</td>\n",
       "      <td>0.967333</td>\n",
       "      <td>0.896000</td>\n",
       "      <td>0.963333</td>\n",
       "      <td>0.981333</td>\n",
       "      <td>0.966667</td>\n",
       "      <td>1.000000</td>\n",
       "      <td>ROCKET</td>\n",
       "    </tr>\n",
       "  </tbody>\n",
       "</table>\n",
       "</div>"
      ],
      "text/plain": [
       "                   dataset_name       ACF  ACF&PACF   Max ACF  Max PACF  \\\n",
       "0                     Chinatown  0.945578  0.971817  0.958017  0.971623   \n",
       "1                        Coffee  0.964286  1.000000  0.978571  0.935714   \n",
       "2  DistalPhalanxOutlineAgeGroup  0.734772  0.724700  0.773621  0.729017   \n",
       "3   DistalPhalanxOutlineCorrect  0.654106  0.710386  0.666908  0.696135   \n",
       "4                      GunPoint  0.830222  0.976000  0.845778  0.972444   \n",
       "5              ItalyPowerDemand  0.949660  0.946615  0.952705  0.944866   \n",
       "6                   ShapeletSim  0.987778  0.927778  0.987778  0.717778   \n",
       "7                SmoothSubspace  0.870222  0.910667  0.879556  0.896889   \n",
       "8         SonyAIBORobotSurface2  0.751242  0.899685  0.756348  0.866387   \n",
       "9              SyntheticControl  0.920000  0.967333  0.896000  0.963333   \n",
       "\n",
       "       None      PACF     score  method  \n",
       "0  0.966375  0.974927  0.982507  ROCKET  \n",
       "1  1.000000  1.000000  1.000000  ROCKET  \n",
       "2  0.729496  0.717506  0.748201  ROCKET  \n",
       "3  0.725362  0.719807  0.771739  ROCKET  \n",
       "4  0.965778  0.974667  1.000000  ROCKET  \n",
       "5  0.951668  0.944866  0.968902  ROCKET  \n",
       "6  0.878889  0.911667  1.000000  ROCKET  \n",
       "7  0.876000  0.908889  0.980000  ROCKET  \n",
       "8  0.837356  0.893319  0.916055  ROCKET  \n",
       "9  0.981333  0.966667  1.000000  ROCKET  "
      ]
     },
     "execution_count": 165,
     "metadata": {},
     "output_type": "execute_result"
    }
   ],
   "source": [
    "# create a pivot table with the mean of score by dataset\n",
    "len_method_vs_ds=pd.pivot_table(filter_param, values='accuracy', index=['len_method'],columns=['dataset_name'], aggfunc='mean')\n",
    "len_method_vs_ds=np.transpose(len_method_vs_ds)#[['ACF','PACF']]\n",
    "len_method_vs_ds=len_method_vs_ds.reset_index()\n",
    "df_rocket=df_other_methods[df_other_methods[\"method\"]==\"ROCKET\"]\n",
    "merged_df = len_method_vs_ds.merge(df_rocket,left_on='dataset_name', right_on='dataset',  how='left')\n",
    "merged_df=merged_df.drop('dataset',axis=1)\n",
    "merged_df"
   ]
  },
  {
   "cell_type": "code",
   "execution_count": 166,
   "metadata": {},
   "outputs": [
    {
     "name": "stdout",
     "output_type": "stream",
     "text": [
      "\n",
      "\n"
     ]
    },
    {
     "data": {
      "text/html": [
       "<div>\n",
       "<style scoped>\n",
       "    .dataframe tbody tr th:only-of-type {\n",
       "        vertical-align: middle;\n",
       "    }\n",
       "\n",
       "    .dataframe tbody tr th {\n",
       "        vertical-align: top;\n",
       "    }\n",
       "\n",
       "    .dataframe thead th {\n",
       "        text-align: right;\n",
       "    }\n",
       "</style>\n",
       "<table border=\"1\" class=\"dataframe\">\n",
       "  <thead>\n",
       "    <tr style=\"text-align: right;\">\n",
       "      <th></th>\n",
       "      <th>N</th>\n",
       "      <th>Mean</th>\n",
       "      <th>SD</th>\n",
       "      <th>SE</th>\n",
       "      <th>95% Conf.</th>\n",
       "      <th>Interval</th>\n",
       "    </tr>\n",
       "    <tr>\n",
       "      <th>len_method</th>\n",
       "      <th></th>\n",
       "      <th></th>\n",
       "      <th></th>\n",
       "      <th></th>\n",
       "      <th></th>\n",
       "      <th></th>\n",
       "    </tr>\n",
       "  </thead>\n",
       "  <tbody>\n",
       "    <tr>\n",
       "      <th>ACF</th>\n",
       "      <td>125</td>\n",
       "      <td>0.8427</td>\n",
       "      <td>0.1139</td>\n",
       "      <td>0.0102</td>\n",
       "      <td>0.8225</td>\n",
       "      <td>0.8629</td>\n",
       "    </tr>\n",
       "    <tr>\n",
       "      <th>ACF&amp;PACF</th>\n",
       "      <td>125</td>\n",
       "      <td>0.8897</td>\n",
       "      <td>0.1016</td>\n",
       "      <td>0.0091</td>\n",
       "      <td>0.8717</td>\n",
       "      <td>0.9077</td>\n",
       "    </tr>\n",
       "    <tr>\n",
       "      <th>Max ACF</th>\n",
       "      <td>125</td>\n",
       "      <td>0.8540</td>\n",
       "      <td>0.1069</td>\n",
       "      <td>0.0096</td>\n",
       "      <td>0.8350</td>\n",
       "      <td>0.8729</td>\n",
       "    </tr>\n",
       "    <tr>\n",
       "      <th>Max PACF</th>\n",
       "      <td>125</td>\n",
       "      <td>0.8627</td>\n",
       "      <td>0.1103</td>\n",
       "      <td>0.0099</td>\n",
       "      <td>0.8431</td>\n",
       "      <td>0.8822</td>\n",
       "    </tr>\n",
       "    <tr>\n",
       "      <th>None</th>\n",
       "      <td>125</td>\n",
       "      <td>0.8758</td>\n",
       "      <td>0.1012</td>\n",
       "      <td>0.0091</td>\n",
       "      <td>0.8579</td>\n",
       "      <td>0.8937</td>\n",
       "    </tr>\n",
       "    <tr>\n",
       "      <th>PACF</th>\n",
       "      <td>125</td>\n",
       "      <td>0.8877</td>\n",
       "      <td>0.1008</td>\n",
       "      <td>0.0090</td>\n",
       "      <td>0.8698</td>\n",
       "      <td>0.9055</td>\n",
       "    </tr>\n",
       "  </tbody>\n",
       "</table>\n",
       "</div>"
      ],
      "text/plain": [
       "              N    Mean      SD      SE  95% Conf.  Interval\n",
       "len_method                                                  \n",
       "ACF         125  0.8427  0.1139  0.0102     0.8225    0.8629\n",
       "ACF&PACF    125  0.8897  0.1016  0.0091     0.8717    0.9077\n",
       "Max ACF     125  0.8540  0.1069  0.0096     0.8350    0.8729\n",
       "Max PACF    125  0.8627  0.1103  0.0099     0.8431    0.8822\n",
       "None        125  0.8758  0.1012  0.0091     0.8579    0.8937\n",
       "PACF        125  0.8877  0.1008  0.0090     0.8698    0.9055"
      ]
     },
     "execution_count": 166,
     "metadata": {},
     "output_type": "execute_result"
    }
   ],
   "source": [
    "\n",
    "# Summary statistics for a Series (single variable)\n",
    "researchpy.summary_cont(filter_param.groupby(['len_method'])['accuracy'], conf = 0.95)"
   ]
  },
  {
   "cell_type": "code",
   "execution_count": 167,
   "metadata": {},
   "outputs": [
    {
     "name": "stdout",
     "output_type": "stream",
     "text": [
      "                mean  count       std   ci95_hi   ci95_lo\n",
      "len_method                                               \n",
      "ACF         0.842690    125  0.113885  0.862655  0.822725\n",
      "ACF&PACF    0.889700    125  0.101591  0.907510  0.871890\n",
      "Max ACF     0.853957    125  0.106922  0.872701  0.835213\n",
      "Max PACF    0.862667    125  0.110287  0.882002  0.843333\n",
      "None        0.875809    125  0.101217  0.893553  0.858065\n",
      "PACF        0.887678    125  0.100836  0.905355  0.870000\n"
     ]
    }
   ],
   "source": [
    "stats = filter_param.groupby(['len_method'])['accuracy'].agg(['mean', 'count', 'std'])\n",
    "\n",
    "ci95_hi = []\n",
    "ci95_lo = []\n",
    "\n",
    "for i in stats.index:\n",
    "    m, c, s = stats.loc[i]\n",
    "    ci95_hi.append(m + 1.96*s/math.sqrt(c))\n",
    "    ci95_lo.append(m - 1.96*s/math.sqrt(c))\n",
    "\n",
    "stats['ci95_hi'] = ci95_hi\n",
    "stats['ci95_lo'] = ci95_lo\n",
    "print(stats.head(10))"
   ]
  },
  {
   "attachments": {},
   "cell_type": "markdown",
   "metadata": {},
   "source": [
    "#### Generate Boxplot Tunning Hyperparameter"
   ]
  },
  {
   "cell_type": "code",
   "execution_count": 168,
   "metadata": {},
   "outputs": [
    {
     "data": {
      "text/plain": [
       "array(['half_instance', '1', '10', '30', '50', '100'], dtype=object)"
      ]
     },
     "execution_count": 168,
     "metadata": {},
     "output_type": "execute_result"
    }
   ],
   "source": [
    "df_result.nb_per_class.unique()"
   ]
  },
  {
   "cell_type": "code",
   "execution_count": 169,
   "metadata": {},
   "outputs": [
    {
     "data": {
      "text/plain": [
       "array(['ACF&PACF', 'ACF', 'PACF', 'Max ACF', 'Max PACF', 'None'],\n",
       "      dtype=object)"
      ]
     },
     "execution_count": 169,
     "metadata": {},
     "output_type": "execute_result"
    }
   ],
   "source": [
    "df_result.len_method.unique()"
   ]
  },
  {
   "cell_type": "code",
   "execution_count": 170,
   "metadata": {},
   "outputs": [
    {
     "name": "stdout",
     "output_type": "stream",
     "text": [
      "rpoint          1         10         30         50        100   half_len\n",
      "count   10.000000  10.000000  10.000000  10.000000  10.000000  10.000000\n",
      "mean     0.893693   0.899511   0.907388   0.903844   0.909197   0.903498\n",
      "std      0.092778   0.103814   0.101120   0.100272   0.099231   0.102787\n",
      "min      0.708937   0.708937   0.706522   0.717391   0.719807   0.710386\n",
      "25%      0.887493   0.889974   0.913276   0.888848   0.907335   0.902431\n",
      "50%      0.918889   0.929802   0.939456   0.931701   0.937071   0.937196\n",
      "75%      0.946568   0.971363   0.970634   0.976389   0.978333   0.970696\n",
      "max      1.000000   1.000000   1.000000   1.000000   1.000000   1.000000\n",
      "rpoint          1         10         30         50        100   half_len\n",
      "count   10.000000  10.000000  10.000000  10.000000  10.000000  10.000000\n",
      "mean     0.804734   0.850170   0.870739   0.861287   0.869771   0.860787\n",
      "std      0.122360   0.119184   0.114039   0.116642   0.112687   0.114043\n",
      "min      0.634488   0.683806   0.652174   0.641304   0.646135   0.654106\n",
      "25%      0.703513   0.739832   0.812940   0.771415   0.810626   0.770987\n",
      "50%      0.797857   0.874444   0.912222   0.895000   0.898889   0.895111\n",
      "75%      0.912904   0.959184   0.961471   0.952381   0.961289   0.948639\n",
      "max      0.972222   0.986111   0.983333   0.988889   0.994444   0.987778\n",
      "rpoint          1         10         30         50        100   half_len\n",
      "count   10.000000  10.000000  10.000000  10.000000  10.000000  10.000000\n",
      "mean     0.889963   0.902508   0.902513   0.903491   0.905438   0.901231\n",
      "std      0.088795   0.103233   0.105091   0.098105   0.105955   0.102016\n",
      "min      0.731884   0.708937   0.707434   0.728261   0.697842   0.717506\n",
      "25%      0.869759   0.898955   0.890684   0.897335   0.906810   0.897212\n",
      "50%      0.911667   0.938067   0.942488   0.930243   0.943112   0.928266\n",
      "75%      0.946064   0.971667   0.971983   0.971667   0.973333   0.972667\n",
      "max      1.000000   1.000000   1.000000   1.000000   1.000000   1.000000\n",
      "rpoint          1         10         30         50        100   half_len\n",
      "count   10.000000  10.000000  10.000000  10.000000  10.000000  10.000000\n",
      "mean     0.810173   0.858533   0.852121   0.872554   0.870028   0.869528\n",
      "std      0.115640   0.105453   0.114303   0.109221   0.110379   0.108038\n",
      "min      0.645331   0.704106   0.673913   0.671498   0.665459   0.666908\n",
      "25%      0.705707   0.772470   0.772894   0.791651   0.783267   0.791660\n",
      "50%      0.828889   0.883889   0.897540   0.896667   0.909444   0.887778\n",
      "75%      0.893214   0.945943   0.942481   0.951652   0.958860   0.956689\n",
      "max      0.965015   0.991667   0.983333   1.000000   0.986111   0.987778\n",
      "rpoint          1         10         30         50        100   half_len\n",
      "count   10.000000  10.000000  10.000000  10.000000  10.000000  10.000000\n",
      "mean     0.857682   0.858684   0.869189   0.869879   0.866743   0.869419\n",
      "std      0.118759   0.128478   0.120759   0.116501   0.113133   0.112282\n",
      "min      0.644444   0.608333   0.672222   0.688889   0.699275   0.696135\n",
      "25%      0.768654   0.766070   0.762036   0.762698   0.757177   0.763359\n",
      "50%      0.880162   0.924286   0.920706   0.925397   0.917619   0.916302\n",
      "75%      0.941199   0.945747   0.963770   0.957923   0.947761   0.958716\n",
      "max      1.000000   0.964444   0.977648   0.976676   0.979592   0.972444\n",
      "rpoint          1         10         30         50        100   half_len\n",
      "count   10.000000  10.000000  10.000000  10.000000  10.000000  10.000000\n",
      "mean     0.853750   0.881965   0.877243   0.890415   0.899539   0.891226\n",
      "std      0.111176   0.098450   0.108800   0.095798   0.096643   0.100975\n",
      "min      0.652778   0.723430   0.729017   0.729017   0.719424   0.725362\n",
      "25%      0.768049   0.810874   0.768372   0.848778   0.890237   0.847017\n",
      "50%      0.893285   0.914286   0.914444   0.919109   0.931122   0.915279\n",
      "75%      0.930476   0.953382   0.965581   0.955295   0.954519   0.966226\n",
      "max      0.993333   0.983333   1.000000   1.000000   1.000000   1.000000\n",
      "rpoint          1         10         30         50        100   half_len\n",
      "count   10.000000  10.000000  10.000000  10.000000  10.000000  10.000000\n",
      "mean     0.799773   0.857319   0.868580   0.875485   0.878734   0.865881\n",
      "std      0.137313   0.091929   0.095599   0.090687   0.092012   0.090882\n",
      "min      0.555556   0.740338   0.734300   0.712560   0.722222   0.722222\n",
      "25%      0.714557   0.768023   0.789167   0.846761   0.813907   0.785640\n",
      "50%      0.795617   0.872935   0.865745   0.899815   0.914444   0.895556\n",
      "75%      0.898110   0.917745   0.950457   0.925925   0.946064   0.934626\n",
      "max      1.000000   1.000000   1.000000   1.000000   1.000000   0.964286\n",
      "rpoint          1         10         30         50        100   half_len\n",
      "count   10.000000  10.000000  10.000000  10.000000  10.000000  10.000000\n",
      "mean     0.605141   0.744116   0.783938   0.786699   0.800382   0.766597\n",
      "std      0.103144   0.103557   0.141446   0.141581   0.140956   0.152027\n",
      "min      0.493333   0.628019   0.586667   0.610000   0.618357   0.516667\n",
      "25%      0.557766   0.665000   0.671756   0.681681   0.683867   0.654561\n",
      "50%      0.574951   0.716259   0.768889   0.728889   0.771111   0.763333\n",
      "75%      0.619674   0.827046   0.904215   0.932337   0.915452   0.881072\n",
      "max      0.857143   0.921283   0.987037   0.974074   1.000000   1.000000\n",
      "rpoint          1         10         30         50        100   half_len\n",
      "count   10.000000  10.000000  10.000000  10.000000  10.000000  10.000000\n",
      "mean     0.831228   0.862148   0.886045   0.874739   0.879486   0.879930\n",
      "std      0.139304   0.093899   0.080871   0.086887   0.080869   0.090070\n",
      "min      0.557778   0.735507   0.756039   0.740338   0.748792   0.731884\n",
      "25%      0.746046   0.791389   0.848850   0.809421   0.837500   0.825887\n",
      "50%      0.847911   0.854152   0.911111   0.899259   0.890940   0.905833\n",
      "75%      0.941296   0.943149   0.937149   0.940719   0.942015   0.942089\n",
      "max      1.000000   1.000000   1.000000   0.986667   0.968889   1.000000\n",
      "rpoint          1         10         30         50        100   half_len\n",
      "count   10.000000  10.000000  10.000000  10.000000  10.000000  10.000000\n",
      "mean     0.591463   0.706184   0.797400   0.788131   0.770249   0.792806\n",
      "std      0.064323   0.118465   0.113438   0.145245   0.130335   0.124605\n",
      "min      0.496296   0.535714   0.648551   0.540000   0.546667   0.647343\n",
      "25%      0.558753   0.637543   0.695000   0.686236   0.686555   0.669868\n",
      "50%      0.576173   0.670157   0.800000   0.798889   0.758889   0.805278\n",
      "75%      0.636514   0.768333   0.876640   0.911504   0.872996   0.886285\n",
      "max      0.714286   0.890185   0.955296   0.977778   0.953704   1.000000\n",
      "rpoint          1         10         30         50        100   half_len\n",
      "count   10.000000  10.000000  10.000000  10.000000  10.000000  10.000000\n",
      "mean     0.712528   0.832496   0.843638   0.836384   0.828803   0.833500\n",
      "std      0.130744   0.146360   0.116411   0.142829   0.134607   0.124870\n",
      "min      0.546667   0.512963   0.627778   0.570370   0.585185   0.588889\n",
      "25%      0.609903   0.747544   0.756575   0.726753   0.738269   0.749117\n",
      "50%      0.702593   0.878889   0.867205   0.886811   0.848511   0.854162\n",
      "75%      0.805173   0.943513   0.931730   0.949046   0.941372   0.926749\n",
      "max      0.928571   0.980000   0.986667   0.993333   0.983333   0.986667\n",
      "rpoint          1         10         30         50        100   half_len\n",
      "count   10.000000  10.000000  10.000000  10.000000  10.000000  10.000000\n",
      "mean     0.718681   0.814299   0.807030   0.827305   0.818075   0.790395\n",
      "std      0.145285   0.147802   0.127980   0.124406   0.114060   0.147141\n",
      "min      0.522222   0.511111   0.600000   0.668519   0.672222   0.466667\n",
      "25%      0.610305   0.724300   0.719991   0.711391   0.729700   0.731499\n",
      "50%      0.708773   0.816333   0.816182   0.841485   0.791353   0.806252\n",
      "75%      0.812298   0.949142   0.871195   0.923333   0.914699   0.882282\n",
      "max      0.940000   0.970000   1.000000   1.000000   0.980000   1.000000\n",
      "rpoint          1         10         30         50        100   half_len\n",
      "count   10.000000  10.000000  10.000000  10.000000  10.000000  10.000000\n",
      "mean     0.874915   0.896185   0.894519   0.897545   0.892935   0.892052\n",
      "std      0.088098   0.100044   0.106706   0.105250   0.109931   0.100692\n",
      "min      0.746377   0.712560   0.705036   0.709832   0.697842   0.714628\n",
      "25%      0.805833   0.870370   0.866574   0.882500   0.876296   0.865833\n",
      "50%      0.889551   0.915880   0.922992   0.921606   0.924346   0.913741\n",
      "75%      0.941367   0.975000   0.975833   0.978333   0.972500   0.967500\n",
      "max      1.000000   1.000000   1.000000   1.000000   1.000000   1.000000\n",
      "rpoint          1         10         30         50        100   half_len\n",
      "count   10.000000  10.000000  10.000000  10.000000  10.000000  10.000000\n",
      "mean     0.806110   0.843370   0.853092   0.854481   0.865530   0.849961\n",
      "std      0.125357   0.110479   0.112404   0.108139   0.104821   0.117261\n",
      "min      0.617150   0.693237   0.701691   0.712560   0.701691   0.675121\n",
      "25%      0.701055   0.769731   0.754565   0.750491   0.815229   0.748578\n",
      "50%      0.834444   0.811111   0.855000   0.865000   0.850556   0.841111\n",
      "75%      0.908730   0.960743   0.960743   0.954568   0.962200   0.961957\n",
      "max      0.958536   0.972222   0.985185   0.979630   0.988889   0.988889\n",
      "rpoint          1         10         30         50        100   half_len\n",
      "count   10.000000  10.000000  10.000000  10.000000  10.000000  10.000000\n",
      "mean     0.876444   0.898232   0.899751   0.897876   0.893468   0.886383\n",
      "std      0.087746   0.100398   0.103652   0.106342   0.102013   0.111806\n",
      "min      0.741546   0.719424   0.707434   0.697842   0.705036   0.694444\n",
      "25%      0.830833   0.883611   0.885840   0.883889   0.867963   0.852500\n",
      "50%      0.878409   0.926341   0.926122   0.924987   0.925032   0.920783\n",
      "75%      0.947927   0.972298   0.976667   0.977714   0.965000   0.968333\n",
      "max      1.000000   1.000000   1.000000   1.000000   1.000000   1.000000\n",
      "rpoint          1         10         30         50        100   half_len\n",
      "count   10.000000  10.000000  10.000000  10.000000  10.000000  10.000000\n",
      "mean     0.770244   0.836210   0.854651   0.879997   0.877612   0.858970\n",
      "std      0.127027   0.121917   0.111757   0.099427   0.099887   0.111145\n",
      "min      0.616667   0.695444   0.683575   0.725845   0.724638   0.693237\n",
      "25%      0.680832   0.719828   0.787222   0.815256   0.794005   0.784841\n",
      "50%      0.751587   0.822222   0.825972   0.880556   0.878889   0.838889\n",
      "75%      0.842500   0.961957   0.955782   0.967768   0.963233   0.959346\n",
      "max      0.962099   0.981481   1.000000   1.000000   1.000000   1.000000\n",
      "rpoint          1         10         30         50        100   half_len\n",
      "count   10.000000  10.000000  10.000000  10.000000  10.000000  10.000000\n",
      "mean     0.854230   0.880912   0.872923   0.873311   0.878174   0.879733\n",
      "std      0.112950   0.088103   0.093600   0.096818   0.100137   0.095878\n",
      "min      0.638889   0.736715   0.722222   0.707729   0.702899   0.727053\n",
      "25%      0.771019   0.817878   0.815833   0.817713   0.826221   0.826111\n",
      "50%      0.882945   0.914286   0.897304   0.894286   0.910952   0.900802\n",
      "75%      0.938039   0.942483   0.941303   0.941997   0.947923   0.953733\n",
      "max      0.993333   0.982507   0.985423   0.985423   0.985423   0.982507\n",
      "rpoint          1         10         30         50        100   half_len\n",
      "count   10.000000  10.000000  10.000000  10.000000  10.000000  10.000000\n",
      "mean     0.835698   0.853722   0.852472   0.861485   0.878492   0.854451\n",
      "std      0.139278   0.133677   0.153023   0.125630   0.108304   0.151814\n",
      "min      0.548148   0.570370   0.511111   0.635185   0.721823   0.502778\n",
      "25%      0.743580   0.772669   0.764061   0.757714   0.786389   0.778490\n",
      "50%      0.880016   0.892597   0.905595   0.901630   0.907434   0.907797\n",
      "75%      0.932143   0.950536   0.966389   0.960833   0.966667   0.966071\n",
      "max      0.990000   1.000000   1.000000   1.000000   1.000000   0.976667\n",
      "rpoint          1         10         30         50        100   half_len\n",
      "count   10.000000  10.000000  10.000000  10.000000  10.000000  10.000000\n",
      "mean     0.897157   0.903571   0.901034   0.904518   0.902785   0.904683\n",
      "std      0.091999   0.102871   0.105139   0.100742   0.104523   0.105521\n",
      "min      0.722222   0.714628   0.712230   0.725845   0.712560   0.716184\n",
      "25%      0.887752   0.892018   0.890115   0.889862   0.891251   0.890377\n",
      "50%      0.921667   0.935821   0.929478   0.932974   0.935844   0.938345\n",
      "75%      0.953110   0.977194   0.976667   0.977714   0.975833   0.981567\n",
      "max      1.000000   1.000000   1.000000   1.000000   1.000000   1.000000\n",
      "rpoint          1         10         30         50        100   half_len\n",
      "count   10.000000  10.000000  10.000000  10.000000  10.000000  10.000000\n",
      "mean     0.810879   0.867973   0.881012   0.877885   0.873239   0.875942\n",
      "std      0.114251   0.109663   0.103343   0.105182   0.106585   0.107300\n",
      "min      0.666667   0.700483   0.714628   0.698068   0.685990   0.688406\n",
      "25%      0.698518   0.779471   0.824052   0.828464   0.807339   0.824858\n",
      "50%      0.825238   0.898889   0.921667   0.910000   0.908889   0.905556\n",
      "75%      0.916171   0.960986   0.961714   0.960581   0.961310   0.961552\n",
      "max      0.951733   0.988889   0.988889   0.987037   0.987037   0.986111\n",
      "rpoint          1         10         30         50        100   half_len\n",
      "count   10.000000  10.000000  10.000000  10.000000  10.000000  10.000000\n",
      "mean     0.891098   0.900273   0.900843   0.902865   0.902254   0.901725\n",
      "std      0.095626   0.102441   0.107510   0.105857   0.105635   0.106901\n",
      "min      0.726619   0.712230   0.700240   0.709832   0.697842   0.695444\n",
      "25%      0.867306   0.886200   0.891941   0.890278   0.892378   0.890289\n",
      "50%      0.914248   0.927557   0.931561   0.932695   0.934571   0.935057\n",
      "75%      0.952410   0.972222   0.975833   0.979167   0.975000   0.976667\n",
      "max      1.000000   1.000000   1.000000   1.000000   1.000000   1.000000\n",
      "rpoint          1         10         30         50        100   half_len\n",
      "count   10.000000  10.000000  10.000000  10.000000  10.000000  10.000000\n",
      "mean     0.824975   0.869437   0.877204   0.883262   0.889054   0.883921\n",
      "std      0.109701   0.106919   0.103391   0.106930   0.098285   0.098145\n",
      "min      0.683575   0.702899   0.702899   0.702899   0.712560   0.716184\n",
      "25%      0.715895   0.796013   0.797602   0.782958   0.821537   0.830718\n",
      "50%      0.834815   0.902778   0.908333   0.930000   0.913333   0.890556\n",
      "75%      0.918095   0.960155   0.958455   0.963557   0.968416   0.963476\n",
      "max      0.961451   0.992593   1.000000   1.000000   1.000000   1.000000\n",
      "rpoint          1         10         30         50        100   half_len\n",
      "count   10.000000  10.000000  10.000000  10.000000  10.000000  10.000000\n",
      "mean     0.879844   0.880236   0.886155   0.881951   0.883099   0.885504\n",
      "std      0.095980   0.100583   0.100981   0.102795   0.102349   0.096679\n",
      "min      0.733092   0.719807   0.710145   0.705314   0.706522   0.724221\n",
      "25%      0.795151   0.799709   0.828263   0.828165   0.830943   0.829215\n",
      "50%      0.910777   0.923175   0.926508   0.914286   0.917619   0.918730\n",
      "75%      0.957060   0.955423   0.963976   0.963652   0.961961   0.956961\n",
      "max      0.990000   0.980564   0.985423   0.985423   0.985423   0.984451\n",
      "rpoint          1         10         30         50        100   half_len\n",
      "count   10.000000  10.000000  10.000000  10.000000  10.000000  10.000000\n",
      "mean     0.870031   0.865314   0.863652   0.876255   0.887540   0.882560\n",
      "std      0.118867   0.134694   0.151012   0.126057   0.114779   0.106871\n",
      "min      0.677778   0.577778   0.542593   0.662963   0.705036   0.719424\n",
      "25%      0.760552   0.775174   0.769979   0.760019   0.786303   0.799303\n",
      "50%      0.914114   0.932232   0.937778   0.931607   0.936352   0.913204\n",
      "75%      0.961608   0.962103   0.961856   0.974830   0.975350   0.964310\n",
      "max      1.000000   0.976676   1.000000   1.000000   1.000000   1.000000\n",
      "rpoint          1         10         30         50        100   half_len\n",
      "count   10.000000  10.000000  10.000000  10.000000  10.000000  10.000000\n",
      "mean     0.887093   0.903483   0.905264   0.904572   0.907624   0.907050\n",
      "std      0.098551   0.103412   0.103309   0.104482   0.101253   0.104901\n",
      "min      0.721014   0.714628   0.713768   0.714628   0.721823   0.717391\n",
      "25%      0.846062   0.892892   0.893242   0.894029   0.891251   0.890464\n",
      "50%      0.912164   0.941885   0.941539   0.938367   0.945844   0.947279\n",
      "75%      0.954704   0.969167   0.975833   0.977500   0.977500   0.979485\n",
      "max      1.000000   1.000000   1.000000   1.000000   1.000000   1.000000\n",
      "rpoint          1         10         30         50        100   half_len\n",
      "count   10.000000  10.000000  10.000000  10.000000  10.000000  10.000000\n",
      "mean     0.807453   0.869188   0.874166   0.879415   0.879707   0.880611\n",
      "std      0.100775   0.112591   0.108546   0.110915   0.110548   0.107692\n",
      "min      0.657005   0.682367   0.695652   0.660628   0.673913   0.684783\n",
      "25%      0.742483   0.780721   0.806901   0.819000   0.822312   0.821175\n",
      "50%      0.814074   0.916111   0.926111   0.938889   0.930266   0.930556\n",
      "75%      0.854524   0.959771   0.960257   0.959508   0.962381   0.960986\n",
      "max      0.957564   0.987037   0.981481   0.987037   0.988889   0.988889\n",
      "rpoint          1         10         30         50        100   half_len\n",
      "count   10.000000  10.000000  10.000000  10.000000  10.000000  10.000000\n",
      "mean     0.894244   0.900251   0.904883   0.904078   0.900259   0.904118\n",
      "std      0.097170   0.108116   0.106462   0.104134   0.111935   0.105818\n",
      "min      0.728261   0.693046   0.705036   0.707434   0.690647   0.712230\n",
      "25%      0.867778   0.892455   0.892980   0.889688   0.888211   0.890464\n",
      "50%      0.921425   0.938043   0.945057   0.935520   0.942996   0.940266\n",
      "75%      0.965556   0.968333   0.976667   0.978333   0.972500   0.978333\n",
      "max      1.000000   1.000000   1.000000   1.000000   1.000000   1.000000\n",
      "rpoint          1         10         30         50        100   half_len\n",
      "count   10.000000  10.000000  10.000000  10.000000  10.000000  10.000000\n",
      "mean     0.803384   0.869500   0.886428   0.878676   0.890951   0.888750\n",
      "std      0.109096   0.110689   0.099751   0.105503   0.105631   0.107247\n",
      "min      0.634058   0.710145   0.736715   0.694444   0.669082   0.685990\n",
      "25%      0.719596   0.757882   0.802417   0.792125   0.842060   0.830656\n",
      "50%      0.802222   0.921111   0.927222   0.928333   0.933889   0.928889\n",
      "75%      0.875754   0.961067   0.962585   0.958212   0.965015   0.970360\n",
      "max      0.961451   0.983333   1.000000   0.983333   1.000000   1.000000\n",
      "rpoint          1         10         30         50        100   half_len\n",
      "count   10.000000  10.000000  10.000000  10.000000  10.000000  10.000000\n",
      "mean     0.849325   0.883531   0.883664   0.883297   0.883201   0.884501\n",
      "std      0.107638   0.099122   0.106201   0.104689   0.105448   0.101780\n",
      "min      0.720370   0.725845   0.707434   0.708937   0.707729   0.712560\n",
      "25%      0.739457   0.805002   0.815851   0.818443   0.823999   0.829127\n",
      "50%      0.848492   0.932063   0.929841   0.932063   0.925397   0.926508\n",
      "75%      0.947089   0.955828   0.964647   0.958328   0.966071   0.959380\n",
      "max      1.000000   0.981535   0.985423   0.985423   0.985423   0.981535\n",
      "rpoint          1         10         30         50        100   half_len\n",
      "count   10.000000  10.000000  10.000000  10.000000  10.000000  10.000000\n",
      "mean     0.835061   0.865984   0.870207   0.888803   0.875705   0.876115\n",
      "std      0.150172   0.146450   0.127518   0.112771   0.126856   0.123098\n",
      "min      0.501852   0.559259   0.627778   0.719424   0.650000   0.675000\n",
      "25%      0.775513   0.762409   0.769433   0.790316   0.773906   0.757721\n",
      "50%      0.842778   0.937778   0.926667   0.945079   0.940496   0.934593\n",
      "75%      0.955539   0.967930   0.956025   0.963588   0.960463   0.969210\n",
      "max      1.000000   1.000000   1.000000   1.000000   1.000000   1.000000\n",
      "rpoint          1         10         30         50        100   half_len\n",
      "count   10.000000  10.000000  10.000000  10.000000  10.000000  10.000000\n",
      "mean     0.891149   0.902805   0.905320   0.902173   0.904649   0.905340\n",
      "std      0.094763   0.104548   0.103014   0.109351   0.102270   0.101892\n",
      "min      0.719807   0.706522   0.719807   0.705036   0.721823   0.718599\n",
      "25%      0.864907   0.891416   0.888813   0.891251   0.891251   0.890202\n",
      "50%      0.921509   0.933414   0.941075   0.941377   0.935196   0.935034\n",
      "75%      0.949785   0.977923   0.979167   0.975833   0.977500   0.979380\n",
      "max      1.000000   1.000000   1.000000   1.000000   1.000000   1.000000\n",
      "rpoint          1         10         30         50        100   half_len\n",
      "count   10.000000  10.000000  10.000000  10.000000  10.000000  10.000000\n",
      "mean     0.835167   0.866906   0.876556   0.878165   0.882643   0.876693\n",
      "std      0.121477   0.106631   0.112674   0.115893   0.110339   0.113280\n",
      "min      0.669082   0.695652   0.675121   0.644928   0.657005   0.660628\n",
      "25%      0.732631   0.792757   0.796538   0.817987   0.825640   0.811830\n",
      "50%      0.835556   0.922778   0.935556   0.937222   0.935556   0.926111\n",
      "75%      0.950680   0.941569   0.961876   0.962524   0.961714   0.962686\n",
      "max      0.975926   0.975926   0.983333   0.987037   0.985185   0.988889\n",
      "rpoint          1         10         30         50        100   half_len\n",
      "count   10.000000  10.000000  10.000000  10.000000  10.000000  10.000000\n",
      "mean     0.886643   0.899199   0.904176   0.902853   0.902701   0.902802\n",
      "std      0.101883   0.107426   0.102825   0.111337   0.111243   0.106878\n",
      "min      0.713768   0.700240   0.702638   0.693046   0.690647   0.697842\n",
      "25%      0.847222   0.884199   0.891678   0.889775   0.890989   0.890289\n",
      "50%      0.929224   0.941701   0.936631   0.947742   0.945844   0.938183\n",
      "75%      0.955919   0.969167   0.973333   0.977500   0.976667   0.977500\n",
      "max      1.000000   1.000000   1.000000   1.000000   1.000000   1.000000\n",
      "rpoint          1         10         30         50        100   half_len\n",
      "count   10.000000  10.000000  10.000000  10.000000  10.000000  10.000000\n",
      "mean     0.801720   0.865418   0.877836   0.886261   0.889952   0.890228\n",
      "std      0.104681   0.099309   0.102811   0.105578   0.108088   0.106065\n",
      "min      0.666667   0.719807   0.700483   0.673913   0.665459   0.677536\n",
      "25%      0.717613   0.771896   0.795411   0.817447   0.856889   0.824854\n",
      "50%      0.795079   0.898095   0.929841   0.930000   0.927778   0.935556\n",
      "75%      0.872500   0.944078   0.950814   0.965500   0.964853   0.962504\n",
      "max      0.961451   0.981481   0.985185   1.000000   1.000000   1.000000\n",
      "rpoint          1         10         30         50        100   half_len\n",
      "count   10.000000  10.000000  10.000000  10.000000  10.000000  10.000000\n",
      "mean     0.832222   0.885067   0.882314   0.881339   0.883618   0.884145\n",
      "std      0.116113   0.104574   0.103579   0.105824   0.104880   0.104594\n",
      "min      0.672222   0.714628   0.704106   0.689614   0.699275   0.707729\n",
      "25%      0.740561   0.815064   0.828001   0.826777   0.835110   0.828952\n",
      "50%      0.807778   0.934872   0.930952   0.924286   0.927619   0.929841\n",
      "75%      0.934159   0.964048   0.952008   0.958733   0.958814   0.963652\n",
      "max      1.000000   0.980564   0.985423   0.985423   0.985423   0.982507\n",
      "rpoint          1         10         30         50        100   half_len\n",
      "count   10.000000  10.000000  10.000000  10.000000  10.000000  10.000000\n",
      "mean     0.842625   0.870748   0.873554   0.877909   0.865927   0.903918\n",
      "std      0.113656   0.142183   0.130364   0.116506   0.151091   0.100621\n",
      "min      0.629630   0.572222   0.653704   0.705556   0.551852   0.729017\n",
      "25%      0.766875   0.771770   0.757775   0.762085   0.771095   0.851891\n",
      "50%      0.848889   0.941111   0.947000   0.933042   0.934917   0.945149\n",
      "75%      0.935389   0.970603   0.967961   0.964832   0.971983   0.973445\n",
      "max      1.000000   1.000000   1.000000   0.993333   1.000000   1.000000\n"
     ]
    }
   ],
   "source": [
    "#generate hyperparameter tuning boxplots\n",
    "\n",
    "df_perf=pd.pivot_table(df_result, values='accuracy', index=['classifier_name','dataset_name','rpoint'], aggfunc='mean')\n",
    "df_perf=df_perf.reset_index()\n",
    "\n",
    "for k, ints in enumerate(df_result.nb_per_class.unique()):\n",
    "\n",
    "    for len_m in df_result.len_method.unique():\n",
    "        \n",
    "        \n",
    "        df_to_cd=df_perf[df_perf.classifier_name.str.contains(r'^'+len_m+':.*nb_inst_per_class='+str(ints)+'$')]\n",
    "        df_to_cd=pd.pivot_table(df_to_cd, index=['dataset_name'], columns=['rpoint'],values='accuracy')\n",
    "        df_to_cd = df_to_cd.reindex(columns=[\"1\",\"10\",\"30\",\"50\",\"100\",\"half_len\"])\n",
    "        \n",
    "        #print(df_to_cd.head(5))\n",
    "\n",
    "        # Plot\n",
    "        fig, ax = plt.subplots()\n",
    "        \n",
    "        \n",
    "        #order=list(df_to_cd)\n",
    "        plt.boxplot(df_to_cd, labels=list(df_to_cd), showfliers=False)\n",
    "\n",
    "        # Axis details\n",
    "        ax.set(xlabel='number of random points', ylabel='accuracy', title='Boxplot for Len method:'+len_m+' and N° of Instances:'+ints)\n",
    "        #plt.xticks([1, 2, 3, 4, 5, 6],list(df_to_cd) )\n",
    "        print(df_to_cd.describe())\n",
    "\n",
    "        # save plot\n",
    "        plt.savefig('images_boxplot/boxplot_'+len_m+ints+'.png')\n",
    "\n",
    "\n"
   ]
  },
  {
   "attachments": {},
   "cell_type": "markdown",
   "metadata": {},
   "source": [
    "#### Generate CD Diagram Tunning Hyperparameter"
   ]
  },
  {
   "cell_type": "code",
   "execution_count": 171,
   "metadata": {},
   "outputs": [
    {
     "name": "stdout",
     "output_type": "stream",
     "text": [
      "len_methodACF&PACF\n",
      "nb_per_classhalf_instance\n"
     ]
    },
    {
     "name": "stderr",
     "output_type": "stream",
     "text": [
      "c:\\ProgramData\\Anaconda3\\lib\\site-packages\\scipy\\stats\\_morestats.py:3255: UserWarning: Exact p-value calculation does not work if there are zeros. Switching to normal approximation.\n",
      "  warnings.warn(\"Exact p-value calculation does not work if there are \"\n"
     ]
    },
    {
     "name": "stdout",
     "output_type": "stream",
     "text": [
      "len_methodACF\n",
      "nb_per_classhalf_instance\n"
     ]
    },
    {
     "name": "stderr",
     "output_type": "stream",
     "text": [
      "c:\\ProgramData\\Anaconda3\\lib\\site-packages\\scipy\\stats\\_morestats.py:3255: UserWarning: Exact p-value calculation does not work if there are zeros. Switching to normal approximation.\n",
      "  warnings.warn(\"Exact p-value calculation does not work if there are \"\n"
     ]
    },
    {
     "name": "stdout",
     "output_type": "stream",
     "text": [
      "len_methodPACF\n",
      "nb_per_classhalf_instance\n",
      "the null hypothesis over the entire classifiers cannot be rejected\n"
     ]
    },
    {
     "name": "stderr",
     "output_type": "stream",
     "text": [
      "c:\\ProgramData\\Anaconda3\\lib\\site-packages\\scipy\\stats\\_morestats.py:3255: UserWarning: Exact p-value calculation does not work if there are zeros. Switching to normal approximation.\n",
      "  warnings.warn(\"Exact p-value calculation does not work if there are \"\n"
     ]
    },
    {
     "name": "stdout",
     "output_type": "stream",
     "text": [
      "len_methodMax ACF\n",
      "nb_per_classhalf_instance\n",
      "the null hypothesis over the entire classifiers cannot be rejected\n"
     ]
    },
    {
     "name": "stderr",
     "output_type": "stream",
     "text": [
      "c:\\ProgramData\\Anaconda3\\lib\\site-packages\\scipy\\stats\\_morestats.py:3255: UserWarning: Exact p-value calculation does not work if there are zeros. Switching to normal approximation.\n",
      "  warnings.warn(\"Exact p-value calculation does not work if there are \"\n"
     ]
    },
    {
     "name": "stdout",
     "output_type": "stream",
     "text": [
      "len_methodMax PACF\n",
      "nb_per_classhalf_instance\n",
      "the null hypothesis over the entire classifiers cannot be rejected\n"
     ]
    },
    {
     "name": "stderr",
     "output_type": "stream",
     "text": [
      "c:\\ProgramData\\Anaconda3\\lib\\site-packages\\scipy\\stats\\_morestats.py:3255: UserWarning: Exact p-value calculation does not work if there are zeros. Switching to normal approximation.\n",
      "  warnings.warn(\"Exact p-value calculation does not work if there are \"\n"
     ]
    },
    {
     "name": "stdout",
     "output_type": "stream",
     "text": [
      "len_methodNone\n",
      "nb_per_classhalf_instance\n",
      "the null hypothesis over the entire classifiers cannot be rejected\n"
     ]
    },
    {
     "name": "stderr",
     "output_type": "stream",
     "text": [
      "c:\\ProgramData\\Anaconda3\\lib\\site-packages\\scipy\\stats\\_morestats.py:3255: UserWarning: Exact p-value calculation does not work if there are zeros. Switching to normal approximation.\n",
      "  warnings.warn(\"Exact p-value calculation does not work if there are \"\n"
     ]
    },
    {
     "name": "stdout",
     "output_type": "stream",
     "text": [
      "len_methodACF&PACF\n",
      "nb_per_class1\n",
      "the null hypothesis over the entire classifiers cannot be rejected\n"
     ]
    },
    {
     "name": "stderr",
     "output_type": "stream",
     "text": [
      "c:\\ProgramData\\Anaconda3\\lib\\site-packages\\scipy\\stats\\_morestats.py:3255: UserWarning: Exact p-value calculation does not work if there are zeros. Switching to normal approximation.\n",
      "  warnings.warn(\"Exact p-value calculation does not work if there are \"\n"
     ]
    },
    {
     "name": "stdout",
     "output_type": "stream",
     "text": [
      "len_methodACF\n",
      "nb_per_class1\n"
     ]
    },
    {
     "name": "stderr",
     "output_type": "stream",
     "text": [
      "c:\\ProgramData\\Anaconda3\\lib\\site-packages\\scipy\\stats\\_morestats.py:3255: UserWarning: Exact p-value calculation does not work if there are zeros. Switching to normal approximation.\n",
      "  warnings.warn(\"Exact p-value calculation does not work if there are \"\n"
     ]
    },
    {
     "name": "stdout",
     "output_type": "stream",
     "text": [
      "len_methodPACF\n",
      "nb_per_class1\n",
      "the null hypothesis over the entire classifiers cannot be rejected\n"
     ]
    },
    {
     "name": "stderr",
     "output_type": "stream",
     "text": [
      "c:\\ProgramData\\Anaconda3\\lib\\site-packages\\scipy\\stats\\_morestats.py:3255: UserWarning: Exact p-value calculation does not work if there are zeros. Switching to normal approximation.\n",
      "  warnings.warn(\"Exact p-value calculation does not work if there are \"\n"
     ]
    },
    {
     "name": "stdout",
     "output_type": "stream",
     "text": [
      "len_methodMax ACF\n",
      "nb_per_class1\n"
     ]
    },
    {
     "name": "stderr",
     "output_type": "stream",
     "text": [
      "c:\\ProgramData\\Anaconda3\\lib\\site-packages\\scipy\\stats\\_morestats.py:3255: UserWarning: Exact p-value calculation does not work if there are zeros. Switching to normal approximation.\n",
      "  warnings.warn(\"Exact p-value calculation does not work if there are \"\n"
     ]
    },
    {
     "name": "stdout",
     "output_type": "stream",
     "text": [
      "len_methodMax PACF\n",
      "nb_per_class1\n"
     ]
    },
    {
     "name": "stderr",
     "output_type": "stream",
     "text": [
      "c:\\ProgramData\\Anaconda3\\lib\\site-packages\\scipy\\stats\\_morestats.py:3255: UserWarning: Exact p-value calculation does not work if there are zeros. Switching to normal approximation.\n",
      "  warnings.warn(\"Exact p-value calculation does not work if there are \"\n"
     ]
    },
    {
     "name": "stdout",
     "output_type": "stream",
     "text": [
      "len_methodNone\n",
      "nb_per_class1\n"
     ]
    },
    {
     "name": "stderr",
     "output_type": "stream",
     "text": [
      "c:\\ProgramData\\Anaconda3\\lib\\site-packages\\scipy\\stats\\_morestats.py:3255: UserWarning: Exact p-value calculation does not work if there are zeros. Switching to normal approximation.\n",
      "  warnings.warn(\"Exact p-value calculation does not work if there are \"\n"
     ]
    },
    {
     "name": "stdout",
     "output_type": "stream",
     "text": [
      "len_methodACF&PACF\n",
      "nb_per_class10\n",
      "the null hypothesis over the entire classifiers cannot be rejected\n"
     ]
    },
    {
     "name": "stderr",
     "output_type": "stream",
     "text": [
      "c:\\ProgramData\\Anaconda3\\lib\\site-packages\\scipy\\stats\\_morestats.py:3255: UserWarning: Exact p-value calculation does not work if there are zeros. Switching to normal approximation.\n",
      "  warnings.warn(\"Exact p-value calculation does not work if there are \"\n"
     ]
    },
    {
     "name": "stdout",
     "output_type": "stream",
     "text": [
      "len_methodACF\n",
      "nb_per_class10\n"
     ]
    },
    {
     "name": "stderr",
     "output_type": "stream",
     "text": [
      "c:\\ProgramData\\Anaconda3\\lib\\site-packages\\scipy\\stats\\_morestats.py:3255: UserWarning: Exact p-value calculation does not work if there are zeros. Switching to normal approximation.\n",
      "  warnings.warn(\"Exact p-value calculation does not work if there are \"\n"
     ]
    },
    {
     "name": "stdout",
     "output_type": "stream",
     "text": [
      "len_methodPACF\n",
      "nb_per_class10\n",
      "the null hypothesis over the entire classifiers cannot be rejected\n"
     ]
    },
    {
     "name": "stderr",
     "output_type": "stream",
     "text": [
      "c:\\ProgramData\\Anaconda3\\lib\\site-packages\\scipy\\stats\\_morestats.py:3255: UserWarning: Exact p-value calculation does not work if there are zeros. Switching to normal approximation.\n",
      "  warnings.warn(\"Exact p-value calculation does not work if there are \"\n"
     ]
    },
    {
     "name": "stdout",
     "output_type": "stream",
     "text": [
      "len_methodMax ACF\n",
      "nb_per_class10\n"
     ]
    },
    {
     "name": "stderr",
     "output_type": "stream",
     "text": [
      "c:\\ProgramData\\Anaconda3\\lib\\site-packages\\scipy\\stats\\_morestats.py:3255: UserWarning: Exact p-value calculation does not work if there are zeros. Switching to normal approximation.\n",
      "  warnings.warn(\"Exact p-value calculation does not work if there are \"\n"
     ]
    },
    {
     "name": "stdout",
     "output_type": "stream",
     "text": [
      "len_methodMax PACF\n",
      "nb_per_class10\n",
      "the null hypothesis over the entire classifiers cannot be rejected\n"
     ]
    },
    {
     "name": "stderr",
     "output_type": "stream",
     "text": [
      "c:\\ProgramData\\Anaconda3\\lib\\site-packages\\scipy\\stats\\_morestats.py:3255: UserWarning: Exact p-value calculation does not work if there are zeros. Switching to normal approximation.\n",
      "  warnings.warn(\"Exact p-value calculation does not work if there are \"\n"
     ]
    },
    {
     "name": "stdout",
     "output_type": "stream",
     "text": [
      "len_methodNone\n",
      "nb_per_class10\n",
      "the null hypothesis over the entire classifiers cannot be rejected\n"
     ]
    },
    {
     "name": "stderr",
     "output_type": "stream",
     "text": [
      "c:\\ProgramData\\Anaconda3\\lib\\site-packages\\scipy\\stats\\_morestats.py:3255: UserWarning: Exact p-value calculation does not work if there are zeros. Switching to normal approximation.\n",
      "  warnings.warn(\"Exact p-value calculation does not work if there are \"\n"
     ]
    },
    {
     "name": "stdout",
     "output_type": "stream",
     "text": [
      "len_methodACF&PACF\n",
      "nb_per_class30\n",
      "the null hypothesis over the entire classifiers cannot be rejected\n"
     ]
    },
    {
     "name": "stderr",
     "output_type": "stream",
     "text": [
      "c:\\ProgramData\\Anaconda3\\lib\\site-packages\\scipy\\stats\\_morestats.py:3255: UserWarning: Exact p-value calculation does not work if there are zeros. Switching to normal approximation.\n",
      "  warnings.warn(\"Exact p-value calculation does not work if there are \"\n"
     ]
    },
    {
     "name": "stdout",
     "output_type": "stream",
     "text": [
      "len_methodACF\n",
      "nb_per_class30\n"
     ]
    },
    {
     "name": "stderr",
     "output_type": "stream",
     "text": [
      "c:\\ProgramData\\Anaconda3\\lib\\site-packages\\scipy\\stats\\_morestats.py:3255: UserWarning: Exact p-value calculation does not work if there are zeros. Switching to normal approximation.\n",
      "  warnings.warn(\"Exact p-value calculation does not work if there are \"\n"
     ]
    },
    {
     "name": "stdout",
     "output_type": "stream",
     "text": [
      "len_methodPACF\n",
      "nb_per_class30\n",
      "the null hypothesis over the entire classifiers cannot be rejected\n"
     ]
    },
    {
     "name": "stderr",
     "output_type": "stream",
     "text": [
      "c:\\ProgramData\\Anaconda3\\lib\\site-packages\\scipy\\stats\\_morestats.py:3255: UserWarning: Exact p-value calculation does not work if there are zeros. Switching to normal approximation.\n",
      "  warnings.warn(\"Exact p-value calculation does not work if there are \"\n"
     ]
    },
    {
     "name": "stdout",
     "output_type": "stream",
     "text": [
      "len_methodMax ACF\n",
      "nb_per_class30\n"
     ]
    },
    {
     "name": "stderr",
     "output_type": "stream",
     "text": [
      "c:\\ProgramData\\Anaconda3\\lib\\site-packages\\scipy\\stats\\_morestats.py:3255: UserWarning: Exact p-value calculation does not work if there are zeros. Switching to normal approximation.\n",
      "  warnings.warn(\"Exact p-value calculation does not work if there are \"\n"
     ]
    },
    {
     "name": "stdout",
     "output_type": "stream",
     "text": [
      "len_methodMax PACF\n",
      "nb_per_class30\n",
      "the null hypothesis over the entire classifiers cannot be rejected\n"
     ]
    },
    {
     "name": "stderr",
     "output_type": "stream",
     "text": [
      "c:\\ProgramData\\Anaconda3\\lib\\site-packages\\scipy\\stats\\_morestats.py:3255: UserWarning: Exact p-value calculation does not work if there are zeros. Switching to normal approximation.\n",
      "  warnings.warn(\"Exact p-value calculation does not work if there are \"\n"
     ]
    },
    {
     "name": "stdout",
     "output_type": "stream",
     "text": [
      "len_methodNone\n",
      "nb_per_class30\n",
      "the null hypothesis over the entire classifiers cannot be rejected\n"
     ]
    },
    {
     "name": "stderr",
     "output_type": "stream",
     "text": [
      "c:\\ProgramData\\Anaconda3\\lib\\site-packages\\scipy\\stats\\_morestats.py:3255: UserWarning: Exact p-value calculation does not work if there are zeros. Switching to normal approximation.\n",
      "  warnings.warn(\"Exact p-value calculation does not work if there are \"\n"
     ]
    },
    {
     "name": "stdout",
     "output_type": "stream",
     "text": [
      "len_methodACF&PACF\n",
      "nb_per_class50\n",
      "the null hypothesis over the entire classifiers cannot be rejected\n"
     ]
    },
    {
     "name": "stderr",
     "output_type": "stream",
     "text": [
      "c:\\ProgramData\\Anaconda3\\lib\\site-packages\\scipy\\stats\\_morestats.py:3255: UserWarning: Exact p-value calculation does not work if there are zeros. Switching to normal approximation.\n",
      "  warnings.warn(\"Exact p-value calculation does not work if there are \"\n"
     ]
    },
    {
     "name": "stdout",
     "output_type": "stream",
     "text": [
      "len_methodACF\n",
      "nb_per_class50\n"
     ]
    },
    {
     "name": "stderr",
     "output_type": "stream",
     "text": [
      "c:\\ProgramData\\Anaconda3\\lib\\site-packages\\scipy\\stats\\_morestats.py:3255: UserWarning: Exact p-value calculation does not work if there are zeros. Switching to normal approximation.\n",
      "  warnings.warn(\"Exact p-value calculation does not work if there are \"\n"
     ]
    },
    {
     "name": "stdout",
     "output_type": "stream",
     "text": [
      "len_methodPACF\n",
      "nb_per_class50\n",
      "the null hypothesis over the entire classifiers cannot be rejected\n"
     ]
    },
    {
     "name": "stderr",
     "output_type": "stream",
     "text": [
      "c:\\ProgramData\\Anaconda3\\lib\\site-packages\\scipy\\stats\\_morestats.py:3255: UserWarning: Exact p-value calculation does not work if there are zeros. Switching to normal approximation.\n",
      "  warnings.warn(\"Exact p-value calculation does not work if there are \"\n"
     ]
    },
    {
     "name": "stdout",
     "output_type": "stream",
     "text": [
      "len_methodMax ACF\n",
      "nb_per_class50\n"
     ]
    },
    {
     "name": "stderr",
     "output_type": "stream",
     "text": [
      "c:\\ProgramData\\Anaconda3\\lib\\site-packages\\scipy\\stats\\_morestats.py:3255: UserWarning: Exact p-value calculation does not work if there are zeros. Switching to normal approximation.\n",
      "  warnings.warn(\"Exact p-value calculation does not work if there are \"\n"
     ]
    },
    {
     "name": "stdout",
     "output_type": "stream",
     "text": [
      "len_methodMax PACF\n",
      "nb_per_class50\n",
      "the null hypothesis over the entire classifiers cannot be rejected\n"
     ]
    },
    {
     "name": "stderr",
     "output_type": "stream",
     "text": [
      "c:\\ProgramData\\Anaconda3\\lib\\site-packages\\scipy\\stats\\_morestats.py:3255: UserWarning: Exact p-value calculation does not work if there are zeros. Switching to normal approximation.\n",
      "  warnings.warn(\"Exact p-value calculation does not work if there are \"\n"
     ]
    },
    {
     "name": "stdout",
     "output_type": "stream",
     "text": [
      "len_methodNone\n",
      "nb_per_class50\n",
      "the null hypothesis over the entire classifiers cannot be rejected\n"
     ]
    },
    {
     "name": "stderr",
     "output_type": "stream",
     "text": [
      "c:\\ProgramData\\Anaconda3\\lib\\site-packages\\scipy\\stats\\_morestats.py:3255: UserWarning: Exact p-value calculation does not work if there are zeros. Switching to normal approximation.\n",
      "  warnings.warn(\"Exact p-value calculation does not work if there are \"\n"
     ]
    },
    {
     "name": "stdout",
     "output_type": "stream",
     "text": [
      "len_methodACF&PACF\n",
      "nb_per_class100\n",
      "the null hypothesis over the entire classifiers cannot be rejected\n"
     ]
    },
    {
     "name": "stderr",
     "output_type": "stream",
     "text": [
      "c:\\ProgramData\\Anaconda3\\lib\\site-packages\\scipy\\stats\\_morestats.py:3255: UserWarning: Exact p-value calculation does not work if there are zeros. Switching to normal approximation.\n",
      "  warnings.warn(\"Exact p-value calculation does not work if there are \"\n"
     ]
    },
    {
     "name": "stdout",
     "output_type": "stream",
     "text": [
      "len_methodACF\n",
      "nb_per_class100\n"
     ]
    },
    {
     "name": "stderr",
     "output_type": "stream",
     "text": [
      "c:\\ProgramData\\Anaconda3\\lib\\site-packages\\scipy\\stats\\_morestats.py:3255: UserWarning: Exact p-value calculation does not work if there are zeros. Switching to normal approximation.\n",
      "  warnings.warn(\"Exact p-value calculation does not work if there are \"\n"
     ]
    },
    {
     "name": "stdout",
     "output_type": "stream",
     "text": [
      "len_methodPACF\n",
      "nb_per_class100\n",
      "the null hypothesis over the entire classifiers cannot be rejected\n"
     ]
    },
    {
     "name": "stderr",
     "output_type": "stream",
     "text": [
      "c:\\ProgramData\\Anaconda3\\lib\\site-packages\\scipy\\stats\\_morestats.py:3255: UserWarning: Exact p-value calculation does not work if there are zeros. Switching to normal approximation.\n",
      "  warnings.warn(\"Exact p-value calculation does not work if there are \"\n"
     ]
    },
    {
     "name": "stdout",
     "output_type": "stream",
     "text": [
      "len_methodMax ACF\n",
      "nb_per_class100\n",
      "the null hypothesis over the entire classifiers cannot be rejected\n"
     ]
    },
    {
     "name": "stderr",
     "output_type": "stream",
     "text": [
      "c:\\ProgramData\\Anaconda3\\lib\\site-packages\\scipy\\stats\\_morestats.py:3255: UserWarning: Exact p-value calculation does not work if there are zeros. Switching to normal approximation.\n",
      "  warnings.warn(\"Exact p-value calculation does not work if there are \"\n"
     ]
    },
    {
     "name": "stdout",
     "output_type": "stream",
     "text": [
      "len_methodMax PACF\n",
      "nb_per_class100\n",
      "the null hypothesis over the entire classifiers cannot be rejected\n"
     ]
    },
    {
     "name": "stderr",
     "output_type": "stream",
     "text": [
      "c:\\ProgramData\\Anaconda3\\lib\\site-packages\\scipy\\stats\\_morestats.py:3255: UserWarning: Exact p-value calculation does not work if there are zeros. Switching to normal approximation.\n",
      "  warnings.warn(\"Exact p-value calculation does not work if there are \"\n"
     ]
    },
    {
     "name": "stdout",
     "output_type": "stream",
     "text": [
      "len_methodNone\n",
      "nb_per_class100\n",
      "the null hypothesis over the entire classifiers cannot be rejected\n"
     ]
    },
    {
     "name": "stderr",
     "output_type": "stream",
     "text": [
      "c:\\ProgramData\\Anaconda3\\lib\\site-packages\\scipy\\stats\\_morestats.py:3255: UserWarning: Exact p-value calculation does not work if there are zeros. Switching to normal approximation.\n",
      "  warnings.warn(\"Exact p-value calculation does not work if there are \"\n"
     ]
    }
   ],
   "source": [
    "from cd_function import *\n",
    "#generate hyperparameter tuning cd diagrams\n",
    "for k,ints in enumerate(df_result.nb_per_class.unique()):\n",
    "   for len_m in df_result.len_method.unique():\n",
    "      df_to_cd=df_perf[df_perf.classifier_name.str.contains(r'^'+len_m+':.*nb_inst_per_class='+str(ints)+'$')]\n",
    "      print('len_method'+str(len_m))\n",
    "      print('nb_per_class'+str(ints))\n",
    "      draw_cd_diagram(df_to_cd, labels=True, title=len_m +\" comparison, nb_inst_per_class=\"+str(ints), name_file='images_cd_diagram/cd-diagram_'+len_m+ints+'.png')\n"
   ]
  },
  {
   "cell_type": "code",
   "execution_count": 172,
   "metadata": {},
   "outputs": [
    {
     "name": "stderr",
     "output_type": "stream",
     "text": [
      "c:\\ProgramData\\Anaconda3\\lib\\site-packages\\scipy\\stats\\_morestats.py:3255: UserWarning: Exact p-value calculation does not work if there are zeros. Switching to normal approximation.\n",
      "  warnings.warn(\"Exact p-value calculation does not work if there are \"\n"
     ]
    },
    {
     "data": {
      "text/html": [
       "<div>\n",
       "<style scoped>\n",
       "    .dataframe tbody tr th:only-of-type {\n",
       "        vertical-align: middle;\n",
       "    }\n",
       "\n",
       "    .dataframe tbody tr th {\n",
       "        vertical-align: top;\n",
       "    }\n",
       "\n",
       "    .dataframe thead th {\n",
       "        text-align: right;\n",
       "    }\n",
       "</style>\n",
       "<table border=\"1\" class=\"dataframe\">\n",
       "  <thead>\n",
       "    <tr style=\"text-align: right;\">\n",
       "      <th></th>\n",
       "      <th>0</th>\n",
       "    </tr>\n",
       "  </thead>\n",
       "  <tbody>\n",
       "    <tr>\n",
       "      <th>Max ACF: n_random_points=1 nb_inst_per_class=1</th>\n",
       "      <td>214.90</td>\n",
       "    </tr>\n",
       "    <tr>\n",
       "      <th>ACF: n_random_points=1 nb_inst_per_class=1</th>\n",
       "      <td>213.00</td>\n",
       "    </tr>\n",
       "    <tr>\n",
       "      <th>Max ACF: n_random_points=10 nb_inst_per_class=1</th>\n",
       "      <td>204.75</td>\n",
       "    </tr>\n",
       "    <tr>\n",
       "      <th>Max PACF: n_random_points=1 nb_inst_per_class=1</th>\n",
       "      <td>203.75</td>\n",
       "    </tr>\n",
       "    <tr>\n",
       "      <th>ACF: n_random_points=10 nb_inst_per_class=1</th>\n",
       "      <td>202.80</td>\n",
       "    </tr>\n",
       "    <tr>\n",
       "      <th>...</th>\n",
       "      <td>...</td>\n",
       "    </tr>\n",
       "    <tr>\n",
       "      <th>ACF&amp;PACF: n_random_points=30 nb_inst_per_class=100</th>\n",
       "      <td>63.10</td>\n",
       "    </tr>\n",
       "    <tr>\n",
       "      <th>PACF: n_random_points=30 nb_inst_per_class=50</th>\n",
       "      <td>62.35</td>\n",
       "    </tr>\n",
       "    <tr>\n",
       "      <th>ACF&amp;PACF: n_random_points= half_len nb_inst_per_class=50</th>\n",
       "      <td>58.85</td>\n",
       "    </tr>\n",
       "    <tr>\n",
       "      <th>ACF&amp;PACF: n_random_points=100 nb_inst_per_class=half_instance</th>\n",
       "      <td>58.70</td>\n",
       "    </tr>\n",
       "    <tr>\n",
       "      <th>ACF&amp;PACF: n_random_points=100 nb_inst_per_class=50</th>\n",
       "      <td>54.95</td>\n",
       "    </tr>\n",
       "  </tbody>\n",
       "</table>\n",
       "<p>216 rows × 1 columns</p>\n",
       "</div>"
      ],
      "text/plain": [
       "                                                         0\n",
       "Max ACF: n_random_points=1 nb_inst_per_class=1      214.90\n",
       "ACF: n_random_points=1 nb_inst_per_class=1          213.00\n",
       "Max ACF: n_random_points=10 nb_inst_per_class=1     204.75\n",
       "Max PACF: n_random_points=1 nb_inst_per_class=1     203.75\n",
       "ACF: n_random_points=10 nb_inst_per_class=1         202.80\n",
       "...                                                    ...\n",
       "ACF&PACF: n_random_points=30 nb_inst_per_class=100   63.10\n",
       "PACF: n_random_points=30 nb_inst_per_class=50        62.35\n",
       "ACF&PACF: n_random_points= half_len nb_inst_per...   58.85\n",
       "ACF&PACF: n_random_points=100 nb_inst_per_class...   58.70\n",
       "ACF&PACF: n_random_points=100 nb_inst_per_class=50   54.95\n",
       "\n",
       "[216 rows x 1 columns]"
      ]
     },
     "execution_count": 172,
     "metadata": {},
     "output_type": "execute_result"
    }
   ],
   "source": [
    "_, average_ranks, _ = wilcoxon_holm(df_perf=df_perf)\n",
    "min_rank= min(average_ranks)\n",
    "average_ranks=pd.DataFrame(average_ranks)\n",
    "average_ranks"
   ]
  },
  {
   "attachments": {},
   "cell_type": "markdown",
   "metadata": {},
   "source": [
    "#### Focus on most accurate lenght method"
   ]
  },
  {
   "attachments": {},
   "cell_type": "markdown",
   "metadata": {},
   "source": [
    "##### Overall Accuracy"
   ]
  },
  {
   "cell_type": "code",
   "execution_count": 173,
   "metadata": {},
   "outputs": [
    {
     "data": {
      "text/plain": [
       "Index(['ACF&PACF: n_random_points=100 nb_inst_per_class=50'], dtype='object')"
      ]
     },
     "execution_count": 173,
     "metadata": {},
     "output_type": "execute_result"
    }
   ],
   "source": [
    "# highest accurate hyperparameters\n",
    "average_ranks[average_ranks[0]==min_rank][0].index"
   ]
  },
  {
   "cell_type": "code",
   "execution_count": 174,
   "metadata": {},
   "outputs": [
    {
     "data": {
      "text/html": [
       "<div>\n",
       "<style scoped>\n",
       "    .dataframe tbody tr th:only-of-type {\n",
       "        vertical-align: middle;\n",
       "    }\n",
       "\n",
       "    .dataframe tbody tr th {\n",
       "        vertical-align: top;\n",
       "    }\n",
       "\n",
       "    .dataframe thead th {\n",
       "        text-align: right;\n",
       "    }\n",
       "</style>\n",
       "<table border=\"1\" class=\"dataframe\">\n",
       "  <thead>\n",
       "    <tr style=\"text-align: right;\">\n",
       "      <th>nb_per_class</th>\n",
       "      <th>half_instance</th>\n",
       "      <th>1</th>\n",
       "      <th>10</th>\n",
       "      <th>30</th>\n",
       "      <th>50</th>\n",
       "      <th>100</th>\n",
       "    </tr>\n",
       "    <tr>\n",
       "      <th>rpoint</th>\n",
       "      <th></th>\n",
       "      <th></th>\n",
       "      <th></th>\n",
       "      <th></th>\n",
       "      <th></th>\n",
       "      <th></th>\n",
       "    </tr>\n",
       "  </thead>\n",
       "  <tbody>\n",
       "    <tr>\n",
       "      <th>half_len</th>\n",
       "      <td>0.889700</td>\n",
       "      <td>0.855070</td>\n",
       "      <td>0.879129</td>\n",
       "      <td>0.892686</td>\n",
       "      <td>0.895260</td>\n",
       "      <td>0.893474</td>\n",
       "    </tr>\n",
       "    <tr>\n",
       "      <th>1</th>\n",
       "      <td>0.880410</td>\n",
       "      <td>0.771020</td>\n",
       "      <td>0.869260</td>\n",
       "      <td>0.885694</td>\n",
       "      <td>0.873056</td>\n",
       "      <td>0.878249</td>\n",
       "    </tr>\n",
       "    <tr>\n",
       "      <th>10</th>\n",
       "      <td>0.885369</td>\n",
       "      <td>0.853573</td>\n",
       "      <td>0.882778</td>\n",
       "      <td>0.891043</td>\n",
       "      <td>0.891455</td>\n",
       "      <td>0.890159</td>\n",
       "    </tr>\n",
       "    <tr>\n",
       "      <th>30</th>\n",
       "      <td>0.893932</td>\n",
       "      <td>0.860412</td>\n",
       "      <td>0.880086</td>\n",
       "      <td>0.888372</td>\n",
       "      <td>0.892997</td>\n",
       "      <td>0.893061</td>\n",
       "    </tr>\n",
       "    <tr>\n",
       "      <th>50</th>\n",
       "      <td>0.890035</td>\n",
       "      <td>0.865047</td>\n",
       "      <td>0.883835</td>\n",
       "      <td>0.892649</td>\n",
       "      <td>0.892198</td>\n",
       "      <td>0.889430</td>\n",
       "    </tr>\n",
       "    <tr>\n",
       "      <th>100</th>\n",
       "      <td>0.896169</td>\n",
       "      <td>0.865975</td>\n",
       "      <td>0.879284</td>\n",
       "      <td>0.890650</td>\n",
       "      <td>0.895720</td>\n",
       "      <td>0.892287</td>\n",
       "    </tr>\n",
       "  </tbody>\n",
       "</table>\n",
       "</div>"
      ],
      "text/plain": [
       "nb_per_class  half_instance         1        10        30        50       100\n",
       "rpoint                                                                       \n",
       "half_len           0.889700  0.855070  0.879129  0.892686  0.895260  0.893474\n",
       "1                  0.880410  0.771020  0.869260  0.885694  0.873056  0.878249\n",
       "10                 0.885369  0.853573  0.882778  0.891043  0.891455  0.890159\n",
       "30                 0.893932  0.860412  0.880086  0.888372  0.892997  0.893061\n",
       "50                 0.890035  0.865047  0.883835  0.892649  0.892198  0.889430\n",
       "100                0.896169  0.865975  0.879284  0.890650  0.895720  0.892287"
      ]
     },
     "execution_count": 174,
     "metadata": {},
     "output_type": "execute_result"
    }
   ],
   "source": [
    "# filter by method with ACF&PACF\n",
    "# create a pivot table with the mean of score by hyperparameter\n",
    "df_result_acc=df_result[df_result[\"len_method\"]==\"ACF&PACF\"]\n",
    "pivot = pd.pivot_table(df_result_acc, values='accuracy', index=['rpoint'],columns=['nb_per_class'], aggfunc='mean')\n",
    "pivot = pivot.reindex(columns=[\"half_instance\",\"1\",\"10\",\"30\",\"50\",\"100\"], index=[\"half_len\",\"1\",\"10\",\"30\",\"50\",\"100\"])\n",
    "pivot"
   ]
  },
  {
   "cell_type": "code",
   "execution_count": 175,
   "metadata": {},
   "outputs": [
    {
     "data": {
      "text/html": [
       "<div>\n",
       "<style scoped>\n",
       "    .dataframe tbody tr th:only-of-type {\n",
       "        vertical-align: middle;\n",
       "    }\n",
       "\n",
       "    .dataframe tbody tr th {\n",
       "        vertical-align: top;\n",
       "    }\n",
       "\n",
       "    .dataframe thead th {\n",
       "        text-align: right;\n",
       "    }\n",
       "</style>\n",
       "<table border=\"1\" class=\"dataframe\">\n",
       "  <thead>\n",
       "    <tr style=\"text-align: right;\">\n",
       "      <th>nb_per_class</th>\n",
       "      <th>half_instance</th>\n",
       "      <th>1</th>\n",
       "      <th>10</th>\n",
       "      <th>30</th>\n",
       "      <th>50</th>\n",
       "      <th>100</th>\n",
       "    </tr>\n",
       "    <tr>\n",
       "      <th>rpoint</th>\n",
       "      <th></th>\n",
       "      <th></th>\n",
       "      <th></th>\n",
       "      <th></th>\n",
       "      <th></th>\n",
       "      <th></th>\n",
       "    </tr>\n",
       "  </thead>\n",
       "  <tbody>\n",
       "    <tr>\n",
       "      <th>half_len</th>\n",
       "      <td>0.010321</td>\n",
       "      <td>0.008531</td>\n",
       "      <td>0.010138</td>\n",
       "      <td>0.011292</td>\n",
       "      <td>0.011174</td>\n",
       "      <td>0.010477</td>\n",
       "    </tr>\n",
       "    <tr>\n",
       "      <th>1</th>\n",
       "      <td>0.008730</td>\n",
       "      <td>0.017200</td>\n",
       "      <td>0.007165</td>\n",
       "      <td>0.008214</td>\n",
       "      <td>0.009203</td>\n",
       "      <td>0.008409</td>\n",
       "    </tr>\n",
       "    <tr>\n",
       "      <th>10</th>\n",
       "      <td>0.010807</td>\n",
       "      <td>0.007524</td>\n",
       "      <td>0.009433</td>\n",
       "      <td>0.010293</td>\n",
       "      <td>0.010408</td>\n",
       "      <td>0.010582</td>\n",
       "    </tr>\n",
       "    <tr>\n",
       "      <th>30</th>\n",
       "      <td>0.010394</td>\n",
       "      <td>0.009922</td>\n",
       "      <td>0.010728</td>\n",
       "      <td>0.010750</td>\n",
       "      <td>0.010376</td>\n",
       "      <td>0.010324</td>\n",
       "    </tr>\n",
       "    <tr>\n",
       "      <th>50</th>\n",
       "      <td>0.010008</td>\n",
       "      <td>0.007850</td>\n",
       "      <td>0.010573</td>\n",
       "      <td>0.009872</td>\n",
       "      <td>0.010587</td>\n",
       "      <td>0.011641</td>\n",
       "    </tr>\n",
       "    <tr>\n",
       "      <th>100</th>\n",
       "      <td>0.009942</td>\n",
       "      <td>0.008330</td>\n",
       "      <td>0.011619</td>\n",
       "      <td>0.010629</td>\n",
       "      <td>0.009979</td>\n",
       "      <td>0.010112</td>\n",
       "    </tr>\n",
       "  </tbody>\n",
       "</table>\n",
       "</div>"
      ],
      "text/plain": [
       "nb_per_class  half_instance         1        10        30        50       100\n",
       "rpoint                                                                       \n",
       "half_len           0.010321  0.008531  0.010138  0.011292  0.011174  0.010477\n",
       "1                  0.008730  0.017200  0.007165  0.008214  0.009203  0.008409\n",
       "10                 0.010807  0.007524  0.009433  0.010293  0.010408  0.010582\n",
       "30                 0.010394  0.009922  0.010728  0.010750  0.010376  0.010324\n",
       "50                 0.010008  0.007850  0.010573  0.009872  0.010587  0.011641\n",
       "100                0.009942  0.008330  0.011619  0.010629  0.009979  0.010112"
      ]
     },
     "execution_count": 175,
     "metadata": {},
     "output_type": "execute_result"
    }
   ],
   "source": [
    "# create a pivot table with the variatioon of score by hyperparameter\n",
    "pivot = pd.pivot_table(df_result_acc, values='accuracy', index=['rpoint'],columns=['nb_per_class'], aggfunc='var')\n",
    "pivot = pivot.reindex(columns=[\"half_instance\",\"1\",\"10\",\"30\",\"50\",\"100\"], index=[\"half_len\",\"1\",\"10\",\"30\",\"50\",\"100\"])\n",
    "pivot"
   ]
  },
  {
   "attachments": {},
   "cell_type": "markdown",
   "metadata": {},
   "source": [
    "##### Overall time complexity"
   ]
  },
  {
   "cell_type": "code",
   "execution_count": 176,
   "metadata": {},
   "outputs": [
    {
     "data": {
      "text/html": [
       "<div>\n",
       "<style scoped>\n",
       "    .dataframe tbody tr th:only-of-type {\n",
       "        vertical-align: middle;\n",
       "    }\n",
       "\n",
       "    .dataframe tbody tr th {\n",
       "        vertical-align: top;\n",
       "    }\n",
       "\n",
       "    .dataframe thead th {\n",
       "        text-align: right;\n",
       "    }\n",
       "</style>\n",
       "<table border=\"1\" class=\"dataframe\">\n",
       "  <thead>\n",
       "    <tr style=\"text-align: right;\">\n",
       "      <th></th>\n",
       "      <th>cweights_time</th>\n",
       "      <th>fsubsequence_time</th>\n",
       "      <th>tdataset_time</th>\n",
       "      <th>tclassifier_time</th>\n",
       "      <th>time</th>\n",
       "    </tr>\n",
       "    <tr>\n",
       "      <th>dataset_name</th>\n",
       "      <th></th>\n",
       "      <th></th>\n",
       "      <th></th>\n",
       "      <th></th>\n",
       "      <th></th>\n",
       "    </tr>\n",
       "  </thead>\n",
       "  <tbody>\n",
       "    <tr>\n",
       "      <th>Chinatown</th>\n",
       "      <td>0.000148</td>\n",
       "      <td>0.001009</td>\n",
       "      <td>0.001189</td>\n",
       "      <td>0.000235</td>\n",
       "      <td>0.002611</td>\n",
       "    </tr>\n",
       "    <tr>\n",
       "      <th>Coffee</th>\n",
       "      <td>0.001126</td>\n",
       "      <td>0.082135</td>\n",
       "      <td>2.156343</td>\n",
       "      <td>0.000738</td>\n",
       "      <td>2.240458</td>\n",
       "    </tr>\n",
       "    <tr>\n",
       "      <th>DistalPhalanxOutlineAgeGroup</th>\n",
       "      <td>0.000529</td>\n",
       "      <td>0.020612</td>\n",
       "      <td>6.829225</td>\n",
       "      <td>0.015880</td>\n",
       "      <td>6.866520</td>\n",
       "    </tr>\n",
       "    <tr>\n",
       "      <th>DistalPhalanxOutlineCorrect</th>\n",
       "      <td>0.000499</td>\n",
       "      <td>0.021028</td>\n",
       "      <td>11.459829</td>\n",
       "      <td>0.012256</td>\n",
       "      <td>11.493993</td>\n",
       "    </tr>\n",
       "    <tr>\n",
       "      <th>GunPoint</th>\n",
       "      <td>0.000645</td>\n",
       "      <td>0.027494</td>\n",
       "      <td>1.169863</td>\n",
       "      <td>0.000965</td>\n",
       "      <td>1.199090</td>\n",
       "    </tr>\n",
       "    <tr>\n",
       "      <th>ItalyPowerDemand</th>\n",
       "      <td>0.000136</td>\n",
       "      <td>0.001336</td>\n",
       "      <td>0.009811</td>\n",
       "      <td>0.000842</td>\n",
       "      <td>0.012150</td>\n",
       "    </tr>\n",
       "    <tr>\n",
       "      <th>ShapeletSim</th>\n",
       "      <td>0.001979</td>\n",
       "      <td>1.067537</td>\n",
       "      <td>2.180750</td>\n",
       "      <td>0.000412</td>\n",
       "      <td>3.250855</td>\n",
       "    </tr>\n",
       "    <tr>\n",
       "      <th>SmoothSubspace</th>\n",
       "      <td>0.000103</td>\n",
       "      <td>0.002251</td>\n",
       "      <td>0.010263</td>\n",
       "      <td>0.002864</td>\n",
       "      <td>0.015516</td>\n",
       "    </tr>\n",
       "    <tr>\n",
       "      <th>SonyAIBORobotSurface2</th>\n",
       "      <td>0.000321</td>\n",
       "      <td>0.002770</td>\n",
       "      <td>0.030471</td>\n",
       "      <td>0.000283</td>\n",
       "      <td>0.033882</td>\n",
       "    </tr>\n",
       "    <tr>\n",
       "      <th>SyntheticControl</th>\n",
       "      <td>0.000596</td>\n",
       "      <td>0.022403</td>\n",
       "      <td>3.277018</td>\n",
       "      <td>0.007352</td>\n",
       "      <td>3.307617</td>\n",
       "    </tr>\n",
       "  </tbody>\n",
       "</table>\n",
       "</div>"
      ],
      "text/plain": [
       "                              cweights_time  fsubsequence_time  tdataset_time  \\\n",
       "dataset_name                                                                    \n",
       "Chinatown                          0.000148           0.001009       0.001189   \n",
       "Coffee                             0.001126           0.082135       2.156343   \n",
       "DistalPhalanxOutlineAgeGroup       0.000529           0.020612       6.829225   \n",
       "DistalPhalanxOutlineCorrect        0.000499           0.021028      11.459829   \n",
       "GunPoint                           0.000645           0.027494       1.169863   \n",
       "ItalyPowerDemand                   0.000136           0.001336       0.009811   \n",
       "ShapeletSim                        0.001979           1.067537       2.180750   \n",
       "SmoothSubspace                     0.000103           0.002251       0.010263   \n",
       "SonyAIBORobotSurface2              0.000321           0.002770       0.030471   \n",
       "SyntheticControl                   0.000596           0.022403       3.277018   \n",
       "\n",
       "                              tclassifier_time       time  \n",
       "dataset_name                                               \n",
       "Chinatown                             0.000235   0.002611  \n",
       "Coffee                                0.000738   2.240458  \n",
       "DistalPhalanxOutlineAgeGroup          0.015880   6.866520  \n",
       "DistalPhalanxOutlineCorrect           0.012256  11.493993  \n",
       "GunPoint                              0.000965   1.199090  \n",
       "ItalyPowerDemand                      0.000842   0.012150  \n",
       "ShapeletSim                           0.000412   3.250855  \n",
       "SmoothSubspace                        0.002864   0.015516  \n",
       "SonyAIBORobotSurface2                 0.000283   0.033882  \n",
       "SyntheticControl                      0.007352   3.307617  "
      ]
     },
     "execution_count": 176,
     "metadata": {},
     "output_type": "execute_result"
    }
   ],
   "source": [
    "# create a pivot table with the mean of time spent in minutes\n",
    "pivot=pd.pivot_table(df_result_acc, values=['time','cweights_time','fsubsequence_time','tdataset_time','tclassifier_time'], index=['dataset_name'], aggfunc='mean')/60\n",
    "pivot = pivot.reindex(columns=['cweights_time','fsubsequence_time','tdataset_time','tclassifier_time','time'])\n",
    "pivot"
   ]
  },
  {
   "cell_type": "code",
   "execution_count": 177,
   "metadata": {},
   "outputs": [
    {
     "data": {
      "text/html": [
       "<div>\n",
       "<style scoped>\n",
       "    .dataframe tbody tr th:only-of-type {\n",
       "        vertical-align: middle;\n",
       "    }\n",
       "\n",
       "    .dataframe tbody tr th {\n",
       "        vertical-align: top;\n",
       "    }\n",
       "\n",
       "    .dataframe thead th {\n",
       "        text-align: right;\n",
       "    }\n",
       "</style>\n",
       "<table border=\"1\" class=\"dataframe\">\n",
       "  <thead>\n",
       "    <tr style=\"text-align: right;\">\n",
       "      <th>nb_per_class</th>\n",
       "      <th>half_instance</th>\n",
       "      <th>1</th>\n",
       "      <th>10</th>\n",
       "      <th>30</th>\n",
       "      <th>50</th>\n",
       "      <th>100</th>\n",
       "    </tr>\n",
       "    <tr>\n",
       "      <th>rpoint</th>\n",
       "      <th></th>\n",
       "      <th></th>\n",
       "      <th></th>\n",
       "      <th></th>\n",
       "      <th></th>\n",
       "      <th></th>\n",
       "    </tr>\n",
       "  </thead>\n",
       "  <tbody>\n",
       "    <tr>\n",
       "      <th>half_len</th>\n",
       "      <td>6.261809</td>\n",
       "      <td>0.188840</td>\n",
       "      <td>1.735428</td>\n",
       "      <td>3.121328</td>\n",
       "      <td>4.033781</td>\n",
       "      <td>6.101150</td>\n",
       "    </tr>\n",
       "    <tr>\n",
       "      <th>1</th>\n",
       "      <td>0.235409</td>\n",
       "      <td>0.030910</td>\n",
       "      <td>0.229455</td>\n",
       "      <td>0.225405</td>\n",
       "      <td>0.255934</td>\n",
       "      <td>0.299618</td>\n",
       "    </tr>\n",
       "    <tr>\n",
       "      <th>10</th>\n",
       "      <td>1.504871</td>\n",
       "      <td>0.070647</td>\n",
       "      <td>0.392648</td>\n",
       "      <td>0.714677</td>\n",
       "      <td>0.968808</td>\n",
       "      <td>1.460306</td>\n",
       "    </tr>\n",
       "    <tr>\n",
       "      <th>30</th>\n",
       "      <td>4.353855</td>\n",
       "      <td>0.085533</td>\n",
       "      <td>0.823051</td>\n",
       "      <td>1.781575</td>\n",
       "      <td>2.503229</td>\n",
       "      <td>4.013510</td>\n",
       "    </tr>\n",
       "    <tr>\n",
       "      <th>50</th>\n",
       "      <td>6.898692</td>\n",
       "      <td>0.126150</td>\n",
       "      <td>1.220109</td>\n",
       "      <td>2.727945</td>\n",
       "      <td>3.900089</td>\n",
       "      <td>6.263533</td>\n",
       "    </tr>\n",
       "    <tr>\n",
       "      <th>100</th>\n",
       "      <td>8.631351</td>\n",
       "      <td>0.172934</td>\n",
       "      <td>1.758087</td>\n",
       "      <td>3.675822</td>\n",
       "      <td>5.071737</td>\n",
       "      <td>7.969462</td>\n",
       "    </tr>\n",
       "  </tbody>\n",
       "</table>\n",
       "</div>"
      ],
      "text/plain": [
       "nb_per_class  half_instance         1        10        30        50       100\n",
       "rpoint                                                                       \n",
       "half_len           6.261809  0.188840  1.735428  3.121328  4.033781  6.101150\n",
       "1                  0.235409  0.030910  0.229455  0.225405  0.255934  0.299618\n",
       "10                 1.504871  0.070647  0.392648  0.714677  0.968808  1.460306\n",
       "30                 4.353855  0.085533  0.823051  1.781575  2.503229  4.013510\n",
       "50                 6.898692  0.126150  1.220109  2.727945  3.900089  6.263533\n",
       "100                8.631351  0.172934  1.758087  3.675822  5.071737  7.969462"
      ]
     },
     "execution_count": 177,
     "metadata": {},
     "output_type": "execute_result"
    }
   ],
   "source": [
    "# create a pivot table with the mean of time spent in minutes by random points and instances per class\n",
    "pivot = pd.pivot_table(df_result_acc, values='time', index=['rpoint'],columns=['nb_per_class'], aggfunc='mean')/60\n",
    "pivot = pivot.reindex(columns=[\"half_instance\",\"1\",\"10\",\"30\",\"50\",\"100\"], index=[\"half_len\",\"1\",\"10\",\"30\",\"50\",\"100\"])\n",
    "pivot"
   ]
  },
  {
   "attachments": {},
   "cell_type": "markdown",
   "metadata": {},
   "source": [
    "##### Calculate weights time complexity"
   ]
  },
  {
   "cell_type": "code",
   "execution_count": 178,
   "metadata": {},
   "outputs": [
    {
     "data": {
      "text/html": [
       "<div>\n",
       "<style scoped>\n",
       "    .dataframe tbody tr th:only-of-type {\n",
       "        vertical-align: middle;\n",
       "    }\n",
       "\n",
       "    .dataframe tbody tr th {\n",
       "        vertical-align: top;\n",
       "    }\n",
       "\n",
       "    .dataframe thead th {\n",
       "        text-align: right;\n",
       "    }\n",
       "</style>\n",
       "<table border=\"1\" class=\"dataframe\">\n",
       "  <thead>\n",
       "    <tr style=\"text-align: right;\">\n",
       "      <th>nb_per_class</th>\n",
       "      <th>1</th>\n",
       "      <th>10</th>\n",
       "      <th>100</th>\n",
       "      <th>30</th>\n",
       "      <th>50</th>\n",
       "      <th>half_instance</th>\n",
       "    </tr>\n",
       "    <tr>\n",
       "      <th>rpoint</th>\n",
       "      <th></th>\n",
       "      <th></th>\n",
       "      <th></th>\n",
       "      <th></th>\n",
       "      <th></th>\n",
       "      <th></th>\n",
       "    </tr>\n",
       "  </thead>\n",
       "  <tbody>\n",
       "    <tr>\n",
       "      <th>1</th>\n",
       "      <td>0.033104</td>\n",
       "      <td>0.028988</td>\n",
       "      <td>0.030304</td>\n",
       "      <td>0.034169</td>\n",
       "      <td>0.031028</td>\n",
       "      <td>0.037928</td>\n",
       "    </tr>\n",
       "    <tr>\n",
       "      <th>10</th>\n",
       "      <td>0.031234</td>\n",
       "      <td>0.031703</td>\n",
       "      <td>0.031063</td>\n",
       "      <td>0.029213</td>\n",
       "      <td>0.033344</td>\n",
       "      <td>0.031579</td>\n",
       "    </tr>\n",
       "    <tr>\n",
       "      <th>100</th>\n",
       "      <td>0.036020</td>\n",
       "      <td>0.031545</td>\n",
       "      <td>0.036904</td>\n",
       "      <td>0.032671</td>\n",
       "      <td>0.038523</td>\n",
       "      <td>0.031398</td>\n",
       "    </tr>\n",
       "    <tr>\n",
       "      <th>30</th>\n",
       "      <td>0.036652</td>\n",
       "      <td>0.031756</td>\n",
       "      <td>0.032759</td>\n",
       "      <td>0.029987</td>\n",
       "      <td>0.033704</td>\n",
       "      <td>0.033881</td>\n",
       "    </tr>\n",
       "    <tr>\n",
       "      <th>50</th>\n",
       "      <td>0.031117</td>\n",
       "      <td>0.028541</td>\n",
       "      <td>0.035483</td>\n",
       "      <td>0.027509</td>\n",
       "      <td>0.037067</td>\n",
       "      <td>0.035067</td>\n",
       "    </tr>\n",
       "    <tr>\n",
       "      <th>half_len</th>\n",
       "      <td>0.035530</td>\n",
       "      <td>0.036537</td>\n",
       "      <td>0.031300</td>\n",
       "      <td>0.035474</td>\n",
       "      <td>0.033315</td>\n",
       "      <td>0.032135</td>\n",
       "    </tr>\n",
       "  </tbody>\n",
       "</table>\n",
       "</div>"
      ],
      "text/plain": [
       "nb_per_class         1        10       100        30        50  half_instance\n",
       "rpoint                                                                       \n",
       "1             0.033104  0.028988  0.030304  0.034169  0.031028       0.037928\n",
       "10            0.031234  0.031703  0.031063  0.029213  0.033344       0.031579\n",
       "100           0.036020  0.031545  0.036904  0.032671  0.038523       0.031398\n",
       "30            0.036652  0.031756  0.032759  0.029987  0.033704       0.033881\n",
       "50            0.031117  0.028541  0.035483  0.027509  0.037067       0.035067\n",
       "half_len      0.035530  0.036537  0.031300  0.035474  0.033315       0.032135"
      ]
     },
     "execution_count": 178,
     "metadata": {},
     "output_type": "execute_result"
    }
   ],
   "source": [
    "pd.pivot_table(df_result_acc, values='cweights_time', index=['rpoint'],columns=['nb_per_class'], aggfunc='mean')"
   ]
  },
  {
   "attachments": {},
   "cell_type": "markdown",
   "metadata": {},
   "source": [
    "##### Finding subsequences time complexity"
   ]
  },
  {
   "cell_type": "code",
   "execution_count": 179,
   "metadata": {},
   "outputs": [
    {
     "data": {
      "text/html": [
       "<div>\n",
       "<style scoped>\n",
       "    .dataframe tbody tr th:only-of-type {\n",
       "        vertical-align: middle;\n",
       "    }\n",
       "\n",
       "    .dataframe tbody tr th {\n",
       "        vertical-align: top;\n",
       "    }\n",
       "\n",
       "    .dataframe thead th {\n",
       "        text-align: right;\n",
       "    }\n",
       "</style>\n",
       "<table border=\"1\" class=\"dataframe\">\n",
       "  <thead>\n",
       "    <tr style=\"text-align: right;\">\n",
       "      <th>nb_per_class</th>\n",
       "      <th>1</th>\n",
       "      <th>10</th>\n",
       "      <th>100</th>\n",
       "      <th>30</th>\n",
       "      <th>50</th>\n",
       "      <th>half_instance</th>\n",
       "    </tr>\n",
       "    <tr>\n",
       "      <th>rpoint</th>\n",
       "      <th></th>\n",
       "      <th></th>\n",
       "      <th></th>\n",
       "      <th></th>\n",
       "      <th></th>\n",
       "      <th></th>\n",
       "    </tr>\n",
       "  </thead>\n",
       "  <tbody>\n",
       "    <tr>\n",
       "      <th>1</th>\n",
       "      <td>1.062878</td>\n",
       "      <td>10.720794</td>\n",
       "      <td>10.177322</td>\n",
       "      <td>9.944551</td>\n",
       "      <td>10.484300</td>\n",
       "      <td>4.714549</td>\n",
       "    </tr>\n",
       "    <tr>\n",
       "      <th>10</th>\n",
       "      <td>1.190037</td>\n",
       "      <td>10.500041</td>\n",
       "      <td>11.254508</td>\n",
       "      <td>11.214291</td>\n",
       "      <td>12.114361</td>\n",
       "      <td>4.276368</td>\n",
       "    </tr>\n",
       "    <tr>\n",
       "      <th>100</th>\n",
       "      <td>1.022200</td>\n",
       "      <td>10.317002</td>\n",
       "      <td>12.000450</td>\n",
       "      <td>11.650403</td>\n",
       "      <td>11.064503</td>\n",
       "      <td>4.087908</td>\n",
       "    </tr>\n",
       "    <tr>\n",
       "      <th>30</th>\n",
       "      <td>0.845324</td>\n",
       "      <td>9.904906</td>\n",
       "      <td>10.372493</td>\n",
       "      <td>11.040476</td>\n",
       "      <td>11.137078</td>\n",
       "      <td>3.337455</td>\n",
       "    </tr>\n",
       "    <tr>\n",
       "      <th>50</th>\n",
       "      <td>0.781835</td>\n",
       "      <td>10.258747</td>\n",
       "      <td>12.561215</td>\n",
       "      <td>11.059702</td>\n",
       "      <td>12.798398</td>\n",
       "      <td>3.632705</td>\n",
       "    </tr>\n",
       "    <tr>\n",
       "      <th>half_len</th>\n",
       "      <td>0.836477</td>\n",
       "      <td>5.109263</td>\n",
       "      <td>6.689661</td>\n",
       "      <td>6.828399</td>\n",
       "      <td>7.104405</td>\n",
       "      <td>3.994608</td>\n",
       "    </tr>\n",
       "  </tbody>\n",
       "</table>\n",
       "</div>"
      ],
      "text/plain": [
       "nb_per_class         1         10        100         30         50  \\\n",
       "rpoint                                                               \n",
       "1             1.062878  10.720794  10.177322   9.944551  10.484300   \n",
       "10            1.190037  10.500041  11.254508  11.214291  12.114361   \n",
       "100           1.022200  10.317002  12.000450  11.650403  11.064503   \n",
       "30            0.845324   9.904906  10.372493  11.040476  11.137078   \n",
       "50            0.781835  10.258747  12.561215  11.059702  12.798398   \n",
       "half_len      0.836477   5.109263   6.689661   6.828399   7.104405   \n",
       "\n",
       "nb_per_class  half_instance  \n",
       "rpoint                       \n",
       "1                  4.714549  \n",
       "10                 4.276368  \n",
       "100                4.087908  \n",
       "30                 3.337455  \n",
       "50                 3.632705  \n",
       "half_len           3.994608  "
      ]
     },
     "execution_count": 179,
     "metadata": {},
     "output_type": "execute_result"
    }
   ],
   "source": [
    "pd.pivot_table(df_result_acc, values='fsubsequence_time', index=['rpoint'],columns=['nb_per_class'], aggfunc='mean')"
   ]
  },
  {
   "attachments": {},
   "cell_type": "markdown",
   "metadata": {},
   "source": [
    "##### Transform Dataset time complexity"
   ]
  },
  {
   "cell_type": "code",
   "execution_count": 180,
   "metadata": {},
   "outputs": [
    {
     "data": {
      "text/html": [
       "<div>\n",
       "<style scoped>\n",
       "    .dataframe tbody tr th:only-of-type {\n",
       "        vertical-align: middle;\n",
       "    }\n",
       "\n",
       "    .dataframe tbody tr th {\n",
       "        vertical-align: top;\n",
       "    }\n",
       "\n",
       "    .dataframe thead th {\n",
       "        text-align: right;\n",
       "    }\n",
       "</style>\n",
       "<table border=\"1\" class=\"dataframe\">\n",
       "  <thead>\n",
       "    <tr style=\"text-align: right;\">\n",
       "      <th>nb_per_class</th>\n",
       "      <th>1</th>\n",
       "      <th>10</th>\n",
       "      <th>100</th>\n",
       "      <th>30</th>\n",
       "      <th>50</th>\n",
       "      <th>half_instance</th>\n",
       "    </tr>\n",
       "    <tr>\n",
       "      <th>rpoint</th>\n",
       "      <th></th>\n",
       "      <th></th>\n",
       "      <th></th>\n",
       "      <th></th>\n",
       "      <th></th>\n",
       "      <th></th>\n",
       "    </tr>\n",
       "  </thead>\n",
       "  <tbody>\n",
       "    <tr>\n",
       "      <th>1</th>\n",
       "      <td>0.348945</td>\n",
       "      <td>1.544016</td>\n",
       "      <td>7.729118</td>\n",
       "      <td>3.395683</td>\n",
       "      <td>4.798767</td>\n",
       "      <td>9.147625</td>\n",
       "    </tr>\n",
       "    <tr>\n",
       "      <th>10</th>\n",
       "      <td>1.479358</td>\n",
       "      <td>12.983179</td>\n",
       "      <td>76.233117</td>\n",
       "      <td>31.577731</td>\n",
       "      <td>45.905181</td>\n",
       "      <td>85.872446</td>\n",
       "    </tr>\n",
       "    <tr>\n",
       "      <th>100</th>\n",
       "      <td>9.203955</td>\n",
       "      <td>95.046295</td>\n",
       "      <td>465.765727</td>\n",
       "      <td>208.672489</td>\n",
       "      <td>292.929978</td>\n",
       "      <td>513.351527</td>\n",
       "    </tr>\n",
       "    <tr>\n",
       "      <th>30</th>\n",
       "      <td>4.070989</td>\n",
       "      <td>39.382066</td>\n",
       "      <td>230.172858</td>\n",
       "      <td>95.712427</td>\n",
       "      <td>138.869203</td>\n",
       "      <td>257.584396</td>\n",
       "    </tr>\n",
       "    <tr>\n",
       "      <th>50</th>\n",
       "      <td>6.632263</td>\n",
       "      <td>62.841087</td>\n",
       "      <td>362.903294</td>\n",
       "      <td>152.439461</td>\n",
       "      <td>220.967310</td>\n",
       "      <td>409.877289</td>\n",
       "    </tr>\n",
       "    <tr>\n",
       "      <th>half_len</th>\n",
       "      <td>10.298733</td>\n",
       "      <td>98.885094</td>\n",
       "      <td>359.039770</td>\n",
       "      <td>180.237481</td>\n",
       "      <td>234.640574</td>\n",
       "      <td>371.363102</td>\n",
       "    </tr>\n",
       "  </tbody>\n",
       "</table>\n",
       "</div>"
      ],
      "text/plain": [
       "nb_per_class          1         10         100          30          50  \\\n",
       "rpoint                                                                   \n",
       "1              0.348945   1.544016    7.729118    3.395683    4.798767   \n",
       "10             1.479358  12.983179   76.233117   31.577731   45.905181   \n",
       "100            9.203955  95.046295  465.765727  208.672489  292.929978   \n",
       "30             4.070989  39.382066  230.172858   95.712427  138.869203   \n",
       "50             6.632263  62.841087  362.903294  152.439461  220.967310   \n",
       "half_len      10.298733  98.885094  359.039770  180.237481  234.640574   \n",
       "\n",
       "nb_per_class  half_instance  \n",
       "rpoint                       \n",
       "1                  9.147625  \n",
       "10                85.872446  \n",
       "100              513.351527  \n",
       "30               257.584396  \n",
       "50               409.877289  \n",
       "half_len         371.363102  "
      ]
     },
     "execution_count": 180,
     "metadata": {},
     "output_type": "execute_result"
    }
   ],
   "source": [
    "pd.pivot_table(df_result_acc, values='tdataset_time', index=['rpoint'],columns=['nb_per_class'], aggfunc='mean')"
   ]
  },
  {
   "attachments": {},
   "cell_type": "markdown",
   "metadata": {},
   "source": [
    "##### Classifier time complexity"
   ]
  },
  {
   "cell_type": "code",
   "execution_count": 181,
   "metadata": {},
   "outputs": [
    {
     "data": {
      "text/html": [
       "<div>\n",
       "<style scoped>\n",
       "    .dataframe tbody tr th:only-of-type {\n",
       "        vertical-align: middle;\n",
       "    }\n",
       "\n",
       "    .dataframe tbody tr th {\n",
       "        vertical-align: top;\n",
       "    }\n",
       "\n",
       "    .dataframe thead th {\n",
       "        text-align: right;\n",
       "    }\n",
       "</style>\n",
       "<table border=\"1\" class=\"dataframe\">\n",
       "  <thead>\n",
       "    <tr style=\"text-align: right;\">\n",
       "      <th>nb_per_class</th>\n",
       "      <th>1</th>\n",
       "      <th>10</th>\n",
       "      <th>100</th>\n",
       "      <th>30</th>\n",
       "      <th>50</th>\n",
       "      <th>half_instance</th>\n",
       "    </tr>\n",
       "    <tr>\n",
       "      <th>rpoint</th>\n",
       "      <th></th>\n",
       "      <th></th>\n",
       "      <th></th>\n",
       "      <th></th>\n",
       "      <th></th>\n",
       "      <th></th>\n",
       "    </tr>\n",
       "  </thead>\n",
       "  <tbody>\n",
       "    <tr>\n",
       "      <th>1</th>\n",
       "      <td>0.407952</td>\n",
       "      <td>1.470478</td>\n",
       "      <td>0.038643</td>\n",
       "      <td>0.147463</td>\n",
       "      <td>0.039994</td>\n",
       "      <td>0.219500</td>\n",
       "    </tr>\n",
       "    <tr>\n",
       "      <th>10</th>\n",
       "      <td>1.536178</td>\n",
       "      <td>0.041795</td>\n",
       "      <td>0.096197</td>\n",
       "      <td>0.056618</td>\n",
       "      <td>0.073147</td>\n",
       "      <td>0.107452</td>\n",
       "    </tr>\n",
       "    <tr>\n",
       "      <th>100</th>\n",
       "      <td>0.111796</td>\n",
       "      <td>0.086580</td>\n",
       "      <td>0.350240</td>\n",
       "      <td>0.185500</td>\n",
       "      <td>0.260409</td>\n",
       "      <td>0.395215</td>\n",
       "    </tr>\n",
       "    <tr>\n",
       "      <th>30</th>\n",
       "      <td>0.177052</td>\n",
       "      <td>0.060669</td>\n",
       "      <td>0.224602</td>\n",
       "      <td>0.106781</td>\n",
       "      <td>0.147212</td>\n",
       "      <td>0.265783</td>\n",
       "    </tr>\n",
       "    <tr>\n",
       "      <th>50</th>\n",
       "      <td>0.121397</td>\n",
       "      <td>0.074523</td>\n",
       "      <td>0.299982</td>\n",
       "      <td>0.143293</td>\n",
       "      <td>0.194250</td>\n",
       "      <td>0.362863</td>\n",
       "    </tr>\n",
       "    <tr>\n",
       "      <th>half_len</th>\n",
       "      <td>0.157924</td>\n",
       "      <td>0.088107</td>\n",
       "      <td>0.286154</td>\n",
       "      <td>0.164868</td>\n",
       "      <td>0.229226</td>\n",
       "      <td>0.298011</td>\n",
       "    </tr>\n",
       "  </tbody>\n",
       "</table>\n",
       "</div>"
      ],
      "text/plain": [
       "nb_per_class         1        10       100        30        50  half_instance\n",
       "rpoint                                                                       \n",
       "1             0.407952  1.470478  0.038643  0.147463  0.039994       0.219500\n",
       "10            1.536178  0.041795  0.096197  0.056618  0.073147       0.107452\n",
       "100           0.111796  0.086580  0.350240  0.185500  0.260409       0.395215\n",
       "30            0.177052  0.060669  0.224602  0.106781  0.147212       0.265783\n",
       "50            0.121397  0.074523  0.299982  0.143293  0.194250       0.362863\n",
       "half_len      0.157924  0.088107  0.286154  0.164868  0.229226       0.298011"
      ]
     },
     "execution_count": 181,
     "metadata": {},
     "output_type": "execute_result"
    }
   ],
   "source": [
    "pd.pivot_table(df_result_acc, values='tclassifier_time', index=['rpoint'],columns=['nb_per_class'], aggfunc='mean')"
   ]
  }
 ],
 "metadata": {
  "kernelspec": {
   "display_name": "rsast_env",
   "language": "python",
   "name": "python3"
  },
  "language_info": {
   "codemirror_mode": {
    "name": "ipython",
    "version": 3
   },
   "file_extension": ".py",
   "mimetype": "text/x-python",
   "name": "python",
   "nbconvert_exporter": "python",
   "pygments_lexer": "ipython3",
   "version": "3.9.13"
  },
  "vscode": {
   "interpreter": {
    "hash": "15558ed87e778df9776c3e85b8e1a3f1f5adbf230fcca0229423f99909b60d27"
   }
  }
 },
 "nbformat": 4,
 "nbformat_minor": 2
}
