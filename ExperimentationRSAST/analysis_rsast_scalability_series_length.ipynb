{
 "cells": [
  {
   "attachments": {},
   "cell_type": "markdown",
   "metadata": {},
   "source": [
    "## Experiments: Scalability Series Length RSAST"
   ]
  },
  {
   "cell_type": "code",
   "execution_count": 2,
   "metadata": {},
   "outputs": [
    {
     "data": {
      "text/plain": [
       "['c:\\\\Users\\\\Nicolas R\\\\random_sast\\\\ExperimentationRSAST',\n",
       " 'c:\\\\ProgramData\\\\Anaconda3\\\\python39.zip',\n",
       " 'c:\\\\ProgramData\\\\Anaconda3\\\\DLLs',\n",
       " 'c:\\\\ProgramData\\\\Anaconda3\\\\lib',\n",
       " 'c:\\\\ProgramData\\\\Anaconda3',\n",
       " '',\n",
       " 'C:\\\\Users\\\\Nicolas R\\\\AppData\\\\Roaming\\\\Python\\\\Python39\\\\site-packages',\n",
       " 'c:\\\\ProgramData\\\\Anaconda3\\\\lib\\\\site-packages',\n",
       " 'c:\\\\ProgramData\\\\Anaconda3\\\\lib\\\\site-packages\\\\win32',\n",
       " 'c:\\\\ProgramData\\\\Anaconda3\\\\lib\\\\site-packages\\\\win32\\\\lib',\n",
       " 'c:\\\\ProgramData\\\\Anaconda3\\\\lib\\\\site-packages\\\\Pythonwin',\n",
       " 'c:\\\\ProgramData\\\\Anaconda3\\\\lib\\\\site-packages\\\\IPython\\\\extensions',\n",
       " 'C:\\\\Users\\\\Nicolas R\\\\.ipython',\n",
       " 'c:\\\\Users\\\\Nicolas R\\\\random_sast/sast',\n",
       " 'c:\\\\Users\\\\Nicolas R\\\\random_sast\\\\sast',\n",
       " 'c:\\\\Users\\\\Nicolas R\\\\random_sast\\\\ExperimentationRSAST/sast',\n",
       " 'c:\\\\Users\\\\Nicolas R\\\\random_sast\\\\ExperimentationRSAST\\\\sast',\n",
       " 'c:\\\\Users\\\\Nicolas R\\\\random_sast\\\\cd_diagram',\n",
       " 'c:\\\\Users\\\\Nicolas R\\\\random_sast/cd_diagram',\n",
       " 'c:\\\\Users\\\\Nicolas R\\\\random_sast\\\\ExperimentationRSAST\\\\cd_diagram',\n",
       " 'c:\\\\Users\\\\Nicolas R\\\\random_sast\\\\ExperimentationRSAST/cd_diagram']"
      ]
     },
     "execution_count": 2,
     "metadata": {},
     "output_type": "execute_result"
    }
   ],
   "source": [
    "import sys \n",
    "import os \n",
    "#add sast library path\n",
    "file_path = os.path.dirname(os.getcwd())+\"/sast\"\n",
    "\n",
    "#file_path = r\"C:\\Users\\Public\\random_sast\\sast\"\n",
    "sys.path.append(file_path)\n",
    "\n",
    "file_path = os.path.dirname(os.getcwd())+\"\\sast\"\n",
    "\n",
    "\n",
    "#file_path = r\"C:\\Users\\Public\\random_sast\\sast\"\n",
    "sys.path.append(file_path)\n",
    "\n",
    "file_path = os.getcwd()+\"/sast\"\n",
    "\n",
    "\n",
    "#file_path = r\"C:\\Users\\Public\\random_sast\\sast\"\n",
    "sys.path.append(file_path)\n",
    "\n",
    "file_path = os.getcwd()+\"\\sast\"\n",
    "\n",
    "\n",
    "#file_path = r\"C:\\Users\\Public\\random_sast\\sast\"\n",
    "sys.path.append(file_path)\n",
    "\n",
    "#add cd_diagram library path\n",
    "file_path = os.path.dirname(os.getcwd())+\"\\cd_diagram\"\n",
    "\n",
    "#file_path = r\"C:\\Users\\Public\\random_sast\\cd_diagram\"\n",
    "sys.path.append(file_path)\n",
    "\n",
    "\n",
    "file_path = os.path.dirname(os.getcwd())+\"/cd_diagram\"\n",
    "#file_path = r\"C:\\Users\\Public\\random_sast\\sast\"\n",
    "sys.path.append(file_path)\n",
    "\n",
    "file_path = os.getcwd()+\"\\cd_diagram\"\n",
    "#file_path = r\"C:\\Users\\Public\\random_sast\\sast\"\n",
    "sys.path.append(file_path)\n",
    "\n",
    "file_path = os.getcwd()+\"/cd_diagram\"\n",
    "#file_path = r\"C:\\Users\\Public\\random_sast\\sast\"\n",
    "sys.path.append(file_path)\n",
    "\n",
    "sys.path\n"
   ]
  },
  {
   "attachments": {},
   "cell_type": "markdown",
   "metadata": {},
   "source": [
    "### Overall analysis"
   ]
  },
  {
   "cell_type": "code",
   "execution_count": 4,
   "metadata": {},
   "outputs": [],
   "source": [
    "import time \n",
    "import os \n",
    "import gc\n",
    "import numpy as np\n",
    "\n",
    "import sys\n",
    "sys.path.append(os.path.abspath(\".\"))\n",
    "\n",
    "from utils_sast import *\n",
    "from sast import *\n",
    "\n",
    "from sklearn.linear_model import RidgeClassifierCV,RidgeClassifier\n",
    "\n",
    "from sast import from_2d_array_to_nested\n",
    "from sktime.classification.kernel_based import RocketClassifier\n",
    "#from sktime.transformations.panel.shapelets import *\n",
    "\n",
    "from sktime.datasets import load_UCR_UEA_dataset\n",
    "from matplotlib.ticker import FuncFormatter\n",
    "#from convst.classifiers import R_DST_Ridge\n",
    "from aeon.classification.shapelet_based import RDSTClassifier"
   ]
  },
  {
   "cell_type": "code",
   "execution_count": null,
   "metadata": {},
   "outputs": [
    {
     "name": "stdout",
     "output_type": "stream",
     "text": [
      "--series_length: 2^4\n",
      "RSAST ACF&PACF: n_random_points=10 nb_inst_per_class=1\n",
      "total kernels:50\n",
      "RSAST ACF&PACF: n_random_points=30 nb_inst_per_class=1\n",
      "total kernels:19\n",
      "RSAST ACF&PACF: n_random_points=10 nb_inst_per_class=10\n",
      "total kernels:340\n",
      "RSAST ACF&PACF: n_random_points=30 nb_inst_per_class=10\n",
      "total kernels:345\n",
      "ROCKET: kernels=10_000\n",
      "SAST: min_shapelet_length=3 max_shapelet_length=m\n",
      "RDST: n_shapelets=10_000\n",
      "--series_length: 2^5\n",
      "RSAST ACF&PACF: n_random_points=10 nb_inst_per_class=1\n",
      "total kernels:130\n",
      "RSAST ACF&PACF: n_random_points=30 nb_inst_per_class=1\n",
      "total kernels:177\n",
      "RSAST ACF&PACF: n_random_points=10 nb_inst_per_class=10\n",
      "total kernels:530\n",
      "RSAST ACF&PACF: n_random_points=30 nb_inst_per_class=10\n",
      "total kernels:1608\n",
      "ROCKET: kernels=10_000\n",
      "SAST: min_shapelet_length=3 max_shapelet_length=m\n",
      "RDST: n_shapelets=10_000\n",
      "--series_length: 2^6\n",
      "RSAST ACF&PACF: n_random_points=10 nb_inst_per_class=1\n",
      "total kernels:220\n",
      "RSAST ACF&PACF: n_random_points=30 nb_inst_per_class=1\n",
      "total kernels:390\n",
      "RSAST ACF&PACF: n_random_points=10 nb_inst_per_class=10\n",
      "total kernels:1760\n",
      "RSAST ACF&PACF: n_random_points=30 nb_inst_per_class=10\n",
      "total kernels:6390\n"
     ]
    },
    {
     "name": "stderr",
     "output_type": "stream",
     "text": [
      "c:\\ProgramData\\Anaconda3\\lib\\site-packages\\sklearn\\linear_model\\_ridge.py:194: LinAlgWarning: Ill-conditioned matrix (rcond=4.76792e-08): result may not be accurate.\n",
      "  dual_coef = linalg.solve(K, y, sym_pos=True, overwrite_a=False)\n"
     ]
    },
    {
     "name": "stdout",
     "output_type": "stream",
     "text": [
      "ROCKET: kernels=10_000\n",
      "SAST: min_shapelet_length=3 max_shapelet_length=m\n"
     ]
    },
    {
     "name": "stderr",
     "output_type": "stream",
     "text": [
      "c:\\ProgramData\\Anaconda3\\lib\\site-packages\\sklearn\\linear_model\\_ridge.py:194: LinAlgWarning: Ill-conditioned matrix (rcond=1.05658e-08): result may not be accurate.\n",
      "  dual_coef = linalg.solve(K, y, sym_pos=True, overwrite_a=False)\n"
     ]
    },
    {
     "name": "stdout",
     "output_type": "stream",
     "text": [
      "RDST: n_shapelets=10_000\n",
      "--series_length: 2^7\n",
      "RSAST ACF&PACF: n_random_points=10 nb_inst_per_class=1\n",
      "total kernels:370\n",
      "RSAST ACF&PACF: n_random_points=30 nb_inst_per_class=1\n",
      "total kernels:3330\n"
     ]
    },
    {
     "name": "stderr",
     "output_type": "stream",
     "text": [
      "c:\\ProgramData\\Anaconda3\\lib\\site-packages\\sklearn\\linear_model\\_ridge.py:194: LinAlgWarning: Ill-conditioned matrix (rcond=4.67193e-08): result may not be accurate.\n",
      "  dual_coef = linalg.solve(K, y, sym_pos=True, overwrite_a=False)\n"
     ]
    },
    {
     "name": "stdout",
     "output_type": "stream",
     "text": [
      "RSAST ACF&PACF: n_random_points=10 nb_inst_per_class=10\n",
      "total kernels:5438\n"
     ]
    },
    {
     "name": "stderr",
     "output_type": "stream",
     "text": [
      "c:\\ProgramData\\Anaconda3\\lib\\site-packages\\sklearn\\linear_model\\_ridge.py:194: LinAlgWarning: Ill-conditioned matrix (rcond=7.45722e-10): result may not be accurate.\n",
      "  dual_coef = linalg.solve(K, y, sym_pos=True, overwrite_a=False)\n"
     ]
    },
    {
     "name": "stdout",
     "output_type": "stream",
     "text": [
      "RSAST ACF&PACF: n_random_points=30 nb_inst_per_class=10\n",
      "total kernels:19380\n"
     ]
    },
    {
     "name": "stderr",
     "output_type": "stream",
     "text": [
      "c:\\ProgramData\\Anaconda3\\lib\\site-packages\\sklearn\\linear_model\\_ridge.py:196: UserWarning: Singular matrix in solving dual problem. Using least-squares solution instead.\n",
      "  warnings.warn(\n"
     ]
    },
    {
     "name": "stdout",
     "output_type": "stream",
     "text": [
      "ROCKET: kernels=10_000\n",
      "SAST: min_shapelet_length=3 max_shapelet_length=m\n"
     ]
    },
    {
     "name": "stderr",
     "output_type": "stream",
     "text": [
      "c:\\ProgramData\\Anaconda3\\lib\\site-packages\\sklearn\\linear_model\\_ridge.py:196: UserWarning: Singular matrix in solving dual problem. Using least-squares solution instead.\n",
      "  warnings.warn(\n"
     ]
    },
    {
     "name": "stdout",
     "output_type": "stream",
     "text": [
      "RDST: n_shapelets=10_000\n",
      "--series_length: 2^8\n",
      "RSAST ACF&PACF: n_random_points=10 nb_inst_per_class=1\n",
      "total kernels:650\n"
     ]
    },
    {
     "name": "stderr",
     "output_type": "stream",
     "text": [
      "c:\\ProgramData\\Anaconda3\\lib\\site-packages\\sklearn\\linear_model\\_ridge.py:194: LinAlgWarning: Ill-conditioned matrix (rcond=2.17613e-08): result may not be accurate.\n",
      "  dual_coef = linalg.solve(K, y, sym_pos=True, overwrite_a=False)\n"
     ]
    },
    {
     "name": "stdout",
     "output_type": "stream",
     "text": [
      "RSAST ACF&PACF: n_random_points=30 nb_inst_per_class=1\n",
      "total kernels:2700\n"
     ]
    },
    {
     "name": "stderr",
     "output_type": "stream",
     "text": [
      "c:\\ProgramData\\Anaconda3\\lib\\site-packages\\sklearn\\linear_model\\_ridge.py:194: LinAlgWarning: Ill-conditioned matrix (rcond=3.56799e-09): result may not be accurate.\n",
      "  dual_coef = linalg.solve(K, y, sym_pos=True, overwrite_a=False)\n"
     ]
    },
    {
     "name": "stdout",
     "output_type": "stream",
     "text": [
      "RSAST ACF&PACF: n_random_points=10 nb_inst_per_class=10\n",
      "total kernels:8500\n"
     ]
    },
    {
     "name": "stderr",
     "output_type": "stream",
     "text": [
      "c:\\ProgramData\\Anaconda3\\lib\\site-packages\\sklearn\\linear_model\\_ridge.py:196: UserWarning: Singular matrix in solving dual problem. Using least-squares solution instead.\n",
      "  warnings.warn(\n"
     ]
    },
    {
     "name": "stdout",
     "output_type": "stream",
     "text": [
      "RSAST ACF&PACF: n_random_points=30 nb_inst_per_class=10\n",
      "total kernels:18630\n"
     ]
    },
    {
     "name": "stderr",
     "output_type": "stream",
     "text": [
      "c:\\ProgramData\\Anaconda3\\lib\\site-packages\\sklearn\\linear_model\\_ridge.py:196: UserWarning: Singular matrix in solving dual problem. Using least-squares solution instead.\n",
      "  warnings.warn(\n"
     ]
    },
    {
     "name": "stdout",
     "output_type": "stream",
     "text": [
      "ROCKET: kernels=10_000\n",
      "SAST: min_shapelet_length=3 max_shapelet_length=m\n"
     ]
    },
    {
     "name": "stderr",
     "output_type": "stream",
     "text": [
      "c:\\ProgramData\\Anaconda3\\lib\\site-packages\\sklearn\\linear_model\\_ridge.py:194: LinAlgWarning: Ill-conditioned matrix (rcond=1.02193e-10): result may not be accurate.\n",
      "  dual_coef = linalg.solve(K, y, sym_pos=True, overwrite_a=False)\n"
     ]
    },
    {
     "name": "stdout",
     "output_type": "stream",
     "text": [
      "RDST: n_shapelets=10_000\n",
      "--series_length: 2^9\n",
      "RSAST ACF&PACF: n_random_points=10 nb_inst_per_class=1\n",
      "total kernels:510\n",
      "RSAST ACF&PACF: n_random_points=30 nb_inst_per_class=1\n",
      "total kernels:1620\n"
     ]
    },
    {
     "name": "stderr",
     "output_type": "stream",
     "text": [
      "c:\\ProgramData\\Anaconda3\\lib\\site-packages\\sklearn\\linear_model\\_ridge.py:194: LinAlgWarning: Ill-conditioned matrix (rcond=1.62671e-08): result may not be accurate.\n",
      "  dual_coef = linalg.solve(K, y, sym_pos=True, overwrite_a=False)\n"
     ]
    },
    {
     "name": "stdout",
     "output_type": "stream",
     "text": [
      "RSAST ACF&PACF: n_random_points=10 nb_inst_per_class=10\n",
      "total kernels:7180\n"
     ]
    },
    {
     "name": "stderr",
     "output_type": "stream",
     "text": [
      "c:\\ProgramData\\Anaconda3\\lib\\site-packages\\sklearn\\linear_model\\_ridge.py:196: UserWarning: Singular matrix in solving dual problem. Using least-squares solution instead.\n",
      "  warnings.warn(\n"
     ]
    },
    {
     "name": "stdout",
     "output_type": "stream",
     "text": [
      "RSAST ACF&PACF: n_random_points=30 nb_inst_per_class=10\n",
      "total kernels:26520\n"
     ]
    },
    {
     "name": "stderr",
     "output_type": "stream",
     "text": [
      "c:\\ProgramData\\Anaconda3\\lib\\site-packages\\sklearn\\linear_model\\_ridge.py:196: UserWarning: Singular matrix in solving dual problem. Using least-squares solution instead.\n",
      "  warnings.warn(\n"
     ]
    },
    {
     "name": "stdout",
     "output_type": "stream",
     "text": [
      "ROCKET: kernels=10_000\n"
     ]
    },
    {
     "name": "stderr",
     "output_type": "stream",
     "text": [
      "c:\\ProgramData\\Anaconda3\\lib\\site-packages\\sklearn\\linear_model\\_ridge.py:194: LinAlgWarning: Ill-conditioned matrix (rcond=4.67091e-08): result may not be accurate.\n",
      "  dual_coef = linalg.solve(K, y, sym_pos=True, overwrite_a=False)\n"
     ]
    },
    {
     "name": "stdout",
     "output_type": "stream",
     "text": [
      "SAST: min_shapelet_length=3 max_shapelet_length=m\n"
     ]
    },
    {
     "name": "stderr",
     "output_type": "stream",
     "text": [
      "c:\\ProgramData\\Anaconda3\\lib\\site-packages\\sklearn\\linear_model\\_ridge.py:196: UserWarning: Singular matrix in solving dual problem. Using least-squares solution instead.\n",
      "  warnings.warn(\n"
     ]
    },
    {
     "name": "stdout",
     "output_type": "stream",
     "text": [
      "RDST: n_shapelets=10_000\n",
      "--series_length: 2^10\n",
      "RSAST ACF&PACF: n_random_points=10 nb_inst_per_class=1\n",
      "total kernels:2220\n"
     ]
    },
    {
     "name": "stderr",
     "output_type": "stream",
     "text": [
      "c:\\ProgramData\\Anaconda3\\lib\\site-packages\\sklearn\\linear_model\\_ridge.py:196: UserWarning: Singular matrix in solving dual problem. Using least-squares solution instead.\n",
      "  warnings.warn(\n"
     ]
    },
    {
     "name": "stdout",
     "output_type": "stream",
     "text": [
      "RSAST ACF&PACF: n_random_points=30 nb_inst_per_class=1\n",
      "total kernels:4410\n"
     ]
    },
    {
     "name": "stderr",
     "output_type": "stream",
     "text": [
      "c:\\ProgramData\\Anaconda3\\lib\\site-packages\\sklearn\\linear_model\\_ridge.py:196: UserWarning: Singular matrix in solving dual problem. Using least-squares solution instead.\n",
      "  warnings.warn(\n"
     ]
    },
    {
     "name": "stdout",
     "output_type": "stream",
     "text": [
      "RSAST ACF&PACF: n_random_points=10 nb_inst_per_class=10\n",
      "total kernels:30800\n"
     ]
    },
    {
     "name": "stderr",
     "output_type": "stream",
     "text": [
      "c:\\ProgramData\\Anaconda3\\lib\\site-packages\\sklearn\\linear_model\\_ridge.py:196: UserWarning: Singular matrix in solving dual problem. Using least-squares solution instead.\n",
      "  warnings.warn(\n"
     ]
    },
    {
     "name": "stdout",
     "output_type": "stream",
     "text": [
      "RSAST ACF&PACF: n_random_points=30 nb_inst_per_class=10\n",
      "total kernels:79320\n"
     ]
    },
    {
     "name": "stderr",
     "output_type": "stream",
     "text": [
      "c:\\ProgramData\\Anaconda3\\lib\\site-packages\\sklearn\\linear_model\\_ridge.py:194: LinAlgWarning: Ill-conditioned matrix (rcond=2.70942e-09): result may not be accurate.\n",
      "  dual_coef = linalg.solve(K, y, sym_pos=True, overwrite_a=False)\n"
     ]
    },
    {
     "name": "stdout",
     "output_type": "stream",
     "text": [
      "ROCKET: kernels=10_000\n"
     ]
    },
    {
     "name": "stderr",
     "output_type": "stream",
     "text": [
      "c:\\ProgramData\\Anaconda3\\lib\\site-packages\\sklearn\\linear_model\\_ridge.py:194: LinAlgWarning: Ill-conditioned matrix (rcond=4.9813e-08): result may not be accurate.\n",
      "  dual_coef = linalg.solve(K, y, sym_pos=True, overwrite_a=False)\n"
     ]
    },
    {
     "name": "stdout",
     "output_type": "stream",
     "text": [
      "SAST: min_shapelet_length=3 max_shapelet_length=m\n"
     ]
    },
    {
     "name": "stderr",
     "output_type": "stream",
     "text": [
      "c:\\ProgramData\\Anaconda3\\lib\\site-packages\\sklearn\\linear_model\\_ridge.py:194: LinAlgWarning: Ill-conditioned matrix (rcond=1.02889e-08): result may not be accurate.\n",
      "  dual_coef = linalg.solve(K, y, sym_pos=True, overwrite_a=False)\n"
     ]
    },
    {
     "name": "stdout",
     "output_type": "stream",
     "text": [
      "RDST: n_shapelets=10_000\n",
      "--All done\n"
     ]
    }
   ],
   "source": [
    "\n",
    "\n",
    "dataset_folder = '/home/local.isima.fr/mimbouop/Univariate_arff' # the folder containing the datasets\n",
    "ds = 'HouseTwenty' # the dataset to use\n",
    "\n",
    "\n",
    "\n",
    "#max_exponent = 10 # go up to series of length 2^max_exponent\n",
    "max_exponent = 10 # go up to series of length 2^max_exponent\n",
    "\n",
    "\n",
    "X_train_all, y_train = load_UCR_UEA_dataset(name=ds, extract_path='data', split=\"train\", return_type=\"numpy2d\")\n",
    "X_test_all, y_test_all = load_UCR_UEA_dataset(name=ds, extract_path='data', split=\"test\", return_type=\"numpy2d\")\n",
    "    \n",
    "# fill na\n",
    "#train_ds.fillna(0, axis=1, inplace=True)\n",
    "#test_ds.fillna(0, axis=1, inplace=True)\n",
    "\n",
    "#X_train_all, y_train = format_dataset(train_ds, shuffle=True)\n",
    "#X_test_all, y_test_all = format_dataset(test_ds)\n",
    "\n",
    "df_result = {}\n",
    "list_score = []\n",
    "list_time_fit = []\n",
    "list_time_test = []\n",
    "list_dataset = []\n",
    "list_hyperparameter = []\n",
    "list_method = []\n",
    "list_rpoint = []\n",
    "list_nb_per_class = []\n",
    "list_series_length = []\n",
    "list_exp_length = []\n",
    "\n",
    "for i in range(4, max_exponent+1):\n",
    "\n",
    "    series_length = 2**i\n",
    "\n",
    "    X_train = X_train_all[:,:series_length]\n",
    "    X_test = X_test_all[:X_train.shape[0], :series_length]\n",
    "    y_test = y_test_all[:X_train.shape[0]]\n",
    "\n",
    "    max_shp_length = X_train.shape[1]\n",
    "\n",
    "    \n",
    "\n",
    "    print(\"--series_length: 2^\"+str(i))\n",
    "\n",
    "    p=10\n",
    "    k=1\n",
    "    print(\"RSAST ACF&PACF: n_random_points=\"+str(p)+\" nb_inst_per_class=\"+str(k))\n",
    "    clf = RidgeClassifier()\n",
    "    #clf = RidgeClassifierCV(alphas=np.logspace(-3, 3, 10))\n",
    "    start = time.time()\n",
    "    \n",
    "    rsast_ridge = RSAST(n_random_points=p,nb_inst_per_class=k, len_method=\"both\", classifier=clf)\n",
    "    rsast_ridge.fit(X_train, y_train)\n",
    "    end = time.time()\n",
    "    time_fit=end-start\n",
    "\n",
    "    start = time.time()\n",
    "    score=rsast_ridge.score(X_test, y_test) \n",
    "    end = time.time()\n",
    "    time_test=end-start\n",
    "\n",
    "    list_score.append(score)\n",
    "    list_time_fit.append(time_fit)\n",
    "    list_time_test.append(time_test)\n",
    "\n",
    "    list_dataset.append(ds)\n",
    "    list_hyperparameter.append(\"ACF&PACF: n_random_points=\"+str(p)+\" nb_inst_per_class=\"+str(k))\n",
    "    list_rpoint.append(str(p))\n",
    "    list_nb_per_class.append(str(k))\n",
    "    list_method.append(\"RSAST ACF&PACF\")\n",
    "    list_series_length.append(series_length)\n",
    "    list_exp_length.append(str(i))\n",
    "\n",
    "    p=30\n",
    "    k=1\n",
    "    print(\"RSAST ACF&PACF: n_random_points=\"+str(p)+\" nb_inst_per_class=\"+str(k))\n",
    "    clf = RidgeClassifier()\n",
    "    #clf = RidgeClassifierCV(alphas=np.logspace(-3, 3, 10))\n",
    "    start = time.time()\n",
    "    \n",
    "    rsast_ridge = RSAST(n_random_points=p,nb_inst_per_class=k, len_method=\"both\", classifier=clf)\n",
    "    rsast_ridge.fit(X_train, y_train)\n",
    "    end = time.time()\n",
    "    time_fit=end-start\n",
    "\n",
    "    start = time.time()\n",
    "    score=rsast_ridge.score(X_test, y_test) \n",
    "    end = time.time()\n",
    "    time_test=end-start\n",
    "\n",
    "    list_score.append(score)\n",
    "    list_time_fit.append(time_fit)\n",
    "    list_time_test.append(time_test)\n",
    "\n",
    "    list_dataset.append(ds)\n",
    "    list_hyperparameter.append(\"ACF&PACF: n_random_points=\"+str(p)+\" nb_inst_per_class=\"+str(k))\n",
    "    list_rpoint.append(str(p))\n",
    "    list_nb_per_class.append(str(k))\n",
    "    list_method.append(\"RSAST ACF&PACF\")\n",
    "    list_series_length.append(series_length)\n",
    "    list_exp_length.append(str(i))\n",
    "\n",
    "    p=10\n",
    "    k=10\n",
    "    print(\"RSAST ACF&PACF: n_random_points=\"+str(p)+\" nb_inst_per_class=\"+str(k))\n",
    "    clf = RidgeClassifier()\n",
    "    #clf = RidgeClassifierCV(alphas=np.logspace(-3, 3, 10))\n",
    "    start = time.time()\n",
    "    \n",
    "    rsast_ridge = RSAST(n_random_points=p,nb_inst_per_class=k, len_method=\"both\", classifier=clf)\n",
    "    rsast_ridge.fit(X_train, y_train)\n",
    "    end = time.time()\n",
    "    time_fit=end-start\n",
    "\n",
    "    start = time.time()\n",
    "    score=rsast_ridge.score(X_test, y_test) \n",
    "    end = time.time()\n",
    "    time_test=end-start\n",
    "\n",
    "    list_score.append(score)\n",
    "    list_time_fit.append(time_fit)\n",
    "    list_time_test.append(time_test)\n",
    "\n",
    "    list_dataset.append(ds)\n",
    "    list_hyperparameter.append(\"ACF&PACF: n_random_points=\"+str(p)+\" nb_inst_per_class=\"+str(k))\n",
    "    list_rpoint.append(str(p))\n",
    "    list_nb_per_class.append(str(k))\n",
    "    list_method.append(\"RSAST ACF&PACF\")\n",
    "    list_series_length.append(series_length)\n",
    "    list_exp_length.append(str(i))\n",
    "\n",
    "    p=30\n",
    "    k=10\n",
    "    print(\"RSAST ACF&PACF: n_random_points=\"+str(p)+\" nb_inst_per_class=\"+str(k))\n",
    "    clf = RidgeClassifier()\n",
    "    #clf = RidgeClassifierCV(alphas=np.logspace(-3, 3, 10))\n",
    "    start = time.time()\n",
    "    \n",
    "    rsast_ridge = RSAST(n_random_points=p,nb_inst_per_class=k, len_method=\"both\", classifier=clf)\n",
    "    rsast_ridge.fit(X_train, y_train)\n",
    "    end = time.time()\n",
    "    time_fit=end-start\n",
    "\n",
    "    start = time.time()\n",
    "    score=rsast_ridge.score(X_test, y_test) \n",
    "    end = time.time()\n",
    "    time_test=end-start\n",
    "\n",
    "    list_score.append(score)\n",
    "    list_time_fit.append(time_fit)\n",
    "    list_time_test.append(time_test)\n",
    "\n",
    "    list_dataset.append(ds)\n",
    "    list_hyperparameter.append(\"ACF&PACF: n_random_points=\"+str(p)+\" nb_inst_per_class=\"+str(k))\n",
    "    list_rpoint.append(str(p))\n",
    "    list_nb_per_class.append(str(k))\n",
    "    list_method.append(\"RSAST ACF&PACF\")\n",
    "    list_series_length.append(series_length)\n",
    "    list_exp_length.append(str(i))\n",
    "\n",
    "\n",
    "    print(\"ROCKET: kernels=10_000\")\n",
    "\n",
    "    clf = RidgeClassifier()\n",
    "\n",
    "    start = time.time()\n",
    "    trf = Rocket(num_kernels=10_000) \n",
    "    trf.fit(from_2d_array_to_nested(X_train))\n",
    "    X_train_tranf = trf.transform(from_2d_array_to_nested(X_train)) \n",
    "    clf.fit(X_train_tranf,y_train)\n",
    "    end = time.time()\n",
    "    time_fit=end-start\n",
    "\n",
    "    start = time.time()\n",
    "    X_test_tranf = trf.transform(from_2d_array_to_nested(X_test)) \n",
    "    score=clf.score(X_test_tranf,y_test)\n",
    "    end = time.time()\n",
    "    time_test=end-start\n",
    "\n",
    "    list_score.append(score)\n",
    "    list_time_fit.append(time_fit)\n",
    "    list_time_test.append(time_test)\n",
    "\n",
    "    list_dataset.append(ds)\n",
    "    list_hyperparameter.append(\"ROCKET: num_kernels=10_000\")\n",
    "    list_rpoint.append(str(0))\n",
    "    list_nb_per_class.append(str(0))\n",
    "    list_method.append(\"Rocket\")\n",
    "    list_series_length.append(series_length)\n",
    "    list_exp_length.append(str(i))\n",
    "\n",
    "    k=1\n",
    "    \n",
    "    #candidate_lengths = np.arange(min_shp_length, max_shp_length+1)\n",
    "    clf = RidgeClassifier()\n",
    "    min_shp_length = 3\n",
    "    max_shp_length = X_train.shape[1]\n",
    "    candidate_lengths = np.arange(3, max_shp_length)\n",
    "    min_shp_length = min(candidate_lengths)\n",
    "    max_shp_length = max(candidate_lengths)\n",
    "    print(\"SAST: min_shapelet_length=\"+str(min_shp_length)+\" max_shapelet_length=m\")\n",
    "    start = time.time()\n",
    "    \n",
    "\n",
    "    random_state = None\n",
    "    \n",
    "\n",
    "    sast_ridge = SAST(cand_length_list=candidate_lengths,\n",
    "                            nb_inst_per_class=k, \n",
    "                             classifier=clf)\n",
    "\n",
    "    sast_ridge.fit(X_train, y_train)\n",
    "    end = time.time()\n",
    "    time_fit=end-start\n",
    "\n",
    "    start = time.time()\n",
    "    score=sast_ridge.score(X_test, y_test) \n",
    "    end = time.time()\n",
    "    time_test=end-start\n",
    "\n",
    "    list_score.append(score)\n",
    "    list_time_fit.append(time_fit)\n",
    "    list_time_test.append(time_test)\n",
    "\n",
    "    list_dataset.append(ds)\n",
    "    list_hyperparameter.append(\"SAST: min_shapelet_length=\"+str(min_shp_length)+\" max_shapelet_length=m\")\n",
    "    list_rpoint.append(str(0))\n",
    "    list_nb_per_class.append(str(0))\n",
    "    list_method.append(\"SAST\")  \n",
    "    list_series_length.append(series_length)\n",
    "    list_exp_length.append(str(i))\n",
    "    \n",
    "    \n",
    "    print(\"RDST: n_shapelets=10_000\")\n",
    "\n",
    "    X_train_rdst=X_train[:, np.newaxis, :]\n",
    "    y_train_rdst=np.asarray([int(x_s) for x_s in y_train])\n",
    "\n",
    "    X_test_rdst=X_test[:, np.newaxis, :]\n",
    "    y_test_rdst=np.asarray([int(x_s) for x_s in y_test])\n",
    "\n",
    "    start = time.time()\n",
    "\n",
    "    rdst = RDSTClassifier()\n",
    "    rdst.fit(X_train_rdst, y_train_rdst)\n",
    "    end = time.time()\n",
    "    time_fit=end-start\n",
    "    start = time.time()\n",
    "    score=rdst.score(X_test_rdst, y_test_rdst)\n",
    "    end = time.time()\n",
    "    time_test=end-start\n",
    "    \n",
    "    list_score.append(score)\n",
    "    list_time_fit.append(time_fit)\n",
    "    list_time_test.append(time_test)\n",
    "\n",
    "    list_dataset.append(ds)\n",
    "    list_hyperparameter.append(\"RDST: n_shapelets=10_000\")\n",
    "    list_rpoint.append(str(0))\n",
    "    list_nb_per_class.append(str(0))\n",
    "    list_method.append(\"RDST\")  \n",
    "    list_series_length.append(series_length)\n",
    "    list_exp_length.append(str(i))\n",
    "    \n",
    "    '''\n",
    "    min_shp_length = 3\n",
    "    print(\"STC: min_shapelet_length=\"+str(min_shp_length)+\" max_shapelet_length=\"+str(np.inf))\n",
    "    \n",
    "    max_shp_length = X_train.shape[1]\n",
    "    start = time.time()\n",
    "    #Creating a ShapeletTransform and fitting\n",
    "    st = ShapeletTransform(min_shapelet_length=min_shp_length, max_shapelet_length=np.inf)\n",
    "    X_train_sktime = from_2d_array_to_nested(pd.DataFrame(X_train))\n",
    "    X_test_sktime = from_2d_array_to_nested(pd.DataFrame(X_test))\n",
    "    st.fit(X_train_sktime, y_train)\n",
    "    #Making the tranformation of time series and training a RandomForestClassifier model\n",
    "    X_test_transformed = st.transform(X_test_sktime)\n",
    "    X_train_transformed = st.transform(X_train_sktime)\n",
    "    clf = RandomForestClassifier()\n",
    "    clf.fit(X_train_transformed, y_train)\n",
    "    \n",
    "    end = time.time()\n",
    "    list_score.append(clf.score(X_test_transformed, y_test))\n",
    "    list_time.append(end-start)\n",
    "    list_dataset.append(ds)\n",
    "    list_hyperparameter.append(\"min_shapelet_length=\"+str(min_shp_length)+\" max_shapelet_length=\"+str(max_shp_length))\n",
    "    list_rpoint.append(str(0))\n",
    "    list_nb_per_class.append(str(0))\n",
    "    list_method.append(\"STC\")  \n",
    "    '''\n",
    "    \n",
    "    \n",
    "\n",
    "df_result['accuracy']=list_score\n",
    "df_result['time_fit']=list_time_fit\n",
    "df_result['time_test']=list_time_test\n",
    "df_result['dataset_name']=list_dataset\n",
    "df_result['hyperparameter']=list_hyperparameter\n",
    "df_result['rpoint']=list_rpoint\n",
    "df_result['nb_per_class']=list_nb_per_class\n",
    "df_result['classifier_name']=list_method\n",
    "df_result['series_length']=list_series_length\n",
    "df_result['exp_length']=list_exp_length\n",
    "\n",
    "df_result=pd.DataFrame(df_result)\n",
    "# export a overall dataset with the comparison\n",
    "df_result.to_csv(\"results_comparison_accuracy/df_overall_comparison_scalability_series_length.csv\")\n",
    "    #  Write results\n",
    "    #result = [series_length, sast_time_fit, sast_time_test, sast_fixed_time_fit, sast_fixed_time_test, saste_time_fit, saste_time_test, saste_fixed_time_fit, saste_fixed_time_test, stc_time_fit, stc_time_test]\n",
    "    #f.write(','.join(np.array(result, dtype=np.str)) + '\\n')\n",
    "\n",
    "print('--All done')\n"
   ]
  },
  {
   "cell_type": "code",
   "execution_count": 8,
   "metadata": {},
   "outputs": [],
   "source": [
    "df_result=pd.read_csv(\"results_comparison_accuracy/df_overall_comparison_scalability_series_length.csv\")\n",
    "df_result=df_result[~df_result[\"hyperparameter\"].isin([\"ACF&PACF: n_random_points=30 nb_inst_per_class=10\"])]\n",
    "\n"
   ]
  },
  {
   "cell_type": "code",
   "execution_count": 9,
   "metadata": {},
   "outputs": [
    {
     "data": {
      "image/png": "[encoded data removed]",
      "text/plain": [
       "<Figure size 640x480 with 1 Axes>"
      ]
     },
     "metadata": {},
     "output_type": "display_data"
    }
   ],
   "source": [
    "\n",
    "df_result[\"log_series_length\"]=np.log2(df_result[\"series_length\"])\n",
    "df_result_pv=df_result[df_result[\"log_series_length\"].isin([5,6,7,8,9,10])]\n",
    "df_result_pv.pivot_table(values=\"time_fit\", index=\"log_series_length\", columns=\"hyperparameter\").plot.line(grid=True, xlabel=\"Series Length TS\", ylabel=\"Log scale: Training Time in seconds\")\n",
    "\n",
    "\n",
    "#place legend in center right of plot\n",
    "plt.legend(bbox_to_anchor=(0.5, -0.15), loc='upper center')\n",
    "\n",
    "# Define the custom formatter function\n",
    "def exponent_of_2(x, pos):\n",
    "    return r'$2^{{{}}}$'.format(int(x))\n",
    "\n",
    "\n",
    "\n",
    "# Set the x-axis formatter as the custom formatter function\n",
    "plt.gca().xaxis.set_major_formatter(FuncFormatter(exponent_of_2))\n",
    "plt.yscale(\"log\")  "
   ]
  },
  {
   "cell_type": "code",
   "execution_count": 5,
   "metadata": {},
   "outputs": [
    {
     "data": {
      "text/html": [
       "<div>\n",
       "<style scoped>\n",
       "    .dataframe tbody tr th:only-of-type {\n",
       "        vertical-align: middle;\n",
       "    }\n",
       "\n",
       "    .dataframe tbody tr th {\n",
       "        vertical-align: top;\n",
       "    }\n",
       "\n",
       "    .dataframe thead th {\n",
       "        text-align: right;\n",
       "    }\n",
       "</style>\n",
       "<table border=\"1\" class=\"dataframe\">\n",
       "  <thead>\n",
       "    <tr style=\"text-align: right;\">\n",
       "      <th></th>\n",
       "      <th>Unnamed: 0</th>\n",
       "      <th>accuracy</th>\n",
       "      <th>time_fit</th>\n",
       "      <th>time_test</th>\n",
       "      <th>dataset_name</th>\n",
       "      <th>hyperparameter</th>\n",
       "      <th>rpoint</th>\n",
       "      <th>nb_per_class</th>\n",
       "      <th>classifier_name</th>\n",
       "      <th>series_length</th>\n",
       "      <th>exp_length</th>\n",
       "      <th>log_series_length</th>\n",
       "    </tr>\n",
       "  </thead>\n",
       "  <tbody>\n",
       "    <tr>\n",
       "      <th>2</th>\n",
       "      <td>2</td>\n",
       "      <td>0.325</td>\n",
       "      <td>0.097153</td>\n",
       "      <td>0.048315</td>\n",
       "      <td>HouseTwenty</td>\n",
       "      <td>ACF&amp;PACF: n_random_points=10 nb_inst_per_class=10</td>\n",
       "      <td>10</td>\n",
       "      <td>10</td>\n",
       "      <td>RSAST ACF&amp;PACF</td>\n",
       "      <td>16</td>\n",
       "      <td>4</td>\n",
       "      <td>4.0</td>\n",
       "    </tr>\n",
       "    <tr>\n",
       "      <th>9</th>\n",
       "      <td>9</td>\n",
       "      <td>0.675</td>\n",
       "      <td>0.237338</td>\n",
       "      <td>0.203488</td>\n",
       "      <td>HouseTwenty</td>\n",
       "      <td>ACF&amp;PACF: n_random_points=10 nb_inst_per_class=10</td>\n",
       "      <td>10</td>\n",
       "      <td>10</td>\n",
       "      <td>RSAST ACF&amp;PACF</td>\n",
       "      <td>32</td>\n",
       "      <td>5</td>\n",
       "      <td>5.0</td>\n",
       "    </tr>\n",
       "    <tr>\n",
       "      <th>16</th>\n",
       "      <td>16</td>\n",
       "      <td>0.450</td>\n",
       "      <td>2.889991</td>\n",
       "      <td>2.728716</td>\n",
       "      <td>HouseTwenty</td>\n",
       "      <td>ACF&amp;PACF: n_random_points=10 nb_inst_per_class=10</td>\n",
       "      <td>10</td>\n",
       "      <td>10</td>\n",
       "      <td>RSAST ACF&amp;PACF</td>\n",
       "      <td>64</td>\n",
       "      <td>6</td>\n",
       "      <td>6.0</td>\n",
       "    </tr>\n",
       "    <tr>\n",
       "      <th>23</th>\n",
       "      <td>23</td>\n",
       "      <td>0.450</td>\n",
       "      <td>16.673888</td>\n",
       "      <td>15.831869</td>\n",
       "      <td>HouseTwenty</td>\n",
       "      <td>ACF&amp;PACF: n_random_points=10 nb_inst_per_class=10</td>\n",
       "      <td>10</td>\n",
       "      <td>10</td>\n",
       "      <td>RSAST ACF&amp;PACF</td>\n",
       "      <td>128</td>\n",
       "      <td>7</td>\n",
       "      <td>7.0</td>\n",
       "    </tr>\n",
       "    <tr>\n",
       "      <th>30</th>\n",
       "      <td>30</td>\n",
       "      <td>0.875</td>\n",
       "      <td>73.827321</td>\n",
       "      <td>57.680809</td>\n",
       "      <td>HouseTwenty</td>\n",
       "      <td>ACF&amp;PACF: n_random_points=10 nb_inst_per_class=10</td>\n",
       "      <td>10</td>\n",
       "      <td>10</td>\n",
       "      <td>RSAST ACF&amp;PACF</td>\n",
       "      <td>256</td>\n",
       "      <td>8</td>\n",
       "      <td>8.0</td>\n",
       "    </tr>\n",
       "    <tr>\n",
       "      <th>37</th>\n",
       "      <td>37</td>\n",
       "      <td>0.850</td>\n",
       "      <td>257.927148</td>\n",
       "      <td>110.532539</td>\n",
       "      <td>HouseTwenty</td>\n",
       "      <td>ACF&amp;PACF: n_random_points=10 nb_inst_per_class=10</td>\n",
       "      <td>10</td>\n",
       "      <td>10</td>\n",
       "      <td>RSAST ACF&amp;PACF</td>\n",
       "      <td>512</td>\n",
       "      <td>9</td>\n",
       "      <td>9.0</td>\n",
       "    </tr>\n",
       "    <tr>\n",
       "      <th>44</th>\n",
       "      <td>44</td>\n",
       "      <td>0.750</td>\n",
       "      <td>2281.960830</td>\n",
       "      <td>1219.829672</td>\n",
       "      <td>HouseTwenty</td>\n",
       "      <td>ACF&amp;PACF: n_random_points=10 nb_inst_per_class=10</td>\n",
       "      <td>10</td>\n",
       "      <td>10</td>\n",
       "      <td>RSAST ACF&amp;PACF</td>\n",
       "      <td>1024</td>\n",
       "      <td>10</td>\n",
       "      <td>10.0</td>\n",
       "    </tr>\n",
       "  </tbody>\n",
       "</table>\n",
       "</div>"
      ],
      "text/plain": [
       "    Unnamed: 0  accuracy     time_fit    time_test dataset_name  \\\n",
       "2            2     0.325     0.097153     0.048315  HouseTwenty   \n",
       "9            9     0.675     0.237338     0.203488  HouseTwenty   \n",
       "16          16     0.450     2.889991     2.728716  HouseTwenty   \n",
       "23          23     0.450    16.673888    15.831869  HouseTwenty   \n",
       "30          30     0.875    73.827321    57.680809  HouseTwenty   \n",
       "37          37     0.850   257.927148   110.532539  HouseTwenty   \n",
       "44          44     0.750  2281.960830  1219.829672  HouseTwenty   \n",
       "\n",
       "                                       hyperparameter  rpoint  nb_per_class  \\\n",
       "2   ACF&PACF: n_random_points=10 nb_inst_per_class=10      10            10   \n",
       "9   ACF&PACF: n_random_points=10 nb_inst_per_class=10      10            10   \n",
       "16  ACF&PACF: n_random_points=10 nb_inst_per_class=10      10            10   \n",
       "23  ACF&PACF: n_random_points=10 nb_inst_per_class=10      10            10   \n",
       "30  ACF&PACF: n_random_points=10 nb_inst_per_class=10      10            10   \n",
       "37  ACF&PACF: n_random_points=10 nb_inst_per_class=10      10            10   \n",
       "44  ACF&PACF: n_random_points=10 nb_inst_per_class=10      10            10   \n",
       "\n",
       "   classifier_name  series_length  exp_length  log_series_length  \n",
       "2   RSAST ACF&PACF             16           4                4.0  \n",
       "9   RSAST ACF&PACF             32           5                5.0  \n",
       "16  RSAST ACF&PACF             64           6                6.0  \n",
       "23  RSAST ACF&PACF            128           7                7.0  \n",
       "30  RSAST ACF&PACF            256           8                8.0  \n",
       "37  RSAST ACF&PACF            512           9                9.0  \n",
       "44  RSAST ACF&PACF           1024          10               10.0  "
      ]
     },
     "execution_count": 5,
     "metadata": {},
     "output_type": "execute_result"
    }
   ],
   "source": [
    "df_result\n",
    "df_result[df_result[\"hyperparameter\"].isin([\"ACF&PACF: n_random_points=10 nb_inst_per_class=10\"])]\n",
    "#df_result[df_result[\"hyperparameter\"].isin([\"ROCKET: num_kernels=10_000\"])]\n",
    "#df_result[df_result[\"hyperparameter\"].isin([\"SAST: min_shapelet_length=3 max_shapelet_length=m\"])]\n",
    "#df_result[df_result[\"hyperparameter\"].isin([\"RDST: n_shapelets=10_000\"])]"
   ]
  }
 ],
 "metadata": {
  "kernelspec": {
   "display_name": "rsast_env",
   "language": "python",
   "name": "python3"
  },
  "language_info": {
   "codemirror_mode": {
    "name": "ipython",
    "version": 3
   },
   "file_extension": ".py",
   "mimetype": "text/x-python",
   "name": "python",
   "nbconvert_exporter": "python",
   "pygments_lexer": "ipython3",
   "version": "3.9.13"
  },
  "vscode": {
   "interpreter": {
    "hash": "15558ed87e778df9776c3e85b8e1a3f1f5adbf230fcca0229423f99909b60d27"
   }
  }
 },
 "nbformat": 4,
 "nbformat_minor": 2
}
