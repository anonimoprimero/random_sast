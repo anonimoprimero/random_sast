{
 "cells": [
  {
   "attachments": {},
   "cell_type": "markdown",
   "metadata": {},
   "source": [
    "## Experiments: Scalability Series Length RSAST"
   ]
  },
  {
   "cell_type": "code",
   "execution_count": 17,
   "metadata": {},
   "outputs": [
    {
     "data": {
      "text/plain": [
       "['c:\\\\Users\\\\Nicolas R\\\\random_sast\\\\ExperimentationRSAST',\n",
       " 'c:\\\\ProgramData\\\\Anaconda3\\\\python39.zip',\n",
       " 'c:\\\\ProgramData\\\\Anaconda3\\\\DLLs',\n",
       " 'c:\\\\ProgramData\\\\Anaconda3\\\\lib',\n",
       " 'c:\\\\ProgramData\\\\Anaconda3',\n",
       " '',\n",
       " 'C:\\\\Users\\\\Nicolas R\\\\AppData\\\\Roaming\\\\Python\\\\Python39\\\\site-packages',\n",
       " 'c:\\\\ProgramData\\\\Anaconda3\\\\lib\\\\site-packages',\n",
       " 'c:\\\\ProgramData\\\\Anaconda3\\\\lib\\\\site-packages\\\\win32',\n",
       " 'c:\\\\ProgramData\\\\Anaconda3\\\\lib\\\\site-packages\\\\win32\\\\lib',\n",
       " 'c:\\\\ProgramData\\\\Anaconda3\\\\lib\\\\site-packages\\\\Pythonwin',\n",
       " 'c:\\\\ProgramData\\\\Anaconda3\\\\lib\\\\site-packages\\\\IPython\\\\extensions',\n",
       " 'C:\\\\Users\\\\Nicolas R\\\\.ipython',\n",
       " 'c:\\\\Users\\\\Nicolas R\\\\random_sast/sast',\n",
       " 'c:\\\\Users\\\\Nicolas R\\\\random_sast\\\\sast',\n",
       " 'c:\\\\Users\\\\Nicolas R\\\\random_sast\\\\ExperimentationRSAST/sast',\n",
       " 'c:\\\\Users\\\\Nicolas R\\\\random_sast\\\\ExperimentationRSAST\\\\sast',\n",
       " 'c:\\\\Users\\\\Nicolas R\\\\random_sast\\\\cd_diagram',\n",
       " 'c:\\\\Users\\\\Nicolas R\\\\random_sast/cd_diagram',\n",
       " 'c:\\\\Users\\\\Nicolas R\\\\random_sast\\\\ExperimentationRSAST\\\\cd_diagram',\n",
       " 'c:\\\\Users\\\\Nicolas R\\\\random_sast\\\\ExperimentationRSAST/cd_diagram',\n",
       " 'c:\\\\Users\\\\Nicolas R\\\\random_sast/sast',\n",
       " 'c:\\\\Users\\\\Nicolas R\\\\random_sast\\\\sast',\n",
       " 'c:\\\\Users\\\\Nicolas R\\\\random_sast\\\\ExperimentationRSAST/sast',\n",
       " 'c:\\\\Users\\\\Nicolas R\\\\random_sast\\\\ExperimentationRSAST\\\\sast',\n",
       " 'c:\\\\Users\\\\Nicolas R\\\\random_sast\\\\cd_diagram',\n",
       " 'c:\\\\Users\\\\Nicolas R\\\\random_sast/cd_diagram',\n",
       " 'c:\\\\Users\\\\Nicolas R\\\\random_sast\\\\ExperimentationRSAST\\\\cd_diagram',\n",
       " 'c:\\\\Users\\\\Nicolas R\\\\random_sast\\\\ExperimentationRSAST/cd_diagram',\n",
       " 'c:\\\\Users\\\\Nicolas R\\\\random_sast\\\\ExperimentationRSAST',\n",
       " 'c:\\\\Users\\\\Nicolas R\\\\random_sast/sast',\n",
       " 'c:\\\\Users\\\\Nicolas R\\\\random_sast\\\\sast',\n",
       " 'c:\\\\Users\\\\Nicolas R\\\\random_sast\\\\ExperimentationRSAST/sast',\n",
       " 'c:\\\\Users\\\\Nicolas R\\\\random_sast\\\\ExperimentationRSAST\\\\sast',\n",
       " 'c:\\\\Users\\\\Nicolas R\\\\random_sast\\\\cd_diagram',\n",
       " 'c:\\\\Users\\\\Nicolas R\\\\random_sast/cd_diagram',\n",
       " 'c:\\\\Users\\\\Nicolas R\\\\random_sast\\\\ExperimentationRSAST\\\\cd_diagram',\n",
       " 'c:\\\\Users\\\\Nicolas R\\\\random_sast\\\\ExperimentationRSAST/cd_diagram',\n",
       " 'c:\\\\Users\\\\Nicolas R\\\\random_sast\\\\ExperimentationRSAST',\n",
       " 'c:\\\\Users\\\\Nicolas R\\\\random_sast/sast',\n",
       " 'c:\\\\Users\\\\Nicolas R\\\\random_sast\\\\sast',\n",
       " 'c:\\\\Users\\\\Nicolas R\\\\random_sast\\\\ExperimentationRSAST/sast',\n",
       " 'c:\\\\Users\\\\Nicolas R\\\\random_sast\\\\ExperimentationRSAST\\\\sast',\n",
       " 'c:\\\\Users\\\\Nicolas R\\\\random_sast\\\\cd_diagram',\n",
       " 'c:\\\\Users\\\\Nicolas R\\\\random_sast/cd_diagram',\n",
       " 'c:\\\\Users\\\\Nicolas R\\\\random_sast\\\\ExperimentationRSAST\\\\cd_diagram',\n",
       " 'c:\\\\Users\\\\Nicolas R\\\\random_sast\\\\ExperimentationRSAST/cd_diagram',\n",
       " 'c:\\\\Users\\\\Nicolas R\\\\random_sast\\\\ExperimentationRSAST',\n",
       " 'c:\\\\Users\\\\Nicolas R\\\\random_sast/sast',\n",
       " 'c:\\\\Users\\\\Nicolas R\\\\random_sast\\\\sast',\n",
       " 'c:\\\\Users\\\\Nicolas R\\\\random_sast\\\\ExperimentationRSAST/sast',\n",
       " 'c:\\\\Users\\\\Nicolas R\\\\random_sast\\\\ExperimentationRSAST\\\\sast',\n",
       " 'c:\\\\Users\\\\Nicolas R\\\\random_sast\\\\cd_diagram',\n",
       " 'c:\\\\Users\\\\Nicolas R\\\\random_sast/cd_diagram',\n",
       " 'c:\\\\Users\\\\Nicolas R\\\\random_sast\\\\ExperimentationRSAST\\\\cd_diagram',\n",
       " 'c:\\\\Users\\\\Nicolas R\\\\random_sast\\\\ExperimentationRSAST/cd_diagram']"
      ]
     },
     "execution_count": 17,
     "metadata": {},
     "output_type": "execute_result"
    }
   ],
   "source": [
    "import sys \n",
    "import os \n",
    "#add sast library path\n",
    "file_path = os.path.dirname(os.getcwd())+\"/sast\"\n",
    "\n",
    "#file_path = r\"C:\\Users\\Public\\random_sast\\sast\"\n",
    "sys.path.append(file_path)\n",
    "\n",
    "file_path = os.path.dirname(os.getcwd())+\"\\sast\"\n",
    "\n",
    "\n",
    "#file_path = r\"C:\\Users\\Public\\random_sast\\sast\"\n",
    "sys.path.append(file_path)\n",
    "\n",
    "file_path = os.getcwd()+\"/sast\"\n",
    "\n",
    "\n",
    "#file_path = r\"C:\\Users\\Public\\random_sast\\sast\"\n",
    "sys.path.append(file_path)\n",
    "\n",
    "file_path = os.getcwd()+\"\\sast\"\n",
    "\n",
    "\n",
    "#file_path = r\"C:\\Users\\Public\\random_sast\\sast\"\n",
    "sys.path.append(file_path)\n",
    "\n",
    "#add cd_diagram library path\n",
    "file_path = os.path.dirname(os.getcwd())+\"\\cd_diagram\"\n",
    "\n",
    "#file_path = r\"C:\\Users\\Public\\random_sast\\cd_diagram\"\n",
    "sys.path.append(file_path)\n",
    "\n",
    "\n",
    "file_path = os.path.dirname(os.getcwd())+\"/cd_diagram\"\n",
    "#file_path = r\"C:\\Users\\Public\\random_sast\\sast\"\n",
    "sys.path.append(file_path)\n",
    "\n",
    "file_path = os.getcwd()+\"\\cd_diagram\"\n",
    "#file_path = r\"C:\\Users\\Public\\random_sast\\sast\"\n",
    "sys.path.append(file_path)\n",
    "\n",
    "file_path = os.getcwd()+\"/cd_diagram\"\n",
    "#file_path = r\"C:\\Users\\Public\\random_sast\\sast\"\n",
    "sys.path.append(file_path)\n",
    "\n",
    "sys.path\n"
   ]
  },
  {
   "attachments": {},
   "cell_type": "markdown",
   "metadata": {},
   "source": [
    "### Overall analysis"
   ]
  },
  {
   "cell_type": "code",
   "execution_count": 18,
   "metadata": {},
   "outputs": [],
   "source": [
    "import time \n",
    "import os \n",
    "import gc\n",
    "import numpy as np\n",
    "\n",
    "import sys\n",
    "sys.path.append(os.path.abspath(\".\"))\n",
    "\n",
    "from utils_sast import *\n",
    "from sast import *\n",
    "\n",
    "from sklearn.linear_model import RidgeClassifierCV\n",
    "\n",
    "from sast import from_2d_array_to_nested\n",
    "from sktime.classification.kernel_based import RocketClassifier\n",
    "#from sktime.transformations.panel.shapelets import *\n",
    "\n",
    "from sktime.datasets import load_UCR_UEA_dataset\n",
    "from matplotlib.ticker import FuncFormatter\n",
    "from convst.classifiers import R_DST_Ridge\n"
   ]
  },
  {
   "cell_type": "code",
   "execution_count": 19,
   "metadata": {},
   "outputs": [
    {
     "name": "stdout",
     "output_type": "stream",
     "text": [
      "--series_length: 2^4\n",
      "RSAST ACF&PACF: n_random_points=10 nb_inst_per_class=10\n",
      "Truncated to:10000\n",
      "total kernels:349\n",
      "ROCKET: kernels=10_000\n"
     ]
    },
    {
     "name": "stderr",
     "output_type": "stream",
     "text": [
      "c:\\Users\\Nicolas R\\random_sast/sast\\sast.py:494: VisibleDeprecationWarning: Creating an ndarray from ragged nested sequences (which is a list-or-tuple of lists-or-tuples-or ndarrays with different lengths or shapes) is deprecated. If you meant to do this, you must specify 'dtype=object' when creating the ndarray.\n",
      "  self.kernel_orig_ = self.random_state.permutation(self.kernel_orig_)[:self.n_shapelet_samples]\n",
      "<__array_function__ internals>:5: VisibleDeprecationWarning: Creating an ndarray from ragged nested sequences (which is a list-or-tuple of lists-or-tuples-or ndarrays with different lengths or shapes) is deprecated. If you meant to do this, you must specify 'dtype=object' when creating the ndarray.\n"
     ]
    },
    {
     "name": "stdout",
     "output_type": "stream",
     "text": [
      "RDST: n_shapelets=10_000\n",
      "--series_length: 2^5\n",
      "RSAST ACF&PACF: n_random_points=10 nb_inst_per_class=10\n",
      "Truncated to:10000\n",
      "total kernels:500\n"
     ]
    },
    {
     "name": "stderr",
     "output_type": "stream",
     "text": [
      "c:\\Users\\Nicolas R\\random_sast/sast\\sast.py:494: VisibleDeprecationWarning: Creating an ndarray from ragged nested sequences (which is a list-or-tuple of lists-or-tuples-or ndarrays with different lengths or shapes) is deprecated. If you meant to do this, you must specify 'dtype=object' when creating the ndarray.\n",
      "  self.kernel_orig_ = self.random_state.permutation(self.kernel_orig_)[:self.n_shapelet_samples]\n",
      "<__array_function__ internals>:5: VisibleDeprecationWarning: Creating an ndarray from ragged nested sequences (which is a list-or-tuple of lists-or-tuples-or ndarrays with different lengths or shapes) is deprecated. If you meant to do this, you must specify 'dtype=object' when creating the ndarray.\n"
     ]
    },
    {
     "name": "stdout",
     "output_type": "stream",
     "text": [
      "ROCKET: kernels=10_000\n",
      "RDST: n_shapelets=10_000\n",
      "--series_length: 2^6\n",
      "RSAST ACF&PACF: n_random_points=10 nb_inst_per_class=10\n",
      "Truncated to:10000\n",
      "total kernels:1980\n"
     ]
    },
    {
     "name": "stderr",
     "output_type": "stream",
     "text": [
      "c:\\Users\\Nicolas R\\random_sast/sast\\sast.py:494: VisibleDeprecationWarning: Creating an ndarray from ragged nested sequences (which is a list-or-tuple of lists-or-tuples-or ndarrays with different lengths or shapes) is deprecated. If you meant to do this, you must specify 'dtype=object' when creating the ndarray.\n",
      "  self.kernel_orig_ = self.random_state.permutation(self.kernel_orig_)[:self.n_shapelet_samples]\n",
      "<__array_function__ internals>:5: VisibleDeprecationWarning: Creating an ndarray from ragged nested sequences (which is a list-or-tuple of lists-or-tuples-or ndarrays with different lengths or shapes) is deprecated. If you meant to do this, you must specify 'dtype=object' when creating the ndarray.\n"
     ]
    },
    {
     "name": "stdout",
     "output_type": "stream",
     "text": [
      "ROCKET: kernels=10_000\n",
      "RDST: n_shapelets=10_000\n",
      "--series_length: 2^7\n",
      "RSAST ACF&PACF: n_random_points=10 nb_inst_per_class=10\n",
      "Truncated to:10000\n",
      "total kernels:6128\n"
     ]
    },
    {
     "name": "stderr",
     "output_type": "stream",
     "text": [
      "c:\\Users\\Nicolas R\\random_sast/sast\\sast.py:494: VisibleDeprecationWarning: Creating an ndarray from ragged nested sequences (which is a list-or-tuple of lists-or-tuples-or ndarrays with different lengths or shapes) is deprecated. If you meant to do this, you must specify 'dtype=object' when creating the ndarray.\n",
      "  self.kernel_orig_ = self.random_state.permutation(self.kernel_orig_)[:self.n_shapelet_samples]\n",
      "<__array_function__ internals>:5: VisibleDeprecationWarning: Creating an ndarray from ragged nested sequences (which is a list-or-tuple of lists-or-tuples-or ndarrays with different lengths or shapes) is deprecated. If you meant to do this, you must specify 'dtype=object' when creating the ndarray.\n"
     ]
    },
    {
     "name": "stdout",
     "output_type": "stream",
     "text": [
      "ROCKET: kernels=10_000\n",
      "RDST: n_shapelets=10_000\n",
      "--series_length: 2^8\n",
      "RSAST ACF&PACF: n_random_points=10 nb_inst_per_class=10\n",
      "Truncated to:10000\n",
      "total kernels:7690\n"
     ]
    },
    {
     "name": "stderr",
     "output_type": "stream",
     "text": [
      "c:\\Users\\Nicolas R\\random_sast/sast\\sast.py:494: VisibleDeprecationWarning: Creating an ndarray from ragged nested sequences (which is a list-or-tuple of lists-or-tuples-or ndarrays with different lengths or shapes) is deprecated. If you meant to do this, you must specify 'dtype=object' when creating the ndarray.\n",
      "  self.kernel_orig_ = self.random_state.permutation(self.kernel_orig_)[:self.n_shapelet_samples]\n",
      "<__array_function__ internals>:5: VisibleDeprecationWarning: Creating an ndarray from ragged nested sequences (which is a list-or-tuple of lists-or-tuples-or ndarrays with different lengths or shapes) is deprecated. If you meant to do this, you must specify 'dtype=object' when creating the ndarray.\n"
     ]
    },
    {
     "name": "stdout",
     "output_type": "stream",
     "text": [
      "ROCKET: kernels=10_000\n",
      "RDST: n_shapelets=10_000\n",
      "--series_length: 2^9\n",
      "RSAST ACF&PACF: n_random_points=10 nb_inst_per_class=10\n",
      "Truncated to:10000\n",
      "total kernels:7120\n"
     ]
    },
    {
     "name": "stderr",
     "output_type": "stream",
     "text": [
      "c:\\Users\\Nicolas R\\random_sast/sast\\sast.py:494: VisibleDeprecationWarning: Creating an ndarray from ragged nested sequences (which is a list-or-tuple of lists-or-tuples-or ndarrays with different lengths or shapes) is deprecated. If you meant to do this, you must specify 'dtype=object' when creating the ndarray.\n",
      "  self.kernel_orig_ = self.random_state.permutation(self.kernel_orig_)[:self.n_shapelet_samples]\n",
      "<__array_function__ internals>:5: VisibleDeprecationWarning: Creating an ndarray from ragged nested sequences (which is a list-or-tuple of lists-or-tuples-or ndarrays with different lengths or shapes) is deprecated. If you meant to do this, you must specify 'dtype=object' when creating the ndarray.\n"
     ]
    },
    {
     "name": "stdout",
     "output_type": "stream",
     "text": [
      "ROCKET: kernels=10_000\n",
      "RDST: n_shapelets=10_000\n",
      "--series_length: 2^10\n",
      "RSAST ACF&PACF: n_random_points=10 nb_inst_per_class=10\n",
      "Truncated to:10000\n",
      "total kernels:10000\n"
     ]
    },
    {
     "name": "stderr",
     "output_type": "stream",
     "text": [
      "c:\\Users\\Nicolas R\\random_sast/sast\\sast.py:494: VisibleDeprecationWarning: Creating an ndarray from ragged nested sequences (which is a list-or-tuple of lists-or-tuples-or ndarrays with different lengths or shapes) is deprecated. If you meant to do this, you must specify 'dtype=object' when creating the ndarray.\n",
      "  self.kernel_orig_ = self.random_state.permutation(self.kernel_orig_)[:self.n_shapelet_samples]\n",
      "<__array_function__ internals>:5: VisibleDeprecationWarning: Creating an ndarray from ragged nested sequences (which is a list-or-tuple of lists-or-tuples-or ndarrays with different lengths or shapes) is deprecated. If you meant to do this, you must specify 'dtype=object' when creating the ndarray.\n"
     ]
    },
    {
     "name": "stdout",
     "output_type": "stream",
     "text": [
      "ROCKET: kernels=10_000\n",
      "RDST: n_shapelets=10_000\n",
      "--series_length: 2^11\n",
      "RSAST ACF&PACF: n_random_points=10 nb_inst_per_class=10\n",
      "Truncated to:10000\n",
      "total kernels:10000\n"
     ]
    },
    {
     "name": "stderr",
     "output_type": "stream",
     "text": [
      "c:\\Users\\Nicolas R\\random_sast/sast\\sast.py:494: VisibleDeprecationWarning: Creating an ndarray from ragged nested sequences (which is a list-or-tuple of lists-or-tuples-or ndarrays with different lengths or shapes) is deprecated. If you meant to do this, you must specify 'dtype=object' when creating the ndarray.\n",
      "  self.kernel_orig_ = self.random_state.permutation(self.kernel_orig_)[:self.n_shapelet_samples]\n",
      "<__array_function__ internals>:5: VisibleDeprecationWarning: Creating an ndarray from ragged nested sequences (which is a list-or-tuple of lists-or-tuples-or ndarrays with different lengths or shapes) is deprecated. If you meant to do this, you must specify 'dtype=object' when creating the ndarray.\n"
     ]
    },
    {
     "name": "stdout",
     "output_type": "stream",
     "text": [
      "ROCKET: kernels=10_000\n",
      "RDST: n_shapelets=10_000\n",
      "--series_length: 2^12\n",
      "RSAST ACF&PACF: n_random_points=10 nb_inst_per_class=10\n",
      "Truncated to:10000\n",
      "total kernels:10000\n"
     ]
    },
    {
     "name": "stderr",
     "output_type": "stream",
     "text": [
      "c:\\Users\\Nicolas R\\random_sast/sast\\sast.py:494: VisibleDeprecationWarning: Creating an ndarray from ragged nested sequences (which is a list-or-tuple of lists-or-tuples-or ndarrays with different lengths or shapes) is deprecated. If you meant to do this, you must specify 'dtype=object' when creating the ndarray.\n",
      "  self.kernel_orig_ = self.random_state.permutation(self.kernel_orig_)[:self.n_shapelet_samples]\n",
      "<__array_function__ internals>:5: VisibleDeprecationWarning: Creating an ndarray from ragged nested sequences (which is a list-or-tuple of lists-or-tuples-or ndarrays with different lengths or shapes) is deprecated. If you meant to do this, you must specify 'dtype=object' when creating the ndarray.\n"
     ]
    },
    {
     "name": "stdout",
     "output_type": "stream",
     "text": [
      "ROCKET: kernels=10_000\n",
      "RDST: n_shapelets=10_000\n",
      "--series_length: 2^13\n",
      "RSAST ACF&PACF: n_random_points=10 nb_inst_per_class=10\n",
      "Truncated to:10000\n",
      "total kernels:10000\n"
     ]
    },
    {
     "name": "stderr",
     "output_type": "stream",
     "text": [
      "c:\\Users\\Nicolas R\\random_sast/sast\\sast.py:494: VisibleDeprecationWarning: Creating an ndarray from ragged nested sequences (which is a list-or-tuple of lists-or-tuples-or ndarrays with different lengths or shapes) is deprecated. If you meant to do this, you must specify 'dtype=object' when creating the ndarray.\n",
      "  self.kernel_orig_ = self.random_state.permutation(self.kernel_orig_)[:self.n_shapelet_samples]\n",
      "<__array_function__ internals>:5: VisibleDeprecationWarning: Creating an ndarray from ragged nested sequences (which is a list-or-tuple of lists-or-tuples-or ndarrays with different lengths or shapes) is deprecated. If you meant to do this, you must specify 'dtype=object' when creating the ndarray.\n"
     ]
    },
    {
     "name": "stdout",
     "output_type": "stream",
     "text": [
      "ROCKET: kernels=10_000\n",
      "RDST: n_shapelets=10_000\n",
      "--series_length: 2^14\n",
      "RSAST ACF&PACF: n_random_points=10 nb_inst_per_class=10\n",
      "Truncated to:10000\n",
      "total kernels:10000\n"
     ]
    },
    {
     "name": "stderr",
     "output_type": "stream",
     "text": [
      "c:\\Users\\Nicolas R\\random_sast/sast\\sast.py:494: VisibleDeprecationWarning: Creating an ndarray from ragged nested sequences (which is a list-or-tuple of lists-or-tuples-or ndarrays with different lengths or shapes) is deprecated. If you meant to do this, you must specify 'dtype=object' when creating the ndarray.\n",
      "  self.kernel_orig_ = self.random_state.permutation(self.kernel_orig_)[:self.n_shapelet_samples]\n",
      "<__array_function__ internals>:5: VisibleDeprecationWarning: Creating an ndarray from ragged nested sequences (which is a list-or-tuple of lists-or-tuples-or ndarrays with different lengths or shapes) is deprecated. If you meant to do this, you must specify 'dtype=object' when creating the ndarray.\n"
     ]
    },
    {
     "name": "stdout",
     "output_type": "stream",
     "text": [
      "ROCKET: kernels=10_000\n",
      "RDST: n_shapelets=10_000\n",
      "--series_length: 2^15\n",
      "RSAST ACF&PACF: n_random_points=10 nb_inst_per_class=10\n",
      "Truncated to:10000\n",
      "total kernels:10000\n"
     ]
    },
    {
     "name": "stderr",
     "output_type": "stream",
     "text": [
      "c:\\Users\\Nicolas R\\random_sast/sast\\sast.py:494: VisibleDeprecationWarning: Creating an ndarray from ragged nested sequences (which is a list-or-tuple of lists-or-tuples-or ndarrays with different lengths or shapes) is deprecated. If you meant to do this, you must specify 'dtype=object' when creating the ndarray.\n",
      "  self.kernel_orig_ = self.random_state.permutation(self.kernel_orig_)[:self.n_shapelet_samples]\n",
      "<__array_function__ internals>:5: VisibleDeprecationWarning: Creating an ndarray from ragged nested sequences (which is a list-or-tuple of lists-or-tuples-or ndarrays with different lengths or shapes) is deprecated. If you meant to do this, you must specify 'dtype=object' when creating the ndarray.\n"
     ]
    },
    {
     "name": "stdout",
     "output_type": "stream",
     "text": [
      "ROCKET: kernels=10_000\n",
      "RDST: n_shapelets=10_000\n",
      "--All done\n"
     ]
    }
   ],
   "source": [
    "\n",
    "\n",
    "dataset_folder = '/home/local.isima.fr/mimbouop/Univariate_arff' # the folder containing the datasets\n",
    "ds = 'HouseTwenty' # the dataset to use\n",
    "\n",
    "\n",
    "\n",
    "#max_exponent = 10 # go up to series of length 2^max_exponent\n",
    "max_exponent = 15 # go up to series of length 2^max_exponent\n",
    "\n",
    "\n",
    "X_train_all, y_train = load_UCR_UEA_dataset(name=ds, extract_path='data', split=\"train\", return_type=\"numpy2d\")\n",
    "X_test_all, y_test_all = load_UCR_UEA_dataset(name=ds, extract_path='data', split=\"test\", return_type=\"numpy2d\")\n",
    "    \n",
    "# fill na\n",
    "#train_ds.fillna(0, axis=1, inplace=True)\n",
    "#test_ds.fillna(0, axis=1, inplace=True)\n",
    "\n",
    "#X_train_all, y_train = format_dataset(train_ds, shuffle=True)\n",
    "#X_test_all, y_test_all = format_dataset(test_ds)\n",
    "\n",
    "df_result = {}\n",
    "list_score = []\n",
    "list_time_fit = []\n",
    "list_time_test = []\n",
    "list_dataset = []\n",
    "list_hyperparameter = []\n",
    "list_method = []\n",
    "list_rpoint = []\n",
    "list_nb_per_class = []\n",
    "list_series_length = []\n",
    "list_exp_length = []\n",
    "\n",
    "for i in range(4, max_exponent+1):\n",
    "\n",
    "    series_length = 2**i\n",
    "\n",
    "    X_train = X_train_all[:,:series_length]\n",
    "    X_test = X_test_all[:X_train.shape[0], :series_length]\n",
    "    y_test = y_test_all[:X_train.shape[0]]\n",
    "\n",
    "    max_shp_length = X_train.shape[1]\n",
    "\n",
    "    \n",
    "\n",
    "    print(\"--series_length: 2^\"+str(i))\n",
    "    \"\"\"   \n",
    "    p=30\n",
    "    k=1\n",
    "    print(\"RSAST ACF&PACF: n_random_points=\"+str(p)+\" nb_inst_per_class=\"+str(k))\n",
    "    clf = RidgeClassifierCV(alphas=np.logspace(-3, 3, 10))\n",
    "    start = time.time()\n",
    "    random_state = None\n",
    "    rsast_ridge = RSAST(n_random_points=p,nb_inst_per_class=k, len_method=\"both\", classifier=clf)\n",
    "    rsast_ridge.fit(X_train, y_train)\n",
    "    end = time.time()\n",
    "    time_fit=end-start\n",
    "\n",
    "    start = time.time()\n",
    "    score=rsast_ridge.score(X_test, y_test) \n",
    "    end = time.time()\n",
    "    time_test=end-start\n",
    "\n",
    "    list_score.append(score)\n",
    "    list_time_fit.append(time_fit)\n",
    "    list_time_test.append(time_test)\n",
    "\n",
    "\n",
    "    list_dataset.append(ds)\n",
    "    list_hyperparameter.append(\"ACF&PACF: n_random_points=\"+str(p)+\" nb_inst_per_class=\"+str(k))\n",
    "    list_rpoint.append(str(p))\n",
    "    list_nb_per_class.append(str(k))\n",
    "    list_method.append(\"RSAST ACF&PACF\")\n",
    "    list_series_length.append(series_length)\n",
    "    list_exp_length.append(str(i))\n",
    "    \"\"\"\n",
    "    p=10\n",
    "    k=10\n",
    "    print(\"RSAST ACF&PACF: n_random_points=\"+str(p)+\" nb_inst_per_class=\"+str(k))\n",
    "    clf = RidgeClassifierCV(alphas=np.logspace(-3, 3, 10))\n",
    "    start = time.time()\n",
    "    random_state = None\n",
    "    rsast_ridge = RSAST(n_random_points=p,nb_inst_per_class=k, len_method=\"both\", classifier=clf,n_shapelet_samples=10000)\n",
    "    rsast_ridge.fit(X_train, y_train)\n",
    "    end = time.time()\n",
    "\n",
    "    time_fit=end-start\n",
    "\n",
    "    start = time.time()\n",
    "    score=rsast_ridge.score(X_test, y_test) \n",
    "    end = time.time()\n",
    "    time_test=end-start\n",
    "\n",
    "    list_score.append(score)\n",
    "    list_time_fit.append(time_fit)\n",
    "    list_time_test.append(time_test)\n",
    "\n",
    "    list_dataset.append(ds)\n",
    "    list_hyperparameter.append(\"ACF&PACF: n_random_points=\"+str(p)+\" nb_inst_per_class=\"+str(k))\n",
    "    list_rpoint.append(str(p))\n",
    "    list_nb_per_class.append(str(k))\n",
    "    list_method.append(\"RSAST ACF&PACF\")\n",
    "    list_series_length.append(series_length)\n",
    "    list_exp_length.append(str(i))\n",
    "\n",
    "    \"\"\"\n",
    "\n",
    "    \n",
    "    p=10\n",
    "    k=10\n",
    "    print(\"RSAST All: n_random_points=\"+str(p)+\" nb_inst_per_class=\"+str(k))\n",
    "    clf = RidgeClassifierCV(alphas=np.logspace(-3, 3, 10))\n",
    "    start = time.time()\n",
    "    random_state = None\n",
    "    rsast_ridge = RSAST(n_random_points=p,nb_inst_per_class=k, len_method=\"all\", classifier=clf)\n",
    "    rsast_ridge.fit(X_train, y_train)\n",
    "    end = time.time()\n",
    "    time_fit=end-start\n",
    "\n",
    "    start = time.time()\n",
    "    score=rsast_ridge.score(X_test, y_test) \n",
    "    end = time.time()\n",
    "    time_test=end-start\n",
    "\n",
    "    list_score.append(score)\n",
    "    list_time_fit.append(time_fit)\n",
    "    list_time_test.append(time_test)\n",
    "\n",
    "    list_dataset.append(ds)\n",
    "    list_hyperparameter.append(\"All: n_random_points=\"+str(p)+\" nb_inst_per_class=\"+str(k))\n",
    "    list_rpoint.append(str(p))\n",
    "    list_nb_per_class.append(str(k))\n",
    "    list_method.append(\"RSAST All\")\n",
    "    list_series_length.append(series_length)\n",
    "    list_exp_length.append(str(i))\n",
    "    \"\"\"\n",
    "    \"\"\"\n",
    "    p=10\n",
    "    k=30\n",
    "    print(\"RSAST ACF&PACF: n_random_points=\"+str(p)+\" nb_inst_per_class=\"+str(k))\n",
    "    clf = RidgeClassifierCV(alphas=np.logspace(-3, 3, 10))\n",
    "    start = time.time()\n",
    "    \n",
    "    rsast_ridge = RSAST(n_random_points=p,nb_inst_per_class=k, len_method=\"both\", classifier=clf)\n",
    "    rsast_ridge.fit(X_train, y_train)\n",
    "    end = time.time()\n",
    "\n",
    "    time_fit=end-start\n",
    "\n",
    "    start = time.time()\n",
    "    score=rsast_ridge.score(X_test, y_test) \n",
    "    end = time.time()\n",
    "    time_test=end-start\n",
    "\n",
    "    list_score.append(score)\n",
    "    list_time_fit.append(time_fit)\n",
    "    list_time_test.append(time_test)\n",
    "\n",
    "    list_dataset.append(ds)\n",
    "    list_hyperparameter.append(\"ACF&PACF: n_random_points=\"+str(p)+\" nb_inst_per_class=\"+str(k))\n",
    "    list_rpoint.append(str(p))\n",
    "    list_nb_per_class.append(str(k))\n",
    "    list_method.append(\"RSAST ACF&PACF\")\n",
    "    list_series_length.append(series_length)\n",
    "    list_exp_length.append(str(i))\n",
    "\"\"\"\n",
    "    print(\"ROCKET: kernels=10_000\")\n",
    "\n",
    "    clf = RidgeClassifierCV(alphas=np.logspace(-3, 3, 10))\n",
    "\n",
    "    start = time.time()\n",
    "    rocket= RocketClassifier(num_kernels=10_000)\n",
    "    rocket.fit(X_train,y_train)\n",
    "\n",
    "    end = time.time()\n",
    "    time_fit=end-start\n",
    "\n",
    "    start = time.time()\n",
    "    score=rocket.score(X_test,y_test)\n",
    "    end = time.time()\n",
    "    time_test=end-start\n",
    "\n",
    "    list_score.append(score)\n",
    "    list_time_fit.append(time_fit)\n",
    "    list_time_test.append(time_test)\n",
    "\n",
    "    list_dataset.append(ds)\n",
    "    list_hyperparameter.append(\"ROCKET: num_kernels=10_000\")\n",
    "    list_rpoint.append(str(0))\n",
    "    list_nb_per_class.append(str(0))\n",
    "    list_method.append(\"Rocket\")\n",
    "    list_series_length.append(series_length)\n",
    "    list_exp_length.append(str(i))\n",
    "\n",
    "    '''\n",
    "    min_shp_length = 3\n",
    "    print(\"STC: min_shapelet_length=\"+str(min_shp_length)+\" max_shapelet_length=\"+str(np.inf))\n",
    "    \n",
    "    max_shp_length = X_train.shape[1]\n",
    "    start = time.time()\n",
    "    #Creating a ShapeletTransform and fitting\n",
    "    st = ShapeletTransform(min_shapelet_length=min_shp_length, max_shapelet_length=np.inf)\n",
    "    X_train_sktime = from_2d_array_to_nested(pd.DataFrame(X_train))\n",
    "    X_test_sktime = from_2d_array_to_nested(pd.DataFrame(X_test))\n",
    "    st.fit(X_train_sktime, y_train)\n",
    "    #Making the tranformation of time series and training a RandomForestClassifier model\n",
    "    X_test_transformed = st.transform(X_test_sktime)\n",
    "    X_train_transformed = st.transform(X_train_sktime)\n",
    "    clf = RandomForestClassifier()\n",
    "    clf.fit(X_train_transformed, y_train)\n",
    "    \n",
    "    end = time.time()\n",
    "    list_score.append(clf.score(X_test_transformed, y_test))\n",
    "    list_time.append(end-start)\n",
    "    list_dataset.append(ds)\n",
    "    list_hyperparameter.append(\"min_shapelet_length=\"+str(min_shp_length)+\" max_shapelet_length=\"+str(max_shp_length))\n",
    "    list_rpoint.append(str(0))\n",
    "    list_nb_per_class.append(str(0))\n",
    "    list_method.append(\"STC\")  \n",
    "    \n",
    "    k=1\n",
    "    \n",
    "    #candidate_lengths = np.arange(min_shp_length, max_shp_length+1)\n",
    "    clf = RidgeClassifierCV(alphas=np.logspace(-3, 3, 10))\n",
    "    min_shp_length = 3\n",
    "    max_shp_length = X_train.shape[1]\n",
    "    candidate_lengths = np.arange(3, max_shp_length)\n",
    "    min_shp_length = min(candidate_lengths)\n",
    "    max_shp_length = max(candidate_lengths)\n",
    "    print(\"SAST: min_shapelet_length=\"+str(min_shp_length)+\" max_shapelet_length=m\")\n",
    "    start = time.time()\n",
    "    \n",
    "\n",
    "    random_state = None\n",
    "    \n",
    "\n",
    "    sast_ridge = SAST(cand_length_list=candidate_lengths,\n",
    "                            nb_inst_per_class=k, \n",
    "                             classifier=clf)\n",
    "\n",
    "    sast_ridge.fit(X_train, y_train)\n",
    "    end = time.time()\n",
    "    time_fit=end-start\n",
    "\n",
    "    start = time.time()\n",
    "    score=sast_ridge.score(X_test, y_test) \n",
    "    end = time.time()\n",
    "    time_test=end-start\n",
    "\n",
    "    list_score.append(score)\n",
    "    list_time_fit.append(time_fit)\n",
    "    list_time_test.append(time_test)\n",
    "\n",
    "    list_dataset.append(ds)\n",
    "    list_hyperparameter.append(\"SAST: min_shapelet_length=\"+str(min_shp_length)+\" max_shapelet_length=m\")\n",
    "    list_rpoint.append(str(0))\n",
    "    list_nb_per_class.append(str(0))\n",
    "    list_method.append(\"SAST\")  \n",
    "    list_series_length.append(series_length)\n",
    "    list_exp_length.append(str(i))\n",
    "    '''\n",
    "    \n",
    "    print(\"RDST: n_shapelets=10_000\")\n",
    "\n",
    "    X_train_rdst=X_train[:, np.newaxis, :]\n",
    "    y_train_rdst=np.asarray([int(x_s) for x_s in y_train])\n",
    "\n",
    "    X_test_rdst=X_test[:, np.newaxis, :]\n",
    "    y_test_rdst=np.asarray([int(x_s) for x_s in y_test])\n",
    "\n",
    "    start = time.time()\n",
    "\n",
    "    rdst = R_DST_Ridge(n_shapelets=10_000)\n",
    "    rdst.fit(X_train_rdst, y_train_rdst)\n",
    "    end = time.time()\n",
    "    time_fit=end-start\n",
    "    start = time.time()\n",
    "    score=rdst.score(X_test_rdst, y_test_rdst)\n",
    "    end = time.time()\n",
    "    time_test=end-start\n",
    "    \n",
    "    list_score.append(score)\n",
    "    list_time_fit.append(time_fit)\n",
    "    list_time_test.append(time_test)\n",
    "\n",
    "    list_dataset.append(ds)\n",
    "    list_hyperparameter.append(\"RDST: n_shapelets=10_000\")\n",
    "    list_rpoint.append(str(0))\n",
    "    list_nb_per_class.append(str(0))\n",
    "    list_method.append(\"RDST\")  \n",
    "    list_series_length.append(series_length)\n",
    "    list_exp_length.append(str(i))\n",
    "\n",
    "    \n",
    "    \n",
    "\n",
    "df_result['accuracy']=list_score\n",
    "df_result['time_fit']=list_time_fit\n",
    "df_result['time_test']=list_time_test\n",
    "df_result['dataset_name']=list_dataset\n",
    "df_result['hyperparameter']=list_hyperparameter\n",
    "df_result['rpoint']=list_rpoint\n",
    "df_result['nb_per_class']=list_nb_per_class\n",
    "df_result['classifier_name']=list_method\n",
    "df_result['series_length']=list_series_length\n",
    "df_result['exp_length']=list_exp_length\n",
    "\n",
    "df_result=pd.DataFrame(df_result)\n",
    "# export a overall dataset with the comparison\n",
    "df_result.to_csv(\"results_comparison_accuracy/df_overall_comparison_scalability_series_length.csv\")\n",
    "    #  Write results\n",
    "    #result = [series_length, sast_time_fit, sast_time_test, sast_fixed_time_fit, sast_fixed_time_test, saste_time_fit, saste_time_test, saste_fixed_time_fit, saste_fixed_time_test, stc_time_fit, stc_time_test]\n",
    "    #f.write(','.join(np.array(result, dtype=np.str)) + '\\n')\n",
    "\n",
    "print('--All done')\n"
   ]
  },
  {
   "cell_type": "code",
   "execution_count": 20,
   "metadata": {},
   "outputs": [
    {
     "data": {
      "text/plain": [
       "array(['ACF&PACF: n_random_points=10 nb_inst_per_class=10',\n",
       "       'ROCKET: num_kernels=10_000', 'RDST: n_shapelets=10_000'],\n",
       "      dtype=object)"
      ]
     },
     "execution_count": 20,
     "metadata": {},
     "output_type": "execute_result"
    }
   ],
   "source": [
    "df_result=pd.read_csv(\"results_comparison_accuracy/df_overall_comparison_scalability_series_length.csv\")\n",
    "df_result[\"hyperparameter\"].unique()\n"
   ]
  },
  {
   "cell_type": "code",
   "execution_count": 21,
   "metadata": {},
   "outputs": [],
   "source": [
    "df_result=df_result[df_result[\"hyperparameter\"].isin([\"RDST: n_shapelets=10_000\",\"ACF&PACF: n_random_points=10 nb_inst_per_class=10\",'ACF&PACF: n_random_points=10 nb_inst_per_class=30','ACF&PACF: n_random_points=30 nb_inst_per_class=1',\"ROCKET: num_kernels=10_000\"])]\n"
   ]
  },
  {
   "cell_type": "code",
   "execution_count": 22,
   "metadata": {},
   "outputs": [
    {
     "data": {
      "image/png": "[encoded data removed]",
      "text/plain": [
       "<Figure size 640x480 with 1 Axes>"
      ]
     },
     "metadata": {},
     "output_type": "display_data"
    }
   ],
   "source": [
    "\n",
    "df_result[\"log_series_length\"]=np.log2(df_result[\"series_length\"])\n",
    "#df_result=df_result[df_result[\"log_series_length\"].isin([5,6,7,8,9,10])]\n",
    "df_result.pivot_table(values=\"time_fit\", index=\"log_series_length\", columns=\"hyperparameter\").plot.line(grid=True, xlabel=\"Series Length TS\", ylabel=\"Training Time in seconds\")\n",
    "\n",
    "\n",
    "#place legend in center right of plot\n",
    "plt.legend(bbox_to_anchor=(0.5, -0.15), loc='upper center')\n",
    "\n",
    "# Define the custom formatter function\n",
    "def exponent_of_2(x, pos):\n",
    "    return r'$2^{{{}}}$'.format(int(x))\n",
    "\n",
    "\n",
    "\n",
    "# Set the x-axis formatter as the custom formatter function\n",
    "plt.gca().xaxis.set_major_formatter(FuncFormatter(exponent_of_2))"
   ]
  }
 ],
 "metadata": {
  "kernelspec": {
   "display_name": "rsast_env",
   "language": "python",
   "name": "python3"
  },
  "language_info": {
   "codemirror_mode": {
    "name": "ipython",
    "version": 3
   },
   "file_extension": ".py",
   "mimetype": "text/x-python",
   "name": "python",
   "nbconvert_exporter": "python",
   "pygments_lexer": "ipython3",
   "version": "3.9.13"
  },
  "vscode": {
   "interpreter": {
    "hash": "15558ed87e778df9776c3e85b8e1a3f1f5adbf230fcca0229423f99909b60d27"
   }
  }
 },
 "nbformat": 4,
 "nbformat_minor": 2
}
