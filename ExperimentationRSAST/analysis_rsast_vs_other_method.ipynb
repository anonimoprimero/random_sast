{
 "cells": [
  {
   "attachments": {},
   "cell_type": "markdown",
   "metadata": {},
   "source": [
    "## Experiments: Comparing RSAST with other methods"
   ]
  },
  {
   "cell_type": "code",
   "execution_count": 73,
   "metadata": {},
   "outputs": [],
   "source": [
    "#configure directory to import sast libraries\n",
    "import sys \n",
    "import os \n",
    "#add sast library path\n",
    "file_path = os.path.expanduser(\"~/random_sast/sast\")\n",
    "sys.path.append(file_path)\n",
    "#add cd_diagram library path\n",
    "file_path = os.path.expanduser(\"~/random_sast/cd_diagram\")\n",
    "sys.path.append(file_path)\n",
    "\n",
    "#sys.path"
   ]
  },
  {
   "cell_type": "code",
   "execution_count": 74,
   "metadata": {},
   "outputs": [],
   "source": [
    "from sast import *\n",
    "from sktime.datasets import load_UCR_UEA_dataset, tsc_dataset_names\n",
    "from sktime.classification.kernel_based import RocketClassifier\n",
    "import time\n",
    "import pandas as pd\n",
    "from sktime.transformations.panel.shapelet_transform import ShapeletTransform\n",
    "import matplotlib.pyplot as plt\n",
    "import os\n",
    "\n",
    "hyperparameter='ACF&PACF: n_random_points= (lenthg ts)//2 nb_inst_per_class=100'"
   ]
  },
  {
   "attachments": {},
   "cell_type": "markdown",
   "metadata": {},
   "source": [
    "### Reading Datasets"
   ]
  },
  {
   "cell_type": "code",
   "execution_count": 75,
   "metadata": {},
   "outputs": [],
   "source": [
    "# Set directory where the csv files are located\n",
    "directory = os.getcwd()+'/ResultsByClassifier'\n",
    "\n",
    "# Create an empty list to store the dataframes\n",
    "dfs = []\n",
    "\n",
    "# Loop through all files in the directory\n",
    "for filename in os.listdir(directory):\n",
    "    # Check if the file starts with \"df_overall_tunning\" and ends with \".csv\"\n",
    "    if filename.endswith(\".csv\"):\n",
    "        # Read the csv file into a dataframe\n",
    "        filepath = os.path.join(directory, filename)\n",
    "        df = pd.read_csv(filepath)\n",
    "\n",
    "        # Append the dataframe to the list\n",
    "        df['filename']=filename\n",
    "        dfs.append(df)\n",
    "\n",
    "# Concatenate all the dataframes in the list into one dataframe\n",
    "df_other_methods = pd.concat(dfs, ignore_index=True)\n",
    "df_other_methods=df_other_methods[['filename','folds:','0']]\n",
    "df_other_methods['method']=df_other_methods['filename'].str.split('_').str[0]\n",
    "df_other_methods\n",
    "df_other_methods=df_other_methods.rename(columns={'folds:':'dataset','0':'score'})\n",
    "df_other_methods=df_other_methods[['dataset','score','method']]\n",
    "\n"
   ]
  },
  {
   "cell_type": "code",
   "execution_count": 76,
   "metadata": {},
   "outputs": [
    {
     "data": {
      "text/plain": [
       "array(['SAST', 'ROCKET', 'HIVE-COTEv1', 'BOSS', 'RISE', 'TSF',\n",
       "       'InceptionTime', 'TS-CHIEF', 'S-BOSS', 'STC', 'ResNet',\n",
       "       'ProximityForest', 'WEASEL', 'Catch22', 'cBOSS'], dtype=object)"
      ]
     },
     "execution_count": 76,
     "metadata": {},
     "output_type": "execute_result"
    }
   ],
   "source": [
    "df_other_methods['method'].unique()"
   ]
  },
  {
   "cell_type": "code",
   "execution_count": 77,
   "metadata": {},
   "outputs": [
    {
     "data": {
      "text/plain": [
       "Index(['Unnamed: 0', 'accuracy', 'time', 'cweights_time', 'fsubsequence_time',\n",
       "       'tdataset_time', 'tclassifier_time', 'dataset_name', 'classifier_name',\n",
       "       'rpoint', 'nb_per_class', 'method', 'len_method'],\n",
       "      dtype='object')"
      ]
     },
     "execution_count": 77,
     "metadata": {},
     "output_type": "execute_result"
    }
   ],
   "source": [
    "# Set directory where the csv files are located\n",
    "directory = os.getcwd()+'/ResultsRsast'\n",
    "#directory = os.getcwd()+'/results_accuracy_per_ds'\n",
    "\n",
    "# Create an empty list to store the dataframes\n",
    "dfs = []\n",
    "\n",
    "# Loop through all files in the directory\n",
    "for filename in os.listdir(directory):\n",
    "    # Check if the file starts with \"df_overall_tunning\" and ends with \".csv\"\n",
    "    if filename.startswith(\"df_overall_tunning\") and filename.endswith(\".csv\"):\n",
    "        # Read the csv file into a dataframe\n",
    "        filepath = os.path.join(directory, filename)\n",
    "        df = pd.read_csv(filepath)\n",
    "        df['rpoint']=df['rpoint'].astype(str)\n",
    "        df['nb_per_class']=df['nb_per_class'].astype(str)\n",
    "        \n",
    "        # Append the dataframe to the list\n",
    "        dfs.append(df)\n",
    "\n",
    "# Concatenate all the dataframes in the list into one dataframe\n",
    "df_result = pd.concat(dfs, ignore_index=True)\n",
    "df_result.columns"
   ]
  },
  {
   "cell_type": "code",
   "execution_count": 78,
   "metadata": {},
   "outputs": [
    {
     "data": {
      "text/plain": [
       "array(['Chinatown', 'SmoothSubspace', 'SonyAIBORobotSurface2',\n",
       "       'ItalyPowerDemand', 'GunPoint', 'Coffee', 'SonyAIBORobotSurface1',\n",
       "       'DistalPhalanxOutlineCorrect'], dtype=object)"
      ]
     },
     "execution_count": 78,
     "metadata": {},
     "output_type": "execute_result"
    }
   ],
   "source": [
    "df_result=df_result[['accuracy','dataset_name','classifier_name','time']]\n",
    "\n",
    "df_result=df_result[df_result[\"classifier_name\"]==hyperparameter]\n",
    "df_result.dataset_name.unique()\n"
   ]
  },
  {
   "cell_type": "code",
   "execution_count": 79,
   "metadata": {},
   "outputs": [
    {
     "data": {
      "text/plain": [
       "Index(['dataset_name', 'accuracy', 'classifier_name'], dtype='object')"
      ]
     },
     "execution_count": 79,
     "metadata": {},
     "output_type": "execute_result"
    }
   ],
   "source": [
    "\n",
    "df_other_methods=df_other_methods.rename(columns={\"dataset\":\"dataset_name\",\"score\":\"accuracy\",\"method\":\"classifier_name\"})\n",
    "df_other_methods = df_other_methods[df_other_methods['dataset_name'].isin(df_result.dataset_name.values)]\n",
    "df_other_methods.columns"
   ]
  },
  {
   "cell_type": "code",
   "execution_count": 80,
   "metadata": {},
   "outputs": [],
   "source": [
    "# concatenate the two dataframes\n",
    "concatenated_df = pd.concat([df_other_methods, df_result])\n",
    "\n",
    "# reset the index of the concatenated dataframe\n",
    "concatenated_df = concatenated_df.reset_index(drop=True)\n"
   ]
  },
  {
   "cell_type": "code",
   "execution_count": 81,
   "metadata": {},
   "outputs": [
    {
     "data": {
      "text/plain": [
       "array(['SAST', 'ROCKET', 'HIVE-COTEv1', 'BOSS', 'RISE', 'TSF',\n",
       "       'InceptionTime', 'TS-CHIEF', 'S-BOSS', 'STC', 'ResNet',\n",
       "       'ProximityForest', 'WEASEL', 'Catch22', 'cBOSS',\n",
       "       'ACF&PACF: n_random_points= (lenthg ts)//2 nb_inst_per_class=100'],\n",
       "      dtype=object)"
      ]
     },
     "execution_count": 81,
     "metadata": {},
     "output_type": "execute_result"
    }
   ],
   "source": [
    "concatenated_df['classifier_name'].unique()"
   ]
  },
  {
   "attachments": {},
   "cell_type": "markdown",
   "metadata": {},
   "source": [
    "### Overall analysis"
   ]
  },
  {
   "attachments": {},
   "cell_type": "markdown",
   "metadata": {},
   "source": [
    "#### Accuracy: RSAST vs Other methods"
   ]
  },
  {
   "cell_type": "code",
   "execution_count": 82,
   "metadata": {},
   "outputs": [],
   "source": [
    "# create a pivot table with the mean of score by hyperparameter\n",
    "score_by_method=pd.pivot_table(concatenated_df, values='accuracy', index=['classifier_name'],columns=['dataset_name'], aggfunc='mean')\n",
    "\n"
   ]
  },
  {
   "cell_type": "code",
   "execution_count": 83,
   "metadata": {},
   "outputs": [
    {
     "data": {
      "text/html": [
       "<div>\n",
       "<style scoped>\n",
       "    .dataframe tbody tr th:only-of-type {\n",
       "        vertical-align: middle;\n",
       "    }\n",
       "\n",
       "    .dataframe tbody tr th {\n",
       "        vertical-align: top;\n",
       "    }\n",
       "\n",
       "    .dataframe thead th {\n",
       "        text-align: right;\n",
       "    }\n",
       "</style>\n",
       "<table border=\"1\" class=\"dataframe\">\n",
       "  <thead>\n",
       "    <tr style=\"text-align: right;\">\n",
       "      <th>classifier_name</th>\n",
       "      <th>ACF&amp;PACF: n_random_points= (lenthg ts)//2 nb_inst_per_class=100</th>\n",
       "      <th>BOSS</th>\n",
       "      <th>Catch22</th>\n",
       "      <th>HIVE-COTEv1</th>\n",
       "      <th>InceptionTime</th>\n",
       "      <th>ProximityForest</th>\n",
       "      <th>RISE</th>\n",
       "      <th>ROCKET</th>\n",
       "      <th>ResNet</th>\n",
       "      <th>S-BOSS</th>\n",
       "      <th>SAST</th>\n",
       "      <th>STC</th>\n",
       "      <th>TS-CHIEF</th>\n",
       "      <th>TSF</th>\n",
       "      <th>WEASEL</th>\n",
       "      <th>cBOSS</th>\n",
       "    </tr>\n",
       "    <tr>\n",
       "      <th>dataset_name</th>\n",
       "      <th></th>\n",
       "      <th></th>\n",
       "      <th></th>\n",
       "      <th></th>\n",
       "      <th></th>\n",
       "      <th></th>\n",
       "      <th></th>\n",
       "      <th></th>\n",
       "      <th></th>\n",
       "      <th></th>\n",
       "      <th></th>\n",
       "      <th></th>\n",
       "      <th></th>\n",
       "      <th></th>\n",
       "      <th></th>\n",
       "      <th></th>\n",
       "    </tr>\n",
       "  </thead>\n",
       "  <tbody>\n",
       "    <tr>\n",
       "      <th>Chinatown</th>\n",
       "      <td>0.979592</td>\n",
       "      <td>0.766764</td>\n",
       "      <td>0.930435</td>\n",
       "      <td>0.979592</td>\n",
       "      <td>0.988338</td>\n",
       "      <td>0.971014</td>\n",
       "      <td>0.959184</td>\n",
       "      <td>0.982507</td>\n",
       "      <td>0.976812</td>\n",
       "      <td>0.784257</td>\n",
       "      <td>0.96</td>\n",
       "      <td>0.967930</td>\n",
       "      <td>0.968116</td>\n",
       "      <td>0.982507</td>\n",
       "      <td>0.956268</td>\n",
       "      <td>0.950725</td>\n",
       "    </tr>\n",
       "    <tr>\n",
       "      <th>Coffee</th>\n",
       "      <td>1.000000</td>\n",
       "      <td>1.000000</td>\n",
       "      <td>1.000000</td>\n",
       "      <td>1.000000</td>\n",
       "      <td>1.000000</td>\n",
       "      <td>1.000000</td>\n",
       "      <td>1.000000</td>\n",
       "      <td>1.000000</td>\n",
       "      <td>1.000000</td>\n",
       "      <td>1.000000</td>\n",
       "      <td>1.00</td>\n",
       "      <td>1.000000</td>\n",
       "      <td>1.000000</td>\n",
       "      <td>1.000000</td>\n",
       "      <td>1.000000</td>\n",
       "      <td>1.000000</td>\n",
       "    </tr>\n",
       "    <tr>\n",
       "      <th>DistalPhalanxOutlineCorrect</th>\n",
       "      <td>0.735507</td>\n",
       "      <td>0.739130</td>\n",
       "      <td>0.800725</td>\n",
       "      <td>0.778986</td>\n",
       "      <td>0.793478</td>\n",
       "      <td>0.804348</td>\n",
       "      <td>0.775362</td>\n",
       "      <td>0.771739</td>\n",
       "      <td>0.764493</td>\n",
       "      <td>0.739130</td>\n",
       "      <td>0.74</td>\n",
       "      <td>0.771739</td>\n",
       "      <td>0.757246</td>\n",
       "      <td>0.764493</td>\n",
       "      <td>0.775362</td>\n",
       "      <td>0.731884</td>\n",
       "    </tr>\n",
       "    <tr>\n",
       "      <th>GunPoint</th>\n",
       "      <td>0.984444</td>\n",
       "      <td>1.000000</td>\n",
       "      <td>0.946667</td>\n",
       "      <td>0.993333</td>\n",
       "      <td>1.000000</td>\n",
       "      <td>1.000000</td>\n",
       "      <td>0.980000</td>\n",
       "      <td>1.000000</td>\n",
       "      <td>0.993333</td>\n",
       "      <td>1.000000</td>\n",
       "      <td>0.97</td>\n",
       "      <td>0.993333</td>\n",
       "      <td>1.000000</td>\n",
       "      <td>0.960000</td>\n",
       "      <td>1.000000</td>\n",
       "      <td>1.000000</td>\n",
       "    </tr>\n",
       "    <tr>\n",
       "      <th>ItalyPowerDemand</th>\n",
       "      <td>0.949142</td>\n",
       "      <td>0.908649</td>\n",
       "      <td>0.896016</td>\n",
       "      <td>0.962099</td>\n",
       "      <td>0.965986</td>\n",
       "      <td>0.965986</td>\n",
       "      <td>0.953353</td>\n",
       "      <td>0.968902</td>\n",
       "      <td>0.965015</td>\n",
       "      <td>0.908649</td>\n",
       "      <td>0.96</td>\n",
       "      <td>0.955296</td>\n",
       "      <td>0.965015</td>\n",
       "      <td>0.966958</td>\n",
       "      <td>0.955296</td>\n",
       "      <td>0.923226</td>\n",
       "    </tr>\n",
       "    <tr>\n",
       "      <th>SmoothSubspace</th>\n",
       "      <td>0.908889</td>\n",
       "      <td>0.393333</td>\n",
       "      <td>0.866667</td>\n",
       "      <td>0.980000</td>\n",
       "      <td>0.986667</td>\n",
       "      <td>1.000000</td>\n",
       "      <td>0.873333</td>\n",
       "      <td>0.980000</td>\n",
       "      <td>1.000000</td>\n",
       "      <td>0.393333</td>\n",
       "      <td>0.91</td>\n",
       "      <td>0.933333</td>\n",
       "      <td>1.000000</td>\n",
       "      <td>0.986667</td>\n",
       "      <td>0.833333</td>\n",
       "      <td>0.520000</td>\n",
       "    </tr>\n",
       "    <tr>\n",
       "      <th>SonyAIBORobotSurface1</th>\n",
       "      <td>0.807543</td>\n",
       "      <td>0.632280</td>\n",
       "      <td>0.851913</td>\n",
       "      <td>0.753744</td>\n",
       "      <td>0.878536</td>\n",
       "      <td>0.836938</td>\n",
       "      <td>0.821963</td>\n",
       "      <td>0.921797</td>\n",
       "      <td>0.956739</td>\n",
       "      <td>0.668885</td>\n",
       "      <td>0.76</td>\n",
       "      <td>0.752080</td>\n",
       "      <td>0.831947</td>\n",
       "      <td>0.808652</td>\n",
       "      <td>0.845258</td>\n",
       "      <td>0.537438</td>\n",
       "    </tr>\n",
       "    <tr>\n",
       "      <th>SonyAIBORobotSurface2</th>\n",
       "      <td>0.912207</td>\n",
       "      <td>0.859391</td>\n",
       "      <td>0.922350</td>\n",
       "      <td>0.935992</td>\n",
       "      <td>0.951731</td>\n",
       "      <td>0.898216</td>\n",
       "      <td>0.910808</td>\n",
       "      <td>0.916055</td>\n",
       "      <td>0.973767</td>\n",
       "      <td>0.876180</td>\n",
       "      <td>0.85</td>\n",
       "      <td>0.943337</td>\n",
       "      <td>0.896118</td>\n",
       "      <td>0.834208</td>\n",
       "      <td>0.947534</td>\n",
       "      <td>0.907660</td>\n",
       "    </tr>\n",
       "  </tbody>\n",
       "</table>\n",
       "</div>"
      ],
      "text/plain": [
       "classifier_name              ACF&PACF: n_random_points= (lenthg ts)//2 nb_inst_per_class=100  \\\n",
       "dataset_name                                                                                   \n",
       "Chinatown                                                             0.979592                 \n",
       "Coffee                                                                1.000000                 \n",
       "DistalPhalanxOutlineCorrect                                           0.735507                 \n",
       "GunPoint                                                              0.984444                 \n",
       "ItalyPowerDemand                                                      0.949142                 \n",
       "SmoothSubspace                                                        0.908889                 \n",
       "SonyAIBORobotSurface1                                                 0.807543                 \n",
       "SonyAIBORobotSurface2                                                 0.912207                 \n",
       "\n",
       "classifier_name                  BOSS   Catch22  HIVE-COTEv1  InceptionTime  \\\n",
       "dataset_name                                                                  \n",
       "Chinatown                    0.766764  0.930435     0.979592       0.988338   \n",
       "Coffee                       1.000000  1.000000     1.000000       1.000000   \n",
       "DistalPhalanxOutlineCorrect  0.739130  0.800725     0.778986       0.793478   \n",
       "GunPoint                     1.000000  0.946667     0.993333       1.000000   \n",
       "ItalyPowerDemand             0.908649  0.896016     0.962099       0.965986   \n",
       "SmoothSubspace               0.393333  0.866667     0.980000       0.986667   \n",
       "SonyAIBORobotSurface1        0.632280  0.851913     0.753744       0.878536   \n",
       "SonyAIBORobotSurface2        0.859391  0.922350     0.935992       0.951731   \n",
       "\n",
       "classifier_name              ProximityForest      RISE    ROCKET    ResNet  \\\n",
       "dataset_name                                                                 \n",
       "Chinatown                           0.971014  0.959184  0.982507  0.976812   \n",
       "Coffee                              1.000000  1.000000  1.000000  1.000000   \n",
       "DistalPhalanxOutlineCorrect         0.804348  0.775362  0.771739  0.764493   \n",
       "GunPoint                            1.000000  0.980000  1.000000  0.993333   \n",
       "ItalyPowerDemand                    0.965986  0.953353  0.968902  0.965015   \n",
       "SmoothSubspace                      1.000000  0.873333  0.980000  1.000000   \n",
       "SonyAIBORobotSurface1               0.836938  0.821963  0.921797  0.956739   \n",
       "SonyAIBORobotSurface2               0.898216  0.910808  0.916055  0.973767   \n",
       "\n",
       "classifier_name                S-BOSS  SAST       STC  TS-CHIEF       TSF  \\\n",
       "dataset_name                                                                \n",
       "Chinatown                    0.784257  0.96  0.967930  0.968116  0.982507   \n",
       "Coffee                       1.000000  1.00  1.000000  1.000000  1.000000   \n",
       "DistalPhalanxOutlineCorrect  0.739130  0.74  0.771739  0.757246  0.764493   \n",
       "GunPoint                     1.000000  0.97  0.993333  1.000000  0.960000   \n",
       "ItalyPowerDemand             0.908649  0.96  0.955296  0.965015  0.966958   \n",
       "SmoothSubspace               0.393333  0.91  0.933333  1.000000  0.986667   \n",
       "SonyAIBORobotSurface1        0.668885  0.76  0.752080  0.831947  0.808652   \n",
       "SonyAIBORobotSurface2        0.876180  0.85  0.943337  0.896118  0.834208   \n",
       "\n",
       "classifier_name                WEASEL     cBOSS  \n",
       "dataset_name                                     \n",
       "Chinatown                    0.956268  0.950725  \n",
       "Coffee                       1.000000  1.000000  \n",
       "DistalPhalanxOutlineCorrect  0.775362  0.731884  \n",
       "GunPoint                     1.000000  1.000000  \n",
       "ItalyPowerDemand             0.955296  0.923226  \n",
       "SmoothSubspace               0.833333  0.520000  \n",
       "SonyAIBORobotSurface1        0.845258  0.537438  \n",
       "SonyAIBORobotSurface2        0.947534  0.907660  "
      ]
     },
     "execution_count": 83,
     "metadata": {},
     "output_type": "execute_result"
    }
   ],
   "source": [
    "t_score_by_method=score_by_method.transpose()\n",
    "t_score_by_method\n",
    "#t_score_by_method[[hyperparameter,\"STC\",\"ROCKET\"]]\n"
   ]
  },
  {
   "cell_type": "code",
   "execution_count": 84,
   "metadata": {},
   "outputs": [
    {
     "name": "stderr",
     "output_type": "stream",
     "text": [
      "/tmp/ipykernel_5379/3124073668.py:6: MatplotlibDeprecationWarning: The seaborn styles shipped by Matplotlib are deprecated since 3.6, as they no longer correspond to the styles shipped by seaborn. However, they will remain available as 'seaborn-v0_8-<style>'. Alternatively, directly use the seaborn API instead.\n",
      "  plt.style.use('seaborn')\n",
      "/tmp/ipykernel_5379/3124073668.py:6: MatplotlibDeprecationWarning: The seaborn styles shipped by Matplotlib are deprecated since 3.6, as they no longer correspond to the styles shipped by seaborn. However, they will remain available as 'seaborn-v0_8-<style>'. Alternatively, directly use the seaborn API instead.\n",
      "  plt.style.use('seaborn')\n",
      "/tmp/ipykernel_5379/3124073668.py:6: MatplotlibDeprecationWarning: The seaborn styles shipped by Matplotlib are deprecated since 3.6, as they no longer correspond to the styles shipped by seaborn. However, they will remain available as 'seaborn-v0_8-<style>'. Alternatively, directly use the seaborn API instead.\n",
      "  plt.style.use('seaborn')\n",
      "/tmp/ipykernel_5379/3124073668.py:6: MatplotlibDeprecationWarning: The seaborn styles shipped by Matplotlib are deprecated since 3.6, as they no longer correspond to the styles shipped by seaborn. However, they will remain available as 'seaborn-v0_8-<style>'. Alternatively, directly use the seaborn API instead.\n",
      "  plt.style.use('seaborn')\n",
      "/tmp/ipykernel_5379/3124073668.py:6: MatplotlibDeprecationWarning: The seaborn styles shipped by Matplotlib are deprecated since 3.6, as they no longer correspond to the styles shipped by seaborn. However, they will remain available as 'seaborn-v0_8-<style>'. Alternatively, directly use the seaborn API instead.\n",
      "  plt.style.use('seaborn')\n",
      "/tmp/ipykernel_5379/3124073668.py:6: MatplotlibDeprecationWarning: The seaborn styles shipped by Matplotlib are deprecated since 3.6, as they no longer correspond to the styles shipped by seaborn. However, they will remain available as 'seaborn-v0_8-<style>'. Alternatively, directly use the seaborn API instead.\n",
      "  plt.style.use('seaborn')\n",
      "/tmp/ipykernel_5379/3124073668.py:6: MatplotlibDeprecationWarning: The seaborn styles shipped by Matplotlib are deprecated since 3.6, as they no longer correspond to the styles shipped by seaborn. However, they will remain available as 'seaborn-v0_8-<style>'. Alternatively, directly use the seaborn API instead.\n",
      "  plt.style.use('seaborn')\n",
      "/tmp/ipykernel_5379/3124073668.py:6: MatplotlibDeprecationWarning: The seaborn styles shipped by Matplotlib are deprecated since 3.6, as they no longer correspond to the styles shipped by seaborn. However, they will remain available as 'seaborn-v0_8-<style>'. Alternatively, directly use the seaborn API instead.\n",
      "  plt.style.use('seaborn')\n",
      "/tmp/ipykernel_5379/3124073668.py:6: MatplotlibDeprecationWarning: The seaborn styles shipped by Matplotlib are deprecated since 3.6, as they no longer correspond to the styles shipped by seaborn. However, they will remain available as 'seaborn-v0_8-<style>'. Alternatively, directly use the seaborn API instead.\n",
      "  plt.style.use('seaborn')\n",
      "/tmp/ipykernel_5379/3124073668.py:6: MatplotlibDeprecationWarning: The seaborn styles shipped by Matplotlib are deprecated since 3.6, as they no longer correspond to the styles shipped by seaborn. However, they will remain available as 'seaborn-v0_8-<style>'. Alternatively, directly use the seaborn API instead.\n",
      "  plt.style.use('seaborn')\n",
      "/tmp/ipykernel_5379/3124073668.py:6: MatplotlibDeprecationWarning: The seaborn styles shipped by Matplotlib are deprecated since 3.6, as they no longer correspond to the styles shipped by seaborn. However, they will remain available as 'seaborn-v0_8-<style>'. Alternatively, directly use the seaborn API instead.\n",
      "  plt.style.use('seaborn')\n",
      "/tmp/ipykernel_5379/3124073668.py:6: MatplotlibDeprecationWarning: The seaborn styles shipped by Matplotlib are deprecated since 3.6, as they no longer correspond to the styles shipped by seaborn. However, they will remain available as 'seaborn-v0_8-<style>'. Alternatively, directly use the seaborn API instead.\n",
      "  plt.style.use('seaborn')\n",
      "/tmp/ipykernel_5379/3124073668.py:6: MatplotlibDeprecationWarning: The seaborn styles shipped by Matplotlib are deprecated since 3.6, as they no longer correspond to the styles shipped by seaborn. However, they will remain available as 'seaborn-v0_8-<style>'. Alternatively, directly use the seaborn API instead.\n",
      "  plt.style.use('seaborn')\n",
      "/tmp/ipykernel_5379/3124073668.py:6: MatplotlibDeprecationWarning: The seaborn styles shipped by Matplotlib are deprecated since 3.6, as they no longer correspond to the styles shipped by seaborn. However, they will remain available as 'seaborn-v0_8-<style>'. Alternatively, directly use the seaborn API instead.\n",
      "  plt.style.use('seaborn')\n",
      "/tmp/ipykernel_5379/3124073668.py:6: MatplotlibDeprecationWarning: The seaborn styles shipped by Matplotlib are deprecated since 3.6, as they no longer correspond to the styles shipped by seaborn. However, they will remain available as 'seaborn-v0_8-<style>'. Alternatively, directly use the seaborn API instead.\n",
      "  plt.style.use('seaborn')\n"
     ]
    }
   ],
   "source": [
    "for method in t_score_by_method.columns.drop(hyperparameter):\n",
    "    y=t_score_by_method[hyperparameter]\n",
    "    x=t_score_by_method[method]\n",
    "\n",
    "    # set the style of the plot\n",
    "    plt.style.use('seaborn')\n",
    "\n",
    "    # create the plot\n",
    "    fig, ax = plt.subplots(figsize=(8, 6))\n",
    "\n",
    "    # plot the line\n",
    "    ax.plot([0,1], [0,1])\n",
    "\n",
    "    # plot the points\n",
    "    ax.scatter(x, y, color='blue', edgecolor='blue', s=30, zorder=10)\n",
    "\n",
    "    # add labels and title\n",
    "    ax.set_ylabel('RSAST')\n",
    "    ax.set_xlabel(method)\n",
    "    ax.set_title('Accuracy')\n",
    "\n",
    "\n",
    "    # set the background color\n",
    "    ax.set_facecolor('lightgrey')\n",
    "    plt.savefig('images_one_vs_one_comparison/RSASTvs'+method+'.png')\n"
   ]
  },
  {
   "cell_type": "code",
   "execution_count": 85,
   "metadata": {},
   "outputs": [
    {
     "data": {
      "text/html": [
       "<div>\n",
       "<style scoped>\n",
       "    .dataframe tbody tr th:only-of-type {\n",
       "        vertical-align: middle;\n",
       "    }\n",
       "\n",
       "    .dataframe tbody tr th {\n",
       "        vertical-align: top;\n",
       "    }\n",
       "\n",
       "    .dataframe thead th {\n",
       "        text-align: right;\n",
       "    }\n",
       "</style>\n",
       "<table border=\"1\" class=\"dataframe\">\n",
       "  <thead>\n",
       "    <tr style=\"text-align: right;\">\n",
       "      <th>classifier_name</th>\n",
       "      <th>ACF&amp;PACF: n_random_points= (lenthg ts)//2 nb_inst_per_class=100</th>\n",
       "    </tr>\n",
       "    <tr>\n",
       "      <th>dataset_name</th>\n",
       "      <th></th>\n",
       "    </tr>\n",
       "  </thead>\n",
       "  <tbody>\n",
       "    <tr>\n",
       "      <th>Chinatown</th>\n",
       "      <td>0.002399</td>\n",
       "    </tr>\n",
       "    <tr>\n",
       "      <th>Coffee</th>\n",
       "      <td>8.096969</td>\n",
       "    </tr>\n",
       "    <tr>\n",
       "      <th>DistalPhalanxOutlineCorrect</th>\n",
       "      <td>21.882810</td>\n",
       "    </tr>\n",
       "    <tr>\n",
       "      <th>GunPoint</th>\n",
       "      <td>3.756236</td>\n",
       "    </tr>\n",
       "    <tr>\n",
       "      <th>ItalyPowerDemand</th>\n",
       "      <td>0.021976</td>\n",
       "    </tr>\n",
       "    <tr>\n",
       "      <th>SmoothSubspace</th>\n",
       "      <td>0.024465</td>\n",
       "    </tr>\n",
       "    <tr>\n",
       "      <th>SonyAIBORobotSurface1</th>\n",
       "      <td>0.030248</td>\n",
       "    </tr>\n",
       "    <tr>\n",
       "      <th>SonyAIBORobotSurface2</th>\n",
       "      <td>0.062513</td>\n",
       "    </tr>\n",
       "  </tbody>\n",
       "</table>\n",
       "</div>"
      ],
      "text/plain": [
       "classifier_name              ACF&PACF: n_random_points= (lenthg ts)//2 nb_inst_per_class=100\n",
       "dataset_name                                                                                \n",
       "Chinatown                                                             0.002399              \n",
       "Coffee                                                                8.096969              \n",
       "DistalPhalanxOutlineCorrect                                          21.882810              \n",
       "GunPoint                                                              3.756236              \n",
       "ItalyPowerDemand                                                      0.021976              \n",
       "SmoothSubspace                                                        0.024465              \n",
       "SonyAIBORobotSurface1                                                 0.030248              \n",
       "SonyAIBORobotSurface2                                                 0.062513              "
      ]
     },
     "execution_count": 85,
     "metadata": {},
     "output_type": "execute_result"
    }
   ],
   "source": [
    "# create a pivot table with the mean of time by hyperparameter\n",
    "time_per_method=pd.pivot_table(df_result, values='time', columns=['classifier_name'],index=['dataset_name'], aggfunc='mean')/60\n",
    "time_per_method"
   ]
  },
  {
   "cell_type": "code",
   "execution_count": 86,
   "metadata": {},
   "outputs": [
    {
     "data": {
      "text/html": [
       "<div>\n",
       "<style scoped>\n",
       "    .dataframe tbody tr th:only-of-type {\n",
       "        vertical-align: middle;\n",
       "    }\n",
       "\n",
       "    .dataframe tbody tr th {\n",
       "        vertical-align: top;\n",
       "    }\n",
       "\n",
       "    .dataframe thead th {\n",
       "        text-align: right;\n",
       "    }\n",
       "</style>\n",
       "<table border=\"1\" class=\"dataframe\">\n",
       "  <thead>\n",
       "    <tr style=\"text-align: right;\">\n",
       "      <th>dataset_name</th>\n",
       "      <th>Chinatown</th>\n",
       "      <th>GunPoint</th>\n",
       "      <th>ItalyPowerDemand</th>\n",
       "      <th>SmoothSubspace</th>\n",
       "      <th>SonyAIBORobotSurface1</th>\n",
       "      <th>SonyAIBORobotSurface2</th>\n",
       "    </tr>\n",
       "    <tr>\n",
       "      <th>classifier_name</th>\n",
       "      <th></th>\n",
       "      <th></th>\n",
       "      <th></th>\n",
       "      <th></th>\n",
       "      <th></th>\n",
       "      <th></th>\n",
       "    </tr>\n",
       "  </thead>\n",
       "  <tbody>\n",
       "    <tr>\n",
       "      <th>ACF&amp;PACF: n_random_points= (lenthg ts)//2 nb_inst_per_class=100</th>\n",
       "      <td>0.000008</td>\n",
       "      <td>0.000015</td>\n",
       "      <td>0.000032</td>\n",
       "      <td>0.000637</td>\n",
       "      <td>0.000059</td>\n",
       "      <td>0.000003</td>\n",
       "    </tr>\n",
       "  </tbody>\n",
       "</table>\n",
       "</div>"
      ],
      "text/plain": [
       "dataset_name                                        Chinatown  GunPoint  \\\n",
       "classifier_name                                                           \n",
       "ACF&PACF: n_random_points= (lenthg ts)//2 nb_in...   0.000008  0.000015   \n",
       "\n",
       "dataset_name                                        ItalyPowerDemand  \\\n",
       "classifier_name                                                        \n",
       "ACF&PACF: n_random_points= (lenthg ts)//2 nb_in...          0.000032   \n",
       "\n",
       "dataset_name                                        SmoothSubspace  \\\n",
       "classifier_name                                                      \n",
       "ACF&PACF: n_random_points= (lenthg ts)//2 nb_in...        0.000637   \n",
       "\n",
       "dataset_name                                        SonyAIBORobotSurface1  \\\n",
       "classifier_name                                                             \n",
       "ACF&PACF: n_random_points= (lenthg ts)//2 nb_in...               0.000059   \n",
       "\n",
       "dataset_name                                        SonyAIBORobotSurface2  \n",
       "classifier_name                                                            \n",
       "ACF&PACF: n_random_points= (lenthg ts)//2 nb_in...               0.000003  "
      ]
     },
     "execution_count": 86,
     "metadata": {},
     "output_type": "execute_result"
    }
   ],
   "source": [
    "# create a pivot table with the variation of score by hyperparameter\n",
    "pd.pivot_table(concatenated_df, values='accuracy', index=['classifier_name'],columns=['dataset_name'], aggfunc='var')\n"
   ]
  },
  {
   "attachments": {},
   "cell_type": "markdown",
   "metadata": {},
   "source": [
    "#### Generate CD Diagram comparison"
   ]
  },
  {
   "cell_type": "code",
   "execution_count": 87,
   "metadata": {},
   "outputs": [
    {
     "name": "stderr",
     "output_type": "stream",
     "text": [
      "/home/nirojasvar/anaconda3/envs/rsast_env/lib/python3.10/site-packages/scipy/stats/_morestats.py:3414: UserWarning: Exact p-value calculation does not work if there are zeros. Switching to normal approximation.\n",
      "  warnings.warn(\"Exact p-value calculation does not work if there are \"\n",
      "/home/nirojasvar/anaconda3/envs/rsast_env/lib/python3.10/site-packages/scipy/stats/_morestats.py:3428: UserWarning: Sample size too small for normal approximation.\n",
      "  warnings.warn(\"Sample size too small for normal approximation.\")\n"
     ]
    }
   ],
   "source": [
    "\n",
    "from cd_function import *\n",
    "df_perf=pd.pivot_table(concatenated_df, values='accuracy', index=['classifier_name','dataset_name'], aggfunc='mean')\n",
    "df_perf=df_perf.reset_index()\n",
    "draw_cd_diagram(df_perf, labels=True, title=\"Overall Comparison Other Methods\", name_file='images_cd_diagram/cd-diagram_overall_comparison_other_method.png')\n"
   ]
  },
  {
   "cell_type": "code",
   "execution_count": 88,
   "metadata": {},
   "outputs": [
    {
     "data": {
      "text/plain": [
       "array(['ACF&PACF: n_random_points= (lenthg ts)//2 nb_inst_per_class=100',\n",
       "       'BOSS', 'Catch22', 'HIVE-COTEv1', 'InceptionTime',\n",
       "       'ProximityForest', 'RISE', 'ROCKET', 'ResNet', 'S-BOSS', 'SAST',\n",
       "       'STC', 'TS-CHIEF', 'TSF', 'WEASEL', 'cBOSS'], dtype=object)"
      ]
     },
     "execution_count": 88,
     "metadata": {},
     "output_type": "execute_result"
    }
   ],
   "source": [
    "df_perf[\"classifier_name\"].unique()"
   ]
  },
  {
   "cell_type": "code",
   "execution_count": 89,
   "metadata": {},
   "outputs": [
    {
     "name": "stderr",
     "output_type": "stream",
     "text": [
      "/home/nirojasvar/anaconda3/envs/rsast_env/lib/python3.10/site-packages/scipy/stats/_morestats.py:3414: UserWarning: Exact p-value calculation does not work if there are zeros. Switching to normal approximation.\n",
      "  warnings.warn(\"Exact p-value calculation does not work if there are \"\n",
      "/home/nirojasvar/anaconda3/envs/rsast_env/lib/python3.10/site-packages/scipy/stats/_morestats.py:3428: UserWarning: Sample size too small for normal approximation.\n",
      "  warnings.warn(\"Sample size too small for normal approximation.\")\n"
     ]
    },
    {
     "data": {
      "text/html": [
       "<div>\n",
       "<style scoped>\n",
       "    .dataframe tbody tr th:only-of-type {\n",
       "        vertical-align: middle;\n",
       "    }\n",
       "\n",
       "    .dataframe tbody tr th {\n",
       "        vertical-align: top;\n",
       "    }\n",
       "\n",
       "    .dataframe thead th {\n",
       "        text-align: right;\n",
       "    }\n",
       "</style>\n",
       "<table border=\"1\" class=\"dataframe\">\n",
       "  <thead>\n",
       "    <tr style=\"text-align: right;\">\n",
       "      <th></th>\n",
       "      <th>0</th>\n",
       "    </tr>\n",
       "  </thead>\n",
       "  <tbody>\n",
       "    <tr>\n",
       "      <th>BOSS</th>\n",
       "      <td>12.6875</td>\n",
       "    </tr>\n",
       "    <tr>\n",
       "      <th>S-BOSS</th>\n",
       "      <td>12.3125</td>\n",
       "    </tr>\n",
       "    <tr>\n",
       "      <th>cBOSS</th>\n",
       "      <td>11.8750</td>\n",
       "    </tr>\n",
       "    <tr>\n",
       "      <th>SAST</th>\n",
       "      <td>10.9375</td>\n",
       "    </tr>\n",
       "    <tr>\n",
       "      <th>ACF&amp;PACF: n_random_points= (lenthg ts)//2 nb_inst_per_class=100</th>\n",
       "      <td>10.0625</td>\n",
       "    </tr>\n",
       "    <tr>\n",
       "      <th>Catch22</th>\n",
       "      <td>9.8125</td>\n",
       "    </tr>\n",
       "    <tr>\n",
       "      <th>RISE</th>\n",
       "      <td>9.6250</td>\n",
       "    </tr>\n",
       "    <tr>\n",
       "      <th>STC</th>\n",
       "      <td>8.6875</td>\n",
       "    </tr>\n",
       "    <tr>\n",
       "      <th>TSF</th>\n",
       "      <td>8.3750</td>\n",
       "    </tr>\n",
       "    <tr>\n",
       "      <th>WEASEL</th>\n",
       "      <td>7.6250</td>\n",
       "    </tr>\n",
       "    <tr>\n",
       "      <th>TS-CHIEF</th>\n",
       "      <td>7.3125</td>\n",
       "    </tr>\n",
       "    <tr>\n",
       "      <th>HIVE-COTEv1</th>\n",
       "      <td>7.1250</td>\n",
       "    </tr>\n",
       "    <tr>\n",
       "      <th>ProximityForest</th>\n",
       "      <td>5.4375</td>\n",
       "    </tr>\n",
       "    <tr>\n",
       "      <th>ResNet</th>\n",
       "      <td>5.4375</td>\n",
       "    </tr>\n",
       "    <tr>\n",
       "      <th>ROCKET</th>\n",
       "      <td>4.9375</td>\n",
       "    </tr>\n",
       "    <tr>\n",
       "      <th>InceptionTime</th>\n",
       "      <td>3.7500</td>\n",
       "    </tr>\n",
       "  </tbody>\n",
       "</table>\n",
       "</div>"
      ],
      "text/plain": [
       "                                                          0\n",
       "BOSS                                                12.6875\n",
       "S-BOSS                                              12.3125\n",
       "cBOSS                                               11.8750\n",
       "SAST                                                10.9375\n",
       "ACF&PACF: n_random_points= (lenthg ts)//2 nb_in...  10.0625\n",
       "Catch22                                              9.8125\n",
       "RISE                                                 9.6250\n",
       "STC                                                  8.6875\n",
       "TSF                                                  8.3750\n",
       "WEASEL                                               7.6250\n",
       "TS-CHIEF                                             7.3125\n",
       "HIVE-COTEv1                                          7.1250\n",
       "ProximityForest                                      5.4375\n",
       "ResNet                                               5.4375\n",
       "ROCKET                                               4.9375\n",
       "InceptionTime                                        3.7500"
      ]
     },
     "execution_count": 89,
     "metadata": {},
     "output_type": "execute_result"
    }
   ],
   "source": [
    "_, average_ranks, _ = wilcoxon_holm(df_perf=df_perf)\n",
    "min_rank= min(average_ranks)\n",
    "average_ranks=pd.DataFrame(average_ranks)\n",
    "average_ranks"
   ]
  }
 ],
 "metadata": {
  "kernelspec": {
   "display_name": "Python 3 (ipykernel)",
   "language": "python",
   "name": "python3"
  },
  "language_info": {
   "codemirror_mode": {
    "name": "ipython",
    "version": 3
   },
   "file_extension": ".py",
   "mimetype": "text/x-python",
   "name": "python",
   "nbconvert_exporter": "python",
   "pygments_lexer": "ipython3",
   "version": "3.10.9"
  },
  "vscode": {
   "interpreter": {
    "hash": "ad2bdc8ecc057115af97d19610ffacc2b4e99fae6737bb82f5d7fb13d2f2c186"
   }
  }
 },
 "nbformat": 4,
 "nbformat_minor": 2
}
